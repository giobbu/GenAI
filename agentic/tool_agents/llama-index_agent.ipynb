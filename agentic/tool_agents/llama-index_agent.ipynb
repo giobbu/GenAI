{
 "cells": [
  {
   "cell_type": "code",
   "execution_count": null,
   "id": "a6c3dc87",
   "metadata": {},
   "outputs": [],
   "source": [
    "from llama_index.core.agent.workflow import ReActAgent, FunctionAgent\n",
    "from llama_index.llms.openai import OpenAI\n",
    "from llama_index.core.workflow import Context\n",
    "import requests\n",
    "import os\n",
    "from typing import List, Union\n",
    "from dotenv import load_dotenv\n",
    "\n",
    "# Load environment variables\n",
    "load_dotenv()\n",
    "OPENAI_API_KEY = os.getenv(\"OPENAI_API_KEY\")\n",
    "\n",
    "# Constants\n",
    "DATA_API = os.getenv(\"DATA_API\")\n",
    "\n",
    "# Shared function to fetch and process holder names\n",
    "def fetch_holder_names() -> Union[List[str], str]:\n",
    "    \"\"\"Fetches 'holder_name' facets from dati.gov.it API.\"\"\"\n",
    "    response = requests.get(DATA_API)\n",
    "    if response.status_code == 200:\n",
    "        data = response.json()\n",
    "        if data.get(\"success\"):\n",
    "            return data.get(\"result\", {}).get(\"facets\", {}).get(\"holder_name\", {}).keys()\n",
    "        return \"Errore: richiesta non riuscita.\"\n",
    "    return f\"Errore HTTP: {response.status_code}\"\n",
    "\n",
    "# Filtering logic\n",
    "def filter_holder_names(data: List[str], search: str) -> List[str]:\n",
    "    \"\"\"Returns holder names containing the search string.\"\"\"\n",
    "    return [name for name in data if search.lower() in name.lower()]\n",
    "\n",
    "# Tool: get all holder names\n",
    "def dataset_tool() -> List[str]:\n",
    "    \"\"\"Tool: Retrieve all holder names.\"\"\"\n",
    "    result = fetch_holder_names()\n",
    "    return list(result) if isinstance(result, dict) else result\n",
    "\n",
    "# Tool: filter holder names\n",
    "def holder_name_tool(data: List[str], holder_name: str) -> List[str]:\n",
    "    \"\"\"Tool: Filter holder names by keyword.\"\"\"\n",
    "    return filter_holder_names(data, holder_name)\n",
    "\n",
    "# Tool: count holder names by keyword\n",
    "def sum_holder_names(data: List[str], holder_name: str) -> int:\n",
    "    \"\"\"Tool: Count holder names matching a keyword.\"\"\"\n",
    "    return len(filter_holder_names(data, holder_name))\n"
   ]
  },
  {
   "cell_type": "markdown",
   "id": "685bab90",
   "metadata": {},
   "source": [
    "## react agent"
   ]
  },
  {
   "cell_type": "code",
   "execution_count": null,
   "id": "eb6dec9e",
   "metadata": {},
   "outputs": [],
   "source": [
    "# Setup LLM and Agent\n",
    "llm = OpenAI(model=\"gpt-3.5-turbo\")\n",
    "agent = ReActAgent(\n",
    "    tools=[dataset_tool, holder_name_tool, sum_holder_names],\n",
    "    llm=llm,\n",
    "    verbose=True\n",
    ")\n",
    "ctx = Context(agent)\n",
    "\n",
    "# Run Agent\n",
    "handler = agent.run(\"Dimmi il nome di alcune università? Quali altri enti ci sono?\", ctx=ctx)"
   ]
  },
  {
   "cell_type": "markdown",
   "id": "4b2701cf",
   "metadata": {},
   "source": [
    "## function agent"
   ]
  },
  {
   "cell_type": "code",
   "execution_count": null,
   "id": "f7f0d047",
   "metadata": {},
   "outputs": [],
   "source": [
    "# Setup LLM and Agent\n",
    "llm = OpenAI(model=\"gpt-3.5-turbo\")\n",
    "agent = FunctionAgent(\n",
    "    tools=[dataset_tool, holder_name_tool, sum_holder_names],\n",
    "    llm=llm,\n",
    "    verbose=True,\n",
    "    name=\"DatiGovAgent\",\n",
    "    description=\"Agent to interact with dati.gov.it API.\"\n",
    ")\n",
    "ctx = Context(agent)\n",
    "\n",
    "# Run Agent\n",
    "handler = agent.run(\"Dimmi il nome di alcune università? Quali altri enti ci sono?\", ctx=ctx)"
   ]
  },
  {
   "cell_type": "code",
   "execution_count": null,
   "id": "848f5227",
   "metadata": {},
   "outputs": [],
   "source": [
    "from llama_index.core.agent.workflow import AgentStream\n",
    "\n",
    "async for ev in handler.stream_events():\n",
    "    if isinstance(ev, AgentStream):\n",
    "        print(f\"{ev.delta}\", end=\"\", flush=True)\n",
    "\n",
    "response = await handler"
   ]
  }
 ],
 "metadata": {
  "kernelspec": {
   "display_name": "agent",
   "language": "python",
   "name": "python3"
  },
  "language_info": {
   "codemirror_mode": {
    "name": "ipython",
    "version": 3
   },
   "file_extension": ".py",
   "mimetype": "text/x-python",
   "name": "python",
   "nbconvert_exporter": "python",
   "pygments_lexer": "ipython3",
   "version": "3.11.13"
  }
 },
 "nbformat": 4,
 "nbformat_minor": 5
}
