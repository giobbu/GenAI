{
 "cells": [
  {
   "cell_type": "code",
   "execution_count": null,
   "id": "aefc3967",
   "metadata": {},
   "outputs": [
    {
     "name": "stderr",
     "output_type": "stream",
     "text": [
      "/opt/homebrew/Caskroom/miniconda/base/envs/agent/lib/python3.11/site-packages/tqdm/auto.py:21: TqdmWarning: IProgress not found. Please update jupyter and ipywidgets. See https://ipywidgets.readthedocs.io/en/stable/user_install.html\n",
      "  from .autonotebook import tqdm as notebook_tqdm\n"
     ]
    }
   ],
   "source": [
    "\n",
    "from llama_index.embeddings.huggingface import HuggingFaceEmbedding\n",
    "from utils.utils_embedding import evaluate, dataframe_results, load_qa_dataset\n",
    "from sklearn.decomposition import PCA\n",
    "%matplotlib inline\n",
    "import numpy as np\n",
    "import matplotlib.pyplot as plt\n",
    "import seaborn as sns; sns.set()"
   ]
  },
  {
   "cell_type": "markdown",
   "id": "175180dd",
   "metadata": {},
   "source": [
    "# Settings"
   ]
  },
  {
   "cell_type": "code",
   "execution_count": 2,
   "id": "34b8876a",
   "metadata": {},
   "outputs": [],
   "source": [
    "# load dataset QA\n",
    "dataset_name = \"QA/gpt-35-turbo_dataset.json\"\n",
    "# results top-k\n",
    "top_k = 5\n",
    "model_name = \"sentence-transformers/paraphrase-multilingual-MiniLM-L12-v2\""
   ]
  },
  {
   "cell_type": "markdown",
   "id": "2e1a3715",
   "metadata": {},
   "source": [
    "# Load QA synthetic dataset"
   ]
  },
  {
   "cell_type": "code",
   "execution_count": 3,
   "id": "43bbbe00",
   "metadata": {},
   "outputs": [
    {
     "name": "stderr",
     "output_type": "stream",
     "text": [
      "\u001b[32m2025-07-15 15:39:59.113\u001b[0m | \u001b[1mINFO    \u001b[0m | \u001b[36mutils.utils_embedding\u001b[0m:\u001b[36mload_qa_dataset\u001b[0m:\u001b[36m15\u001b[0m - \u001b[1mLoading dataset from QA/gpt-35-turbo_dataset.json\u001b[0m\n"
     ]
    }
   ],
   "source": [
    "it_dataset = load_qa_dataset(dataset_name)"
   ]
  },
  {
   "cell_type": "markdown",
   "id": "e51100ab",
   "metadata": {},
   "source": [
    "# View QA dataset sample"
   ]
  },
  {
   "cell_type": "code",
   "execution_count": 4,
   "id": "9a0ddd0b",
   "metadata": {},
   "outputs": [
    {
     "name": "stdout",
     "output_type": "stream",
     "text": [
      "Qual è la data del documento di lavoro dei servizi della Commissione Europea sulla relazione per paese 2025 dell'Italia?\n",
      "['80b9998c-32d4-42f7-94a7-1a36155b382b']\n",
      "IT   IT \n",
      " \n",
      " \n",
      " COMMISSIONE  \n",
      "EUROPEA   \n",
      "Bruxelles, 4.6.2025  \n",
      "SWD(2025) 212 final  \n",
      " \n",
      "DOCUMENTO DI LAVORO DEI SERVIZI DELLA COMMISSIONE  \n",
      "Relazione per paese 2025 - Italia  \n",
      "che accompagna il documento  \n",
      "Raccomandazione di RACCOMANDAZIONE DEL CONSIGLIO  \n",
      "sulle politiche economiche, sociali, occupazionali, strutturali e di bilancio dell'Italia  \n",
      "{COM(2025)  212 final}\n"
     ]
    }
   ],
   "source": [
    "print(it_dataset.queries[\"6c67a361-1d84-4876-8ed5-72e11dd2f21e\"])\n",
    "print(it_dataset.relevant_docs[\"6c67a361-1d84-4876-8ed5-72e11dd2f21e\"])\n",
    "print(it_dataset.corpus[\"80b9998c-32d4-42f7-94a7-1a36155b382b\"])"
   ]
  },
  {
   "cell_type": "markdown",
   "id": "cfa47eff",
   "metadata": {},
   "source": [
    "# HuggingFace: paraphrase-multilingual-MiniLM-L12-v2"
   ]
  },
  {
   "cell_type": "code",
   "execution_count": 5,
   "id": "4837f59e",
   "metadata": {},
   "outputs": [
    {
     "name": "stdout",
     "output_type": "stream",
     "text": [
      "INFO:sentence_transformers.SentenceTransformer:Load pretrained SentenceTransformer: sentence-transformers/paraphrase-multilingual-MiniLM-L12-v2\n",
      "Load pretrained SentenceTransformer: sentence-transformers/paraphrase-multilingual-MiniLM-L12-v2\n"
     ]
    }
   ],
   "source": [
    "embed_model_paraphrase_l12 = HuggingFaceEmbedding(model_name=model_name)"
   ]
  },
  {
   "cell_type": "markdown",
   "id": "a22336be",
   "metadata": {},
   "source": [
    "# Evaluate with is_hit and mrr\n"
   ]
  },
  {
   "cell_type": "code",
   "execution_count": 42,
   "id": "a70cd92a",
   "metadata": {},
   "outputs": [
    {
     "name": "stdout",
     "output_type": "stream",
     "text": [
      "Some nodes are missing content, skipping them...\n"
     ]
    },
    {
     "name": "stderr",
     "output_type": "stream",
     "text": [
      "Generating embeddings: 100%|██████████| 258/258 [00:02<00:00, 115.25it/s]\n",
      "100%|██████████| 260/260 [00:04<00:00, 56.95it/s]"
     ]
    },
    {
     "name": "stdout",
     "output_type": "stream",
     "text": [
      "260\n"
     ]
    },
    {
     "name": "stderr",
     "output_type": "stream",
     "text": [
      "\n"
     ]
    },
    {
     "data": {
      "text/html": [
       "<div>\n",
       "<style scoped>\n",
       "    .dataframe tbody tr th:only-of-type {\n",
       "        vertical-align: middle;\n",
       "    }\n",
       "\n",
       "    .dataframe tbody tr th {\n",
       "        vertical-align: top;\n",
       "    }\n",
       "\n",
       "    .dataframe thead th {\n",
       "        text-align: right;\n",
       "    }\n",
       "</style>\n",
       "<table border=\"1\" class=\"dataframe\">\n",
       "  <thead>\n",
       "    <tr style=\"text-align: right;\">\n",
       "      <th></th>\n",
       "      <th>is_hit</th>\n",
       "      <th>mrr</th>\n",
       "      <th>retrieved</th>\n",
       "      <th>expected</th>\n",
       "      <th>query</th>\n",
       "    </tr>\n",
       "  </thead>\n",
       "  <tbody>\n",
       "    <tr>\n",
       "      <th>0</th>\n",
       "      <td>True</td>\n",
       "      <td>1.0</td>\n",
       "      <td>[80b9998c-32d4-42f7-94a7-1a36155b382b, ca82b43...</td>\n",
       "      <td>80b9998c-32d4-42f7-94a7-1a36155b382b</td>\n",
       "      <td>6c67a361-1d84-4876-8ed5-72e11dd2f21e</td>\n",
       "    </tr>\n",
       "    <tr>\n",
       "      <th>1</th>\n",
       "      <td>False</td>\n",
       "      <td>0.0</td>\n",
       "      <td>[e81fb935-4ea8-4a80-867d-ed15f40d0a0c, 0ddb84a...</td>\n",
       "      <td>93b772d4-52a6-44a6-a331-0eae1fdf33a5</td>\n",
       "      <td>5377179f-f310-4498-9a81-4a644d21eef6</td>\n",
       "    </tr>\n",
       "    <tr>\n",
       "      <th>2</th>\n",
       "      <td>True</td>\n",
       "      <td>1.0</td>\n",
       "      <td>[f612986a-0b1a-4c12-bdf1-2c2107733db7, f1b6e8e...</td>\n",
       "      <td>f612986a-0b1a-4c12-bdf1-2c2107733db7</td>\n",
       "      <td>a980095d-5cd4-4112-9b80-d3d1e7023f44</td>\n",
       "    </tr>\n",
       "    <tr>\n",
       "      <th>3</th>\n",
       "      <td>True</td>\n",
       "      <td>1.0</td>\n",
       "      <td>[b87e8ec1-9380-48ad-9428-47c47ede0e76, c0f6569...</td>\n",
       "      <td>b87e8ec1-9380-48ad-9428-47c47ede0e76</td>\n",
       "      <td>364684a1-eafa-4081-ba35-bb669d1657b7</td>\n",
       "    </tr>\n",
       "    <tr>\n",
       "      <th>4</th>\n",
       "      <td>True</td>\n",
       "      <td>0.5</td>\n",
       "      <td>[e96386a3-3796-457d-875e-2d6c7bdab02f, 4a5026b...</td>\n",
       "      <td>4a5026bd-2856-497f-8276-9de39b7562e6</td>\n",
       "      <td>2356fbfa-7df2-467d-ac72-ef26ed474fff</td>\n",
       "    </tr>\n",
       "  </tbody>\n",
       "</table>\n",
       "</div>"
      ],
      "text/plain": [
       "   is_hit  mrr                                          retrieved  \\\n",
       "0    True  1.0  [80b9998c-32d4-42f7-94a7-1a36155b382b, ca82b43...   \n",
       "1   False  0.0  [e81fb935-4ea8-4a80-867d-ed15f40d0a0c, 0ddb84a...   \n",
       "2    True  1.0  [f612986a-0b1a-4c12-bdf1-2c2107733db7, f1b6e8e...   \n",
       "3    True  1.0  [b87e8ec1-9380-48ad-9428-47c47ede0e76, c0f6569...   \n",
       "4    True  0.5  [e96386a3-3796-457d-875e-2d6c7bdab02f, 4a5026b...   \n",
       "\n",
       "                               expected                                 query  \n",
       "0  80b9998c-32d4-42f7-94a7-1a36155b382b  6c67a361-1d84-4876-8ed5-72e11dd2f21e  \n",
       "1  93b772d4-52a6-44a6-a331-0eae1fdf33a5  5377179f-f310-4498-9a81-4a644d21eef6  \n",
       "2  f612986a-0b1a-4c12-bdf1-2c2107733db7  a980095d-5cd4-4112-9b80-d3d1e7023f44  \n",
       "3  b87e8ec1-9380-48ad-9428-47c47ede0e76  364684a1-eafa-4081-ba35-bb669d1657b7  \n",
       "4  4a5026bd-2856-497f-8276-9de39b7562e6  2356fbfa-7df2-467d-ac72-ef26ed474fff  "
      ]
     },
     "execution_count": 42,
     "metadata": {},
     "output_type": "execute_result"
    }
   ],
   "source": [
    "df_paraphrase_l12_results_it = evaluate(dataset=it_dataset, \n",
    "                                        embed_model=embed_model_paraphrase_l12, \n",
    "                                        top_k=top_k, \n",
    "                                        verbose=True)\n",
    "print(len(df_paraphrase_l12_results_it))\n",
    "df_paraphrase_l12_results_it.head()"
   ]
  },
  {
   "cell_type": "code",
   "execution_count": 10,
   "id": "7d7a39a1",
   "metadata": {},
   "outputs": [
    {
     "data": {
      "text/html": [
       "<div>\n",
       "<style scoped>\n",
       "    .dataframe tbody tr th:only-of-type {\n",
       "        vertical-align: middle;\n",
       "    }\n",
       "\n",
       "    .dataframe tbody tr th {\n",
       "        vertical-align: top;\n",
       "    }\n",
       "\n",
       "    .dataframe thead th {\n",
       "        text-align: right;\n",
       "    }\n",
       "</style>\n",
       "<table border=\"1\" class=\"dataframe\">\n",
       "  <thead>\n",
       "    <tr style=\"text-align: right;\">\n",
       "      <th></th>\n",
       "      <th>model</th>\n",
       "      <th>finetuned</th>\n",
       "      <th>top_k</th>\n",
       "      <th>mrr</th>\n",
       "      <th>is_hit</th>\n",
       "    </tr>\n",
       "  </thead>\n",
       "  <tbody>\n",
       "    <tr>\n",
       "      <th>0</th>\n",
       "      <td>paraphrase-multilingual-MiniLM-L12-v2</td>\n",
       "      <td>False</td>\n",
       "      <td>5</td>\n",
       "      <td>0.530641</td>\n",
       "      <td>0.653846</td>\n",
       "    </tr>\n",
       "  </tbody>\n",
       "</table>\n",
       "</div>"
      ],
      "text/plain": [
       "                                   model  finetuned  top_k       mrr    is_hit\n",
       "0  paraphrase-multilingual-MiniLM-L12-v2      False      5  0.530641  0.653846"
      ]
     },
     "execution_count": 10,
     "metadata": {},
     "output_type": "execute_result"
    }
   ],
   "source": [
    "df_results_no_finetuning_topk = dataframe_results(top_k, df_paraphrase_l12_results_it, finetuned=False)\n",
    "df_results_no_finetuning_topk"
   ]
  },
  {
   "cell_type": "markdown",
   "id": "0f840114",
   "metadata": {},
   "source": [
    "# evaluate for different top-k"
   ]
  },
  {
   "cell_type": "code",
   "execution_count": null,
   "id": "d1c5737a",
   "metadata": {},
   "outputs": [
    {
     "name": "stderr",
     "output_type": "stream",
     "text": [
      "\u001b[32m2025-07-15 15:40:12.223\u001b[0m | \u001b[1mINFO    \u001b[0m | \u001b[36m__main__\u001b[0m:\u001b[36m<module>\u001b[0m:\u001b[36m8\u001b[0m - \u001b[1mEvaluating for top_k=1\u001b[0m\n"
     ]
    },
    {
     "name": "stdout",
     "output_type": "stream",
     "text": [
      "Some nodes are missing content, skipping them...\n"
     ]
    },
    {
     "name": "stderr",
     "output_type": "stream",
     "text": [
      "Generating embeddings: 100%|██████████| 258/258 [00:01<00:00, 229.02it/s]\n",
      "100%|██████████| 260/260 [00:03<00:00, 80.66it/s]\n",
      "\u001b[32m2025-07-15 15:40:16.599\u001b[0m | \u001b[1mINFO    \u001b[0m | \u001b[36m__main__\u001b[0m:\u001b[36m<module>\u001b[0m:\u001b[36m8\u001b[0m - \u001b[1mEvaluating for top_k=3\u001b[0m\n"
     ]
    },
    {
     "name": "stdout",
     "output_type": "stream",
     "text": [
      "Some nodes are missing content, skipping them...\n"
     ]
    },
    {
     "name": "stderr",
     "output_type": "stream",
     "text": [
      "Generating embeddings: 100%|██████████| 258/258 [00:01<00:00, 229.31it/s]\n",
      "100%|██████████| 260/260 [00:03<00:00, 75.07it/s]\n",
      "\u001b[32m2025-07-15 15:40:21.205\u001b[0m | \u001b[1mINFO    \u001b[0m | \u001b[36m__main__\u001b[0m:\u001b[36m<module>\u001b[0m:\u001b[36m8\u001b[0m - \u001b[1mEvaluating for top_k=5\u001b[0m\n"
     ]
    },
    {
     "name": "stdout",
     "output_type": "stream",
     "text": [
      "Some nodes are missing content, skipping them...\n"
     ]
    },
    {
     "name": "stderr",
     "output_type": "stream",
     "text": [
      "Generating embeddings: 100%|██████████| 258/258 [00:01<00:00, 230.96it/s]\n",
      "100%|██████████| 260/260 [00:03<00:00, 79.09it/s]\n",
      "\u001b[32m2025-07-15 15:40:25.624\u001b[0m | \u001b[1mINFO    \u001b[0m | \u001b[36m__main__\u001b[0m:\u001b[36m<module>\u001b[0m:\u001b[36m8\u001b[0m - \u001b[1mEvaluating for top_k=10\u001b[0m\n"
     ]
    },
    {
     "name": "stdout",
     "output_type": "stream",
     "text": [
      "Some nodes are missing content, skipping them...\n"
     ]
    },
    {
     "name": "stderr",
     "output_type": "stream",
     "text": [
      "Generating embeddings: 100%|██████████| 258/258 [00:01<00:00, 223.32it/s]\n",
      "100%|██████████| 260/260 [00:03<00:00, 79.06it/s]\n"
     ]
    },
    {
     "data": {
      "text/html": [
       "<div>\n",
       "<style scoped>\n",
       "    .dataframe tbody tr th:only-of-type {\n",
       "        vertical-align: middle;\n",
       "    }\n",
       "\n",
       "    .dataframe tbody tr th {\n",
       "        vertical-align: top;\n",
       "    }\n",
       "\n",
       "    .dataframe thead th {\n",
       "        text-align: right;\n",
       "    }\n",
       "</style>\n",
       "<table border=\"1\" class=\"dataframe\">\n",
       "  <thead>\n",
       "    <tr style=\"text-align: right;\">\n",
       "      <th></th>\n",
       "      <th>model</th>\n",
       "      <th>finetuned</th>\n",
       "      <th>top_k</th>\n",
       "      <th>mrr</th>\n",
       "      <th>is_hit</th>\n",
       "    </tr>\n",
       "  </thead>\n",
       "  <tbody>\n",
       "    <tr>\n",
       "      <th>0</th>\n",
       "      <td>paraphrase-multilingual-MiniLM-L12-v2</td>\n",
       "      <td>False</td>\n",
       "      <td>1</td>\n",
       "      <td>0.453846</td>\n",
       "      <td>0.453846</td>\n",
       "    </tr>\n",
       "    <tr>\n",
       "      <th>1</th>\n",
       "      <td>paraphrase-multilingual-MiniLM-L12-v2</td>\n",
       "      <td>False</td>\n",
       "      <td>3</td>\n",
       "      <td>0.519872</td>\n",
       "      <td>0.607692</td>\n",
       "    </tr>\n",
       "    <tr>\n",
       "      <th>2</th>\n",
       "      <td>paraphrase-multilingual-MiniLM-L12-v2</td>\n",
       "      <td>False</td>\n",
       "      <td>5</td>\n",
       "      <td>0.530641</td>\n",
       "      <td>0.653846</td>\n",
       "    </tr>\n",
       "    <tr>\n",
       "      <th>3</th>\n",
       "      <td>paraphrase-multilingual-MiniLM-L12-v2</td>\n",
       "      <td>False</td>\n",
       "      <td>10</td>\n",
       "      <td>0.537966</td>\n",
       "      <td>0.707692</td>\n",
       "    </tr>\n",
       "  </tbody>\n",
       "</table>\n",
       "</div>"
      ],
      "text/plain": [
       "                                   model  finetuned  top_k       mrr    is_hit\n",
       "0  paraphrase-multilingual-MiniLM-L12-v2      False      1  0.453846  0.453846\n",
       "1  paraphrase-multilingual-MiniLM-L12-v2      False      3  0.519872  0.607692\n",
       "2  paraphrase-multilingual-MiniLM-L12-v2      False      5  0.530641  0.653846\n",
       "3  paraphrase-multilingual-MiniLM-L12-v2      False     10  0.537966  0.707692"
      ]
     },
     "execution_count": 11,
     "metadata": {},
     "output_type": "execute_result"
    }
   ],
   "source": [
    "import pandas as pd\n",
    "from loguru import logger\n",
    "\n",
    "df_results_no_finetuning = pd.DataFrame()\n",
    "\n",
    "for top_k in [1, 3, 5, 10]:\n",
    "\n",
    "    logger.info(f\"Evaluating for top_k={top_k}\")\n",
    "\n",
    "    df_model_l12_it_no_finetuning = evaluate(dataset=it_dataset, \n",
    "                                            embed_model=embed_model_paraphrase_l12, \n",
    "                                            top_k=top_k, \n",
    "                                            verbose=True)\n",
    "    df_results_no_finetuning_topk = dataframe_results(top_k, df_model_l12_it_no_finetuning, finetuned=False)\n",
    "    df_results_no_finetuning = pd.concat([df_results_no_finetuning, df_results_no_finetuning_topk], ignore_index=True)\n",
    "\n",
    "df_results_no_finetuning\n",
    "    "
   ]
  },
  {
   "cell_type": "markdown",
   "id": "8f633c05",
   "metadata": {},
   "source": [
    "# plot results for different top-k"
   ]
  },
  {
   "cell_type": "markdown",
   "id": "48c0af3d",
   "metadata": {},
   "source": [
    "remind: i am using only training set"
   ]
  },
  {
   "cell_type": "code",
   "execution_count": 12,
   "id": "3b28e8c3",
   "metadata": {},
   "outputs": [
    {
     "data": {
      "image/png": "[encoded data removed]",
      "text/plain": [
       "<Figure size 640x480 with 1 Axes>"
      ]
     },
     "metadata": {},
     "output_type": "display_data"
    }
   ],
   "source": [
    "# plot results for different top-k is_hit and mrr\n",
    "sns.lineplot(data=df_results_no_finetuning, x=\"top_k\", y=\"is_hit\")\n",
    "sns.lineplot(data=df_results_no_finetuning, x=\"top_k\", y=\"mrr\")\n",
    "sns.scatterplot(data=df_results_no_finetuning, x=\"top_k\", y=\"is_hit\", color=\"blue\", s=100, label=\"Hit Rate Scores\")\n",
    "sns.scatterplot(data=df_results_no_finetuning, x=\"top_k\", y=\"mrr\", color=\"orange\", s=100, label=\"MRR Scores\")\n",
    "plt.title(\"Results for different top-k (no finetuning)\")\n",
    "plt.xlabel(\"Top-k\")\n",
    "plt.ylabel(\"Metric of Interest\")\n",
    "plt.xticks(ticks=df_results_no_finetuning[\"top_k\"].unique())\n",
    "plt.grid(True)\n",
    "plt.tight_layout()\n",
    "plt.show()"
   ]
  },
  {
   "cell_type": "markdown",
   "id": "5e7dff38",
   "metadata": {},
   "source": [
    "# Embedding finetunig"
   ]
  },
  {
   "cell_type": "code",
   "execution_count": 13,
   "id": "c1f4f77f",
   "metadata": {},
   "outputs": [
    {
     "name": "stdout",
     "output_type": "stream",
     "text": [
      "INFO:sentence_transformers.SentenceTransformer:Use pytorch device_name: mps\n",
      "Use pytorch device_name: mps\n",
      "INFO:sentence_transformers.SentenceTransformer:Load pretrained SentenceTransformer: sentence-transformers/paraphrase-multilingual-MiniLM-L12-v2\n",
      "Load pretrained SentenceTransformer: sentence-transformers/paraphrase-multilingual-MiniLM-L12-v2\n"
     ]
    }
   ],
   "source": [
    "from llama_index.finetuning import SentenceTransformersFinetuneEngine\n",
    "\n",
    "finetune_engine = SentenceTransformersFinetuneEngine(\n",
    "                                                    it_dataset,\n",
    "                                                    model_id=model_name,\n",
    "                                                    model_output_path=\"finetuned_model\",\n",
    "                                                    val_dataset=it_dataset,\n",
    "                                                    )\n",
    "#    epochs=1,\n",
    "#    batch_size=16,\n",
    "#    learning_rate=2e-5,\n",
    "#    max_seq_length=128,"
   ]
  },
  {
   "cell_type": "code",
   "execution_count": 14,
   "id": "8baf2ad1",
   "metadata": {},
   "outputs": [
    {
     "name": "stderr",
     "output_type": "stream",
     "text": [
      "/opt/homebrew/Caskroom/miniconda/base/envs/agent/lib/python3.11/site-packages/torch/utils/data/dataloader.py:683: UserWarning: 'pin_memory' argument is set as true but not supported on MPS now, then device pinned memory won't be used.\n",
      "  warnings.warn(warn_msg)\n"
     ]
    },
    {
     "data": {
      "text/html": [
       "\n",
       "    <div>\n",
       "      \n",
       "      <progress value='52' max='52' style='width:300px; height:20px; vertical-align: middle;'></progress>\n",
       "      [52/52 00:24, Epoch 2/2]\n",
       "    </div>\n",
       "    <table border=\"1\" class=\"dataframe\">\n",
       "  <thead>\n",
       " <tr style=\"text-align: left;\">\n",
       "      <th>Step</th>\n",
       "      <th>Training Loss</th>\n",
       "      <th>Validation Loss</th>\n",
       "      <th>Cosine Accuracy@1</th>\n",
       "      <th>Cosine Accuracy@3</th>\n",
       "      <th>Cosine Accuracy@5</th>\n",
       "      <th>Cosine Accuracy@10</th>\n",
       "      <th>Cosine Precision@1</th>\n",
       "      <th>Cosine Precision@3</th>\n",
       "      <th>Cosine Precision@5</th>\n",
       "      <th>Cosine Precision@10</th>\n",
       "      <th>Cosine Recall@1</th>\n",
       "      <th>Cosine Recall@3</th>\n",
       "      <th>Cosine Recall@5</th>\n",
       "      <th>Cosine Recall@10</th>\n",
       "      <th>Cosine Ndcg@10</th>\n",
       "      <th>Cosine Mrr@10</th>\n",
       "      <th>Cosine Map@100</th>\n",
       "    </tr>\n",
       "  </thead>\n",
       "  <tbody>\n",
       "    <tr>\n",
       "      <td>26</td>\n",
       "      <td>No log</td>\n",
       "      <td>No log</td>\n",
       "      <td>0.600000</td>\n",
       "      <td>0.742308</td>\n",
       "      <td>0.796154</td>\n",
       "      <td>0.830769</td>\n",
       "      <td>0.600000</td>\n",
       "      <td>0.247436</td>\n",
       "      <td>0.159231</td>\n",
       "      <td>0.083077</td>\n",
       "      <td>0.600000</td>\n",
       "      <td>0.742308</td>\n",
       "      <td>0.796154</td>\n",
       "      <td>0.830769</td>\n",
       "      <td>0.718635</td>\n",
       "      <td>0.682344</td>\n",
       "      <td>0.686095</td>\n",
       "    </tr>\n",
       "    <tr>\n",
       "      <td>50</td>\n",
       "      <td>No log</td>\n",
       "      <td>No log</td>\n",
       "      <td>0.607692</td>\n",
       "      <td>0.769231</td>\n",
       "      <td>0.819231</td>\n",
       "      <td>0.850000</td>\n",
       "      <td>0.607692</td>\n",
       "      <td>0.256410</td>\n",
       "      <td>0.163846</td>\n",
       "      <td>0.085000</td>\n",
       "      <td>0.607692</td>\n",
       "      <td>0.769231</td>\n",
       "      <td>0.819231</td>\n",
       "      <td>0.850000</td>\n",
       "      <td>0.733621</td>\n",
       "      <td>0.695667</td>\n",
       "      <td>0.700110</td>\n",
       "    </tr>\n",
       "    <tr>\n",
       "      <td>52</td>\n",
       "      <td>No log</td>\n",
       "      <td>No log</td>\n",
       "      <td>0.611538</td>\n",
       "      <td>0.769231</td>\n",
       "      <td>0.823077</td>\n",
       "      <td>0.850000</td>\n",
       "      <td>0.611538</td>\n",
       "      <td>0.256410</td>\n",
       "      <td>0.164615</td>\n",
       "      <td>0.085000</td>\n",
       "      <td>0.611538</td>\n",
       "      <td>0.769231</td>\n",
       "      <td>0.823077</td>\n",
       "      <td>0.850000</td>\n",
       "      <td>0.735158</td>\n",
       "      <td>0.697718</td>\n",
       "      <td>0.702163</td>\n",
       "    </tr>\n",
       "  </tbody>\n",
       "</table><p>"
      ],
      "text/plain": [
       "<IPython.core.display.HTML object>"
      ]
     },
     "metadata": {},
     "output_type": "display_data"
    },
    {
     "name": "stdout",
     "output_type": "stream",
     "text": [
      "INFO:sentence_transformers.evaluation.InformationRetrievalEvaluator:Information Retrieval Evaluation of the model on the  dataset in epoch 1.0 after 26 steps:\n",
      "Information Retrieval Evaluation of the model on the  dataset in epoch 1.0 after 26 steps:\n",
      "INFO:sentence_transformers.evaluation.InformationRetrievalEvaluator:Queries: 260\n",
      "Queries: 260\n",
      "INFO:sentence_transformers.evaluation.InformationRetrievalEvaluator:Corpus: 260\n",
      "\n",
      "Corpus: 260\n",
      "\n",
      "INFO:sentence_transformers.evaluation.InformationRetrievalEvaluator:Score-Function: cosine\n",
      "Score-Function: cosine\n",
      "INFO:sentence_transformers.evaluation.InformationRetrievalEvaluator:Accuracy@1: 60.00%\n",
      "Accuracy@1: 60.00%\n",
      "INFO:sentence_transformers.evaluation.InformationRetrievalEvaluator:Accuracy@3: 74.23%\n",
      "Accuracy@3: 74.23%\n",
      "INFO:sentence_transformers.evaluation.InformationRetrievalEvaluator:Accuracy@5: 79.62%\n",
      "Accuracy@5: 79.62%\n",
      "INFO:sentence_transformers.evaluation.InformationRetrievalEvaluator:Accuracy@10: 83.08%\n",
      "Accuracy@10: 83.08%\n",
      "INFO:sentence_transformers.evaluation.InformationRetrievalEvaluator:Precision@1: 60.00%\n",
      "Precision@1: 60.00%\n",
      "INFO:sentence_transformers.evaluation.InformationRetrievalEvaluator:Precision@3: 24.74%\n",
      "Precision@3: 24.74%\n",
      "INFO:sentence_transformers.evaluation.InformationRetrievalEvaluator:Precision@5: 15.92%\n",
      "Precision@5: 15.92%\n",
      "INFO:sentence_transformers.evaluation.InformationRetrievalEvaluator:Precision@10: 8.31%\n",
      "Precision@10: 8.31%\n",
      "INFO:sentence_transformers.evaluation.InformationRetrievalEvaluator:Recall@1: 60.00%\n",
      "Recall@1: 60.00%\n",
      "INFO:sentence_transformers.evaluation.InformationRetrievalEvaluator:Recall@3: 74.23%\n",
      "Recall@3: 74.23%\n",
      "INFO:sentence_transformers.evaluation.InformationRetrievalEvaluator:Recall@5: 79.62%\n",
      "Recall@5: 79.62%\n",
      "INFO:sentence_transformers.evaluation.InformationRetrievalEvaluator:Recall@10: 83.08%\n",
      "Recall@10: 83.08%\n",
      "INFO:sentence_transformers.evaluation.InformationRetrievalEvaluator:MRR@10: 0.6823\n",
      "MRR@10: 0.6823\n",
      "INFO:sentence_transformers.evaluation.InformationRetrievalEvaluator:NDCG@10: 0.7186\n",
      "NDCG@10: 0.7186\n",
      "INFO:sentence_transformers.evaluation.InformationRetrievalEvaluator:MAP@100: 0.6861\n",
      "MAP@100: 0.6861\n",
      "INFO:sentence_transformers.SentenceTransformer:Save model to finetuned_model\n",
      "Save model to finetuned_model\n",
      "INFO:sentence_transformers.evaluation.InformationRetrievalEvaluator:Information Retrieval Evaluation of the model on the  dataset in epoch 1.9230769230769231 after 50 steps:\n",
      "Information Retrieval Evaluation of the model on the  dataset in epoch 1.9230769230769231 after 50 steps:\n",
      "INFO:sentence_transformers.evaluation.InformationRetrievalEvaluator:Queries: 260\n",
      "Queries: 260\n",
      "INFO:sentence_transformers.evaluation.InformationRetrievalEvaluator:Corpus: 260\n",
      "\n",
      "Corpus: 260\n",
      "\n",
      "INFO:sentence_transformers.evaluation.InformationRetrievalEvaluator:Score-Function: cosine\n",
      "Score-Function: cosine\n",
      "INFO:sentence_transformers.evaluation.InformationRetrievalEvaluator:Accuracy@1: 60.77%\n",
      "Accuracy@1: 60.77%\n",
      "INFO:sentence_transformers.evaluation.InformationRetrievalEvaluator:Accuracy@3: 76.92%\n",
      "Accuracy@3: 76.92%\n",
      "INFO:sentence_transformers.evaluation.InformationRetrievalEvaluator:Accuracy@5: 81.92%\n",
      "Accuracy@5: 81.92%\n",
      "INFO:sentence_transformers.evaluation.InformationRetrievalEvaluator:Accuracy@10: 85.00%\n",
      "Accuracy@10: 85.00%\n",
      "INFO:sentence_transformers.evaluation.InformationRetrievalEvaluator:Precision@1: 60.77%\n",
      "Precision@1: 60.77%\n",
      "INFO:sentence_transformers.evaluation.InformationRetrievalEvaluator:Precision@3: 25.64%\n",
      "Precision@3: 25.64%\n",
      "INFO:sentence_transformers.evaluation.InformationRetrievalEvaluator:Precision@5: 16.38%\n",
      "Precision@5: 16.38%\n",
      "INFO:sentence_transformers.evaluation.InformationRetrievalEvaluator:Precision@10: 8.50%\n",
      "Precision@10: 8.50%\n",
      "INFO:sentence_transformers.evaluation.InformationRetrievalEvaluator:Recall@1: 60.77%\n",
      "Recall@1: 60.77%\n",
      "INFO:sentence_transformers.evaluation.InformationRetrievalEvaluator:Recall@3: 76.92%\n",
      "Recall@3: 76.92%\n",
      "INFO:sentence_transformers.evaluation.InformationRetrievalEvaluator:Recall@5: 81.92%\n",
      "Recall@5: 81.92%\n",
      "INFO:sentence_transformers.evaluation.InformationRetrievalEvaluator:Recall@10: 85.00%\n",
      "Recall@10: 85.00%\n",
      "INFO:sentence_transformers.evaluation.InformationRetrievalEvaluator:MRR@10: 0.6957\n",
      "MRR@10: 0.6957\n",
      "INFO:sentence_transformers.evaluation.InformationRetrievalEvaluator:NDCG@10: 0.7336\n",
      "NDCG@10: 0.7336\n",
      "INFO:sentence_transformers.evaluation.InformationRetrievalEvaluator:MAP@100: 0.7001\n",
      "MAP@100: 0.7001\n",
      "INFO:sentence_transformers.SentenceTransformer:Save model to finetuned_model\n",
      "Save model to finetuned_model\n",
      "INFO:sentence_transformers.evaluation.InformationRetrievalEvaluator:Information Retrieval Evaluation of the model on the  dataset in epoch 2.0 after 52 steps:\n",
      "Information Retrieval Evaluation of the model on the  dataset in epoch 2.0 after 52 steps:\n",
      "INFO:sentence_transformers.evaluation.InformationRetrievalEvaluator:Queries: 260\n",
      "Queries: 260\n",
      "INFO:sentence_transformers.evaluation.InformationRetrievalEvaluator:Corpus: 260\n",
      "\n",
      "Corpus: 260\n",
      "\n",
      "INFO:sentence_transformers.evaluation.InformationRetrievalEvaluator:Score-Function: cosine\n",
      "Score-Function: cosine\n",
      "INFO:sentence_transformers.evaluation.InformationRetrievalEvaluator:Accuracy@1: 61.15%\n",
      "Accuracy@1: 61.15%\n",
      "INFO:sentence_transformers.evaluation.InformationRetrievalEvaluator:Accuracy@3: 76.92%\n",
      "Accuracy@3: 76.92%\n",
      "INFO:sentence_transformers.evaluation.InformationRetrievalEvaluator:Accuracy@5: 82.31%\n",
      "Accuracy@5: 82.31%\n",
      "INFO:sentence_transformers.evaluation.InformationRetrievalEvaluator:Accuracy@10: 85.00%\n",
      "Accuracy@10: 85.00%\n",
      "INFO:sentence_transformers.evaluation.InformationRetrievalEvaluator:Precision@1: 61.15%\n",
      "Precision@1: 61.15%\n",
      "INFO:sentence_transformers.evaluation.InformationRetrievalEvaluator:Precision@3: 25.64%\n",
      "Precision@3: 25.64%\n",
      "INFO:sentence_transformers.evaluation.InformationRetrievalEvaluator:Precision@5: 16.46%\n",
      "Precision@5: 16.46%\n",
      "INFO:sentence_transformers.evaluation.InformationRetrievalEvaluator:Precision@10: 8.50%\n",
      "Precision@10: 8.50%\n",
      "INFO:sentence_transformers.evaluation.InformationRetrievalEvaluator:Recall@1: 61.15%\n",
      "Recall@1: 61.15%\n",
      "INFO:sentence_transformers.evaluation.InformationRetrievalEvaluator:Recall@3: 76.92%\n",
      "Recall@3: 76.92%\n",
      "INFO:sentence_transformers.evaluation.InformationRetrievalEvaluator:Recall@5: 82.31%\n",
      "Recall@5: 82.31%\n",
      "INFO:sentence_transformers.evaluation.InformationRetrievalEvaluator:Recall@10: 85.00%\n",
      "Recall@10: 85.00%\n",
      "INFO:sentence_transformers.evaluation.InformationRetrievalEvaluator:MRR@10: 0.6977\n",
      "MRR@10: 0.6977\n",
      "INFO:sentence_transformers.evaluation.InformationRetrievalEvaluator:NDCG@10: 0.7352\n",
      "NDCG@10: 0.7352\n",
      "INFO:sentence_transformers.evaluation.InformationRetrievalEvaluator:MAP@100: 0.7022\n",
      "MAP@100: 0.7022\n",
      "INFO:sentence_transformers.SentenceTransformer:Save model to finetuned_model\n",
      "Save model to finetuned_model\n",
      "INFO:sentence_transformers.SentenceTransformer:Load pretrained SentenceTransformer: finetuned_model\n",
      "Load pretrained SentenceTransformer: finetuned_model\n"
     ]
    }
   ],
   "source": [
    "finetune_engine.finetune()\n",
    "finetuned_embed_model = finetune_engine.get_finetuned_model()"
   ]
  },
  {
   "cell_type": "code",
   "execution_count": 53,
   "id": "a0447f82",
   "metadata": {},
   "outputs": [
    {
     "name": "stderr",
     "output_type": "stream",
     "text": [
      "\u001b[32m2025-07-15 16:57:48.125\u001b[0m | \u001b[1mINFO    \u001b[0m | \u001b[36m__main__\u001b[0m:\u001b[36m<module>\u001b[0m:\u001b[36m6\u001b[0m - \u001b[1mEvaluating for top_k=1\u001b[0m\n"
     ]
    },
    {
     "name": "stdout",
     "output_type": "stream",
     "text": [
      "Some nodes are missing content, skipping them...\n"
     ]
    },
    {
     "name": "stderr",
     "output_type": "stream",
     "text": [
      "Generating embeddings: 100%|██████████| 258/258 [00:04<00:00, 58.70it/s] \n",
      "100%|██████████| 260/260 [00:04<00:00, 55.50it/s]\n",
      "\u001b[32m2025-07-15 16:57:57.230\u001b[0m | \u001b[1mINFO    \u001b[0m | \u001b[36m__main__\u001b[0m:\u001b[36m<module>\u001b[0m:\u001b[36m6\u001b[0m - \u001b[1mEvaluating for top_k=3\u001b[0m\n"
     ]
    },
    {
     "name": "stdout",
     "output_type": "stream",
     "text": [
      "Some nodes are missing content, skipping them...\n"
     ]
    },
    {
     "name": "stderr",
     "output_type": "stream",
     "text": [
      "Generating embeddings: 100%|██████████| 258/258 [00:02<00:00, 125.56it/s]\n",
      "100%|██████████| 260/260 [00:06<00:00, 39.52it/s]\n",
      "\u001b[32m2025-07-15 16:58:05.888\u001b[0m | \u001b[1mINFO    \u001b[0m | \u001b[36m__main__\u001b[0m:\u001b[36m<module>\u001b[0m:\u001b[36m6\u001b[0m - \u001b[1mEvaluating for top_k=5\u001b[0m\n"
     ]
    },
    {
     "name": "stdout",
     "output_type": "stream",
     "text": [
      "Some nodes are missing content, skipping them...\n"
     ]
    },
    {
     "name": "stderr",
     "output_type": "stream",
     "text": [
      "Generating embeddings: 100%|██████████| 258/258 [00:02<00:00, 121.13it/s]\n",
      "100%|██████████| 260/260 [00:04<00:00, 53.56it/s]\n",
      "\u001b[32m2025-07-15 16:58:12.898\u001b[0m | \u001b[1mINFO    \u001b[0m | \u001b[36m__main__\u001b[0m:\u001b[36m<module>\u001b[0m:\u001b[36m6\u001b[0m - \u001b[1mEvaluating for top_k=10\u001b[0m\n"
     ]
    },
    {
     "name": "stdout",
     "output_type": "stream",
     "text": [
      "Some nodes are missing content, skipping them...\n"
     ]
    },
    {
     "name": "stderr",
     "output_type": "stream",
     "text": [
      "Generating embeddings: 100%|██████████| 258/258 [00:02<00:00, 116.08it/s]\n",
      "100%|██████████| 260/260 [00:05<00:00, 49.57it/s]\n"
     ]
    },
    {
     "data": {
      "text/html": [
       "<div>\n",
       "<style scoped>\n",
       "    .dataframe tbody tr th:only-of-type {\n",
       "        vertical-align: middle;\n",
       "    }\n",
       "\n",
       "    .dataframe tbody tr th {\n",
       "        vertical-align: top;\n",
       "    }\n",
       "\n",
       "    .dataframe thead th {\n",
       "        text-align: right;\n",
       "    }\n",
       "</style>\n",
       "<table border=\"1\" class=\"dataframe\">\n",
       "  <thead>\n",
       "    <tr style=\"text-align: right;\">\n",
       "      <th></th>\n",
       "      <th>model</th>\n",
       "      <th>finetuned</th>\n",
       "      <th>top_k</th>\n",
       "      <th>mrr</th>\n",
       "      <th>is_hit</th>\n",
       "    </tr>\n",
       "  </thead>\n",
       "  <tbody>\n",
       "    <tr>\n",
       "      <th>0</th>\n",
       "      <td>paraphrase-multilingual-MiniLM-L12-v2</td>\n",
       "      <td>True</td>\n",
       "      <td>1</td>\n",
       "      <td>0.611538</td>\n",
       "      <td>0.611538</td>\n",
       "    </tr>\n",
       "    <tr>\n",
       "      <th>1</th>\n",
       "      <td>paraphrase-multilingual-MiniLM-L12-v2</td>\n",
       "      <td>True</td>\n",
       "      <td>3</td>\n",
       "      <td>0.685256</td>\n",
       "      <td>0.776923</td>\n",
       "    </tr>\n",
       "    <tr>\n",
       "      <th>2</th>\n",
       "      <td>paraphrase-multilingual-MiniLM-L12-v2</td>\n",
       "      <td>True</td>\n",
       "      <td>5</td>\n",
       "      <td>0.696603</td>\n",
       "      <td>0.826923</td>\n",
       "    </tr>\n",
       "    <tr>\n",
       "      <th>3</th>\n",
       "      <td>paraphrase-multilingual-MiniLM-L12-v2</td>\n",
       "      <td>True</td>\n",
       "      <td>10</td>\n",
       "      <td>0.700421</td>\n",
       "      <td>0.857692</td>\n",
       "    </tr>\n",
       "  </tbody>\n",
       "</table>\n",
       "</div>"
      ],
      "text/plain": [
       "                                   model  finetuned  top_k       mrr    is_hit\n",
       "0  paraphrase-multilingual-MiniLM-L12-v2       True      1  0.611538  0.611538\n",
       "1  paraphrase-multilingual-MiniLM-L12-v2       True      3  0.685256  0.776923\n",
       "2  paraphrase-multilingual-MiniLM-L12-v2       True      5  0.696603  0.826923\n",
       "3  paraphrase-multilingual-MiniLM-L12-v2       True     10  0.700421  0.857692"
      ]
     },
     "execution_count": 53,
     "metadata": {},
     "output_type": "execute_result"
    }
   ],
   "source": [
    "import pandas as pd\n",
    "from loguru import logger\n",
    "\n",
    "df_results_finetuning = pd.DataFrame()\n",
    "for top_k in [1, 3, 5, 10]:\n",
    "    logger.info(f\"Evaluating for top_k={top_k}\")\n",
    "    df_model_l12_it_finetuning = evaluate(dataset=it_dataset, \n",
    "                                            embed_model=finetuned_embed_model,\n",
    "                                            top_k=top_k, \n",
    "                                            verbose=True)\n",
    "    df_results_finetuning_topk = dataframe_results(top_k, df_model_l12_it_finetuning, finetuned=True)\n",
    "    df_results_finetuning = pd.concat([df_results_finetuning, df_results_finetuning_topk], ignore_index=True)\n",
    "df_results_finetuning"
   ]
  },
  {
   "cell_type": "code",
   "execution_count": 16,
   "id": "fa00b956",
   "metadata": {},
   "outputs": [
    {
     "data": {
      "image/png": "[encoded data removed]",
      "text/plain": [
       "<Figure size 640x480 with 1 Axes>"
      ]
     },
     "metadata": {},
     "output_type": "display_data"
    }
   ],
   "source": [
    "sns.lineplot(data=df_results_no_finetuning, x=\"top_k\", y=\"is_hit\")\n",
    "sns.lineplot(data=df_results_no_finetuning, x=\"top_k\", y=\"mrr\")\n",
    "sns.scatterplot(data=df_results_no_finetuning, x=\"top_k\", y=\"is_hit\", color=\"blue\", s=100, label=\"Hit Rate Scores\")\n",
    "sns.scatterplot(data=df_results_no_finetuning, x=\"top_k\", y=\"mrr\", color=\"orange\", s=100, label=\"MRR Scores\")\n",
    "\n",
    "sns.lineplot(data=df_results_finetuning, x=\"top_k\", y=\"is_hit\", color=\"gray\", linestyle='--')\n",
    "sns.lineplot(data=df_results_finetuning, x=\"top_k\", y=\"mrr\", color=\"yellow\", linestyle='--')\n",
    "sns.scatterplot(data=df_results_finetuning, x=\"top_k\", y=\"is_hit\", color=\"gray\", s=100, label=\"Hit Rate Scores (Finetuned)\", marker='o')\n",
    "sns.scatterplot(data=df_results_finetuning, x=\"top_k\", y=\"mrr\", color=\"yellow\", s=100, label=\"MRR Scores (Finetuned)\", marker='o')\n",
    "\n",
    "plt.title(\"Results for different top-k\")\n",
    "plt.xlabel(\"Top-k\")\n",
    "plt.ylabel(\"Metric of Interest\")\n",
    "plt.xticks(ticks=df_results_no_finetuning[\"top_k\"].unique())\n",
    "plt.grid(True)\n",
    "plt.tight_layout()\n",
    "plt.show()"
   ]
  },
  {
   "cell_type": "markdown",
   "id": "8044a135",
   "metadata": {},
   "source": [
    "# Try different temperature levels"
   ]
  },
  {
   "cell_type": "code",
   "execution_count": 17,
   "id": "e217f694",
   "metadata": {},
   "outputs": [
    {
     "name": "stderr",
     "output_type": "stream",
     "text": [
      "\u001b[32m2025-07-15 15:41:17.141\u001b[0m | \u001b[1mINFO    \u001b[0m | \u001b[36m__main__\u001b[0m:\u001b[36m<module>\u001b[0m:\u001b[36m3\u001b[0m - \u001b[1mLoading dataset with temperature level: 07\u001b[0m\n",
      "\u001b[32m2025-07-15 15:41:17.141\u001b[0m | \u001b[1mINFO    \u001b[0m | \u001b[36mutils.utils_embedding\u001b[0m:\u001b[36mload_qa_dataset\u001b[0m:\u001b[36m15\u001b[0m - \u001b[1mLoading dataset from QA/gpt-35-turbo_temperature_07_dataset.json\u001b[0m\n",
      "\u001b[32m2025-07-15 15:41:17.144\u001b[0m | \u001b[1mINFO    \u001b[0m | \u001b[36m__main__\u001b[0m:\u001b[36m<module>\u001b[0m:\u001b[36m9\u001b[0m - \u001b[1mEvaluating for top_k=1\u001b[0m\n",
      "Generating embeddings: 100%|██████████| 222/222 [00:01<00:00, 215.65it/s]\n",
      "100%|██████████| 222/222 [00:03<00:00, 73.93it/s]\n",
      "\u001b[32m2025-07-15 15:41:21.189\u001b[0m | \u001b[1mINFO    \u001b[0m | \u001b[36m__main__\u001b[0m:\u001b[36m<module>\u001b[0m:\u001b[36m9\u001b[0m - \u001b[1mEvaluating for top_k=3\u001b[0m\n",
      "Generating embeddings: 100%|██████████| 222/222 [00:00<00:00, 226.06it/s]\n",
      "100%|██████████| 222/222 [00:02<00:00, 81.61it/s]\n",
      "\u001b[32m2025-07-15 15:41:24.906\u001b[0m | \u001b[1mINFO    \u001b[0m | \u001b[36m__main__\u001b[0m:\u001b[36m<module>\u001b[0m:\u001b[36m9\u001b[0m - \u001b[1mEvaluating for top_k=5\u001b[0m\n",
      "Generating embeddings: 100%|██████████| 222/222 [00:00<00:00, 226.81it/s]\n",
      "100%|██████████| 222/222 [00:02<00:00, 81.89it/s]\n",
      "\u001b[32m2025-07-15 15:41:28.610\u001b[0m | \u001b[1mINFO    \u001b[0m | \u001b[36m__main__\u001b[0m:\u001b[36m<module>\u001b[0m:\u001b[36m9\u001b[0m - \u001b[1mEvaluating for top_k=10\u001b[0m\n",
      "Generating embeddings: 100%|██████████| 222/222 [00:00<00:00, 228.26it/s]\n",
      "100%|██████████| 222/222 [00:02<00:00, 81.36it/s]\n"
     ]
    },
    {
     "data": {
      "text/html": [
       "<div>\n",
       "<style scoped>\n",
       "    .dataframe tbody tr th:only-of-type {\n",
       "        vertical-align: middle;\n",
       "    }\n",
       "\n",
       "    .dataframe tbody tr th {\n",
       "        vertical-align: top;\n",
       "    }\n",
       "\n",
       "    .dataframe thead th {\n",
       "        text-align: right;\n",
       "    }\n",
       "</style>\n",
       "<table border=\"1\" class=\"dataframe\">\n",
       "  <thead>\n",
       "    <tr style=\"text-align: right;\">\n",
       "      <th></th>\n",
       "      <th>model</th>\n",
       "      <th>finetuned</th>\n",
       "      <th>top_k</th>\n",
       "      <th>mrr</th>\n",
       "      <th>is_hit</th>\n",
       "    </tr>\n",
       "  </thead>\n",
       "  <tbody>\n",
       "    <tr>\n",
       "      <th>0</th>\n",
       "      <td>paraphrase-multilingual-MiniLM-L12-v2</td>\n",
       "      <td>True</td>\n",
       "      <td>1</td>\n",
       "      <td>0.436937</td>\n",
       "      <td>0.436937</td>\n",
       "    </tr>\n",
       "    <tr>\n",
       "      <th>1</th>\n",
       "      <td>paraphrase-multilingual-MiniLM-L12-v2</td>\n",
       "      <td>True</td>\n",
       "      <td>3</td>\n",
       "      <td>0.488739</td>\n",
       "      <td>0.554054</td>\n",
       "    </tr>\n",
       "    <tr>\n",
       "      <th>2</th>\n",
       "      <td>paraphrase-multilingual-MiniLM-L12-v2</td>\n",
       "      <td>True</td>\n",
       "      <td>5</td>\n",
       "      <td>0.497072</td>\n",
       "      <td>0.590090</td>\n",
       "    </tr>\n",
       "    <tr>\n",
       "      <th>3</th>\n",
       "      <td>paraphrase-multilingual-MiniLM-L12-v2</td>\n",
       "      <td>True</td>\n",
       "      <td>10</td>\n",
       "      <td>0.508980</td>\n",
       "      <td>0.680180</td>\n",
       "    </tr>\n",
       "  </tbody>\n",
       "</table>\n",
       "</div>"
      ],
      "text/plain": [
       "                                   model  finetuned  top_k       mrr    is_hit\n",
       "0  paraphrase-multilingual-MiniLM-L12-v2       True      1  0.436937  0.436937\n",
       "1  paraphrase-multilingual-MiniLM-L12-v2       True      3  0.488739  0.554054\n",
       "2  paraphrase-multilingual-MiniLM-L12-v2       True      5  0.497072  0.590090\n",
       "3  paraphrase-multilingual-MiniLM-L12-v2       True     10  0.508980  0.680180"
      ]
     },
     "execution_count": 17,
     "metadata": {},
     "output_type": "execute_result"
    }
   ],
   "source": [
    "dataset_name = \"QA/gpt-35-turbo_temperature_07_dataset.json\"\n",
    "temperature_level_07 = dataset_name.split(\"_\")[-2]\n",
    "logger.info(f\"Loading dataset with temperature level: {temperature_level_07}\")\n",
    "\n",
    "it_dataset_temperature = load_qa_dataset(dataset_name)\n",
    "\n",
    "df_results_no_finetuning_temp_07 = pd.DataFrame()\n",
    "for top_k in [1, 3, 5, 10]:\n",
    "    logger.info(f\"Evaluating for top_k={top_k}\")\n",
    "    df_paraphrase_l12_results_it = evaluate(dataset=it_dataset_temperature, \n",
    "                                            embed_model= embed_model_paraphrase_l12,\n",
    "                                            top_k=top_k, \n",
    "                                            verbose=True)\n",
    "    df_results_no_finetuning_temp_topk = dataframe_results(top_k, df_paraphrase_l12_results_it, finetuned=True)\n",
    "    df_results_no_finetuning_temp_07 = pd.concat([df_results_no_finetuning_temp_07, df_results_no_finetuning_temp_topk], ignore_index=True)\n",
    "\n",
    "df_results_no_finetuning_temp_07"
   ]
  },
  {
   "cell_type": "code",
   "execution_count": 18,
   "id": "57da6f5a",
   "metadata": {},
   "outputs": [
    {
     "name": "stderr",
     "output_type": "stream",
     "text": [
      "\u001b[32m2025-07-15 15:41:32.329\u001b[0m | \u001b[1mINFO    \u001b[0m | \u001b[36m__main__\u001b[0m:\u001b[36m<module>\u001b[0m:\u001b[36m3\u001b[0m - \u001b[1mLoading dataset with temperature level: 01\u001b[0m\n",
      "\u001b[32m2025-07-15 15:41:32.330\u001b[0m | \u001b[1mINFO    \u001b[0m | \u001b[36mutils.utils_embedding\u001b[0m:\u001b[36mload_qa_dataset\u001b[0m:\u001b[36m15\u001b[0m - \u001b[1mLoading dataset from QA/gpt-35-turbo_temperature_01_dataset.json\u001b[0m\n",
      "\u001b[32m2025-07-15 15:41:32.333\u001b[0m | \u001b[1mINFO    \u001b[0m | \u001b[36m__main__\u001b[0m:\u001b[36m<module>\u001b[0m:\u001b[36m9\u001b[0m - \u001b[1mEvaluating for top_k=1\u001b[0m\n",
      "Generating embeddings: 100%|██████████| 222/222 [00:00<00:00, 228.00it/s]\n",
      "100%|██████████| 222/222 [00:02<00:00, 74.87it/s]\n",
      "\u001b[32m2025-07-15 15:41:36.285\u001b[0m | \u001b[1mINFO    \u001b[0m | \u001b[36m__main__\u001b[0m:\u001b[36m<module>\u001b[0m:\u001b[36m9\u001b[0m - \u001b[1mEvaluating for top_k=3\u001b[0m\n",
      "Generating embeddings: 100%|██████████| 222/222 [00:00<00:00, 227.91it/s]\n",
      "100%|██████████| 222/222 [00:02<00:00, 81.00it/s]\n",
      "\u001b[32m2025-07-15 15:41:40.014\u001b[0m | \u001b[1mINFO    \u001b[0m | \u001b[36m__main__\u001b[0m:\u001b[36m<module>\u001b[0m:\u001b[36m9\u001b[0m - \u001b[1mEvaluating for top_k=5\u001b[0m\n",
      "Generating embeddings: 100%|██████████| 222/222 [00:00<00:00, 228.67it/s]\n",
      "100%|██████████| 222/222 [00:02<00:00, 79.05it/s]\n",
      "\u001b[32m2025-07-15 15:41:43.807\u001b[0m | \u001b[1mINFO    \u001b[0m | \u001b[36m__main__\u001b[0m:\u001b[36m<module>\u001b[0m:\u001b[36m9\u001b[0m - \u001b[1mEvaluating for top_k=10\u001b[0m\n",
      "Generating embeddings: 100%|██████████| 222/222 [00:00<00:00, 229.38it/s]\n",
      "100%|██████████| 222/222 [00:02<00:00, 79.10it/s]\n"
     ]
    },
    {
     "data": {
      "text/html": [
       "<div>\n",
       "<style scoped>\n",
       "    .dataframe tbody tr th:only-of-type {\n",
       "        vertical-align: middle;\n",
       "    }\n",
       "\n",
       "    .dataframe tbody tr th {\n",
       "        vertical-align: top;\n",
       "    }\n",
       "\n",
       "    .dataframe thead th {\n",
       "        text-align: right;\n",
       "    }\n",
       "</style>\n",
       "<table border=\"1\" class=\"dataframe\">\n",
       "  <thead>\n",
       "    <tr style=\"text-align: right;\">\n",
       "      <th></th>\n",
       "      <th>model</th>\n",
       "      <th>finetuned</th>\n",
       "      <th>top_k</th>\n",
       "      <th>mrr</th>\n",
       "      <th>is_hit</th>\n",
       "    </tr>\n",
       "  </thead>\n",
       "  <tbody>\n",
       "    <tr>\n",
       "      <th>0</th>\n",
       "      <td>paraphrase-multilingual-MiniLM-L12-v2</td>\n",
       "      <td>True</td>\n",
       "      <td>1</td>\n",
       "      <td>0.509009</td>\n",
       "      <td>0.509009</td>\n",
       "    </tr>\n",
       "    <tr>\n",
       "      <th>1</th>\n",
       "      <td>paraphrase-multilingual-MiniLM-L12-v2</td>\n",
       "      <td>True</td>\n",
       "      <td>3</td>\n",
       "      <td>0.561562</td>\n",
       "      <td>0.630631</td>\n",
       "    </tr>\n",
       "    <tr>\n",
       "      <th>2</th>\n",
       "      <td>paraphrase-multilingual-MiniLM-L12-v2</td>\n",
       "      <td>True</td>\n",
       "      <td>5</td>\n",
       "      <td>0.574625</td>\n",
       "      <td>0.689189</td>\n",
       "    </tr>\n",
       "    <tr>\n",
       "      <th>3</th>\n",
       "      <td>paraphrase-multilingual-MiniLM-L12-v2</td>\n",
       "      <td>True</td>\n",
       "      <td>10</td>\n",
       "      <td>0.579428</td>\n",
       "      <td>0.725225</td>\n",
       "    </tr>\n",
       "  </tbody>\n",
       "</table>\n",
       "</div>"
      ],
      "text/plain": [
       "                                   model  finetuned  top_k       mrr    is_hit\n",
       "0  paraphrase-multilingual-MiniLM-L12-v2       True      1  0.509009  0.509009\n",
       "1  paraphrase-multilingual-MiniLM-L12-v2       True      3  0.561562  0.630631\n",
       "2  paraphrase-multilingual-MiniLM-L12-v2       True      5  0.574625  0.689189\n",
       "3  paraphrase-multilingual-MiniLM-L12-v2       True     10  0.579428  0.725225"
      ]
     },
     "execution_count": 18,
     "metadata": {},
     "output_type": "execute_result"
    }
   ],
   "source": [
    "dataset_name = \"QA/gpt-35-turbo_temperature_01_dataset.json\"\n",
    "temperature_level_01 = dataset_name.split(\"_\")[-2]\n",
    "logger.info(f\"Loading dataset with temperature level: {temperature_level_01}\")\n",
    "\n",
    "it_dataset_temperature = load_qa_dataset(dataset_name)\n",
    "\n",
    "df_results_no_finetuning_temp_01 = pd.DataFrame()\n",
    "for top_k in [1, 3, 5, 10]:\n",
    "    logger.info(f\"Evaluating for top_k={top_k}\")\n",
    "    df_paraphrase_l12_results_it = evaluate(dataset=it_dataset_temperature, \n",
    "                                            embed_model= embed_model_paraphrase_l12,\n",
    "                                            top_k=top_k, \n",
    "                                            verbose=True)\n",
    "    df_results_no_finetuning_temp_topk = dataframe_results(top_k, df_paraphrase_l12_results_it, finetuned=True)\n",
    "    df_results_no_finetuning_temp_01 = pd.concat([df_results_no_finetuning_temp_01, df_results_no_finetuning_temp_topk], ignore_index=True)\n",
    "\n",
    "df_results_no_finetuning_temp_01"
   ]
  },
  {
   "cell_type": "code",
   "execution_count": 20,
   "id": "9468b81f",
   "metadata": {},
   "outputs": [
    {
     "data": {
      "image/png": "[encoded data removed]",
      "text/plain": [
       "<Figure size 640x480 with 1 Axes>"
      ]
     },
     "metadata": {},
     "output_type": "display_data"
    }
   ],
   "source": [
    "sns.lineplot(data=df_results_no_finetuning, x=\"top_k\", y=\"is_hit\")\n",
    "sns.lineplot(data=df_results_no_finetuning, x=\"top_k\", y=\"mrr\")\n",
    "sns.scatterplot(data=df_results_no_finetuning, x=\"top_k\", y=\"is_hit\", color=\"blue\", s=100, label=\"Hit Rate Scores\")\n",
    "sns.scatterplot(data=df_results_no_finetuning, x=\"top_k\", y=\"mrr\", color=\"orange\", s=100, label=\"MRR Scores\")\n",
    "\n",
    "sns.lineplot(data=df_results_no_finetuning_temp_07, x=\"top_k\", y=\"is_hit\", color=\"gray\", linestyle='--')\n",
    "sns.lineplot(data=df_results_no_finetuning_temp_07, x=\"top_k\", y=\"mrr\", color=\"yellow\", linestyle='--')\n",
    "sns.scatterplot(data=df_results_no_finetuning_temp_07, x=\"top_k\", y=\"is_hit\", color=\"gray\", s=100, label=f\"Hit Rate Scores (Temp {temperature_level_07})\", marker='o')\n",
    "sns.scatterplot(data=df_results_no_finetuning_temp_07, x=\"top_k\", y=\"mrr\", color=\"yellow\", s=100, label=f\"MRR Scores (Temp {temperature_level_07})\", marker='o')\n",
    "\n",
    "sns.lineplot(data=df_results_no_finetuning_temp_01, x=\"top_k\", y=\"is_hit\", color=\"green\", linestyle='--')\n",
    "sns.lineplot(data=df_results_no_finetuning_temp_01, x=\"top_k\", y=\"mrr\", color=\"red\", linestyle='--')\n",
    "sns.scatterplot(data=df_results_no_finetuning_temp_01, x=\"top_k\", y=\"is_hit\", color=\"green\", s=100, label=f\"Hit Rate Scores (Temp {temperature_level_01})\", marker='o')\n",
    "sns.scatterplot(data=df_results_no_finetuning_temp_01, x=\"top_k\", y=\"mrr\", color=\"red\", s=100, label=f\"MRR Scores (Temp {temperature_level_01})\", marker='o')\n",
    "\n",
    "plt.title(\"Results for different top-k\")\n",
    "plt.xlabel(\"Top-k\")\n",
    "plt.ylabel(\"Metric of Interest\")\n",
    "plt.xticks(ticks=df_results_no_finetuning[\"top_k\"].unique())\n",
    "plt.grid(True)\n",
    "plt.tight_layout()\n",
    "plt.show()"
   ]
  }
 ],
 "metadata": {
  "kernelspec": {
   "display_name": "agent",
   "language": "python",
   "name": "python3"
  },
  "language_info": {
   "codemirror_mode": {
    "name": "ipython",
    "version": 3
   },
   "file_extension": ".py",
   "mimetype": "text/x-python",
   "name": "python",
   "nbconvert_exporter": "python",
   "pygments_lexer": "ipython3",
   "version": "3.11.13"
  }
 },
 "nbformat": 4,
 "nbformat_minor": 5
}
