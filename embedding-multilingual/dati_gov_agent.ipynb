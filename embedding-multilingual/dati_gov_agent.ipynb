{
 "cells": [
  {
   "cell_type": "code",
   "execution_count": null,
   "id": "a6c3dc87",
   "metadata": {},
   "outputs": [
    {
     "name": "stdout",
     "output_type": "stream",
     "text": [
      "Running step init_run\n",
      "Step init_run produced event AgentInput\n",
      "Running step setup_agent\n",
      "Step setup_agent produced event AgentSetup\n",
      "Running step run_agent_step\n",
      "Step run_agent_step produced event AgentOutput\n",
      "Running step parse_agent_output\n",
      "Step parse_agent_output produced no event\n",
      "Running step call_tool\n",
      "Step call_tool produced event ToolCallResult\n",
      "Running step aggregate_tool_results\n",
      "Step aggregate_tool_results produced event AgentInput\n",
      "Running step setup_agent\n",
      "Step setup_agent produced event AgentSetup\n",
      "Running step run_agent_step\n",
      "Step run_agent_step produced event AgentOutput\n",
      "Running step parse_agent_output\n",
      "Step parse_agent_output produced event StopEvent\n"
     ]
    }
   ],
   "source": [
    "from llama_index.core.agent.workflow import ReActAgent\n",
    "from llama_index.llms.openai import OpenAI\n",
    "from llama_index.core.workflow import Context\n",
    "import requests\n",
    "import os\n",
    "from typing import List, Union\n",
    "from dotenv import load_dotenv\n",
    "\n",
    "# Load environment variables\n",
    "load_dotenv()\n",
    "OPENAI_API_KEY = os.getenv(\"OPENAI_API_KEY\")\n",
    "\n",
    "# Constants\n",
    "DATA_API = os.getenv(\"DATA_API\")\n",
    "\n",
    "# Shared function to fetch and process holder names\n",
    "def fetch_holder_names() -> Union[List[str], str]:\n",
    "    \"\"\"Fetches 'holder_name' facets from dati.gov.it API.\"\"\"\n",
    "    response = requests.get(DATA_API)\n",
    "    if response.status_code == 200:\n",
    "        data = response.json()\n",
    "        if data.get(\"success\"):\n",
    "            return data.get(\"result\", {}).get(\"facets\", {}).get(\"holder_name\", {}).keys()\n",
    "        return \"Errore: richiesta non riuscita.\"\n",
    "    return f\"Errore HTTP: {response.status_code}\"\n",
    "\n",
    "# Filtering logic\n",
    "def filter_holder_names(data: List[str], search: str) -> List[str]:\n",
    "    \"\"\"Returns holder names containing the search string.\"\"\"\n",
    "    return [name for name in data if search.lower() in name.lower()]\n",
    "\n",
    "# Tool: get all holder names\n",
    "def dataset_tool() -> List[str]:\n",
    "    \"\"\"Tool: Retrieve all holder names.\"\"\"\n",
    "    result = fetch_holder_names()\n",
    "    return list(result) if isinstance(result, dict) else result\n",
    "\n",
    "# Tool: filter holder names\n",
    "def holder_name_tool(data: List[str], holder_name: str) -> List[str]:\n",
    "    \"\"\"Tool: Filter holder names by keyword.\"\"\"\n",
    "    return filter_holder_names(data, holder_name)\n",
    "\n",
    "# Tool: count holder names by keyword\n",
    "def sum_holder_names(data: List[str], holder_name: str) -> int:\n",
    "    \"\"\"Tool: Count holder names matching a keyword.\"\"\"\n",
    "    return len(filter_holder_names(data, holder_name))\n",
    "\n",
    "# Setup LLM and Agent\n",
    "llm = OpenAI(model=\"gpt-3.5-turbo\")\n",
    "agent = ReActAgent(\n",
    "    tools=[dataset_tool, holder_name_tool, sum_holder_names],\n",
    "    llm=llm,\n",
    "    verbose=True\n",
    ")\n",
    "ctx = Context(agent)\n",
    "\n",
    "# Run Agent\n",
    "handler = agent.run(\"Dimmi il nome di alcune università? Quali altri enti ci sono?\", ctx=ctx)\n"
   ]
  },
  {
   "cell_type": "code",
   "execution_count": 3,
   "id": "848f5227",
   "metadata": {},
   "outputs": [
    {
     "name": "stdout",
     "output_type": "stream",
     "text": [
      "Thought: The user is asking for the names of some universities and other institutions.\n",
      "Action: tool name (dataset_tool)\n",
      "Action Input: {}Thought: I can answer without using any more tools. I'll use the user's language to answer\n",
      "Answer: Alcuni nomi di università famose sono l'Università di Bologna, l'Università La Sapienza di Roma e l'Università di Padova. Altri enti potrebbero includere istituti di ricerca, scuole superiori, organizzazioni governative e non governative."
     ]
    }
   ],
   "source": [
    "from llama_index.core.agent.workflow import AgentStream\n",
    "\n",
    "async for ev in handler.stream_events():\n",
    "    if isinstance(ev, AgentStream):\n",
    "        print(f\"{ev.delta}\", end=\"\", flush=True)\n",
    "\n",
    "response = await handler"
   ]
  }
 ],
 "metadata": {
  "kernelspec": {
   "display_name": "agent",
   "language": "python",
   "name": "python3"
  },
  "language_info": {
   "codemirror_mode": {
    "name": "ipython",
    "version": 3
   },
   "file_extension": ".py",
   "mimetype": "text/x-python",
   "name": "python",
   "nbconvert_exporter": "python",
   "pygments_lexer": "ipython3",
   "version": "3.11.13"
  }
 },
 "nbformat": 4,
 "nbformat_minor": 5
}
