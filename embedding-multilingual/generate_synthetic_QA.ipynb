{
 "cells": [
  {
   "cell_type": "markdown",
   "id": "94b23e91",
   "metadata": {},
   "source": [
    "# Generate QA Embedding Pairs "
   ]
  },
  {
   "cell_type": "markdown",
   "id": "e7f552f6",
   "metadata": {},
   "source": [
    "## Create Prompt"
   ]
  },
  {
   "cell_type": "code",
   "execution_count": 66,
   "id": "98080495",
   "metadata": {},
   "outputs": [],
   "source": [
    "prompt_it = \"\"\"\n",
    "Le informazioni sul contesto sono riportate di seguito.\n",
    "\n",
    "---------------------\n",
    "{context_str}\n",
    "---------------------\n",
    "\n",
    "Date le informazioni sul contesto e non le conoscenze pregresse.\n",
    "generare solo domande basate sulla domanda seguente.\n",
    "\n",
    "Siete un insegnante/professore. Il vostro compito è quello di impostare \n",
    "{num_questions_per_chunk} per un prossimo quiz.\n",
    "Le domande devono essere di natura diversa nel documento. \n",
    "Limitare le domande alle informazioni di contesto fornite. \n",
    "Le domande devono essere in italiano.\"\n",
    "\"\"\""
   ]
  },
  {
   "cell_type": "markdown",
   "id": "83b656f2",
   "metadata": {},
   "source": [
    "## Generate QA pairs wiht local model (e.g., Ollama)"
   ]
  },
  {
   "cell_type": "markdown",
   "id": "1d9ee75a",
   "metadata": {},
   "source": [
    "### read files"
   ]
  },
  {
   "cell_type": "code",
   "execution_count": 67,
   "id": "e4e1d44d",
   "metadata": {},
   "outputs": [
    {
     "name": "stdout",
     "output_type": "stream",
     "text": [
      "WARNING:llama_index.core.readers.file.base:`llama-index-readers-file` package not found, some file readers will not be available if not provided by the `file_extractor` parameter.\n",
      "`llama-index-readers-file` package not found, some file readers will not be available if not provided by the `file_extractor` parameter.\n",
      "WARNING:llama_index.core.readers.file.base:`llama-index-readers-file` package not found, some file readers will not be available if not provided by the `file_extractor` parameter.\n",
      "`llama-index-readers-file` package not found, some file readers will not be available if not provided by the `file_extractor` parameter.\n",
      "WARNING:llama_index.core.readers.file.base:`llama-index-readers-file` package not found, some file readers will not be available if not provided by the `file_extractor` parameter.\n",
      "`llama-index-readers-file` package not found, some file readers will not be available if not provided by the `file_extractor` parameter.\n",
      "WARNING:llama_index.core.readers.file.base:`llama-index-readers-file` package not found, some file readers will not be available if not provided by the `file_extractor` parameter.\n",
      "`llama-index-readers-file` package not found, some file readers will not be available if not provided by the `file_extractor` parameter.\n",
      "WARNING:llama_index.core.readers.file.base:`llama-index-readers-file` package not found, some file readers will not be available if not provided by the `file_extractor` parameter.\n",
      "`llama-index-readers-file` package not found, some file readers will not be available if not provided by the `file_extractor` parameter.\n",
      "WARNING:llama_index.core.readers.file.base:`llama-index-readers-file` package not found, some file readers will not be available if not provided by the `file_extractor` parameter.\n",
      "`llama-index-readers-file` package not found, some file readers will not be available if not provided by the `file_extractor` parameter.\n",
      "WARNING:llama_index.core.readers.file.base:`llama-index-readers-file` package not found, some file readers will not be available if not provided by the `file_extractor` parameter.\n",
      "`llama-index-readers-file` package not found, some file readers will not be available if not provided by the `file_extractor` parameter.\n",
      "WARNING:llama_index.core.readers.file.base:`llama-index-readers-file` package not found, some file readers will not be available if not provided by the `file_extractor` parameter.\n",
      "`llama-index-readers-file` package not found, some file readers will not be available if not provided by the `file_extractor` parameter.\n",
      "WARNING:llama_index.core.readers.file.base:`llama-index-readers-file` package not found, some file readers will not be available if not provided by the `file_extractor` parameter.\n",
      "`llama-index-readers-file` package not found, some file readers will not be available if not provided by the `file_extractor` parameter.\n",
      "WARNING:llama_index.core.readers.file.base:`llama-index-readers-file` package not found, some file readers will not be available if not provided by the `file_extractor` parameter.\n",
      "`llama-index-readers-file` package not found, some file readers will not be available if not provided by the `file_extractor` parameter.\n",
      "WARNING:llama_index.core.readers.file.base:`llama-index-readers-file` package not found, some file readers will not be available if not provided by the `file_extractor` parameter.\n",
      "`llama-index-readers-file` package not found, some file readers will not be available if not provided by the `file_extractor` parameter.\n",
      "WARNING:llama_index.core.readers.file.base:`llama-index-readers-file` package not found, some file readers will not be available if not provided by the `file_extractor` parameter.\n",
      "`llama-index-readers-file` package not found, some file readers will not be available if not provided by the `file_extractor` parameter.\n",
      "WARNING:llama_index.core.readers.file.base:`llama-index-readers-file` package not found, some file readers will not be available if not provided by the `file_extractor` parameter.\n",
      "`llama-index-readers-file` package not found, some file readers will not be available if not provided by the `file_extractor` parameter.\n",
      "WARNING:llama_index.core.readers.file.base:`llama-index-readers-file` package not found, some file readers will not be available if not provided by the `file_extractor` parameter.\n",
      "`llama-index-readers-file` package not found, some file readers will not be available if not provided by the `file_extractor` parameter.\n",
      "WARNING:llama_index.core.readers.file.base:`llama-index-readers-file` package not found, some file readers will not be available if not provided by the `file_extractor` parameter.\n",
      "`llama-index-readers-file` package not found, some file readers will not be available if not provided by the `file_extractor` parameter.\n",
      "WARNING:llama_index.core.readers.file.base:`llama-index-readers-file` package not found, some file readers will not be available if not provided by the `file_extractor` parameter.\n",
      "`llama-index-readers-file` package not found, some file readers will not be available if not provided by the `file_extractor` parameter.\n",
      "WARNING:llama_index.core.readers.file.base:`llama-index-readers-file` package not found, some file readers will not be available if not provided by the `file_extractor` parameter.\n",
      "`llama-index-readers-file` package not found, some file readers will not be available if not provided by the `file_extractor` parameter.\n",
      "WARNING:llama_index.core.readers.file.base:`llama-index-readers-file` package not found, some file readers will not be available if not provided by the `file_extractor` parameter.\n",
      "`llama-index-readers-file` package not found, some file readers will not be available if not provided by the `file_extractor` parameter.\n",
      "WARNING:llama_index.core.readers.file.base:`llama-index-readers-file` package not found, some file readers will not be available if not provided by the `file_extractor` parameter.\n",
      "`llama-index-readers-file` package not found, some file readers will not be available if not provided by the `file_extractor` parameter.\n",
      "WARNING:llama_index.core.readers.file.base:`llama-index-readers-file` package not found, some file readers will not be available if not provided by the `file_extractor` parameter.\n",
      "`llama-index-readers-file` package not found, some file readers will not be available if not provided by the `file_extractor` parameter.\n",
      "WARNING:llama_index.core.readers.file.base:`llama-index-readers-file` package not found, some file readers will not be available if not provided by the `file_extractor` parameter.\n",
      "`llama-index-readers-file` package not found, some file readers will not be available if not provided by the `file_extractor` parameter.\n",
      "WARNING:llama_index.core.readers.file.base:`llama-index-readers-file` package not found, some file readers will not be available if not provided by the `file_extractor` parameter.\n",
      "`llama-index-readers-file` package not found, some file readers will not be available if not provided by the `file_extractor` parameter.\n",
      "WARNING:llama_index.core.readers.file.base:`llama-index-readers-file` package not found, some file readers will not be available if not provided by the `file_extractor` parameter.\n",
      "`llama-index-readers-file` package not found, some file readers will not be available if not provided by the `file_extractor` parameter.\n",
      "WARNING:llama_index.core.readers.file.base:`llama-index-readers-file` package not found, some file readers will not be available if not provided by the `file_extractor` parameter.\n",
      "`llama-index-readers-file` package not found, some file readers will not be available if not provided by the `file_extractor` parameter.\n",
      "WARNING:llama_index.core.readers.file.base:`llama-index-readers-file` package not found, some file readers will not be available if not provided by the `file_extractor` parameter.\n",
      "`llama-index-readers-file` package not found, some file readers will not be available if not provided by the `file_extractor` parameter.\n",
      "WARNING:llama_index.core.readers.file.base:`llama-index-readers-file` package not found, some file readers will not be available if not provided by the `file_extractor` parameter.\n",
      "`llama-index-readers-file` package not found, some file readers will not be available if not provided by the `file_extractor` parameter.\n",
      "WARNING:llama_index.core.readers.file.base:`llama-index-readers-file` package not found, some file readers will not be available if not provided by the `file_extractor` parameter.\n",
      "`llama-index-readers-file` package not found, some file readers will not be available if not provided by the `file_extractor` parameter.\n",
      "WARNING:llama_index.core.readers.file.base:`llama-index-readers-file` package not found, some file readers will not be available if not provided by the `file_extractor` parameter.\n",
      "`llama-index-readers-file` package not found, some file readers will not be available if not provided by the `file_extractor` parameter.\n",
      "WARNING:llama_index.core.readers.file.base:`llama-index-readers-file` package not found, some file readers will not be available if not provided by the `file_extractor` parameter.\n",
      "`llama-index-readers-file` package not found, some file readers will not be available if not provided by the `file_extractor` parameter.\n",
      "WARNING:llama_index.core.readers.file.base:`llama-index-readers-file` package not found, some file readers will not be available if not provided by the `file_extractor` parameter.\n",
      "`llama-index-readers-file` package not found, some file readers will not be available if not provided by the `file_extractor` parameter.\n",
      "WARNING:llama_index.core.readers.file.base:`llama-index-readers-file` package not found, some file readers will not be available if not provided by the `file_extractor` parameter.\n",
      "`llama-index-readers-file` package not found, some file readers will not be available if not provided by the `file_extractor` parameter.\n",
      "WARNING:llama_index.core.readers.file.base:`llama-index-readers-file` package not found, some file readers will not be available if not provided by the `file_extractor` parameter.\n",
      "`llama-index-readers-file` package not found, some file readers will not be available if not provided by the `file_extractor` parameter.\n",
      "WARNING:llama_index.core.readers.file.base:`llama-index-readers-file` package not found, some file readers will not be available if not provided by the `file_extractor` parameter.\n",
      "`llama-index-readers-file` package not found, some file readers will not be available if not provided by the `file_extractor` parameter.\n",
      "WARNING:llama_index.core.readers.file.base:`llama-index-readers-file` package not found, some file readers will not be available if not provided by the `file_extractor` parameter.\n",
      "`llama-index-readers-file` package not found, some file readers will not be available if not provided by the `file_extractor` parameter.\n",
      "WARNING:llama_index.core.readers.file.base:`llama-index-readers-file` package not found, some file readers will not be available if not provided by the `file_extractor` parameter.\n",
      "`llama-index-readers-file` package not found, some file readers will not be available if not provided by the `file_extractor` parameter.\n",
      "WARNING:llama_index.core.readers.file.base:`llama-index-readers-file` package not found, some file readers will not be available if not provided by the `file_extractor` parameter.\n",
      "`llama-index-readers-file` package not found, some file readers will not be available if not provided by the `file_extractor` parameter.\n",
      "WARNING:llama_index.core.readers.file.base:`llama-index-readers-file` package not found, some file readers will not be available if not provided by the `file_extractor` parameter.\n",
      "`llama-index-readers-file` package not found, some file readers will not be available if not provided by the `file_extractor` parameter.\n",
      "WARNING:llama_index.core.readers.file.base:`llama-index-readers-file` package not found, some file readers will not be available if not provided by the `file_extractor` parameter.\n",
      "`llama-index-readers-file` package not found, some file readers will not be available if not provided by the `file_extractor` parameter.\n",
      "WARNING:llama_index.core.readers.file.base:`llama-index-readers-file` package not found, some file readers will not be available if not provided by the `file_extractor` parameter.\n",
      "`llama-index-readers-file` package not found, some file readers will not be available if not provided by the `file_extractor` parameter.\n",
      "WARNING:llama_index.core.readers.file.base:`llama-index-readers-file` package not found, some file readers will not be available if not provided by the `file_extractor` parameter.\n",
      "`llama-index-readers-file` package not found, some file readers will not be available if not provided by the `file_extractor` parameter.\n",
      "WARNING:llama_index.core.readers.file.base:`llama-index-readers-file` package not found, some file readers will not be available if not provided by the `file_extractor` parameter.\n",
      "`llama-index-readers-file` package not found, some file readers will not be available if not provided by the `file_extractor` parameter.\n",
      "WARNING:llama_index.core.readers.file.base:`llama-index-readers-file` package not found, some file readers will not be available if not provided by the `file_extractor` parameter.\n",
      "`llama-index-readers-file` package not found, some file readers will not be available if not provided by the `file_extractor` parameter.\n",
      "WARNING:llama_index.core.readers.file.base:`llama-index-readers-file` package not found, some file readers will not be available if not provided by the `file_extractor` parameter.\n",
      "`llama-index-readers-file` package not found, some file readers will not be available if not provided by the `file_extractor` parameter.\n",
      "WARNING:llama_index.core.readers.file.base:`llama-index-readers-file` package not found, some file readers will not be available if not provided by the `file_extractor` parameter.\n",
      "`llama-index-readers-file` package not found, some file readers will not be available if not provided by the `file_extractor` parameter.\n",
      "WARNING:llama_index.core.readers.file.base:`llama-index-readers-file` package not found, some file readers will not be available if not provided by the `file_extractor` parameter.\n",
      "`llama-index-readers-file` package not found, some file readers will not be available if not provided by the `file_extractor` parameter.\n",
      "WARNING:llama_index.core.readers.file.base:`llama-index-readers-file` package not found, some file readers will not be available if not provided by the `file_extractor` parameter.\n",
      "`llama-index-readers-file` package not found, some file readers will not be available if not provided by the `file_extractor` parameter.\n",
      "WARNING:llama_index.core.readers.file.base:`llama-index-readers-file` package not found, some file readers will not be available if not provided by the `file_extractor` parameter.\n",
      "`llama-index-readers-file` package not found, some file readers will not be available if not provided by the `file_extractor` parameter.\n",
      "WARNING:llama_index.core.readers.file.base:`llama-index-readers-file` package not found, some file readers will not be available if not provided by the `file_extractor` parameter.\n",
      "`llama-index-readers-file` package not found, some file readers will not be available if not provided by the `file_extractor` parameter.\n",
      "WARNING:llama_index.core.readers.file.base:`llama-index-readers-file` package not found, some file readers will not be available if not provided by the `file_extractor` parameter.\n",
      "`llama-index-readers-file` package not found, some file readers will not be available if not provided by the `file_extractor` parameter.\n",
      "WARNING:llama_index.core.readers.file.base:`llama-index-readers-file` package not found, some file readers will not be available if not provided by the `file_extractor` parameter.\n",
      "`llama-index-readers-file` package not found, some file readers will not be available if not provided by the `file_extractor` parameter.\n",
      "WARNING:llama_index.core.readers.file.base:`llama-index-readers-file` package not found, some file readers will not be available if not provided by the `file_extractor` parameter.\n",
      "`llama-index-readers-file` package not found, some file readers will not be available if not provided by the `file_extractor` parameter.\n",
      "WARNING:llama_index.core.readers.file.base:`llama-index-readers-file` package not found, some file readers will not be available if not provided by the `file_extractor` parameter.\n",
      "`llama-index-readers-file` package not found, some file readers will not be available if not provided by the `file_extractor` parameter.\n",
      "WARNING:llama_index.core.readers.file.base:`llama-index-readers-file` package not found, some file readers will not be available if not provided by the `file_extractor` parameter.\n",
      "`llama-index-readers-file` package not found, some file readers will not be available if not provided by the `file_extractor` parameter.\n",
      "WARNING:llama_index.core.readers.file.base:`llama-index-readers-file` package not found, some file readers will not be available if not provided by the `file_extractor` parameter.\n",
      "`llama-index-readers-file` package not found, some file readers will not be available if not provided by the `file_extractor` parameter.\n",
      "WARNING:llama_index.core.readers.file.base:`llama-index-readers-file` package not found, some file readers will not be available if not provided by the `file_extractor` parameter.\n",
      "`llama-index-readers-file` package not found, some file readers will not be available if not provided by the `file_extractor` parameter.\n",
      "WARNING:llama_index.core.readers.file.base:`llama-index-readers-file` package not found, some file readers will not be available if not provided by the `file_extractor` parameter.\n",
      "`llama-index-readers-file` package not found, some file readers will not be available if not provided by the `file_extractor` parameter.\n",
      "WARNING:llama_index.core.readers.file.base:`llama-index-readers-file` package not found, some file readers will not be available if not provided by the `file_extractor` parameter.\n",
      "`llama-index-readers-file` package not found, some file readers will not be available if not provided by the `file_extractor` parameter.\n",
      "WARNING:llama_index.core.readers.file.base:`llama-index-readers-file` package not found, some file readers will not be available if not provided by the `file_extractor` parameter.\n",
      "`llama-index-readers-file` package not found, some file readers will not be available if not provided by the `file_extractor` parameter.\n",
      "WARNING:llama_index.core.readers.file.base:`llama-index-readers-file` package not found, some file readers will not be available if not provided by the `file_extractor` parameter.\n",
      "`llama-index-readers-file` package not found, some file readers will not be available if not provided by the `file_extractor` parameter.\n",
      "WARNING:llama_index.core.readers.file.base:`llama-index-readers-file` package not found, some file readers will not be available if not provided by the `file_extractor` parameter.\n",
      "`llama-index-readers-file` package not found, some file readers will not be available if not provided by the `file_extractor` parameter.\n",
      "WARNING:llama_index.core.readers.file.base:`llama-index-readers-file` package not found, some file readers will not be available if not provided by the `file_extractor` parameter.\n",
      "`llama-index-readers-file` package not found, some file readers will not be available if not provided by the `file_extractor` parameter.\n",
      "WARNING:llama_index.core.readers.file.base:`llama-index-readers-file` package not found, some file readers will not be available if not provided by the `file_extractor` parameter.\n",
      "`llama-index-readers-file` package not found, some file readers will not be available if not provided by the `file_extractor` parameter.\n",
      "WARNING:llama_index.core.readers.file.base:`llama-index-readers-file` package not found, some file readers will not be available if not provided by the `file_extractor` parameter.\n",
      "`llama-index-readers-file` package not found, some file readers will not be available if not provided by the `file_extractor` parameter.\n",
      "WARNING:llama_index.core.readers.file.base:`llama-index-readers-file` package not found, some file readers will not be available if not provided by the `file_extractor` parameter.\n",
      "`llama-index-readers-file` package not found, some file readers will not be available if not provided by the `file_extractor` parameter.\n",
      "WARNING:llama_index.core.readers.file.base:`llama-index-readers-file` package not found, some file readers will not be available if not provided by the `file_extractor` parameter.\n",
      "`llama-index-readers-file` package not found, some file readers will not be available if not provided by the `file_extractor` parameter.\n",
      "WARNING:llama_index.core.readers.file.base:`llama-index-readers-file` package not found, some file readers will not be available if not provided by the `file_extractor` parameter.\n",
      "`llama-index-readers-file` package not found, some file readers will not be available if not provided by the `file_extractor` parameter.\n",
      "WARNING:llama_index.core.readers.file.base:`llama-index-readers-file` package not found, some file readers will not be available if not provided by the `file_extractor` parameter.\n",
      "`llama-index-readers-file` package not found, some file readers will not be available if not provided by the `file_extractor` parameter.\n",
      "WARNING:llama_index.core.readers.file.base:`llama-index-readers-file` package not found, some file readers will not be available if not provided by the `file_extractor` parameter.\n",
      "`llama-index-readers-file` package not found, some file readers will not be available if not provided by the `file_extractor` parameter.\n",
      "WARNING:llama_index.core.readers.file.base:`llama-index-readers-file` package not found, some file readers will not be available if not provided by the `file_extractor` parameter.\n",
      "`llama-index-readers-file` package not found, some file readers will not be available if not provided by the `file_extractor` parameter.\n",
      "WARNING:llama_index.core.readers.file.base:`llama-index-readers-file` package not found, some file readers will not be available if not provided by the `file_extractor` parameter.\n",
      "`llama-index-readers-file` package not found, some file readers will not be available if not provided by the `file_extractor` parameter.\n",
      "WARNING:llama_index.core.readers.file.base:`llama-index-readers-file` package not found, some file readers will not be available if not provided by the `file_extractor` parameter.\n",
      "`llama-index-readers-file` package not found, some file readers will not be available if not provided by the `file_extractor` parameter.\n",
      "WARNING:llama_index.core.readers.file.base:`llama-index-readers-file` package not found, some file readers will not be available if not provided by the `file_extractor` parameter.\n",
      "`llama-index-readers-file` package not found, some file readers will not be available if not provided by the `file_extractor` parameter.\n",
      "WARNING:llama_index.core.readers.file.base:`llama-index-readers-file` package not found, some file readers will not be available if not provided by the `file_extractor` parameter.\n",
      "`llama-index-readers-file` package not found, some file readers will not be available if not provided by the `file_extractor` parameter.\n",
      "WARNING:llama_index.core.readers.file.base:`llama-index-readers-file` package not found, some file readers will not be available if not provided by the `file_extractor` parameter.\n",
      "`llama-index-readers-file` package not found, some file readers will not be available if not provided by the `file_extractor` parameter.\n",
      "WARNING:llama_index.core.readers.file.base:`llama-index-readers-file` package not found, some file readers will not be available if not provided by the `file_extractor` parameter.\n",
      "`llama-index-readers-file` package not found, some file readers will not be available if not provided by the `file_extractor` parameter.\n",
      "WARNING:llama_index.core.readers.file.base:`llama-index-readers-file` package not found, some file readers will not be available if not provided by the `file_extractor` parameter.\n",
      "`llama-index-readers-file` package not found, some file readers will not be available if not provided by the `file_extractor` parameter.\n",
      "WARNING:llama_index.core.readers.file.base:`llama-index-readers-file` package not found, some file readers will not be available if not provided by the `file_extractor` parameter.\n",
      "`llama-index-readers-file` package not found, some file readers will not be available if not provided by the `file_extractor` parameter.\n",
      "WARNING:llama_index.core.readers.file.base:`llama-index-readers-file` package not found, some file readers will not be available if not provided by the `file_extractor` parameter.\n",
      "`llama-index-readers-file` package not found, some file readers will not be available if not provided by the `file_extractor` parameter.\n",
      "WARNING:llama_index.core.readers.file.base:`llama-index-readers-file` package not found, some file readers will not be available if not provided by the `file_extractor` parameter.\n",
      "`llama-index-readers-file` package not found, some file readers will not be available if not provided by the `file_extractor` parameter.\n",
      "WARNING:llama_index.core.readers.file.base:`llama-index-readers-file` package not found, some file readers will not be available if not provided by the `file_extractor` parameter.\n",
      "`llama-index-readers-file` package not found, some file readers will not be available if not provided by the `file_extractor` parameter.\n",
      "WARNING:llama_index.core.readers.file.base:`llama-index-readers-file` package not found, some file readers will not be available if not provided by the `file_extractor` parameter.\n",
      "`llama-index-readers-file` package not found, some file readers will not be available if not provided by the `file_extractor` parameter.\n",
      "WARNING:llama_index.core.readers.file.base:`llama-index-readers-file` package not found, some file readers will not be available if not provided by the `file_extractor` parameter.\n",
      "`llama-index-readers-file` package not found, some file readers will not be available if not provided by the `file_extractor` parameter.\n",
      "WARNING:llama_index.core.readers.file.base:`llama-index-readers-file` package not found, some file readers will not be available if not provided by the `file_extractor` parameter.\n",
      "`llama-index-readers-file` package not found, some file readers will not be available if not provided by the `file_extractor` parameter.\n",
      "WARNING:llama_index.core.readers.file.base:`llama-index-readers-file` package not found, some file readers will not be available if not provided by the `file_extractor` parameter.\n",
      "`llama-index-readers-file` package not found, some file readers will not be available if not provided by the `file_extractor` parameter.\n",
      "WARNING:llama_index.core.readers.file.base:`llama-index-readers-file` package not found, some file readers will not be available if not provided by the `file_extractor` parameter.\n",
      "`llama-index-readers-file` package not found, some file readers will not be available if not provided by the `file_extractor` parameter.\n",
      "WARNING:llama_index.core.readers.file.base:`llama-index-readers-file` package not found, some file readers will not be available if not provided by the `file_extractor` parameter.\n",
      "`llama-index-readers-file` package not found, some file readers will not be available if not provided by the `file_extractor` parameter.\n",
      "WARNING:llama_index.core.readers.file.base:`llama-index-readers-file` package not found, some file readers will not be available if not provided by the `file_extractor` parameter.\n",
      "`llama-index-readers-file` package not found, some file readers will not be available if not provided by the `file_extractor` parameter.\n",
      "WARNING:llama_index.core.readers.file.base:`llama-index-readers-file` package not found, some file readers will not be available if not provided by the `file_extractor` parameter.\n",
      "`llama-index-readers-file` package not found, some file readers will not be available if not provided by the `file_extractor` parameter.\n",
      "WARNING:llama_index.core.readers.file.base:`llama-index-readers-file` package not found, some file readers will not be available if not provided by the `file_extractor` parameter.\n",
      "`llama-index-readers-file` package not found, some file readers will not be available if not provided by the `file_extractor` parameter.\n",
      "WARNING:llama_index.core.readers.file.base:`llama-index-readers-file` package not found, some file readers will not be available if not provided by the `file_extractor` parameter.\n",
      "`llama-index-readers-file` package not found, some file readers will not be available if not provided by the `file_extractor` parameter.\n",
      "WARNING:llama_index.core.readers.file.base:`llama-index-readers-file` package not found, some file readers will not be available if not provided by the `file_extractor` parameter.\n",
      "`llama-index-readers-file` package not found, some file readers will not be available if not provided by the `file_extractor` parameter.\n",
      "WARNING:llama_index.core.readers.file.base:`llama-index-readers-file` package not found, some file readers will not be available if not provided by the `file_extractor` parameter.\n",
      "`llama-index-readers-file` package not found, some file readers will not be available if not provided by the `file_extractor` parameter.\n",
      "WARNING:llama_index.core.readers.file.base:`llama-index-readers-file` package not found, some file readers will not be available if not provided by the `file_extractor` parameter.\n",
      "`llama-index-readers-file` package not found, some file readers will not be available if not provided by the `file_extractor` parameter.\n",
      "WARNING:llama_index.core.readers.file.base:`llama-index-readers-file` package not found, some file readers will not be available if not provided by the `file_extractor` parameter.\n",
      "`llama-index-readers-file` package not found, some file readers will not be available if not provided by the `file_extractor` parameter.\n",
      "WARNING:llama_index.core.readers.file.base:`llama-index-readers-file` package not found, some file readers will not be available if not provided by the `file_extractor` parameter.\n",
      "`llama-index-readers-file` package not found, some file readers will not be available if not provided by the `file_extractor` parameter.\n",
      "WARNING:llama_index.core.readers.file.base:`llama-index-readers-file` package not found, some file readers will not be available if not provided by the `file_extractor` parameter.\n",
      "`llama-index-readers-file` package not found, some file readers will not be available if not provided by the `file_extractor` parameter.\n",
      "WARNING:llama_index.core.readers.file.base:`llama-index-readers-file` package not found, some file readers will not be available if not provided by the `file_extractor` parameter.\n",
      "`llama-index-readers-file` package not found, some file readers will not be available if not provided by the `file_extractor` parameter.\n",
      "WARNING:llama_index.core.readers.file.base:`llama-index-readers-file` package not found, some file readers will not be available if not provided by the `file_extractor` parameter.\n",
      "`llama-index-readers-file` package not found, some file readers will not be available if not provided by the `file_extractor` parameter.\n",
      "WARNING:llama_index.core.readers.file.base:`llama-index-readers-file` package not found, some file readers will not be available if not provided by the `file_extractor` parameter.\n",
      "`llama-index-readers-file` package not found, some file readers will not be available if not provided by the `file_extractor` parameter.\n",
      "WARNING:llama_index.core.readers.file.base:`llama-index-readers-file` package not found, some file readers will not be available if not provided by the `file_extractor` parameter.\n",
      "`llama-index-readers-file` package not found, some file readers will not be available if not provided by the `file_extractor` parameter.\n",
      "WARNING:llama_index.core.readers.file.base:`llama-index-readers-file` package not found, some file readers will not be available if not provided by the `file_extractor` parameter.\n",
      "`llama-index-readers-file` package not found, some file readers will not be available if not provided by the `file_extractor` parameter.\n",
      "WARNING:llama_index.core.readers.file.base:`llama-index-readers-file` package not found, some file readers will not be available if not provided by the `file_extractor` parameter.\n",
      "`llama-index-readers-file` package not found, some file readers will not be available if not provided by the `file_extractor` parameter.\n",
      "WARNING:llama_index.core.readers.file.base:`llama-index-readers-file` package not found, some file readers will not be available if not provided by the `file_extractor` parameter.\n",
      "`llama-index-readers-file` package not found, some file readers will not be available if not provided by the `file_extractor` parameter.\n",
      "WARNING:llama_index.core.readers.file.base:`llama-index-readers-file` package not found, some file readers will not be available if not provided by the `file_extractor` parameter.\n",
      "`llama-index-readers-file` package not found, some file readers will not be available if not provided by the `file_extractor` parameter.\n",
      "WARNING:llama_index.core.readers.file.base:`llama-index-readers-file` package not found, some file readers will not be available if not provided by the `file_extractor` parameter.\n",
      "`llama-index-readers-file` package not found, some file readers will not be available if not provided by the `file_extractor` parameter.\n",
      "WARNING:llama_index.core.readers.file.base:`llama-index-readers-file` package not found, some file readers will not be available if not provided by the `file_extractor` parameter.\n",
      "`llama-index-readers-file` package not found, some file readers will not be available if not provided by the `file_extractor` parameter.\n",
      "WARNING:llama_index.core.readers.file.base:`llama-index-readers-file` package not found, some file readers will not be available if not provided by the `file_extractor` parameter.\n",
      "`llama-index-readers-file` package not found, some file readers will not be available if not provided by the `file_extractor` parameter.\n",
      "WARNING:llama_index.core.readers.file.base:`llama-index-readers-file` package not found, some file readers will not be available if not provided by the `file_extractor` parameter.\n",
      "`llama-index-readers-file` package not found, some file readers will not be available if not provided by the `file_extractor` parameter.\n",
      "WARNING:llama_index.core.readers.file.base:`llama-index-readers-file` package not found, some file readers will not be available if not provided by the `file_extractor` parameter.\n",
      "`llama-index-readers-file` package not found, some file readers will not be available if not provided by the `file_extractor` parameter.\n",
      "WARNING:llama_index.core.readers.file.base:`llama-index-readers-file` package not found, some file readers will not be available if not provided by the `file_extractor` parameter.\n",
      "`llama-index-readers-file` package not found, some file readers will not be available if not provided by the `file_extractor` parameter.\n",
      "WARNING:llama_index.core.readers.file.base:`llama-index-readers-file` package not found, some file readers will not be available if not provided by the `file_extractor` parameter.\n",
      "`llama-index-readers-file` package not found, some file readers will not be available if not provided by the `file_extractor` parameter.\n",
      "WARNING:llama_index.core.readers.file.base:`llama-index-readers-file` package not found, some file readers will not be available if not provided by the `file_extractor` parameter.\n",
      "`llama-index-readers-file` package not found, some file readers will not be available if not provided by the `file_extractor` parameter.\n",
      "WARNING:llama_index.core.readers.file.base:`llama-index-readers-file` package not found, some file readers will not be available if not provided by the `file_extractor` parameter.\n",
      "`llama-index-readers-file` package not found, some file readers will not be available if not provided by the `file_extractor` parameter.\n",
      "WARNING:llama_index.core.readers.file.base:`llama-index-readers-file` package not found, some file readers will not be available if not provided by the `file_extractor` parameter.\n",
      "`llama-index-readers-file` package not found, some file readers will not be available if not provided by the `file_extractor` parameter.\n",
      "WARNING:llama_index.core.readers.file.base:`llama-index-readers-file` package not found, some file readers will not be available if not provided by the `file_extractor` parameter.\n",
      "`llama-index-readers-file` package not found, some file readers will not be available if not provided by the `file_extractor` parameter.\n",
      "WARNING:llama_index.core.readers.file.base:`llama-index-readers-file` package not found, some file readers will not be available if not provided by the `file_extractor` parameter.\n",
      "`llama-index-readers-file` package not found, some file readers will not be available if not provided by the `file_extractor` parameter.\n",
      "WARNING:llama_index.core.readers.file.base:`llama-index-readers-file` package not found, some file readers will not be available if not provided by the `file_extractor` parameter.\n",
      "`llama-index-readers-file` package not found, some file readers will not be available if not provided by the `file_extractor` parameter.\n",
      "WARNING:llama_index.core.readers.file.base:`llama-index-readers-file` package not found, some file readers will not be available if not provided by the `file_extractor` parameter.\n",
      "`llama-index-readers-file` package not found, some file readers will not be available if not provided by the `file_extractor` parameter.\n",
      "WARNING:llama_index.core.readers.file.base:`llama-index-readers-file` package not found, some file readers will not be available if not provided by the `file_extractor` parameter.\n",
      "`llama-index-readers-file` package not found, some file readers will not be available if not provided by the `file_extractor` parameter.\n",
      "WARNING:llama_index.core.readers.file.base:`llama-index-readers-file` package not found, some file readers will not be available if not provided by the `file_extractor` parameter.\n",
      "`llama-index-readers-file` package not found, some file readers will not be available if not provided by the `file_extractor` parameter.\n",
      "WARNING:llama_index.core.readers.file.base:`llama-index-readers-file` package not found, some file readers will not be available if not provided by the `file_extractor` parameter.\n",
      "`llama-index-readers-file` package not found, some file readers will not be available if not provided by the `file_extractor` parameter.\n",
      "WARNING:llama_index.core.readers.file.base:`llama-index-readers-file` package not found, some file readers will not be available if not provided by the `file_extractor` parameter.\n",
      "`llama-index-readers-file` package not found, some file readers will not be available if not provided by the `file_extractor` parameter.\n",
      "WARNING:llama_index.core.readers.file.base:`llama-index-readers-file` package not found, some file readers will not be available if not provided by the `file_extractor` parameter.\n",
      "`llama-index-readers-file` package not found, some file readers will not be available if not provided by the `file_extractor` parameter.\n",
      "WARNING:llama_index.core.readers.file.base:`llama-index-readers-file` package not found, some file readers will not be available if not provided by the `file_extractor` parameter.\n",
      "`llama-index-readers-file` package not found, some file readers will not be available if not provided by the `file_extractor` parameter.\n",
      "WARNING:llama_index.core.readers.file.base:`llama-index-readers-file` package not found, some file readers will not be available if not provided by the `file_extractor` parameter.\n",
      "`llama-index-readers-file` package not found, some file readers will not be available if not provided by the `file_extractor` parameter.\n",
      "WARNING:llama_index.core.readers.file.base:`llama-index-readers-file` package not found, some file readers will not be available if not provided by the `file_extractor` parameter.\n",
      "`llama-index-readers-file` package not found, some file readers will not be available if not provided by the `file_extractor` parameter.\n",
      "WARNING:llama_index.core.readers.file.base:`llama-index-readers-file` package not found, some file readers will not be available if not provided by the `file_extractor` parameter.\n",
      "`llama-index-readers-file` package not found, some file readers will not be available if not provided by the `file_extractor` parameter.\n",
      "WARNING:llama_index.core.readers.file.base:`llama-index-readers-file` package not found, some file readers will not be available if not provided by the `file_extractor` parameter.\n",
      "`llama-index-readers-file` package not found, some file readers will not be available if not provided by the `file_extractor` parameter.\n",
      "WARNING:llama_index.core.readers.file.base:`llama-index-readers-file` package not found, some file readers will not be available if not provided by the `file_extractor` parameter.\n",
      "`llama-index-readers-file` package not found, some file readers will not be available if not provided by the `file_extractor` parameter.\n",
      "WARNING:llama_index.core.readers.file.base:`llama-index-readers-file` package not found, some file readers will not be available if not provided by the `file_extractor` parameter.\n",
      "`llama-index-readers-file` package not found, some file readers will not be available if not provided by the `file_extractor` parameter.\n",
      "WARNING:llama_index.core.readers.file.base:`llama-index-readers-file` package not found, some file readers will not be available if not provided by the `file_extractor` parameter.\n",
      "`llama-index-readers-file` package not found, some file readers will not be available if not provided by the `file_extractor` parameter.\n",
      "WARNING:llama_index.core.readers.file.base:`llama-index-readers-file` package not found, some file readers will not be available if not provided by the `file_extractor` parameter.\n",
      "`llama-index-readers-file` package not found, some file readers will not be available if not provided by the `file_extractor` parameter.\n",
      "WARNING:llama_index.core.readers.file.base:`llama-index-readers-file` package not found, some file readers will not be available if not provided by the `file_extractor` parameter.\n",
      "`llama-index-readers-file` package not found, some file readers will not be available if not provided by the `file_extractor` parameter.\n",
      "WARNING:llama_index.core.readers.file.base:`llama-index-readers-file` package not found, some file readers will not be available if not provided by the `file_extractor` parameter.\n",
      "`llama-index-readers-file` package not found, some file readers will not be available if not provided by the `file_extractor` parameter.\n",
      "WARNING:llama_index.core.readers.file.base:`llama-index-readers-file` package not found, some file readers will not be available if not provided by the `file_extractor` parameter.\n",
      "`llama-index-readers-file` package not found, some file readers will not be available if not provided by the `file_extractor` parameter.\n",
      "WARNING:llama_index.core.readers.file.base:`llama-index-readers-file` package not found, some file readers will not be available if not provided by the `file_extractor` parameter.\n",
      "`llama-index-readers-file` package not found, some file readers will not be available if not provided by the `file_extractor` parameter.\n",
      "WARNING:llama_index.core.readers.file.base:`llama-index-readers-file` package not found, some file readers will not be available if not provided by the `file_extractor` parameter.\n",
      "`llama-index-readers-file` package not found, some file readers will not be available if not provided by the `file_extractor` parameter.\n",
      "WARNING:llama_index.core.readers.file.base:`llama-index-readers-file` package not found, some file readers will not be available if not provided by the `file_extractor` parameter.\n",
      "`llama-index-readers-file` package not found, some file readers will not be available if not provided by the `file_extractor` parameter.\n"
     ]
    },
    {
     "name": "stderr",
     "output_type": "stream",
     "text": [
      "\u001b[32m2025-07-11 16:14:01.712\u001b[0m | \u001b[1mINFO    \u001b[0m | \u001b[36m__main__\u001b[0m:\u001b[36m<module>\u001b[0m:\u001b[36m12\u001b[0m - \u001b[1mNumber of documents loaded: 138\u001b[0m\n"
     ]
    }
   ],
   "source": [
    "import os\n",
    "from llama_index.core import SimpleDirectoryReader\n",
    "from loguru import logger\n",
    "\n",
    "# Use raw string or forward slashes\n",
    "directory = \"doc/processed-pages\"\n",
    "required_exts = [\".pdf\", \".txt\"]\n",
    "\n",
    "documents = SimpleDirectoryReader(input_dir=directory,\n",
    "                                      required_exts=required_exts).load_data()\n",
    "\n",
    "logger.info(f\"Number of documents loaded: {len(documents)}\")"
   ]
  },
  {
   "cell_type": "markdown",
   "id": "f82f73f3",
   "metadata": {},
   "source": [
    "### parse documents"
   ]
  },
  {
   "cell_type": "code",
   "execution_count": 68,
   "id": "37f3bb09",
   "metadata": {},
   "outputs": [
    {
     "name": "stderr",
     "output_type": "stream",
     "text": [
      "\u001b[32m2025-07-11 16:14:01.850\u001b[0m | \u001b[1mINFO    \u001b[0m | \u001b[36m__main__\u001b[0m:\u001b[36m<module>\u001b[0m:\u001b[36m9\u001b[0m - \u001b[1mNumber of nodes created: 260\u001b[0m\n"
     ]
    }
   ],
   "source": [
    "from llama_index.core.node_parser import SentenceSplitter\n",
    "\n",
    "chunk_size = 1000  # Number of characters per chunk\n",
    "train_size = 0.5  # Percentage of data to use for training\n",
    "\n",
    "parser = SentenceSplitter(chunk_size=chunk_size)\n",
    "nodes_train = parser.get_nodes_from_documents(documents=documents)\n",
    "\n",
    "logger.info(f\"Number of nodes created: {len(nodes_train)}\")"
   ]
  },
  {
   "cell_type": "markdown",
   "id": "8b01f9c8",
   "metadata": {},
   "source": [
    "### generate QA pairs"
   ]
  },
  {
   "cell_type": "code",
   "execution_count": 69,
   "id": "3f6228f1",
   "metadata": {},
   "outputs": [],
   "source": [
    "from llama_index.llms.ollama import Ollama\n",
    "from llama_index.finetuning import generate_qa_embedding_pairs\n",
    "from loguru import logger"
   ]
  },
  {
   "cell_type": "code",
   "execution_count": 70,
   "id": "4a5b73ab",
   "metadata": {},
   "outputs": [],
   "source": [
    "class configQA:\n",
    "    filename = r\"doc/IT_SWD_2025_212_1_IT.pdf\"\n",
    "    num_questions_per_chunk = 1\n",
    "    output_path = \"dataset.json\"\n",
    "    chunk_size = 1000  # Number of characters per chunk\n",
    "    \n",
    "qa_params= configQA()"
   ]
  },
  {
   "cell_type": "code",
   "execution_count": 71,
   "id": "4d9b18fe",
   "metadata": {},
   "outputs": [],
   "source": [
    "class configOLLAMA:\n",
    "    model_name = \"Almawave/velvet:2B\"\n",
    "    request_timeout = 240.0\n",
    "    json_mode= True\n",
    "    context_window = 4096  # Context window size for the LLM\n",
    "  \n",
    "ollama_params = configOLLAMA()\n",
    "\n",
    "local_llm = Ollama(\n",
    "                    model=ollama_params.model_name,\n",
    "                    request_timeout=ollama_params.request_timeout,\n",
    "                    #context_window=ollama_params.context_window,\n",
    "                    json_mode=ollama_params.json_mode\n",
    "                )"
   ]
  },
  {
   "cell_type": "code",
   "execution_count": 72,
   "id": "b7e43270",
   "metadata": {},
   "outputs": [],
   "source": [
    "from llama_index.llms.openai import OpenAI\n",
    "import os\n",
    "from dotenv import load_dotenv\n",
    "\n",
    "load_dotenv()\n",
    "\n",
    "OPENAI_API_KEY = os.getenv(\"OPENAI_API_KEY\")\n",
    "\n",
    "class configLLM:\n",
    "    model_name = \"gpt-3.5-turbo\"\n",
    "    seed = 42\n",
    "    \n",
    "def set_llm(params):\n",
    "    return OpenAI(\n",
    "            model=params.model_name,\n",
    "            add_kwargs={\"seed\": params.seed})\n",
    "    \n",
    "llm_params = configLLM()"
   ]
  },
  {
   "cell_type": "code",
   "execution_count": 73,
   "id": "a1ac88d0",
   "metadata": {},
   "outputs": [
    {
     "name": "stderr",
     "output_type": "stream",
     "text": [
      "  0%|          | 0/260 [00:00<?, ?it/s]"
     ]
    },
    {
     "name": "stdout",
     "output_type": "stream",
     "text": [
      "INFO:httpx:HTTP Request: POST https://api.openai.com/v1/chat/completions \"HTTP/1.1 200 OK\"\n",
      "HTTP Request: POST https://api.openai.com/v1/chat/completions \"HTTP/1.1 200 OK\"\n"
     ]
    },
    {
     "name": "stderr",
     "output_type": "stream",
     "text": [
      "  0%|          | 1/260 [00:02<10:42,  2.48s/it]"
     ]
    },
    {
     "name": "stdout",
     "output_type": "stream",
     "text": [
      "INFO:httpx:HTTP Request: POST https://api.openai.com/v1/chat/completions \"HTTP/1.1 200 OK\"\n",
      "HTTP Request: POST https://api.openai.com/v1/chat/completions \"HTTP/1.1 200 OK\"\n"
     ]
    },
    {
     "name": "stderr",
     "output_type": "stream",
     "text": [
      "  1%|          | 2/260 [00:05<12:09,  2.83s/it]"
     ]
    },
    {
     "name": "stdout",
     "output_type": "stream",
     "text": [
      "INFO:httpx:HTTP Request: POST https://api.openai.com/v1/chat/completions \"HTTP/1.1 200 OK\"\n",
      "HTTP Request: POST https://api.openai.com/v1/chat/completions \"HTTP/1.1 200 OK\"\n"
     ]
    },
    {
     "name": "stderr",
     "output_type": "stream",
     "text": [
      "  1%|          | 3/260 [00:09<13:47,  3.22s/it]"
     ]
    },
    {
     "name": "stdout",
     "output_type": "stream",
     "text": [
      "INFO:httpx:HTTP Request: POST https://api.openai.com/v1/chat/completions \"HTTP/1.1 200 OK\"\n",
      "HTTP Request: POST https://api.openai.com/v1/chat/completions \"HTTP/1.1 200 OK\"\n"
     ]
    },
    {
     "name": "stderr",
     "output_type": "stream",
     "text": [
      "  2%|▏         | 4/260 [00:13<16:15,  3.81s/it]"
     ]
    },
    {
     "name": "stdout",
     "output_type": "stream",
     "text": [
      "INFO:httpx:HTTP Request: POST https://api.openai.com/v1/chat/completions \"HTTP/1.1 200 OK\"\n",
      "HTTP Request: POST https://api.openai.com/v1/chat/completions \"HTTP/1.1 200 OK\"\n"
     ]
    },
    {
     "name": "stderr",
     "output_type": "stream",
     "text": [
      "  2%|▏         | 5/260 [00:16<14:25,  3.39s/it]"
     ]
    },
    {
     "name": "stdout",
     "output_type": "stream",
     "text": [
      "INFO:httpx:HTTP Request: POST https://api.openai.com/v1/chat/completions \"HTTP/1.1 200 OK\"\n",
      "HTTP Request: POST https://api.openai.com/v1/chat/completions \"HTTP/1.1 200 OK\"\n"
     ]
    },
    {
     "name": "stderr",
     "output_type": "stream",
     "text": [
      "  2%|▏         | 6/260 [00:18<11:55,  2.82s/it]"
     ]
    },
    {
     "name": "stdout",
     "output_type": "stream",
     "text": [
      "INFO:httpx:HTTP Request: POST https://api.openai.com/v1/chat/completions \"HTTP/1.1 200 OK\"\n",
      "HTTP Request: POST https://api.openai.com/v1/chat/completions \"HTTP/1.1 200 OK\"\n"
     ]
    },
    {
     "name": "stderr",
     "output_type": "stream",
     "text": [
      "  3%|▎         | 7/260 [00:21<12:00,  2.85s/it]"
     ]
    },
    {
     "name": "stdout",
     "output_type": "stream",
     "text": [
      "INFO:httpx:HTTP Request: POST https://api.openai.com/v1/chat/completions \"HTTP/1.1 200 OK\"\n",
      "HTTP Request: POST https://api.openai.com/v1/chat/completions \"HTTP/1.1 200 OK\"\n"
     ]
    },
    {
     "name": "stderr",
     "output_type": "stream",
     "text": [
      "  3%|▎         | 8/260 [00:23<10:45,  2.56s/it]"
     ]
    },
    {
     "name": "stdout",
     "output_type": "stream",
     "text": [
      "INFO:httpx:HTTP Request: POST https://api.openai.com/v1/chat/completions \"HTTP/1.1 200 OK\"\n",
      "HTTP Request: POST https://api.openai.com/v1/chat/completions \"HTTP/1.1 200 OK\"\n"
     ]
    },
    {
     "name": "stderr",
     "output_type": "stream",
     "text": [
      "  3%|▎         | 9/260 [00:25<10:43,  2.56s/it]"
     ]
    },
    {
     "name": "stdout",
     "output_type": "stream",
     "text": [
      "INFO:httpx:HTTP Request: POST https://api.openai.com/v1/chat/completions \"HTTP/1.1 200 OK\"\n",
      "HTTP Request: POST https://api.openai.com/v1/chat/completions \"HTTP/1.1 200 OK\"\n"
     ]
    },
    {
     "name": "stderr",
     "output_type": "stream",
     "text": [
      "  4%|▍         | 10/260 [00:30<13:49,  3.32s/it]"
     ]
    },
    {
     "name": "stdout",
     "output_type": "stream",
     "text": [
      "INFO:httpx:HTTP Request: POST https://api.openai.com/v1/chat/completions \"HTTP/1.1 200 OK\"\n",
      "HTTP Request: POST https://api.openai.com/v1/chat/completions \"HTTP/1.1 200 OK\"\n"
     ]
    },
    {
     "name": "stderr",
     "output_type": "stream",
     "text": [
      "  4%|▍         | 11/260 [00:34<14:30,  3.49s/it]"
     ]
    },
    {
     "name": "stdout",
     "output_type": "stream",
     "text": [
      "INFO:httpx:HTTP Request: POST https://api.openai.com/v1/chat/completions \"HTTP/1.1 200 OK\"\n",
      "HTTP Request: POST https://api.openai.com/v1/chat/completions \"HTTP/1.1 200 OK\"\n"
     ]
    },
    {
     "name": "stderr",
     "output_type": "stream",
     "text": [
      "  5%|▍         | 12/260 [00:37<13:47,  3.34s/it]"
     ]
    },
    {
     "name": "stdout",
     "output_type": "stream",
     "text": [
      "INFO:httpx:HTTP Request: POST https://api.openai.com/v1/chat/completions \"HTTP/1.1 200 OK\"\n",
      "HTTP Request: POST https://api.openai.com/v1/chat/completions \"HTTP/1.1 200 OK\"\n"
     ]
    },
    {
     "name": "stderr",
     "output_type": "stream",
     "text": [
      "  5%|▌         | 13/260 [00:42<15:57,  3.87s/it]"
     ]
    },
    {
     "name": "stdout",
     "output_type": "stream",
     "text": [
      "INFO:httpx:HTTP Request: POST https://api.openai.com/v1/chat/completions \"HTTP/1.1 200 OK\"\n",
      "HTTP Request: POST https://api.openai.com/v1/chat/completions \"HTTP/1.1 200 OK\"\n"
     ]
    },
    {
     "name": "stderr",
     "output_type": "stream",
     "text": [
      "  5%|▌         | 14/260 [00:45<14:23,  3.51s/it]"
     ]
    },
    {
     "name": "stdout",
     "output_type": "stream",
     "text": [
      "INFO:httpx:HTTP Request: POST https://api.openai.com/v1/chat/completions \"HTTP/1.1 200 OK\"\n",
      "HTTP Request: POST https://api.openai.com/v1/chat/completions \"HTTP/1.1 200 OK\"\n"
     ]
    },
    {
     "name": "stderr",
     "output_type": "stream",
     "text": [
      "  6%|▌         | 15/260 [00:47<12:24,  3.04s/it]"
     ]
    },
    {
     "name": "stdout",
     "output_type": "stream",
     "text": [
      "INFO:httpx:HTTP Request: POST https://api.openai.com/v1/chat/completions \"HTTP/1.1 200 OK\"\n",
      "HTTP Request: POST https://api.openai.com/v1/chat/completions \"HTTP/1.1 200 OK\"\n"
     ]
    },
    {
     "name": "stderr",
     "output_type": "stream",
     "text": [
      "  6%|▌         | 16/260 [00:49<11:31,  2.83s/it]"
     ]
    },
    {
     "name": "stdout",
     "output_type": "stream",
     "text": [
      "INFO:httpx:HTTP Request: POST https://api.openai.com/v1/chat/completions \"HTTP/1.1 200 OK\"\n",
      "HTTP Request: POST https://api.openai.com/v1/chat/completions \"HTTP/1.1 200 OK\"\n"
     ]
    },
    {
     "name": "stderr",
     "output_type": "stream",
     "text": [
      "  7%|▋         | 17/260 [00:51<10:08,  2.50s/it]"
     ]
    },
    {
     "name": "stdout",
     "output_type": "stream",
     "text": [
      "INFO:httpx:HTTP Request: POST https://api.openai.com/v1/chat/completions \"HTTP/1.1 200 OK\"\n",
      "HTTP Request: POST https://api.openai.com/v1/chat/completions \"HTTP/1.1 200 OK\"\n"
     ]
    },
    {
     "name": "stderr",
     "output_type": "stream",
     "text": [
      "  7%|▋         | 18/260 [00:53<10:02,  2.49s/it]"
     ]
    },
    {
     "name": "stdout",
     "output_type": "stream",
     "text": [
      "INFO:httpx:HTTP Request: POST https://api.openai.com/v1/chat/completions \"HTTP/1.1 200 OK\"\n",
      "HTTP Request: POST https://api.openai.com/v1/chat/completions \"HTTP/1.1 200 OK\"\n"
     ]
    },
    {
     "name": "stderr",
     "output_type": "stream",
     "text": [
      "  7%|▋         | 19/260 [00:55<09:28,  2.36s/it]"
     ]
    },
    {
     "name": "stdout",
     "output_type": "stream",
     "text": [
      "INFO:httpx:HTTP Request: POST https://api.openai.com/v1/chat/completions \"HTTP/1.1 200 OK\"\n",
      "HTTP Request: POST https://api.openai.com/v1/chat/completions \"HTTP/1.1 200 OK\"\n"
     ]
    },
    {
     "name": "stderr",
     "output_type": "stream",
     "text": [
      "  8%|▊         | 20/260 [00:57<08:56,  2.23s/it]"
     ]
    },
    {
     "name": "stdout",
     "output_type": "stream",
     "text": [
      "INFO:httpx:HTTP Request: POST https://api.openai.com/v1/chat/completions \"HTTP/1.1 200 OK\"\n",
      "HTTP Request: POST https://api.openai.com/v1/chat/completions \"HTTP/1.1 200 OK\"\n"
     ]
    },
    {
     "name": "stderr",
     "output_type": "stream",
     "text": [
      "  8%|▊         | 21/260 [01:03<13:12,  3.32s/it]"
     ]
    },
    {
     "name": "stdout",
     "output_type": "stream",
     "text": [
      "INFO:httpx:HTTP Request: POST https://api.openai.com/v1/chat/completions \"HTTP/1.1 200 OK\"\n",
      "HTTP Request: POST https://api.openai.com/v1/chat/completions \"HTTP/1.1 200 OK\"\n"
     ]
    },
    {
     "name": "stderr",
     "output_type": "stream",
     "text": [
      "  8%|▊         | 22/260 [01:06<13:06,  3.30s/it]"
     ]
    },
    {
     "name": "stdout",
     "output_type": "stream",
     "text": [
      "INFO:httpx:HTTP Request: POST https://api.openai.com/v1/chat/completions \"HTTP/1.1 200 OK\"\n",
      "HTTP Request: POST https://api.openai.com/v1/chat/completions \"HTTP/1.1 200 OK\"\n"
     ]
    },
    {
     "name": "stderr",
     "output_type": "stream",
     "text": [
      "  9%|▉         | 23/260 [01:09<11:55,  3.02s/it]"
     ]
    },
    {
     "name": "stdout",
     "output_type": "stream",
     "text": [
      "INFO:httpx:HTTP Request: POST https://api.openai.com/v1/chat/completions \"HTTP/1.1 200 OK\"\n",
      "HTTP Request: POST https://api.openai.com/v1/chat/completions \"HTTP/1.1 200 OK\"\n"
     ]
    },
    {
     "name": "stderr",
     "output_type": "stream",
     "text": [
      "  9%|▉         | 24/260 [01:13<13:44,  3.50s/it]"
     ]
    },
    {
     "name": "stdout",
     "output_type": "stream",
     "text": [
      "INFO:httpx:HTTP Request: POST https://api.openai.com/v1/chat/completions \"HTTP/1.1 200 OK\"\n",
      "HTTP Request: POST https://api.openai.com/v1/chat/completions \"HTTP/1.1 200 OK\"\n"
     ]
    },
    {
     "name": "stderr",
     "output_type": "stream",
     "text": [
      " 10%|▉         | 25/260 [01:17<13:55,  3.55s/it]"
     ]
    },
    {
     "name": "stdout",
     "output_type": "stream",
     "text": [
      "INFO:httpx:HTTP Request: POST https://api.openai.com/v1/chat/completions \"HTTP/1.1 200 OK\"\n",
      "HTTP Request: POST https://api.openai.com/v1/chat/completions \"HTTP/1.1 200 OK\"\n"
     ]
    },
    {
     "name": "stderr",
     "output_type": "stream",
     "text": [
      " 10%|█         | 26/260 [01:19<12:14,  3.14s/it]"
     ]
    },
    {
     "name": "stdout",
     "output_type": "stream",
     "text": [
      "INFO:httpx:HTTP Request: POST https://api.openai.com/v1/chat/completions \"HTTP/1.1 200 OK\"\n",
      "HTTP Request: POST https://api.openai.com/v1/chat/completions \"HTTP/1.1 200 OK\"\n"
     ]
    },
    {
     "name": "stderr",
     "output_type": "stream",
     "text": [
      " 10%|█         | 27/260 [01:22<11:21,  2.93s/it]"
     ]
    },
    {
     "name": "stdout",
     "output_type": "stream",
     "text": [
      "INFO:httpx:HTTP Request: POST https://api.openai.com/v1/chat/completions \"HTTP/1.1 200 OK\"\n",
      "HTTP Request: POST https://api.openai.com/v1/chat/completions \"HTTP/1.1 200 OK\"\n"
     ]
    },
    {
     "name": "stderr",
     "output_type": "stream",
     "text": [
      " 11%|█         | 28/260 [01:25<12:11,  3.15s/it]"
     ]
    },
    {
     "name": "stdout",
     "output_type": "stream",
     "text": [
      "INFO:httpx:HTTP Request: POST https://api.openai.com/v1/chat/completions \"HTTP/1.1 200 OK\"\n",
      "HTTP Request: POST https://api.openai.com/v1/chat/completions \"HTTP/1.1 200 OK\"\n"
     ]
    },
    {
     "name": "stderr",
     "output_type": "stream",
     "text": [
      " 11%|█         | 29/260 [01:28<11:10,  2.90s/it]"
     ]
    },
    {
     "name": "stdout",
     "output_type": "stream",
     "text": [
      "INFO:httpx:HTTP Request: POST https://api.openai.com/v1/chat/completions \"HTTP/1.1 200 OK\"\n",
      "HTTP Request: POST https://api.openai.com/v1/chat/completions \"HTTP/1.1 200 OK\"\n"
     ]
    },
    {
     "name": "stderr",
     "output_type": "stream",
     "text": [
      " 12%|█▏        | 30/260 [01:34<14:25,  3.76s/it]"
     ]
    },
    {
     "name": "stdout",
     "output_type": "stream",
     "text": [
      "INFO:httpx:HTTP Request: POST https://api.openai.com/v1/chat/completions \"HTTP/1.1 200 OK\"\n",
      "HTTP Request: POST https://api.openai.com/v1/chat/completions \"HTTP/1.1 200 OK\"\n"
     ]
    },
    {
     "name": "stderr",
     "output_type": "stream",
     "text": [
      " 12%|█▏        | 31/260 [01:38<14:44,  3.86s/it]"
     ]
    },
    {
     "name": "stdout",
     "output_type": "stream",
     "text": [
      "INFO:httpx:HTTP Request: POST https://api.openai.com/v1/chat/completions \"HTTP/1.1 200 OK\"\n",
      "HTTP Request: POST https://api.openai.com/v1/chat/completions \"HTTP/1.1 200 OK\"\n"
     ]
    },
    {
     "name": "stderr",
     "output_type": "stream",
     "text": [
      " 12%|█▏        | 32/260 [01:40<12:43,  3.35s/it]"
     ]
    },
    {
     "name": "stdout",
     "output_type": "stream",
     "text": [
      "INFO:httpx:HTTP Request: POST https://api.openai.com/v1/chat/completions \"HTTP/1.1 200 OK\"\n",
      "HTTP Request: POST https://api.openai.com/v1/chat/completions \"HTTP/1.1 200 OK\"\n"
     ]
    },
    {
     "name": "stderr",
     "output_type": "stream",
     "text": [
      " 13%|█▎        | 33/260 [01:42<10:51,  2.87s/it]"
     ]
    },
    {
     "name": "stdout",
     "output_type": "stream",
     "text": [
      "INFO:httpx:HTTP Request: POST https://api.openai.com/v1/chat/completions \"HTTP/1.1 200 OK\"\n",
      "HTTP Request: POST https://api.openai.com/v1/chat/completions \"HTTP/1.1 200 OK\"\n"
     ]
    },
    {
     "name": "stderr",
     "output_type": "stream",
     "text": [
      " 13%|█▎        | 34/260 [01:45<11:22,  3.02s/it]"
     ]
    },
    {
     "name": "stdout",
     "output_type": "stream",
     "text": [
      "INFO:httpx:HTTP Request: POST https://api.openai.com/v1/chat/completions \"HTTP/1.1 200 OK\"\n",
      "HTTP Request: POST https://api.openai.com/v1/chat/completions \"HTTP/1.1 200 OK\"\n"
     ]
    },
    {
     "name": "stderr",
     "output_type": "stream",
     "text": [
      " 13%|█▎        | 35/260 [01:48<11:43,  3.13s/it]"
     ]
    },
    {
     "name": "stdout",
     "output_type": "stream",
     "text": [
      "INFO:httpx:HTTP Request: POST https://api.openai.com/v1/chat/completions \"HTTP/1.1 200 OK\"\n",
      "HTTP Request: POST https://api.openai.com/v1/chat/completions \"HTTP/1.1 200 OK\"\n"
     ]
    },
    {
     "name": "stderr",
     "output_type": "stream",
     "text": [
      " 14%|█▍        | 36/260 [02:10<32:56,  8.83s/it]"
     ]
    },
    {
     "name": "stdout",
     "output_type": "stream",
     "text": [
      "INFO:httpx:HTTP Request: POST https://api.openai.com/v1/chat/completions \"HTTP/1.1 200 OK\"\n",
      "HTTP Request: POST https://api.openai.com/v1/chat/completions \"HTTP/1.1 200 OK\"\n"
     ]
    },
    {
     "name": "stderr",
     "output_type": "stream",
     "text": [
      " 14%|█▍        | 37/260 [02:14<26:50,  7.22s/it]"
     ]
    },
    {
     "name": "stdout",
     "output_type": "stream",
     "text": [
      "INFO:httpx:HTTP Request: POST https://api.openai.com/v1/chat/completions \"HTTP/1.1 200 OK\"\n",
      "HTTP Request: POST https://api.openai.com/v1/chat/completions \"HTTP/1.1 200 OK\"\n"
     ]
    },
    {
     "name": "stderr",
     "output_type": "stream",
     "text": [
      " 15%|█▍        | 38/260 [02:17<22:34,  6.10s/it]"
     ]
    },
    {
     "name": "stdout",
     "output_type": "stream",
     "text": [
      "INFO:httpx:HTTP Request: POST https://api.openai.com/v1/chat/completions \"HTTP/1.1 200 OK\"\n",
      "HTTP Request: POST https://api.openai.com/v1/chat/completions \"HTTP/1.1 200 OK\"\n"
     ]
    },
    {
     "name": "stderr",
     "output_type": "stream",
     "text": [
      " 15%|█▌        | 39/260 [02:20<18:38,  5.06s/it]"
     ]
    },
    {
     "name": "stdout",
     "output_type": "stream",
     "text": [
      "INFO:httpx:HTTP Request: POST https://api.openai.com/v1/chat/completions \"HTTP/1.1 200 OK\"\n",
      "HTTP Request: POST https://api.openai.com/v1/chat/completions \"HTTP/1.1 200 OK\"\n"
     ]
    },
    {
     "name": "stderr",
     "output_type": "stream",
     "text": [
      " 15%|█▌        | 40/260 [02:23<15:56,  4.35s/it]"
     ]
    },
    {
     "name": "stdout",
     "output_type": "stream",
     "text": [
      "INFO:httpx:HTTP Request: POST https://api.openai.com/v1/chat/completions \"HTTP/1.1 200 OK\"\n",
      "HTTP Request: POST https://api.openai.com/v1/chat/completions \"HTTP/1.1 200 OK\"\n"
     ]
    },
    {
     "name": "stderr",
     "output_type": "stream",
     "text": [
      " 16%|█▌        | 41/260 [02:27<16:02,  4.40s/it]"
     ]
    },
    {
     "name": "stdout",
     "output_type": "stream",
     "text": [
      "INFO:httpx:HTTP Request: POST https://api.openai.com/v1/chat/completions \"HTTP/1.1 200 OK\"\n",
      "HTTP Request: POST https://api.openai.com/v1/chat/completions \"HTTP/1.1 200 OK\"\n"
     ]
    },
    {
     "name": "stderr",
     "output_type": "stream",
     "text": [
      " 16%|█▌        | 42/260 [02:30<14:18,  3.94s/it]"
     ]
    },
    {
     "name": "stdout",
     "output_type": "stream",
     "text": [
      "INFO:httpx:HTTP Request: POST https://api.openai.com/v1/chat/completions \"HTTP/1.1 200 OK\"\n",
      "HTTP Request: POST https://api.openai.com/v1/chat/completions \"HTTP/1.1 200 OK\"\n"
     ]
    },
    {
     "name": "stderr",
     "output_type": "stream",
     "text": [
      " 17%|█▋        | 43/260 [02:33<12:38,  3.49s/it]"
     ]
    },
    {
     "name": "stdout",
     "output_type": "stream",
     "text": [
      "INFO:httpx:HTTP Request: POST https://api.openai.com/v1/chat/completions \"HTTP/1.1 200 OK\"\n",
      "HTTP Request: POST https://api.openai.com/v1/chat/completions \"HTTP/1.1 200 OK\"\n"
     ]
    },
    {
     "name": "stderr",
     "output_type": "stream",
     "text": [
      " 17%|█▋        | 44/260 [02:35<11:51,  3.29s/it]"
     ]
    },
    {
     "name": "stdout",
     "output_type": "stream",
     "text": [
      "INFO:httpx:HTTP Request: POST https://api.openai.com/v1/chat/completions \"HTTP/1.1 200 OK\"\n",
      "HTTP Request: POST https://api.openai.com/v1/chat/completions \"HTTP/1.1 200 OK\"\n"
     ]
    },
    {
     "name": "stderr",
     "output_type": "stream",
     "text": [
      " 17%|█▋        | 45/260 [02:37<10:07,  2.82s/it]"
     ]
    },
    {
     "name": "stdout",
     "output_type": "stream",
     "text": [
      "INFO:httpx:HTTP Request: POST https://api.openai.com/v1/chat/completions \"HTTP/1.1 200 OK\"\n",
      "HTTP Request: POST https://api.openai.com/v1/chat/completions \"HTTP/1.1 200 OK\"\n"
     ]
    },
    {
     "name": "stderr",
     "output_type": "stream",
     "text": [
      " 18%|█▊        | 46/260 [02:39<09:04,  2.55s/it]"
     ]
    },
    {
     "name": "stdout",
     "output_type": "stream",
     "text": [
      "INFO:httpx:HTTP Request: POST https://api.openai.com/v1/chat/completions \"HTTP/1.1 200 OK\"\n",
      "HTTP Request: POST https://api.openai.com/v1/chat/completions \"HTTP/1.1 200 OK\"\n"
     ]
    },
    {
     "name": "stderr",
     "output_type": "stream",
     "text": [
      " 18%|█▊        | 47/260 [02:41<08:19,  2.35s/it]"
     ]
    },
    {
     "name": "stdout",
     "output_type": "stream",
     "text": [
      "INFO:httpx:HTTP Request: POST https://api.openai.com/v1/chat/completions \"HTTP/1.1 200 OK\"\n",
      "HTTP Request: POST https://api.openai.com/v1/chat/completions \"HTTP/1.1 200 OK\"\n"
     ]
    },
    {
     "name": "stderr",
     "output_type": "stream",
     "text": [
      " 18%|█▊        | 48/260 [02:44<09:01,  2.55s/it]"
     ]
    },
    {
     "name": "stdout",
     "output_type": "stream",
     "text": [
      "INFO:httpx:HTTP Request: POST https://api.openai.com/v1/chat/completions \"HTTP/1.1 200 OK\"\n",
      "HTTP Request: POST https://api.openai.com/v1/chat/completions \"HTTP/1.1 200 OK\"\n"
     ]
    },
    {
     "name": "stderr",
     "output_type": "stream",
     "text": [
      " 19%|█▉        | 49/260 [02:47<09:50,  2.80s/it]"
     ]
    },
    {
     "name": "stdout",
     "output_type": "stream",
     "text": [
      "INFO:httpx:HTTP Request: POST https://api.openai.com/v1/chat/completions \"HTTP/1.1 200 OK\"\n",
      "HTTP Request: POST https://api.openai.com/v1/chat/completions \"HTTP/1.1 200 OK\"\n"
     ]
    },
    {
     "name": "stderr",
     "output_type": "stream",
     "text": [
      " 19%|█▉        | 50/260 [02:50<09:51,  2.82s/it]"
     ]
    },
    {
     "name": "stdout",
     "output_type": "stream",
     "text": [
      "INFO:httpx:HTTP Request: POST https://api.openai.com/v1/chat/completions \"HTTP/1.1 200 OK\"\n",
      "HTTP Request: POST https://api.openai.com/v1/chat/completions \"HTTP/1.1 200 OK\"\n"
     ]
    },
    {
     "name": "stderr",
     "output_type": "stream",
     "text": [
      " 20%|█▉        | 51/260 [02:52<09:00,  2.59s/it]"
     ]
    },
    {
     "name": "stdout",
     "output_type": "stream",
     "text": [
      "INFO:httpx:HTTP Request: POST https://api.openai.com/v1/chat/completions \"HTTP/1.1 200 OK\"\n",
      "HTTP Request: POST https://api.openai.com/v1/chat/completions \"HTTP/1.1 200 OK\"\n"
     ]
    },
    {
     "name": "stderr",
     "output_type": "stream",
     "text": [
      " 20%|██        | 52/260 [02:54<08:18,  2.40s/it]"
     ]
    },
    {
     "name": "stdout",
     "output_type": "stream",
     "text": [
      "INFO:httpx:HTTP Request: POST https://api.openai.com/v1/chat/completions \"HTTP/1.1 200 OK\"\n",
      "HTTP Request: POST https://api.openai.com/v1/chat/completions \"HTTP/1.1 200 OK\"\n"
     ]
    },
    {
     "name": "stderr",
     "output_type": "stream",
     "text": [
      " 20%|██        | 53/260 [02:59<10:48,  3.13s/it]"
     ]
    },
    {
     "name": "stdout",
     "output_type": "stream",
     "text": [
      "INFO:httpx:HTTP Request: POST https://api.openai.com/v1/chat/completions \"HTTP/1.1 200 OK\"\n",
      "HTTP Request: POST https://api.openai.com/v1/chat/completions \"HTTP/1.1 200 OK\"\n"
     ]
    },
    {
     "name": "stderr",
     "output_type": "stream",
     "text": [
      " 21%|██        | 54/260 [03:01<09:36,  2.80s/it]"
     ]
    },
    {
     "name": "stdout",
     "output_type": "stream",
     "text": [
      "INFO:httpx:HTTP Request: POST https://api.openai.com/v1/chat/completions \"HTTP/1.1 200 OK\"\n",
      "HTTP Request: POST https://api.openai.com/v1/chat/completions \"HTTP/1.1 200 OK\"\n"
     ]
    },
    {
     "name": "stderr",
     "output_type": "stream",
     "text": [
      " 21%|██        | 55/260 [03:03<08:52,  2.60s/it]"
     ]
    },
    {
     "name": "stdout",
     "output_type": "stream",
     "text": [
      "INFO:httpx:HTTP Request: POST https://api.openai.com/v1/chat/completions \"HTTP/1.1 200 OK\"\n",
      "HTTP Request: POST https://api.openai.com/v1/chat/completions \"HTTP/1.1 200 OK\"\n"
     ]
    },
    {
     "name": "stderr",
     "output_type": "stream",
     "text": [
      " 22%|██▏       | 56/260 [03:05<08:15,  2.43s/it]"
     ]
    },
    {
     "name": "stdout",
     "output_type": "stream",
     "text": [
      "INFO:httpx:HTTP Request: POST https://api.openai.com/v1/chat/completions \"HTTP/1.1 200 OK\"\n",
      "HTTP Request: POST https://api.openai.com/v1/chat/completions \"HTTP/1.1 200 OK\"\n"
     ]
    },
    {
     "name": "stderr",
     "output_type": "stream",
     "text": [
      " 22%|██▏       | 57/260 [03:07<07:45,  2.29s/it]"
     ]
    },
    {
     "name": "stdout",
     "output_type": "stream",
     "text": [
      "INFO:httpx:HTTP Request: POST https://api.openai.com/v1/chat/completions \"HTTP/1.1 200 OK\"\n",
      "HTTP Request: POST https://api.openai.com/v1/chat/completions \"HTTP/1.1 200 OK\"\n"
     ]
    },
    {
     "name": "stderr",
     "output_type": "stream",
     "text": [
      " 22%|██▏       | 58/260 [03:10<08:24,  2.50s/it]"
     ]
    },
    {
     "name": "stdout",
     "output_type": "stream",
     "text": [
      "INFO:httpx:HTTP Request: POST https://api.openai.com/v1/chat/completions \"HTTP/1.1 200 OK\"\n",
      "HTTP Request: POST https://api.openai.com/v1/chat/completions \"HTTP/1.1 200 OK\"\n"
     ]
    },
    {
     "name": "stderr",
     "output_type": "stream",
     "text": [
      " 23%|██▎       | 59/260 [03:13<09:14,  2.76s/it]"
     ]
    },
    {
     "name": "stdout",
     "output_type": "stream",
     "text": [
      "INFO:httpx:HTTP Request: POST https://api.openai.com/v1/chat/completions \"HTTP/1.1 200 OK\"\n",
      "HTTP Request: POST https://api.openai.com/v1/chat/completions \"HTTP/1.1 200 OK\"\n"
     ]
    },
    {
     "name": "stderr",
     "output_type": "stream",
     "text": [
      " 23%|██▎       | 60/260 [03:15<08:11,  2.46s/it]"
     ]
    },
    {
     "name": "stdout",
     "output_type": "stream",
     "text": [
      "INFO:httpx:HTTP Request: POST https://api.openai.com/v1/chat/completions \"HTTP/1.1 200 OK\"\n",
      "HTTP Request: POST https://api.openai.com/v1/chat/completions \"HTTP/1.1 200 OK\"\n"
     ]
    },
    {
     "name": "stderr",
     "output_type": "stream",
     "text": [
      " 23%|██▎       | 61/260 [03:17<07:56,  2.39s/it]"
     ]
    },
    {
     "name": "stdout",
     "output_type": "stream",
     "text": [
      "INFO:httpx:HTTP Request: POST https://api.openai.com/v1/chat/completions \"HTTP/1.1 200 OK\"\n",
      "HTTP Request: POST https://api.openai.com/v1/chat/completions \"HTTP/1.1 200 OK\"\n"
     ]
    },
    {
     "name": "stderr",
     "output_type": "stream",
     "text": [
      " 24%|██▍       | 62/260 [03:20<08:09,  2.47s/it]"
     ]
    },
    {
     "name": "stdout",
     "output_type": "stream",
     "text": [
      "INFO:httpx:HTTP Request: POST https://api.openai.com/v1/chat/completions \"HTTP/1.1 200 OK\"\n",
      "HTTP Request: POST https://api.openai.com/v1/chat/completions \"HTTP/1.1 200 OK\"\n"
     ]
    },
    {
     "name": "stderr",
     "output_type": "stream",
     "text": [
      " 24%|██▍       | 63/260 [03:22<07:18,  2.22s/it]"
     ]
    },
    {
     "name": "stdout",
     "output_type": "stream",
     "text": [
      "INFO:httpx:HTTP Request: POST https://api.openai.com/v1/chat/completions \"HTTP/1.1 200 OK\"\n",
      "HTTP Request: POST https://api.openai.com/v1/chat/completions \"HTTP/1.1 200 OK\"\n"
     ]
    },
    {
     "name": "stderr",
     "output_type": "stream",
     "text": [
      " 25%|██▍       | 64/260 [03:25<08:17,  2.54s/it]"
     ]
    },
    {
     "name": "stdout",
     "output_type": "stream",
     "text": [
      "INFO:httpx:HTTP Request: POST https://api.openai.com/v1/chat/completions \"HTTP/1.1 200 OK\"\n",
      "HTTP Request: POST https://api.openai.com/v1/chat/completions \"HTTP/1.1 200 OK\"\n"
     ]
    },
    {
     "name": "stderr",
     "output_type": "stream",
     "text": [
      " 25%|██▌       | 65/260 [03:29<09:10,  2.82s/it]"
     ]
    },
    {
     "name": "stdout",
     "output_type": "stream",
     "text": [
      "INFO:httpx:HTTP Request: POST https://api.openai.com/v1/chat/completions \"HTTP/1.1 200 OK\"\n",
      "HTTP Request: POST https://api.openai.com/v1/chat/completions \"HTTP/1.1 200 OK\"\n"
     ]
    },
    {
     "name": "stderr",
     "output_type": "stream",
     "text": [
      " 25%|██▌       | 66/260 [03:31<08:58,  2.77s/it]"
     ]
    },
    {
     "name": "stdout",
     "output_type": "stream",
     "text": [
      "INFO:httpx:HTTP Request: POST https://api.openai.com/v1/chat/completions \"HTTP/1.1 200 OK\"\n",
      "HTTP Request: POST https://api.openai.com/v1/chat/completions \"HTTP/1.1 200 OK\"\n"
     ]
    },
    {
     "name": "stderr",
     "output_type": "stream",
     "text": [
      " 26%|██▌       | 67/260 [03:35<09:42,  3.02s/it]"
     ]
    },
    {
     "name": "stdout",
     "output_type": "stream",
     "text": [
      "INFO:httpx:HTTP Request: POST https://api.openai.com/v1/chat/completions \"HTTP/1.1 200 OK\"\n",
      "HTTP Request: POST https://api.openai.com/v1/chat/completions \"HTTP/1.1 200 OK\"\n"
     ]
    },
    {
     "name": "stderr",
     "output_type": "stream",
     "text": [
      " 26%|██▌       | 68/260 [03:36<07:52,  2.46s/it]"
     ]
    },
    {
     "name": "stdout",
     "output_type": "stream",
     "text": [
      "INFO:httpx:HTTP Request: POST https://api.openai.com/v1/chat/completions \"HTTP/1.1 200 OK\"\n",
      "HTTP Request: POST https://api.openai.com/v1/chat/completions \"HTTP/1.1 200 OK\"\n"
     ]
    },
    {
     "name": "stderr",
     "output_type": "stream",
     "text": [
      " 27%|██▋       | 69/260 [03:40<09:39,  3.03s/it]"
     ]
    },
    {
     "name": "stdout",
     "output_type": "stream",
     "text": [
      "INFO:httpx:HTTP Request: POST https://api.openai.com/v1/chat/completions \"HTTP/1.1 200 OK\"\n",
      "HTTP Request: POST https://api.openai.com/v1/chat/completions \"HTTP/1.1 200 OK\"\n"
     ]
    },
    {
     "name": "stderr",
     "output_type": "stream",
     "text": [
      " 27%|██▋       | 70/260 [03:41<07:30,  2.37s/it]"
     ]
    },
    {
     "name": "stdout",
     "output_type": "stream",
     "text": [
      "INFO:httpx:HTTP Request: POST https://api.openai.com/v1/chat/completions \"HTTP/1.1 200 OK\"\n",
      "HTTP Request: POST https://api.openai.com/v1/chat/completions \"HTTP/1.1 200 OK\"\n"
     ]
    },
    {
     "name": "stderr",
     "output_type": "stream",
     "text": [
      " 27%|██▋       | 71/260 [03:44<08:13,  2.61s/it]"
     ]
    },
    {
     "name": "stdout",
     "output_type": "stream",
     "text": [
      "INFO:httpx:HTTP Request: POST https://api.openai.com/v1/chat/completions \"HTTP/1.1 200 OK\"\n",
      "HTTP Request: POST https://api.openai.com/v1/chat/completions \"HTTP/1.1 200 OK\"\n"
     ]
    },
    {
     "name": "stderr",
     "output_type": "stream",
     "text": [
      " 28%|██▊       | 72/260 [03:45<06:29,  2.07s/it]"
     ]
    },
    {
     "name": "stdout",
     "output_type": "stream",
     "text": [
      "INFO:httpx:HTTP Request: POST https://api.openai.com/v1/chat/completions \"HTTP/1.1 200 OK\"\n",
      "HTTP Request: POST https://api.openai.com/v1/chat/completions \"HTTP/1.1 200 OK\"\n"
     ]
    },
    {
     "name": "stderr",
     "output_type": "stream",
     "text": [
      " 28%|██▊       | 73/260 [03:48<06:49,  2.19s/it]"
     ]
    },
    {
     "name": "stdout",
     "output_type": "stream",
     "text": [
      "INFO:httpx:HTTP Request: POST https://api.openai.com/v1/chat/completions \"HTTP/1.1 200 OK\"\n",
      "HTTP Request: POST https://api.openai.com/v1/chat/completions \"HTTP/1.1 200 OK\"\n"
     ]
    },
    {
     "name": "stderr",
     "output_type": "stream",
     "text": [
      " 28%|██▊       | 74/260 [03:50<06:39,  2.15s/it]"
     ]
    },
    {
     "name": "stdout",
     "output_type": "stream",
     "text": [
      "INFO:httpx:HTTP Request: POST https://api.openai.com/v1/chat/completions \"HTTP/1.1 200 OK\"\n",
      "HTTP Request: POST https://api.openai.com/v1/chat/completions \"HTTP/1.1 200 OK\"\n"
     ]
    },
    {
     "name": "stderr",
     "output_type": "stream",
     "text": [
      " 29%|██▉       | 75/260 [03:51<06:20,  2.05s/it]"
     ]
    },
    {
     "name": "stdout",
     "output_type": "stream",
     "text": [
      "INFO:httpx:HTTP Request: POST https://api.openai.com/v1/chat/completions \"HTTP/1.1 200 OK\"\n",
      "HTTP Request: POST https://api.openai.com/v1/chat/completions \"HTTP/1.1 200 OK\"\n"
     ]
    },
    {
     "name": "stderr",
     "output_type": "stream",
     "text": [
      " 29%|██▉       | 76/260 [03:54<06:29,  2.11s/it]"
     ]
    },
    {
     "name": "stdout",
     "output_type": "stream",
     "text": [
      "INFO:httpx:HTTP Request: POST https://api.openai.com/v1/chat/completions \"HTTP/1.1 200 OK\"\n",
      "HTTP Request: POST https://api.openai.com/v1/chat/completions \"HTTP/1.1 200 OK\"\n"
     ]
    },
    {
     "name": "stderr",
     "output_type": "stream",
     "text": [
      " 30%|██▉       | 77/260 [03:56<07:02,  2.31s/it]"
     ]
    },
    {
     "name": "stdout",
     "output_type": "stream",
     "text": [
      "INFO:httpx:HTTP Request: POST https://api.openai.com/v1/chat/completions \"HTTP/1.1 200 OK\"\n",
      "HTTP Request: POST https://api.openai.com/v1/chat/completions \"HTTP/1.1 200 OK\"\n"
     ]
    },
    {
     "name": "stderr",
     "output_type": "stream",
     "text": [
      " 30%|███       | 78/260 [03:59<06:57,  2.29s/it]"
     ]
    },
    {
     "name": "stdout",
     "output_type": "stream",
     "text": [
      "INFO:httpx:HTTP Request: POST https://api.openai.com/v1/chat/completions \"HTTP/1.1 200 OK\"\n",
      "HTTP Request: POST https://api.openai.com/v1/chat/completions \"HTTP/1.1 200 OK\"\n"
     ]
    },
    {
     "name": "stderr",
     "output_type": "stream",
     "text": [
      " 30%|███       | 79/260 [04:01<07:03,  2.34s/it]"
     ]
    },
    {
     "name": "stdout",
     "output_type": "stream",
     "text": [
      "INFO:httpx:HTTP Request: POST https://api.openai.com/v1/chat/completions \"HTTP/1.1 200 OK\"\n",
      "HTTP Request: POST https://api.openai.com/v1/chat/completions \"HTTP/1.1 200 OK\"\n"
     ]
    },
    {
     "name": "stderr",
     "output_type": "stream",
     "text": [
      " 31%|███       | 80/260 [04:05<07:54,  2.64s/it]"
     ]
    },
    {
     "name": "stdout",
     "output_type": "stream",
     "text": [
      "INFO:httpx:HTTP Request: POST https://api.openai.com/v1/chat/completions \"HTTP/1.1 200 OK\"\n",
      "HTTP Request: POST https://api.openai.com/v1/chat/completions \"HTTP/1.1 200 OK\"\n"
     ]
    },
    {
     "name": "stderr",
     "output_type": "stream",
     "text": [
      " 31%|███       | 81/260 [04:07<07:23,  2.48s/it]"
     ]
    },
    {
     "name": "stdout",
     "output_type": "stream",
     "text": [
      "INFO:httpx:HTTP Request: POST https://api.openai.com/v1/chat/completions \"HTTP/1.1 200 OK\"\n",
      "HTTP Request: POST https://api.openai.com/v1/chat/completions \"HTTP/1.1 200 OK\"\n"
     ]
    },
    {
     "name": "stderr",
     "output_type": "stream",
     "text": [
      " 32%|███▏      | 82/260 [04:09<07:02,  2.37s/it]"
     ]
    },
    {
     "name": "stdout",
     "output_type": "stream",
     "text": [
      "INFO:httpx:HTTP Request: POST https://api.openai.com/v1/chat/completions \"HTTP/1.1 200 OK\"\n",
      "HTTP Request: POST https://api.openai.com/v1/chat/completions \"HTTP/1.1 200 OK\"\n"
     ]
    },
    {
     "name": "stderr",
     "output_type": "stream",
     "text": [
      " 32%|███▏      | 83/260 [04:14<09:19,  3.16s/it]"
     ]
    },
    {
     "name": "stdout",
     "output_type": "stream",
     "text": [
      "INFO:httpx:HTTP Request: POST https://api.openai.com/v1/chat/completions \"HTTP/1.1 200 OK\"\n",
      "HTTP Request: POST https://api.openai.com/v1/chat/completions \"HTTP/1.1 200 OK\"\n"
     ]
    },
    {
     "name": "stderr",
     "output_type": "stream",
     "text": [
      " 32%|███▏      | 84/260 [04:16<08:34,  2.93s/it]"
     ]
    },
    {
     "name": "stdout",
     "output_type": "stream",
     "text": [
      "INFO:httpx:HTTP Request: POST https://api.openai.com/v1/chat/completions \"HTTP/1.1 200 OK\"\n",
      "HTTP Request: POST https://api.openai.com/v1/chat/completions \"HTTP/1.1 200 OK\"\n"
     ]
    },
    {
     "name": "stderr",
     "output_type": "stream",
     "text": [
      " 33%|███▎      | 85/260 [04:19<08:13,  2.82s/it]"
     ]
    },
    {
     "name": "stdout",
     "output_type": "stream",
     "text": [
      "INFO:httpx:HTTP Request: POST https://api.openai.com/v1/chat/completions \"HTTP/1.1 200 OK\"\n",
      "HTTP Request: POST https://api.openai.com/v1/chat/completions \"HTTP/1.1 200 OK\"\n"
     ]
    },
    {
     "name": "stderr",
     "output_type": "stream",
     "text": [
      " 33%|███▎      | 86/260 [04:22<08:23,  2.90s/it]"
     ]
    },
    {
     "name": "stdout",
     "output_type": "stream",
     "text": [
      "INFO:httpx:HTTP Request: POST https://api.openai.com/v1/chat/completions \"HTTP/1.1 200 OK\"\n",
      "HTTP Request: POST https://api.openai.com/v1/chat/completions \"HTTP/1.1 200 OK\"\n"
     ]
    },
    {
     "name": "stderr",
     "output_type": "stream",
     "text": [
      " 33%|███▎      | 87/260 [04:23<07:10,  2.49s/it]"
     ]
    },
    {
     "name": "stdout",
     "output_type": "stream",
     "text": [
      "INFO:httpx:HTTP Request: POST https://api.openai.com/v1/chat/completions \"HTTP/1.1 200 OK\"\n",
      "HTTP Request: POST https://api.openai.com/v1/chat/completions \"HTTP/1.1 200 OK\"\n"
     ]
    },
    {
     "name": "stderr",
     "output_type": "stream",
     "text": [
      " 34%|███▍      | 88/260 [04:25<06:13,  2.17s/it]"
     ]
    },
    {
     "name": "stdout",
     "output_type": "stream",
     "text": [
      "INFO:httpx:HTTP Request: POST https://api.openai.com/v1/chat/completions \"HTTP/1.1 200 OK\"\n",
      "HTTP Request: POST https://api.openai.com/v1/chat/completions \"HTTP/1.1 200 OK\"\n"
     ]
    },
    {
     "name": "stderr",
     "output_type": "stream",
     "text": [
      " 34%|███▍      | 89/260 [04:28<07:09,  2.51s/it]"
     ]
    },
    {
     "name": "stdout",
     "output_type": "stream",
     "text": [
      "INFO:httpx:HTTP Request: POST https://api.openai.com/v1/chat/completions \"HTTP/1.1 200 OK\"\n",
      "HTTP Request: POST https://api.openai.com/v1/chat/completions \"HTTP/1.1 200 OK\"\n"
     ]
    },
    {
     "name": "stderr",
     "output_type": "stream",
     "text": [
      " 35%|███▍      | 90/260 [04:31<07:48,  2.75s/it]"
     ]
    },
    {
     "name": "stdout",
     "output_type": "stream",
     "text": [
      "INFO:httpx:HTTP Request: POST https://api.openai.com/v1/chat/completions \"HTTP/1.1 200 OK\"\n",
      "HTTP Request: POST https://api.openai.com/v1/chat/completions \"HTTP/1.1 200 OK\"\n"
     ]
    },
    {
     "name": "stderr",
     "output_type": "stream",
     "text": [
      " 35%|███▌      | 91/260 [04:35<08:13,  2.92s/it]"
     ]
    },
    {
     "name": "stdout",
     "output_type": "stream",
     "text": [
      "INFO:httpx:HTTP Request: POST https://api.openai.com/v1/chat/completions \"HTTP/1.1 200 OK\"\n",
      "HTTP Request: POST https://api.openai.com/v1/chat/completions \"HTTP/1.1 200 OK\"\n"
     ]
    },
    {
     "name": "stderr",
     "output_type": "stream",
     "text": [
      " 35%|███▌      | 92/260 [04:37<07:51,  2.81s/it]"
     ]
    },
    {
     "name": "stdout",
     "output_type": "stream",
     "text": [
      "INFO:httpx:HTTP Request: POST https://api.openai.com/v1/chat/completions \"HTTP/1.1 200 OK\"\n",
      "HTTP Request: POST https://api.openai.com/v1/chat/completions \"HTTP/1.1 200 OK\"\n"
     ]
    },
    {
     "name": "stderr",
     "output_type": "stream",
     "text": [
      " 36%|███▌      | 93/260 [04:39<07:13,  2.60s/it]"
     ]
    },
    {
     "name": "stdout",
     "output_type": "stream",
     "text": [
      "INFO:httpx:HTTP Request: POST https://api.openai.com/v1/chat/completions \"HTTP/1.1 200 OK\"\n",
      "HTTP Request: POST https://api.openai.com/v1/chat/completions \"HTTP/1.1 200 OK\"\n"
     ]
    },
    {
     "name": "stderr",
     "output_type": "stream",
     "text": [
      " 36%|███▌      | 94/260 [04:41<06:31,  2.36s/it]"
     ]
    },
    {
     "name": "stdout",
     "output_type": "stream",
     "text": [
      "INFO:httpx:HTTP Request: POST https://api.openai.com/v1/chat/completions \"HTTP/1.1 200 OK\"\n",
      "HTTP Request: POST https://api.openai.com/v1/chat/completions \"HTTP/1.1 200 OK\"\n"
     ]
    },
    {
     "name": "stderr",
     "output_type": "stream",
     "text": [
      " 37%|███▋      | 95/260 [04:45<08:05,  2.94s/it]"
     ]
    },
    {
     "name": "stdout",
     "output_type": "stream",
     "text": [
      "INFO:httpx:HTTP Request: POST https://api.openai.com/v1/chat/completions \"HTTP/1.1 200 OK\"\n",
      "HTTP Request: POST https://api.openai.com/v1/chat/completions \"HTTP/1.1 200 OK\"\n"
     ]
    },
    {
     "name": "stderr",
     "output_type": "stream",
     "text": [
      " 37%|███▋      | 96/260 [04:47<06:43,  2.46s/it]"
     ]
    },
    {
     "name": "stdout",
     "output_type": "stream",
     "text": [
      "INFO:httpx:HTTP Request: POST https://api.openai.com/v1/chat/completions \"HTTP/1.1 200 OK\"\n",
      "HTTP Request: POST https://api.openai.com/v1/chat/completions \"HTTP/1.1 200 OK\"\n"
     ]
    },
    {
     "name": "stderr",
     "output_type": "stream",
     "text": [
      " 37%|███▋      | 97/260 [04:49<06:20,  2.34s/it]"
     ]
    },
    {
     "name": "stdout",
     "output_type": "stream",
     "text": [
      "INFO:httpx:HTTP Request: POST https://api.openai.com/v1/chat/completions \"HTTP/1.1 200 OK\"\n",
      "HTTP Request: POST https://api.openai.com/v1/chat/completions \"HTTP/1.1 200 OK\"\n"
     ]
    },
    {
     "name": "stderr",
     "output_type": "stream",
     "text": [
      " 38%|███▊      | 98/260 [04:54<08:23,  3.11s/it]"
     ]
    },
    {
     "name": "stdout",
     "output_type": "stream",
     "text": [
      "INFO:httpx:HTTP Request: POST https://api.openai.com/v1/chat/completions \"HTTP/1.1 200 OK\"\n",
      "HTTP Request: POST https://api.openai.com/v1/chat/completions \"HTTP/1.1 200 OK\"\n"
     ]
    },
    {
     "name": "stderr",
     "output_type": "stream",
     "text": [
      " 38%|███▊      | 99/260 [04:56<07:38,  2.85s/it]"
     ]
    },
    {
     "name": "stdout",
     "output_type": "stream",
     "text": [
      "INFO:httpx:HTTP Request: POST https://api.openai.com/v1/chat/completions \"HTTP/1.1 200 OK\"\n",
      "HTTP Request: POST https://api.openai.com/v1/chat/completions \"HTTP/1.1 200 OK\"\n"
     ]
    },
    {
     "name": "stderr",
     "output_type": "stream",
     "text": [
      " 38%|███▊      | 100/260 [04:58<07:07,  2.67s/it]"
     ]
    },
    {
     "name": "stdout",
     "output_type": "stream",
     "text": [
      "INFO:httpx:HTTP Request: POST https://api.openai.com/v1/chat/completions \"HTTP/1.1 200 OK\"\n",
      "HTTP Request: POST https://api.openai.com/v1/chat/completions \"HTTP/1.1 200 OK\"\n"
     ]
    },
    {
     "name": "stderr",
     "output_type": "stream",
     "text": [
      " 39%|███▉      | 101/260 [05:00<06:23,  2.41s/it]"
     ]
    },
    {
     "name": "stdout",
     "output_type": "stream",
     "text": [
      "INFO:httpx:HTTP Request: POST https://api.openai.com/v1/chat/completions \"HTTP/1.1 200 OK\"\n",
      "HTTP Request: POST https://api.openai.com/v1/chat/completions \"HTTP/1.1 200 OK\"\n"
     ]
    },
    {
     "name": "stderr",
     "output_type": "stream",
     "text": [
      " 39%|███▉      | 102/260 [05:04<07:18,  2.78s/it]"
     ]
    },
    {
     "name": "stdout",
     "output_type": "stream",
     "text": [
      "INFO:httpx:HTTP Request: POST https://api.openai.com/v1/chat/completions \"HTTP/1.1 200 OK\"\n",
      "HTTP Request: POST https://api.openai.com/v1/chat/completions \"HTTP/1.1 200 OK\"\n"
     ]
    },
    {
     "name": "stderr",
     "output_type": "stream",
     "text": [
      " 40%|███▉      | 103/260 [05:10<10:18,  3.94s/it]"
     ]
    },
    {
     "name": "stdout",
     "output_type": "stream",
     "text": [
      "INFO:httpx:HTTP Request: POST https://api.openai.com/v1/chat/completions \"HTTP/1.1 200 OK\"\n",
      "HTTP Request: POST https://api.openai.com/v1/chat/completions \"HTTP/1.1 200 OK\"\n"
     ]
    },
    {
     "name": "stderr",
     "output_type": "stream",
     "text": [
      " 40%|████      | 104/260 [05:14<10:02,  3.86s/it]"
     ]
    },
    {
     "name": "stdout",
     "output_type": "stream",
     "text": [
      "INFO:httpx:HTTP Request: POST https://api.openai.com/v1/chat/completions \"HTTP/1.1 200 OK\"\n",
      "HTTP Request: POST https://api.openai.com/v1/chat/completions \"HTTP/1.1 200 OK\"\n"
     ]
    },
    {
     "name": "stderr",
     "output_type": "stream",
     "text": [
      " 40%|████      | 105/260 [05:17<09:07,  3.53s/it]"
     ]
    },
    {
     "name": "stdout",
     "output_type": "stream",
     "text": [
      "INFO:httpx:HTTP Request: POST https://api.openai.com/v1/chat/completions \"HTTP/1.1 200 OK\"\n",
      "HTTP Request: POST https://api.openai.com/v1/chat/completions \"HTTP/1.1 200 OK\"\n"
     ]
    },
    {
     "name": "stderr",
     "output_type": "stream",
     "text": [
      " 41%|████      | 106/260 [05:19<08:04,  3.15s/it]"
     ]
    },
    {
     "name": "stdout",
     "output_type": "stream",
     "text": [
      "INFO:httpx:HTTP Request: POST https://api.openai.com/v1/chat/completions \"HTTP/1.1 200 OK\"\n",
      "HTTP Request: POST https://api.openai.com/v1/chat/completions \"HTTP/1.1 200 OK\"\n"
     ]
    },
    {
     "name": "stderr",
     "output_type": "stream",
     "text": [
      " 41%|████      | 107/260 [05:23<08:21,  3.28s/it]"
     ]
    },
    {
     "name": "stdout",
     "output_type": "stream",
     "text": [
      "INFO:httpx:HTTP Request: POST https://api.openai.com/v1/chat/completions \"HTTP/1.1 200 OK\"\n",
      "HTTP Request: POST https://api.openai.com/v1/chat/completions \"HTTP/1.1 200 OK\"\n"
     ]
    },
    {
     "name": "stderr",
     "output_type": "stream",
     "text": [
      " 42%|████▏     | 108/260 [05:26<08:40,  3.42s/it]"
     ]
    },
    {
     "name": "stdout",
     "output_type": "stream",
     "text": [
      "INFO:httpx:HTTP Request: POST https://api.openai.com/v1/chat/completions \"HTTP/1.1 200 OK\"\n",
      "HTTP Request: POST https://api.openai.com/v1/chat/completions \"HTTP/1.1 200 OK\"\n"
     ]
    },
    {
     "name": "stderr",
     "output_type": "stream",
     "text": [
      " 42%|████▏     | 109/260 [05:29<08:03,  3.20s/it]"
     ]
    },
    {
     "name": "stdout",
     "output_type": "stream",
     "text": [
      "INFO:httpx:HTTP Request: POST https://api.openai.com/v1/chat/completions \"HTTP/1.1 200 OK\"\n",
      "HTTP Request: POST https://api.openai.com/v1/chat/completions \"HTTP/1.1 200 OK\"\n"
     ]
    },
    {
     "name": "stderr",
     "output_type": "stream",
     "text": [
      " 42%|████▏     | 110/260 [05:33<08:22,  3.35s/it]"
     ]
    },
    {
     "name": "stdout",
     "output_type": "stream",
     "text": [
      "INFO:httpx:HTTP Request: POST https://api.openai.com/v1/chat/completions \"HTTP/1.1 200 OK\"\n",
      "HTTP Request: POST https://api.openai.com/v1/chat/completions \"HTTP/1.1 200 OK\"\n"
     ]
    },
    {
     "name": "stderr",
     "output_type": "stream",
     "text": [
      " 43%|████▎     | 111/260 [05:34<06:53,  2.78s/it]"
     ]
    },
    {
     "name": "stdout",
     "output_type": "stream",
     "text": [
      "INFO:httpx:HTTP Request: POST https://api.openai.com/v1/chat/completions \"HTTP/1.1 200 OK\"\n",
      "HTTP Request: POST https://api.openai.com/v1/chat/completions \"HTTP/1.1 200 OK\"\n"
     ]
    },
    {
     "name": "stderr",
     "output_type": "stream",
     "text": [
      " 43%|████▎     | 112/260 [05:37<06:31,  2.65s/it]"
     ]
    },
    {
     "name": "stdout",
     "output_type": "stream",
     "text": [
      "INFO:httpx:HTTP Request: POST https://api.openai.com/v1/chat/completions \"HTTP/1.1 200 OK\"\n",
      "HTTP Request: POST https://api.openai.com/v1/chat/completions \"HTTP/1.1 200 OK\"\n"
     ]
    },
    {
     "name": "stderr",
     "output_type": "stream",
     "text": [
      " 43%|████▎     | 113/260 [05:40<07:10,  2.93s/it]"
     ]
    },
    {
     "name": "stdout",
     "output_type": "stream",
     "text": [
      "INFO:httpx:HTTP Request: POST https://api.openai.com/v1/chat/completions \"HTTP/1.1 200 OK\"\n",
      "HTTP Request: POST https://api.openai.com/v1/chat/completions \"HTTP/1.1 200 OK\"\n"
     ]
    },
    {
     "name": "stderr",
     "output_type": "stream",
     "text": [
      " 44%|████▍     | 114/260 [05:41<05:53,  2.42s/it]"
     ]
    },
    {
     "name": "stdout",
     "output_type": "stream",
     "text": [
      "INFO:httpx:HTTP Request: POST https://api.openai.com/v1/chat/completions \"HTTP/1.1 200 OK\"\n",
      "HTTP Request: POST https://api.openai.com/v1/chat/completions \"HTTP/1.1 200 OK\"\n"
     ]
    },
    {
     "name": "stderr",
     "output_type": "stream",
     "text": [
      " 44%|████▍     | 115/260 [05:44<06:05,  2.52s/it]"
     ]
    },
    {
     "name": "stdout",
     "output_type": "stream",
     "text": [
      "INFO:httpx:HTTP Request: POST https://api.openai.com/v1/chat/completions \"HTTP/1.1 200 OK\"\n",
      "HTTP Request: POST https://api.openai.com/v1/chat/completions \"HTTP/1.1 200 OK\"\n"
     ]
    },
    {
     "name": "stderr",
     "output_type": "stream",
     "text": [
      " 45%|████▍     | 116/260 [05:46<05:45,  2.40s/it]"
     ]
    },
    {
     "name": "stdout",
     "output_type": "stream",
     "text": [
      "INFO:httpx:HTTP Request: POST https://api.openai.com/v1/chat/completions \"HTTP/1.1 200 OK\"\n",
      "HTTP Request: POST https://api.openai.com/v1/chat/completions \"HTTP/1.1 200 OK\"\n"
     ]
    },
    {
     "name": "stderr",
     "output_type": "stream",
     "text": [
      " 45%|████▌     | 117/260 [05:48<05:25,  2.27s/it]"
     ]
    },
    {
     "name": "stdout",
     "output_type": "stream",
     "text": [
      "INFO:httpx:HTTP Request: POST https://api.openai.com/v1/chat/completions \"HTTP/1.1 200 OK\"\n",
      "HTTP Request: POST https://api.openai.com/v1/chat/completions \"HTTP/1.1 200 OK\"\n"
     ]
    },
    {
     "name": "stderr",
     "output_type": "stream",
     "text": [
      " 45%|████▌     | 118/260 [05:49<04:34,  1.93s/it]"
     ]
    },
    {
     "name": "stdout",
     "output_type": "stream",
     "text": [
      "INFO:httpx:HTTP Request: POST https://api.openai.com/v1/chat/completions \"HTTP/1.1 200 OK\"\n",
      "HTTP Request: POST https://api.openai.com/v1/chat/completions \"HTTP/1.1 200 OK\"\n"
     ]
    },
    {
     "name": "stderr",
     "output_type": "stream",
     "text": [
      " 46%|████▌     | 119/260 [05:50<03:36,  1.54s/it]"
     ]
    },
    {
     "name": "stdout",
     "output_type": "stream",
     "text": [
      "INFO:httpx:HTTP Request: POST https://api.openai.com/v1/chat/completions \"HTTP/1.1 200 OK\"\n",
      "HTTP Request: POST https://api.openai.com/v1/chat/completions \"HTTP/1.1 200 OK\"\n"
     ]
    },
    {
     "name": "stderr",
     "output_type": "stream",
     "text": [
      " 46%|████▌     | 120/260 [05:51<03:17,  1.41s/it]"
     ]
    },
    {
     "name": "stdout",
     "output_type": "stream",
     "text": [
      "INFO:httpx:HTTP Request: POST https://api.openai.com/v1/chat/completions \"HTTP/1.1 200 OK\"\n",
      "HTTP Request: POST https://api.openai.com/v1/chat/completions \"HTTP/1.1 200 OK\"\n"
     ]
    },
    {
     "name": "stderr",
     "output_type": "stream",
     "text": [
      " 47%|████▋     | 121/260 [05:53<03:38,  1.57s/it]"
     ]
    },
    {
     "name": "stdout",
     "output_type": "stream",
     "text": [
      "INFO:httpx:HTTP Request: POST https://api.openai.com/v1/chat/completions \"HTTP/1.1 200 OK\"\n",
      "HTTP Request: POST https://api.openai.com/v1/chat/completions \"HTTP/1.1 200 OK\"\n"
     ]
    },
    {
     "name": "stderr",
     "output_type": "stream",
     "text": [
      " 47%|████▋     | 122/260 [05:57<05:04,  2.21s/it]"
     ]
    },
    {
     "name": "stdout",
     "output_type": "stream",
     "text": [
      "INFO:httpx:HTTP Request: POST https://api.openai.com/v1/chat/completions \"HTTP/1.1 200 OK\"\n",
      "HTTP Request: POST https://api.openai.com/v1/chat/completions \"HTTP/1.1 200 OK\"\n"
     ]
    },
    {
     "name": "stderr",
     "output_type": "stream",
     "text": [
      " 47%|████▋     | 123/260 [05:59<05:25,  2.37s/it]"
     ]
    },
    {
     "name": "stdout",
     "output_type": "stream",
     "text": [
      "INFO:httpx:HTTP Request: POST https://api.openai.com/v1/chat/completions \"HTTP/1.1 200 OK\"\n",
      "HTTP Request: POST https://api.openai.com/v1/chat/completions \"HTTP/1.1 200 OK\"\n"
     ]
    },
    {
     "name": "stderr",
     "output_type": "stream",
     "text": [
      " 48%|████▊     | 124/260 [06:01<04:52,  2.15s/it]"
     ]
    },
    {
     "name": "stdout",
     "output_type": "stream",
     "text": [
      "INFO:httpx:HTTP Request: POST https://api.openai.com/v1/chat/completions \"HTTP/1.1 200 OK\"\n",
      "HTTP Request: POST https://api.openai.com/v1/chat/completions \"HTTP/1.1 200 OK\"\n"
     ]
    },
    {
     "name": "stderr",
     "output_type": "stream",
     "text": [
      " 48%|████▊     | 125/260 [06:05<06:21,  2.82s/it]"
     ]
    },
    {
     "name": "stdout",
     "output_type": "stream",
     "text": [
      "INFO:httpx:HTTP Request: POST https://api.openai.com/v1/chat/completions \"HTTP/1.1 200 OK\"\n",
      "HTTP Request: POST https://api.openai.com/v1/chat/completions \"HTTP/1.1 200 OK\"\n"
     ]
    },
    {
     "name": "stderr",
     "output_type": "stream",
     "text": [
      " 48%|████▊     | 126/260 [06:10<07:10,  3.21s/it]"
     ]
    },
    {
     "name": "stdout",
     "output_type": "stream",
     "text": [
      "INFO:httpx:HTTP Request: POST https://api.openai.com/v1/chat/completions \"HTTP/1.1 200 OK\"\n",
      "HTTP Request: POST https://api.openai.com/v1/chat/completions \"HTTP/1.1 200 OK\"\n"
     ]
    },
    {
     "name": "stderr",
     "output_type": "stream",
     "text": [
      " 49%|████▉     | 127/260 [06:12<06:53,  3.11s/it]"
     ]
    },
    {
     "name": "stdout",
     "output_type": "stream",
     "text": [
      "INFO:httpx:HTTP Request: POST https://api.openai.com/v1/chat/completions \"HTTP/1.1 200 OK\"\n",
      "HTTP Request: POST https://api.openai.com/v1/chat/completions \"HTTP/1.1 200 OK\"\n"
     ]
    },
    {
     "name": "stderr",
     "output_type": "stream",
     "text": [
      " 49%|████▉     | 128/260 [06:13<05:19,  2.42s/it]"
     ]
    },
    {
     "name": "stdout",
     "output_type": "stream",
     "text": [
      "INFO:httpx:HTTP Request: POST https://api.openai.com/v1/chat/completions \"HTTP/1.1 200 OK\"\n",
      "HTTP Request: POST https://api.openai.com/v1/chat/completions \"HTTP/1.1 200 OK\"\n"
     ]
    },
    {
     "name": "stderr",
     "output_type": "stream",
     "text": [
      " 50%|████▉     | 129/260 [06:15<04:46,  2.19s/it]"
     ]
    },
    {
     "name": "stdout",
     "output_type": "stream",
     "text": [
      "INFO:httpx:HTTP Request: POST https://api.openai.com/v1/chat/completions \"HTTP/1.1 200 OK\"\n",
      "HTTP Request: POST https://api.openai.com/v1/chat/completions \"HTTP/1.1 200 OK\"\n"
     ]
    },
    {
     "name": "stderr",
     "output_type": "stream",
     "text": [
      " 50%|█████     | 130/260 [06:16<03:46,  1.74s/it]"
     ]
    },
    {
     "name": "stdout",
     "output_type": "stream",
     "text": [
      "INFO:httpx:HTTP Request: POST https://api.openai.com/v1/chat/completions \"HTTP/1.1 200 OK\"\n",
      "HTTP Request: POST https://api.openai.com/v1/chat/completions \"HTTP/1.1 200 OK\"\n"
     ]
    },
    {
     "name": "stderr",
     "output_type": "stream",
     "text": [
      " 50%|█████     | 131/260 [06:17<03:44,  1.74s/it]"
     ]
    },
    {
     "name": "stdout",
     "output_type": "stream",
     "text": [
      "INFO:httpx:HTTP Request: POST https://api.openai.com/v1/chat/completions \"HTTP/1.1 200 OK\"\n",
      "HTTP Request: POST https://api.openai.com/v1/chat/completions \"HTTP/1.1 200 OK\"\n"
     ]
    },
    {
     "name": "stderr",
     "output_type": "stream",
     "text": [
      " 51%|█████     | 132/260 [06:19<03:51,  1.80s/it]"
     ]
    },
    {
     "name": "stdout",
     "output_type": "stream",
     "text": [
      "INFO:httpx:HTTP Request: POST https://api.openai.com/v1/chat/completions \"HTTP/1.1 200 OK\"\n",
      "HTTP Request: POST https://api.openai.com/v1/chat/completions \"HTTP/1.1 200 OK\"\n"
     ]
    },
    {
     "name": "stderr",
     "output_type": "stream",
     "text": [
      " 51%|█████     | 133/260 [06:22<04:21,  2.06s/it]"
     ]
    },
    {
     "name": "stdout",
     "output_type": "stream",
     "text": [
      "INFO:httpx:HTTP Request: POST https://api.openai.com/v1/chat/completions \"HTTP/1.1 200 OK\"\n",
      "HTTP Request: POST https://api.openai.com/v1/chat/completions \"HTTP/1.1 200 OK\"\n"
     ]
    },
    {
     "name": "stderr",
     "output_type": "stream",
     "text": [
      " 52%|█████▏    | 134/260 [06:25<05:01,  2.40s/it]"
     ]
    },
    {
     "name": "stdout",
     "output_type": "stream",
     "text": [
      "INFO:httpx:HTTP Request: POST https://api.openai.com/v1/chat/completions \"HTTP/1.1 200 OK\"\n",
      "HTTP Request: POST https://api.openai.com/v1/chat/completions \"HTTP/1.1 200 OK\"\n"
     ]
    },
    {
     "name": "stderr",
     "output_type": "stream",
     "text": [
      " 52%|█████▏    | 135/260 [06:28<05:17,  2.54s/it]"
     ]
    },
    {
     "name": "stdout",
     "output_type": "stream",
     "text": [
      "INFO:httpx:HTTP Request: POST https://api.openai.com/v1/chat/completions \"HTTP/1.1 200 OK\"\n",
      "HTTP Request: POST https://api.openai.com/v1/chat/completions \"HTTP/1.1 200 OK\"\n"
     ]
    },
    {
     "name": "stderr",
     "output_type": "stream",
     "text": [
      " 52%|█████▏    | 136/260 [06:32<05:49,  2.82s/it]"
     ]
    },
    {
     "name": "stdout",
     "output_type": "stream",
     "text": [
      "INFO:httpx:HTTP Request: POST https://api.openai.com/v1/chat/completions \"HTTP/1.1 200 OK\"\n",
      "HTTP Request: POST https://api.openai.com/v1/chat/completions \"HTTP/1.1 200 OK\"\n"
     ]
    },
    {
     "name": "stderr",
     "output_type": "stream",
     "text": [
      " 53%|█████▎    | 137/260 [06:36<06:30,  3.17s/it]"
     ]
    },
    {
     "name": "stdout",
     "output_type": "stream",
     "text": [
      "INFO:httpx:HTTP Request: POST https://api.openai.com/v1/chat/completions \"HTTP/1.1 200 OK\"\n",
      "HTTP Request: POST https://api.openai.com/v1/chat/completions \"HTTP/1.1 200 OK\"\n"
     ]
    },
    {
     "name": "stderr",
     "output_type": "stream",
     "text": [
      " 53%|█████▎    | 138/260 [06:39<06:34,  3.24s/it]"
     ]
    },
    {
     "name": "stdout",
     "output_type": "stream",
     "text": [
      "INFO:httpx:HTTP Request: POST https://api.openai.com/v1/chat/completions \"HTTP/1.1 200 OK\"\n",
      "HTTP Request: POST https://api.openai.com/v1/chat/completions \"HTTP/1.1 200 OK\"\n"
     ]
    },
    {
     "name": "stderr",
     "output_type": "stream",
     "text": [
      " 53%|█████▎    | 139/260 [06:42<06:25,  3.19s/it]"
     ]
    },
    {
     "name": "stdout",
     "output_type": "stream",
     "text": [
      "INFO:httpx:HTTP Request: POST https://api.openai.com/v1/chat/completions \"HTTP/1.1 200 OK\"\n",
      "HTTP Request: POST https://api.openai.com/v1/chat/completions \"HTTP/1.1 200 OK\"\n"
     ]
    },
    {
     "name": "stderr",
     "output_type": "stream",
     "text": [
      " 54%|█████▍    | 140/260 [06:45<06:29,  3.24s/it]"
     ]
    },
    {
     "name": "stdout",
     "output_type": "stream",
     "text": [
      "INFO:httpx:HTTP Request: POST https://api.openai.com/v1/chat/completions \"HTTP/1.1 200 OK\"\n",
      "HTTP Request: POST https://api.openai.com/v1/chat/completions \"HTTP/1.1 200 OK\"\n"
     ]
    },
    {
     "name": "stderr",
     "output_type": "stream",
     "text": [
      " 54%|█████▍    | 141/260 [06:46<05:03,  2.55s/it]"
     ]
    },
    {
     "name": "stdout",
     "output_type": "stream",
     "text": [
      "INFO:httpx:HTTP Request: POST https://api.openai.com/v1/chat/completions \"HTTP/1.1 200 OK\"\n",
      "HTTP Request: POST https://api.openai.com/v1/chat/completions \"HTTP/1.1 200 OK\"\n"
     ]
    },
    {
     "name": "stderr",
     "output_type": "stream",
     "text": [
      " 55%|█████▍    | 142/260 [06:49<05:08,  2.61s/it]"
     ]
    },
    {
     "name": "stdout",
     "output_type": "stream",
     "text": [
      "INFO:httpx:HTTP Request: POST https://api.openai.com/v1/chat/completions \"HTTP/1.1 200 OK\"\n",
      "HTTP Request: POST https://api.openai.com/v1/chat/completions \"HTTP/1.1 200 OK\"\n"
     ]
    },
    {
     "name": "stderr",
     "output_type": "stream",
     "text": [
      " 55%|█████▌    | 143/260 [06:50<04:09,  2.13s/it]"
     ]
    },
    {
     "name": "stdout",
     "output_type": "stream",
     "text": [
      "INFO:httpx:HTTP Request: POST https://api.openai.com/v1/chat/completions \"HTTP/1.1 200 OK\"\n",
      "HTTP Request: POST https://api.openai.com/v1/chat/completions \"HTTP/1.1 200 OK\"\n"
     ]
    },
    {
     "name": "stderr",
     "output_type": "stream",
     "text": [
      " 55%|█████▌    | 144/260 [06:54<04:58,  2.57s/it]"
     ]
    },
    {
     "name": "stdout",
     "output_type": "stream",
     "text": [
      "INFO:httpx:HTTP Request: POST https://api.openai.com/v1/chat/completions \"HTTP/1.1 200 OK\"\n",
      "HTTP Request: POST https://api.openai.com/v1/chat/completions \"HTTP/1.1 200 OK\"\n"
     ]
    },
    {
     "name": "stderr",
     "output_type": "stream",
     "text": [
      " 56%|█████▌    | 145/260 [06:59<06:37,  3.46s/it]"
     ]
    },
    {
     "name": "stdout",
     "output_type": "stream",
     "text": [
      "INFO:httpx:HTTP Request: POST https://api.openai.com/v1/chat/completions \"HTTP/1.1 200 OK\"\n",
      "HTTP Request: POST https://api.openai.com/v1/chat/completions \"HTTP/1.1 200 OK\"\n"
     ]
    },
    {
     "name": "stderr",
     "output_type": "stream",
     "text": [
      " 56%|█████▌    | 146/260 [07:02<06:23,  3.37s/it]"
     ]
    },
    {
     "name": "stdout",
     "output_type": "stream",
     "text": [
      "INFO:httpx:HTTP Request: POST https://api.openai.com/v1/chat/completions \"HTTP/1.1 200 OK\"\n",
      "HTTP Request: POST https://api.openai.com/v1/chat/completions \"HTTP/1.1 200 OK\"\n"
     ]
    },
    {
     "name": "stderr",
     "output_type": "stream",
     "text": [
      " 57%|█████▋    | 147/260 [07:04<05:35,  2.97s/it]"
     ]
    },
    {
     "name": "stdout",
     "output_type": "stream",
     "text": [
      "INFO:httpx:HTTP Request: POST https://api.openai.com/v1/chat/completions \"HTTP/1.1 200 OK\"\n",
      "HTTP Request: POST https://api.openai.com/v1/chat/completions \"HTTP/1.1 200 OK\"\n"
     ]
    },
    {
     "name": "stderr",
     "output_type": "stream",
     "text": [
      " 57%|█████▋    | 148/260 [07:07<05:12,  2.79s/it]"
     ]
    },
    {
     "name": "stdout",
     "output_type": "stream",
     "text": [
      "INFO:httpx:HTTP Request: POST https://api.openai.com/v1/chat/completions \"HTTP/1.1 200 OK\"\n",
      "HTTP Request: POST https://api.openai.com/v1/chat/completions \"HTTP/1.1 200 OK\"\n"
     ]
    },
    {
     "name": "stderr",
     "output_type": "stream",
     "text": [
      " 57%|█████▋    | 149/260 [07:08<04:35,  2.48s/it]"
     ]
    },
    {
     "name": "stdout",
     "output_type": "stream",
     "text": [
      "INFO:httpx:HTTP Request: POST https://api.openai.com/v1/chat/completions \"HTTP/1.1 200 OK\"\n",
      "HTTP Request: POST https://api.openai.com/v1/chat/completions \"HTTP/1.1 200 OK\"\n"
     ]
    },
    {
     "name": "stderr",
     "output_type": "stream",
     "text": [
      " 58%|█████▊    | 150/260 [07:11<04:49,  2.63s/it]"
     ]
    },
    {
     "name": "stdout",
     "output_type": "stream",
     "text": [
      "INFO:httpx:HTTP Request: POST https://api.openai.com/v1/chat/completions \"HTTP/1.1 200 OK\"\n",
      "HTTP Request: POST https://api.openai.com/v1/chat/completions \"HTTP/1.1 200 OK\"\n"
     ]
    },
    {
     "name": "stderr",
     "output_type": "stream",
     "text": [
      " 58%|█████▊    | 151/260 [07:14<04:38,  2.55s/it]"
     ]
    },
    {
     "name": "stdout",
     "output_type": "stream",
     "text": [
      "INFO:httpx:HTTP Request: POST https://api.openai.com/v1/chat/completions \"HTTP/1.1 200 OK\"\n",
      "HTTP Request: POST https://api.openai.com/v1/chat/completions \"HTTP/1.1 200 OK\"\n"
     ]
    },
    {
     "name": "stderr",
     "output_type": "stream",
     "text": [
      " 58%|█████▊    | 152/260 [07:16<04:06,  2.29s/it]"
     ]
    },
    {
     "name": "stdout",
     "output_type": "stream",
     "text": [
      "INFO:httpx:HTTP Request: POST https://api.openai.com/v1/chat/completions \"HTTP/1.1 200 OK\"\n",
      "HTTP Request: POST https://api.openai.com/v1/chat/completions \"HTTP/1.1 200 OK\"\n"
     ]
    },
    {
     "name": "stderr",
     "output_type": "stream",
     "text": [
      " 59%|█████▉    | 153/260 [07:19<04:37,  2.60s/it]"
     ]
    },
    {
     "name": "stdout",
     "output_type": "stream",
     "text": [
      "INFO:httpx:HTTP Request: POST https://api.openai.com/v1/chat/completions \"HTTP/1.1 200 OK\"\n",
      "HTTP Request: POST https://api.openai.com/v1/chat/completions \"HTTP/1.1 200 OK\"\n"
     ]
    },
    {
     "name": "stderr",
     "output_type": "stream",
     "text": [
      " 59%|█████▉    | 154/260 [07:23<05:33,  3.15s/it]"
     ]
    },
    {
     "name": "stdout",
     "output_type": "stream",
     "text": [
      "INFO:httpx:HTTP Request: POST https://api.openai.com/v1/chat/completions \"HTTP/1.1 200 OK\"\n",
      "HTTP Request: POST https://api.openai.com/v1/chat/completions \"HTTP/1.1 200 OK\"\n"
     ]
    },
    {
     "name": "stderr",
     "output_type": "stream",
     "text": [
      " 60%|█████▉    | 155/260 [07:25<04:51,  2.78s/it]"
     ]
    },
    {
     "name": "stdout",
     "output_type": "stream",
     "text": [
      "INFO:httpx:HTTP Request: POST https://api.openai.com/v1/chat/completions \"HTTP/1.1 200 OK\"\n",
      "HTTP Request: POST https://api.openai.com/v1/chat/completions \"HTTP/1.1 200 OK\"\n"
     ]
    },
    {
     "name": "stderr",
     "output_type": "stream",
     "text": [
      " 60%|██████    | 156/260 [07:27<04:23,  2.53s/it]"
     ]
    },
    {
     "name": "stdout",
     "output_type": "stream",
     "text": [
      "INFO:httpx:HTTP Request: POST https://api.openai.com/v1/chat/completions \"HTTP/1.1 200 OK\"\n",
      "HTTP Request: POST https://api.openai.com/v1/chat/completions \"HTTP/1.1 200 OK\"\n"
     ]
    },
    {
     "name": "stderr",
     "output_type": "stream",
     "text": [
      " 60%|██████    | 157/260 [07:31<05:05,  2.97s/it]"
     ]
    },
    {
     "name": "stdout",
     "output_type": "stream",
     "text": [
      "INFO:httpx:HTTP Request: POST https://api.openai.com/v1/chat/completions \"HTTP/1.1 200 OK\"\n",
      "HTTP Request: POST https://api.openai.com/v1/chat/completions \"HTTP/1.1 200 OK\"\n"
     ]
    },
    {
     "name": "stderr",
     "output_type": "stream",
     "text": [
      " 61%|██████    | 158/260 [07:34<05:15,  3.09s/it]"
     ]
    },
    {
     "name": "stdout",
     "output_type": "stream",
     "text": [
      "INFO:httpx:HTTP Request: POST https://api.openai.com/v1/chat/completions \"HTTP/1.1 200 OK\"\n",
      "HTTP Request: POST https://api.openai.com/v1/chat/completions \"HTTP/1.1 200 OK\"\n"
     ]
    },
    {
     "name": "stderr",
     "output_type": "stream",
     "text": [
      " 61%|██████    | 159/260 [07:39<05:42,  3.39s/it]"
     ]
    },
    {
     "name": "stdout",
     "output_type": "stream",
     "text": [
      "INFO:httpx:HTTP Request: POST https://api.openai.com/v1/chat/completions \"HTTP/1.1 200 OK\"\n",
      "HTTP Request: POST https://api.openai.com/v1/chat/completions \"HTTP/1.1 200 OK\"\n"
     ]
    },
    {
     "name": "stderr",
     "output_type": "stream",
     "text": [
      " 62%|██████▏   | 160/260 [07:43<06:05,  3.66s/it]"
     ]
    },
    {
     "name": "stdout",
     "output_type": "stream",
     "text": [
      "INFO:httpx:HTTP Request: POST https://api.openai.com/v1/chat/completions \"HTTP/1.1 200 OK\"\n",
      "HTTP Request: POST https://api.openai.com/v1/chat/completions \"HTTP/1.1 200 OK\"\n"
     ]
    },
    {
     "name": "stderr",
     "output_type": "stream",
     "text": [
      " 62%|██████▏   | 161/260 [07:46<05:42,  3.46s/it]"
     ]
    },
    {
     "name": "stdout",
     "output_type": "stream",
     "text": [
      "INFO:httpx:HTTP Request: POST https://api.openai.com/v1/chat/completions \"HTTP/1.1 200 OK\"\n",
      "HTTP Request: POST https://api.openai.com/v1/chat/completions \"HTTP/1.1 200 OK\"\n"
     ]
    },
    {
     "name": "stderr",
     "output_type": "stream",
     "text": [
      " 62%|██████▏   | 162/260 [07:48<04:54,  3.00s/it]"
     ]
    },
    {
     "name": "stdout",
     "output_type": "stream",
     "text": [
      "INFO:httpx:HTTP Request: POST https://api.openai.com/v1/chat/completions \"HTTP/1.1 200 OK\"\n",
      "HTTP Request: POST https://api.openai.com/v1/chat/completions \"HTTP/1.1 200 OK\"\n"
     ]
    },
    {
     "name": "stderr",
     "output_type": "stream",
     "text": [
      " 63%|██████▎   | 163/260 [07:51<05:00,  3.10s/it]"
     ]
    },
    {
     "name": "stdout",
     "output_type": "stream",
     "text": [
      "INFO:httpx:HTTP Request: POST https://api.openai.com/v1/chat/completions \"HTTP/1.1 200 OK\"\n",
      "HTTP Request: POST https://api.openai.com/v1/chat/completions \"HTTP/1.1 200 OK\"\n"
     ]
    },
    {
     "name": "stderr",
     "output_type": "stream",
     "text": [
      " 63%|██████▎   | 164/260 [07:57<06:18,  3.94s/it]"
     ]
    },
    {
     "name": "stdout",
     "output_type": "stream",
     "text": [
      "INFO:httpx:HTTP Request: POST https://api.openai.com/v1/chat/completions \"HTTP/1.1 200 OK\"\n",
      "HTTP Request: POST https://api.openai.com/v1/chat/completions \"HTTP/1.1 200 OK\"\n"
     ]
    },
    {
     "name": "stderr",
     "output_type": "stream",
     "text": [
      " 63%|██████▎   | 165/260 [07:59<05:23,  3.41s/it]"
     ]
    },
    {
     "name": "stdout",
     "output_type": "stream",
     "text": [
      "INFO:httpx:HTTP Request: POST https://api.openai.com/v1/chat/completions \"HTTP/1.1 200 OK\"\n",
      "HTTP Request: POST https://api.openai.com/v1/chat/completions \"HTTP/1.1 200 OK\"\n"
     ]
    },
    {
     "name": "stderr",
     "output_type": "stream",
     "text": [
      " 64%|██████▍   | 166/260 [08:02<04:50,  3.09s/it]"
     ]
    },
    {
     "name": "stdout",
     "output_type": "stream",
     "text": [
      "INFO:httpx:HTTP Request: POST https://api.openai.com/v1/chat/completions \"HTTP/1.1 200 OK\"\n",
      "HTTP Request: POST https://api.openai.com/v1/chat/completions \"HTTP/1.1 200 OK\"\n"
     ]
    },
    {
     "name": "stderr",
     "output_type": "stream",
     "text": [
      " 64%|██████▍   | 167/260 [08:05<04:52,  3.14s/it]"
     ]
    },
    {
     "name": "stdout",
     "output_type": "stream",
     "text": [
      "INFO:httpx:HTTP Request: POST https://api.openai.com/v1/chat/completions \"HTTP/1.1 200 OK\"\n",
      "HTTP Request: POST https://api.openai.com/v1/chat/completions \"HTTP/1.1 200 OK\"\n"
     ]
    },
    {
     "name": "stderr",
     "output_type": "stream",
     "text": [
      " 65%|██████▍   | 168/260 [08:09<05:26,  3.55s/it]"
     ]
    },
    {
     "name": "stdout",
     "output_type": "stream",
     "text": [
      "INFO:httpx:HTTP Request: POST https://api.openai.com/v1/chat/completions \"HTTP/1.1 200 OK\"\n",
      "HTTP Request: POST https://api.openai.com/v1/chat/completions \"HTTP/1.1 200 OK\"\n"
     ]
    },
    {
     "name": "stderr",
     "output_type": "stream",
     "text": [
      " 65%|██████▌   | 169/260 [08:12<04:58,  3.28s/it]"
     ]
    },
    {
     "name": "stdout",
     "output_type": "stream",
     "text": [
      "INFO:httpx:HTTP Request: POST https://api.openai.com/v1/chat/completions \"HTTP/1.1 200 OK\"\n",
      "HTTP Request: POST https://api.openai.com/v1/chat/completions \"HTTP/1.1 200 OK\"\n"
     ]
    },
    {
     "name": "stderr",
     "output_type": "stream",
     "text": [
      " 65%|██████▌   | 170/260 [08:15<05:00,  3.34s/it]"
     ]
    },
    {
     "name": "stdout",
     "output_type": "stream",
     "text": [
      "INFO:httpx:HTTP Request: POST https://api.openai.com/v1/chat/completions \"HTTP/1.1 200 OK\"\n",
      "HTTP Request: POST https://api.openai.com/v1/chat/completions \"HTTP/1.1 200 OK\"\n"
     ]
    },
    {
     "name": "stderr",
     "output_type": "stream",
     "text": [
      " 66%|██████▌   | 171/260 [08:18<04:28,  3.02s/it]"
     ]
    },
    {
     "name": "stdout",
     "output_type": "stream",
     "text": [
      "INFO:httpx:HTTP Request: POST https://api.openai.com/v1/chat/completions \"HTTP/1.1 200 OK\"\n",
      "HTTP Request: POST https://api.openai.com/v1/chat/completions \"HTTP/1.1 200 OK\"\n"
     ]
    },
    {
     "name": "stderr",
     "output_type": "stream",
     "text": [
      " 66%|██████▌   | 172/260 [08:20<04:13,  2.88s/it]"
     ]
    },
    {
     "name": "stdout",
     "output_type": "stream",
     "text": [
      "INFO:httpx:HTTP Request: POST https://api.openai.com/v1/chat/completions \"HTTP/1.1 200 OK\"\n",
      "HTTP Request: POST https://api.openai.com/v1/chat/completions \"HTTP/1.1 200 OK\"\n"
     ]
    },
    {
     "name": "stderr",
     "output_type": "stream",
     "text": [
      " 67%|██████▋   | 173/260 [08:22<03:44,  2.58s/it]"
     ]
    },
    {
     "name": "stdout",
     "output_type": "stream",
     "text": [
      "INFO:httpx:HTTP Request: POST https://api.openai.com/v1/chat/completions \"HTTP/1.1 200 OK\"\n",
      "HTTP Request: POST https://api.openai.com/v1/chat/completions \"HTTP/1.1 200 OK\"\n"
     ]
    },
    {
     "name": "stderr",
     "output_type": "stream",
     "text": [
      " 67%|██████▋   | 174/260 [08:25<03:42,  2.59s/it]"
     ]
    },
    {
     "name": "stdout",
     "output_type": "stream",
     "text": [
      "INFO:httpx:HTTP Request: POST https://api.openai.com/v1/chat/completions \"HTTP/1.1 200 OK\"\n",
      "HTTP Request: POST https://api.openai.com/v1/chat/completions \"HTTP/1.1 200 OK\"\n"
     ]
    },
    {
     "name": "stderr",
     "output_type": "stream",
     "text": [
      " 67%|██████▋   | 175/260 [08:27<03:26,  2.43s/it]"
     ]
    },
    {
     "name": "stdout",
     "output_type": "stream",
     "text": [
      "INFO:httpx:HTTP Request: POST https://api.openai.com/v1/chat/completions \"HTTP/1.1 200 OK\"\n",
      "HTTP Request: POST https://api.openai.com/v1/chat/completions \"HTTP/1.1 200 OK\"\n"
     ]
    },
    {
     "name": "stderr",
     "output_type": "stream",
     "text": [
      " 68%|██████▊   | 176/260 [08:30<03:37,  2.59s/it]"
     ]
    },
    {
     "name": "stdout",
     "output_type": "stream",
     "text": [
      "INFO:httpx:HTTP Request: POST https://api.openai.com/v1/chat/completions \"HTTP/1.1 200 OK\"\n",
      "HTTP Request: POST https://api.openai.com/v1/chat/completions \"HTTP/1.1 200 OK\"\n"
     ]
    },
    {
     "name": "stderr",
     "output_type": "stream",
     "text": [
      " 68%|██████▊   | 177/260 [08:32<03:27,  2.50s/it]"
     ]
    },
    {
     "name": "stdout",
     "output_type": "stream",
     "text": [
      "INFO:httpx:HTTP Request: POST https://api.openai.com/v1/chat/completions \"HTTP/1.1 200 OK\"\n",
      "HTTP Request: POST https://api.openai.com/v1/chat/completions \"HTTP/1.1 200 OK\"\n"
     ]
    },
    {
     "name": "stderr",
     "output_type": "stream",
     "text": [
      " 68%|██████▊   | 178/260 [08:35<03:27,  2.53s/it]"
     ]
    },
    {
     "name": "stdout",
     "output_type": "stream",
     "text": [
      "INFO:httpx:HTTP Request: POST https://api.openai.com/v1/chat/completions \"HTTP/1.1 200 OK\"\n",
      "HTTP Request: POST https://api.openai.com/v1/chat/completions \"HTTP/1.1 200 OK\"\n"
     ]
    },
    {
     "name": "stderr",
     "output_type": "stream",
     "text": [
      " 69%|██████▉   | 179/260 [08:38<03:47,  2.81s/it]"
     ]
    },
    {
     "name": "stdout",
     "output_type": "stream",
     "text": [
      "INFO:httpx:HTTP Request: POST https://api.openai.com/v1/chat/completions \"HTTP/1.1 200 OK\"\n",
      "HTTP Request: POST https://api.openai.com/v1/chat/completions \"HTTP/1.1 200 OK\"\n"
     ]
    },
    {
     "name": "stderr",
     "output_type": "stream",
     "text": [
      " 69%|██████▉   | 180/260 [08:41<03:49,  2.87s/it]"
     ]
    },
    {
     "name": "stdout",
     "output_type": "stream",
     "text": [
      "INFO:httpx:HTTP Request: POST https://api.openai.com/v1/chat/completions \"HTTP/1.1 200 OK\"\n",
      "HTTP Request: POST https://api.openai.com/v1/chat/completions \"HTTP/1.1 200 OK\"\n"
     ]
    },
    {
     "name": "stderr",
     "output_type": "stream",
     "text": [
      " 70%|██████▉   | 181/260 [08:43<03:23,  2.58s/it]"
     ]
    },
    {
     "name": "stdout",
     "output_type": "stream",
     "text": [
      "INFO:httpx:HTTP Request: POST https://api.openai.com/v1/chat/completions \"HTTP/1.1 200 OK\"\n",
      "HTTP Request: POST https://api.openai.com/v1/chat/completions \"HTTP/1.1 200 OK\"\n"
     ]
    },
    {
     "name": "stderr",
     "output_type": "stream",
     "text": [
      " 70%|███████   | 182/260 [08:45<03:10,  2.44s/it]"
     ]
    },
    {
     "name": "stdout",
     "output_type": "stream",
     "text": [
      "INFO:httpx:HTTP Request: POST https://api.openai.com/v1/chat/completions \"HTTP/1.1 200 OK\"\n",
      "HTTP Request: POST https://api.openai.com/v1/chat/completions \"HTTP/1.1 200 OK\"\n"
     ]
    },
    {
     "name": "stderr",
     "output_type": "stream",
     "text": [
      " 70%|███████   | 183/260 [08:48<03:17,  2.57s/it]"
     ]
    },
    {
     "name": "stdout",
     "output_type": "stream",
     "text": [
      "INFO:httpx:HTTP Request: POST https://api.openai.com/v1/chat/completions \"HTTP/1.1 200 OK\"\n",
      "HTTP Request: POST https://api.openai.com/v1/chat/completions \"HTTP/1.1 200 OK\"\n"
     ]
    },
    {
     "name": "stderr",
     "output_type": "stream",
     "text": [
      " 71%|███████   | 184/260 [08:50<03:08,  2.48s/it]"
     ]
    },
    {
     "name": "stdout",
     "output_type": "stream",
     "text": [
      "INFO:httpx:HTTP Request: POST https://api.openai.com/v1/chat/completions \"HTTP/1.1 200 OK\"\n",
      "HTTP Request: POST https://api.openai.com/v1/chat/completions \"HTTP/1.1 200 OK\"\n"
     ]
    },
    {
     "name": "stderr",
     "output_type": "stream",
     "text": [
      " 71%|███████   | 185/260 [08:53<03:03,  2.45s/it]"
     ]
    },
    {
     "name": "stdout",
     "output_type": "stream",
     "text": [
      "INFO:httpx:HTTP Request: POST https://api.openai.com/v1/chat/completions \"HTTP/1.1 200 OK\"\n",
      "HTTP Request: POST https://api.openai.com/v1/chat/completions \"HTTP/1.1 200 OK\"\n"
     ]
    },
    {
     "name": "stderr",
     "output_type": "stream",
     "text": [
      " 72%|███████▏  | 186/260 [08:57<03:35,  2.92s/it]"
     ]
    },
    {
     "name": "stdout",
     "output_type": "stream",
     "text": [
      "INFO:httpx:HTTP Request: POST https://api.openai.com/v1/chat/completions \"HTTP/1.1 200 OK\"\n",
      "HTTP Request: POST https://api.openai.com/v1/chat/completions \"HTTP/1.1 200 OK\"\n"
     ]
    },
    {
     "name": "stderr",
     "output_type": "stream",
     "text": [
      " 72%|███████▏  | 187/260 [08:59<03:10,  2.61s/it]"
     ]
    },
    {
     "name": "stdout",
     "output_type": "stream",
     "text": [
      "INFO:httpx:HTTP Request: POST https://api.openai.com/v1/chat/completions \"HTTP/1.1 200 OK\"\n",
      "HTTP Request: POST https://api.openai.com/v1/chat/completions \"HTTP/1.1 200 OK\"\n"
     ]
    },
    {
     "name": "stderr",
     "output_type": "stream",
     "text": [
      " 72%|███████▏  | 188/260 [09:01<03:06,  2.59s/it]"
     ]
    },
    {
     "name": "stdout",
     "output_type": "stream",
     "text": [
      "INFO:httpx:HTTP Request: POST https://api.openai.com/v1/chat/completions \"HTTP/1.1 200 OK\"\n",
      "HTTP Request: POST https://api.openai.com/v1/chat/completions \"HTTP/1.1 200 OK\"\n"
     ]
    },
    {
     "name": "stderr",
     "output_type": "stream",
     "text": [
      " 73%|███████▎  | 189/260 [09:06<03:58,  3.35s/it]"
     ]
    },
    {
     "name": "stdout",
     "output_type": "stream",
     "text": [
      "INFO:httpx:HTTP Request: POST https://api.openai.com/v1/chat/completions \"HTTP/1.1 200 OK\"\n",
      "HTTP Request: POST https://api.openai.com/v1/chat/completions \"HTTP/1.1 200 OK\"\n"
     ]
    },
    {
     "name": "stderr",
     "output_type": "stream",
     "text": [
      " 73%|███████▎  | 190/260 [09:10<03:59,  3.42s/it]"
     ]
    },
    {
     "name": "stdout",
     "output_type": "stream",
     "text": [
      "INFO:httpx:HTTP Request: POST https://api.openai.com/v1/chat/completions \"HTTP/1.1 200 OK\"\n",
      "HTTP Request: POST https://api.openai.com/v1/chat/completions \"HTTP/1.1 200 OK\"\n"
     ]
    },
    {
     "name": "stderr",
     "output_type": "stream",
     "text": [
      " 73%|███████▎  | 191/260 [09:17<05:14,  4.56s/it]"
     ]
    },
    {
     "name": "stdout",
     "output_type": "stream",
     "text": [
      "INFO:httpx:HTTP Request: POST https://api.openai.com/v1/chat/completions \"HTTP/1.1 200 OK\"\n",
      "HTTP Request: POST https://api.openai.com/v1/chat/completions \"HTTP/1.1 200 OK\"\n"
     ]
    },
    {
     "name": "stderr",
     "output_type": "stream",
     "text": [
      " 74%|███████▍  | 192/260 [09:20<04:38,  4.10s/it]"
     ]
    },
    {
     "name": "stdout",
     "output_type": "stream",
     "text": [
      "INFO:httpx:HTTP Request: POST https://api.openai.com/v1/chat/completions \"HTTP/1.1 200 OK\"\n",
      "HTTP Request: POST https://api.openai.com/v1/chat/completions \"HTTP/1.1 200 OK\"\n"
     ]
    },
    {
     "name": "stderr",
     "output_type": "stream",
     "text": [
      " 74%|███████▍  | 193/260 [09:22<03:43,  3.34s/it]"
     ]
    },
    {
     "name": "stdout",
     "output_type": "stream",
     "text": [
      "INFO:httpx:HTTP Request: POST https://api.openai.com/v1/chat/completions \"HTTP/1.1 200 OK\"\n",
      "HTTP Request: POST https://api.openai.com/v1/chat/completions \"HTTP/1.1 200 OK\"\n"
     ]
    },
    {
     "name": "stderr",
     "output_type": "stream",
     "text": [
      " 75%|███████▍  | 194/260 [09:25<03:48,  3.46s/it]"
     ]
    },
    {
     "name": "stdout",
     "output_type": "stream",
     "text": [
      "INFO:httpx:HTTP Request: POST https://api.openai.com/v1/chat/completions \"HTTP/1.1 200 OK\"\n",
      "HTTP Request: POST https://api.openai.com/v1/chat/completions \"HTTP/1.1 200 OK\"\n"
     ]
    },
    {
     "name": "stderr",
     "output_type": "stream",
     "text": [
      " 75%|███████▌  | 195/260 [09:27<03:17,  3.03s/it]"
     ]
    },
    {
     "name": "stdout",
     "output_type": "stream",
     "text": [
      "INFO:httpx:HTTP Request: POST https://api.openai.com/v1/chat/completions \"HTTP/1.1 200 OK\"\n",
      "HTTP Request: POST https://api.openai.com/v1/chat/completions \"HTTP/1.1 200 OK\"\n"
     ]
    },
    {
     "name": "stderr",
     "output_type": "stream",
     "text": [
      " 75%|███████▌  | 196/260 [09:30<03:13,  3.02s/it]"
     ]
    },
    {
     "name": "stdout",
     "output_type": "stream",
     "text": [
      "INFO:httpx:HTTP Request: POST https://api.openai.com/v1/chat/completions \"HTTP/1.1 200 OK\"\n",
      "HTTP Request: POST https://api.openai.com/v1/chat/completions \"HTTP/1.1 200 OK\"\n"
     ]
    },
    {
     "name": "stderr",
     "output_type": "stream",
     "text": [
      " 76%|███████▌  | 197/260 [09:32<02:47,  2.67s/it]"
     ]
    },
    {
     "name": "stdout",
     "output_type": "stream",
     "text": [
      "INFO:httpx:HTTP Request: POST https://api.openai.com/v1/chat/completions \"HTTP/1.1 200 OK\"\n",
      "HTTP Request: POST https://api.openai.com/v1/chat/completions \"HTTP/1.1 200 OK\"\n"
     ]
    },
    {
     "name": "stderr",
     "output_type": "stream",
     "text": [
      " 76%|███████▌  | 198/260 [09:37<03:15,  3.16s/it]"
     ]
    },
    {
     "name": "stdout",
     "output_type": "stream",
     "text": [
      "INFO:httpx:HTTP Request: POST https://api.openai.com/v1/chat/completions \"HTTP/1.1 200 OK\"\n",
      "HTTP Request: POST https://api.openai.com/v1/chat/completions \"HTTP/1.1 200 OK\"\n"
     ]
    },
    {
     "name": "stderr",
     "output_type": "stream",
     "text": [
      " 77%|███████▋  | 199/260 [09:39<03:00,  2.96s/it]"
     ]
    },
    {
     "name": "stdout",
     "output_type": "stream",
     "text": [
      "INFO:httpx:HTTP Request: POST https://api.openai.com/v1/chat/completions \"HTTP/1.1 200 OK\"\n",
      "HTTP Request: POST https://api.openai.com/v1/chat/completions \"HTTP/1.1 200 OK\"\n"
     ]
    },
    {
     "name": "stderr",
     "output_type": "stream",
     "text": [
      " 77%|███████▋  | 200/260 [09:40<02:21,  2.36s/it]"
     ]
    },
    {
     "name": "stdout",
     "output_type": "stream",
     "text": [
      "INFO:httpx:HTTP Request: POST https://api.openai.com/v1/chat/completions \"HTTP/1.1 200 OK\"\n",
      "HTTP Request: POST https://api.openai.com/v1/chat/completions \"HTTP/1.1 200 OK\"\n"
     ]
    },
    {
     "name": "stderr",
     "output_type": "stream",
     "text": [
      " 77%|███████▋  | 201/260 [09:42<02:05,  2.12s/it]"
     ]
    },
    {
     "name": "stdout",
     "output_type": "stream",
     "text": [
      "INFO:httpx:HTTP Request: POST https://api.openai.com/v1/chat/completions \"HTTP/1.1 200 OK\"\n",
      "HTTP Request: POST https://api.openai.com/v1/chat/completions \"HTTP/1.1 200 OK\"\n"
     ]
    },
    {
     "name": "stderr",
     "output_type": "stream",
     "text": [
      " 78%|███████▊  | 202/260 [09:44<02:07,  2.19s/it]"
     ]
    },
    {
     "name": "stdout",
     "output_type": "stream",
     "text": [
      "INFO:httpx:HTTP Request: POST https://api.openai.com/v1/chat/completions \"HTTP/1.1 200 OK\"\n",
      "HTTP Request: POST https://api.openai.com/v1/chat/completions \"HTTP/1.1 200 OK\"\n"
     ]
    },
    {
     "name": "stderr",
     "output_type": "stream",
     "text": [
      " 78%|███████▊  | 203/260 [09:50<03:09,  3.32s/it]"
     ]
    },
    {
     "name": "stdout",
     "output_type": "stream",
     "text": [
      "INFO:httpx:HTTP Request: POST https://api.openai.com/v1/chat/completions \"HTTP/1.1 200 OK\"\n",
      "HTTP Request: POST https://api.openai.com/v1/chat/completions \"HTTP/1.1 200 OK\"\n"
     ]
    },
    {
     "name": "stderr",
     "output_type": "stream",
     "text": [
      " 78%|███████▊  | 204/260 [09:52<02:40,  2.87s/it]"
     ]
    },
    {
     "name": "stdout",
     "output_type": "stream",
     "text": [
      "INFO:httpx:HTTP Request: POST https://api.openai.com/v1/chat/completions \"HTTP/1.1 200 OK\"\n",
      "HTTP Request: POST https://api.openai.com/v1/chat/completions \"HTTP/1.1 200 OK\"\n"
     ]
    },
    {
     "name": "stderr",
     "output_type": "stream",
     "text": [
      " 79%|███████▉  | 205/260 [09:53<02:06,  2.30s/it]"
     ]
    },
    {
     "name": "stdout",
     "output_type": "stream",
     "text": [
      "INFO:httpx:HTTP Request: POST https://api.openai.com/v1/chat/completions \"HTTP/1.1 200 OK\"\n",
      "HTTP Request: POST https://api.openai.com/v1/chat/completions \"HTTP/1.1 200 OK\"\n"
     ]
    },
    {
     "name": "stderr",
     "output_type": "stream",
     "text": [
      " 79%|███████▉  | 206/260 [09:59<03:04,  3.41s/it]"
     ]
    },
    {
     "name": "stdout",
     "output_type": "stream",
     "text": [
      "INFO:httpx:HTTP Request: POST https://api.openai.com/v1/chat/completions \"HTTP/1.1 200 OK\"\n",
      "HTTP Request: POST https://api.openai.com/v1/chat/completions \"HTTP/1.1 200 OK\"\n"
     ]
    },
    {
     "name": "stderr",
     "output_type": "stream",
     "text": [
      " 80%|███████▉  | 207/260 [10:02<02:58,  3.37s/it]"
     ]
    },
    {
     "name": "stdout",
     "output_type": "stream",
     "text": [
      "INFO:httpx:HTTP Request: POST https://api.openai.com/v1/chat/completions \"HTTP/1.1 200 OK\"\n",
      "HTTP Request: POST https://api.openai.com/v1/chat/completions \"HTTP/1.1 200 OK\"\n"
     ]
    },
    {
     "name": "stderr",
     "output_type": "stream",
     "text": [
      " 80%|████████  | 208/260 [10:04<02:34,  2.97s/it]"
     ]
    },
    {
     "name": "stdout",
     "output_type": "stream",
     "text": [
      "INFO:httpx:HTTP Request: POST https://api.openai.com/v1/chat/completions \"HTTP/1.1 200 OK\"\n",
      "HTTP Request: POST https://api.openai.com/v1/chat/completions \"HTTP/1.1 200 OK\"\n"
     ]
    },
    {
     "name": "stderr",
     "output_type": "stream",
     "text": [
      " 80%|████████  | 209/260 [10:07<02:36,  3.06s/it]"
     ]
    },
    {
     "name": "stdout",
     "output_type": "stream",
     "text": [
      "INFO:httpx:HTTP Request: POST https://api.openai.com/v1/chat/completions \"HTTP/1.1 200 OK\"\n",
      "HTTP Request: POST https://api.openai.com/v1/chat/completions \"HTTP/1.1 200 OK\"\n"
     ]
    },
    {
     "name": "stderr",
     "output_type": "stream",
     "text": [
      " 81%|████████  | 210/260 [10:09<02:08,  2.58s/it]"
     ]
    },
    {
     "name": "stdout",
     "output_type": "stream",
     "text": [
      "INFO:httpx:HTTP Request: POST https://api.openai.com/v1/chat/completions \"HTTP/1.1 200 OK\"\n",
      "HTTP Request: POST https://api.openai.com/v1/chat/completions \"HTTP/1.1 200 OK\"\n"
     ]
    },
    {
     "name": "stderr",
     "output_type": "stream",
     "text": [
      " 81%|████████  | 211/260 [10:11<02:01,  2.48s/it]"
     ]
    },
    {
     "name": "stdout",
     "output_type": "stream",
     "text": [
      "INFO:httpx:HTTP Request: POST https://api.openai.com/v1/chat/completions \"HTTP/1.1 200 OK\"\n",
      "HTTP Request: POST https://api.openai.com/v1/chat/completions \"HTTP/1.1 200 OK\"\n"
     ]
    },
    {
     "name": "stderr",
     "output_type": "stream",
     "text": [
      " 82%|████████▏ | 212/260 [10:13<01:56,  2.42s/it]"
     ]
    },
    {
     "name": "stdout",
     "output_type": "stream",
     "text": [
      "INFO:httpx:HTTP Request: POST https://api.openai.com/v1/chat/completions \"HTTP/1.1 200 OK\"\n",
      "HTTP Request: POST https://api.openai.com/v1/chat/completions \"HTTP/1.1 200 OK\"\n"
     ]
    },
    {
     "name": "stderr",
     "output_type": "stream",
     "text": [
      " 82%|████████▏ | 213/260 [10:15<01:48,  2.31s/it]"
     ]
    },
    {
     "name": "stdout",
     "output_type": "stream",
     "text": [
      "INFO:httpx:HTTP Request: POST https://api.openai.com/v1/chat/completions \"HTTP/1.1 200 OK\"\n",
      "HTTP Request: POST https://api.openai.com/v1/chat/completions \"HTTP/1.1 200 OK\"\n"
     ]
    },
    {
     "name": "stderr",
     "output_type": "stream",
     "text": [
      " 82%|████████▏ | 214/260 [10:17<01:42,  2.22s/it]"
     ]
    },
    {
     "name": "stdout",
     "output_type": "stream",
     "text": [
      "INFO:httpx:HTTP Request: POST https://api.openai.com/v1/chat/completions \"HTTP/1.1 200 OK\"\n",
      "HTTP Request: POST https://api.openai.com/v1/chat/completions \"HTTP/1.1 200 OK\"\n"
     ]
    },
    {
     "name": "stderr",
     "output_type": "stream",
     "text": [
      " 83%|████████▎ | 215/260 [10:24<02:37,  3.50s/it]"
     ]
    },
    {
     "name": "stdout",
     "output_type": "stream",
     "text": [
      "INFO:httpx:HTTP Request: POST https://api.openai.com/v1/chat/completions \"HTTP/1.1 200 OK\"\n",
      "HTTP Request: POST https://api.openai.com/v1/chat/completions \"HTTP/1.1 200 OK\"\n"
     ]
    },
    {
     "name": "stderr",
     "output_type": "stream",
     "text": [
      " 83%|████████▎ | 216/260 [10:26<02:12,  3.00s/it]"
     ]
    },
    {
     "name": "stdout",
     "output_type": "stream",
     "text": [
      "INFO:httpx:HTTP Request: POST https://api.openai.com/v1/chat/completions \"HTTP/1.1 200 OK\"\n",
      "HTTP Request: POST https://api.openai.com/v1/chat/completions \"HTTP/1.1 200 OK\"\n"
     ]
    },
    {
     "name": "stderr",
     "output_type": "stream",
     "text": [
      " 83%|████████▎ | 217/260 [10:28<02:01,  2.83s/it]"
     ]
    },
    {
     "name": "stdout",
     "output_type": "stream",
     "text": [
      "INFO:httpx:HTTP Request: POST https://api.openai.com/v1/chat/completions \"HTTP/1.1 200 OK\"\n",
      "HTTP Request: POST https://api.openai.com/v1/chat/completions \"HTTP/1.1 200 OK\"\n"
     ]
    },
    {
     "name": "stderr",
     "output_type": "stream",
     "text": [
      " 84%|████████▍ | 218/260 [10:30<01:46,  2.53s/it]"
     ]
    },
    {
     "name": "stdout",
     "output_type": "stream",
     "text": [
      "INFO:httpx:HTTP Request: POST https://api.openai.com/v1/chat/completions \"HTTP/1.1 200 OK\"\n",
      "HTTP Request: POST https://api.openai.com/v1/chat/completions \"HTTP/1.1 200 OK\"\n"
     ]
    },
    {
     "name": "stderr",
     "output_type": "stream",
     "text": [
      " 84%|████████▍ | 219/260 [10:33<01:48,  2.63s/it]"
     ]
    },
    {
     "name": "stdout",
     "output_type": "stream",
     "text": [
      "INFO:httpx:HTTP Request: POST https://api.openai.com/v1/chat/completions \"HTTP/1.1 200 OK\"\n",
      "HTTP Request: POST https://api.openai.com/v1/chat/completions \"HTTP/1.1 200 OK\"\n"
     ]
    },
    {
     "name": "stderr",
     "output_type": "stream",
     "text": [
      " 85%|████████▍ | 220/260 [10:38<02:21,  3.53s/it]"
     ]
    },
    {
     "name": "stdout",
     "output_type": "stream",
     "text": [
      "INFO:httpx:HTTP Request: POST https://api.openai.com/v1/chat/completions \"HTTP/1.1 200 OK\"\n",
      "HTTP Request: POST https://api.openai.com/v1/chat/completions \"HTTP/1.1 200 OK\"\n"
     ]
    },
    {
     "name": "stderr",
     "output_type": "stream",
     "text": [
      " 85%|████████▌ | 221/260 [10:42<02:22,  3.64s/it]"
     ]
    },
    {
     "name": "stdout",
     "output_type": "stream",
     "text": [
      "INFO:httpx:HTTP Request: POST https://api.openai.com/v1/chat/completions \"HTTP/1.1 200 OK\"\n",
      "HTTP Request: POST https://api.openai.com/v1/chat/completions \"HTTP/1.1 200 OK\"\n"
     ]
    },
    {
     "name": "stderr",
     "output_type": "stream",
     "text": [
      " 85%|████████▌ | 222/260 [10:45<02:09,  3.41s/it]"
     ]
    },
    {
     "name": "stdout",
     "output_type": "stream",
     "text": [
      "INFO:httpx:HTTP Request: POST https://api.openai.com/v1/chat/completions \"HTTP/1.1 200 OK\"\n",
      "HTTP Request: POST https://api.openai.com/v1/chat/completions \"HTTP/1.1 200 OK\"\n"
     ]
    },
    {
     "name": "stderr",
     "output_type": "stream",
     "text": [
      " 86%|████████▌ | 223/260 [10:51<02:29,  4.04s/it]"
     ]
    },
    {
     "name": "stdout",
     "output_type": "stream",
     "text": [
      "INFO:httpx:HTTP Request: POST https://api.openai.com/v1/chat/completions \"HTTP/1.1 200 OK\"\n",
      "HTTP Request: POST https://api.openai.com/v1/chat/completions \"HTTP/1.1 200 OK\"\n"
     ]
    },
    {
     "name": "stderr",
     "output_type": "stream",
     "text": [
      " 86%|████████▌ | 224/260 [10:54<02:16,  3.78s/it]"
     ]
    },
    {
     "name": "stdout",
     "output_type": "stream",
     "text": [
      "INFO:httpx:HTTP Request: POST https://api.openai.com/v1/chat/completions \"HTTP/1.1 200 OK\"\n",
      "HTTP Request: POST https://api.openai.com/v1/chat/completions \"HTTP/1.1 200 OK\"\n"
     ]
    },
    {
     "name": "stderr",
     "output_type": "stream",
     "text": [
      " 87%|████████▋ | 225/260 [10:57<02:02,  3.51s/it]"
     ]
    },
    {
     "name": "stdout",
     "output_type": "stream",
     "text": [
      "INFO:httpx:HTTP Request: POST https://api.openai.com/v1/chat/completions \"HTTP/1.1 200 OK\"\n",
      "HTTP Request: POST https://api.openai.com/v1/chat/completions \"HTTP/1.1 200 OK\"\n"
     ]
    },
    {
     "name": "stderr",
     "output_type": "stream",
     "text": [
      " 87%|████████▋ | 226/260 [10:58<01:41,  2.98s/it]"
     ]
    },
    {
     "name": "stdout",
     "output_type": "stream",
     "text": [
      "INFO:httpx:HTTP Request: POST https://api.openai.com/v1/chat/completions \"HTTP/1.1 200 OK\"\n",
      "HTTP Request: POST https://api.openai.com/v1/chat/completions \"HTTP/1.1 200 OK\"\n"
     ]
    },
    {
     "name": "stderr",
     "output_type": "stream",
     "text": [
      " 87%|████████▋ | 227/260 [11:01<01:31,  2.76s/it]"
     ]
    },
    {
     "name": "stdout",
     "output_type": "stream",
     "text": [
      "INFO:httpx:HTTP Request: POST https://api.openai.com/v1/chat/completions \"HTTP/1.1 200 OK\"\n",
      "HTTP Request: POST https://api.openai.com/v1/chat/completions \"HTTP/1.1 200 OK\"\n"
     ]
    },
    {
     "name": "stderr",
     "output_type": "stream",
     "text": [
      " 88%|████████▊ | 228/260 [11:07<02:02,  3.84s/it]"
     ]
    },
    {
     "name": "stdout",
     "output_type": "stream",
     "text": [
      "INFO:httpx:HTTP Request: POST https://api.openai.com/v1/chat/completions \"HTTP/1.1 200 OK\"\n",
      "HTTP Request: POST https://api.openai.com/v1/chat/completions \"HTTP/1.1 200 OK\"\n"
     ]
    },
    {
     "name": "stderr",
     "output_type": "stream",
     "text": [
      " 88%|████████▊ | 229/260 [11:14<02:24,  4.65s/it]"
     ]
    },
    {
     "name": "stdout",
     "output_type": "stream",
     "text": [
      "INFO:httpx:HTTP Request: POST https://api.openai.com/v1/chat/completions \"HTTP/1.1 200 OK\"\n",
      "HTTP Request: POST https://api.openai.com/v1/chat/completions \"HTTP/1.1 200 OK\"\n"
     ]
    },
    {
     "name": "stderr",
     "output_type": "stream",
     "text": [
      " 88%|████████▊ | 230/260 [11:16<02:01,  4.06s/it]"
     ]
    },
    {
     "name": "stdout",
     "output_type": "stream",
     "text": [
      "INFO:httpx:HTTP Request: POST https://api.openai.com/v1/chat/completions \"HTTP/1.1 200 OK\"\n",
      "HTTP Request: POST https://api.openai.com/v1/chat/completions \"HTTP/1.1 200 OK\"\n"
     ]
    },
    {
     "name": "stderr",
     "output_type": "stream",
     "text": [
      " 89%|████████▉ | 231/260 [11:20<01:52,  3.88s/it]"
     ]
    },
    {
     "name": "stdout",
     "output_type": "stream",
     "text": [
      "INFO:httpx:HTTP Request: POST https://api.openai.com/v1/chat/completions \"HTTP/1.1 200 OK\"\n",
      "HTTP Request: POST https://api.openai.com/v1/chat/completions \"HTTP/1.1 200 OK\"\n"
     ]
    },
    {
     "name": "stderr",
     "output_type": "stream",
     "text": [
      " 89%|████████▉ | 232/260 [11:22<01:38,  3.52s/it]"
     ]
    },
    {
     "name": "stdout",
     "output_type": "stream",
     "text": [
      "INFO:httpx:HTTP Request: POST https://api.openai.com/v1/chat/completions \"HTTP/1.1 200 OK\"\n",
      "HTTP Request: POST https://api.openai.com/v1/chat/completions \"HTTP/1.1 200 OK\"\n"
     ]
    },
    {
     "name": "stderr",
     "output_type": "stream",
     "text": [
      " 90%|████████▉ | 233/260 [11:26<01:37,  3.60s/it]"
     ]
    },
    {
     "name": "stdout",
     "output_type": "stream",
     "text": [
      "INFO:httpx:HTTP Request: POST https://api.openai.com/v1/chat/completions \"HTTP/1.1 200 OK\"\n",
      "HTTP Request: POST https://api.openai.com/v1/chat/completions \"HTTP/1.1 200 OK\"\n"
     ]
    },
    {
     "name": "stderr",
     "output_type": "stream",
     "text": [
      " 90%|█████████ | 234/260 [11:29<01:25,  3.28s/it]"
     ]
    },
    {
     "name": "stdout",
     "output_type": "stream",
     "text": [
      "INFO:httpx:HTTP Request: POST https://api.openai.com/v1/chat/completions \"HTTP/1.1 200 OK\"\n",
      "HTTP Request: POST https://api.openai.com/v1/chat/completions \"HTTP/1.1 200 OK\"\n"
     ]
    },
    {
     "name": "stderr",
     "output_type": "stream",
     "text": [
      " 90%|█████████ | 235/260 [11:37<01:55,  4.64s/it]"
     ]
    },
    {
     "name": "stdout",
     "output_type": "stream",
     "text": [
      "INFO:httpx:HTTP Request: POST https://api.openai.com/v1/chat/completions \"HTTP/1.1 200 OK\"\n",
      "HTTP Request: POST https://api.openai.com/v1/chat/completions \"HTTP/1.1 200 OK\"\n"
     ]
    },
    {
     "name": "stderr",
     "output_type": "stream",
     "text": [
      " 91%|█████████ | 236/260 [11:39<01:38,  4.08s/it]"
     ]
    },
    {
     "name": "stdout",
     "output_type": "stream",
     "text": [
      "INFO:httpx:HTTP Request: POST https://api.openai.com/v1/chat/completions \"HTTP/1.1 200 OK\"\n",
      "HTTP Request: POST https://api.openai.com/v1/chat/completions \"HTTP/1.1 200 OK\"\n"
     ]
    },
    {
     "name": "stderr",
     "output_type": "stream",
     "text": [
      " 91%|█████████ | 237/260 [11:43<01:27,  3.83s/it]"
     ]
    },
    {
     "name": "stdout",
     "output_type": "stream",
     "text": [
      "INFO:httpx:HTTP Request: POST https://api.openai.com/v1/chat/completions \"HTTP/1.1 200 OK\"\n",
      "HTTP Request: POST https://api.openai.com/v1/chat/completions \"HTTP/1.1 200 OK\"\n"
     ]
    },
    {
     "name": "stderr",
     "output_type": "stream",
     "text": [
      " 92%|█████████▏| 238/260 [11:45<01:12,  3.31s/it]"
     ]
    },
    {
     "name": "stdout",
     "output_type": "stream",
     "text": [
      "INFO:httpx:HTTP Request: POST https://api.openai.com/v1/chat/completions \"HTTP/1.1 200 OK\"\n",
      "HTTP Request: POST https://api.openai.com/v1/chat/completions \"HTTP/1.1 200 OK\"\n"
     ]
    },
    {
     "name": "stderr",
     "output_type": "stream",
     "text": [
      " 92%|█████████▏| 239/260 [11:46<00:56,  2.71s/it]"
     ]
    },
    {
     "name": "stdout",
     "output_type": "stream",
     "text": [
      "INFO:httpx:HTTP Request: POST https://api.openai.com/v1/chat/completions \"HTTP/1.1 200 OK\"\n",
      "HTTP Request: POST https://api.openai.com/v1/chat/completions \"HTTP/1.1 200 OK\"\n"
     ]
    },
    {
     "name": "stderr",
     "output_type": "stream",
     "text": [
      " 92%|█████████▏| 240/260 [11:51<01:07,  3.39s/it]"
     ]
    },
    {
     "name": "stdout",
     "output_type": "stream",
     "text": [
      "INFO:httpx:HTTP Request: POST https://api.openai.com/v1/chat/completions \"HTTP/1.1 200 OK\"\n",
      "HTTP Request: POST https://api.openai.com/v1/chat/completions \"HTTP/1.1 200 OK\"\n"
     ]
    },
    {
     "name": "stderr",
     "output_type": "stream",
     "text": [
      " 93%|█████████▎| 241/260 [11:54<01:00,  3.19s/it]"
     ]
    },
    {
     "name": "stdout",
     "output_type": "stream",
     "text": [
      "INFO:httpx:HTTP Request: POST https://api.openai.com/v1/chat/completions \"HTTP/1.1 200 OK\"\n",
      "HTTP Request: POST https://api.openai.com/v1/chat/completions \"HTTP/1.1 200 OK\"\n"
     ]
    },
    {
     "name": "stderr",
     "output_type": "stream",
     "text": [
      " 93%|█████████▎| 242/260 [12:00<01:16,  4.23s/it]"
     ]
    },
    {
     "name": "stdout",
     "output_type": "stream",
     "text": [
      "INFO:httpx:HTTP Request: POST https://api.openai.com/v1/chat/completions \"HTTP/1.1 200 OK\"\n",
      "HTTP Request: POST https://api.openai.com/v1/chat/completions \"HTTP/1.1 200 OK\"\n"
     ]
    },
    {
     "name": "stderr",
     "output_type": "stream",
     "text": [
      " 93%|█████████▎| 243/260 [12:03<01:04,  3.79s/it]"
     ]
    },
    {
     "name": "stdout",
     "output_type": "stream",
     "text": [
      "INFO:httpx:HTTP Request: POST https://api.openai.com/v1/chat/completions \"HTTP/1.1 200 OK\"\n",
      "HTTP Request: POST https://api.openai.com/v1/chat/completions \"HTTP/1.1 200 OK\"\n"
     ]
    },
    {
     "name": "stderr",
     "output_type": "stream",
     "text": [
      " 94%|█████████▍| 244/260 [12:06<00:56,  3.54s/it]"
     ]
    },
    {
     "name": "stdout",
     "output_type": "stream",
     "text": [
      "INFO:httpx:HTTP Request: POST https://api.openai.com/v1/chat/completions \"HTTP/1.1 200 OK\"\n",
      "HTTP Request: POST https://api.openai.com/v1/chat/completions \"HTTP/1.1 200 OK\"\n"
     ]
    },
    {
     "name": "stderr",
     "output_type": "stream",
     "text": [
      " 94%|█████████▍| 245/260 [12:08<00:45,  3.04s/it]"
     ]
    },
    {
     "name": "stdout",
     "output_type": "stream",
     "text": [
      "INFO:httpx:HTTP Request: POST https://api.openai.com/v1/chat/completions \"HTTP/1.1 200 OK\"\n",
      "HTTP Request: POST https://api.openai.com/v1/chat/completions \"HTTP/1.1 200 OK\"\n"
     ]
    },
    {
     "name": "stderr",
     "output_type": "stream",
     "text": [
      " 95%|█████████▍| 246/260 [12:11<00:42,  3.01s/it]"
     ]
    },
    {
     "name": "stdout",
     "output_type": "stream",
     "text": [
      "INFO:httpx:HTTP Request: POST https://api.openai.com/v1/chat/completions \"HTTP/1.1 200 OK\"\n",
      "HTTP Request: POST https://api.openai.com/v1/chat/completions \"HTTP/1.1 200 OK\"\n"
     ]
    },
    {
     "name": "stderr",
     "output_type": "stream",
     "text": [
      " 95%|█████████▌| 247/260 [12:13<00:34,  2.66s/it]"
     ]
    },
    {
     "name": "stdout",
     "output_type": "stream",
     "text": [
      "INFO:httpx:HTTP Request: POST https://api.openai.com/v1/chat/completions \"HTTP/1.1 200 OK\"\n",
      "HTTP Request: POST https://api.openai.com/v1/chat/completions \"HTTP/1.1 200 OK\"\n"
     ]
    },
    {
     "name": "stderr",
     "output_type": "stream",
     "text": [
      " 95%|█████████▌| 248/260 [12:17<00:38,  3.19s/it]"
     ]
    },
    {
     "name": "stdout",
     "output_type": "stream",
     "text": [
      "INFO:httpx:HTTP Request: POST https://api.openai.com/v1/chat/completions \"HTTP/1.1 200 OK\"\n",
      "HTTP Request: POST https://api.openai.com/v1/chat/completions \"HTTP/1.1 200 OK\"\n"
     ]
    },
    {
     "name": "stderr",
     "output_type": "stream",
     "text": [
      " 96%|█████████▌| 249/260 [12:19<00:31,  2.86s/it]"
     ]
    },
    {
     "name": "stdout",
     "output_type": "stream",
     "text": [
      "INFO:httpx:HTTP Request: POST https://api.openai.com/v1/chat/completions \"HTTP/1.1 200 OK\"\n",
      "HTTP Request: POST https://api.openai.com/v1/chat/completions \"HTTP/1.1 200 OK\"\n"
     ]
    },
    {
     "name": "stderr",
     "output_type": "stream",
     "text": [
      " 96%|█████████▌| 250/260 [12:23<00:32,  3.22s/it]"
     ]
    },
    {
     "name": "stdout",
     "output_type": "stream",
     "text": [
      "INFO:httpx:HTTP Request: POST https://api.openai.com/v1/chat/completions \"HTTP/1.1 200 OK\"\n",
      "HTTP Request: POST https://api.openai.com/v1/chat/completions \"HTTP/1.1 200 OK\"\n"
     ]
    },
    {
     "name": "stderr",
     "output_type": "stream",
     "text": [
      " 97%|█████████▋| 251/260 [12:26<00:27,  3.05s/it]"
     ]
    },
    {
     "name": "stdout",
     "output_type": "stream",
     "text": [
      "INFO:httpx:HTTP Request: POST https://api.openai.com/v1/chat/completions \"HTTP/1.1 200 OK\"\n",
      "HTTP Request: POST https://api.openai.com/v1/chat/completions \"HTTP/1.1 200 OK\"\n"
     ]
    },
    {
     "name": "stderr",
     "output_type": "stream",
     "text": [
      " 97%|█████████▋| 252/260 [12:28<00:22,  2.75s/it]"
     ]
    },
    {
     "name": "stdout",
     "output_type": "stream",
     "text": [
      "INFO:httpx:HTTP Request: POST https://api.openai.com/v1/chat/completions \"HTTP/1.1 200 OK\"\n",
      "HTTP Request: POST https://api.openai.com/v1/chat/completions \"HTTP/1.1 200 OK\"\n"
     ]
    },
    {
     "name": "stderr",
     "output_type": "stream",
     "text": [
      " 97%|█████████▋| 253/260 [12:30<00:17,  2.48s/it]"
     ]
    },
    {
     "name": "stdout",
     "output_type": "stream",
     "text": [
      "INFO:httpx:HTTP Request: POST https://api.openai.com/v1/chat/completions \"HTTP/1.1 200 OK\"\n",
      "HTTP Request: POST https://api.openai.com/v1/chat/completions \"HTTP/1.1 200 OK\"\n"
     ]
    },
    {
     "name": "stderr",
     "output_type": "stream",
     "text": [
      " 98%|█████████▊| 254/260 [12:32<00:13,  2.29s/it]"
     ]
    },
    {
     "name": "stdout",
     "output_type": "stream",
     "text": [
      "INFO:httpx:HTTP Request: POST https://api.openai.com/v1/chat/completions \"HTTP/1.1 200 OK\"\n",
      "HTTP Request: POST https://api.openai.com/v1/chat/completions \"HTTP/1.1 200 OK\"\n"
     ]
    },
    {
     "name": "stderr",
     "output_type": "stream",
     "text": [
      " 98%|█████████▊| 255/260 [12:35<00:13,  2.68s/it]"
     ]
    },
    {
     "name": "stdout",
     "output_type": "stream",
     "text": [
      "INFO:httpx:HTTP Request: POST https://api.openai.com/v1/chat/completions \"HTTP/1.1 200 OK\"\n",
      "HTTP Request: POST https://api.openai.com/v1/chat/completions \"HTTP/1.1 200 OK\"\n"
     ]
    },
    {
     "name": "stderr",
     "output_type": "stream",
     "text": [
      " 98%|█████████▊| 256/260 [12:42<00:15,  3.90s/it]"
     ]
    },
    {
     "name": "stdout",
     "output_type": "stream",
     "text": [
      "INFO:httpx:HTTP Request: POST https://api.openai.com/v1/chat/completions \"HTTP/1.1 200 OK\"\n",
      "HTTP Request: POST https://api.openai.com/v1/chat/completions \"HTTP/1.1 200 OK\"\n"
     ]
    },
    {
     "name": "stderr",
     "output_type": "stream",
     "text": [
      " 99%|█████████▉| 257/260 [12:46<00:11,  3.90s/it]"
     ]
    },
    {
     "name": "stdout",
     "output_type": "stream",
     "text": [
      "INFO:httpx:HTTP Request: POST https://api.openai.com/v1/chat/completions \"HTTP/1.1 200 OK\"\n",
      "HTTP Request: POST https://api.openai.com/v1/chat/completions \"HTTP/1.1 200 OK\"\n"
     ]
    },
    {
     "name": "stderr",
     "output_type": "stream",
     "text": [
      " 99%|█████████▉| 258/260 [12:49<00:07,  3.59s/it]"
     ]
    },
    {
     "name": "stdout",
     "output_type": "stream",
     "text": [
      "INFO:httpx:HTTP Request: POST https://api.openai.com/v1/chat/completions \"HTTP/1.1 200 OK\"\n",
      "HTTP Request: POST https://api.openai.com/v1/chat/completions \"HTTP/1.1 200 OK\"\n"
     ]
    },
    {
     "name": "stderr",
     "output_type": "stream",
     "text": [
      "100%|█████████▉| 259/260 [12:52<00:03,  3.59s/it]"
     ]
    },
    {
     "name": "stdout",
     "output_type": "stream",
     "text": [
      "INFO:httpx:HTTP Request: POST https://api.openai.com/v1/chat/completions \"HTTP/1.1 200 OK\"\n",
      "HTTP Request: POST https://api.openai.com/v1/chat/completions \"HTTP/1.1 200 OK\"\n"
     ]
    },
    {
     "name": "stderr",
     "output_type": "stream",
     "text": [
      "100%|██████████| 260/260 [12:57<00:00,  2.99s/it]"
     ]
    },
    {
     "name": "stdout",
     "output_type": "stream",
     "text": [
      "Final dataset saved.\n"
     ]
    },
    {
     "name": "stderr",
     "output_type": "stream",
     "text": [
      "\n"
     ]
    },
    {
     "data": {
      "text/plain": [
       "EmbeddingQAFinetuneDataset(queries={'6c67a361-1d84-4876-8ed5-72e11dd2f21e': \"Qual è la data del documento di lavoro dei servizi della Commissione Europea sulla relazione per paese 2025 dell'Italia?\", '5377179f-f310-4498-9a81-4a644d21eef6': \"Domanda 1: Quali sono le sfide e i ritardi affrontati nell'attuazione del piano per la ripresa e la resilienza in Italia?\", 'a980095d-5cd4-4112-9b80-d3d1e7023f44': 'Quali sono gli indicatori chiave per monitorare i progressi in materia di adattamento ai cambiamenti climatici, resilienza e ambiente secondo la Tabella A9.1?', '364684a1-eafa-4081-ba35-bb669d1657b7': \"Qual è il limite stabilito dalla norma UE sull'acqua potabile per il contenuto di nitrati?\", '2356fbfa-7df2-467d-ac72-ef26ed474fff': 'Quali sono le principali sfide strutturali che il mercato del lavoro italiano deve affrontare?', '4076be16-ad8b-404a-be85-d9625d6e0d4a': 'Domanda 1: Qual è il divario percentuale tra il tasso di occupazione del Nord-Est e quello del Sud?', '1eff24e6-64f6-430a-aa78-781f43daed24': 'Quali sono le principali disparità legate alla genitorialità che influenzano il mercato del lavoro in Italia?', 'a1ee36fd-ef3b-415e-9e21-f4f404b2af75': \"Qual è l'aliquota fiscale implicita sul lavoro in Italia nel 2023?\", '56ede19f-d398-4df5-b05d-0e14db76ca30': 'Domanda: Qual è la percentuale di giovani italiani (di età compresa tra i 15 e i 29 anni) che ha partecipato al mercato del lavoro nel 2024?', 'b67ffe94-6114-4601-9ade-3092b865094f': 'Domanda 1: Qual è il tasso di occupazione delle persone con un diploma di istruzione terziaria in Italia?', 'cd4d7365-4554-4a3b-b120-f365741dd060': 'Qual è la percentuale delle persone con disabilità attive nel mercato del lavoro in Italia nel 2024?', 'e8b6e339-d287-42c4-97b0-4796ea779f2f': \"Quali sono le sfide a lungo termine poste dall'invecchiamento della popolazione e dal calo delle nascite in Italia?\", '5b5ce122-7db0-4810-9369-1ef4ba8b44f3': 'Domanda 1: Quali sono le politiche attive del mercato del lavoro che hanno contribuito al miglioramento delle competenze e alla riqualificazione dei lavoratori in Italia?', '8f8be51b-117a-4f4e-b2b2-b10fd9ecb136': 'Domanda per il quiz:', '79820b18-503f-4dfd-96d2-929bf1178f8c': 'Domanda 1: Quali sono le previsioni di aumento del costo del lavoro per unità di prodotto (CLUP) in Italia per il 2024 e il 2025?', '14c2e202-884e-47e7-9b7a-1e0b735529c6': 'Quali sono i gruppi e le regioni in Italia che sono maggiormente a rischio di povertà e esclusione sociale?', '58cdb3d5-24b4-4e78-9890-2e04620ad9a8': \"Qual è stata l'incidenza della povertà assoluta in Italia nel 2023, secondo i dati dell'ISTAT?\", 'fe9c81f0-b8b7-4461-8f2f-f6502cf96912': 'Domande per il quiz:', '677159c2-b660-4c3a-a5e2-072261bd66b7': 'Qual è stata la percentuale di lavoratori a tempo determinato a rischio di povertà nel 2024?', 'f89b3e5b-f8a5-49ed-97f6-c8c038d90826': 'Domande per il quiz:', '65dc4543-ef26-4ef2-885d-b9fe8df97e50': 'Qual è la percentuale di famiglie a rischio di povertà in Italia che si trovano in una situazione di onerosità eccessiva degli alloggi?', '406a7492-72d2-4033-a87d-0f1adac17331': 'Quali sono gli ostacoli principali che ostacolano la crescita economica nel settore dei servizi, secondo le leggi annuali sulla concorrenza?', '1ee31264-1e32-4d7f-a960-c405db37bb43': \"Domanda 1: Quali sono gli sforzi che l'Italia sta compiendo per migliorare l'efficienza del sistema giudiziario?\", '42683fff-7c72-4f42-bf24-8085f0f9323c': \"Domanda 1: Quali sono le iniziative previste dal piano per la ripresa e la resilienza dell'Italia per sostenere le famiglie vulnerabili e a basso reddito?\", 'eb55bf0c-02a8-4053-a566-cfe9214270cf': 'Qual è stata la percentuale di diminuzione delle famiglie beneficiarie del reddito di cittadinanza da maggio 2023 a maggio 2024?', 'd291a84a-8f90-4d87-875f-26b58aaba4ec': 'Domanda 1: Qual è la percentuale di disoccupati a rischio di povertà o esclusione sociale che ha ricevuto prestazioni sociali in Italia nel 2023?', 'db70b5ca-6b6a-4512-9642-71f34836a469': \"Domanda 1: Qual è la percentuale di anziani in Italia che ha accesso a strutture residenziali per l'assistenza a lungo termine?\", 'cb872ee3-0247-42ef-9ada-6074f5f1805f': 'Domanda 1: Quali sono le sfide strutturali che il sistema italiano di istruzione e formazione deve affrontare?', 'f0309b01-f32b-44d5-aa70-8a4d57d586e2': 'Quali sono le misure adottate dal governo italiano per affrontare gli squilibri regionali nella fornitura di servizi educativi per la prima infanzia?', '1de6c5a0-6793-4c6e-9735-5244ff538e4e': 'Qual è la percentuale di studenti nel sud che non consegue le competenze di base in matematica?', '369e14f5-d5a5-47de-b5ba-a0eb3d93283b': \"Qual è la percentuale di alunni che seguono un'istruzione di livello medio e frequentano programmi a orientamento professionale nel 2023?\", '38edbeb6-a3ae-4e47-abfc-28077b54197c': 'Domanda 1: Quali sono le principali riforme proposte per rafforzare il sistema di istruzione terziaria a orientamento professionale?', 'f481ad52-021f-4793-8f39-7466108f0187': \"Domanda 1: Qual è la percentuale di donne laureate nelle materie STEM rispetto alla media dell'UE?\", '1465f5a0-9b90-48ee-8cb0-c9d0331924df': 'Qual è la percentuale di laureati tra i giovani espatriati passata dal 2013 al 2022?', 'f56aa5bd-b0bd-4ec4-bb25-dc7160b05edd': \"Qual è la percentuale di giovani italiani (16-24 anni) che possiede competenze digitali inferiori alla media dell'UE?\", '607b68c9-4dd1-4cbc-be24-74b7582db6cb': \"Domanda 1: Quali sono le proiezioni del Centro europeo per lo sviluppo della formazione professionale riguardo alle esigenze occupazionali dell'Italia tra il 2022 e il 2035?\", '42882ca2-c8a5-432e-813b-67280615aa0c': \"Qual è la percentuale di lavoratori delle industrie ad alta intensità energetica in Italia che hanno partecipato all'istruzione e alla formazione nelle ultime quattro settimane, rispetto alla media dell'UE nel 2024?\", '2c724343-7689-4178-b1ca-6ec783f01b82': 'Qual è la percentuale di giovani non impegnati in occupazione, istruzione o formazione in Italia nel 2024?', '6cab01a6-b6c1-4e81-8118-ed318b6941b8': \"Quali sono le principali sfide legate all'accessibilità nel sistema sanitario italiano?\", '1c3a4565-a2b1-41fd-a9f7-0c9d68615d81': \"Domanda 1: Quali sono i finanziamenti previsti a favore dell'assistenza sanitaria nel periodo 2021-2027 nel contesto dei fondi della politica di coesione dell'UE?\", '3b17e5ad-fed2-41b3-9c60-c63ebe380b43': 'Domanda: Quali sono le principali preoccupazioni riguardanti la resistenza antimicrobica in Italia nel 2023?', 'd2e7b1da-a9db-41ae-b785-c35de248a379': \"Quanti specialisti per ogni medico generico contava l'Italia nel 2022?\", 'ccb6c601-463b-441a-ad27-bb338e1d497e': 'Qual è la percentuale di spesa sulla prevenzione rispetto alla spesa sanitaria corrente nel 2022?', 'c7cf7013-9e1d-400c-911f-8fd948877939': 'Domande per il quiz:', 'ca65d52f-2947-4bfc-a6e0-8b7f4bd032c5': \"Quali sono le principali criticità degli incentivi fiscali dell'Italia a favore della ricerca e sviluppo rispetto ad altri paesi dell'UE?\", '156c6021-6934-4c1e-abad-53842711b2c6': 'Quali sono le misure introdotte dalla legge di bilancio 2025 per migliorare il mantenimento dei lavoratori chiave nel settore sanitario in Italia?', 'eb2392b9-c9d4-4247-8d7c-25119d9034e5': 'Domande per il quiz:', '72c11315-9c1c-408b-9c7f-8b2c6bc204d3': \"Qual è l'obiettivo dell'Agenda 2030 delle Nazioni Unite per lo sviluppo sostenibile?\", '6dac069e-ce75-4f25-8702-fe8f18930870': 'Domanda 1: Qual è il significato di uno stato elevato in relazione al raggiungimento di uno specifico OSS?', 'a9daa803-ef8d-437b-9465-45df880ae8da': \"Domanda 1: Quali settori l'Italia sta investendo per migliorare la competitività attraverso il piano per la ripresa e la resilienza?\", '55dd682c-20c7-44bc-ad09-06b72d77c2b6': \"Domanda 1: Quali sono i settori in cui l'Italia sta registrando miglioramenti in termini di sostenibilità ambientale rispetto all'UE?\", '821f5a1f-95c4-4858-a96f-b238b591577c': \"Quali sono gli OSS in cui l'Italia sta registrando miglioramenti in relazione all'equità sociale?\", '2b5b2e17-f239-4879-a303-e17c8b03da70': \"Qual è la percentuale di donne in posizioni dirigenziali di alto livello in Italia nel 2024 rispetto alla media dell'UE?\", '80cfc8a5-25d9-4e06-af97-59b616337142': 'Qual è la percentuale della popolazione italiana che non è in grado di riscaldare adeguatamente le proprie abitazioni nel 2023?', '918043b7-b4be-4ddb-92f7-a7d9e41bf822': \"Domanda 1: Quali sono gli indicatori della crescita economica sostenibile e dell'occupazione in cui il paese ha registrato alcuni progressi, ma rimane al di sotto della media UE?\", '1c2f50ca-4007-4a93-a7f6-d3ea47ef55de': 'Quali sono le principali riforme che il paese sta attuando nella pubblica amministrazione e nel sistema giudiziario?', 'a39ac41b-5274-4f14-a25f-e91c8c8a53b9': \"Domanda 1: Quali sono le sfide strutturali che l'Italia deve affrontare secondo le raccomandazioni specifiche per paese nell'ambito del semestre europeo?\", '6f3c45e3-7a7a-4d20-b91f-d3e1f5d46472': 'Domande per il quiz:', '9da167e8-c0e6-4ac4-8d99-4ab91ac312b1': \"Quali sono i fondi disponibili nell'ambito del Fondo Asilo, migrazione e integrazione in Italia?\", 'd0aea7cd-347a-4f7c-827b-8a856d4bf798': 'Quali sono le priorità per le quali sono stati stanziati circa 3 miliardi di EUR?', 'e4594251-3c10-4936-a2c6-f0d2e685e1dc': 'Quali sono le iniziative supportate dal Fondo sociale europeo Plus (FSE+) in Italia?', 'a60cec72-29c1-42aa-a032-4c57e4473ed4': 'Domande per il quiz:', 'c2bddc81-1253-4ec3-82ca-edf28dde43bd': \"Domanda: Quali sono le priorità fondamentali dei finanziamenti dell'UE in Italia?\", '8905d0c1-6e18-40e9-aadf-09a1b5d9815c': \"Quali sono stati gli investimenti nel settore dell'istruzione nel corso dell'ultimo anno?\", 'c709aac8-ba27-4eb7-adf0-7a601243798b': \"Domanda 1: Qual è l'importo totale dei fondi UE selezionati con dotazioni adottate nel periodo 2014-2020?\", '7cf34185-59bc-4f1e-ae3b-95927483fbcd': 'Domande per il quiz:', '557a47f3-6c9c-431f-8de2-71880113970c': \"Qual è l'importo degli attivi gestiti da CDP Venture Capital nel 2020?\", '3bf480ad-aa30-4257-934a-1868bb86009d': \"Domanda: Quali sono le raccomandazioni specifiche per l'Italia nel periodo 2019-2024 riguardanti la lotta all'evasione fiscale?\", 'd0419b19-c286-456e-9219-c8165fa74ae5': 'Quali sono le politiche fiscali consigliate quando le condizioni economiche lo permettono?', 'c6867403-0e1e-472e-ab71-16dffd6e1c4d': 'Quali sono gli obiettivi di sviluppo sostenibile (SDGs) menzionati nel documento e per quali azioni sono stati registrati dei progressi?', '09e672d9-054c-4a33-841e-bb5f5af32ad1': 'Quali sono gli obiettivi principali riguardanti la politica di coesione per il periodo 2021-2027 menzionati nel documento?', '84e056fe-207b-4e82-8c2c-1bfab008215f': 'Domanda: Quali sono gli obiettivi principali del 2023 CSR 1?', 'a4ff7ba5-010c-4586-873b-5c147978494d': 'Domanda 1: Quali sono gli obiettivi di sviluppo sostenibile (SDGs) che sono stati implementati in modo completo nel contesto descritto?', '59d22925-5280-4807-9ba9-7e3752d0c9f9': 'Domanda 1: Quali sono i fattori chiave che potrebbero contribuire a realizzare un processo stabile di recupero socioeconomico nel Mezzogiorno secondo il documento?', 'c819b634-f2ae-4e0c-bdcf-87a761f2f360': \"Domanda 1: Quali regioni dell'Italia hanno registrato una crescita moderata del PIL reale pro capite nel periodo 2014-2023?\", '824d6aad-9f98-4056-9382-37395f30b570': 'Quali regioni italiane stanno registrando una crescita demografica secondo le informazioni fornite?', 'cb613224-ab3c-4ea8-853b-fd756eff6789': \"Quali sono le regioni italiane con la minore disponibilità di servizi per l'assistenza all'infanzia?\", '09cf0aa9-2199-4a73-b438-6b000c3e18a5': 'Domanda 1: Quali regioni italiane presentano una quota di occupazione nei settori ad alta tecnologia superiore alla media UE?', '38cb66fb-3e80-41a2-a417-b82d811a4d24': 'Quali sono le aree di produzione ad alto potenziale di trasformazione nel Mezzogiorno, secondo la matrice industriale?', 'f6362df2-cd58-476d-ba3d-a3efc00f02b7': 'Quali sono le regioni elencate nel documento insieme ai rispettivi dati statistici?', 'd0d45b09-6eae-4eae-b669-b463c460248a': 'Qual è la regione con il maggior numero di abitanti tra quelle elencate nel documento?', '254fd73a-f733-4b7e-bc4e-2c8380b59332': 'Domanda 1: Quali sono le regioni del Mezzogiorno con la più alta percentuale di popolazione che ha un livello inferiore di accesso alle stazioni ferroviarie?', 'f64b3530-1241-419c-a54e-521a465925ee': \"Quali sono le principali catene di approvvigionamento mondiali che passano per l'Italia meridionale?\", 'c39307f5-dcb6-4d68-9b5c-d52d17baafed': \"Qual è la percentuale della popolazione che vive a non più di 10 minuti d'auto dal centro sanitario più vicino in Lombardia?\", '4b9a98ed-ccf5-4db1-af60-eb08db6765dc': 'Quali sono le sfide principali che le amministrazioni locali delle regioni del Mezzogiorno affrontano nella gestione delle infrastrutture esistenti?', '9c32b8ae-4b5e-40af-bb6f-1ba2af5d4ef7': 'Qual è la percentuale di costi economici supplementari previsti per uno scenario di riscaldamento globale di 2°C entro il 2050 rispetto allo scenario attuale?', '77624822-ad93-46c9-bfb3-8c0de7a61b01': \"Qual è la percentuale della spesa pubblica italiana per la ricerca e l'innovazione rispetto al PIL nel 2023?\", '702deeb3-5cd8-4e80-9000-cd68d207b674': 'Qual è la percentuale del finanziamento ordinario annuale assegnata in funzione della valorizzazione della ricerca in Italia?', '17c21e25-529e-492f-a24b-7399b0d6936f': 'Domanda 1: Quali sono i principali compiti dei tecnologi tecnologici menzionati nel documento?', '62bdf067-02d6-47cd-955a-95b1c9b0db11': 'Quali sono i settori e gli indicatori infrastrutturali in cui le regioni meridionali registrano risultati inferiori alla media nazionale?', '8f3e475d-e62b-4eed-8788-9021b3bbb0dd': 'Domanda 1: Quali sono le quattro filiere strategiche individuate nel contesto del documento?', 'bc3b7c7f-0754-44da-a165-d3f49a5ef532': \"Domanda 1: Quali sono le debolezze del sistema fiscale italiano in relazione al mix fiscale e all'evasione fiscale?\", '14ecfb79-a6e4-4b3c-be7d-1d595ddd1e45': 'Domande per il quiz:', 'a87deb49-8cd0-4b58-b550-2f1452316de3': \"Domanda 1: Qual è la percentuale della capacità di produzione dell'UE per il solare fotovoltaico rappresentata dall'Italia?\", '2260c43e-fa98-4464-875e-4bc0f298807f': \"Domanda 1: Quali sono alcuni degli investimenti industriali fondamentali che hanno ricevuto sovvenzioni per aumentare la capacità dell'Italia di fabbricare prodotti strategici?\", '4e79630f-6539-4384-b2ac-2ab147e327e7': \"Domanda: Qual è la percentuale delle emissioni totali di gas a effetto serra dell'Italia che proviene dal settore manifatturiero?\", '138b3ad4-f896-4385-bc9e-e5cb1c095745': \"Qual è la percentuale delle imposte non recuperabili sul prezzo finale dell'energia elettrica per gli utenti considerati nel documento?\", '33de7334-b09c-4367-8be4-cf0938a03933': 'Domanda 1: Quali sono i costi annuali previsti dei cambiamenti climatici per le infrastrutture in Italia nel 2030?', 'cd103051-3ddf-47be-92ee-8e1a3088751d': 'Domanda per il quiz:', '781780d6-32af-4e60-9952-581ea0588bc3': 'Domande per il quiz:', 'd0736282-09c1-4702-b715-c81c8f9c2ff6': \"Quali sono i principali ostacoli che il mercato del lavoro italiano deve affrontare, nonostante l'aumento dei tassi di occupazione?\", '5f7d9a8a-2b44-4675-ad32-f8dfd83777ad': 'Quali potrebbero essere gli incentivi finanziari offerti ai docenti esperti per trasferirsi nelle scuole più svantaggiate?', 'da508b31-b444-42be-9873-105cf5dd7e86': \"Qual è il livello di posti di lavoro vacanti nel 2024 nell'UE?\", '0a311b20-d4de-4088-a41a-3a2b3b19f66a': \"Quali sono i miglioramenti strutturali necessari per l'istruzione superiore in Italia secondo il contesto fornito?\", '5667cbc1-0e5c-4efb-b6a7-28870ebba2a7': 'Quali iniziative di successo vengono menzionate nel documento per contrastare le tendenze nel mercato del lavoro dopo il 2026?', '4a682704-8465-45a3-baba-e9f48abcd534': 'Qual è la percentuale di dipendenti a tempo determinato nel 2024?', '6c8424f1-6612-49ba-9740-f056199c05ce': 'Quali sono le principali conseguenze delle forme di lavoro atipiche diffuse sulle retribuzioni e sul numero medio di ore lavorate?', '5b7b05cf-56ae-43a1-839b-da9c099ae749': \"Qual è l'effetto di riduzione della povertà dell'Assegno di Inclusione rispetto al sistema precedente?\", '61900949-c343-4c62-a493-3a74f29446f1': \"Qual è l'importanza dell'espansione dell'assistenza a lungo termine per la partecipazione delle donne al mercato del lavoro?\", '53967852-4bee-45b3-95f7-eb3c46849bc4': 'Quali sono le disparità regionali nella fornitura di servizi di educazione e cura della prima infanzia in Italia, secondo le informazioni fornite?', '243bf257-195e-4cd4-9127-ea5b6dd5c085': 'Qual è la percentuale di locatari a prezzi di mercato che hanno un disagio abitativo grave rispetto alla media UE nel 2023?', 'de38ad88-87a6-4d51-a038-d29e2e122df7': \"Domanda 1: Qual è stata la spesa pubblica per l'edilizia abitativa in Italia nel decennio 2010-2020 rispetto alla media dell'UE?\", '15a7d9bd-dc98-433e-8c38-4593fd8e8ddb': \"Qual è il nome del decreto adottato dall'Italia per far fronte al disagio di alcune periferie urbane?\", 'cf1f59b4-fac2-40bc-bddc-eacb5dc0ee2b': 'Quali azioni potrebbero essere adottate per sostenere le imprese innovative a forte crescita?', '319e556c-604a-44f0-9b7b-5ef24385aec9': 'Domanda 1: Quali sono le prospettive di crescita economica nel periodo 2025-2026 secondo le previsioni fornite nel contesto?', 'cb09f8d1-8c7e-48b9-a6a6-7617669c9488': \"Domanda 1: Quali sono le previsioni sull'inflazione complessiva e sull'inflazione di fondo per il periodo 2025-2026 secondo le informazioni fornite nel contesto?\", '9f8d8c39-bab4-4990-aa4b-f7f82e59809f': \"Quali politiche sono volte ad affrontare le sfide demografiche, tra cui l'attrazione e il mantenimento di una forza lavoro produttiva?\", 'c3c29822-3749-4fcd-a822-d3f92b235971': 'Quali argomenti saranno coperti nel prossimo quiz?', '805f2d98-493d-426c-8e73-a9a43f8aaf59': 'Quali argomenti dovrebbero essere inclusi nel quiz?', 'cce1ed27-bf9a-41cb-9a28-f33714bc09d6': 'Quali argomenti saranno coperti nel prossimo quiz?', '1f575426-8740-47bd-be4f-5b9127df6128': 'Domanda 1: Quali sono gli allegati presenti nel documento e quali argomenti trattano?', '86217d5b-27df-49d3-9f20-110ab474a9c2': 'Quali sono gli indicatori relativi alla tassazione presenti nel documento?', '13764cbc-384e-46f3-ae51-00fdbe64d682': 'Qual è la percentuale del PIL rappresentata dalle attività finanziarie delle famiglie pro capite?', '08266214-a90a-4290-9029-49589b8dda70': 'Qual è la previsione della crescita del PIL reale pro capite per il periodo 2019-2023?', '34ef8148-6cf2-41bb-aa6e-a16d628ca6b7': 'Quali sono gli obiettivi del quadro di governance economica riformato entrato in vigore il 30 aprile 2024?', '2f5d80b1-ef77-4023-825d-05e7658cd2eb': 'Quali sono le principali informazioni riportate nella tabella A1.1 riguardanti il disavanzo pubblico e il debito pubblico?', 'c88ea696-a6df-4b54-b94e-dd76cfa84252': \"Domanda: Qual è stato il disavanzo pubblico dell'Italia nel 2024 e qual è la previsione per il 2025 e il 2026?\", '625c18f5-457f-4119-a73b-eabfd7e327fa': 'Domanda: Qual è stata la percentuale della spesa pubblica per la difesa in Italia nel 2021 e nel 2022?', 'f779a1ce-a107-470e-902f-6fad6572daab': 'Qual è la variazione della spesa primaria finanziata nazionalmente netta (dopo le misure discrezionali di entrate) nel 2022?', 'e87874a8-62bb-4c2b-bbd7-2694dd587b10': \"Domanda: Quali sono le principali sfide che ostacolano l'adozione di nuove tecnologie da parte delle imprese più piccole in Italia?\", 'ade4c463-2602-45f2-9040-a3e7c16c6b41': 'Domanda 1: Qual è stata la principale causa della diminuzione della spesa netta in Italia nel 2024?', '74ffa3dd-31b3-45f9-a6b4-3c8cec0caa64': 'Qual è stata la variazione percentuale del PIL reale nel 2024 secondo le previsioni della Commissione?', 'dea8bc07-adb6-4890-bd25-257c3a7a3552': 'Domanda 1: Qual è la percentuale di spesa primaria nel 2025?', '6166f0cd-f34d-4443-b7ed-add27c0033ae': 'Qual è il rapporto debito pubblico/PIL previsto per il 2024 secondo le previsioni della Commissione?', '73d368a3-cbd1-4e11-bee2-93890ea29144': \"Domanda: Quali sono le riforme e gli investimenti che giustificano la proroga del periodo di aggiustamento e che l'Italia si è impegnata a realizzare nel suo piano strutturale di bilancio di medio termine?\", '6111569d-9d08-4e39-a3e9-e84f4050aa65': 'Domande per il quiz:', '7a59936c-d322-4ab1-9ee9-c05f6236b5e5': 'Domanda 1: Quali sono stati gli obiettivi raggiunti entro il 30 aprile secondo le informazioni fornite nel contesto?', '0e9da373-7152-43ff-9597-5448cb890c5a': 'Domande per il quiz:', 'abdeff9e-5552-4b6a-831a-6a8f33d73362': 'Quali sono gli obiettivi e le scadenze legati alla riforma della giustizia civile?', '2eae94b2-71cb-452d-b5d5-60acf302eb58': \"Quali sono gli obiettivi da raggiungere entro il quarto trimestre del 2027 riguardo ai servizi di assistenza all'infanzia?\", '7e3c35a5-ea3f-4793-92bb-162ed9e218ed': \"Domanda: Quali sono le previsioni riguardanti la spesa totale connessa all'invecchiamento della popolazione in Italia fino al 2070?\", 'f0bb80ea-4a49-4565-a73d-13461a0e0d93': \"Qual è la previsione della spesa pubblica per l'assistenza a lungo termine come percentuale del PIL nel 2024?\", 'a581dd4b-b115-42d0-b4cd-104ae3f6bd40': 'Domanda: Quali sono gli indicatori utilizzati per valutare la forza delle regole di bilancio a livello nazionale?', '1358ceb8-6384-4016-a52c-181faab7d430': \"Domanda 1: Qual è il rapporto tra il gettito fiscale e il PIL dell'Italia nel 2023 rispetto alla media dell'UE?\", '596bbd2d-1370-4185-b27c-d8409029dbac': 'Domanda per il quiz:', '17c5662b-d69d-4625-bf80-7fb5ecaf253a': \"Domanda 1: Quali sono le condizioni per beneficiare della riduzione dell'aliquota dell'imposta per i contribuenti soggetti all'imposta sui redditi delle società?\", 'fd723876-f369-4fa1-beac-903cf8998c40': \"Qual è il valore previsto per il 2023 del divario dell'IVA nell'UE-27?\", '9b7905c0-0190-4221-8181-22dd9b841e9e': 'Qual è la percentuale delle tasse sul lavoro rispetto al PIL nel 2024 in Italia?', 'e8f34c96-15ff-466c-b16b-dacfb2e6d542': 'Qual è stata la percentuale dei finanziamenti tramite venture capital in Italia rispetto al PIL nel 2023 e nel 2022?', 'e48169e4-840b-448f-9cff-1db5609178d2': \"Qual è l'ammontare stimato del drenaggio fiscale per il 2023 in Italia?\", 'ff550ecd-6163-46b4-8386-1052ad1a0ada': 'Quali sono le pressioni di bilancio che gravano sulle finanze pubbliche?', '1e21bc56-3757-47f2-b9c1-954d8f756f97': 'Qual è il numero di posti di lavoro a tempo pieno autorizzati per il regime di integrazione salariale nel 2024?', 'c1f2c624-fac8-4359-86b7-72e48bab5146': 'Qual è il regime fiscale innovativo introdotto in Italia nel 2024 per i piccoli contribuenti?', '56a5a578-fa2c-45fc-a42d-0c349700c1ea': \"Domanda 1: Qual è la posizione dell'Italia nel quadro europeo di valutazione dell'innovazione nel 2024?\", '5b160ae2-ee0f-4040-9997-dd4fc01c7085': \"Qual è la percentuale di pubblicazioni scientifiche dell'Italia rispetto alla media dell'UE nel 2021?\", '617cc5e6-55c2-4411-a1d3-34e0549fd64b': \"Qual è l'obiettivo dell'Italia riguardo all'intensità della spesa pubblica in ricerca e sviluppo entro il 2029?\", 'ff6de80c-1faf-483a-baab-e72f73dbb146': 'Qual è la percentuale degli investimenti in ricerca e sviluppo effettuati dai primi 2.000 investitori industriali a livello mondiale nei settori digitali?', '8e9e430c-1d21-46cf-9dcb-6b466bf1fcd6': 'Domanda 1: Qual è la percentuale del PIL che il sostegno pubblico alle imprese in ricerca e sviluppo ha raggiunto nel 2022 in Italia?', '612905d4-fb70-4645-a110-4923fdc544c4': \"Quali sono le misure previste dal piano per la ripresa e la resilienza dell'Italia per promuovere l'assunzione di ricercatori da parte delle imprese?\", 'bec324f9-ac5a-4b53-bc5c-9ab66bf58ac1': \"Domanda 1: Qual è la percentuale della spesa pubblica per ricerca e sviluppo finanziata dal settore privato in Italia rispetto alla media dell'UE nel 2022?\", '32dd12fb-860e-4ca0-8ce0-1fb7dd300056': 'Domanda 1: Quali sono gli effetti attesi della sperimentazione normativa in Italia per le start-up?', 'fc664cc8-d24d-431e-a509-4e00b4aea031': 'Quali sono le principali iniziative messe in atto da 54 (CDP Venture Capital) per sostenere le start-up in Italia?', '88e69e64-c5a9-489a-a882-eb7f1bd6282a': \"Quali sono gli ostacoli principali nello sviluppo dell'educazione all'imprenditorialità in Italia, secondo le informazioni fornite nel documento?\", '2c513594-f671-453f-a3b3-7193f91b1446': \"Qual è l'intensità della ricerca e sviluppo (R&D) in percentuale del PIL per l'UE?\", '3a65c24f-3d63-4732-aecb-058a41817ab9': 'Qual è la percentuale di sostegno del settore pubblico per la R&S aziendale rispetto al PIL?', 'd51a938f-10f1-4d1f-923b-6af50547c420': 'Domanda 1: Quali sono le principali sfide per la competitività delle imprese in Italia, in particolare per le piccole e medie imprese?', '8e5bceb0-cb2e-4b58-af07-135a9c5261ee': 'Quali sono le principali iniziative volte a promuovere economie di scala per le piccole imprese in Italia?', 'b3ecde4b-ee65-4a86-b1aa-a660791cfd09': 'Qual è la percentuale di imprese italiane che si trovano ad affrontare carenze di materiali tornata ai livelli pre-pandemia?', '43960b02-b8f0-4be7-b891-d0e8d5fcfc6e': 'Qual è la percentuale di copertura della rete ad altissima capacità nelle zone rurali in Italia?', '89455260-a3dd-4988-9233-035f7d1c06ac': 'Domanda 1: Qual è la percentuale di imprese italiane che hanno subito incidenti relativi alla sicurezza delle TIC nel 2022 e nel 2024?', 'ecdf96fc-7c65-4a10-b072-ed01892fa1c1': 'Domanda 1: Quali sono gli ostacoli principali alla concorrenza nel settore dei servizi in Italia, secondo le informazioni fornite nel contesto?', 'f8d15b1f-4d9c-445c-a67e-4fa51e09862e': 'Qual è il tasso di posti di lavoro vacanti in Italia e qual è la sua tendenza?', '2cabd483-1a75-4fb3-a133-be1bd1bc18cc': 'Quali sono le principali sfide macroeconomiche e per la competitività future menzionate nel documento?', '1b9b5bad-3d22-4f0b-8de8-1b481afd811d': \"Domanda 1: Qual è la percentuale di imprese in Italia in cui oltre il 10% del personale è dedicato ai requisiti normativi, secondo l'indagine della BEI?\", '25fe166c-b528-4b1c-a3ab-c6332928328a': 'Quali sono le possibilità delle autorità regionali e locali riguardo alla limitazione delle attività commerciali?', 'c77c3aaa-56a0-43c9-9bf1-1b17d5aefa5d': \"Domanda 1: Quali sono le principali sfide che l'Italia sta affrontando per migliorare la sua base esportatrice?\", 'ed3dbaf3-4dd0-44bf-b3ce-0f021b6ba2a2': 'Domanda per il quiz:', '8dafa60a-13bd-4a18-8dcc-b4b1f68bcd7f': 'Quali modifiche metodologiche sono state apportate nel 2024 riguardo ai ritardi di pagamento da parte di soggetti pubblici e privati?', '1466d5cf-ee7a-422a-ba20-636a29d28d6f': 'Domanda 1: Qual è la percentuale di aziende che riportano carenze di materiali nel 2021?', 'f37792cc-4428-4b31-bddc-59653f9ed631': 'Domanda 1: Quali sono le principali caratteristiche dei mercati dei capitali italiani descritte nel contesto?', 'ecce9112-6d6f-4428-96f4-d3ea9646782e': \"Qual è stata la media del debito pubblico italiano rispetto al PIL nell'ultimo decennio?\", 'bfe0b03e-7c85-4b60-b26f-cd669603e427': 'Domanda 1: Qual è la percentuale della capitalizzazione di mercato della Borsa Italiana rispetto al PIL alla fine del 2023?', 'd1a88a54-999f-4224-ba1b-92a50c2757a9': 'Domande per il quiz:', '1e1d3c95-a0ad-4117-b016-aacea787333f': 'Qual è il coefficiente di adeguatezza patrimoniale per il settore bancario italiano nel terzo trimestre del 2024?', '4aca3fd2-45d4-43b9-8280-f37f979f6ac9': 'Domanda per il quiz:', 'c5cdc172-8a3a-4b4c-89d1-84e7f4cd663a': 'Qual è il coefficiente di solvibilità degli assicuratori italiani nel terzo trimestre del 2024?', '6636f1b0-c7e2-462a-82b0-cbb9c4a92552': \"Domanda 1: Qual è stato il rapporto tra riscatti e premi nel segmento delle assicurazioni sulla vita nell'ottobre 2024?\", '46b2571b-bede-4888-bb66-c70b79df5017': 'Domanda 1: Qual è la percentuale dei prestiti rispetto al PIL per le imprese italiane alla fine del 2023?', '16bc33f4-ee76-4e52-a412-d2c76a965a26': \"Domanda 1: Qual è la percentuale delle imprese italiane che ha risposto di coprire il proprio fabbisogno di investimenti con finanziamenti interni, secondo l'indagine del 2024 condotta dalla BEI?\", '084a0066-c655-4608-a6f4-b7e907fbe96f': \"Domanda 1: Quali sono le prospettive economiche migliori per le famiglie italiane secondo l'indagine condotta dalla Banca d'Italia nel gennaio 2025?\", '06ba6dbe-fbc3-4f8a-b12f-9e4dafcd674b': 'Qual è la percentuale del debito pubblico totale in Italia detenuta dalle famiglie italiane nella prima metà del 2024?', '9450faf9-cc97-41ba-a956-bdd7d4b237f1': 'Domanda 1: Qual è il totale delle attività gestite dai fondi di investimento in Italia nel terzo trimestre del 2024?', '87d26aad-bf77-4cbf-a4b0-ef8b5060ee1b': \"Domanda: Qual è la percentuale media di investimenti in titoli di Stato nell'UE e qual è la percentuale di investimenti in titoli di Stato in Italia?\", '45b0e990-80ff-431e-b933-feb697661cd9': 'Quali sono le azioni necessarie per migliorare la qualità dei posti di lavoro disponibili per i nuovi arrivati sul mercato del lavoro in Italia?', 'e1cfb936-18f4-4df2-9968-88a6df56e5e0': \"Quali sono i principali ostacoli che l'Italia sta affrontando per raggiungere risultati positivi in termini di lavoro dignitoso e crescita economica?\", '0471f428-9980-4e31-bd28-90f15b1f6e7c': 'Domanda per il quiz:', 'c3f23e61-6b55-4598-a17f-94fcc20647f8': 'Domanda per il quiz:', '3e6a8c93-dd7e-4047-868f-b30036f60cd3': 'Domanda 1: Quali sono le modifiche apportate dalla legge sulle start-up del 2012 per agevolare la creazione e la crescita delle start-up in Italia?', 'c9e43ad7-1f96-4f42-bd57-9201ccd1c9e9': 'Qual è la percentuale delle obbligazioni emesse dallo Stato rispetto alle consistenze totali in essere?', '6274cdd0-f885-44bb-9841-0be292665bb6': 'Qual è il rapporto di copertura dei prestiti in sofferenza nel 2023?', '2e63763b-4098-4ca5-bb60-b0b3c73c3f38': 'Qual è la percentuale di private equity rispetto al PIL in base ai dati forniti?', '34a0c5a2-8d78-415c-9196-1028fd7fc8df': 'Quali sono le principali sfide che il sistema giudiziario italiano deve affrontare per migliorare la sua efficienza, secondo il contesto fornito?', 'ebb10f10-a2c2-45c8-a28f-bd9ccca3af42': 'Quali sono i meccanismi di semplificazione normativa che possono essere ulteriormente potenziati?', 'b049abbf-9968-4dd6-ba5e-583ecbc6559a': 'Quali sono i settori coinvolti nelle riforme per la semplificazione delle procedure amministrative in Italia?', '3ac450b4-fcdf-4010-a4c9-1b9be0dd8e32': \"Quali sono le due fasi principali dell'analisi di impatto ex ante della legislazione?\", '99d6543c-893d-4bc7-9d83-5fb585ac66e6': \"Domanda 1: Quali sono i principali problemi legati all'efficienza delle procedure amministrative in Italia, secondo le informazioni fornite nel contesto?\", '53824f7c-ad45-4401-802b-bef17ad51361': \"Qual è il punteggio dell'Italia relativamente alla disponibilità di servizi pubblici digitali per i cittadini nel 2023?\", 'd770f89c-4839-4ed7-9250-a1a47691796c': \"Qual è il punteggio complessivo ottenuto dall'Italia nel 2023 per l'accesso alle cartelle cliniche elettroniche?\", '0224d52e-ca92-47e9-bb86-f9a95bf00a7c': 'Domande per il quiz:', 'a8fb6cf4-98fe-4a2c-9cc2-9ba88aa5b2e1': 'Domanda: Quali sono le iniziative adottate dal ministro per la Pubblica Amministrazione per sostenere lo sviluppo del personale del settore pubblico?', 'a04cf159-5f1f-4094-a5c1-9efad7196b7e': 'Domande per il quiz:', '5ef87b28-98f7-4a40-9541-65eb1b42dac4': \"Domanda 1: Quali sono le sfide che l'Italia deve affrontare per la transizione verso un'industria pulita e la mitigazione dei cambiamenti climatici?\", 'f3c44008-aa6e-4287-b03a-b011189b5fad': 'Domanda per il quiz:', 'b671cfd7-6e46-4ee2-b1c3-ddae38513eac': \"Qual è la percentuale di posti di lavoro nel settore manifatturiero rappresentata dall'industria automobilistica italiana?\", 'd60af6c5-a1e4-464c-aed2-733db5a9272a': 'Domanda per il quiz:', 'd3e9704a-6d7f-43cf-9250-59513f932012': 'Quali sono i settori in cui il Sud Italia ha registrato una crescita post-Covid?', '0ae0b3f8-f6d9-470d-8ba5-0a2a5d7d7798': 'Domande per il quiz:', '96b454fc-7286-4af3-afb0-ebbca595bb21': 'Domanda 1: Quali sono le principali normative italiane relative alle materie prime critiche?', '52f914e5-e75d-41f0-96ec-bc71d0b19e9c': \"Qual è la percentuale delle emissioni totali di gas a effetto serra dell'Italia che proviene dal settore manifatturiero?\", '7e3a4ca5-79f1-4c9b-bab4-98e29a0b5676': \"Qual è stata la diminuzione percentuale dell'intensità delle emissioni di gas a effetto serra nel settore manifatturiero italiano legate all'energia prodotta?\", 'd32ec103-c8c1-4cb0-b502-c6c39d4ba0d0': 'Quali sono gli stabilimenti meno innovativi menzionati nel documento?', 'a2f42308-56c1-4d34-944b-de037de2d9a7': 'Domanda 1: Quali sono le azioni necessarie per ridurre i costi della decarbonizzazione industriale?', '41105601-bd90-460b-85c0-287b6273b526': \"Qual è il tasso di utilizzo circolare dei materiali in Italia nel 2023 e come si confronta con la media dell'UE?\", 'cf325713-769e-4a31-8ea3-a18b8fecf21e': 'Domanda per il quiz:', '0fb8774f-2baa-4f2b-965c-b8d89bc99566': 'Quali sono le differenze regionali nelle prestazioni in materia di gestione dei rifiuti e di infrastrutture per i rifiuti in Italia?', 'f5797d59-3594-4258-b7c2-f6770dce38b5': 'Domande per il quiz:', 'dbc38f0c-976e-42e7-8c78-b29d33cbe7e0': \"Qual è la differenza tra i costi dell'inquinamento e gli investimenti nella prevenzione e riduzione dell'inquinamento?\", 'ae49d13f-434a-4e97-94b8-d40553067ba0': \"Quali sono le fonti di informazione utilizzate per i principali indicatori dell'industria pulita e della mitigazione dei cambiamenti climatici in Italia?\", 'dc4aae6d-11ba-4917-a567-10b16f505689': \"Qual è l'intensità delle emissioni di gas serra legate all'energia nel settore manifatturiero e delle costruzioni, espressa in kg/€?\", '66c1af4b-0000-4a0f-9fba-33551bec1ad1': \"Quali sono le principali sfide che l'Italia deve affrontare per migliorare la competitività e l'accessibilità economica dell'energia?\", '8802208f-3e5c-4685-9b63-6b95c5423681': 'Qual è il significato del TTF nei Paesi Bassi e qual è il suo ruolo nel mercato europeo del gas naturale?', 'eda59383-b87d-42e4-9485-2858c3bb5b57': \"Domanda 1: Quali sono le principali cause dell'impennata dei prezzi dell'energia elettrica in Italia durante l'autunno?\", '85af40bb-bd18-4102-9f14-5930d5adb0ff': \"Domanda 1: Quali sono i paesi con cui l'Italia è interconnessa attraverso la rete di trasmissione dell'energia elettrica?\", '51c7d44b-7761-4130-b5fe-4697e90f66fd': \"Domanda 1: Quali sono i progetti infrastrutturali prioritari per l'idrogeno e il gas naturale menzionati nel piano d'azione CESEC?\", 'c46e4e0a-970d-4c62-9f3e-db3dd992b316': \"Quali politiche e misure sta pianificando l'Italia per migliorare la flessibilità nel settore dell'energia?\", 'f3aaab17-010e-4071-a470-d4e6ac89190d': 'Qual è la percentuale delle famiglie in Italia che attualmente produce energia elettrica?', '1b01a5cb-a334-44bf-934f-9b7d67959772': 'Domanda 1: Qual è la percentuale di energia elettrica prodotta da fonti rinnovabili in Italia nel 2024?', 'eaf06db7-5d22-4bec-91c7-bb7cd36fd507': \"Domanda 1: Quali sono i tre principali fattori che ostacolano le aziende italiane nell'effettuare investimenti secondo l'indagine della BEI del 2024?\", 'c61a2da8-30b3-4755-aec3-3b6cc0e24b44': 'Domanda 1: Quali sono i fattori che contribuiscono a frenare la crescita degli investimenti e della produttività secondo le informazioni fornite nel contesto?', '39eecf61-b65e-4363-b299-45dac55115d4': 'Domanda 1: Quali sono le fonti energetiche rinnovabili considerate nella voce \"Altro\" nel grafico A8.3 riguardante l\\'Italia?', 'd188b600-5e01-4d3e-8840-f310670ac98f': 'Domande per il quiz:', '5859df84-859b-41e5-a365-e38964e52c09': 'Domande per il quiz:', 'dc393883-132c-4d3b-b18f-a9895bdb741d': 'Domanda per il quiz:', '82f5481a-4c6a-419e-82f7-bb9077f47187': \"Qual era la percentuale di petrolio nel mix energetico dell'Italia nel 2023?\", 'b7e16391-1e55-433e-97f0-8bf628a6f0ca': \"Qual è la percentuale di tasse e imposte incluse l'IVA per i consumatori domestici nel 2023 per il gas?\", 'fdf51ef9-2993-4a22-98fc-dd287ea67f4e': 'Qual è stata la produzione lorda di elettricità nel 2023?', '05f9345e-4fa5-4457-84c8-e8d6b68a1938': 'Qual è la percentuale di importazioni nette di elettricità rispetto alla disponibilità di elettricità per il consumo finale nel 2023?', '34108ae6-af1a-4539-b8e0-4e0bce303e3e': \"Domanda 1: Quali sono i rischi climatici ai quali l'Italia è particolarmente esposta?\", '1344a1ef-a86f-47d8-ba38-0622ac530b44': \"Quali sono le disposizioni introdotte nella legge di bilancio 2024 sull'assicurazione obbligatoria delle imprese per gli eventi estremi e le calamità naturali?\", '67429d2f-3a74-4b71-860f-7b677b2d7b4a': \"Qual è stato l'andamento del valore aggiunto agricolo nel 2023 rispetto al 2022?\", '97bdf203-6778-49ec-ad65-7314d7bec4dd': 'Quali sono i costi totali della perdita del flusso annuale di servizi ecosistemici a causa del consumo di suolo in Italia tra il 2006 e il 2023?', '83b823e8-a411-4fb9-a059-ce95b4565248': \"Quali sono le fonti citate riguardanti il suolo e l'ambiente?\", 'de8a901b-0676-4da0-8621-c67b6da619b2': \"Domanda 1: Quali sono le principali priorità di investimento per l'Italia riguardo all'ambiente nel 2010?\", '1655df78-4a12-42df-86d3-63aa95cbd8cc': 'Domanda per il quiz:', '9d17b425-7c88-474e-8218-549b8d9c21b4': 'Domande per il quiz:', '6ea83306-88c1-46f1-a35d-a0a96638d819': 'Domanda per il quiz:', 'a15bb0f4-098c-4cff-90f5-2d46c838316b': \"Qual è la percentuale del valore aggiunto lordo generato direttamente dai servizi ecosistemici nei settori dell'agricoltura, silvicoltura e sanità?\", '1c0518f1-5267-4da5-9e09-ddb2736c2cc7': \"Quali sono le sfide significative che l'Italia sta affrontando nel settore dell'uso del suolo?\", '172eb881-cbf3-44b6-92ed-442b9e7b34de': \"Qual è la percentuale delle emissioni totali del paese generate dall'agricoltura italiana nel 2022?\", '38fdf813-8188-4e4d-bd44-4ca848a577fa': \"Domanda 1: Quali misure ha adottato il governo italiano per ridurre l'inquinamento nel settore agricolo?\"}, corpus={'80b9998c-32d4-42f7-94a7-1a36155b382b': \"IT   IT \\n \\n \\n COMMISSIONE  \\nEUROPEA   \\nBruxelles, 4.6.2025  \\nSWD(2025) 212 final  \\n \\nDOCUMENTO DI LAVORO DEI SERVIZI DELLA COMMISSIONE  \\nRelazione per paese 2025 - Italia  \\nche accompagna il documento  \\nRaccomandazione di RACCOMANDAZIONE DEL CONSIGLIO  \\nsulle politiche economiche, sociali, occupazionali, strutturali e di bilancio dell'Italia  \\n{COM(2025)  212 final}\", '93b772d4-52a6-44a6-a331-0eae1fdf33a5': \"9  \\n \\n \\n Riquadro 2 - • l'eccessiva dipendenza delle imprese dal credito bancario limita i finanziamenti \\nprivati a sostegno dell'innovazione , in quanto le banche spesso non dispongono \\ndelle competenze necessarie per controllare efficacemente le imprese innovative e le \\nloro garanz ie prevalentemente immateriali. Appare giustificato sviluppare ulteriormente \\ngli ecosistemi di venture capital e di private equity, compresa la promozione di tale \\nclasse di attività per gli investitori istituzionali e al dettaglio;  \\n• l'elevato carico fiscale  sulle imprese e la complessità del sistema fiscale.  \\nL'attuazione del piano per la ripresa e la resilienza dell'Italia sta affrontando diverse sfide e \\nritardi. Attualmente il paese ha conseguito il 43  % dei traguardi e degli obiettivi del piano \\nper la ripresa e la resilienza. Il rafforzamento della capacit à amministrativa, in particolare a \\nlivello locale, e il miglioramento della tempestiva individuazione e risoluzione dei potenziali \\nritardi favorirebbero l'efficace esecuzione del piano.  \\nContinua a e ssere importante accelerare l'attuazione dei programmi della politica di \\ncoesione. La revisione intermedia offre opportunità di accelerare i progressi e affrontare \\nmeglio le priorità strategiche dell'UE in materia di competitività, difesa, alloggi, resilie nza \\nidrica e transizione energetica.  \\nL'Italia ha sfruttato la piattaforma per le tecnologie strategiche per l'Europa (STEP) per \\nriassegnare alcune risorse della politica di coesione destinandole a detta priorità, ma è \\npossibile sostenere ulteriormente lo s viluppo o la produzione di tecnologie critiche nei settori \\ndelle tecnologie digitali e deep tech, delle tecnologie pulite ed efficienti sotto il profilo delle \\nrisorse, e delle biotecnologie.\", 'f612986a-0b1a-4c12-bdf1-2c2107733db7': \"99  \\nTabella  A9.1 - Indicatori chiave per monitorare i progressi in materia di adattamento ai cambiamenti \\nclimatici, resilienza e ambiente  \\n  \\n(1) I dati mostrano la media per il periodo 2006 -2023 sulla base del sistema europeo d'informazione sugli incendi boschivi.  \\n(2) Scal a: 0 (assenza di deficit di protezione) – 4 (deficit molto elevato). EIOPA, 2024, Dashboard sul deficit di protezione \\nassicurativa per le catastrofi naturali.  \\n(3) van Daalen, K. R. et al., 2024, The 2024 Europe report of the Lancet Countdown on health and climate change:  unprecedented \\nwarming demands unprecedented action , The Lancet Public Health.  \\n(4) Questo indicatore misura il consumo totale di acqua in percentuale rispetto alle risorse di acque dolci rinnovabili dispo nibili per \\nun territorio e un periodo. Valori superiori al 20  % sono generalmente considerati un segno di carenza idrica, mentre valori pari o \\nsuperiori al 40  % indicano situazioni di grave carenza idrica.  \\n(5) Commissione europea, 2024, 7 º relazione di attuazione della Commissione al C onsiglio e al Parlamento europeo \\nsull'attuazione della direttiva quadro sulle acque (2000/60/CE) e della direttiva sulle alluvioni (2007/60/CE) (terzo ciclo d i piani di \\ngestione dei bacini idrografici e secondo ciclo di piani di gestione del rischio di all uvioni).  \\n(6) Per questo indicatore, la media UE comprende i dati relativi al Regno Unito nella configurazione precedente, UE -28. \\n(7) Commissione europea, 2023, Dashboard del sistema di monitoraggio della bioeconomia dell'UE.  \\n(8) I nitrati possono persister e a lungo nelle acque sotterranee e accumularsi a livelli elevati a causa degli apporti da fonti \\nantropiche (principalmente l'agricoltura). La norma UE sull'acqua potabile stabilisce un limite di 50  mg NO 3/L per evitare minacce \\nalla salute umana.  \\n(9) Gli a ssorbimenti netti sono espressi come valori negativi, le emissioni nette come valori positivi. I dati riportati derivano \\ndall'inventario dei gas a effetto serra presentato nel 2024. Il valore per il 2030 degli assorbimenti netti di gas a effetto serra è \\ndesunto dal regolamento (UE) 2023/839 – allegato II bis.  \\nFonte:  Eurostat, AEA.\", 'b87e8ec1-9380-48ad-9428-47c47ede0e76': \"La norma UE sull'acqua potabile stabilisce un limite di 50  mg NO 3/L per evitare minacce \\nalla salute umana.  \\n(9) Gli a ssorbimenti netti sono espressi come valori negativi, le emissioni nette come valori positivi. I dati riportati derivano \\ndall'inventario dei gas a effetto serra presentato nel 2024. Il valore per il 2030 degli assorbimenti netti di gas a effetto serra è \\ndesunto dal regolamento (UE) 2023/839 – allegato II bis.  \\nFonte:  Eurostat, AEA.  \\n \\nClimate adaptation and preparedness:\\n2018 2019 2020 2021 2022 2023 2018 2021\\nDrought impact on ecosystems 0.81 0.58 1.59 3.77 18.17 1.83 6.77 2.76\\n[area impacted by drought as % of total]\\nForest fires burned area (1)56 673     56 673     56 673     56 673     56 673     56 673     \\n[ha, annual average 2006-2023]\\nEconomic losses from extreme events 5 708       5 273       2 720       686           17 626     15 741     24 142       62 981       \\n[EUR million at constant 2022 prices]\\nInsurance protection gap (2)- - - - 1.75          1.75          \\n[composite score between 0 and 4]\\nHeat-related mortality (3)159           159           159           159           159           \\n[number of deaths per 100 000 inhabitants in 2013-\\n2022]\\nSub-national climate adaptation action 71             73             74             75             76             78             41 44\\n[% of population covered by the EU Covenant of \\nMayors for Climate & Energy]\\nWater resilience:\\n2018 2019 2020 2021 2022 2023 2018 2021\\nWater Exploitation Index Plus, WEI+ (4)8.1 7.6 11.1 11.0 15.6 - 4.5 4.6\\n[total water consumption as % of renewable \\nfreshwater resources]\\nWater consumption 13 750     13 708     18 353     19 411     19 335     -            \\n[million m3]\\nEcological/quantitative status of water bodies (5)\\n[% of water bodies failing to achieve good status]\\nSurface water bodies - - - 47% - - - 59%\\nGroundwater bodies - - - 19% - - - 93%\\nBiodiversity and ecosystems:\\n2018 2019 2020 2021 2022 2023 2018 2021\\nConservation status of habitats (6)9.9 - - - - - 14.7 -\\n[% of habitats having a good conservation status]\\nCommon farmland bird index 72.2 73.8 71.6 72.3 69.4 - 72.2 74.4\\n2000=100\\nProtected areas - - - 21 21 - - 26\\n[% of terrestrial protected areas]\\nSustainable agriculture and land use:\\n2018 2019 2020 2021 2022 2023 2018 2021\\nBioeconomy's added value (7)91 538     94 213     88 755     98 215     634 378     716 124     \\n[EUR million]\\nLandscape features - - - - 8               -\\n[% of agricultural land covered with landscape \\nfeatures]\\nFood waste - - 136 140 139 -\\n[kg per capita]\\nArea under organic farming 15.2 15.2 16.0 16.8 18.1 7.99 -\\n[% of total UAA]\\nNitrogen balance 58.2 57.2 56.1 56.2 - -\\n[kg of nitrogen per ha of UAA]\\nNitrates in groundwater (8)19.0 18.6 18.2 17.8 - -\\n[mgNO3/l]\\nNet greenhouse gas removals from LULUCF (9)41 900-     37 702-     27 499-     24 787-     21 199-     -            256 077-     240 984-     \\n[Kt CO2-eq]Italy EU-27\\nItaly EU-27\\nItaly EU-27\\nItaly EU-27\", '4a5026bd-2856-497f-8276-9de39b7562e6': \"EQUITÀ  \\n ALLEGATO 10: MERCATO DEL LAVORO  \\n100 Negli ultimi anni il mercato del lavoro \\nitaliano ha dimostrato resilienza e progressi \\nincrementali, segnati da un miglioramento \\ndei risultati del mercato del lavoro, sebbene \\nil paese debba ancora far fronte a sfide \\nstrutturali.  In particolare, la competitività e la \\ncrescita economica potenziale dell'Italia sono \\ninfluenzate negativamente da una crescita della \\nproduttività persistentemente bassa, da forti \\nsquilibri regionali, dal declino  demografico \\nassociato alla migrazione di talenti e dalla \\nsottorappresentazione di alcuni gruppi, in \\nparticolare le donne, i lavoratori anziani e i giovani, \\nnel mercato del lavoro. Nell'ambito degli sforzi per \\nraggiungere l'obiettivo 2030 relativo al tasso  di \\noccupazione, utilizzare meglio il potenziale dei \\ngruppi sottorappresentati attraverso un sistema di \\npolitiche attive del lavoro più efficace, affrontare \\nlo squilibrio tra domanda e offerta di competenze \\ne la carenza di manodopera e migliorare la qualit à \\ndei posti di lavoro saranno sfide fondamentali che \\nl'Italia dovrà superare per un mercato del lavoro \\npiù solido e inclusivo e per un'economia prospera.  \\nGrafico  A10.1 - Indicatori chiave del mercato del \\nlavoro  \\n  \\nFonte:  Eurostat, IFL [lfsi_emp_a, une_rt_a, une_ltu_a, \\nlfsi_neet_a].  \\nIl mercato del lavoro italiano ha continuato a \\nmigliorare ma permangono sfide strutturali.  \\nNel 2024, il tasso di occupazione è salito a un \\nlivello storicamente elevato, raggiungendo \\nil 67,1  %, mentre il tasso di attivit à è rimasto stabile al 66,6  %. Entrambi i valori rimangono \\ntuttavia ben al di sotto delle medie dell'UE \\n(rispettivamente 75,8  % e 75,4  %). L'obiettivo del \\npaese relativo al tasso di occupazione per il 2030, \\npari al 73  %, rimane sostanzialmente al di sopra \\ndei livelli attuali (di 5,9 punti percentuali) e \\nrichiede quindi un impegno costante. Il tasso di \\ndisoccupazione è sceso signif icativamente al  6,5 % \\nnel 2024, con la componente giovanile e la \\ncomponente di lunga durata, che sono scese \\nrispettivamente al 20,3  % e al 3,3  %, segnando \\nprogressi significativi. Pur rimanendo al di sopra \\ndelle medie dell'UE rispettivamente del 5,9  %, \\n14,9 % e 1,9  %, i tassi sono sempre pi ù \\nconvergenti. Le disparit à regionali sono \\nparticolarmente pronunciate, con un divario \\ndi 22,5  punti percentuali tra il tasso di occupazione \\ndel Nord -Est e quello del Sud. Modelli analoghi si \\nosservano anche per i tassi d i attività e di \\ndisoccupazione (cfr. allegato 16). Tali disparità \\nregionali derivano dalle debolezze strutturali delle \\nregioni meridionali e dalla prevalenza di imprese \\npiù piccole, meno competitive e meno innovative, \\nche offrono minori opportunità di lavo ro(243).\", 'bcf8b10e-62bd-4070-8e2a-39059f1d4d83': \"Le disparit à regionali sono \\nparticolarmente pronunciate, con un divario \\ndi 22,5  punti percentuali tra il tasso di occupazione \\ndel Nord -Est e quello del Sud. Modelli analoghi si \\nosservano anche per i tassi d i attività e di \\ndisoccupazione (cfr. allegato 16). Tali disparità \\nregionali derivano dalle debolezze strutturali delle \\nregioni meridionali e dalla prevalenza di imprese \\npiù piccole, meno competitive e meno innovative, \\nche offrono minori opportunità di lavo ro(243). In \\nprospettiva, dopo un rallentamento della crescita \\ndell'occupazione all'1,6  % nel 2024, si prevede che \\nla partecipazione al mercato del lavoro, ancora in \\naumento nel 2025 -2026, più che compenserà il \\nprevisto calo della popolazione in età lavorati va. \\nLa scarsa partecipazione delle donne al \\nmercato del lavoro evidenzia significative \\ndisparità di genere, legate all'insufficienza \\ndei servizi di assistenza all'infanzia e di \\nassistenza a lungo termine e alle barriere \\nistituzionali.  Sebbene in aumento, i l tasso di \\noccupazione femminile in Italia, pari al 57,4  % \\nnel 2024, è tra i più bassi dell'UE (70,8  %) ed è \\ncaratterizzato da disparit à regionali. Il divario di \\ngenere nei livelli di occupazione è quasi doppio \\nrispetto alla media UE (19,4 punti percentuali \\nrispetto a 10 punti percentuali) e dal 2015 ha \\nregistrato solo miglioramenti marginali. Stime \\nrecenti mostrano che un aumento del tasso di \\npartecipazione delle donne alla media UE \\naggiungerebbe i l 10  % alla forza lavoro totale \\ndell'Italia e potrebbe portare nel lungo periodo a \\n \\n(243) Banca d'Italia, Lo sviluppo del Mezzogiorno:  una priorità \\nnazionale , 2019.  \\n56586062646668707274\\n05101520253035\\n2018\\n2019\\n2020\\n2021\\n2022\\n2023\\n2024% % IT\\nActivity rate 20-64 (rhs)\\nE mployment rate 20-64 (rhs)\\nUnemployment rate 15-74 (lhs)\\nLong-term unemployment rate 15-74 (lhs)\\nY outh unemployment rate 15-24 (lhs)\", 'b7e7a0b8-26e7-4fbc-9bb2-39219c920f16': \"101 un aumento del PIL di analoga entità(244). Queste \\ndisparità sono legate, tra l'altro, a un impatto \\nsignificativo della genitorialità, derivante dal ruolo \\npredominante delle d onne nell'assistenza e nel \\nlavoro domestico, alle difficoltà nella disponibilità \\ne nell'accesso a servizi di assistenza a lungo \\ntermine e di assistenza all'infanzia di alta qualità \\n(cfr. allegato 11) e alle insufficienti opportunità di \\nconciliazione tra vi ta professionale e vita privata. \\nDi conseguenza un'elevata percentuale di donne \\nesce dal mercato del lavoro alla nascita di un figlio \\ne quelle che rimangono occupate spesso riducono \\nsignificativamente il loro orario di lavoro. \\nL'adozione del lavoro a dista nza, pur essendo \\nsuperiore ai livelli antecedenti la pandemia, rimane \\nsignificativamente al di sotto della media UE, \\nanche tra i genitori di bambini piccoli. Inoltre il \\nsistema fiscale e previdenziale continua a \\ndisincentivare l'occupazione femminile(245). Tre \\nmisure sostenute dal dispositivo per la ripresa e la \\nresilienza vanno nella giusta direzione: i) il piano \\nitaliano per asili nido e scuole dell'infanzia mira a \\ncreare almeno 150  480 nuovi posti in strutture di \\nassistenza all'infanzia entro il 2026, pro muovendo \\nl'equilibrio tra vita professionale e vita privata e \\nl'occupazione femminile; ii) il sistema di \\ncertificazione della parità di genere per aumentare \\nla partecipazione delle donne al mercato del \\nlavoro e ridurre il divario retributivo di genere; e i ii) \\ninvestimenti per la creazione di imprese femminili \\nper promuovere il lavoro autonomo e \\nl'imprenditorialità delle donne. Il piano strutturale \\ndi bilancio a medio termine dell'Italia si impegna a \\ncompiere ulteriori progressi nella copertura della \\ndomanda  insoddisfatta di servizi di assistenza \\nall'infanzia. Si potrebbero studiare ulteriori azioni \\nper aumentare la flessibilità delle condizioni di \\nlavoro a sostegno di donne e genitori. Politiche \\nequilibrate di congedo parentale, come \\nl'estensione del congedo  di paternità oltre gli \\nattuali 10  giorni, potrebbero contribuire a \\nridistribuire le responsabilità di cura e a ridurre il \\ndivario di genere nei livelli di occupazione.  \\nLe elevate aliquote fiscali marginali effettive \\ne alcune caratteristiche del sistema di  \\ntrasferimenti fiscali scoraggiano i percettori \\ndella seconda fonte di reddito \\n(prevalentemente donne) dall'aumentare le \\nore di lavoro.  Con il 43,5  %, l'aliquota fiscale \\n \\n(244) Banca d'Italia, Women, labour markets and economic \\ngrowth , 2023.  \\n(245) Ibidem.  implicita sul lavoro del paese, un'approssimazione \\ndel il carico fiscale medio effetti vo sui redditi da \\nlavoro, è tra le più alte dell'UE (37,8  %). Nel 2024, \\nl'Italia ha unito i due scaglioni fiscali più bassi, \\napplicando un'aliquota unificata del 23  % per \\nalleggerire il carico fiscale sui redditi medi. \\nNel 2024 l'aliquota fiscale effettiva  per i lavoratori \\na basso salario è diminuita notevolmente, \\nattestandosi al 38,1  %.\", '783f02eb-ad81-490c-88b4-3cacc3b8f1d0': \"Con il 43,5  %, l'aliquota fiscale \\n \\n(244) Banca d'Italia, Women, labour markets and economic \\ngrowth , 2023.  \\n(245) Ibidem.  implicita sul lavoro del paese, un'approssimazione \\ndel il carico fiscale medio effetti vo sui redditi da \\nlavoro, è tra le più alte dell'UE (37,8  %). Nel 2024, \\nl'Italia ha unito i due scaglioni fiscali più bassi, \\napplicando un'aliquota unificata del 23  % per \\nalleggerire il carico fiscale sui redditi medi. \\nNel 2024 l'aliquota fiscale effettiva  per i lavoratori \\na basso salario è diminuita notevolmente, \\nattestandosi al 38,1  %. Ciononostante la \\npercentuale di redditi lordi decurtati al momento \\ndella transizione verso l'occupazione è ancora \\nelevata, attestandosi al 78,4  % nel 2024 \\n(UE: 74,4  %). Ino ltre, nonostante la tassazione \\neffettiva dei redditi quando si passa a un salario \\npiù alto sia diminuita, i percettori della seconda \\nfonte di reddito, la maggior parte dei quali sono \\ndonne, si trovano ad affrontare disincentivi \\nmaggiori rispetto agli indiv idui di famiglie \\nunipersonali (cfr. allegato 2). Inoltre, alcuni aspetti \\ndel sistema di trasferimento fiscale, come le \\nprestazioni basate sul reddito e i crediti d'imposta \\nbasati sul reddito globale familiare, nonché le \\nagevolazioni fiscali per i coniugi a  carico, \\npotrebbero scoraggiare un livello più elevato di \\npartecipazione al mercato del lavoro da parte dei \\npercettori della seconda fonte di reddito(246). \\nQueste dinamiche compromettono gli incentivi per \\nle famiglie a doppio reddito e contribuiscono al \\nbasso livello di partecipazione delle donne al \\nmercato del lavoro.  \\n \\n(246) Banca d'Italia, Women, labour markets and economic \\ngrowth , 2023.\", '13afc537-7d95-4e7d-9034-bde7cf52b09b': '102 Grafico  A10.2 - Risultati dei giovani sul mercato del \\nlavoro  \\n  \\nFonte:  Eurostat, IFL [une_rt_a, lfsi_neet_a, lfsi_emp_a, \\nedat_lfse_18, lfsi_act_a, edat_lfse_20]  \\nI giovani continuano ad affrontare sfide \\nsignificative sul mercato del lavoro ma \\nl\\'Italia ha compiuto progressi sostanziali \\nnella maggior parte degli indicatori \\ndell\\'occupazione giovanile.  Nel 2024, solo \\nil 40,3  % dei giovani italiani (di et à compresa tra \\ni 15 e i 29 anni) ha partecipato al mercato del \\nlavoro, con un significativo ritardo rispetto ai \\ncoetanei dell\\'UE (55,9  %) e un calo di 1,3 punti \\npercentuali rispetto al 2023. Tra le persone di et à \\ncompresa tra i 15 e i 24 anni che vi partecipano, \\nil 20,3  % era disoccupato, ben al di sopra della \\nmedia UE del 14,9  %, a nche se si tratta di un \\nminimo storico per l\\'Italia e di un miglioramento \\ndi 2,4 punti percentuali rispetto all\\'anno \\nprecedente. Anche i tassi di occupazione \\narrancano: solo un terzo circa delle persone in \\nquesta fascia d\\'età è occupato, contro circa la \\nmetà nell\\'UE. Le difficoltà incontrate dai giovani \\nnella transizione verso un\\'occupazione stabile e di \\nqualità sono ulteriormente sottolineate dalla \\npercentuale in calo, ma comunque elevata, di \\ngiovani non occupati né inseriti in un percorso di \\nistruzione o formazione (NEET) (15,2  % contro \\nl\\'11 % nell\\'UE), nonostante si tratti del livello più \\nbasso mai registrato, e dall\\'elevata prevalenza di \\nimpieghi temporanei. Nel 2024, il 25  % dei giovani \\nnati al di fuori dell\\'UE e il 38,9  % delle giovani \\ndonne di questo gruppo risultavano essere NEET. \\nInoltre il 39,4  % dei giovani (di età compresa tra \\ni 15 e i 29 anni) occupati aveva un contratto a tempo determinato, con un significativo \\nmiglioramento di 3,8 punti percentuali rispetto \\nal 2023. Tali livelli continuano a ri flettere sfide \\nstrutturali come le limitate opportunità di lavoro, il \\nsostegno inadeguato alla transizione \\ndall\\'istruzione al lavoro e un potenziale dei giovani \\nsottoutilizzato. Il Fondo sociale europeo Plus \\nsostiene l\\'accesso all\\'occupazione attraverso il  \\nprogramma nazionale \"Giovani, donne e lavoro\" e \\nattraverso i programmi regionali. Nel complesso, \\nquesti programmi hanno raggiunto più di \\n115 000 disoccupati tra il 2021 e il 2024.  \\nAnche i gruppi vulnerabili, tra cui gli adulti \\npoco qualificati, i figli de i migranti e le \\npersone con disabilità, incontrano ostacoli \\nall\\'integrazione nel mercato del lavoro. I \\nrisultati occupazionali in Italia sono strettamente \\nlegati al livello di istruzione. Il tasso di occupazione \\ndelle persone in possesso di un diploma di \\nistruzione secondaria di primo grado o inferiore, \\npari al 54,5  %, è inferiore di 27,7 punti percentuali \\nrispetto a quello delle persone con un diploma di \\nistruzione terziaria. Tra le donne, tale divario sale a \\nquasi 43 punti percentuali.', '9f9cbc6d-2913-4243-8363-6d7b5e278bbf': \"Anche i gruppi vulnerabili, tra cui gli adulti \\npoco qualificati, i figli de i migranti e le \\npersone con disabilità, incontrano ostacoli \\nall'integrazione nel mercato del lavoro. I \\nrisultati occupazionali in Italia sono strettamente \\nlegati al livello di istruzione. Il tasso di occupazione \\ndelle persone in possesso di un diploma di \\nistruzione secondaria di primo grado o inferiore, \\npari al 54,5  %, è inferiore di 27,7 punti percentuali \\nrispetto a quello delle persone con un diploma di \\nistruzione terziaria. Tra le donne, tale divario sale a \\nquasi 43 punti percentuali. Sebbene i neolaurea ti e \\nneodiplomati dell'istruzione superiore (di età \\ncompresa tra i 20 e i 34 anni) ottengano \\ngeneralmente risultati migliori nel mercato del \\nlavoro, il loro tasso di occupazione (77,8  % \\nnel 2024) rimane tra i più bassi dell'UE. Il tasso è \\nstato comunque ca ratterizzato da un significativo \\nmiglioramento di 2,4 punti percentuali dal 2023. I \\ntassi di occupazione sono particolarmente bassi \\nper i neodiplomati dell'istruzione di livello medio \\ncon un orientamento generale (48,5  % nel 2024), \\nmentre i neodiplomati pr ovenienti da programmi di \\nformazione professionale registrano tassi migliori \\n(63,7  %). Le persone nate in Italia con uno o \\nentrambi i genitori nati all'estero partecipano \\nmeno al mercato del lavoro e registrano un tasso \\ndi occupazione relativamente basso e  in calo, pari \\nal 56,3  %, 11,2 punti percentuali in meno rispetto \\na chi non proviene da un contesto migratorio e ben \\nal di sopra del divario medio dell'UE, pari a 2 punti \\npercentuali. Inoltre le persone provenienti da altri \\npaesi dell'UE e i cittadini di p aesi terzi sono più \\nfrequentemente assunti con contratti a tempo \\ndeterminato rispetto ai cittadini italiani. Tuttavia il \\ndivario occupazionale tra le persone nate al di \\nfuori dell'Italia e quelle nate in Italia è \\nrelativamente contenuto (0,7 punti percentu ali) \\nrispetto alla media UE (6,5 punti percentuali). \\nInoltre il divario nei livelli di occupazione tra \\npersone con e senza disabilità ha subito un \\npeggioramento, passando da 15,9 punti \\n01020304050607080\\n051015202530354045\\n2015\\n2016\\n2017\\n2018\\n2019\\n2020\\n2021\\n2022\\n2023\\n2024%%IT\\nE mployment rate 15-24 (lhs)\\nUnemployment rate 15-24 (lhs)\\nNE E T  rate 15-29 (lhs)\\nIn education, training 15-24 (rhs)\\nT ertiary education 30-34 (rhs)\", 'aad76448-29c4-4472-8438-4dfcf4f8fd4e': \"103 percentuali nel 2023 a 25,1 punti percentuali \\nnel 2024, e l'Italia non ha ancora fissato un \\nobiettivo per l'assunzione di persone con \\ndisabilità(247). Allo stesso tempo, solo il 41,7  % \\ndelle persone con disabilità era attivo nel mercato \\ndel lavoro e quasi la metà dei giovani (di età \\ncompresa tra i 15 e i 29 anni) non era occup ata né \\ninseriti in un percorso di istruzione o formazione \\n(29,8  % nell'UE).  \\nI persistenti squilibri tra domanda e offerta \\ndi competenze, le carenze di manodopera e le \\ninsufficienti opportunità di lavoro per i \\nlavoratori con un elevato livello di istruzione  \\nostacolano potenziali aumenti di \\nproduttività.  I tassi di posti di lavoro vacanti sono \\ndiminuiti in tutti i settori, raggiungendo il 2,1  % \\nnel 2024 (UE: 2,4  %), con i tassi pi ù elevati \\nregistrati nel settore edilizio. Allo stesso tempo, \\ncirca un terzo dei datori di lavoro del settore dei \\nservizi ha segnalato una disponibilit à limitata di \\nlavoratori come fattore limitante per la produzione \\nnel quarto trimestre del 2024. L'indicat ore del \\nlabour market slack , che riflette la domanda \\ninsoddisfatta di manodopera, è diminuito \\ndi 1,9 punti percentuali nel 2024, attestandosi \\nal 15,8  %. Si tratta di un valore ancora ben al di \\nsopra della media UE (11,7  %), il che indica un \\nnotevole potenz iale di manodopera non sfruttato. \\nAllo stesso tempo l'Italia continua ad avere uno dei \\nlivelli di squilibrio macroeconomico tra domanda e \\nofferta di competenze(248) più elevati dell'UE, in \\nparticolare tra i giovani. Nel 2024 era pari \\nal 25,7  %, ben al di so pra della media UE (19,2  %). \\nIl tasso di occupazione delle persone con un \\ndiploma di istruzione terziaria (82,2  %) è inferiore \\nrispetto alla media UE (86,5  %) e i neodiplomati e \\nneolaureati dell'istruzione terziaria sono \\nsignificativamente indietro rispett o ai loro pari \\nnell'UE, il che indica la presenza di barriere nella \\ntransizione verso il mercato del lavoro. Inoltre la \\nsovraqualificazione rimane un problema \\nstrutturale: oltre un lavoratore con un livello di \\nistruzione terziaria su cinque è occupato in \\nposizioni che non richiedono tale livello di \\nistruzione. I tassi di sovraqualificazione \\nparticolarmente elevati nei servizi amministrativi e \\ndi supporto evidenziano sia la lentezza con cui il \\n \\n(247) Discontinuità nelle serie di dati nel 2024.  \\n(248) Questo indicatore evidenzia la difficoltà relativamente più \\nelevata del le persone con un livello di qualifiche basso e \\nmedio di accedere al mercato del lavoro rispetto alle persone \\naltamente qualificate.  sistema di istruzione e formazione risponde alle \\nmutevoli esigenz e del mercato del lavoro, sia la \\nlimitata capacità delle imprese di sfruttare \\nefficacemente la manodopera qualificata.  \\nÈ fondamentale integrare ulteriormente i \\ngruppi sottorappresentati, poiché \\nl'invecchiamento della popolazione e il calo \\ndelle nascite in  Italia pongono sfide a lungo \\ntermine.\", 'ccd3a1e6-e44b-4008-9cdb-f3164494e1b9': '(248) Questo indicatore evidenzia la difficoltà relativamente più \\nelevata del le persone con un livello di qualifiche basso e \\nmedio di accedere al mercato del lavoro rispetto alle persone \\naltamente qualificate.  sistema di istruzione e formazione risponde alle \\nmutevoli esigenz e del mercato del lavoro, sia la \\nlimitata capacità delle imprese di sfruttare \\nefficacemente la manodopera qualificata.  \\nÈ fondamentale integrare ulteriormente i \\ngruppi sottorappresentati, poiché \\nl\\'invecchiamento della popolazione e il calo \\ndelle nascite in  Italia pongono sfide a lungo \\ntermine.  Sebbene il calo della popolazione sia \\nrecentemente rallentato, l\\'Italia ha registrato una \\nperdita netta di 1,35 milioni di residenti dal 2014. \\nLe nascite sono scese ai minimi storici, con appena \\n370 000 nascite nel 20 24 (rispetto al picco \\ndi 577 000 del 2008). Questa tendenza è \\ndeterminata dai bassi tassi di fertilit à, dai \\ncambiamenti nella struttura della popolazione e \\ndalla posticipazione della genitorialit à. Secondo le \\nproiezioni, la popolazione totale italiana si r idurrà \\ndel 9,7  % tra il 2022 e il 2070, pi ù del doppio \\nrispetto al calo del 4  % a livello europeo. Secondo \\nle proiezioni, la popolazione in et à lavorativa \\ndiminuir à, nonostante gli aumenti previsti della \\nmigrazione, portando a una diminuzione di  \\n7,2 punti percentuali della quota della popolazione \\nin età lavorativa (20 -64 anni) rispetto alla \\npopolazione totale entro il 2070(249). Con il \\ncrescente invecchiamento della popolazione, si \\nprevede che l\\'indice di dipendenza degli anziani \\nsalirà dal 40,8  % nel 2022 a un picco del 66  % \\nintorno al 2050, riflesso della transizione delle \\ncoorti del \"baby boom\" verso la vecchiaia, e \\nraggiungerà il 65,5  % nel 2070. Questi \\nspostamenti demografici comporteranno \\nprobabilmente una contrazione del mercato del \\nlavoro e rich iederanno quindi l\\'attivazione e una \\nmigliore integrazione dei gruppi sottorappresentati \\ne di coloro che sono fuori dal mercato del lavoro. \\nNell\\'ambito del piano per la ripresa e la resilienza \\ndell\\'Italia, il programma nazionale per la garanzia \\ndi occupabi lità dei lavoratori ha introdotto \\nstandard uniformi per i servizi pubblici per \\nl\\'impiego in tutto il paese, concentrandosi sulla \\nprevisione delle competenze, sui piani di \\nformazione personalizzati, sull\\'orientamento e \\nsulla mediazione al lavoro. Entro il 2 025 si \\nprevede che beneficeranno del programma almeno \\n3 milioni di persone, in particolare donne, \\ndisoccupati di lunga durata, persone con disabilità \\ne persone di età inferiore a 30 o superiore \\n \\n(249) Commissione europea, Relazione 2024 sull\\'invecchiamento \\ndemografico.  Proiez ioni economiche e di bilancio per gli Stati \\nmembri dell\\'UE  (2022 -2070), 2024.', '39deeafc-9912-4139-8ffb-cd5ef2b246a0': \"104 a 55 anni, grazie a politiche attive del mercato del \\nlavoro mi rate e al miglioramento del livello delle \\ncompetenze e alla riqualificazione. La capacità dei \\nservizi pubblici per l'impiego sarà essenziale per \\nun'attuazione efficace. Inoltre, per far fronte alle \\ncarenze emergenti e dal momento che altre \\nmisure potrebber o non essere sufficienti, potrebbe \\nessere sempre più necessario favorire la \\nmigrazione legale e attrarre talenti, in particolare \\nda paesi terzi, per mantenere un capitale umano \\nadeguato nei settori chiave e rafforzare la \\ncompetitività dell'Italia. L'invecc hiamento della \\npopolazione eserciterà inoltre un'ulteriore \\npressione sul sistema sanitario, che deve far \\nfronte a gravi carenze (cfr. allegato 14).  \\nTale fenomeno è amplificato dal fatto che \\nmolti giovani, soprattutto quelli altamente \\nqualificati, guardano all'estero in cerca di \\nmigliori prospettive di lavoro.  Tra il 2008 e \\nil 2022, oltre mezzo milione di giovani italiani è \\nemigrato e solo un terzo di loro è tornato(250). La \\nfuga di talenti si è intensificata, con un aumento \\ndella percentuale di laureati tra le persone che si \\ntrasferiscono all'estero, che è passata dal 30,5  % \\nnel 2013 al 50,6  % nel 2022(251). Il miglioramento \\ndella qualità dell'offerta di lavoro e in particolare \\nle attività di sensibilizzazione, anche per i giovani \\nvulnerabili nell'ambito della  garanzia per i giovani; \\nil rafforzamento della formazione e dell'istruzione \\nin linea con le esigenze del mercato del lavoro e ai \\nfini di una migliore preparazione alla transizione al \\nlavoro; e il miglioramento delle possibilità di \\noccupazione potrebbero c ontribuire a trattenere i \\ngiovani talenti nel mercato del lavoro italiano.  \\nLa forza lavoro si sta adattando alle \\ntransizioni verde e digitale, in un contesto di \\ncrescente necessità di lavoratori qualificati \\nnei settori emergenti.  Nel 2023 l'occupazione \\nnelle industrie ad alta intensità energetica del \\npaese rappresentava il 3,3  % dell'occupazione \\ntotale, mentre i posti di lavoro nell'economia verde \\nsono cresciuti rapidamente. Tra il 2016 e il 2021, \\nl'occupazione nel settore dei beni e dei servizi \\nlegati all' ambiente è aumentata del 52,8  %, \\nraggiungendo il 4,1  % dell'occupazione totale \\n \\n(250) Banca d'Italia, Relazione annuale – Considerazioni finali del \\nGovern atore , 2024.  \\n(251) Eurofound, Ruolo delle disuguaglianze del capitale umano \\nnella coesione e nella convergen za sociale , 2024.  (UE: 2,7 %)(252). Analogamente, il tasso di posti di \\nlavoro vacanti nell'edilizia, un settore chiave per la \\ntransizione verde, è inferiore alla media UE \\n(3,0 % rispetto al 3,1  % nel 2024). L'intensità delle \\nemissioni di gas a effetto serra della forza lavoro \\nitaliana è migliorata, passando da 13,9 tonnellate \\nper lavoratore nel 2015 a 11,3 tonnellate \\nnel 2023 (UE: 12,3 tonnellate), a testimonianza dei \\nprogressi compiuti nella trans izione verde.\", '1d6ffd1b-189c-4cbb-9d41-7ad4dd1ca50c': \"(251) Eurofound, Ruolo delle disuguaglianze del capitale umano \\nnella coesione e nella convergen za sociale , 2024.  (UE: 2,7 %)(252). Analogamente, il tasso di posti di \\nlavoro vacanti nell'edilizia, un settore chiave per la \\ntransizione verde, è inferiore alla media UE \\n(3,0 % rispetto al 3,1  % nel 2024). L'intensità delle \\nemissioni di gas a effetto serra della forza lavoro \\nitaliana è migliorata, passando da 13,9 tonnellate \\nper lavoratore nel 2015 a 11,3 tonnellate \\nnel 2023 (UE: 12,3 tonnellate), a testimonianza dei \\nprogressi compiuti nella trans izione verde. Per \\ncontro, il settore delle TIC rimane sottosviluppato: \\nnel 2024 gli specialisti in TIC rappresentavano \\nil 4 % dell'occupazione totale, rispetto \\nal 5 % nell'UE, in parte a causa della scarsa \\niscrizione a programmi di istruzione superiore che  \\npreparano specialisti in TIC (cfr. allegato 12). Le \\ndonne sono particolarmente sottorappresentate: \\nsolo il 17,1  % degli specialisti in TIC è costituito da \\ndonne (UE: 19,5  %). L'Italia è inoltre in ritardo in \\ntermini di competenze digitali più ampie tra la  \\npopolazione attiva, con solo il 57,5  % dei lavoratori \\n(25-64 anni) che possiede almeno le competenze \\ndigitali di base, a sottolineare la necessit à di \\nrafforzare ulteriormente il miglioramento del \\nlivello delle competenze e la riqualificazione delle \\nperson e potenzialmente in cerca di lavoro.  \\nLa recente crescita dei salari reali ha \\ncompensato solo in parte le perdite del \\npassato, in un contesto di crescita della \\nproduttività strutturalmente bassa.  La \\ncrescita della produttività in Italia è stata a lungo \\nostacolata da fattori quali le piccole dimensioni \\ndelle imprese e il lento accumulo di capitale \\numano, con conseguente scarsa capacità di \\ninnovazione (cfr. allegato 3). Tra il 2013 e il 2023 \\nla cres cita cumulativa reale della produttività del \\nlavoro pro capite è stata solo del 2  % rispetto \\nal 5,8 % nell'UE. La crescita strutturalmente bassa \\ndella produttività del lavoro in Italia limita la \\ncrescita dei salari. Nello stesso periodo, \\nl'andamento cumula tivo dei salari reali è stato \\nancora più debole della crescita della produttività: \\nnel 2023 i salari reali in Italia erano inferiori \\ndel 3,5 % rispetto ai livelli del 2013, a fronte di un \\naumento di circa il 3  % in tutta l'UE. Dopo i cali \\nmarcati del 2022 e del 2023 (rispettivamente \\ndel 4,4 % e del 2,8  %), i salari reali sono aumentati \\ndel 2,3  % nel 2024 e si prevede che \\n \\n(252) I settori dei beni e dei servizi ambientali generano prodotti \\nambientali, ossia beni e servizi prodotti per la protezione \\ndell'ambiente o la gestione delle risorse.\", '8a8bc762-6066-40c7-b658-2e2efa39a87a': \"105 aumenteranno dell'1,1  % nel 2025253, il che riflette \\nsia la moderazione dell'inflazione che una più forte \\ncrescita dei salari nominali. È t uttavia improbabile \\nche tali incrementi riescano a compensare le \\nperdite precedenti. A sua volta, la bassa crescita \\ndelle retribuzioni registrata negli ultimi dieci anni \\nha permesso di aumentare la competitività di \\ncosto. Negli ultimi anni il costo del lav oro per unità \\ndi prodotto (CLUP) è aumentato più lentamente in \\nItalia che in altri Stati membri. La crescita del \\nCLUP dovrebbe prevedibilmente accelerare \\npassando dal 4,3  % nel 2023 al 5,0  % nel 2024, \\nper poi moderarsi nel 2025.  \\nIn un contesto di stagnazio ne dei salari reali, \\nbassa intensità di lavoro ed elevata \\nprevalenza del lavoro atipico hanno un \\nimpatto negativo sulla qualità del lavoro.  \\nNonostante i significativi miglioramenti degli ultimi \\ncinque anni (cfr. grafico A8.3), che hanno visto il \\nnumero di contratti a tempo indeterminato \\naumentare del 13  % e quello dei contratti a tempo \\ndeterminato diminuire del 16  %, la percentuale di \\nquesti ultimi è ancora superiore alla media UE \\n(14,4  % contro 11,6  % nel 2024), in particolare per \\ni giovani lavoratori. Ino ltre, mentre il lavoro a \\ntempo parziale (16,7  %) è inferiore alla media UE \\n(17,2  %), il lavoro a tempo parziale involontario \\nrimane sproporzionatamente elevato, attestandosi \\nal 51,3  % (UE: 18,2  %), in particolare tra le donne. \\nTali condizioni aggravano anc he la povert à \\nlavorativa, con i tassi di rischio di povert à per i \\nlavoratori a tempo pieno (9,0  %) e per quelli a \\ntempo parziale (15,7  %) che in Italia superano le \\nrispettive medie europee (6,9  % e 12,8  %). \\nL'elevata prevalenza di forme di lavoro atipiche,  \\ntra cui il lavoro stagionale, contribuisce a una \\nbassa intensità di lavoro, il che aggrava \\nulteriormente il rischio di povertà lavorativa. Ciò \\ncompromette inoltre l'accumulo di capitale umano \\nspecifico dell'impresa, nonché la copertura della \\nprotezione so ciale e il suo finanziamento. \\nNonostante alcuni miglioramenti registrati negli \\nultimi anni, il lavoro non dichiarato in Italia rimane \\ndiffuso e ammonta a quasi 3 milioni di posti di \\nlavoro equivalenti a tempo pieno, in particolare \\nnelle regioni meridionali (254). Sarà essenziale \\ncontinuare ad attuare le misure del dispositivo per \\nla ripresa e la resilienza per affrontare il lavoro \\n \\n(253)Sulla base delle previsioni economiche d'autunno 2024 della \\nCommis sione europea.  \\n(254) ELA, Factsheet on undeclared work – Italy, 2023.  non dichiarato, anche attraverso il rafforzamento \\ndell'Ispettorato Nazionale del Lavoro. In Italia \\ninoltre si registra una maggior e incidenza di \\nincidenti mortali sul lavoro. Tali debolezze \\naccrescono i rischi di povertà e pesano sulla \\ncrescita della produttività a lungo termine e sulla \\ncoesione sociale.  \\nGrafico  A10.3 - Occupazione per tipo (variazione su \\nbase annua)  \\n  \\nFonte:  Eurostat, IFL [lfsq_egaps, lfsq_etgaed].  \\n \\n \\n-1500-1000-500050010001500 thsIT\\nPermanent employees T emporary employees\\nS elf employment Overall\", '6bcc78bc-3a1b-4354-8bb0-f244cafc9eb2': \"ALLEGATO 11: POLITICHE SOCIALI  \\n106 Sebbene in Italia le condizioni sociali stiano \\nmigliorando, la povertà e l'esclusione sociale \\ncontinuano a rappresentare un rischio. Ciò \\nvale soprattutto per alcuni gruppi e regioni, ad \\nesempio i bambini e le regioni meridionali, dove i \\ntassi di occupazion e e i redditi sono bassi e i tassi \\ndi povertà lavorativa sono elevati. Inoltre le \\ntendenze demografiche avverse rappresentano \\nuna sfida significativa, non solo per la sostenibilità \\ndei sistemi pensionistici e assistenziali, ma anche \\nper l'erogazione di ser vizi di assistenza di qualità, \\naccessibile e a prezzi abbordabili, compresa \\nl'assistenza a lungo termine.  \\nI rischi di povertà e di esclusione sociale \\nsono in declino, pur rimanendo elevati al Sud. \\nNel 2024, il tasso di rischio di povertà o di \\nesclusione sociale (AROPE) è aumentato \\ndi 0,3 punti percentuali, raggiungendo il 23,1  %, \\nmentre a livello UE è diminuito in pari misura. Pur \\nrimanendo al di sopra della media UE del 21,0  %, \\nil tasso ha mostrato chiari segni di convergenza \\nnegli anni preced enti: il divario tra il tasso AROPE \\nin Italia e la media UE si è ridotto da 4,4 punti \\npercentuali nel 2015 a 1,5 punti percentuali \\nnel 2023. Con una diminuzione di 1,4 milioni di \\npersone a rischio di povertà o di esclusione sociale \\nnel 2023, l'Italia è sul la buona strada per \\nraggiungere l'obiettivo nazionale di ridurre tale \\nnumero di 3,2 milioni entro il 2030. Il tasso è \\nnotevolmente più alto al Sud (39,8  %) e sulle Isole \\n(38,1  %) rispetto al Nord -Est (11,2  %) e al Nord -\\nOvest (13,9  %), in parte a causa dell e debolezze \\nstrutturali dell'economia meridionale che \\ncomportano minori opportunità di lavoro, anche se \\nle disparità regionali sono probabilmente \\nsovrastimate per via delle differenze territoriali nel \\ncosto della vita. Inoltre il fatto di essere un \\nmigrant e aumenta notevolmente i rischi di povertà \\ne di esclusione sociale: il tasso AROPE per le \\npersone di origine straniera (34,2  %) è risultato \\nsostanzialmente pi ù alto di quello delle persone \\nnative (20,8  %), e anche il divario nel rischio di \\npovert à lavorati va risulta tra i pi ù alti dell'UE \\n(20,8  % contro 8,3  %), un dato che riflette \\nl'elevata prevalenza di contratti atipici. Allo stesso \\ntempo l'incidenza della povertà assoluta(255), \\nmisurata in base ai dati nazionali (ISTAT), è \\nleggermente aumentata passando dall'8,3  % \\ndel 2022 all'8,4  % del 2023. La povert à assoluta è \\n \\n(255) Definita come una famiglia con una spesa mensile pari o \\ninferiore a un paniere di beni e servizi considerati essenziali \\nper evitare gravi forme di esclusione sociale.  più elevata nelle isole (10,2  %) e al Sud (10,2  %), \\nmentre è inferiore nel Centro (6,7  %).\", 'b69e2c9c-7ceb-48ca-bbe5-eebf67ff2e49': \"Allo stesso \\ntempo l'incidenza della povertà assoluta(255), \\nmisurata in base ai dati nazionali (ISTAT), è \\nleggermente aumentata passando dall'8,3  % \\ndel 2022 all'8,4  % del 2023. La povert à assoluta è \\n \\n(255) Definita come una famiglia con una spesa mensile pari o \\ninferiore a un paniere di beni e servizi considerati essenziali \\nper evitare gravi forme di esclusione sociale.  più elevata nelle isole (10,2  %) e al Sud (10,2  %), \\nmentre è inferiore nel Centro (6,7  %). La povert à \\nassoluta è inoltre pi ù elevata tra le famiglie con \\nalmeno un membro straniero (30,4  %), ment re si \\nattesta al 6,3  % per le famiglie composte \\nesclusivamente da cittadini italiani(256). \\nEsaminando le tre componenti del tasso AROPE, il \\ntasso di rischio di povertà (AROP) è rimasto stabile \\nal 18,9  %, al di sopra della media UE (16,2  %). \\nAnche la percentuale di persone in condizioni di \\ngrave deprivazione materiale e sociale è rimasta \\nstabile (4,6  %) e al di sotto della media UE (6,4  %), \\nmentre la percentuale di persone che vivono in \\nfamiglie con un'intensità di lavoro molto bassa è \\naumentata di 0,3 punti percentuali, determinando \\nl'aumento del tasso AROPE.  \\nGrafico  A11.1 - AROPE e sue componenti  \\n  \\nFonte:  Eurostat, indagine UE -SILC (ilc_peps01n, ilc_li02, \\nilc_mdsd11, ilc_lvhl11n).  \\nLa povertà infantile è leggermente diminuita, \\nma rimane elevata.  Nel 2024 il tasso AROPE per \\ni minori è rimasto stabile al 27,1  %, come \\nnel 2019, mentre la media UE è diminuita \\ndi 0,6 punti percentuali, attestandosi al 24,2  %. \\nSebbene negli anni precedenti il divario con il resto \\ndell'UE si stesse colmando, grazie a un calo più \\nrapido del tasso, l'Italia non ha fissato un obiettivo \\nnazionale di riduzione della povertà infantile. Al \\nfine di attenuare l'impatto della povertà sui minori, \\nil paese sta attuando la garanzia europea per \\nl'infanzia conformemente al suo piano d'azione del \\n \\n(256) ISTAT, Stabile la povertà assoluta , 2024.  \\n0510152025303540\\n2015\\n2016\\n2017\\n2018\\n2019\\n2020\\n2021\\n2022\\n2023\\n2024%  of \\npopulationIT\\nAt-risk-of-poverty-or-social-exclusion rate\\nAt-risk-of-poverty-or-social-exclusion rate children (<18)\\nAt-risk-of-poverty rate\\nS evere material and social deprivation\\nPeople living in low work intensity households\", 'c00cc63a-082b-4b41-8c8d-ff960a6a6eb5': \"107 marzo 2022. La relazione biennale sull'attuazione \\ndel 2024 mostra progressi in alcuni settori, ad \\nesem pio un aumento della fruizione dei servizi per \\nl'infanzia da parte dei bambini svantaggiati. Allo \\nstesso tempo è necessario comprendere meglio \\nquanti minori bisognosi hanno beneficiato delle \\nmisure. L'attuazione della garanzia europea per \\nl'infanzia è sost enuta dai fondi della politica di \\ncoesione dell'UE e dal dispositivo per la ripresa e \\nla resilienza, anche attraverso la piena attuazione \\ndel piano asili nido per migliorare la disponibilità di \\nstrutture per l'infanzia. Tali misure potrebbero \\navere un impa tto positivo sulla partecipazione \\ndelle madri al mercato del lavoro, dal momento \\nche attualmente lavora solo il 54,8  % delle donne \\ncon figli di et à inferiore ai sei anni (cfr. \\nallegato  10), mentre il 39,4  % dei bambini di et à \\ninferiore ai tre anni è affida to all'educazione e \\ncura della prima infanzia. Secondo le stime del \\nCentro comune di ricerca, estendendo al 50  % la \\ncopertura dei servizi all'infanzia si potrebbe \\naumentare il tasso di partecipazione delle donne e \\naumentare dell'8  % le ore lavorative medie  \\nsettimanali rispetto alle attuali 17,9(257). \\nGrafico  A11.2 - Tassi di rischio di povertà lavorativa  \\n  \\nFonte:  Eurostat, indagine UE -SILC (ilc_iw01, ilc_iw05, \\nilc_iw07, ilc_iw02, ilc_iw03).  \\nLa povertà lavorativa è diminuita, ma i rischi \\nrimangono elevati per i lavoratori \\nscarsamente qualificati, per i cittadini di \\npaesi terzi e per i lavoratori a tempo \\n \\n(257) Stime effettuate dalla  Commissione europea, Centro comune di \\nricerca, sulla base del modello EUROMOD, I6.0+.  parziale.  Nel 2024 il tasso di rischio di povertà \\nlavorativa in Italia è salito al 10,3  % dal 9,9  % \\ndel 2023, una delle percentuali più elevate dell'UE \\ne ben al di sopra della media UE dell'8,2  %. Il \\nrischio è particolarmente grave per i lavoratori \\nscarsam ente qualificati (18,2  %) rispetto a quelli \\ncon istruzione terziaria (4,5  %) e per i cittadini di \\npaesi terzi (23,2  %) rispetto ai cittadini italiani \\n(8,9 %). Tra i fattori chiave che contribuiscono \\nall'elevata povertà lavorativa complessiva figurano \\nuna c rescita dei salari strutturalmente bassa, \\nlegata alla bassa produttività, e una bassa \\nintensità di lavoro dovuta all'occupazione atipica. \\nNel 2024, tra i lavoratori a tempo parziale, \\nil 15,7  % era a rischio di povert à, un valore che \\nindica un miglioramento  significativo rispetto \\nall'anno precedente ma ancora superiore al  12,8  % \\ndell'UE. Per i lavoratori a tempo determinato il \\nrischio di povertà è aumentato di 4,3 punti \\npercentuali, raggiungendo il 20,4  %, a un ritmo \\nsuperiore alla media UE (+  0,8 punti perc entuali, \\n14,2  %).\", 'f94ecd00-b14a-49ea-a792-bc16d6e275dc': \"Nel 2024, tra i lavoratori a tempo parziale, \\nil 15,7  % era a rischio di povert à, un valore che \\nindica un miglioramento  significativo rispetto \\nall'anno precedente ma ancora superiore al  12,8  % \\ndell'UE. Per i lavoratori a tempo determinato il \\nrischio di povertà è aumentato di 4,3 punti \\npercentuali, raggiungendo il 20,4  %, a un ritmo \\nsuperiore alla media UE (+  0,8 punti perc entuali, \\n14,2  %). Inoltre era particolarmente diffuso tra \\ncoloro che lavoravano a bassa intensit à. Più di una \\npersona su tre (36,3  %) con un tempo di lavoro \\ncompreso tra il 20 e il 45  % del potenziale tempo \\nlavorativo totale combinato nell'anno precedente \\nsi è trovata in condizioni di povertà lavorativa. I \\nlavoratori a basso salario sono più vulnerabili, in \\nquanto hanno maggiori probabilità di vivere in \\nfamiglie con membri disoccupati o a bassa \\nintensità di lavoro. L'elevata incidenza di lavori a \\nbassa retr ibuzione e a bassa intensità contribuisce \\na spiegare perché, nonostante i miglioramenti dei \\ntassi di occupazione dopo la pandemia, i livelli di \\npovertà assoluta non sono diminuiti in modo \\nsignificativo.  \\nLe disparità di reddito e le dinamiche \\nsalariali cont inuano a porre sfide \\nsignificative, anche con il calo dell'inflazione.  \\nNel 2024 il reddito del 20  % pi ù ricco della \\npopolazione era 5,53 volte superiore a quello \\ndel 20 % più povero, in aumento rispetto al 2023 \\n(5,27), a fronte di una media UE leggermente in \\ncalo (da 4,72 a 4,66). La disparit à di reddito è \\ndovuta a livelli di occupazione generalmente bassi, \\nche variano notevolmente da una regione all'altra \\n(cfr. allegato 10). Mentre in Italia la disparità di \\nreddito è elevata, il reddito disponibile lordo pro \\ncapite delle famiglie è stato pari al 95,3  % del \\nlivello del 2008 rispetto al 113,6  % nell'UE. Ciò \\nriflette la continua stagnazione salariale in Italia \\nnegli ultimi due de cenni, in quanto la crescita \\nstrutturalmente bassa della produttività del lavoro \\n05101520253035404550\\n2015\\n2016\\n2017\\n2018\\n2019\\n2020\\n2021\\n2022\\n2023\\n2024%  of \\nemployedIT\\nT otal T emporary\\nPart-time Low-qualified\\nNon-E U citizenship Low work-intensity\", '8c8d3cdb-8fad-4ae6-bf35-2f2c02e0fa34': \"108 pone un freno persistente alla crescita salariale. \\nDopo i marcati cali nel 2022 e nel 2023, i salari \\nreali sono aumentati del 2,9  % nel 2024, \\nriflettendo sia il graduale calo dell'inflazione sia \\nl'accelerazione della crescita dei salari nominali, e \\ndovrebbero aumentare anche nel 2025 (cfr. \\nallegato 10). Anche la disuguaglianza in termini di \\nricchezza è elevata, in quanto il 10  % pi ù ricco \\ndella popolazione detiene il 54,6  % del la ricchezza \\nrispetto al 53,4  % della media della zona euro.  \\nI prezzi medi delle abitazioni in Italia sono \\naumentati solo marginalmente nell'ultimo \\ndecennio. Dal 2015 i prezzi delle abitazioni sono \\naumentati di circa il 10  % in termini nominali. Nel \\n2023 s ono cresciuti di appena l'1,3  %, dopo essere \\naumentati rispettivamente del 2,6  % e del 3,8  % \\nnel 2021 e nel 2022. Nel 2024 hanno continuato \\nad aumentare moderatamente (3,9  % nel terzo \\ntrimestre del 2024 su base annua). A livello \\nnazionale i prezzi delle ab itazioni non risultano \\nessere sopravvalutati. Le transazioni immobiliari e \\nle licenze edilizie sono diminuite nel 2023, per \\neffetto dell'adeguamento dell'economia ai tassi \\nipotecari più elevati.  \\nA livello macroeconomico, l'accessibilità \\neconomica degli al loggi è migliorata \\nnell'ultimo decennio.  Nell'ultimo decennio i \\nprezzi delle abitazioni sono cresciuti a un ritmo più \\nlento rispetto al reddito delle famiglie, in media su \\ntutto il territorio italiano e in diversi gruppi di \\nreddito, e il rapporto standardi zzato tra prezzi \\ndelle abitazioni e reddito è diminuito ( - 13 % dal  \\n2015 al 2023). I livelli dei prezzi delle abitazioni \\nsono relativamente bassi rispetto ai livelli di \\nreddito. Tenendo conto del costo del finanziamento \\nipotecario, la capacità di indebitam ento delle \\nfamiglie è migliorata nell'ultimo decennio.  Sebbene \\nil mercato degli affitti sia piuttosto limitato, il \\nrapporto tra nuove locazioni e reddito è aumentato \\nnell'ultimo decennio.  \\nSebbene la percentuale di famiglie che \\nrisentono dell'onerosità ecce ssiva dei costi \\nabitativi rimanga bassa, il sovraffollamento \\ne il disagio abitativo continuano a \\nrappresentare una sfida.  Nel 2024 in Italia il \\ntasso di onerosità eccessiva dei costi abitativi, vale \\na dire la quota delle famiglie in cui i costi abitativi \\nrappresentavano più del 40  % del reddito \\ndisponibile, era pari al 5,1  %, rispetto a una media \\nUE dell'8,2  %. L'onerosità eccessiva degli alloggi è \\npiù elevata per le famiglie a rischio di povertà (21,8  %), ma è comunque inferiore alla media UE \\n(31,1  %). È inoltre pi ù elevata nelle citt à (6,6 %) \\nche nei piccoli centri e nelle aree suburbane \\n(4,7 %) e rurali (3,2  %). Allo stesso tempo tuttavia \\nil tasso di sovraffollamento in Italia è elevato \\n(23,9  %) e ben al di sopra della media UE (16,9  %).\", '6b08dcea-f67e-47ae-9dbd-51fcc2fa52eb': \"L'onerosità eccessiva degli alloggi è \\npiù elevata per le famiglie a rischio di povertà (21,8  %), ma è comunque inferiore alla media UE \\n(31,1  %). È inoltre pi ù elevata nelle citt à (6,6 %) \\nche nei piccoli centri e nelle aree suburbane \\n(4,7 %) e rurali (3,2  %). Allo stesso tempo tuttavia \\nil tasso di sovraffollamento in Italia è elevato \\n(23,9  %) e ben al di sopra della media UE (16,9  %). \\nÈ notevolmente pi ù elevato all'estremità inferiore \\ndella scala del reddito (primo quintile di reddito: \\n33 %), dove risulta superiore alla media UE \\n(27,8  %). Inoltre nel 2023 problemi strutturali \\nquali perdite, umidit à o marciume hanno \\ninteressato il 17,1  % delle abitazioni. Sebbene si \\ntratti comunque di un miglioramento (calo di \\n2,5 punti percentuali rispetto al 2021), il livello di \\ndisagio abitativo è rimasto ancora al di sopra della \\nmedia UE del 15,5  %. L'ultimo censimento parziale \\ndei senza fissa dimora h a avuto luogo nel 2021, \\nquando oltre 96  000 persone sono state \\nidentificate come senzatetto. Allo stesso tempo, \\nl'ultimo piano nazionale degli interventi e dei \\nservizi sociali che riguardava le politiche contro la \\ndeprivazione abitativa è scaduto nel 2023.  Con il \\nsostegno del dispositivo per la ripresa e la \\nresilienza, l'Italia prevede di investire 2,1 miliardi \\ndi EUR fino al 2026 per sostenere la costruzione e \\nla riqualificazione di almeno 10  000 unit à \\nabitative al fine di migliorare e aumentare gli \\nallogg i sociali.  \\nI livelli di povertà energetica e dei trasporti \\nsono bassi.  Nel 2024 l'8,6  % delle persone ha \\nriferito di non essere in grado di riscaldare \\nadeguatamente la propria abitazione, un dato \\nleggermente inferiore alla media UE del 9,2  %. Per \\ncontro, n el 2024 il 4,5  % della popolazione ha \\ndovuto far fronte ad arretrati nel pagamento delle \\nbollette, un valore in leggero aumento rispetto \\nal 4,1 % dell'anno precedente ma comunque ben \\nal di sotto della media UE del 6,9  %. L'Italia sta \\nportando avanti una st rategia nazionale per \\naffrontare la povertà energetica, con particolare \\nattenzione al miglioramento dell'efficienza \\nenergetica degli edifici attraverso ristrutturazioni e \\nattestati di prestazione energetica. Il piano \\nnazionale per l'energia e il clima (PNE C) dell'Italia \\ncomprende anche una serie di misure volte ad \\nattenuare la povertà energetica, tra cui bonus \\nsociali e programmi di efficienza energetica per le \\nfamiglie vulnerabili. Tuttavia tali misure consistono \\nprincipalmente in sovvenzioni ricorrenti, c on \\ninterventi strutturali limitati mirati alle cause \\nprofonde della povertà energetica. L'Italia ha \\nistituito un Osservatorio nazionale della povertà \\nenergetica per monitorare e valutare l'efficacia \\ndelle sue strategie. Il paese prevede inoltre di\", '0ca80e86-5b73-4984-9230-1266930b22fc': \"INNOVAZIONE, CONTESTO IMPRENDITORIALE E \\nPRODUTTIVITÀ  \\n10 Agevolare le attività economiche  \\nLe leggi annuali sulla concorrenza \\nnell'ambito del piano per la ripresa e la \\nresilienza rappresentano un passo \\npositivo verso l'aumento della \\nconcorrenza in una serie di settori, tra cui \\ni servizi. Gli ostacoli all'apertura dei mercati e \\nl'eccesso di regol amentazione delle attività \\nquotidiane delle imprese ostacolano la crescita \\neconomica. Ciò risulta particolarmente \\nevidente nel settore dei servizi (cfr. allegato 4). \\nLa scarsa produttività di questo \\nmacrosettore(6) è in parte attribuibile alla sua \\nspecial izzazione, ma è dovuta anche agli \\nostacoli alla concorrenza che ancora \\npersistono nel settore, soprattutto a livello di \\ncommercio al dettaglio. Garantire \\nl'aggiudicazione competitiva di concessioni e \\ncontratti, anche nelle industrie di rete e nei \\nservizi l ocali e regionali, è fondamentale per \\nl'erogazione efficace ed efficiente dei servizi \\npubblici alle imprese e ai consumatori. \\nSebbene l'adozione delle leggi annuali sulla \\nconcorrenza finora incluse nel piano per la \\nripresa e la resilienza rappresenti un pa sso \\npositivo, la loro rapida attuazione è \\nfondamentale per ridurre effettivamente le \\nbarriere all'ingresso in diversi settori.  \\nUna pubblica amministrazione più \\nefficace e una maggiore semplificazione \\ncontribuiranno positivamente allo \\nsviluppo delle imprese  italiane.  Alla \\ndomanda su come aumentare la fiducia nella \\npubblica amministrazione italiana, il 61  % dei \\ncittadini ha suggerito di ridurre la burocrazia \\n(media UE: 52  %) e il 49  % ha chiesto \\nfunzionari pubblici maggiormente qualificati \\n \\n(6) Studi economici dell'OCSE: Italia 2024 (2024).  (media UE: 30  %) (c fr. allegati 4 e 6). Inoltre, \\nsecondo l'indagine della BEI sugli investimenti, \\nla percentuale di imprese in cui oltre il 10  % \\ndel personale si occupa dei requisiti normativi \\nera pari al 24  %, dato superiore alla media UE \\ndel 17  % (cfr. allegati 4 e 6). Nel  2024 l'Italia \\nha continuato ad attuare la riforma globale del \\npubblico impiego adottata nel 2022 \\nnell'ambito del piano per la ripresa e la \\nresilienza. Il piano prevede altresì misure volte \\na semplificare almeno 600 procedure \\namministrative relative all'in terazione dei \\ncittadini e delle imprese con le pubbliche \\namministrazioni entro il 2026. Al fine di \\nmigliorare il contesto imprenditoriale italiano, \\nresta fondamentale proseguire gli sforzi \\nnell'ambito del piano per la ripresa e la \\nresilienza volti ad attua re le riforme della \\npubblica amministrazione e a semplificare e \\ndigitalizzare le procedure amministrative.  \\nIl sistema giudiziario italiano conserva la \\ntendenza positiva per quanto riguarda il \\nmiglioramento dell'efficienza. Sebbene la \\ndurata prevista dei pr ocessi civili e \\ncommerciali rimanga la più elevata dell'UE \\n(cfr. allegato 4), la durata dei processi e le \\ncause giudiziarie in arretrato continuano a \\ndiminuire.\", 'f23cfbf4-224a-4460-881b-8e18cfff1f82': \"Al fine di \\nmigliorare il contesto imprenditoriale italiano, \\nresta fondamentale proseguire gli sforzi \\nnell'ambito del piano per la ripresa e la \\nresilienza volti ad attua re le riforme della \\npubblica amministrazione e a semplificare e \\ndigitalizzare le procedure amministrative.  \\nIl sistema giudiziario italiano conserva la \\ntendenza positiva per quanto riguarda il \\nmiglioramento dell'efficienza. Sebbene la \\ndurata prevista dei pr ocessi civili e \\ncommerciali rimanga la più elevata dell'UE \\n(cfr. allegato 4), la durata dei processi e le \\ncause giudiziarie in arretrato continuano a \\ndiminuire. Nel corso del 2024, come previsto \\nnel piano per la ripresa e la resilienza, sono \\nstate completa te le procedure di assunzione o \\nproroga per il personale temporaneo degli \\nuffici giudiziari e per il personale tecnico \\namministrativo. A ciò si è aggiunta l'attuazione \\ndi misure specifiche volte a ridurre il tempo di \\nesaurimento e l'arretrato giudiziario c ivile. Nel \\ncomplesso, si prevede che le misure incluse \\nnel piano per la ripresa e la resilienza per i \\ntribunali civili, penali e amministrativi, che si \\navvalgono anche di strumenti digitali, \\nmiglioreranno ulteriormente l'efficienza della \\ngiustizia e l'effi cacia della lotta contro la \\ncorruzione.  \\nL'Italia sta compiendo sforzi significativi \\nper migliorare l'efficienza del proprio\", '5209231e-0fe3-44ad-bce9-ef01b219f24e': \"109 varare u n regime di buoni per sostenere il \\nmiglioramento dell'efficienza energetica nelle \\nfamiglie a basso reddito, anche se resta da \\nverificare il pieno impatto di tali iniziative. Il piano \\nper la ripresa e la resilienza dell'Italia prevede \\nanche uno strumento da  1 381 miliardi di EUR \\ndestinato a sostenere la ristrutturazione per le \\nfamiglie vulnerabili e a basso reddito e ad \\nalleviare la povert à energetica. Anche la povert à \\ndei trasporti è bassa: in Italia la propriet à \\ndell'automobile è generalmente accessibile, anche \\nper le fasce a basso reddito. Nel 2024 la \\npercentuale di italiani che non potevano \\npermettersi un'automobile era del 2,0  %, ben al di \\nsotto della media UE del 5,6  %. Analogamente, \\nnel 2024 la percentuale di persone a rischio di \\npovertà che non posson o permettersi \\nun'automobile era pari al 5,6  %, ossia solo un \\nterzo della media UE (15,9  %). Tuttavia il \\npersistere del predominio delle automobili private \\ne la stagnazione nell'uso dei trasporti pubblici \\nevidenziano sfide nella promozione di sistemi di \\ntrasporto sostenibili e inclusivi.  \\nL'efficacia del regime di protezione sociale \\nsta migliorando, ma permangono lacune in \\ntermini di adeguatezza e copertura.  Nel 2024 \\nl'impatto dei trasferimenti sociali (ad eccezione \\ndelle pensioni) sulla riduzione della pover tà \\nmonetaria è salito al 31,3  % rispetto al 30,5  % \\ndell'anno precedente, convergendo ulteriormente \\ncon la media UE del 34,4  %. Nel 2024 il nuovo \\nregime di reddito minimo dell'Italia, l'assegno di \\ninclusione (AdI), ha sostituito il reddito di \\ncittadinanza ( RdC). L'assegno di inclusione prevede \\ncriteri di ammissibilità più rigorosi, concentrandosi \\nin particolare sulle famiglie con minori, anziani, \\npersone con disabilità o in condizioni di svantaggio \\ne sostenute da servizi sociali o sanitari(258). Mentre \\nnel 2022 l'Italia ha speso 8 miliardi di EUR per il \\nreddito di cittadinanza, la spesa annua prevista per \\nl'assegno di inclusione nel 2024 è stata di  \\n4 miliardi di EUR, il che dimostra notevoli risparmi. \\nSi stima tuttavia che il 40,6  % delle famiglie in \\ncondizi oni di povert à assoluta che percepivano in \\nprecedenza il reddito di cittadinanza sia escluso \\ndall'assegno di inclusione, con un rischio di \\nesclusione più elevato per le famiglie unipersonali, \\nle famiglie senza minori o anziani e le famiglie del \\nnord. Il nu mero di famiglie beneficiarie è diminuito \\ndel 37,6  %, da circa 1 milione (reddito di \\n \\n(258) Come definito dal decreto del ministro del Lavoro e delle \\npolitiche sociali n.  154 del 13 dicembre 2023.  cittadinanza, maggio 2023) a circa 625  000 \\n(assegno di inclusione, maggio 2024), mentre il \\nnumero di individui è diminuito del 28,3  %, da \\ncirca 2,1 milioni a circa 1,5 mil ioni, riducendo \\nnotevolmente la copertura della misura. Le \\nfamiglie pi ù numerose hanno maggiori probabilità \\ndi soddisfare i nuovi requisiti di ammissibilità.\", 'e360aa6e-6c97-4d1c-ab1e-3d7de02cff75': \"Il nu mero di famiglie beneficiarie è diminuito \\ndel 37,6  %, da circa 1 milione (reddito di \\n \\n(258) Come definito dal decreto del ministro del Lavoro e delle \\npolitiche sociali n.  154 del 13 dicembre 2023.  cittadinanza, maggio 2023) a circa 625  000 \\n(assegno di inclusione, maggio 2024), mentre il \\nnumero di individui è diminuito del 28,3  %, da \\ncirca 2,1 milioni a circa 1,5 mil ioni, riducendo \\nnotevolmente la copertura della misura. Le \\nfamiglie pi ù numerose hanno maggiori probabilità \\ndi soddisfare i nuovi requisiti di ammissibilità. A \\ncausa dei criteri di ammissibilità più rigorosi e di \\nuna scala di equivalenza meno generosa, \\nl'assegno di inclusione ha un effetto di riduzione \\ndella povertà più limitato rispetto al reddito di \\ncittadinanza. Mentre il reddito di cittadinanza ha \\nridotto l'indice di incidenza delle famiglie al di \\nsotto della soglia di povertà dal 7,3  % al 6,5  % \\nnel 2019, con l'assegno di inclusione questo \\nsarebbe sceso solo al 7,0  %. Analogamente, il \\nreddito di cittadinanza ha ridotto l'incidenza della \\npovertà assoluta dall'8,9  % al 7,5  % nel 2019, \\nmentre l'assegno di inclusione l'avrebbe abbassata \\nsolo all'8,3  %(259). Allo stesso tempo, l'assegno di \\ninclusione è stato accompagnato dall'introduzione \\ndella misura di attivazione Supporto Formazione e \\nLavoro.  Le persone in età lavorativa che \\nsoddisfano la soglia di reddito per l'assegno di \\ninclusione, ma che non rientrano ne lle categorie \\nammissibili, possono ricevere un importo fisso \\ndi 500 EUR in prestazioni mensili per la durata \\ndella loro partecipazione alle politiche attive del \\nmercato del lavoro, per un massimo di dodici mesi. \\nL'introduzione dell'assegno unico e universa le per i \\nfigli a carico (AUU) nel 2022 mirava a migliorare le \\nreti di sicurezza sociale, a sostenere la genitorialità \\ne potenzialmente ad aumentare il tasso di natalità. \\nTuttavia, per conseguire tali obiettivi e migliorare \\nla partecipazione delle donne all a forza lavoro, \\nsono necessari ulteriori investimenti nei servizi di \\nassistenza e incentivi affinché i padri usufruiscano \\ndel congedo parentale. Poiché l'ammissibilità \\nall'AUU è limitata ai residenti che vivono in Italia \\nda almeno due anni, la Commissione ha avviato \\nuna procedura di infrazione nel marzo 2023 e nel \\nluglio 2024, deferendo l'Italia alla Corte di \\ngiustizia dell'Unione europea per violazione dei \\ndiritti dei lavoratori mobili.  \\nMolti lavoratori autonomi e lavoratori atipici \\nregistrano di fatto lac une nell'accesso alla \\nprotezione sociale. I lavoratori autonomi e quelli \\ncon contratti atipici, che rappresentano una quota \\nelevata della forza lavoro totale in Italia, molto \\nsuperiore alla media UE, registrano lacune \\n \\n(259) L'analisi della Commissione si basa sul sostegno scienti fico \\ndella European Social Policy Analysis Network (ESPAN).\", 'e9f2329b-9ed7-4bf0-b1e3-86c5244d61ba': \"110 nell'accesso alla protezione sociale. Ciò si traduce \\nin bassi tassi di percezione delle prestazioni. Ad \\nesempio, tra i disoccupati, solo il 39,5  % di quelli a \\nrischio di povert à o di esclusione sociale ha \\nricevuto prestazioni sociali, rispetto alla media \\ndel 52,4  % nell'UE.  Analogamente, nel 2 023 solo \\nl'11,7  % dei lavoratori autonomi che erano a \\nrischio di povert à o di esclusione sociale ha \\nricevuto prestazioni sociali, a fronte del 45,4  % dei \\nlavoratori dipendenti. Ci ò contribuisce a un elevato \\ntasso di rischio di povert à per i lavoratori atip ici, \\npari al 20,4  % (UE: 13,3  %) per i lavoratori con \\ncontratto a tempo determinato, una percentuale \\nben al di sopra di quella dei lavoratori con \\ncontratto a tempo indeterminato (6,9  %). Il tasso \\ndi rischio di povert à è inoltre pi ù elevato tra i \\nlavoratori a tempo parziale (15,7  % rispetto \\nal 12,8  % nell'UE) rispetto ai lavoratori a tempo \\npieno (9,0  %). \\nL'invecchiamento della popolazione minaccia \\nl'adeguatezza e la sostenibilità di bilancio del \\nsistema pensionistico.  Gli sviluppi de mografici \\nrappresentano una sfida fondamentale per l'Italia. \\nNel 2024 il paese ha registrato uno dei più elevati \\nindici di dipendenza degli anziani nell'UE (38,4  % \\nrispetto al 33,9  %) e il tasso di fecondit à, pari \\na 1,18, è stato uno dei più bassi dell'UE nonché \\nben al di sotto del tasso di sostituzione di 2,1. La \\npopolazione totale nella fascia di età 25 -49 anni \\ncontinua a diminuire, mentre la fascia di età \\n50-64 anni è la più numerosa dell'UE in termini \\nrelativi. Secondo le previsioni, la popolazione di e tà \\npari o superiore a 65 anni salirà al 33,6  % entro \\nil 2070, con un conseguente drastico aumento \\ndell'indice di dipendenza degli anziani. Di \\nconseguenza si prevede che in futuro le tendenze \\ndemografiche eserciteranno una notevole \\npressione finanziaria sul  sistema pensionistico. La \\npercentuale della spesa pensionistica rispetto al \\nPIL, attualmente tra le più elevate d'Europa, \\npasserà prevedibilmente dal 15,6  % nel 2023 a un \\npicco del 17,3  % nel 2036(260) e dipenderà sempre \\npiù da carriere lavorative prolunga te per garantire \\nsia l'adeguatezza che la sostenibilità di bilancio.  \\nLe tendenze demografiche pesano \\nsull'assistenza a lungo termine.  Sebbene la \\nspesa pubblica per l'assistenza a lungo termine sia \\nsimile alla media UE, una quota maggiore è \\ndestinata ai tra sferimenti di denaro contante \\n \\n(260) EPC-Ageing Working Group, 2024 Ageing report - Italy. piuttosto che ai servizi. Ciò ha portato a una \\ncopertura limitata dei servizi: solo il 3  % circa delle \\npersone di et à pari o superiore a 65 anni ha \\naccesso a strutture residenziali e il 5  % \\nall'assistenza domiciliare.\", '348011f5-69ac-45ff-b4af-bca6dbb92669': \"Le tendenze demografiche pesano \\nsull'assistenza a lungo termine.  Sebbene la \\nspesa pubblica per l'assistenza a lungo termine sia \\nsimile alla media UE, una quota maggiore è \\ndestinata ai tra sferimenti di denaro contante \\n \\n(260) EPC-Ageing Working Group, 2024 Ageing report - Italy. piuttosto che ai servizi. Ciò ha portato a una \\ncopertura limitata dei servizi: solo il 3  % circa delle \\npersone di et à pari o superiore a 65 anni ha \\naccesso a strutture residenziali e il 5  % \\nall'assistenza domiciliare. Il piano  per la ripresa e \\nla resilienza si concentra sul rafforzamento dei \\nservizi di assistenza domiciliare per adulti non \\nautosufficienti, investendo 4,75 miliardi di EUR con \\nl'obiettivo di raggiungere il 10  % degli anziani, e \\nprevede una riforma generale del si stema di \\nassistenza a lungo termine. Introduce inoltre una \\nriforma della non autosufficienza, incentrata \\nsull'integrazione dei servizi sociali e sanitari, anche \\nmediante l'istituzione di sportelli unici e misure per \\nmigliorare l'assistenza domiciliare. La riforma \\nintroduce anche una prestazione per le persone a \\nbasso reddito non autosufficienti come contributo \\nalle spese per i servizi di assistenza. Nonostante \\nqueste iniziative virtuose, alcune misure adottate \\nnel settore dell'assistenza a lungo termine, co me \\nla trasformazione dell'indennità di \\naccompagnamento nella prestazione unica \\nuniversale per la non autosufficienza e \\nl'introduzione del bonus badanti, presentano \\ndiversi limiti. Tra questi figurano la loro natura \\nsperimentale e temporanea senza una chiar a \\npianificazione delle misure strutturali, nonché \\nl'ambito di applicazione limitato.\", '03a0719f-b9a8-4e4f-9d3d-3b5156c3f4d7': \"ALLEGATO 12: ISTRUZIONE E COMPETENZE  \\n111 Il sistema italiano di istruzione e formazione \\nsi trova ad affrontare sfide strutturali di \\nlunga data che ostacolano lo sviluppo delle \\ncompetenze.  Le sfide legate alla qualità, \\nall'equità e alla pertinenza  dell'istruzione e della \\nformazione per il mercato del lavoro e le ampie \\ndisparità regionali si traducono in un \\ndisallineamento tra domanda e offerta di \\ncompetenze e in tassi significativi di \\ndisoccupazione e inattività giovanili (cfr. \\nallegato  10). Le car enze nello sviluppo delle \\ncompetenze iniziano in età precoce, con una \\nscarsa partecipazione dei bambini svantaggiati a \\nun'educazione e cura della prima infanzia di \\nqualità, e continuano con livelli disomogenei di \\ncompetenze di base a seconda dell'area \\ngeografica e del tipo di scuola, bassi tassi di \\nistruzione terziaria e partecipazione limitata \\nall'apprendimento degli adulti. Tutto ciò nuoce alla \\ncapacità di innovazione e alla competitività \\ndell'Italia.  \\nLa scarsa partecipazione dei bambini più \\npiccoli, sopr attutto provenienti da contesti \\nsvantaggiati, all'educazione e cura della \\nprima infanzia incide sull'apprendimento di \\nbase e aumenta le disuguaglianze.  La \\npartecipazione dei bambini di età inferiore a tre \\nanni all'educazione e cura formale è in aumento, \\nma è fortemente influenzata dal luogo di \\nresidenza e dal contesto socioeconomico. Nel  2024 \\nla percentuale di bambini nella fascia di \\netà 0-2 anni iscritti a strutture di educazione e \\ncura formale ha raggiunto il 39,4  %, in aumento \\ndi 4,9 punti percentuali ri spetto al 2023. Il tasso è \\nora in linea con la media UE, pari al 39,2  %, e si \\nsta avvicinando al nuovo obiettivo di Barcellona \\ndel 41,7  % entro il 2030, dopo una chiara \\ntendenza al rialzo negli ultimi anni. Tale tendenza \\nè riconducibile alla combinazione di politiche \\ngovernative a sostegno delle famiglie e bassi tassi \\ndi natalit à, che ha determinato la riduzione del \\ndivario tra la domanda e l'offerta di strutture di \\nassistenza all'infanzia.  Permangono tuttavia \\ndisparità, in  particolare tra il nord e il sud e tra i \\ngrandi comuni urbani e i piccoli comuni periferici, \\ndove la domanda bassa e frammentata ostacola \\ntradizionalmente lo sviluppo dei servizi di \\nassistenza all'infanzia. Inoltre i tassi di \\npartecipazione dei bambini di  età 0 -2 anni \\naumentano con il reddito familiare(261) e il livello di \\n \\n(261) OCSE, Education at a Glance , 2024.  istruzione e lo status occupazionale dei \\ngenitori(262), compromettendo la capacità \\ndell'educazione e cura della prima infanzia di \\ncompensare gli svantaggi.  \\nIl governo sta affrontando gli s quilibri \\nregionali nella partecipazione e nella \\nfornitura di servizi.  Nel 2024 l'Italia ha \\nrilanciato l'attuazione dell'iniziativa prevista dal \\npiano per la ripresa e la resilienza volta ad \\nampliare l'offerta di educazione e cura della prima \\ninfanzia, dopo  che l'approccio iniziale basato su \\ngare a procedura aperta dei comuni aveva \\nprodotto risultati limitati(263).\", 'cb2a2d49-196e-45a1-abce-a4db08cda1a1': \"Il governo sta affrontando gli s quilibri \\nregionali nella partecipazione e nella \\nfornitura di servizi.  Nel 2024 l'Italia ha \\nrilanciato l'attuazione dell'iniziativa prevista dal \\npiano per la ripresa e la resilienza volta ad \\nampliare l'offerta di educazione e cura della prima \\ninfanzia, dopo  che l'approccio iniziale basato su \\ngare a procedura aperta dei comuni aveva \\nprodotto risultati limitati(263). Il ministero \\ndell'Istruzione e del merito è passato a un \\napproccio dall'alto verso il basso, individuando \\ndirettamente i comuni che hanno maggiore  \\nnecessità di rafforzare l'offerta di assistenza \\nall'infanzia e assegnando i fondi di conseguenza. \\nL'obiettivo è incoraggiare i comuni con gravi \\ncarenze nell'offerta di servizi per la prima infanzia \\na costruire nuovi asili nido pubblici. Tuttavia non \\ntutti i comuni ammissibili partecipano al \\nprogramma.  \\nL'abbandono scolastico continua a diminuire, \\nma persistono ampie disuguaglianze nei \\nrisultati scolastici che penalizzano parte \\ndella popolazione.  Nel 2024 la percentuale di \\ngiovani di età compresa tra i 18 e i 24 anni che \\nabbandonano prematuramente l'istruzione e la \\nformazione è scesa al 9,8  % (media UE: 9,3  %) \\nrispetto al 15  % del 2014. Se tale tendenza \\npositiva continuer à, l'Italia si troverà sulla buona \\nstrada per raggiungere l'obiettivo UE di un tasso di \\nabbandono precoce dell'istruzione e della \\nformazione inferiore al 9  % entro il 2030. Con una \\ntendenza al ribasso dell'abbandono scolastico, \\noccorre spostare l'attenzione verso il \\nmiglioramento dei risultati scolastici complessivi. \\nL'indagine 2022 del progra mma dell'OCSE per la \\nvalutazione internazionale degli studenti (PISA) \\nmette in luce differenze significative nelle \\ncompetenze di base tra le aree geografiche e i tipi \\ndi scuola. Il nord del paese presenta la percentuale \\npiù bassa di studenti con risultati scarsi (18  %) e \\nla percentuale pi ù alta di studenti con risultati \\n \\n(262) ISTAT, I servizi educativi per l'infanzia in un'epoca di profondi \\ncambiamenti , 2023.  \\n(263) Il piano per la ripresa e la resilienza riveduto dell'Italia \\nprevede 150  480 posti per l'educazione e cura della prima \\ninfanzia entro giugno 2026 anziché 264  480 entro \\ndicembre  2025.\", '60e1caef-cb0f-465b-bc16-cb80012c7a82': \"112 elevati (circa il 9  % nel nord -est e il 12  % nel nord -\\novest) in matematica. Per contro, nel sud quasi la \\nmetà di tutti gli studenti (46  %) non consegue le \\ncompetenze di base e meno del 3  % raggiunge \\nlivelli di eccellenza. Anche i risultati variano a \\nseconda del tipo di scuola: gli studenti del liceo \\nottengono punteggi più elevati rispetto agli \\nstudenti di istituti tecnici e professionali e hanno \\nmaggiori probabilità di raggiungere un rendimen to \\neccellente (11  %), sebbene tuttora quasi un quinto \\n(19 %) di essi non consegua le competenze di \\nbase. Destano particolare preoccupazione gli \\nistituti professionali, nei quali la percentuale di \\nstudenti con risultati di eccellenza è quasi \\ninesistente (0, 1 %), mentre quella di studenti con \\nrisultati insufficienti è superiore al 60  %, due volte \\nla media nazionale.  \\nSono necessari ulteriori sforzi per creare una \\nforza lavoro altamente qualificata nel \\nsettore dell'insegnamento in grado di \\nmigliorare le compete nze dei giovani.  Vi è una \\nnotevole discrepanza geografica e in termini di \\nmaterie tra l'offerta di insegnanti qualificati idonei \\nad essere assunti con contratto a tempo \\nindeterminato e il fabbisogno di personale delle \\nscuole. Ciò è dovuto al fatto che le r etribuzioni \\nrelativamente basse e la mancanza di prospettive \\ndi carriera rendono l'insegnamento relativamente \\npoco attraente per molti laureati, in particolare \\nnelle materie STEM (scienza, tecnologia, ingegneria \\ne matematica), che hanno migliori prospettiv e di \\ncarriera in altri settori. Il risultato sono carenze in \\nalcune materie e regioni e un eccesso di offerta in \\naltre. Le carenze sono più gravi in discipline quali \\nscienza e matematica, le lingue straniere e il \\nsostegno all'apprendimento e colpiscono \\nprincipalmente il nord del paese. Negli ultimi anni, \\nsoltanto la metà dei posti vacanti all'inizio di ogni \\nanno scolastico ha potuto essere coperta da \\nnomine permanenti, il che ha portato a un \\ncostante aumento dei contratti a tempo \\ndeterminato e destato preoc cupazioni riguardo alla \\nqualità dell'insegnamento. Una recente riforma \\ndella formazione iniziale e dell'assunzione per gli \\ninsegnanti delle scuole secondarie nell'ambito del \\npiano per la ripresa e la resilienza mira ad \\naffrontare alcuni di questi problemi introducendo \\nuna formazione iniziale specifica per gli aspiranti \\ninsegnanti della scuola secondaria e un chiaro \\npercorso per l'immissione in ruolo.  \\nNegli ultimi anni sono state attuate misure \\nimportanti, ma ulteriori sforzi potrebbero \\naumentare l'attrattiv a dell'istruzione e formazione professionale (IFP) e allineare \\nulteriormente i programmi alle esigenze del \\nmercato del lavoro.  La percentuale di alunni che \\nseguono un'istruzione di livello medio e \\nfrequentano programmi a orientamento \\nprofessionale (51,3  % nel 2023) è diminuita \\ncostantemente nell'ultimo decennio ( - 7,8 punti \\npercentuali rispetto al 2013).\", '276cb80b-5191-4cd6-af47-ce6551981c8a': \"Negli ultimi anni sono state attuate misure \\nimportanti, ma ulteriori sforzi potrebbero \\naumentare l'attrattiv a dell'istruzione e formazione professionale (IFP) e allineare \\nulteriormente i programmi alle esigenze del \\nmercato del lavoro.  La percentuale di alunni che \\nseguono un'istruzione di livello medio e \\nfrequentano programmi a orientamento \\nprofessionale (51,3  % nel 2023) è diminuita \\ncostantemente nell'ultimo decennio ( - 7,8 punti \\npercentuali rispetto al 2013). Sebbene i diplomati \\ndell'istruzione e formazione professionale abbiano \\nbuone prospettive occupazionali, solo il 24,7  % di \\nessi ha partecipato all'apprendim ento basato sul \\nlavoro, il che ne ostacola il passaggio al mondo del \\nlavoro. Si tratta di un dato nettamente inferiore \\nalla media UE del 65,3  % e lontano dall'obiettivo \\ndello spazio europeo dell'istruzione dell'Italia di \\nraggiungere almeno il 60  % entro il 2025. Ci ò \\npotrebbe essere una concausa del tasso di \\noccupazione notevolmente pi ù basso dei diplomati \\ndell'istruzione e formazione professionale di età \\ncompresa tra i 20 e i 34 anni in Italia rispetto \\nall'UE (63,7  % rispetto all'80,0  % nel 2024). I l \\nDecreto Lavoro 2023 promuove l'allineamento alle \\nesigenze del mercato del lavoro introducendo \\npercorsi per le competenze trasversali e per \\nl'orientamento che consentono ai giovani di \\nacquisire le competenze più richieste. Migliora \\ninoltre la trasparenza e l'accesso alla \\ncertificazione, convalidando le competenze non \\nformali e informali e promuovendo la crescita \\nprofessionale e l'occupabilità. Nel 2022, attraverso \\nil piano per la ripresa e la resilienza, l'Italia ha \\nanche riformato il sistema di istruzione  e \\nformazione professionale con l'obiettivo di \\naumentare il coinvolgimento del settore privato \\nnell'istruzione e formazione professionale (istituti \\ntecnici e professionali) al fine di allinearla meglio \\nalle esigenze del mercato del lavoro, ponendo \\nl'accent o sull'apprendimento basato sul lavoro e \\nsulla collaborazione con le imprese. Una migliore \\ngovernance e collaborazione tra i portatori di \\ninteressi a livello nazionale, regionale e locale, ad \\nesempio attraverso piattaforme di coordinamento \\ne meccanismi di monitoraggio condivisi, potrebbe \\ncontribuire a superare le sfide nell'attuazione delle \\npolitiche in materia di istruzione e formazione(264). \\nIl settore dell'istruzione terziaria non \\naccademica è in fase di ulteriore sviluppo per \\ndotare i diplomati delle com petenze tecniche \\ndi alto livello richieste dalle transizioni verde \\ne digitale. Il governo ha attuato una serie di \\n \\n(264) Cedefop, Implementing European priorities in VET , 2024.\", '072c5a3a-2e6d-4a35-9502-5f79e7b27d13': \"113 riforme per rafforzare il sistema di istruzione \\nterziaria a orientamento professionale (ITS \\nAcademy), principalmente attraverso investimenti \\nnel dispositivo per la ripresa e la resilienza. Sta \\ninoltre riformando l'istruzione secondaria superiore \\ntecnica e professionale, collegandola direttamente \\nal sistema degli ITS Academy per creare un unico \\npercorso tecnico -professionale che porti al \\nconsegui mento di un diploma di istruzione \\nterziaria. Gli ITS Academy collaborano \\nstrettamente con le imprese locali, le università, i \\ncentri di ricerca e gli enti locali per fornire una \\nformazione pratica e orientata al lavoro attraverso \\nprogrammi avanzati. Questo  approccio integrato \\nnon solo risponde alle esigenze delle imprese \\nlocali, ma facilita anche l'integrazione \\nprofessionale degli studenti. Una parte \\nsignificativa della formazione comprende tirocini \\nobbligatori, che spesso offrono opportunità \\nall'estero(265). \\nSebbene la percentuale di diplomati \\ndell'istruzione terziaria sia aumentata \\ncostantemente nell'ultimo decennio, l'Italia \\nrimane in notevole ritardo rispetto al resto \\ndell'UE.  Nel 2024 il 31,6  % delle persone di et à \\ncompresa tra i 25 e i 34 anni possedev a un \\ndiploma di istruzione terziaria, in aumento rispetto \\nal 24,2  % del 2014. Sebbene si tratti di un \\nmiglioramento significativo, l'Italia continua a \\nregistrare uno dei tassi più bassi di istruzione \\nterziaria e il divario con l'UE (44,2  % nel 2024) \\nrimane  ampio. Le donne hanno maggiori \\nprobabilit à di conseguire un diploma di istruzione \\nterziaria rispetto agli uomini (38,5  % contro 25  %), \\nmentre il tasso di istruzione terziaria è \\nparticolarmente basso tra la popolazione nata \\nall'estero, a prescindere dal fa tto che sia nata \\nnell'UE (16,4  %) o al di fuori di essa (14,1  %). Ci ò \\nriflette le continue difficolt à sia nell'includere i più \\ngiovani nel sistema di istruzione post -secondaria \\nsia nell'attrarre stranieri altamente qualificati.  \\nLa percentuale di laureati n elle materie \\nSTEM, comprese le TIC, fondamentali per la \\ncompetitività, rimane relativamente bassa.  \\nTra coloro che hanno conseguito un diploma di \\nistruzione terziaria nel 2022, solo il 23,4  % ha \\nottenuto una qualifica STEM, rispetto al 26,6  % \\ndell'UE. La pe rcentuale di donne laureate nelle \\nmaterie STEM (39  %) è superiore alla media UE \\n \\n(265) Ibidem.  (35,4  %) e la percentuale di studenti iscritti alle \\ndiscipline STEM sembra indicare una tendenza \\nstabile: il 24,9  % frequentava il livello terziario \\nnel 2022 (media UE: 27,1  %), ma solo il 2,1  % era \\niscritto alle TIC (UE: 5,2  %), e il 46,5  % frequentava \\nl'istruzione e formazione professionale di livello \\nmedio (UE: 36,2  %). \\nUn diploma di istruzione terziaria offre un \\nvantaggio sul mercato del lavoro, ma la \\ntransizione verso l'occupazione rimane \\nproblematica.\", '0b8e8676-ba3a-463c-8922-96afa94d66c6': \"La pe rcentuale di donne laureate nelle \\nmaterie STEM (39  %) è superiore alla media UE \\n \\n(265) Ibidem.  (35,4  %) e la percentuale di studenti iscritti alle \\ndiscipline STEM sembra indicare una tendenza \\nstabile: il 24,9  % frequentava il livello terziario \\nnel 2022 (media UE: 27,1  %), ma solo il 2,1  % era \\niscritto alle TIC (UE: 5,2  %), e il 46,5  % frequentava \\nl'istruzione e formazione professionale di livello \\nmedio (UE: 36,2  %). \\nUn diploma di istruzione terziaria offre un \\nvantaggio sul mercato del lavoro, ma la \\ntransizione verso l'occupazione rimane \\nproblematica.  Il tasso di occupazione di chi ha \\nottenuto da poco un diploma di istruzione \\nterziaria(266) è migliorato costantemente negli \\nultimi 10 anni, raggiungendo il 77,8  % nel 2024, \\nvale a dire 20,3 punti percentuali in pi ù del 201 5. \\nTuttavia si tratta di un dato ben al di sotto della \\nmedia UE dell'86,7  %. Gli squilibri tra domanda e \\nofferta di competenze e la scarsa domanda di \\nlavoro da parte di un settore produttivo \\ncaratterizzato da piccole e medie imprese sono \\nentrambi fattori a lla base delle prospettive \\noccupazionali relativamente scarse dei laureati \\n(cfr. allegato 10). Il tasso di sovraqualificazione, \\nsebbene in linea con la media UE (21,0  % rispetto \\nal 21,4  %), indica inefficienze nell'adeguamento \\ndelle competenze ai posti di lavoro. Per contro, il \\nsistema degli ITS Academy offre migliori \\nprospettive occupazionali (l'87  % dei diplomati è \\noccupato entro un anno e il 93,8  % ha un posto di \\nlavoro in linea con le proprie qualifiche), ma è \\nancora un erogatore di istruzione di nicchi a, con \\npoco pi ù di 9  000 nuovi studenti iscritti nel \\n2022/23 (lo 0,4  % di tutti gli studenti iscritti \\nall'istruzione terziaria)(267). \\nUn numero crescente di laureati sta \\nlasciando il paese, con una conseguente \\nperdita significativa di talenti e capacità di \\ninnovazione.  Nel 2022 quasi 18  000 laureati di \\netà compresa tra i 25 e i 34 anni si sono trasferiti \\nall'estero, il 23,2  % in pi ù rispetto all'anno \\nprecedente(268). Nello stesso periodo il numero di \\ngiovani laureati che sono tornati in Italia è \\ndiminuito del  18,9  % rispetto al 2021. Questo \\nflusso negativo, pur rappresentando circa il 3  % \\ndel numero annuo di diplomati dell'istruzione \\n \\n(266) Persone (nella fascia di età 20 -34 anni) che hanno \\nconseguito il diploma da 1 a 3 anni prima.  \\n(267) Indire, Monitoraggio nazionale , 2024.  \\n(268) ISTAT, Intensi flussi di immigrazione straniera, in lieve ripresa \\nmobilità interna ed espatri , 2024.\", '9f3d44dd-45a9-44ba-9207-9f26b223dea6': \"114 terziaria, riflette una crescente perdita di persone \\naltamente qualificate, con ripercussioni negative \\nsulla capacità di innovaz ione, sulla produttività e \\nsulla competitività. La percentuale di laureati tra i \\ngiovani espatriati è passata da circa un terzo \\nnel 2013 a quasi il 50  % nel 2022, a riprova di una \\nsfida strutturale in parte alimentata da migliori \\nprospettive occupazionali e salariali all'estero (cfr. \\nallegato 10)(269). Allo stesso tempo, l'Italia si sta \\nanche adoperando per sfruttare al meglio i talenti \\naltamente qualificati in entrata. I diplomati \\ndell'istruzione secondaria e terziaria nati al di fuori \\ndell'UE presentano ta ssi di occupazione molto \\nsimili (68,0  % e 66,8  %), mentre vi è una grande \\ndifferenza per i diplomati autoctoni (68,7  % e \\n83,6  %). Un fattore che contribuisce è il complesso \\nprocesso di riconoscimento delle qualifiche \\nottenute all'estero. La procedura è spesso lunga, \\ncostosa e frammentata nel territorio e tra gli \\nistituti di istruzione terziaria, il che ostacola \\nl'accesso alle opportunità di lavoro.  \\nGrafico  A12.1  - Competenze di base degli adulti in \\nItalia  \\n  \\n(1) Media UE non ponderata degli Stati membri partecipanti.  \\nFonte:  OCSE, Survey of Adult Skills 2023.  \\nGli adulti italiani si trovano ad affrontare \\nsfide persistenti in termini di competenze di \\nbase e digitali.  Nell'indagine dell'OCSE Survey of \\nAdult Skills (2022 -23), gli adulti italiani hanno \\nottenuto un punteggio significativamente inferiore \\nalla media dei paesi dell'UE parteci panti in termini \\ndi alfabetizzazione, calcolo e risoluzione adattiva \\ndei problemi(270). Oltre un terzo degli adulti ha \\ndimostrato di possedere competenze alfabetiche e \\naritmetico -matematiche solo al livello più basso o \\n \\n(269) AlmaLaurea, Condizio ne occupazionale dei Laureati , 2024.  \\n(270) I risultati per l'Italia potrebbero essere soggetti a distorsioni \\ndovute alla mancanza di risposte.  al di sotto di esso (in entrambi i cas i 35 %), mentre \\nquasi la met à (46 %) ha avuto difficolt à a \\nrisolvere problemi adattativi. Questi adulti con \\nrisultati scarsi riescono a eseguire solo compiti di \\nbase, come la comprensione di testi brevi o \\nl'esecuzione di calcoli matematici semplici, il che  \\nevidenzia notevoli lacune nelle competenze \\nfondamentali. Anche le competenze digitali \\ncontinuano a destare preoccupazione. Nel 2023 \\nsoltanto il 45,8  % degli italiani possedeva almeno \\nle competenze digitali di base, rispetto al 55,6  % \\nnell'UE. La percentua le è più elevata (59  %) tra i \\ngiovani (16 -24 anni), ma è ancora bassa rispetto \\nalla media UE del 70  %. Ci ò potrebbe essere \\ncollegato alle sfide di lunga data derivanti dai \\nprogrammi di studio, dalle competenze digitali \\ndegli insegnanti e dalle infrastruttu re per \\nl'istruzione digitale. Il piano per la ripresa e la \\nresilienza finanzia diversi programmi di \\nformazione rivolti ai dipendenti del settore \\npubblico e privato, compresi gli insegnanti, e ai \\npotenziali lavoratori.\", 'b2212e96-f95a-403a-961e-b800cad2723f': \"La percentua le è più elevata (59  %) tra i \\ngiovani (16 -24 anni), ma è ancora bassa rispetto \\nalla media UE del 70  %. Ci ò potrebbe essere \\ncollegato alle sfide di lunga data derivanti dai \\nprogrammi di studio, dalle competenze digitali \\ndegli insegnanti e dalle infrastruttu re per \\nl'istruzione digitale. Il piano per la ripresa e la \\nresilienza finanzia diversi programmi di \\nformazione rivolti ai dipendenti del settore \\npubblico e privato, compresi gli insegnanti, e ai \\npotenziali lavoratori. Le persistenti lacune in \\ntermini di co mpetenze essenziali sottolineano \\nl'urgente necessità di ulteriori iniziative mirate in \\nmateria di istruzione e formazione per dotare gli \\nadulti italiani delle competenze necessarie per le \\nsfide moderne.  \\nLo sviluppo delle competenze è essenziale \\nper la comp etitività, la resilienza e l'equità, \\nalla luce del calo demografico e della \\ncarenza di competenze.  La carenza di \\ncompetenze è indicata dal 66  % delle PMI italiane \\ncome ostacolo alle attivit à imprenditoriali, mentre \\nil 75  % dei datori di lavoro riferisce ch e i candidati \\nnon soddisfano i necessari requisiti di competenza \\nper le posizioni proposte. Poich é i cambiamenti \\ndemografici (cfr. allegato 10) comportano una \\ncontrazione della forza lavoro, oltre due terzi delle \\nPMI hanno riferito di aver migliorato la \\ncollaborazione con i servizi pubblici per l'impiego \\nper facilitare l'assunzione di personale con le \\ngiuste competenze. Le posizioni individuate come \\nle più difficili da occupare nel 2023 riguardavano \\nper lo più la professione di artigiano, richiesta \\nprincipa lmente nel settore edile e industriale, ma \\nanche il settore sanitario(271). In merito alle \\nprofessioni che richiedono livelli di qualifica più \\nelevati, sono state segnalate carenze di \\ncompetenze per tre professioni (rappresentanti di \\ncommercio, supervisori edili e mediatori \\n \\n(271) ELA, EURES Report on labour shortages and surpluses , 2024.  \\n210 220 230 240 250 260 270ItalyEUItalyEUItalyEUProficiency in\\nliteracyProficiency in\\nnumeracyProficiency in\\nadaptive problem\\nsolving\", 'b5350b05-95d6-4bcd-918d-facec1f3ec27': \"115 commerciali). Secondo le proiezioni del Centro \\neuropeo per lo sviluppo della formazione \\nprofessionale (Cedefop), le esigenze occupazionali \\ndell'Italia tra il 2022 e il 2035 richiederanno una \\nforza lavoro con qualifiche medie e d elevate(272). \\nEntro il 2035 saranno necessari circa 6,9 milioni di \\nlavoratori in occupazioni che richiedono \\nun'istruzione di alto livello, oltre a circa 7,5 milioni \\ndi lavoratori in ruoli che richiedono qualifiche di \\nlivello medio. Per contro, saranno ric hiesti solo \\ncirca 900  000 lavoratori con bassi livelli di \\nqualifiche.  \\nLa partecipazione all'apprendimento degli \\nadulti è limitata e in diminuzione, in \\nparticolare tra le persone scarsamente \\nqualificate e quelle distanti dal mercato del \\nlavoro, il che ostac ola ulteriormente la \\ncompetitività.  Nel 2022 solo il 29,0  % degli \\nadulti ha partecipato all'istruzione e formazione \\nformale o non formale, con una netta diminuzione \\n(4,9 punti percentuali) dal 2016, a fronte di una \\nmedia UE in aumento del 39,5  % e ben al d i sotto \\ndell'obiettivo del 60  % fissato dall'Italia per \\nil 2030. La partecipazione è notevolmente più \\nelevata tra le persone con istruzione terziaria \\n(60,2  %) rispetto a quelle con istruzione primaria \\n(10,3  %) o secondaria (28,2  %), a riprova del ruolo \\ndelle qualifiche precedenti nel plasmare \\nl'apprendimento lungo tutto l'arco della vita. I \\nlavoratori con ruoli altamente qualificati, come i \\ndirigenti e i professionisti (55,0  %), hanno maggiori \\nprobabilit à di partecipare alla formazione rispetto \\nagli impiega ti (27,8  %) o agli operai (16,4  %). \\nAnche la situazione occupazionale influenza la \\npartecipazione: i lavoratori dipendenti (34,6  %) \\npartecipano infatti in misura maggiore rispetto alle \\npersone disoccupate o inattive (17,1  %). L'età è un \\naltro fattore criti co, in quanto la partecipazione \\ndiminuisce drasticamente con l'avanzare degli \\nanni: gli adulti di età compresa tra i 25 e i 34 anni \\nregistrano i tassi più elevati (40,1  %), mentre \\nquelli di et à compresa tra i 55 e i  64 anni \\nregistrano i tassi più bassi (22 ,2 %). Tra il  2016 e il \\n2022 la partecipazione è diminuita costantemente \\nin tutti i gruppi. Questi modelli sottolineano la \\nnecessità di ulteriori politiche mirate per ampliare \\nl'accesso all'apprendimento degli adulti, in \\nparticolare per i gruppi vulnerabil i, al fine di \\nsostenere il miglioramento del livello delle \\ncompetenze e la competitività.  \\n \\n(272) Cedefop, Skills forecast 2023 — Italy. Lo sviluppo di competenze verdi è \\nfondamentale per la transizione verde \\ndell'Italia.  La partecipazione all'istruzione e alla \\nformazione (nelle ultime quattro settiman e) da \\nparte dei lavoratori delle industrie ad alta intensità \\nenergetica si attesta al 6,7  %, al di sotto della \\nmedia UE (11,7  % nel 2024). Inoltre nel 2022 solo \\nil 52  % degli italiani riteneva che le proprie \\ncompetenze attuali consentissero loro di \\ncontrib uire alla transizione verde, rispetto al 54  % \\ndell'UE.\", '5146df55-8752-429f-bacb-d87218ec0d6c': \"(272) Cedefop, Skills forecast 2023 — Italy. Lo sviluppo di competenze verdi è \\nfondamentale per la transizione verde \\ndell'Italia.  La partecipazione all'istruzione e alla \\nformazione (nelle ultime quattro settiman e) da \\nparte dei lavoratori delle industrie ad alta intensità \\nenergetica si attesta al 6,7  %, al di sotto della \\nmedia UE (11,7  % nel 2024). Inoltre nel 2022 solo \\nil 52  % degli italiani riteneva che le proprie \\ncompetenze attuali consentissero loro di \\ncontrib uire alla transizione verde, rispetto al 54  % \\ndell'UE. Secondo una recente relazione(273), i ruoli \\nche richiedono competenze verdi sono sempre più \\ndifficili da coprire, il che limita l'impatto degli \\ninvestimenti. I problemi legati alle assunzioni sono \\nparticolarmente gravi nel settore edile, che riceve \\ningenti finanziamenti e si trova ad affrontare \\ndifficoltà persistenti a causa della sua scarsa \\nattrattiva. Nel 2024 sono state segnalate carenze \\nanche in occupazioni che richiedevano competenze \\nspecifiche conn esse alla transizione verde, tra cui \\naddetti alla raccolta di immondizia o materiale \\nriciclabile, specialisti in protezione ambientale e \\narchitetti. Colmare tali lacune è essenziale per \\ngarantire che la forza lavoro sia adeguatamente \\npreparata a sostenere gli obiettivi climatici \\ndell'Italia.  \\n \\n(273) ELA, EURES Report on labour shortages and surpluses 2023 \\n– Country fiche Italy , 2024.\", 'ca82b433-2650-44ca-9764-6f627f7e1a3e': \"ALLEGATO 13: QUADRO DI VALUTAZIONE DELLA SITUAZIONE SOCIALE  \\n116   \\nTabella  A13.1 - Quadro di valutazione della situazione sociale per l'Italia  \\n  \\n(1) Aggiornamento del 5 maggio 2025. Gli Stati membri sono categorizzati in base al quadro di valutazione della situazione \\nsociale secondo una metodologia concordata con il comitato per l'occupazione (EMCO) e il comitato per la protezione sociale \\n(CPS). Per ma ggiori dettagli sulla metodologia, consultare l'allegato della relazione comune sull'occupazione 2025 \\n(https://employment -social -affairs.ec.europa.eu/joint -employment -report -2025 -0). \\nFonte:  Eurostat.  \\n  \\n29,0\\n9,8\\n45,8\\n15,2\\n19,4\\n5,53\\n67,1\\n6,5\\n3,3\\n94,2\\n23,1\\n27,1\\n31,3\\n25,1\\n5,1\\n39,4\\n1,9\\nCritical situation T o watch Weak but improving G ood but to monitor On averageAdult participation in learning (during the last 12 months, excl. guided on \\nthe job training, % of the population aged 25-64, 2022)\\nE qual opportunities and \\naccess to the labour marketSocial Scoreboard for Italy\\nBest performers Better than averageEarly leavers from education and training\\n(% of\\xa0 the population aged 18-24, 2024)\\nYoung people not in employment, education or training\\n(% of the population aged 15-29, 2024)\\nGender employment gap\\n(percentage points, population aged 20-64, 2024)\\nIncome quintile ratio \\n(S80/S20, 2024)\\nDynamic labour markets \\nand fair working  conditions\\nSocial protection and \\ninclusionShare of individuals who have basic or above basic overall digital skills\\n(% of the population aged 16-74, 2023)\\nImpact of social transfers (other than pensions) on poverty reduction\\n(% reduction of AROP, 2024)\\nChildren aged less than 3 years in formal childcare \\n(% of the under 3-years-old population, 2024)\\nSelf-reported unmet need for medical care \\n(% of the population aged 16+, 2024)Disability employment gap \\n(percentage points, population aged 20-64, 2024)\\nHousing cost overburden \\n(% of the total population, 2024)At risk of poverty or social exclusion (AROPE) rate\\xa0\\n(% of the total population, 2024)Employment rate\\n(% of the population aged 20-64, 2024)\\nUnemployment rate\\n(% of the active population aged 15-74, 2024)\\nLong term unemployment\\n(% of the active population aged 15-74, 2024)\\nGross disposable household income (GDHI) per capita growth\\n(index, 2008=100, 2023)\\nAt risk of poverty or social exclusion (AROPE) rate for children\\n(% of the population aged 0-17, 2024)\", 'e3337ab7-ccd1-4170-b2c5-fe43be368b07': \"ALLEGATO 14: SALUTE E SISTEMI SANITARI  \\n117 Il sistema sanitario italiano registra risultati \\nrelativamente buoni, con un'elevata \\naspettativa di vita alla nascita legata a \\nbassi livelli di mortalità imputabile a \\nmalattie curabili e prevenibili. Esistono tuttavia \\nsfide legate all'accessibilità, aggrav ate dalla \\ncarenza di operatori sanitari.  Tali problemi devono \\nessere affrontati se il paese vuole garantire la \\nsalute della popolazione e l'equità sociale, \\nrafforzando nel contempo la competitività \\ndell'economia.  \\nNel 2023 l'aspettativa di vita alla nascita  in \\nItalia è tornata leggermente al di sotto del \\nlivello pre -COVID -19 ed è stata tra le più \\nelevate dell'UE.  Tuttavia esistono divari di genere \\nnei risultati in materia di salute. Sebbene le donne \\nabbiano un'aspettativa di vita di quattro anni \\nsuperiore ag li uomini, tale divario scende a solo \\ncirca otto mesi rispetto agli uomini in buona \\nsalute. La mortalità imputabile a malattie curabili \\nè relativamente bassa in Italia. Le malattie \\ncardiovascolari e il cancro sono le principali cause \\ndi morte, ma con tassi  di mortalità inferiori alla \\nmedia UE.  \\nGrafico  A14.1 - Speranza di vita alla nascita, anni  \\n  \\nFonte:  Eurostat (demo_mlexpec).  \\nLa spesa sanitaria dell'Italia è inferiore alla \\nmedia UE, sia in termini pro capite che come \\nmisura del PIL. Tuttavia tale spesa è in aumento, \\nin quanto la legge di bilancio 2025 ha aumentato \\nil bilancio per l'assistenza sanitaria da 134 miliardi \\ndi EUR a 136,5 miliardi di EUR per il 2025. Circa \\ntre quarti della spesa sanitaria totale sono \\nfinanziati con fondi pubblici (dato inferiore alla \\nmedia UE), utilizzando una combinazione di \\nimposte nazionali e regionali. Le principali \\ncategorie di spesa sono l'assis tenza ambulatoriale \\n(circa il 33  % della spesa sanitaria totale) e \\nl'assistenza ospedaliera (29  %), seguite da prodotti \\nfarmaceutici e dispositivi medici al dettaglio \\n(20 %). Nel 2022 il numero di letti ospedalieri pro capite era inferiore alla media UE. I n Italia i \\npagamenti non rimborsabili rappresentano una \\nquota maggiore della spesa sanitaria rispetto alla \\nmedia UE (22,7  % contro 14,3  %). Quasi la met à di \\ntutti i pagamenti non rimborsabili è destinata \\nall'assistenza ambulatoriale(274). Nell'ambito del \\npiano italiano per la ripresa e la resilienza sono \\nprevisti circa  16,1 miliardi di EUR per le riforme \\nsanitarie e gli investimenti a sostegno. Oltre al \\npiano per la ripresa e la resilienza, nel periodo \\n2021‑2027 sono previsti finanziamenti \\nsignificativi a fa vore dell'assistenza sanitaria (1,7 \\nmiliardi di EUR) nel contesto dei fondi della politica \\ndi coesione dell'UE. Tali fondi mirano a migliorare \\nl'accessibilità, l'efficacia e la resilienza dei servizi \\nsanitari nelle regioni meno sviluppate del paese, \\ncon pa rticolare attenzione al miglioramento \\ndell'accesso per i gruppi vulnerabili (cfr. allegato \\n16)(275).\", '6ec444fe-2b4f-4fa5-b3a2-d7eaf1481962': \"Oltre al \\npiano per la ripresa e la resilienza, nel periodo \\n2021‑2027 sono previsti finanziamenti \\nsignificativi a fa vore dell'assistenza sanitaria (1,7 \\nmiliardi di EUR) nel contesto dei fondi della politica \\ndi coesione dell'UE. Tali fondi mirano a migliorare \\nl'accessibilità, l'efficacia e la resilienza dei servizi \\nsanitari nelle regioni meno sviluppate del paese, \\ncon pa rticolare attenzione al miglioramento \\ndell'accesso per i gruppi vulnerabili (cfr. allegato \\n16)(275). \\nGrafico  A14.2 - Mortalità imputabile a malattie \\ncurabili  \\n  \\nTasso standardizzato di mortalità (mortalità che \\npotrebbe essere evitata grazie a un'assistenza \\nsanitaria di qualità ottimale)  \\nFonte:  Eurostat (hlth_cd_apr).  \\nPer quanto riguarda la sanità pubblica, \\nl'Italia presta particolare attenzione alla \\nprevenzione delle malattie. Nel 2022 la quota \\ndella spesa totale per la sanità destinata alla \\nprevenzione è stata superiore alla media UE. \\nMentre in Italia la mortalità imp utabile a malattie \\nprevenibili è bassa, i tassi di inattività fisica e di \\nfumo giornaliero tra gli adulti sono superiori alla \\nmedia UE (cfr. allegato 15)(276). Inoltre la mortalità \\nlegata all'inquinamento atmosferico è elevata (cfr. \\nallegato 7). I tassi di screening per alcuni tipi di \\n \\n(274) OCSE/Commissione europea (2024), Health at a \\nGlance: Europe 2024:  State of Health in the EU Cycle , \\npagg.  186-187. \\n(275) I dati della politica di coesione dell'UE riflettono la situazione \\nal 15 gennaio 2024.  \\n(276) Health at a Glance:  Europe 2024 , capitolo 4.  \\n83.6\\n82.382.7 82.883.5\\n81.3\\n80.480.180.681.4\\n2019 2020 2021 2022 2023\\nItaly EU\\n65.2 63.7 66.5 64.5 63.591.3 89.2 91.7 93.3 89.7\\n2018 2019 2020 2021 2022per 100 000 population\\nItaly EU\", '1975e3fd-8b08-419d-9ee3-e72d81fb72bd': \"118 cancro (quali il cancro del collo dell'utero) sono \\ninferiori alla media UE(277). Nel 2023 il consumo di \\nantibiotici era ancora al di sopra della media UE, il \\nche suscita preoccupazioni in merito alla \\nresistenza antimicrobica. La  legge di bilancio 2025 \\nha istituito un fondo di 1,2 milioni di EUR per la \\nprevenzione e il trattamento dell'obesità nel 2025, \\nha aumentato il sostegno finanziario per i costi \\ndelle sedute di psicoterapia e ha creato un \\napposito fondo di sostegno psicologi co per gli \\nstudenti.  \\nLe differenze storiche nelle politiche e nei \\nfinanziamenti hanno creato squilibri regionali \\nnell'accesso ai servizi sanitari. Tra le persone \\ncon esigenze mediche, il divario in  termini di \\nesigenze non soddisfatte tra le persone al di sotto \\ne al di sopra della soglia di povertà (definita come \\nil 60  % del reddito equivalente mediano) è molto \\npiù elevato in Italia rispetto alla media UE. Anche il \\ndivario di genere in questo settore  è tra i pi ù \\nelevati dell'UE, con una più alta percentuale di cure \\nmancate per le donne. A partire dal 2023 il piano \\nper la ripresa e la resilienza sostiene le farmacie \\nnei piccoli comuni nel rafforzamento dell'accesso \\nall'assistenza sanitaria nelle zone r urali e remote. \\nInoltre nel luglio 2024 l'Italia ha adottato la legge \\nn. 107 che stabilisce che ciascuna regione \\nnominerà un responsabile sanitario regionale per \\naffrontare le cause dei lunghi tempi di attesa. Più \\ndi recente, la legge di bilancio 2025 ha s tanziato a \\nfavore delle regioni 50 milioni di EUR per il 2025 \\n \\n(277) Health at a Glance: Europe 2024 , pagg.  162-163. e 100 milioni di EUR per il 2026 come incentivi a \\nridurre i tempi di attesa e conseguire gli obiettivi. \\nNel 2024 il parlamento italiano ha inoltre \\napprovato la legge n.  86 sull'autonomia \\ndiffere nziata, che conferisce alle regioni un \\nmaggiore potere legislativo in materia di \\nassistenza sanitaria. Sarà importante monitorare \\ntale legislazione per garantire che non aggravi le \\ndisparità regionali esistenti in termini di accesso \\nall'assistenza sanitari a e risultati ottenuti in tale \\nsettore.  \\nL'Italia si trova ad affrontare carenze di \\noperatori sanitari, il che limita la \\ndisponibilità di assistenza. Da diversi anni la \\ndensità dei medici in Italia è simile alla media UE. \\nTuttavia la distribuzione dei medici è disomogenea \\nsia all'interno del paese che tra le specializzazioni \\nmediche. Circa il 27  % dei medici che esercitano la \\nprofessione ha un'età compresa tra i 55 e \\ni 64 anni e solo  l'11 % ha meno di 35 anni. Ci ò \\nsolleva preoccupazioni in merito all'accessibilità a \\nlungo termine dei servizi sanitari. Nel 2022 l'Italia \\ncontava circa 5,2 specialisti per ogni medico \\ngenerico, a riprova di notevole carenza di medici \\ngenerici rispetto agl i specialisti. Il piano per la \\nripresa e la resilienza sostiene l'assegnazione \\ndi 2 700 borse di studio supplementari in medicina \\ngenerale nel periodo 2021 -2026 per aumentare il \\nnumero di medici generici (cfr. allegato 16).\", 'f54436b9-8eb2-4bd7-b32f-8555a379b7f6': 'Ci ò \\nsolleva preoccupazioni in merito all\\'accessibilità a \\nlungo termine dei servizi sanitari. Nel 2022 l\\'Italia \\ncontava circa 5,2 specialisti per ogni medico \\ngenerico, a riprova di notevole carenza di medici \\ngenerici rispetto agl i specialisti. Il piano per la \\nripresa e la resilienza sostiene l\\'assegnazione \\ndi 2 700 borse di studio supplementari in medicina \\ngenerale nel periodo 2021 -2026 per aumentare il \\nnumero di medici generici (cfr. allegato 16). \\nNel 2022 la densità di infermier i che esercitano la \\nprofessione in Italia era inferiore alla media UE, il \\nche rende difficile ampliare i servizi di assistenza \\nper una popolazione che invecchia (cfr. \\nallegato  11). In Italia gli infermieri non  \\nTabella  A14.1 - Indicatori sanitari principali  \\n  \\n*La media UE è ponderata per tutti gli indicatori ad eccezione dei medici e degli infermieri per 1  000 abitanti, per cui è utilizzata la \\nmedia semplice dell\\'UE sulla base dei dati del 2022 (o di fine 2021) ad eccezione del Lussemburgo (2017). I dati sulla densit à dei \\nmedici si riferiscono ai medici che esercitano la professione in tutti i paesi tranne in Grecia, in Portogallo  (abilitati all\\'esercizio \\ndella professione) e in Slovacchia (professionalmente attivi). Densità di infermieri: i dati si riferiscono agli infermieri c he \\nesercitano la professione (qualifica riconosciuta dall\\'UE) nella maggior parte dei paesi, ad eccezione  di Francia e Slovacchia \\n(professionalmente attivi) e Grecia (solo ospedale). **I \"letti ospedalieri disponibili\" comprendono le cure fisiche ma non l e cure \\npsichiatriche. ***Per i brevetti è utilizzata la mediana dell\\'UE.  \\nFonte:  Banca dati Eurostat; Uffic io europeo dei brevetti; ****Centro europeo per la prevenzione e il controllo delle malattie (ECDC) \\nper il 2023.  \\n \\n2019 2020 2021 2022 2023EU average* \\n(latest year) \\nCancer mortality per 100 000 population 230.9 227.0 221.5 218.7 n.a. 234.7 (2022)\\nMortality due to circulatory diseases per 100 000 population  270.7  281.1  266.9  270.3 n.a. 336.4 (2022)\\nCurrent expenditure on health, purchasing power standards, per capita 2 529 2 622 2 823 2 945 n.a. 3 684.6 (2022)\\nPublic share of health expenditure, % of current health expenditure  73.7  75.9  74.5  74.4  74.0 81.3 (2022)\\nSpending on prevention, % of current health expenditure 4.7 5.5 6.7 6.0 5.3 5.5 (2022)\\nAvailable hospital beds per 100 000 population**  308  310  304  301 n.a. 444 (2022)\\nDoctors per 1 000 population* 4.1 4.0 4.1 4.2 n.a. 4.2 (2022)*\\nNurses per 1 000 population*  6.2  6.3  6.2  6.5 n.a.', 'ebd83e36-3e16-4147-bc7b-5ca18836d59f': '3 684.6 (2022)\\nPublic share of health expenditure, % of current health expenditure  73.7  75.9  74.5  74.4  74.0 81.3 (2022)\\nSpending on prevention, % of current health expenditure 4.7 5.5 6.7 6.0 5.3 5.5 (2022)\\nAvailable hospital beds per 100 000 population**  308  310  304  301 n.a. 444 (2022)\\nDoctors per 1 000 population* 4.1 4.0 4.1 4.2 n.a. 4.2 (2022)*\\nNurses per 1 000 population*  6.2  6.3  6.2  6.5 n.a. 7.6 (2022)*\\nMortality at working age (20-64 years), % of total mortality 10.4 9.8 10.4 9.7 10.1 14.3 (2023)\\nNumber of patents (pharma / biotech / medical technology) 367 369 286 224 329 29 (2023)***\\nTotal consumption of antibacterials for systemic use,                    \\ndaily defined dose per 1 000 inhabitants****21.7 18.4 17.5 21.9 23.1 20.0 (2023)', '4a89ec47-3e95-4311-8d5d-aaf66464a68f': \"11 sistema degli appalti pubblici, ma le sfide \\npermangono.  Oltre all'introduzione di un \\nnuovo codice dei contratti pubblici nel 2023, \\nl'Italia sta progredendo con l'ambiziosa \\nriforma degli appalti pubblici stabilita nel \\npiano per la ripresa e la resilienza (cfr. \\nallegato  4). Tale riforma è volta a semplificare \\nle procedure, aumentare la digitalizzazione e \\nprofessionalizzare gli acquirenti pubblici e, \\nsecondo le previsioni, dovrebbe migliorare la \\nrapidità, la competitività e l'efficienza \\ncomplessiva del sistema italiano degli appalti \\npubblici.  \\nLa diffusione delle r eti di connettività sta \\nprogredendo.  La copertura 5G dell'Italia si è \\nattestata al 99,5  % nel 2023 e rispetto \\nal 2022 ha registrato un aumento di 11 punti \\npercentuali della copertura della rete ad \\naltissima capacità e della fibra fino ai locali \\n(cfr. alleg ato 4). Tuttavia il divario tra zone \\nurbane e rurali persiste e la copertura nelle \\nzone rurali è inferiore al 37,7  % (la media UE è \\ndel 55,6  % per le reti ad altissima capacit à e \\ndel 52,7  % per la fibra fino ai locali). La \\nsensibilizzazione in materia di c ibersicurezza \\nsembra essere diffusa: il 92,9  % delle imprese \\ndispone di alcune misure di sicurezza delle TIC \\n(media UE del 92,8  %) e il 62,7  % mette i \\npropri dipendenti al corrente delle \\nproblematiche relative alla sicurezza delle TIC \\n(media UE del 60  %). \\nRipensare gli investimenti \\nnell'innovazione  \\nIl potenziale di crescita e di innovazione \\ndell'Italia è ostacolato dai limitati \\ninvestimenti pubblici e privati in ricerca e \\nsviluppo.  Nel 2023 la spesa delle imprese a \\nfavore di ricerca e sviluppo è stata la me tà \\nrispetto alla media UE (rispettivamente 0,76  % \\ne 1,9  %). Dal 2001 al 2020 la quota italiana \\ndei brevetti registrati è diminuita sia presso \\nl'Ufficio dei brevetti e dei marchi degli Stati \\nUniti (USPTO), dall'1,0  % allo 0,9  %, sia presso \\nl'Ufficio europeo  dei brevetti (UEB), dal 3,76  % \\nal 3,34  %. I brevetti italiani sono concentrati \\nnelle industrie tradizionali e sono presenti in misura limitata in settori ad alta tecnologia \\ncon maggiori opportunit à di crescita.  \\nMisure volte ad agevolare la crescita \\ndelle imprese e incentivi più mirati \\ncontribuirebbero positivamente agli \\ninvestimenti in ricerca e sviluppo.  Il \\nnumero ridotto di imprese di grandi dimensioni \\nlimita i potenziali investimenti privati in ricerca \\ne sviluppo, con il risultato che le imprese \\nitalian e rappresentano solo lo 0,4  % della \\nspesa dei primi 2  000 investitori in ricerca e \\nsviluppo a livello mondiale, ben al di sotto di \\npaesi comparabili dell'UE come la Germania \\n(8,9 %) o la Francia (2,7  %). Inoltre gli incentivi \\nfiscali dell'Italia a favore di ricerca e sviluppo \\nsono più limitati e meno generosi rispetto a \\nquelli di paesi comparabili dell'UE, il che \\nsignifica che essa dispone di un quadro meno \\nefficace per stimolare gli investimenti privati \\nnell'innovazione(7).\", '5c93691b-6e3a-4596-87cd-363732c2a85d': \"Inoltre gli incentivi \\nfiscali dell'Italia a favore di ricerca e sviluppo \\nsono più limitati e meno generosi rispetto a \\nquelli di paesi comparabili dell'UE, il che \\nsignifica che essa dispone di un quadro meno \\nefficace per stimolare gli investimenti privati \\nnell'innovazione(7). La legge sulla \\nrazional izzazione degli incentivi alle imprese(8) \\nadottata nell'ambito del piano per la ripresa e \\nla resilienza e l'impegno a ridefinire la \\nstrategia industriale nazionale offrono \\nl'opportunità di concentrare il sostegno \\npubblico destinandolo alle imprese innovat ive, \\nche svolgono un ruolo più importante nella \\ncreazione di posti di lavoro e nella crescita \\neconomica(9), nonché alla promozione delle \\nfusioni tra imprese.  \\nLa promozione dei mercati dei capitali \\nitaliani convoglierebbe maggiori risparmi \\nverso investimen ti innovativi e offrirebbe \\nalle imprese una fonte alternativa di \\nfinanziamento. Le banche sono \\ngeneralmente meno adatte al finanziamento \\ndi imprese innovative, in quanto spesso non \\ndispongono delle competenze necessarie per \\ncontrollare efficacemente tali i mprese \\ninnovative e le loro garanzie prevalentemente \\nimmateriali.  Nel 2023 i prestiti bancari \\nrappresentavano il 27,6  % delle fonti di \\nfinanziamento per le imprese non finanziarie \\nitaliane, mentre le azioni e le obbligazioni \\n \\n(7) Banca d'Italia, Innovazione e politiche di sostegno \\npubblico:  un'analisi comparata  (dicembre 2024).  \\n(8) Legge n.  160, ottobre 2023.  \\n(9) Banca d'Italia, Le giovani imprese ad alta crescita in \\nItalia  (ottobre 2024 ).\", 'c515195d-ed70-4608-ad87-ae6e949dec3f': \"119 guadagnano più del salario medio di tutti i \\nlavoratori, cosa che limita l'attrattiva di questa \\nprofessione(278). Sono in corso sforzi per rendere le \\nprofessioni infermieristiche più attraenti attraverso \\nuna revisione degli iter scolastici che prevede \\nl'avvio di programmi di specializzazione \\nnell'assistenza di base familiare e di prossimità, \\nnell'assistenza neonatale e pediatrica, \\nnell'assistenza intensiva e nell'assistenza \\ninfermieristica di emergenza. La legge di bilancio  \\n2025 ha introdotto misure volte a migliorare il \\nmante nimento dei lavoratori chiave e a \\nriconoscerne il contributo, ha aumentato le \\nindennità per vari operatori sanitari, compresa una \\nnuova aliquota forfettaria dell'imposta sul reddito \\ndelle persone fisiche pari al 5  % sulle ore di lavoro \\nstraordinario degli infermieri e aumenti salariali \\nper i tirocinanti in medicina e altri tirocinanti in \\nambito sanitario, con ulteriori aumenti per le \\nspecializzazioni meno attraenti. Nel 2024 l'Italia \\nha inoltre adottato diversi regolamenti per \\naffrontare la questione della violenza contro gli \\noperatori sanitari e proteggerli durante la \\nprestazione di assistenza. L'Italia partecipa altresì \\nall'azione congiunta HEROES nell'ambito di \\nEU4Health, attraverso la quale i paesi dell'UE \\ncondividono conoscenze ed esperienze in materia \\ndi pianificazione del personale sanitario(279). \\nIl sistema sanitario italiano contribuisce in \\nmodo significativo a promuovere \\nl'innovazione e lo sviluppo industriale nel \\nsettore medico dell'UE. L'Italia è tra i paesi \\ndell'UE che registrano la spesa pubblica più \\nelevata per la ricerca e lo sviluppo in ca mpo \\nsanitario (cfr.  allegato  3). Ciò trova riscontro \\nnell'elevato numero di brevetti europei concessi \\nnel 2023 nei settori combinati dei prodotti \\nfarmaceutici, delle biotecnologie e dei dispositivi \\nmedici(280). L'attività di sperimentazione clinica in \\nItalia è tra le più elevate dell'UE(281).  \\nL'Italia prevede di accelerare la \\ndigitalizzazione del suo sistema sanitario, \\ncon un sostegno significativo da parte dei \\nprogrammi dell'UE.  Mentre nel 2024 la \\npercentuale di persone che in Italia ricorrono ai \\nservizi sa nitari online (escluso il telefono) invece \\ndelle consultazioni in presenza (29,3  %) ha \\n \\n(278) Health at a Glance: Europe 2024 , pagg.  196-197. \\n(279) JA HEROES |  Health Workforce Planning Project . \\n(280) Ufficio europeo dei brevetti, Data to download |  epo.org . \\n(281) EMA (2024), Monitoring the European clinical trial s \\nenvironment , pag. 9.  superato la maggior parte dei paesi dell'UE, la \\npercentuale di persone che accedono al proprio \\nfascicolo sanitario personale online (26,9  %) è \\nstata molto vicina alla me dia UE. Nonostante \\nl'implementazione tecnica complessiva del \\nfascicolo sanitario elettronico (cfr. allegato 6) sia \\nsuperiore alla media, il suo utilizzo da parte dei \\npazienti può ancora essere aumentato. I \\nsignificativi investimenti previsti nell'ambito de l \\npiano per la ripresa e la resilienza e della politica \\ndi coesione mirano a promuovere la \\ntrasformazione digitale del settore sanitario in \\nItalia (cfr. allegato 16).\", '94aba995-5200-43d4-b2f5-185ba6e8f6a3': \"9.  superato la maggior parte dei paesi dell'UE, la \\npercentuale di persone che accedono al proprio \\nfascicolo sanitario personale online (26,9  %) è \\nstata molto vicina alla me dia UE. Nonostante \\nl'implementazione tecnica complessiva del \\nfascicolo sanitario elettronico (cfr. allegato 6) sia \\nsuperiore alla media, il suo utilizzo da parte dei \\npazienti può ancora essere aumentato. I \\nsignificativi investimenti previsti nell'ambito de l \\npiano per la ripresa e la resilienza e della politica \\ndi coesione mirano a promuovere la \\ntrasformazione digitale del settore sanitario in \\nItalia (cfr. allegato 16). Le misure comprendono: i) \\naccelerare l'adozione della telemedicina, in \\nparticolare per i pazienti con malattie croniche; ii) \\nmigliorare i sistemi informativi e gli strumenti \\ndigitali sanitari, anche per il parco tecnologico \\nospedaliero; e iii) fornire una formazione sulle \\ncompetenze digitali agli operatori sanitari. Inoltre \\nl'Italia partecipa all'azione congiunta TEHDAS2(282) \\ne riceve sovvenzioni dirette nell'ambito di \\nEU4Health come aiuto all'attuazione dello spazio \\neuropeo dei dati sanitari.  \\n \\n \\n(282) Second Joint Action Towards the European Health Data \\nSpace  – TEHDAS2 - Tehdas\", 'f225b188-4d8a-43c4-9b36-bc8981e7ec7d': \"ASPETTI ORIZZONTALI  \\n ALLEGATO 15: OBIETTIVI DI SVILUPPO SOSTENIBILE  \\n120  \\nIl presente allegato valuta i progressi \\ncompiuti dall'Italia in relazione agli obiettivi \\ndi sviluppo sostenibile (OSS) secondo le \\ndimensioni della competitività, della \\nsostenibilità, dell'equità sociale e della \\nstabilità macroeconomica. I 17 OSS e i relativi \\nindicatori forniscono un quadro strategico \\nnell'ambito dell'Agenda 2030 delle Nazioni Uni te \\nper lo sviluppo sostenibile. L'obiettivo è porre fine \\na tutte le forme di povertà, contrastare le \\ndisuguaglianze e affrontare i cambiamenti \\nclimatici e la crisi ambientale, garantendo nel \\ncontempo che nessuno sia lasciato indietro. \\nL'Unione europea e i suoi Stati membri sono \\nimpegnati a favore di questo storico accordo \\nquadro globale nonché a svolgere un ruolo attivo \\nnel massimizzare i progressi in relazione agli OSS. \\nIl grafico che segue si basa sull'insieme di \\nindicatori dell'UE relativi agli OSS elabo rati per \\nmonitorare i progressi in materia di OSS nell'UE.  L'Italia deve mettersi al passo con la media \\nUE in relazione a tutti gli OSS in materia di \\ncompetitività (OSS 4, 8, 9),  ma sta \\nmigliorando.  La spesa interna lorda a favore di \\nricerca e sviluppo è diminuita e rimane inferiore \\nalla media UE (1,3  % del PIL rispetto al 2,2  % \\nnell'UE nel 2023; OSS 9). Il PIL reale pro capite è \\npressoché allo stesso livello dell'UE (32  810 EUR \\nrispetto a 33  530 EUR nell'UE nel 2024) e gli \\ninvestimenti rappresentano il 22  % del PIL (OSS 8), \\nattestando leggermente al di sopra della media UE \\n(21,7  %). La percentuale di famiglie che \\ndisponevano di una connessione internet ad alta \\nvelocit à nel 2023 ( 59,6  %) è stata marcatamente \\ninferiore alla media UE (78,8  %), nonostante i \\nsignificativi progressi compiuti rispetto al 2019 \\n(30 %) (OSS 9). La percentuale di adulti di et à \\ncompresa tra i 16 e i 74 anni che possiedono \\nalmeno competenze digitali di base è rimasta al di \\nsotto della media UE (45,8  % rispetto al 55,6  % \\nnell'UE nel 2023; OSS 4). L'Italia ha compiuto \\nprogressi per quanto riguarda gli indicatori relativi  \\n \\nGrafico  A15.1 - Progressi rispetto agli OSS in Italia  \\n \\nPer serie di dati dettagliate sui vari OSS, cfr. la relazione annuale Eurostat Sustainable development in the European Union ; per \\ndettagli su esaustivi dati specifici per paese sui progressi a breve termine degli Stati membri: Principali risultati – Indicatori di \\nsviluppo sostenibile - Eurostat (europa.eu) . Uno stato elevato non significa che un paese sia prossimo al raggiungimento di uno \\nspecifico OSS, ma indica che sta fa cendo meglio della media UE. Il punteggio relativo ai progressi è una misura assoluta basata \\nsulle tendenze dell'indicatore negli ultimi cinque anni. Il calcolo non tiene conto dei valori -obiettivo poiché la maggior parte degli \\nobiettivi strategici dell'UE  è valida solo per il livello UE aggregato. A seconda della disponibilità di dati per ciascun obiettivo, non \\ntutti i 17 OSS sono indicati per ciascun paese.\", 'b50d55e4-0ac5-47fc-b9f5-f4a90c0d170b': \"Uno stato elevato non significa che un paese sia prossimo al raggiungimento di uno \\nspecifico OSS, ma indica che sta fa cendo meglio della media UE. Il punteggio relativo ai progressi è una misura assoluta basata \\nsulle tendenze dell'indicatore negli ultimi cinque anni. Il calcolo non tiene conto dei valori -obiettivo poiché la maggior parte degli \\nobiettivi strategici dell'UE  è valida solo per il livello UE aggregato. A seconda della disponibilità di dati per ciascun obiettivo, non \\ntutti i 17 OSS sono indicati per ciascun paese.  \\nFonte:  Eurostat, ultimo aggiornamento del 28 aprile 2025. I dati si riferiscono principalmente al p eriodo 2018 -2023 o al periodo \\n2019 -2024. I dati relativi agli OSS possono variare a seconda della relazione e dei suoi allegati in ragione di date limite divers e.\", '2566718f-7a6e-4c94-ac61-e01296d05b5a': \"121 all'istruzione terziaria e all'apprendimento degli \\nadulti, ma rimane ben al di sotto della me dia UE \\n(OSS 4). Dal piano per la ripresa e la resilienza ci si \\nattende un contributo significativo alla \\ncompetitività, mediante investimenti nella \\ndigitalizzazione della pubblica amministrazione, \\nnella giustizia, nell'istruzione e nella ricerca e nel \\nsetto re turistico e culturale. Anche le misure a \\nsostegno della digitalizzazione e della \\ncompetitività dell'industria manifatturiera nonché \\ndella ricerca e dell'innovazione dovrebbero \\nstimolare la produttività.  \\nL'Italia sta migliorando in relazione alla \\nmaggior  parte degli OSS concernenti la \\nsostenibilità  (OSS 2, 7, 9, 11, 12, 13 e 14) e \\nregistra buoni risultati per alcuni di essi \\n(OSS   2, 6, 7, 12 e 14). Tuttavia si sta \\nallontanando dagli obiettivi per l'indicatore \\nrelativo ad acqua pulita e servizi igienico -\\nsanitari e per quello relativo alla vita sulla \\nterra (OSS 6 e 15). L'Italia deve ancora \\nrimettersi al passo con la media UE degli \\nindicatori relativi a imprese, innovazione e \\ninfrastrutture, città e comunità sostenibili e \\nazione per il clima e vita sulla ter ra (OSS 9, \\n11, 13 e 15). In Italia l'utilizzo circolare dei \\nmateriali è aumentato rispetto al resto dell'UE \\n(20,8  % di materiale in entrata per uso interno \\nrispetto all'11,8  % nell'UE nel 2023), ma tra \\nil 2018 e il 2022 la produzione di rifiuti è \\naumentata  (da 2,8 a 3,2  kg pro capite; OSS 12). \\nSebbene la percentuale di zone marine protette sia \\ninferiore al livello dell'UE (9,7  % rispetto al 12,3  % \\nnell'UE nel 2022), il valore relativo alle acque \\nmarine colpite dall'eutrofizzazione è praticamente \\npari a zero , superando la media UE (0,01  % della \\nzona economica esclusiva rispetto allo 0,4  % \\nnell'UE nel 2024; OSS 14). L'Italia ottiene buoni \\nrisultati in termini di efficienza energetica e \\nconsumo di energia (OSS 7), ma la quota di \\nenergie rinnovabili rimane infer iore a quella \\ndell'UE (19,6  % del consumo finale lordo di \\nenergia rispetto al 24,6  % nell'UE nel 2023; \\nOSS 13). L'Italia si trova inoltre ad affrontare \\nalcune delle maggiori e crescenti perdite \\neconomiche legate al clima (63,5 EUR per abitante \\ncontro 44,8 EUR nell'UE nel 2023; OSS 13). È \\npositivo che le emissioni e gli assorbimenti netti di \\ngas a effetto serra derivanti dall'uso del suolo e \\ndalla silvicoltura stiano migliorando rispetto \\nal 2018 e siano superiori al livello dell'UE \\n(- 177,4  tonnellate di CO2 eq. per km² rispetto \\na - 47 nell'UE nel 2023, OSS 13). Mentre l'Italia registra buoni risultati in termini di produzione \\nagricola sostenibile, le emissioni di ammoniaca \\nprodotte dall'agricoltura rimangono al di sopra \\ndella media UE (23,1  kg per ettaro di superficie \\nagricola utilizzata rispetto ai 18,3  kg nell'UE \\nnel 2022; OSS 2).\", '0b15e548-abb3-41fb-832f-cf0acb871757': \"È \\npositivo che le emissioni e gli assorbimenti netti di \\ngas a effetto serra derivanti dall'uso del suolo e \\ndalla silvicoltura stiano migliorando rispetto \\nal 2018 e siano superiori al livello dell'UE \\n(- 177,4  tonnellate di CO2 eq. per km² rispetto \\na - 47 nell'UE nel 2023, OSS 13). Mentre l'Italia registra buoni risultati in termini di produzione \\nagricola sostenibile, le emissioni di ammoniaca \\nprodotte dall'agricoltura rimangono al di sopra \\ndella media UE (23,1  kg per ettaro di superficie \\nagricola utilizzata rispetto ai 18,3  kg nell'UE \\nnel 2022; OSS 2). La quota di ferrovie e vie \\nnavigabili interne nel trasporto merci è ben \\nlontana dalla media UE (differenza di 9,9 punti \\npercentuali espressa in percentuale del trasporto \\nintern o di merci in tonnellate/km nel 2023; OSS 9). \\nIl tasso di riciclaggio dei rifiuti a livello comunale è \\nsuperiore alla media UE (53,3  % nel 2022 rispetto \\nal 48,2  % nell'UE; OSS 11). L'accesso ai servizi \\nigienico -sanitari è peggiorato: pur restando al di \\nsotto dell'1  %, la percentuale di popolazione che \\nnon dispone di servizi igienici è raddoppiata tra \\nil 2018 e il 2023 (OSS 6). L'impermeabilizzazione \\ndel suolo è aumentata, causando un notevole \\nimpatto ambientale, e la superficie a rischio di \\ngrave erosione d el suolo da parte dell'acqua è \\ndecisamente superiore alla media UE (24,9  % della \\nsuperficie erodibile non artificiale rispetto al 5,3  % \\nnell'UE nel 2016; OSS 2 e 15). Inoltre l'impatto \\ndella siccità sugli ecosistemi è aumentato \\ndal 2018 al 2023 ma rimane a l di sotto dei livelli \\ndell'UE (1,8  % della superficie del paese rispetto \\nal 3,6 % nell'UE nel 2023; OSS 6 e 15) dopo l'anno \\ndi siccità del 2022 (18,2  % della superficie del \\npaese rispetto al 16,2  % nell'UE). I risultati medi in \\ntutte le dimensioni della s ostenibilità ambientale \\nnascondono ampie differenze regionali all'interno \\ndel paese. Il piano per la ripresa e la resilienza \\ncomprende importanti misure che, secondo le \\nprevisioni, dovrebbero sostenere la transizione \\nverde nei settori delle energie rinnova bili, \\ndell'economia circolare, della gestione delle risorse \\nnaturali, della riduzione dei rischi idrogeologici, dei \\ntrasporti sostenibili e dell'efficienza energetica \\ndegli edifici.  \\nL'Italia sta registrando miglioramenti in \\nrelazione a tutti gli OSS relati vi all' equità \\nsociale  (OSS 1, 3, 4, 5, 7, 8, 10) e ottiene \\nbuoni risultati rispetto al resto dell'UE per \\nquanto riguarda la salute e il benessere \\nnonché l'energia pulita e accessibile (OSS 3 \\ne 7). Di contro, deve rimettersi al passo con \\nla media UE per qua nto riguarda la maggior \\nparte degli indicatori (OSS 1, 4, 5, 8 e 10). La \\npartecipazione al mercato del lavoro è migliorata, \\nma permangono ampi divari rispetto alla media \\nUE.\", 'e45b347e-e862-442c-8297-952b0cf0f77a': \"L'Italia sta registrando miglioramenti in \\nrelazione a tutti gli OSS relati vi all' equità \\nsociale  (OSS 1, 3, 4, 5, 7, 8, 10) e ottiene \\nbuoni risultati rispetto al resto dell'UE per \\nquanto riguarda la salute e il benessere \\nnonché l'energia pulita e accessibile (OSS 3 \\ne 7). Di contro, deve rimettersi al passo con \\nla media UE per qua nto riguarda la maggior \\nparte degli indicatori (OSS 1, 4, 5, 8 e 10). La \\npartecipazione al mercato del lavoro è migliorata, \\nma permangono ampi divari rispetto alla media \\nUE. La percentuale di giovani non occupati né \\ninseriti in un percorso di istruzione o formazione è \\nin calo, ma è ancora ben al di sopra della media\", '4d876127-f83e-4000-bea8-0f05f3e78a47': \"122 UE (15,2  % della popolazione di et à compresa tra \\ni 15 e i 29 anni rispetto all'11  % nell'UE nel 2024; \\nOSS 8). Nonostante una percentuale relativamente \\nelevata di donne in posizioni dirigenziali di alto \\nlivello (44,6  % nel 2024 rispetto al 32,6  % nell'UE; \\nOSS 5), il divario di genere nella partecipazione \\ndovuto alle responsabilità di assistenza rimane \\nsuperiore alla media UE (1 punto percentuale a \\nfronte di 0,8 punti percentuali nell'UE nel 2024 \\nnella popolazione di età compresa tra i 20 e \\ni 64 anni; OSS 8) e lo stesso vale per il divario di \\ngenere nei livelli di occupazione (19,4 punti \\npercentuali rispetto a 10 punti percentuali nell'UE \\nnella popolazione di età compresa tra i 20 e \\ni 64 anni nel 2024; OSS 5). In un contesto di basso \\nlivello di istruzione terziaria e di scarsa \\npartecipazione delle donne al mercato del lavoro, \\nla percentuale di donne che conseguono \\nl'istruzione terziaria è superiore a quella degli \\nuomini; il divario è in aumento e s uperiore alla \\nmedia UE (13,5 punti percentuali a fronte \\ndi 11,2  punti percentuali nell'UE nel 2024 nella \\npopolazione di età compresa tra i 25 e i 34 anni; \\nOSS 5). La percentuale di persone occupate a \\nrischio di povertà è leggermente diminuita \\n(12,2  %della popolazione di et à superiore ai 18 \\nanni nel 2018 rispetto al 9,9  % nel 2023) e anche \\ngli infortuni mortali sul lavoro sono leggermente \\ndiminuiti, pur rimanendo superiori alla media UE \\n(2,03 ogni 100  000 lavoratori contro 1,7 nell'UE \\nnel 2022; OSS 8). Le co mpetenze aritmetico -\\nmatematiche sono peggiorate in tutta l'UE: nel \\nperiodo 2018 -2022 la percentuale di studenti con \\nscarsi risultati in matematica tra i quindicenni è \\naumentata di quasi il 7  %, raggiungendo circa \\nil 30 % in Italia e nell'UE (OSS 4). La \\npartecipazione all'educazione della prima infanzia \\nè leggermente diminuita in Italia, mentre è \\nmigliorata a livello UE (93,5  % dei bambini di et à \\npari o superiore a 3  anni rispetto al 94,6  % nell'UE \\nnel 2023; OSS 4). Prevenire l'abbandono precoce \\ndell'istruzi one rimane una sfida, in particolare per \\ngli studenti provenienti da un contesto migratorio \\n(differenza di 18,9 punti percentuali tra \\npopolazione UE e di paesi terzi di età compresa tra \\ni 18 e i 24 anni, a fronte di una differenza di 15,4 \\npunti percentuali  nell'UE nel 2024; OSS 10). \\nL'accesso agli alloggi in termini di costi eccessivi \\n(OSS 1) e all'energia accessibile (OSS 7) è \\nmigliorato in Italia, in quanto la percentuale di \\npopolazione che non è in grado di riscaldare \\nadeguatamente le proprie abitazioni è diminuita, \\nscendendo al di sotto della media UE (9,5  % della \\npopolazione rispetto al 10,6  % nell'UE nel 2023; \\nOSS 7).\", '56e1d56b-ac68-4e3b-91ad-e0dfc82d6939': \"L'accesso agli alloggi in termini di costi eccessivi \\n(OSS 1) e all'energia accessibile (OSS 7) è \\nmigliorato in Italia, in quanto la percentuale di \\npopolazione che non è in grado di riscaldare \\nadeguatamente le proprie abitazioni è diminuita, \\nscendendo al di sotto della media UE (9,5  % della \\npopolazione rispetto al 10,6  % nell'UE nel 2023; \\nOSS 7). La percentuale di persone a rischio di povertà o di esclusione sociale è diminuita ma \\nrimane leggermente superiore a quella dell'UE \\n(22,8 % della popolazione totale nel 2023 a fronte \\ndel 21,3  % nell'UE) e, nonostante una diminuzione \\ndel divario mediano relativo del rischio di povertà, \\nl'Italia rimane leggermente al di sopra della media \\nUE (23,8  % di distanza dalla soglia di povert à \\nrispett o al 23  % nell'UE nel 2023; OSS 1). La \\nsperanza di vita in buona salute alla nascita e la \\npercentuale di persone che si percepiscono come \\nsane sono leggermente aumentate, a fronte di un \\ncalo a livello UE: nel 2018 aveva superato \\ni 16 anni il 73,3  % della p opolazione italiana \\n(contro il 68,6  % della popolazione dell'UE) e \\nnel 2023 il 73,9  % (contro il 67,9  % dell'UE). Allo \\nstesso tempo, l'obesità e la percentuale di famiglie \\nesposte al rumore sono aumentate, pur rimanendo \\ninferiori alla media UE (OSS 3). Sec ondo le \\nprevisioni, le misure del piano per la ripresa e la \\nresilienza in materia di istruzione e formazione, \\npolitiche attive per il mercato del lavoro, coesione \\nsociale e territoriale, servizi sociali e inclusione e \\nparità di genere dovrebbero migliorare  i risultati \\ndell'Italia per quanto riguarda gli OSS relativi \\nall'equità.  \\nSebbene il paese stia migliorando in \\nrelazione a tutti gli OSS relativi alla stabilità \\nmacroeconomica , deve comunque recuperare \\nil ritardo rispetto alla media UE in relazione \\na tutti  tali obiettivi (OSS 8, 16 e 17). L'Italia \\nha compiuto progressi in materia di pace, giustizia \\ne qualità delle istituzioni, conseguendo una \\nsignificativa riduzione dei reati denunciati dalla \\npopolazione, con un risultato che si colloca al di \\nsotto della me dia UE (dall'11,3  % nel 2018 \\nal 6,4 % nel 2023; nell'UE: il 10  % della \\npopolazione totale nel 2023; OSS 16). L'accesso \\nalla giustizia rimane una sfida, con solo il 36  % \\ndella popolazione che percepisce il sistema \\ngiudiziario come indipendente, e la fiducia nelle \\nistituzioni per quanto riguarda la corruzione \\npercepita rimane al di sotto della media UE \\n(OSS  16). Si sono registrati alcuni progressi in \\nrelazione agli indicatori della crescita economica \\nsostenibile e dell'occupazione, ma il paese rimane \\nal di sotto della media UE (OSS 8). Si registra \\nancora una scarsa adozione dei partenariati \\nglobali e continuano a sussistere sfide importanti \\nin materia di debito pubblico (135,3  % del PIL \\nrispetto alla media UE dell'81  % nel 2024; \\nOSS 17).\", 'b67520ad-a52f-45af-a7b0-4185527a699c': \"Si sono registrati alcuni progressi in \\nrelazione agli indicatori della crescita economica \\nsostenibile e dell'occupazione, ma il paese rimane \\nal di sotto della media UE (OSS 8). Si registra \\nancora una scarsa adozione dei partenariati \\nglobali e continuano a sussistere sfide importanti \\nin materia di debito pubblico (135,3  % del PIL \\nrispetto alla media UE dell'81  % nel 2024; \\nOSS 17). Da diverse rifo rme strutturali incluse nel \\npiano per la ripresa e la resilienza ci si attende un \\nmiglioramento della stabilità macroeconomica del\", 'f763d1e5-d858-4abb-aac8-56b086600d7d': \"123 paese, in particolare le riforme della pubblica \\namministrazione e del sistema giudiziario e le \\nmisure di lotta all'evasione f iscale.  \\nPoiché gli OSS costituiscono un quadro generale, \\ntutti i collegamenti con gli OSS pertinenti sono \\nspiegati o raffigurati con icone negli altri allegati.\", 'e96386a3-3796-457d-875e-2d6c7bdab02f': 'ALLEGATO 16: PROGRESSI RELATIVI ALLE RACCOMANDAZIONI SPECIFICHE PER \\nPAESE E ATTUAZIONE DEI FONDI DELL\\'UE  \\n124 L\\'Italia si trova ad affrontare sfide \\nstrutturali in un\\'ampia gamma di settori di \\nintervento, come indicato nelle \\nraccomandazioni specifiche per paese rivolte \\nal paese nell\\'ambito del semestre europeo.  \\nQueste riguardano, tra l\\'altro, la politica fiscale, il \\nfunzionamento del mercato del lavoro e le \\npolitiche volte ad aiutare le persone a trovare \\nlavoro o a rimanere nel mondo del lavoro, le \\ncompetenze e l\\'istruzione, il contesto \\nimprenditoriale, le restr izioni alla concorrenza, lo \\nsviluppo regionale, la pubblica amministrazione, \\ncompresa la capacità di gestire i fondi dell\\'UE, il \\nsistema giudiziario e l\\'energia.  \\nLa Commissione ha valutato le \\nraccomandazioni specifiche per paese per il \\nperiodo 2019 -2024, p rendendo in \\nconsiderazione le misure d\\'intervento finora \\nadottate dall\\'Italia e gli impegni contenuti \\nnel piano per la ripresa e la resilienza.  In \\nquesta fase l\\'Italia ha compiuto almeno \"alcuni \\nprogressi\" in relazione al 94  % delle \\nraccomandazioni specifi che per paese(283) e \\n\"progressi limitati\" in relazione al 4  % \\n(tabella  A16.2).  \\nGli strumenti di finanziamento dell\\'UE \\nforniscono risorse considerevoli all\\'Italia \\nsostenendo gli investimenti e le riforme \\nstrutturali per aumentare la competitività, la \\nsosteni bilità ambientale e l\\'equità sociale, \\ncontribuendo nel contempo ad affrontare le \\nsfide individuate nelle raccomandazioni \\nspecifiche per paese.  Oltre ai 194,4 miliardi di \\nEUR di finanziamenti del dispositivo per la ripresa \\ne la resilienza nel periodo 2021 -2026, i fondi della \\npolitica di coesione dell\\'UE(284) forniscono all\\'Italia \\n42,2 miliardi di EUR (pari a 73,9 miliardi di EUR \\ncon il cofinanziamento nazionale) per il periodo \\n \\n(283) Il 6 % delle raccomandazioni specifiche per paese per il \\nperiodo 2019 -2024 è stato pienamente attuato, il 19  % è \\nstato attuato in modo sostanziale e per il 69  % sono stati \\ncompiuti alcuni progressi.  \\n(284) Nel periodo 2021 -2027 i fondi della politica di coesione \\ncomprendono il Fondo europeo di sviluppo regionale, il Fondo \\nsociale europeo Plus e il Fondo per una transizio ne giusta. Le \\ninformazioni sulla politica di coesione contenute nel presente \\nallegato si basano sui programmi adottati con la data limite \\ndel 5 maggio 2025.  2021 -2027(285) al fine di stimolare la \\ncompetitività e la crescita regionali. Il sos tegno \\ncomplessivo di tali strumenti rappresenta circa \\nl\\'11,1  % del PIL del 2024(286). Il loro contributo ai \\ndiversi obiettivi strategici è illustrato nei grafici \\nA16.1 e A16.2. Questo significativo sostegno si \\naggiunge ai finanziamenti forniti all\\'Italia \\nnell\\'ambito del quadro finanziario pluriennale \\n2014 -2020, che ha finanziato progetti fino \\nal 2023 e ha prodotto notevoli benefici per \\nl\\'economia e la società italiana.', '79daf5a6-6f43-47c6-9190-903df5ce8e83': \"2021 -2027(285) al fine di stimolare la \\ncompetitività e la crescita regionali. Il sos tegno \\ncomplessivo di tali strumenti rappresenta circa \\nl'11,1  % del PIL del 2024(286). Il loro contributo ai \\ndiversi obiettivi strategici è illustrato nei grafici \\nA16.1 e A16.2. Questo significativo sostegno si \\naggiunge ai finanziamenti forniti all'Italia \\nnell'ambito del quadro finanziario pluriennale \\n2014 -2020, che ha finanziato progetti fino \\nal 2023 e ha prodotto notevoli benefici per \\nl'economia e la società italiana.  La selezione dei \\nprogetti nell'ambito dei programmi della politica di \\ncoesione 2021 -2027 h a subito un'accelerazione, \\nma ingenti volumi di investimenti devono ancora \\nessere mobilitati.  \\nIl piano italiano per la ripresa e la resilienza \\nprevede 150 investimenti e 66 riforme per \\nstimolare la crescita sostenibile e affrontare \\ni divari sociali e regio nali. Un anno prima della \\nfine del periodo del dispositivo per la ripresa e la \\nresilienza, l'attuazione è in corso e i fondi sono \\nerogati al 63  %. Attualmente l'Italia ha conseguito \\ncirca il 43  % dei traguardi e degli obiettivi del \\npiano per la ripresa e l a resilienza(287). Sono \\nnecessari sforzi per garantire il completamento di \\ntutte le misure del piano entro il 31 agosto 2026. \\nÈ essenziale che l'Italia acceleri l'attuazione delle \\nriforme e degli investimenti affrontando le sfide \\npertinenti. In particolare,  l'Italia trarrebbe \\nvantaggio dal rafforzamento della capacità \\namministrativa, in special modo a livello locale, e \\ndall'individuazione ed eliminazione tempestiva dei \\npotenziali ritardi.  \\nL'Italia riceve finanziamenti anche da diversi \\naltri strumenti dell'UE , compresi quelli di cui \\nalla tabella A16.1.  In particolare, la politica \\nagricola comune (PAC) fornisce all'Italia un \\ncontributo UE di 28 miliardi di EUR nell'ambito del \\npiano strategico della PAC per il periodo \\n2023 -2027(288). Altri 964 milioni di EUR sono  \\n \\n(285) I programmi di cooperazione territoriale europea (CTE) sono \\nesclusi da questo dato.  \\n(286) I finanziamenti del dispositivo per la ripresa e la resilienza \\ncomprendono sia sovvenzioni che prestiti, a seconda del \\ncaso. I dati relativi al PIL si basano sui dati Eurostat relativi \\nal 2023.  \\n(287) A metà maggio 2025 l'Italia ha presentato sette richieste di  \\npagamento, l'ultima delle quali è in fase di valutazione.  \\n(288) Una panoramica della strategia formalmente approvata \\ndall'Italia per attuare la politica agricola comune dell'UE a\", '62c2ff52-d1e6-499e-9a8c-257969eac596': '125 disponibili nell\\'ambito del Fondo Asilo, migrazione \\ne integrazione (AMIF), insieme allo strumento di \\nsostegno finanziario per la gestione delle frontiere \\ne la politica dei visti e ai fondi per la sicurezza \\ninterna. Sono state inoltre sottoscritte operazio ni \\nper un importo di 4,5 miliardi di EUR(289) \\nnell\\'ambito dello strumento InvestEU sostenuto \\ndalla garanzia dell\\'UE, migliorando l\\'accesso ai \\nfinanziamenti per le operazioni più rischiose in \\nItalia.  \\nGrafico  A16.1 - Distribuzione dei finanziamenti del \\ndispositivo per la ripresa e la resilienza in Italia \\nper settore di intervento  \\n  \\n(1) Ciascun a misura del piano per la ripresa e la resilienza \\ncontribuisce al conseguimento degli obiettivi di due dei sei \\npilastri strategici del dispositivo per la ripresa e la resilienza. Il \\ncontributo primario è indicato nel cerchio esterno, mentre il \\ncontributo s econdario è indicato nel cerchio interno. Ciascun \\ncerchio rappresenta il 100  % dei fondi del dispositivo per la \\nripresa e la resilienza. Pertanto il contributo totale a tutti i \\npilastri indicato in questo grafico ammonta al 200  % dei fondi \\ndel dispositivo per la ripresa e la resilienza assegnati.  \\nFonte:  Commissione europea.  \\n \\n \\nlivello nazionale è disponibile al seguente indirizzo: \\nhttps://agriculture.ec.europa.eu/cap -my-country/cap -\\nstrategic -plans/italy_it . \\n(289) I dati riflettono la situazione al 31.12.2024.  Grafico  A16.2 - Distribuzione dei finanziamenti della \\npolitica di coesione tra gli obiettivi strategici in \\nItalia  \\n  \\nFonte:  Commissione europea.  \\nI fondi della politica di coesione mirano ad \\naumentare la produttività e la competitività \\ndelle imprese italiane e a migliorare il \\ncontesto imprenditoriale.  Il sostegno della \\npolitica di coesione è particolarmente importante \\nper stimolare la competitività e la crescita nelle \\nregioni meno sviluppate dell\\'Italia meridionale, che \\nbeneficiano dei maggiori importi di sostegno. Il \\nFondo europeo di sviluppo regionale (FESR) \\nsosterrà quasi 17  000 piccole e medie imprese \\n(PMI) che investono in competenze per la \\nspecializzazione intelligente, la transizione \\nindustriale e l\\'imprenditorialità e aiuterà quasi  \\n4 000 istituzioni pubbliche a sviluppare servizi, \\nprodotti e processi digitali, migliorando in tal modo \\nanche il contesto imprenditoriale. L\\'Italia sta \\nfacendo ampio ricorso alla piattaforma per le \\ntecnologie strategiche per l\\'Europa (STEP)  al fine di \\nrafforzare la resilienza e la competitività delle sue \\nregioni e ridurre le dipendenze strategiche dell\\'UE \\nnel suo complesso. Ha già stanziato circa 3  miliardi \\ndi EUR per le priorità STEP, di cui circa 2,7 miliardi \\ndi EUR nelle regioni dell\\'Ital ia meridionale per le \\ntecnologie digitali e le tecnologie deep tech \\n(compreso nella regione Campania \"Quantum \\nValley\"), le tecnologie pulite ed efficienti sotto il \\nprofilo delle risorse e l\\'efficienza dei processi \\nproduttivi. Ciò comporterà la riduzione de l \\nconsumo energetico e la promozione dell\\'energia \\nsolare e delle biotecnologie, in particolare per il \\nsettore farmaceutico.', '88f2b957-e3d8-4407-a98e-e60e984af1df': 'Ha già stanziato circa 3  miliardi \\ndi EUR per le priorità STEP, di cui circa 2,7 miliardi \\ndi EUR nelle regioni dell\\'Ital ia meridionale per le \\ntecnologie digitali e le tecnologie deep tech \\n(compreso nella regione Campania \"Quantum \\nValley\"), le tecnologie pulite ed efficienti sotto il \\nprofilo delle risorse e l\\'efficienza dei processi \\nproduttivi. Ciò comporterà la riduzione de l \\nconsumo energetico e la promozione dell\\'energia \\nsolare e delle biotecnologie, in particolare per il \\nsettore farmaceutico. Il Fondo per una transizione \\ngiusta (JTF) si concentra su Taranto (Puglia), per \\naffrontare le sfide derivanti dalla transizione \\nindustriale, e sull\\'area mineraria di Sulcis -\\nIglesiente (Sardegna). In entrambi i territori il \\nFondo sostiene gli investimenti nelle energie \\nrinnovabili e nell\\'ambiente, la diversificazione \\ndell\\'attività economica, la creazione di nuove \\nimprese e le misure di miglioramento del livello \\nGreen transition\\nDigital transformation\\nSmart, sustainable and\\ninclusive growth\\nSocial & territorial cohesion\\nHealth & resilience\\nNext generation\\nSmarter Europe\\nGreener Europe\\nConnected Europe\\nSocial Europe\\nEurope closer to citizens\\nJTF specific objective', 'b44505b8-3576-40dd-8433-faa72c2a6abc': '126 delle competenze e di riqualificazione per i \\nlavoratori colpiti dalla transizione. Il Fondo sociale \\neuropeo Plus (FSE+) sostiene iniziative di \\nmiglioramento del livello delle competenze e di \\nriqualificazione in tutti i settori, de stinando \\ncirca  2 miliardi di EUR (circa il 14  % della \\ndotazione totale del FSE+) allo sviluppo di \\ncompetenze e posti di lavoro verdi in Italia. Importi \\nanaloghi sono destinati agli investimenti nelle \\ncompetenze e nei posti di lavoro digitali. Tali \\nfinanzia menti sono utilizzati anche per sostenere \\nl\\'istruzione post -secondaria tecnica non \\naccademica, concepita per dotare i partecipanti \\ndelle competenze più richieste dalle imprese.  \\nAltri fondi contribuiscono alla competitività \\ndell\\'Italia, ad esempio attravers o inviti aperti \\na presentare proposte. Il meccanismo per \\ncollegare l\\'Europa ha finanziato investimenti \\nstrategici, ad esempio, nelle infrastrutture \\nferroviarie e nella modernizzazione della rete \\nitaliana di trasporto marittimo e per vie navigabili \\ninterne;  nell\\'integrazione del mercato dell\\'energia, \\nla decarbonizzazione del sistema energetico e la \\nsicurezza dell\\'approvvigionamento energetico, in \\nparticolare l\\'interconnettività elettrica; nonché \\nnella capacità, la resilienza e la sicurezza delle \\ndorsali dell e infrastrutture digitali e la promozione \\ndella diffusione del 5G nelle comunità intelligenti. \\nOrizzonte Europa ha sostenuto la ricerca e \\nl\\'innovazione, dai progressi scientifici \\nall\\'espansione delle innovazioni, con priorità \\nassolute in Italia in materia di clima, energia e \\nmobilità e digitale, industria e spazio. In Italia lo \\nstrumento di sostegno tecnico si concentra sulla \\nrealizzazione del potenziale dell\\'IA nel settore \\nfinanziario e sullo sviluppo di un\\'industria turistica \\npiù sostenibile, resiliente e  digitale.  \\nIl piano per la ripresa e la resilienza \\ndell\\'Italia prevede inoltre riforme e \\ninvestimenti ambiziosi per migliorare il \\ncontesto imprenditoriale e la competitività.  \\nNell\\'ambito delle misure oggetto delle richieste di \\npagamento presentate nel cors o dell\\'ultimo anno, \\nsono state attuate importanti riforme per rendere \\npiù efficiente la pubblica amministrazione e il \\nsistema giudiziario. Ciò comprende l\\'assunzione \\ndi 12 000 dipendenti per l\\'ufficio per il processo e \\nin posti tecnici amministrativi al fine di ridurre in \\nmodo significativo gli arretrati giudiziari presso i \\ntribunali amministrativi regionali. L\\'Italia ha inoltre \\nintrapreso riforme per aumentare la concorrenza \\nnei settori dell\\'energia elettrica, della vendita al \\ndettaglio  e farmaceutico e per modernizzare gli appalti pubblici, formando oltre 20  000 funzionari \\npubblici in materia di appalti pubblici e riducendo \\nnotevolmente i tempi di aggiudicazione dei \\ncontratti. Le imprese ricevono un sostegno alla \\ntransizione digitale me diante 147  557 crediti \\nd\\'imposta per investimenti materiali e immateriali. \\nPer quanto riguarda la trasformazione digitale \\ndella pubblica amministrazione, 10  675 \\namministrazioni pubbliche hanno aderito e \\nforniscono servizi attraverso l\\'app \"IO\" (un \\naumento del 251  % rispetto al 2021).', '49114196-e87e-445f-93d3-4f01e02a3498': 'Le imprese ricevono un sostegno alla \\ntransizione digitale me diante 147  557 crediti \\nd\\'imposta per investimenti materiali e immateriali. \\nPer quanto riguarda la trasformazione digitale \\ndella pubblica amministrazione, 10  675 \\namministrazioni pubbliche hanno aderito e \\nforniscono servizi attraverso l\\'app \"IO\" (un \\naumento del 251  % rispetto al 2021).  \\nI fondi dell\\'UE svolgono un ruolo significativo \\nnella promozione della sostenibilità \\nambientale e della transizione verde in Italia \\ndurante l\\'attuale periodo settennale del \\nbilancio dell\\'UE (quadro finanziario \\npluriennale). Nell\\'ambito del suo bilancio per gli \\ninvestimenti verdi di oltre 8,7 miliardi di EUR, il \\nFESR investe più di 1,2 miliardi di EUR in misure \\nper la prevenzione delle catastrofi connesse al \\nclima, la preparazione e la resilienza, con \\nparticolare attenzione ai ri schi idrogeologici e agli \\nincendi boschivi nelle regioni meridionali più \\ncolpite. Il Fondo riduce inoltre la dipendenza dai \\ncombustibili fossili, aumentando la capacità di \\nproduzione di energia rinnovabile di 898  MW \\nattraverso investimenti di piccola e med ia entità, \\npromuovendo l\\'autoconsumo e le comunità di \\nenergia rinnovabile, e migliora la gestione delle \\nacque reflue per oltre 1,5 milioni di persone che \\nrisiedono principalmente nelle regioni meridionali \\ndell\\'Italia. Inoltre il piano strategico della PAC \\ndell\\'Italia stanzia oltre 10 miliardi di EUR per \\ninterventi relativi al clima e all\\'ambiente \\nattraverso 34 regimi volontari che sostengono gli \\nagricoltori applicando pratiche più sostenibili, come \\nla riduzione dell\\'uso di fertilizzanti e pesticidi e le \\npratiche di conservazione del suolo. L\\'Italia stanzia \\nanche circa 2 miliardi di EUR per l\\'agricoltura \\nbiologica.  \\nIl piano per la ripresa e la resilienza \\ndell\\'Italia, compreso il capitolo dedicato a \\nREPowerEU, prevede una serie completa di \\nriforme e investimen ti per la transizione \\nverde. Le misure oggetto delle richieste di \\npagamento presentate nel corso dell\\'ultimo anno \\ncomprendono, tra l\\'altro, la razionalizzazione delle \\nprocedure di autorizzazione per la costruzione di \\nstrutture per la produzione di energia rinnovabile.  \\nL\\'Italia ha inoltre notevolmente ridotto le \\ndiscariche abusive. Il divario regionale tra la media \\nnazionale e le regioni che registrano i risultati', '3bc27a57-eec9-4337-b14c-e65e6dba605a': \"127 peggiori nella raccolta differenziata dei rifiuti è \\nstato ridotto e sono stati effettuati inves timenti \\nsignificativi nelle infrastrutture idriche primarie. \\nL'Italia ha inoltre avviato la costruzione di \\ncollegamenti ferroviari ad alta velocità con il Sud. \\nSono stati aggiudicati contratti per dotare il \\ntrasporto pubblico urbano di almeno \\n231 chilometr i supplementari di nuove \\ninfrastrutture entro il 2026; sono fase di acquisto \\npiù di 3  000 autobus per il trasporto pubblico a \\nemissioni zero; e nelle aree metropolitane sono \\nstati completati 200  km di piste ciclabili.  \\nLa promozione dell'equità, della coesi one \\nsociale e il miglioramento dell'accesso ai \\nservizi di base sono tra le priorità \\nfondamentali dei finanziamenti dell'UE in \\nItalia.  Il sostegno del FESR consentirà l'accesso a \\nstrutture sanitarie nuove o ammodernate per \\noltre  5 milioni di persone all'ann o, in particolare \\nnelle regioni meno sviluppate, migliorando la \\ncapacità del sistema sanitario. Il FSE+ promuove la \\ncoesione sociale in Italia attraverso programmi di \\ninclusione attiva a sostegno delle persone \\nsvantaggiate, migliori servizi sanitari, socia li e di \\nassistenza e un migliore accesso ai servizi per i \\ngruppi vulnerabili e le persone che vivono nelle \\nregioni meno sviluppate. Tra i loro interventi, i \\nprogrammi del FSE+ sosterranno almeno \\n590 000 persone disoccupate, 151  000 persone \\nche non fanno pa rte della forza lavoro, almeno \\n133 000 persone senzatetto o colpite da \\nesclusione abitativa e pi ù di 35  000 persone con \\ndisabilit à(290). Inoltre l'AMIF sostiene l'assistenza \\nsanitaria per i richiedenti e i beneficiari di \\nprotezione internazionale presso i c entri di \\naccoglienza in Italia. Particolare attenzione è \\nrivolta a un'adeguata protezione della salute \\nmentale e fisica dei minori non accompagnati \\nattraverso la creazione di sistemi di percorsi di \\nassistenza per una diagnosi e un'assistenza \\ncorrette.  \\nIl piano per la ripresa e la resilienza \\ndell'Italia prevede diverse riforme e \\ninvestimenti relativi all'equità e alle politiche \\nsociali. Tutti i livelli del sistema di istruzione sono \\nstati rafforzati mediante riforme globali e \\n \\n(290) Una sintesi della strategia formalmente approvata dall'Italia \\nper attuare la politica agricola comune dell'UE a livello \\nnazionale è disponibile al seguente indirizzo: \\nhttps://agriculture.ec.europa.eu/cap -my-country/cap -\\nstrategic -plans/italy_it . investimenti oggetto di richiest e di pagamento nel \\ncorso dell'ultimo anno. Ciò comprende l'assunzione \\ndi insegnanti; la riforma del sistema di formazione \\nprofessionale; borse di studio per più di \\n55 000 studenti in difficoltà socioeconomiche; \\nl'aggiudicazione di contratti per la costruzi one di \\nnuove scuole e la costruzione/ristrutturazione di \\noltre 300 strutture sportive ad uso scolastico. Nel \\nsettore dell'assistenza sanitaria è stata adottata \\nuna normativa volta a rafforzare l'autonomia delle \\npersone con disabilità e sono state intrapres e \\nmisure a sostegno degli anziani non \\nautosufficienti.\", 'af101dd0-e61f-4379-a400-1d912ea60c2e': \"investimenti oggetto di richiest e di pagamento nel \\ncorso dell'ultimo anno. Ciò comprende l'assunzione \\ndi insegnanti; la riforma del sistema di formazione \\nprofessionale; borse di studio per più di \\n55 000 studenti in difficoltà socioeconomiche; \\nl'aggiudicazione di contratti per la costruzi one di \\nnuove scuole e la costruzione/ristrutturazione di \\noltre 300 strutture sportive ad uso scolastico. Nel \\nsettore dell'assistenza sanitaria è stata adottata \\nuna normativa volta a rafforzare l'autonomia delle \\npersone con disabilità e sono state intrapres e \\nmisure a sostegno degli anziani non \\nautosufficienti. L'Italia ha inoltre aumentato il \\nnumero di borse di studio per la medicina generale \\ne sta investendo in soluzioni di telemedicina e \\nnell'innovazione sanitaria per affrontare le sfide \\nriguardanti l'acce sso all'assistenza e la relativa \\nqualità. Per aiutare l'Italia ad attuare il proprio \\npiano per la ripresa e la resilienza, nel 2024 lo \\nstrumento di sostegno tecnico ha fornito \\nassistenza mediante misure volte a migliorare le \\ncompetenze digitali, ad aumenta re la qualità e la \\nresilienza del sistema sanitario e a progettare e \\nattuare il servizio civile universale.\", '14f340fd-2464-4f00-8b9a-b858bc86a5d7': \"128  \\n  \\nTabella  A16.1 - Fondi UE selezionati con dotazioni adottate — dati di sintesi (in milioni di EUR)  \\n \\n  \\n(1) La data limite per i dati sugli esborsi nell'ambito del dispositivo per la ripresa e la resilienza è il 31 maggio 2025.  \\n(2) Le dotazioni della politica di coesione per il periodo 2014 -2020 comprendono gli stanziamenti REACT -EU impegnati nel \\nperiodo 2021 -2022.  \\n(3) Tali importi si riferiscono solo a esborsi effettuati a partire dal 2021 e non comprendono i pagamenti corrisposti allo  Stato \\nmembro prima del 2021. Pertanto le cifre non comprendono la totalità dei pagamenti corrispondenti alla dotazione 2014 -2020. \\nLa data limite per i dati sugli esborsi nell'ambito del FEAMPA e del FEAMP è il 29 aprile 2025. La data limite per i dati sug li \\nesborsi nell'ambito dei fondi della politica di coesione, dell'AMIF, del BMVI e dell'ISF è il 5 maggio 2025.  \\n(4) AMIF - Fondo Asilo, migrazione e integrazione BMVI - Strumento per la gestione delle frontiere e i visti ISF – Fondo sicurezza \\ninterna.  \\n(5) Non sono incluse le spese al di fuori del piano strategico della PAC.  \\n(6) La data limite per i dati sugli esborsi nell'ambito del FEASR è il 5 maggio 2025. Le informazioni sugli esborsi nell'ambi to del \\nFEAGA si basano sulle dichiarazioni degli Stati membri  fino a marzo 2025. Gli esborsi per i pagamenti diretti (FEAGA) sono iniziati \\nnel 2024.  \\nFonte:  Commissione europea.  \\n \\nInstrument/policy Disbursed since 2021   (1)             \\nRRF grants (including the RepowerEU allocation) 46 448.9\\nRRF loans 75 675.2\\nInstrument/policy Allocation 2014-2020 (2) Allocation 2021-2027 Disbursed since 2021 (3)    \\n(covering total payments to the \\nMember State on commitments \\noriginating from both 2014-\\n2020 and 2021-2027 \\nprogramming periods) \\nCohesion policy (total) 45 996.4 42 179.5 33 761.3\\nEuropean Regional Development Fund (ERDF) 27 724.4 26 341.3 20 180.5\\nEuropean Social Fund (ESF, ESF+) and the Youth Employment \\nInitiative (YEI)20 152.2 14 808.6 13 261.7\\nJust Transition Fund (JTF) 1 029.6  319.2\\nEuropean Maritime, Fisheries and Aquaculture Fund (EMFAF) \\nand the European Maritime and Fisheries Fund (EMFF) 537.3  518.2 318.8\\nMigration, border management and internal security - AMIF, \\nBMVI and ISF (4) 748.6  993.4 445.4\\nThe common agricultural policy under the CAP strategic \\nplan (5)Disbursements under the \\nCAP Strategic Plan (6)\\nTotal under the CAP strategic plan 6 842.9\\nEuropean Agricultural Guarantee Fund (EAGF) 5 878.9\\nEuropean Fund for Agricultural Development (EAFRD)  964.0Allocation 2023-2027\\n28 023.5\\n20 763.3\\n7 260.1Allocation 2021-2026 \\n71 779.6\\n122 602\\nFisheries\\nMigration and home affairs\", '220c35d6-67ce-4e2a-ab53-0641b7285238': \"12 quotate rappresentavano solo il  13,3  %, \\nrispetto alla media UE del 23,8  %. Nonostante \\nsi siano registrati alcuni miglioramenti negli \\nultimi anni, nel 2023 il tasso di finanziamento \\ndi mercato in Italia si è attestato al 38,9  %, \\nnettamente al di sotto della media UE \\ndel 49,6  %. La Borsa Italiana continua ad \\navere dimensioni ridotte rispetto agli standard \\ndell'UE, avendo registrato un numero limitato \\ndi nuove quotazioni sul mercato principale \\nnegli ultimi anni. Nel 2023 la capitalizzazione \\ndi mercato era pari al 29,1  % del PIL, mentre \\nla media UE era del 68  %. I recenti sforzi di \\nriforma del quadro del mercato dei capitali \\nrappresentano tuttavia un passo avanti nel \\npromuovere l'efficienza di quest'ultimo, \\nfornendo finanziamenti e agevolando \\nl'espansione di imprese innovative, anche \\nmigliora ndo le opzioni di uscita per gli \\ninvestitori in venture capital e in private equity \\nnelle fasi iniziali.  \\nI cospicui risparmi delle famiglie italiane \\nrappresentano una potenziale fonte di \\nsostegno all'innovazione non ancora \\nsfruttata.  Gli investitori al det taglio in Italia \\nmostrano un approccio prudente in materia di \\ninvestimenti (cfr. allegato 5). Preferiscono \\ninoltre i fondi di investimento agli strumenti di \\ncapitale quotati, il cui livello rimane basso \\nrispetto agli standard dell'UE (cfr. allegato 5). \\nConsiderando i ridotti investimenti pubblici \\nnell'innovazione e il fatto che i fondi di \\ninvestimento e gli assicuratori in Italia tendono \\nad avere una quota maggiore di investimenti \\nobbligazionari, un ulteriore coinvolgimento \\ndiretto o indiretto delle famigli e nel mercato \\nazionario, ad esempio rafforzando i piani di \\nrisparmio individuale, potrebbe dare un \\nnotevole impulso all'innovazione.  \\nIl mercato italiano del venture capital è \\nin crescita, ma presenta dimensioni \\nancora limitate.  Il venture capital è \\nessenzi ale per l'innovazione, in quanto fornisce \\nfinanziamenti ad alto rischio e a lungo \\ntermine, unitamente a sostegno strategico, \\ncompetenze e capacità dirigenziali che \\nconsentono alle start -up di sviluppare ed \\nampliare idee innovative. Nonostante un \\nrecente ca lo dovuto al contesto \\nmacroeconomico (inflazione e tasso di \\ninteresse), per cui il venture capital e il private equity sono scesi allo 0,03  % e allo 0,3  % del \\nPIL nel 2023, l'investimento medio in venture \\ncapital è aumentato di quasi cinque volte \\ndal 2011 -2013 al 2021 -2023. Dal 2020 CDP  \\nVenture Capital, la società veicolo finanziaria \\ndi proprietà dello Stato per l'innovazione, è \\nstata fondamentale per lo sviluppo del \\nmercato, gestendo attivi per 3,35 miliardi di \\nEUR e pianificando investimenti in 50 -70 nuov i \\nfondi di venture capital entro il 2028. \\nNell'ambito del piano per la ripresa e la \\nresilienza, la recente legge sulla concorrenza \\ninoltre sosterrà ulteriormente le start -up \\nspingendo gli investitori istituzionali verso il \\nmercato dei capitali di rischio ( cfr. allegato 5).\", '8a0b064f-8ade-49d8-b571-65c66acfb7d8': \"Dal 2020 CDP  \\nVenture Capital, la società veicolo finanziaria \\ndi proprietà dello Stato per l'innovazione, è \\nstata fondamentale per lo sviluppo del \\nmercato, gestendo attivi per 3,35 miliardi di \\nEUR e pianificando investimenti in 50 -70 nuov i \\nfondi di venture capital entro il 2028. \\nNell'ambito del piano per la ripresa e la \\nresilienza, la recente legge sulla concorrenza \\ninoltre sosterrà ulteriormente le start -up \\nspingendo gli investitori istituzionali verso il \\nmercato dei capitali di rischio ( cfr. allegato 5). \\nNonostante questi sforzi, il mercato continua a \\nessere frammentato e incentrato sulle fasi \\niniziali, il che evidenzia la necessità di un \\nmaggiore sostegno agli investimenti in fase \\navanzata, comprese adeguate opzioni di uscita \\nper gli inv estitori, e di miglioramenti nei quadri \\nrelativi all'azionariato dei dipendenti. Infine, \\nsono presenti margini per rafforzare il \\ncorporate venture capital, un segmento del \\nmercato dei capitali di rischio in cui le grandi \\nsocietà e gli investitori istituzio nali italiani \\nsono riluttanti a investire. In questo settore gli \\nincentivi esistenti per la R&S interna \\npotrebbero essere adeguati in modo da coprire \\ngli investimenti in cui l'attività di ricerca e \\nsviluppo è esternalizzata a una start -up o \\nviene condotta in partenariato con \\nun'università.  \\nLe procedure di appalto pubblico \\npotrebbero svolgere un ruolo chiave nel \\npromuovere la domanda di soluzioni \\ninnovative.  Tuttavia, per quanto riguarda i \\nquadri strategici in materia di appalti per \\nl'innovazione, l'Italia r egistra risultati solo \\nmodesti(10). Il quadro giuridico esistente \\nsostiene vari tipi di appalti, ma manca di \\ndefinizioni complete e di piani d'azione \\nnazionali per promuovere gli appalti per \\nl'innovazione. Permangono sfide nel \\npromuovere la concorrenza, la  trasparenza e lo \\nsviluppo delle capacità, mentre le iniziative \\n \\n(10) Il punteggio dell'Italia è solo del 37  %, ben al di sotto \\ndel punteggio migliore registrato dalla Finlandia (70  %) \\n— Analisi comparativa degli investimenti e dei quadri \\nstrategici in materia di appalti per l' innovazione in tutta \\nEuropa .\", '7d1088ba-b329-4ff5-8553-4b401e546d9e': '129  \\n  \\nTabella  A16.2 - Tabella di sintesi delle raccomandazioni specifiche per paese nel periodo 2019 -2024  \\n  \\n \\n(Continua)  \\nItaly Assessment in May 2025 Relevant SDGs\\n2019 CSR 1 Some progress\\nEnsure a nominal reduction of net primary government expenditure of 0.1% in 2020, \\ncorresponding to an annual structural adjustment of 0.6% of GDP. Use windfall gains to \\naccelerate the reduction of the general government debt ratio.No longer relevant SDGs 8, 16\\nShift taxation away from labour, including byreducing taxexpenditure and reforming the\\noutdated cadastral values.Some progress SDGs 8, 10, 12\\nFight tax evasion, especially in the form of omitted invoicing, including by strengthening the \\ncompulsory use of e-payments including through lower legal thresholds for cash payments.Substantial progress SDGs 8, 16\\nImplement fully past pension reforms toreduce theshare ofold-age pensions inpublic\\nspending and create space for other social and growth-enhancing spending.No progress SDG 8\\n2019 CSR 2 Some progress\\nStep up efforts to tackle undeclared work. Some progress SDG 8\\nEnsure that active labour market and social policies are effectively integrated and reach out \\nnotably to young people and vulnerable groups.Substantial progress SDGs 1, 2, 8, 10\\nSupport women’s participation in the labour market through a comprehensive strategy, \\nincluding through access to quality childcare and long-term care.Some progress SDGs 8, 10\\nImprove educational outcomes, also through adequate and targeted investment, and foster \\nupskilling, including by strengthening digital skills.Some progress SDG 4\\n2019 CSR 3 Some progress\\nFocus investment-related economic policy on research and innovation, and the quality of \\ninfrastructure, taking into account regional disparities.Some progress SDGs 7, 9, 10, 11, 13\\nImprove the effectiveness of public administration, including by investing in the skills of public \\nemployees, by accelerating digitalisation, and by increasing the efficiency and quality of local \\npublic services.Substantial progress SDGs 4, 9, 16\\nAddress restrictions to competition, particularly in the retail sector and in business services, \\nalso through a new annual competition law.Some progress SDG 9\\n2019 CSR 4 Substantial progress\\nReduce the length of civil trials at all instances by enforcing and streamlining procedural \\nrules, including those under consideration by the legislator and with a special focus on \\ninsolvency regimes.Substantial progress SDG 16\\nImprove theeffectiveness ofthefight against corruption byreforming procedural rules to\\nreduce the length of criminal trials.Some progress SDG 16\\n2019 CSR 5 Substantial progress\\nFoster bank balance sheet restructuring, in particular for small and medium-sized banks, by \\nimproving efficiency and asset quality, continuing the reduction of non-performing loans, and \\ndiversifying funding.Substantial progress SDG 8\\nImprove non-bank financing for smaller and innovative firms. Some progress SDGs 8, 9\\n2020 CSR 1 Some progress\\nInlinewiththegeneral escape clause, take allnecessary measures toeffectively address the\\npandemic, sustain the economy and support the ensuing recovery. When economic\\nconditions allow, pursue fiscal policies aimed atachieving prudent medium-term fiscal\\npositions and ensuring debt sustainability, while enhancing investment.No longer relevant SDGs 8, 16\\nStrengthen theresilience andcapacity ofthehealth system, intheareas ofhealth workers,\\ncritical medical products and infrastructure.Some progress SDG 3\\nEnhance coordination between national and regional authorities. Some progress SDGs 3, 16\\n2020 CSR 2 Some progress\\nProvide adequate income replacement and access to social protection, notably for atypical \\nworkers.No longer relevant SDGs 1, 2, 8, 10\\nMitigate the employment impact of the crisis, including through flexible working arrangements \\nandNo longer relevant SDG 8\\nactive support to employment. Substantial progress SDG 8\\nStrengthen distance learning and skills, including digital ones.', 'e33d8312-9b8a-4127-a297-f65dd013b3f0': 'When economic\\nconditions allow, pursue fiscal policies aimed atachieving prudent medium-term fiscal\\npositions and ensuring debt sustainability, while enhancing investment.No longer relevant SDGs 8, 16\\nStrengthen theresilience andcapacity ofthehealth system, intheareas ofhealth workers,\\ncritical medical products and infrastructure.Some progress SDG 3\\nEnhance coordination between national and regional authorities. Some progress SDGs 3, 16\\n2020 CSR 2 Some progress\\nProvide adequate income replacement and access to social protection, notably for atypical \\nworkers.No longer relevant SDGs 1, 2, 8, 10\\nMitigate the employment impact of the crisis, including through flexible working arrangements \\nandNo longer relevant SDG 8\\nactive support to employment. Substantial progress SDG 8\\nStrengthen distance learning and skills, including digital ones. Some progress SDG 4\\n2020 CSR 3 Some progress\\nEnsure effective implementation of measures to provide liquidity to the real economy, \\nincluding to small and medium-sized enterprises, innovative firms and the self-employed, and \\navoid late payments.Substantial progress SDGs 8, 9\\nFront-load mature public investment projects Some progress SDGs 8, 16\\nand promote private investment to foster the economic recovery. Some progress SDGs 8, 9', '6c6e8887-36c9-43e4-ae13-dc36b2213441': '130  Tabella (continuazione)  \\n \\n  \\n \\n(Continua)  \\nFocus investment onthegreen and digital transition, inparticular onclean and efficient\\nproduction and use of energy,Some progress SDGs 7, 9, 13\\nresearch and innovation, Some progress SDG 9\\nsustainable public transport, Some progress SDG 11\\nwaste and water management Some progress SDGs 6, 12, 15\\nas well as reinforced digital infrastructure to ensure the provision of essential services. Some progress SDG 9\\n2020 CSR 4 Substantial progress\\nImprove the efficiency of the judicial system and Substantial progress SDG 16\\nthe effectiveness of public administration. Substantial progress SDG 16\\n2021 CSR 1 No longer relevant\\nIn2022, usetheRecovery andResilience Facility tofinance additional investment insupport\\nofthe recovery while pursuing aprudent fiscal policy. Preserve nationally financed\\ninvestment. Limit the growth of nationally financed current expenditure.No longer relevant SDGs 8, 16\\nWhen economic conditions allow, pursue afiscal policy aimed atachieving prudent medium-\\nterm fiscal positions and ensuring fiscal sustainability in the medium term.No longer relevant SDGs 8, 16\\nAtthesame time, enhance investment toboost growth potential. Pay particular attention to\\nthecomposition ofpublic finances, onboth therevenue andexpenditure sides ofthebudget,\\nand tothequality ofbudgetary measures inorder toensure asustainable and inclusive\\nrecovery. Prioritise sustainable and growth-enhancing investment, inparticular investment\\nsupporting the green and digital transition. No longer relevant SDGs 8, 16\\nGive priority tofiscal structural reforms that willhelp provide financing forpublic policy\\npriorities and contribute tothelong-term sustainability ofpublic finances, including, where\\nrelevant, bystrengthening thecoverage, adequacy and sustainability ofhealth and social\\nprotection systems for all.No longer relevant SDGs 8, 16\\n2022 CSR 1 Some progress\\nIn2023, ensure prudent fiscal policy, inparticular bylimiting thegrowth ofnationally financed\\nprimary current expenditure below medium-term potential output growth, taking intoaccount\\ncontinued temporary andtargeted support tohouseholds andfirms most vulnerable toenergy\\nprice hikes and topeople fleeing Ukraine. Stand ready toadjust current spending tothe\\nevolving situation.No longer relevant SDGs 8, 16\\nExpand public investment forthegreen anddigital transitions, andforenergy security taking\\ninto account theREPowerEU initiative, including bymaking use oftheRecovery and\\nResilience Facility and other Union funds.No longer relevant SDGs 8, 16\\nFortheperiod beyond 2023, pursue afiscal policy aimed atachieving prudent medium-term\\nfiscal positions andensuring credible andgradual debt reduction andfiscal sustainability in\\nthe medium term through gradual consolidation, investment and reforms.No longer relevant SDGs 8, 16\\nInorder tofurther reduce taxes onlabour andincrease theefficiency ofthesystem, adopt and\\nappropriately implement theenabling lawonthetaxreform, particularly byreviewing effective\\nmarginal taxrates, aligning thecadastral values tocurrent market values, streamlining and\\nreducing taxexpenditures, also forVAT, and environmentally harmful subsidies while\\nensuring fairness, and by reducing the complexity of the tax code.Some progress SDGs 8, 10, 12\\n2022 CSR 2\\nProceed with theimplementation ofitsrecovery and resilience plan, inline with the\\nmilestones and targets included in the Council Implementing Decision of 13 July 2021.\\nSwiftly finalise thenegotiations with theCommission ofthe2021-2027 cohesion policy\\nprogramming documents with a view to starting their implementation.\\n2022 CSR 3 Some progress\\nReduce the reliance on fossil fuels and diversify energy import. Some progress SDGs 7, 9, 13\\nOvercome bottlenecks to increase the capacity of internal gas transmission, Some progress SDGs 7, 9, 13\\ndevelop electricity interconnections, Some progress SDGs 7, 9, 13\\naccelerate the deployment of additional renewable energy capacities Some progress SDGs 7, 9, 13\\nand adopt measures to increase energy efficiency Some progress SDG 7\\nand to promote sustainable mobility. Some progress SDG 11RRP implementation is monitored by assessing RRP \\npayment requests and analysing reports published twice a \\nyear on the achievement of the milestones and targets.', '8cfec052-c1a5-4f14-b22a-7b80b7fd9670': 'Swiftly finalise thenegotiations with theCommission ofthe2021-2027 cohesion policy\\nprogramming documents with a view to starting their implementation.\\n2022 CSR 3 Some progress\\nReduce the reliance on fossil fuels and diversify energy import. Some progress SDGs 7, 9, 13\\nOvercome bottlenecks to increase the capacity of internal gas transmission, Some progress SDGs 7, 9, 13\\ndevelop electricity interconnections, Some progress SDGs 7, 9, 13\\naccelerate the deployment of additional renewable energy capacities Some progress SDGs 7, 9, 13\\nand adopt measures to increase energy efficiency Some progress SDG 7\\nand to promote sustainable mobility. Some progress SDG 11RRP implementation is monitored by assessing RRP \\npayment requests and analysing reports published twice a \\nyear on the achievement of the milestones and targets. \\nThese are to be reflected in the country reports.\\nProgress on the cohesion policy programming documents is \\nmonitored under the EU cohesion policy.', '92fb9430-8831-4916-99f7-d7942d83a93c': '131 Tabella (continuazione)  \\n \\n  \\nFonte:  Commissione europea.  \\n \\n2023 CSR 1 Substantial progress\\nWind down theemergency energy support measures inforce, using therelated savings to\\nreduce thegovernment deficit, assoon aspossible in2023 and 2024. Should renewed\\nenergy price increases necessitate new orcontinued support measures, ensure that such\\nsupport measures aretargeted atprotecting vulnerable households and firms, arefiscally\\naffordable and preserve incentives for energy savings.Substantial progress SDGs 8, 16\\nEnsure prudent fiscal policy, inparticular bylimiting thenominal increase innationally\\nfinanced net primary expenditure in 2024 to not more than 1,3%.Some progress SDGs 8, 16\\nPreserve nationally financed public investment andensure theeffective absorption ofgrants\\nunder theFacility and ofother Union funds, inparticular tofoster thegreen and digital\\ntransitions.Full implementation SDGs 8, 16\\nFortheperiod beyond 2024, continue topursue amedium-term fiscal strategy ofgradual and\\nsustainable consolidation, combined with investments and reforms conducive toimproved\\nproductivity andhigher sustainable growth, inorder toachieve aprudent medium-term fiscal\\nposition.Full implementation SDGs 8, 16\\nFurther reduce taxes onlabour andmake thetaxsystem more efficient byadopting andduly\\nimplementing theenabling lawontaxreform while preserving theprogressivity ofthetax\\nsystem andimproving fairness, inparticular bystreamlining andreducing taxexpenditures,\\nincluding VAT andenvironmentally harmful subsidies, andbyreducing thecomplexity ofthe\\ntax code. Align the cadastral values with current market values.Some progress SDGs 8, 10, 12\\n2023 CSR2 \\nEnsure effective governance and strengthen administrative capacity, inparticular at\\nsubnational level, inorder toallow forthecontinued swift andsteady implementation ofthe\\nrecovery andresilience plan. Swiftly finalise theREPowerEU chapter with aview torapidly\\nstarting theimplementation thereof. Proceed with thespeedy implementation ofcohesion\\npolicy programmes, inclose complementarity and synergy with therecovery andresilience\\nplan.\\n2023 CSR 3 Some progress\\nReduce the reliance on fossil fuels. Some progress SDGs 7, 9, 13\\nStreamline permitting procedures inorder toaccelerate the production ofadditional\\nrenewable energy, andSome progress SDGs 7, 8, 9, 13\\ndevelop electricity interconnections to absorb it. Some progress SDGs 7, 9, 13\\nIncrease thecapacity forinternal gastransmission inorder todiversify energy imports and\\nstrengthen security of supply.Some progress SDGs 7, 9, 13\\nIncrease energy efficiency intheresidential andcorporate sectors, including through better\\ntargeted incentive schemes, addressing inparticular themost vulnerable households andthe\\nworst-performing buildings.Some progress SDGs 1, 2, 7, 10\\nPromote sustainable mobility, including byremoving environmentally harmful subsidies and\\nspeeding up the roll-out of charging stations.Some progress SDGs 8, 10, 11, 12\\nStep uppolicy efforts aimed attheprovision and acquisition ofskills and competences\\nneeded for the green transition.Limited progress SDG 4\\n2024 CSR 1 Substantial progress\\nSubmit the medium-term fiscal-structural plan in a timely manner. Full implementation SDGs 8, 16\\nIn line with the requirements of the reformed Stability and Growth Pact, limit the growth in net \\nexpenditure in 2025 to a rate consistent with, inter alia, putting the general government debt \\non a plausibly downward trajectory over the medium term and reducing the general \\ngovernment deficit towards the 3% of GDP Treaty reference value.Full implementation SDGs 8, 16\\nMake thetaxsystem more supportive togrowth, with afocus onreducing thetaxwedge on\\nlabour andinlinewith fiscal sustainability objectives, including byreducing taxexpenditures\\nandupdating cadastral values, while ensuring fairness andprogressivity andsupporting the\\ngreen transition.Some progress SDGs 8, 10, 12\\n2024 CSR 2\\nStrengthen administrative capacity tomanage EUfunds, accelerate investments andmaintain\\nmomentum intheimplementation ofreforms.', '49973546-af55-40f4-9d5e-55b7fca6b5f4': 'Full implementation SDGs 8, 16\\nIn line with the requirements of the reformed Stability and Growth Pact, limit the growth in net \\nexpenditure in 2025 to a rate consistent with, inter alia, putting the general government debt \\non a plausibly downward trajectory over the medium term and reducing the general \\ngovernment deficit towards the 3% of GDP Treaty reference value.Full implementation SDGs 8, 16\\nMake thetaxsystem more supportive togrowth, with afocus onreducing thetaxwedge on\\nlabour andinlinewith fiscal sustainability objectives, including byreducing taxexpenditures\\nandupdating cadastral values, while ensuring fairness andprogressivity andsupporting the\\ngreen transition.Some progress SDGs 8, 10, 12\\n2024 CSR 2\\nStrengthen administrative capacity tomanage EUfunds, accelerate investments andmaintain\\nmomentum intheimplementation ofreforms. Address relevant challenges toallow for\\ncontinued, swift and effective implementation oftherecovery andresilience plan, including\\ntheREPowerEU chapter, ensuring completion ofreforms andinvestments byAugust 2026.\\nAccelerate theimplementation ofcohesion policy programmes. Inthecontext oftheir mid-\\nterm review continue focusing ontheagreed priorities, while considering theopportunities\\nprovided bythe Strategic Technologies forEurope Platform initiative toimprove\\ncompetitiveness.\\n2024 CSR 3 Some progress\\nInorder tomitigate theeffects onpotential growth, tackle negative demographic trends\\nincluding byattracting andretaining workers with adequate skills andbyaddressing labour\\nmarket challenges, inparticular with regards towomen, young people andinwork poverty,\\nnotably of workers with non-standard contracts.Some progress SDGs 8, 10\\n2024 CSR 4 Some progress\\nDefine anindustrial anddevelopment strategy toreduce theterritorial divide bystreamlining\\ncurrent policy measures and bytaking intoaccount keyinfrastructure projects aswell as\\nstrategic value chains.Limited progress SDGs 8, 9, 10, 11\\nAddress remaining restrictions to competition, in particular in the retail sector, regulated \\nprofessions and railways.Some progress SDG 9RRP implementation is monitored through the assessment of \\nRRP payment requests and analysis of the bi-annual \\nreporting on the achievement of the milestones and targets, \\nto be reflected in the country reports. Progress with the \\ncohesion policy is monitored in the context of the Cohesion \\nPolicy of the European Union. \\nRRP implementation is monitored through the assessment of \\nRRP payment requests and analysis of the bi-annual \\nreporting on the achievement of the milestones and targets, \\nto be reflected in the country reports. Progress with the \\ncohesion policy programming is monitored in the context of \\nthe Cohesion Policy of the European Union.', 'd170637f-f803-4002-a757-5debacc513ba': \"ALLEGATO 17: REGIONI COMPETITIVE  \\n132 Le divergenze tra le regioni italiane risentono \\nfortemente della competitività e delle \\ntendenze demografiche.  Il miglioramento e la \\nsostenibilità dei servizi pubblici locali, l'accessibilità, \\nla disponibilità e la qualità delle infrastrutture \\npubbliche, anche per la logistica, e attività ad hoc \\nper promuovere l'innovazione nelle catene di \\napprovvigionamento strat egiche sono fattori chiave \\nche potrebbero contribuire a realizzare un processo \\nstabile di recupero socioeconomico nel \\nMezzogiorno.  \\nSebbene la crescita economica dopo la \\npandemia di COVID -19 abbia mostrato una \\nconvergenza verso la media UE, l'Italia \\nregistr a ancora notevoli disparità, sia a \\nlivello interno che con l'UE. Dal 2021 l'Italia ha \\nregistrato una crescita sostenuta del PIL pro capite. \\nDopo aver perso terreno rispetto alla media UE in \\ntermini di PIL reale pro capite nei tre decenni \\nprecedenti, l'Ital ia ha registrato una rapida ripresa \\nnel periodo 2021 -2022, seguita da una crescita più \\nlenta nel periodo 2023 -2024. Nel periodo 2025 -\\n2026 si prevede una crescita moderata, che offre \\nun contesto favorevole per affrontare le disparità \\nregionali. Nel 2023 sei  regioni, tutte nel \\nMezzogiorno(291), erano ancora al di sotto del 75  % \\ndella media UE in termini di PIL pro capite \\n(tabella  A17.1). La Calabria è la regione più povera, \\ncon un PIL pro capite inferiore al 60  % della media \\nUE, seguita da vicino da Sicilia, C ampania e Puglia, \\nche si attestano poco al di sopra del 60  %. Queste \\ncifre sono il risultato di un lungo e costante \\ndeterioramento dei livelli di sviluppo relativo, che \\ncolpisce in particolare il Mezzogiorno.  \\nMolte regioni dell'Italia meridionale e insular e \\nhanno registrato una crescita post -pandemia \\nsuperiore alla media UE. Ciò può essere in parte \\nattribuito alle misure di resilienza post -pandemia \\nmesse in atto in Italia, a vantaggio delle economie \\ndelle regioni maggiormente dipendenti dagli \\ninterventi pub blici. Tra il 2019 e il  2023 la crescita \\nmedia annua è stata maggiore nelle regioni meno \\nsviluppate, in particolare Sicilia e Puglia, mentre \\nToscana, Liguria e Friuli Venezia Giulia sono \\ncresciute a un ritmo ben inferiore alla media UE e \\nmolte regioni del Nord e del Centro non hanno \\ntenuto il passo con la media UE (cfr. cartina A17.1). \\n \\n(291) Il Mezzogiorno comprende le regioni meridionali e insulari e \\nl'Abruzzo.  Osservando le tendenze più a lungo termine, i \\nrisultati nazionali in termini di crescita del PIL reale \\npro capite (1,2  %) nel periodo 2014 -2023 sono il \\nrisultato di una cresc ita moderata nelle regioni \\ndell'Italia settentrionale e in alcune regioni \\ndell'Italia meridionale e insulare(292). Le regioni \\ndell'Italia centrale, che storicamente hanno \\nrappresentato un livello intermedio di sviluppo tra il \\nSud più povero e il Nord più ri cco, hanno seguito un \\npercorso divergente, registrando tassi di crescita \\nmedi annui molto al di sotto della media nazionale.\", '05137cea-4f7b-473b-90f6-1ebe497f9a9f': 'Osservando le tendenze più a lungo termine, i \\nrisultati nazionali in termini di crescita del PIL reale \\npro capite (1,2  %) nel periodo 2014 -2023 sono il \\nrisultato di una cresc ita moderata nelle regioni \\ndell\\'Italia settentrionale e in alcune regioni \\ndell\\'Italia meridionale e insulare(292). Le regioni \\ndell\\'Italia centrale, che storicamente hanno \\nrappresentato un livello intermedio di sviluppo tra il \\nSud più povero e il Nord più ri cco, hanno seguito un \\npercorso divergente, registrando tassi di crescita \\nmedi annui molto al di sotto della media nazionale. \\nQueste tendenze dimostrano che l\\'Italia centrale ha \\nintrapreso un percorso che potrebbe condurre a \\nuna situazione di relativo sotto sviluppo, anche a \\ncausa della sua dinamica demografica.  \\n \\nCartina A17.1 - Crescita del PIL reale pro capite \\n(2019 -2023)  \\n \\nFonte:  Eurostat.  \\n \\nLe tendenze demografiche incidono \\nfortemente sui risultati economici delle \\nregioni italiane e viceversa. I risultati delle \\nregioni dell\\'Italia settentrionale hanno evidenziato \\nun PIL pro capite migliore rispetto al resto del \\npaese, stimolato in parte dall\\' andamento \\ndemografico. Anche se la popolazione italiana è \\ncomplessivamente diminuita, le regioni con i \\nmigliori risultati economici (Lombardia, Emilia -\\n \\n(292) L\\'Italia insulare (\"Isole\") è una delle cinque regioni statistiche \\nNUTS 1 in Italia.', 'c6f3fedf-2406-44a5-9a8f-ce551099c092': \"133 Romagna, Trento e Bolzano) stanno registrando \\nuna crescita demografica. La situazione \\ndemografica è parti colarmente critica nel \\nMezzogiorno (grafico A17.1), dove i bassi tassi di \\nnatalità sono aggravati dall'emigrazione, in \\nparticolare dei giovani laureati. Il Sud ha registrato \\nun calo della popolazione in età lavorativa \\ndel 6,2 % nel periodo 2015 -2023, rispe tto all'Italia \\ninsulare ( - 7,2 %), al Centro ( - 3,2 %), al Nord -Ovest \\n(- 2,3 %) e al Nord -Est ( - 1,6 %). Le regioni pi ù \\ncolpite sono Sardegna, Calabria e Molise, dove il \\ncalo è pari a circa il 9  %. La percentuale di laureati \\nche abbandonano il Sud è pari al 39,8  % del totale \\ndei laureati, contro il 5,8  % per il Nord e il 21,4  % \\nper il Centro(293). Queste tendenze fanno sì che la \\nbase produttiva del paese si stia restringendo \\n(soprattutto al Sud), r iducendone il potenziale di \\ncrescita e aggravando le disparità regionali.  \\nGrafico  A17.1 - Dinamica della popolazione  \\n  \\nUnità: milioni di persone   \\nFonte:  Eurostat.  \\nDi fronte alle tendenze demografiche, è \\nimportante mobilitare le persone inattive, in \\nparticolare le donne e i giovani, nelle regioni \\nmeno sviluppate del Mezzogiorno al fine di \\nmigliorare i risultati economici.  Nel 2024 il \\ntasso di disoccupazione delle persone di età \\ncompresa tra  i 15 e i 24 anni nelle isole e al Sud \\nera più del doppio (33 -34 %) rispetto al Nord -Ovest \\n(14,9  %) e al Nord -Est (11,3  %). Sembra inoltre \\nesistere un notevole divario di competenze e di \\nistruzione che colpisce la componente pi ù giovane \\ndella forza lavoro nelle regioni meno sviluppate. \\nRidurre l'abbandono scolastico in queste regioni e \\n \\n(293) ISTAT, 2023.  fornire competenze in linea con le esigenze del \\nmercato del lavoro potrebbe consentire a un \\nmaggior numero di giovani di entrare sul mercato \\ndel lavoro. La partecipazione fem minile al mercato \\ndel lavoro rimane bassa al Sud (39,4  %) e nell'Italia \\ninsulare (41,6  %). Tale fenomeno è in parte \\nattribuibile all'accesso limitato ai servizi di \\nassistenza all'infanzia. Le strutture autorizzate e i \\nservizi educativi per bambini fino a d ue anni di età \\nsuperano l'obiettivo dell'UE del 33  % in quasi tutte \\nle regioni dell'Italia centrale e settentrionale, \\nmentre nel Mezzogiorno sono generalmente \\ninferiori (ad eccezione della Sardegna)(294). La \\nminore disponibilità di servizi si registra in \\nCampania (13,2  % dei bambini di et à compresa tra \\n0 e 2 anni) e in Sicilia (13,9  %), che sono anche tra \\nle regioni con i tassi di occupazione femminile pi ù \\nbassi in Italia e nell'UE. Migliorare l'accesso ai \\nservizi di assistenza all'infanzia rim ane \\nfondamentale per sfruttare appieno il potenziale \\ndella forza lavoro in queste regioni.  \\nLa competitività delle regioni italiane è bassa \\nrispetto ad altri Stati membri dell'UE.\", '9bc84581-8926-4c6e-af26-130cd50d2518': \"La \\nminore disponibilità di servizi si registra in \\nCampania (13,2  % dei bambini di et à compresa tra \\n0 e 2 anni) e in Sicilia (13,9  %), che sono anche tra \\nle regioni con i tassi di occupazione femminile pi ù \\nbassi in Italia e nell'UE. Migliorare l'accesso ai \\nservizi di assistenza all'infanzia rim ane \\nfondamentale per sfruttare appieno il potenziale \\ndella forza lavoro in queste regioni.  \\nLa competitività delle regioni italiane è bassa \\nrispetto ad altri Stati membri dell'UE. Solo la \\nLombardia supera leggermente la media UE \\ndell'indice di competitività  regionale dell'UE(295) e il \\nsuo sottoindice Innovazione. Le altre regioni del \\nCentro -Nord e l'intero Mezzogiorno sono \\nrispettivamente al di sotto e molto al di sotto della \\nmedia UE. Queste differenze riflettono \\nprincipalmente le lacune a livello di istruzi one \\nsuperiore, apprendimento permanente, efficienza \\ndel mercato del lavoro e innovazione (cfr. le \\nsottocomponenti dell'indice). Le piccole e medie \\nimprese in tutto il paese, che tendono ad essere di \\npiccole dimensioni e comprendono una percentuale \\nmolto el evata di microimprese, ottengono un \\npunteggio basso in termini di innovazione rispetto \\nalle loro controparti svedesi, francesi, olandesi e \\ntedesche(296). \\nLe differenze in termini di livello di istruzione \\ne di competenze, nonché di specializzazione \\n \\n(294) Relazione speciale ISTAT (ottobre 2024) disponibile \\nall'indirizzo:  https://www.istat.it/wp -\\ncontent/uploads/2024/10/Report -Completo_I -servizi -\\neducativi -per-linfanzia -in-Italia_16_10_24 -1.pdf.  \\n(295) Indice di competitività regionale 2.0, 2022, disponibile \\nall'indirizzo: \\nhttps://ec.europa.eu/regional_policy/assets/regional -\\ncompetitiveness/index.html#/ . \\n(296) Quadro di valutazi one dell'innovazione industriale del JRC.  \\n0369121518\\nNorrth-West North-East Centre South Islands\\n2000 2011 2023\", '3fa5ab68-0d39-4726-9b56-cec39e496698': \"134 settorial e, sono fattori significativi alla base \\ndei divari di produttività esistenti tra le \\nregioni italiane.  La quota di occupazione nei \\nsettori ad alta tecnologia è superiore alla media UE \\nsolo in Lombardia e Lazio, mentre è inferiore di \\ncirca il 25  % nella magg ior parte delle altre regioni \\ncentro -settentrionali ed è meno della met à della \\nmedia UE in gran parte dell'Italia meridionale e \\ninsulare, il che riflette nel complesso una struttura \\nproduttiva squilibrata nel settore dell'alta \\ntecnologia. La situazione app are ancora più \\nsfavorevole se si considerano le risorse umane nel \\ncampo della scienza e della tecnologia in \\npercentuale dell'occupazione totale, dove tutte le \\nregioni sono al di sotto della media UE, anche se \\ncon differenze regionali minori. A livello nazi onale, \\nil rapporto tra la spesa delle imprese in ricerca e \\nsviluppo e il PIL è inferiore al 60  % della media UE \\n(0,8 % del PIL). Solo il Piemonte e l'Emilia -\\nRomagna sono leggermente al di sopra della media \\nUE, il Mezzogiorno presenta valori pari a pochi \\ndecimi di punto, mentre Basilicata, Calabria e \\nSardegna sono prossime allo zero (cfr. allegato 3). \\nInoltre il tasso di completamento dell'istruzione \\nterziaria tra coloro che hanno un'età compresa tra i \\n25 e i 34 anni in Italia (31,6  %), ben al di sotto \\ndella media UE del 44,2  % nel 2024, varia \\nnotevolmente da una regione all'altra. Le regioni \\nche registrano una diminuzione della popolazione in età lavorativa e un ritardo nel livello di istruzione \\nterziaria si trovano principalmente al Sud, anche se \\nalcune si trovano anche al Centro e al Nord. Questi \\nfattori indicano che il paese: i) ha una ridotta \\ncapacità, in particolare per quanto riguarda le sue \\nregioni meno sviluppate, di cogliere le tendenze di \\ncrescita in settori dinamici e avanzati; e ii) dispone \\ndi sca rso accesso alle catene del valore \\ninternazionali degli ecosistemi industriali.  \\nLa specializzazione del Mezzogiorno in alcuni \\nsettori industriali indica prospettive di \\ncrescita. Alcune filiere industriali del Mezzogiorno \\nsono caratterizzate da un elevato potenziale di \\ncrescita strutturale e da un elevato valore aggiunto, \\nin quanto il loro contenuto tecnologico avanzato \\nattira investimenti esterni (anche esteri) e alimenta \\nl'innovazione. Altri settori industriali (cfr. allegato 7) \\nsono strategicamente importanti ed estremamente \\npertinenti per quanto riguard a le sfide economiche \\ne sociali connesse ai cambiamenti climatici o sono \\ndi fondamentale importanza per la \\ndecarbonizzazione dell'economia, garantendo nel \\ncontempo un'elevata intensità di lavoro (come ad \\nesempio il settore automobilistico). La matrice \\nindustriale del Mezzogiorno individua le aree di \\nproduzione ad alto potenziale di trasformazione, \\nnell'ordine seguente: i) agroindustria (1,53), ii) \\nnavale e cantieristica (1,28), iii) aerospazio (1,10),  \\nTabella  A17.1 - Selezione di indicatori a livello regionale in Italia  \\n  \\nFonte:  Eurostat e JRC.\", 'd3005f27-aa1a-496a-965d-9b1c9811c894': \"La matrice \\nindustriale del Mezzogiorno individua le aree di \\nproduzione ad alto potenziale di trasformazione, \\nnell'ordine seguente: i) agroindustria (1,53), ii) \\nnavale e cantieristica (1,28), iii) aerospazio (1,10),  \\nTabella  A17.1 - Selezione di indicatori a livello regionale in Italia  \\n  \\nFonte:  Eurostat e JRC.  \\n \\nGDP per \\nhead\\n (PPS)Real GDP \\ngrowthReal GDP \\nper head \\ngrowthProductivity \\n- GDP per \\nperson \\nemployed \\n(PPS)Productivity \\n- GDP per \\nhour worked \\n(PPS)Real \\nproductivity \\ngrowth \\n(per hour \\nworked)R&D \\nexpenditureEmployment \\nin high-\\ntechnology \\nsectorsPopulation \\nwith high \\neducational \\nattainmentPopulation \\ngrowthNatural \\npopulation \\nchangeNet migrationFemale \\nemployment \\nrate 20-64Household \\nincome per \\ncapita (PPS)\\nIndex \\nEU-27 = 100Average \\nannual \\n% changeAverage \\nannual \\n% changeIndex \\nEU-27 = 100Index \\nEU-27 = 100Average \\nannual \\n% change% of GDP% of total \\nemployment% of \\npopulation \\naged 25-64Average \\nannual change \\nper 1000 \\nresidentsAverage \\nannual change \\nper 1000 \\nresidentsAverage \\nannual net \\ncrude \\nmigration rate \\n(%)% of women \\n20-64Index, EU27 = \\n100\\n2023 2014-2023 2014-2023 2023 2022 2013-2022 2022 2024 2024 2014-2023 2014-2023 2014-2023 2024 2022\\nEuropean Union (27 MS) 100 1.7 1.6 100 100 0.9 2.3 5.2 36.1 1.7 -1.5 3.2 70.8 100\\nItaly 98 1.0 1.2 107 99 0.3 1.4 4.3 22.3 -1.8 -3.8 2.0 57.4 104\\nNord-Ovest (North-West) 122 1.1 1.2 122 111 0.3 1.4 5.3 23.2 -0.9 -4.3 3.4 66.9 122\\nNord-Est (North-East) 116 1.1 1.1 113 105 0.5 1.6 3.4 23.2 -0.4 -3.7 3.3 68.2 117\\nCentro (IT) (Center) 105 0.6 0.7 107 100 -0.1 1.6 5.7 26.0 -1.8 -4.3 2.6 63.8 108\\nSud (South) 65 0.8 1.3 87 82 0.3 1.0 3.0 19.3 -4.3 -2.8 -1.4 39.4 80\\nIsole (Insular) 65 0.7 1.2 88 82 -0.1 0.9 2.3 18.1 -4.3 -3.5 -0.8 41.6 82\\nAbruzzo 85 0.6 1.0 94 87 0.1 1.1 3.1 23.8 -4.1 -5.0 0.8 56.1 93\\nBasilicata 75 1.1 1.9 91 95 1.2 0.6 2.1 20.2 -7.4 -5.1 -2.2 46.2 82\\nCalabria 58 0.2 0.9 82 77 0.3 0.6 1.8 20.1 -5.6 -3.2 -2.5 35.8 77\\nCampania 63 0.9 1.3 88 83 0.4 1.3 3.9 18.\", '013f2c2b-8f90-43ee-831b-8e61d666af06': '8 41.6 82\\nAbruzzo 85 0.6 1.0 94 87 0.1 1.1 3.1 23.8 -4.1 -5.0 0.8 56.1 93\\nBasilicata 75 1.1 1.9 91 95 1.2 0.6 2.1 20.2 -7.4 -5.1 -2.2 46.2 82\\nCalabria 58 0.2 0.9 82 77 0.3 0.6 1.8 20.1 -5.6 -3.2 -2.5 35.8 77\\nCampania 63 0.9 1.3 88 83 0.4 1.3 3.9 18.7 -3.7 -1.6 -2.1 35.0 76\\nEmilia-Romagna 118 1.1 1.0 115 106 0.6 2.0 3.6 24.9 0.1 -4.5 4.6 68.0 122\\nFriuli-Venezia Giulia 103 0.6 0.9 109 104 0.8 1.5 3.2 24.1 -2.5 -5.9 3.4 68.7 112\\nLazio 114 0.6 0.5 114 105 -0.3 1.9 8.3 28.3 -0.9 -3.1 2.3 60.1 108\\nLiguria 104 0.2 0.7 110 106 0.1 1.5 2.9 23.8 -4.2 -8.5 4.3 64.2 113\\nLombardia 134 1.4 1.3 129 117 0.4 1.2 6.2 23.9 0.9 -2.9 3.8 67.1 126\\nMarche 90 0.7 1.1 95 90 -0.1 1.0 2.1 24.2 -4.3 -5.3 1.0 66.2 104\\nMolise 73 0.7 1.5 91 84 0.1 0.7 1.9 23.1 -7.8 -6.5 -1.3 50.7 88\\nPiemonte 100 0.6 1.0 108 98 0.2 2.1 3.8 21.2 -3.6 -6.0 2.4 67.1 114\\nProvincia Autonoma di Bolzano/Bozen 163 1.4 1.0 136 121 0.5 0.8 2.2 19.1 4.3 1.1 3.1 74.0 141\\nProvincia Autonoma di Trento 126 1.0 0.9 121 117 0.7 1.5 3.9 23.7 1.2 -1.6 2.8 70.8 114\\nPuglia 64 1.0 1.5 83 78 0.2 0.9 2.6 18.0 -3.7 -3.1 -0.6 40.5 81\\nSardegna 72 0.7 1.2 87 80 -0.1 0.9 2.1 19.0 -4.7 -5.1 0.4 53.8 89\\nSicilia 62 0.7 1.2 89 83 -0.1 0.9 2.4 17.8 -4.2 -2.9 -1.2 37.7 79\\nToscana 103 0.7 0.9 106 100 0.2 1.5 3.7 23.3 -1.7 -5.5 3.9 68.3 110\\nUmbria 83 0.', '667eab0f-7c6d-488d-a3b9-3d6b7d1d9480': '2 0.9 2.6 18.0 -3.7 -3.1 -0.6 40.5 81\\nSardegna 72 0.7 1.2 87 80 -0.1 0.9 2.1 19.0 -4.7 -5.1 0.4 53.8 89\\nSicilia 62 0.7 1.2 89 83 -0.1 0.9 2.4 17.8 -4.2 -2.9 -1.2 37.7 79\\nToscana 103 0.7 0.9 106 100 0.2 1.5 3.7 23.3 -1.7 -5.5 3.9 68.3 110\\nUmbria 83 0.3 0.7 90 85 -0.4 0.9 3.5 25.6 -4.0 -5.7 1.6 66.3 103\\nValle d’Aosta/Vallée d’Aoste 126 -0.1 0.3 119 114 -0.3 0.5 0.0 21.4 -4.6 -4.8 0.2 73.5 111\\nVeneto 111 1.1 1.2 108 100 0.4 1.3 3.4 21.7 -1.1 -3.2 2.1 67.3 111', 'd745cdad-ac1e-49e2-9dea-b4b515785f10': \"135 iv) edilizia (1,05) e v) automotive (1,04)(297). Le \\nspeci alizzazioni della zona sono sostanzialmente \\ntrainate dalla Campania e dalla Puglia, che \\nospitano quasi tutte le industrie.  \\nLa potenziale disponibilità di manodopera \\nspecializzata e la diffusa presenza di facoltà \\ntecniche sottoutilizzate possono diventare \\nfattori competitivi per il Mezzogiorno.  Negli \\nultimi 20 anni la percentuale di laureati di età \\ncompresa tra i 25 e i 34 anni che lasciano le \\nregioni del Mezzogiorno è salita dal 18  % al 58  % \\n(grafico A17.2), evidenziando la necessit à di \\nmettere in atto pol itiche per trattenere tali risorse \\nal Sud. Nel contesto di un aumento complessivo di \\niscrizioni presso le universit à italiane tra il 2016 e il \\n2022(298), sono presenti variazioni significative: nel \\nNord-Ovest le iscrizioni sono aumentate di circa il \\n25 %, m a sono diminuite nelle università dell'Italia \\nmeridionale e insulare. L'iscrizione degli studenti \\nalle università dipende dalle caratteristiche \\neconomiche, socioculturali, infrastrutturali e \\nrelative alla quantità/qualità del servizio dei \\nterritori. Promuo vere la specializzazione settoriale a \\nlivello territoriale e rafforzare la cooperazione tra \\nuniversità e imprese contribuirebbe a ridurre il \\nnumero di studenti che abbandonano le regioni del \\nMezzogiorno per studiare altrove anziché scegliere \\nle università di queste regioni.  \\n \\n(297) Gli indici esprimono il rapporto tra la quota meridionale e la \\nquota nazionale dei dipendenti in ciascuna filiera (SVIMEZ, \\n2024).  \\n(298) Agenzia Nazionale di Valutazione del Sistema Universitario e \\ndella Ricerca, relazione 2023.  Grafico  A17.2 - Migrazione dei giovani dal \\nMezzogiorno al Centro -Nord  \\n  \\nFonte:  SVIMEZ (2024).  \\nLa competitività territoriale del Mezzogiorno \\nrisente in modo significativo delle carenze \\nstrutturali in termini di accessibilità, \\ndisponibilità e qualità delle infrastrutture \\npubbliche.  Il divario infrastrutturale tra il \\nMezzogiorno e il resto dell'Italia rimane ampio. La \\ndotazione infrastrutturale n el Centro -Nord si \\navvicina o supera i livelli dell'UE, offrendo i \\npresupposti essenziali per lo sviluppo economico e \\nla crescita, mentre la maggior parte del \\nMezzogiorno resta molto indietro. L'accessibilità \\nalle reti di trasporto è inferiore nel Mezzogior no \\nrispetto al resto dell'Italia (cartina A17.2). \\nBasilicata, Molise, Abruzzo, Calabria e Sicilia sono le \\nregioni con la più alta percentuale di popolazione \\nche ha un livello inferiore di accesso alle stazioni \\nferroviarie (Istat 2023).  \\n \\nCartina A17.2 - Indici di accessibilità basati sui \\ntempi di connessione  \\n \\nItalia = 100. Anni di rif. 2019 e 2020  \\nAccessibilità delle strade - sinistra  \\nAccessibilità delle ferrovie - destra  \\nFonte:  Banca d'Italia (2021).\", '04ca17b7-ff53-47f7-a402-cdf0f974a483': \"136 L'Italia meridionale occupa una posizione \\nstrategica come piattaforma logistica nel \\nMediterraneo.  La presenza diffusa di impianti \\nportuali situati sulle rotte che collegano l'Africa \\nsettentrionale e il Canale di Suez, in un contesto di \\naumento dei costi del trasporto marittimo e di \\npolitiche di contenimento delle emissioni, rende \\nnecessari interventi strutturali per ridurre le \\nfluttuazioni dei costi lungo le principali catene di \\napprovvigionamento mondiali. Il Mezzogiorno si \\ntrova nella posizione ideale per fornire servizi \\nstrategici al fine di collocare le fasi di produzione \\nlungo le catene globali de l valore: ricerca, sviluppo \\ne progettazione, commercializzazione e \\ndistribuzione, nonché servizi integrati di trasbordo \\nmerci e attività di processo. I processi di \\nregionalizzazione delle catene di valore potrebbero \\ncomportare un cambiamento significativo nel modo \\nin cui le multinazionali organizzano la produzione e \\nla distribuzione di beni e servizi, con l'espansione \\ndel mercato del trasporto intermodale e combinato \\nstrada -rotaia e strada -mare verso i porti dell'Italia \\nmeridionale, lungo i principali corri doi intermodali \\nferroviari e lungo i corridoi intermodali marittimi \\ncostieri del Tirreno e dell'Adriatico. Lo sviluppo di \\nporti e aree portuali richiede misure di \\nammodernamento. Pertanto i nodi multimodali, i \\nterminali ferroviari, le piattaforme logistich e, i porti \\ne le aree portuali dovrebbero essere trasformati in \\nuna rete i cui nodi offrono anche centri di \\nstoccaggio, distribuzione e fornitura di combustibili \\nalternativi per i trattori stradali e per le navi, \\nindividuando un ruolo specifico per il Mezzo giorno \\nall'interno delle catene di approvvigionamento \\nregionali.  \\nLa scarsa fornitura di servizi pubblici incide \\npesantemente sull'attrattiva territoriale del \\nMezzogiorno.  La qualità dei servizi pubblici nei \\nsettori dei rifiuti, delle risorse idriche,  \\ndei trasporti locali, dell'istruzione (cfr.  allegato  12), \\ndell'assistenza sanitaria (cfr.  allegato  14), \\ndell'assistenza sociale (cfr. allegato 11), della \\nfornitura di energia elettrica, ecc. tende ad essere \\ninferiore nel Mezzogiorno rispetto al resto \\ndell'Ital ia, indipendentemente dal fatto che tali \\nservizi siano forniti da amministrazioni locali o \\nnazionali. La qualità delle infrastrutture idriche e \\ndei servizi idrici è inferiore nella maggior parte \\ndelle regioni meridionali e insulari, con livelli più \\nelevati  di perdite idriche, rispetto al Nord (cfr. \\ncartina A17.3).   \\nCartina A17.3 - Qualità tecnica dei servizi idrici, 2023  \\n \\nUnità: perdite idriche in m3/km/day  \\nFonte:  ARERA, relazione annuale 2024.  \\n \\nL'accesso all'assistenza sanitaria nelle zone \\nrurali presenta notevoli differenze regionali.  \\nLa percentuale della popolazione che vive a non più \\ndi 10 minuti d'auto dal centro sanitario più vicino \\nvaria dal 10,7  % nella re gione montuosa della Valle \\nd'Aosta al 42,7  % in Lombardia.\", '94dae60e-114f-449c-937c-4d7fa72bb704': \"cartina A17.3).   \\nCartina A17.3 - Qualità tecnica dei servizi idrici, 2023  \\n \\nUnità: perdite idriche in m3/km/day  \\nFonte:  ARERA, relazione annuale 2024.  \\n \\nL'accesso all'assistenza sanitaria nelle zone \\nrurali presenta notevoli differenze regionali.  \\nLa percentuale della popolazione che vive a non più \\ndi 10 minuti d'auto dal centro sanitario più vicino \\nvaria dal 10,7  % nella re gione montuosa della Valle \\nd'Aosta al 42,7  % in Lombardia. In particolare, in \\nsette regioni, per lo pi ù con territori montuosi, la \\npercentuale è inferiore al 20  %, tra cui le regioni \\ndel Mezzogiorno Sardegna, Calabria e Basilicata, \\ndove la difficolt à di ac cessibilit à è associata a \\ncondizioni socioeconomiche meno favorevoli in \\ngenerale.  \\nNelle regioni meno sviluppate, l'interazione \\ntra la disponibilità di risorse, i fattori \\neconomici regionali e la capacità e \\nl'organizzazione delle amministrazioni \\nincidono sulla fornitura di servizi pubblici e \\nsullo sviluppo delle infrastrutture.  Nonostante \\nil Mezzogiorno rappresenti più di un terzo della \\npopolazione italiana, negli ultimi 20 anni la spesa \\nper investimenti pubblici in queste regioni,  \\nconsiderando anche la spesa di imprese pubbliche \\nnazionali come le ferrovie (RFI), le autostrade \\n(ANAS) e gli operatori di distribuzione dell'energia \\nelettrica (TERNA) e gli investimenti provenienti dai \\nfondi dell'UE, è sempre stata inferiore al 30  % ed è \\nscesa al 26  % nel 2021 (grafico A17.3). Date le \\nlimitate capacit à di bilancio della maggior parte \\ndelle regioni, in particolare del Mezzogiorno, gli \\ninvestimenti in nuove infrastrutture e servizi \\ntendono a essere scoraggiati dai costi di\", '8c5862ef-19ee-4155-a0a6-048b8256a822': \"137 manutenzione e ge stione delle infrastrutture \\nesistenti.  \\nGrafico  A17.3 - Spesa in conto capitale nel Centro -\\nNord e nel Mezzogiorno  \\n  \\nUnità : % della spesa totale in Italia  \\nFonte:  elaborazione basata su Conti Pubblici Territoriali.  \\nLe amministrazioni locali delle regioni meno \\nsviluppate hanno spesso una capacità \\nlimitata di fornire servizi essenziali in modo \\nefficace ed equo.  Le amministrazioni delle regioni \\ndel Mezzogiorno tendono a disporre di meno risorse \\nrispetto ad altre regioni, il che comporta maggiori \\nsfide legate all'invecchiamento del le infrastrutture, \\nai ritardi nella manutenzione e all'incapacità di \\nammodernare i servizi pubblici. Le entrate ridotte \\nlimitano la capacità delle amministrazioni locali di \\ninvestire in progetti pubblici che potrebbero \\nstimolare la crescita economica e mig liorare la \\nqualità della vita dei residenti (grafico A17.4). \\nInoltre molti servizi pubblici si basano in parte su \\ntariffe o canoni di utilizzo per coprire i costi \\noperativi. Nelle zone a basso reddito, i residenti \\ndispongono di una minore capacità di pagar e \\ntariffe elevate, il che comporta vincoli di \\naccessibilità economica e genera ostacoli al \\nrecupero dei costi e al reinvestimento in \\ninfrastrutture essenziali che non possono essere \\nsuperati senza storni di bilancio straordinari. Nel \\nMezzogiorno le amminis trazioni locali presentano \\nuna minore capacità amministrativa, uno scarso \\ncoordinamento e inefficienze che ne limitano anche \\nla capacità di attrarre investimenti. Inoltre \\nl'organizzazione dei prestatori di servizi pubblici \\ninfluenza la qualità e la portata  dei servizi.  Grafico  A17.4 - Entrate del settore pubblico \\nregionale e locale  \\n  \\nFonte:  elaborazione basata su Conti Pubblici Territoriali.  \\nQuasi tutte le regioni italiane presentano un \\nelevato livello di vulnerabilità climatica, ma \\nle regioni del Mezzogiorno sono esposte al \\nrischio di sostenere costi dovuti ai \\ncambiamenti climatici più elevati  rispetto al \\nresto del paese (cartina A17.4). Data la maggiore \\nfrequenza e intensità delle catastrofi di natura \\nmeteorologica (cfr. allegato 9), quali temperature \\nestreme, tempeste, alluvioni interne e costiere, \\nsiccità e incendi bosch ivi, le regioni del Mezzogiorno \\nsono spesso colpite da eventi gravi. Le limitate \\nrisorse economiche a disposizione delle \\namministrazioni regionali e locali limitano la \\ncapacità di queste regioni di effettuare investimenti \\nper aumentare la resilienza e miti gare i rischi legati \\nal clima.  \\n \\nCartina A17.4 - Costi della vulnerabilità climatica  \\n \\nCosti economici supplementari di uno scenario di \\nriscaldamento globale di 2°C entro il 2050 rispetto allo \\nscenario di riferimento attuale.  \\nFonte:  9a relazione sulla coesione (dati JRC).\", '9edddc04-171e-4e7b-80a0-6d341f46400c': 'Le limitate \\nrisorse economiche a disposizione delle \\namministrazioni regionali e locali limitano la \\ncapacità di queste regioni di effettuare investimenti \\nper aumentare la resilienza e miti gare i rischi legati \\nal clima.  \\n \\nCartina A17.4 - Costi della vulnerabilità climatica  \\n \\nCosti economici supplementari di uno scenario di \\nriscaldamento globale di 2°C entro il 2050 rispetto allo \\nscenario di riferimento attuale.  \\nFonte:  9a relazione sulla coesione (dati JRC).  \\n \\n71% 72%74%\\n29% 28%26%\\n20%30%40%50%60%70%80%\\n2000\\n2001\\n2002\\n2003\\n2004\\n2005\\n2006\\n2007\\n2008\\n2009\\n2010\\n2011\\n2012\\n2013\\n2014\\n2015\\n2016\\n2017\\n2018\\n2019\\n2020\\n2021\\nCentre-North Mezzogiorno\\n79% 79% 78%\\n21% 21% 22%\\n18%28%38%48%58%68%78%88%\\n2000\\n2001\\n2002\\n2003\\n2004\\n2005\\n2006\\n2007\\n2008\\n2009\\n2010\\n2011\\n2012\\n2013\\n2014\\n2015\\n2016\\n2017\\n2018\\n2019\\n2020\\n2021Italy 2021: 609,355.94 EUR million\\nCentre-North South', '920117b7-865f-4ce7-bbe7-b0cd24dbde3c': '13 regionali, come l\\'obiettivo vincolante di spesa \\ndella Lombardia, promuovono l\\'innovazione \\nnelle procedure di appalto pubblico.  \\nDispiegare il potenziale di ricerca  \\nLa spesa pubblica relativamente bassa \\nper la ricerca e l\\'innovazione e le \\ninefficienze del sistema universitario \\nnazionale costituiscono ulteriori ostacoli \\nall\\'innovazione. Nel 2023 la spesa pubblica \\nitaliana per la ricerca e l\\'innovazione era pari \\nallo 0, 52 % del PIL, al di sotto della media UE \\n(0,72  %). Il piano per la ripresa e la resilienza \\nha fornito risorse aggiuntive per stimolare \\nl\\'innovazione delle imprese, rafforzare le \\ninfrastrutture di ricerca e innovazione e \\nfinanziare la ricerca di base e appl icata. Le \\nrisorse sono assegnate all\\'istruzione superiore \\nattraverso il bilancio annuale, di cui una quota \\nè legata ai risultati. Queste risorse sono \\nintegrate dalla pubblicazione di inviti \\ncompetitivi a presentare progetti a livello \\nnazionale, tuttavia qu esti sono stati indetti in \\nmaniera irregolare e non sono riusciti a creare \\nun ambiente chiaro e prevedibile per gli attori \\ncoinvolti(11). Nel complesso, i finanziamenti \\npubblici a favore di attività di ricerca e \\ninnovazione condotte dagli istituti di istru zione \\nsuperiore rappresentavano ancora solo \\nlo 0,33  % del PIL nel 2023, rispetto alla media \\nUE dello 0,48  %(12). \\nL\\'incertezza occupazionale e un \\navanzamento di carriera poco chiaro \\nostacolano la capacità del settore \\npubblico della ricerca di attrarre e \\ntrattenere talenti.  Il ricorso a contratti a \\nbreve termine \"non tenure -track\" per i \\nricercatori è molto comune (65  % dei \\nricercatori assunti dalle universit à nel \\n \\n(11) Consiglio Nazionale delle Ricerche,2023, Relazione sulla \\nRicerca e L\\'innovazione In Italia, Analisi e dati di politica \\ndella scienza e della Tecnologia,  Quarta Edizione \\nRelazione_sulla_ricerca_e_innovazione_in_Italia_2023.\\npdf. \\n(12) Eurostat (2023), \\nhttps://ec.europa.eu/eurostat/databrowser/view/tsc0000\\n1/default/bar?lang=en&category=t_scitech.t_rd.  2022)(13) e l\\'avanzamento di carriera è lento e \\nincerto, in particolare per i giovani ricercatori . \\nTra il 2012 e il 2022 è aumentata l\\'età media \\ndel personale docente che occupa posizioni \\n\"tenure -track\" e a lungo termine: oltre il 56  % \\ndei professori universitari ha un\\'età superiore \\nai 50  anni (rispetto alla media dell\\'UE e \\ndell\\'OCSE di circa il 40  %) e nessun ricercatore \\nha meno di 30 anni(14). Questi fattori, associati \\na salari relativamente bassi(15), rendono il \\nsettore della ricerca italiano meno attraente \\nper i talenti (cfr. allegato 3).  \\nIl sistema universitario italiano fornisce \\nincentivi limitat i per concentrarsi sulla \\ncommercializzazione della ricerca.  Da un \\nlato, solo una piccola parte della quota \\ndel 30 % del finanziamento ordinario annuale \\nbasata sui risultati è assegnata in funzione \\ndella valorizzazione della ricerca (che \\nrappresenta solo l\\' 1,5 % del finanziamento \\ntotale)(16).', 'fc510667-702e-44c2-99fc-2ab2d5484541': \"Questi fattori, associati \\na salari relativamente bassi(15), rendono il \\nsettore della ricerca italiano meno attraente \\nper i talenti (cfr. allegato 3).  \\nIl sistema universitario italiano fornisce \\nincentivi limitat i per concentrarsi sulla \\ncommercializzazione della ricerca.  Da un \\nlato, solo una piccola parte della quota \\ndel 30 % del finanziamento ordinario annuale \\nbasata sui risultati è assegnata in funzione \\ndella valorizzazione della ricerca (che \\nrappresenta solo l' 1,5 % del finanziamento \\ntotale)(16). Dall'altro lato, le attività di \\nvalorizzazione e di trasferimento delle \\nconoscenze non sono adeguatamente prese in \\nconsiderazione nell'avanzamento di carriera e \\nnella valutazione dei risultati di ricercatori e \\nprofessori. Il sistema attuale si basa ancora in \\nlarga misura sui risultati in termini di \\npubblicazioni piuttosto che sulla valorizzazione \\ndei risultati quali iniziative imprenditoriali, \\nbrevetti e spin -off. \\nNonostante i recenti progressi, gli uffici \\ndi trasferimento tecnologico continuano a \\nessere sottodimensionati, frammentati e \\ndotati di scarsi legami con gli investitori \\nistituzionali.  Gli uffici di trasferimento \\n \\n(13) Questo dato comprende i ricercatori assunti come \\nassegnisti di ricerca, i ricercatori di tipo A e B e i \\nricercatori a lungo termine. ANVUR, 2023, Rapporto sul \\nsistema della formazione superiore e della ricerca, \\nRapporto biennale |  ANVUR . \\n(14) ANVUR, 2023, Rapporto sul sistema della formazione \\nsuperiore e della ricerca, Rapporto biennale |  ANVUR . \\n(15) Civera, A., Lehmann, E., Meoli, M. e Paleari, S. P. (2023), \\nThe Attractiveness of European Higher Education \\nSystems:  A Comparative Analysis of Faculty \\nRemuneration and  Career Paths , \\nhttps://escholarship.org/uc/item/08x00432.  \\n(16) OCSE, 2024, Rafforzare l'impatto sociale delle \\nuniversità italiane:  il progetto ITA.CON , Rafforzare \\nl'impatto sociale delle università italiane |  OCSE .\", '92a777ed-da2f-46c0-99dc-eac29d57f28a': '14 tecnologico sono fondamentali per creare \\npartenariati con imprese e fondi di rischio. \\nOffron o consulenza ai ricercatori in merito alla \\nconcessione di brevetti per tecnologie \\nspecifiche e forniscono finanziamenti di \\navviamento per le spin -off. Secondo il \\nConsiglio nazionale delle ricerche, esiste un \\ndivario significativo tra l\\'Italia e altri Stati  \\nmembri comparabili in termini di personale e \\ndi dotazione finanziaria(17). Sebbene il piano \\nper la ripresa e la resilienza abbia accelerato \\nla creazione di uffici di trasferimento \\ntecnologico, sono necessari ulteriori sforzi per \\naumentare la portata di ta li uffici e \\npromuovere attività di rete incentrate su \\nsettori ad alto impatto. A tal fine, sarebbe utile \\npromuovere l\\'aggregazione degli uffici di \\ntrasferimento tecnologico per area tematica o \\nper dimensione territoriale e rafforzare il \\nlegame con gli inve stitori nazionali in venture \\ncapital.  \\nSviluppare una strategia \\nindustriale nazionale per stimolare \\nla competitività e dispiegare il \\npotenziale del Sud  \\nIn tutto il paese persiste un forte divario \\nin termini di produttività, anche a causa \\ndella minore specia lizzazione del Sud in \\nsettori innovativi.  Sebbene negli ultimi anni \\nil piano per la ripresa e la resilienza, insieme ai \\nfondi di coesione, abbia sostenuto le regioni \\nmeridionali e la crescita nazionale in generale, \\npermangono notevoli disparità economiche e \\nsociali a livello regionale. Nel Sud Italia, la \\nconvergenza della crescita post -COVID è \\nattribuibile principalmente ai settori edile e dei \\nservizi, mentre permangono notevoli divari \\nnell\\'industria. Inoltre il Sud è interessato dal \\ndeclino dei settori ind ustriali in cui si è \\n \\n(17) Gli equivalenti a tempo pieno impiegati negl i uffici di \\ntrasferimento tecnologico sono in numero notevolmente \\ninferiore in Italia rispetto ai casi di riferimento in Europa: \\nItalia (5 -10 ETP) rispetto a Belgio, Francia e Regno \\nUnito (70 -120 ETP). \\nRelazione_sulla_ricerca_e_innovazione_in_Italia_2023.\\npdf. specializzato (ad esempio, industria \\nautomobilistica, raffineria di petrolio).  \\nLa competitività delle regioni meridionali \\nè frenata dalla mancanza di alcuni fattori \\nchiave in grado di generare attrattiva.  \\nNegli ultimi decenni gli inves timenti pubblici al \\nSud sono stati modesti, nonostante i tentativi \\ndi destinare alle regioni meridionali una quota \\ndi investimenti almeno proporzionale alla \\npopolazione (ad esempio, la clausola che \\ndestina almeno il 34  % della spesa pubblica \\nordinaria in c onto capitale al Sud e, \\nsuccessivamente, l\\'impegno nazionale \\ndel 40 % per gli investimenti con destinazione \\nterritoriale). Le regioni meridionali registrano \\nrisultati inferiori alla media nazionale in una \\nserie di settori e indicatori infrastrutturali \\n(cfr. allegato 17). La \"fuga di cervelli\" verso \\nregioni con risultati migliori e l\\'incapacità di \\nattrarre manodopera qualificata ne riducono \\nulteriormente la competitività (cfr. \\nallegato  17). \\nÈ necessaria una nuova politica \\nindustriale per individuare gli \\ninvestimenti e le azioni strategiche \\nchiave dopo il 2026.  Il governo ha \\nrecentemente adottato il libro verde per una \\nstrategia industriale nazionale e il piano \\nstrategico per la zona economica speciale \\n(ZES) unica.', 'cbf79a20-f147-464d-878b-ff7cc793083f': 'Le regioni meridionali registrano \\nrisultati inferiori alla media nazionale in una \\nserie di settori e indicatori infrastrutturali \\n(cfr. allegato 17). La \"fuga di cervelli\" verso \\nregioni con risultati migliori e l\\'incapacità di \\nattrarre manodopera qualificata ne riducono \\nulteriormente la competitività (cfr. \\nallegato  17). \\nÈ necessaria una nuova politica \\nindustriale per individuare gli \\ninvestimenti e le azioni strategiche \\nchiave dopo il 2026.  Il governo ha \\nrecentemente adottato il libro verde per una \\nstrategia industriale nazionale e il piano \\nstrategico per la zona economica speciale \\n(ZES) unica. La pubblicazione del libro verde \\n\"Made in Ita ly 2030\" da parte del ministero \\ndelle Imprese e del Made in Italy (MIMIT) mira \\nad avviare un dibattito sulla necessità di una \\nnuova strategia industriale. Il libro verde \\nindividua quattro temi principali: \\nrafforzamento dell\\'identità industriale \\nnazionale, promozione della triplice transizione \\n(verde, digitale e geopolitica), ridefinizione del \\nruolo dello Stato nell\\'economia e sviluppo \\ndella dimensione internazionale della politica \\nindustriale italiana. Ciascuno di questi temi è \\nassociato a un\\'azione strateg ica e \\na 15 obiettivi. Parallelamente, il piano ZES \\nmira a introdurre una strategia industriale per \\nl\\'intero territorio meridionale(), individuando \\ndiversi ampi settori strategici, concentrandosi \\nprincipalmente su quelli che hanno già una \\npresenza consolida ta, ossia il turismo, \\nl\\'industria automobilistica, il settore \\nagroalimentare, l\\'elettronica e le TIC e il Made \\nin Italy di qualità (ad esempio la moda, il', 'ee8509bd-e4aa-4522-8e29-ff4833965dae': \"15 settore dei mobili in legno). Sono state \\nindividuate quattro filiere strategiche \\naggiuntive alla luce  delle loro prestazioni \\ncompetitive: chimica e farmaceutica, navale e \\ncantieristica, aerospaziale e ferroviaria. Infine, \\nil piano mira anche a sviluppare tecnologie \\ntrasversali, in linea con i settori individuati dal \\nprogramma STEP: tecnologie digitali, \\ntecnologie pulite e biotecnologie. L'Italia sta \\ngià compiendo notevoli sforzi in questa \\ndirezione, destinando quasi 3 miliardi di EUR \\nalle priorità STEP nell'ambito dei programmi \\ndella politica di coesione.  \\nLo sviluppo di una politica industriale \\nchiara è os tacolato dalla frammentazione \\ndella governance.  Il piano ZES e i piani \\nnazionali sono elaborati secondo due sistemi \\ndi governance distinti: il primo è gestito dalla \\nstruttura di missione ZES e il secondo dal \\nMIMIT, in un contesto di politica industriale \\nnazionale già frammentato. A livello centrale, \\nle misure di sostegno finanziario per la ricerca \\ne l'innovazione sono suddivise tra vari \\nministeri. A livello subnazionale, anche le \\nregioni sono impegnate nelle proprie strategie \\ndi innovazione e nei loro regim i di sostegno \\ncon un coordinamento nazionale minimo. \\nInfine, se da un lato la governance \\ncentralizzata della ZES attraverso un'unica \\nstruttura di missione può garantire un buon \\ncoordinamento in tutta l'area meridionale \\n(rispetto alle precedenti otto ZES de finite \\nlocalmente), i dipartimenti regionali dedicati \\nagli investimenti e all'innovazione (come \\nquello della regione Campania) potrebbero \\nfungere da riferimento territoriale necessario \\nper attrarre gli investimenti.  \\nÈ necessario un piano strategico più \\nconcreto e moderno. Occorre individuare \\nmeglio i settori strategici, tenendo conto delle \\nnuove tendenze e tecnologie industriali, al fine \\ndi orientare le misure politiche in modo più \\nefficace e integrarle con gli investimenti \\ninfrastrutturali; sono inoltre ne cessarie azioni \\nconcrete.  Il piano ZES mira a individuare la \\nspecializzazione industriale della zona. Manca \\ntuttavia di una dimensione territoriale e di una \\nstrategia di sviluppo per i principali distretti \\nindustriali individuati. Nello specifico, le caten e \\ndel valore strategiche sono selezionate da un \\nelenco di settori tradizionali che non tiene conto dello sviluppo di nuove tecnologie e \\nquindi della creazione di nuove catene del \\nvalore (ad esempio le energie rinnovabili, le \\ninfrastrutture digitali e l'IA) . Una migliore \\ndefinizione ex ante delle catene del valore \\npotrebbe migliorare il processo di \\nindividuazione di quelle strategiche. È inoltre \\npresente una discrepanza temporale tra \\nl'orizzonte più a lungo termine del piano e gli \\nincentivi volti ad attrarre  nuovi investimenti \\nche sono previsti per un solo anno. Il piano \\ntrarrebbe vantaggio da una mappatura degli \\ninvestimenti prioritari e dall'individuazione di \\nazioni concrete e obiettivi mirati a lungo \\ntermine.  \\nUn sistema fiscale più favorevole \\nalla crescita  \\nL'efficienza del sistema fiscale italiano è \\nmigliorata, ma permangono alcune \\ndebolezze in relazione al mix fiscale e \\nall'evasione fiscale.\", '12e6beff-4b08-4d3e-8e8b-b6fa710a4b9b': \"Una migliore \\ndefinizione ex ante delle catene del valore \\npotrebbe migliorare il processo di \\nindividuazione di quelle strategiche. È inoltre \\npresente una discrepanza temporale tra \\nl'orizzonte più a lungo termine del piano e gli \\nincentivi volti ad attrarre  nuovi investimenti \\nche sono previsti per un solo anno. Il piano \\ntrarrebbe vantaggio da una mappatura degli \\ninvestimenti prioritari e dall'individuazione di \\nazioni concrete e obiettivi mirati a lungo \\ntermine.  \\nUn sistema fiscale più favorevole \\nalla crescita  \\nL'efficienza del sistema fiscale italiano è \\nmigliorata, ma permangono alcune \\ndebolezze in relazione al mix fiscale e \\nall'evasione fiscale.  Il gettito fiscale in \\nrapporto al PIL è diminuito marginalmente \\nnel 2023 grazie a una riforma fiscale \\ngenerale, ma r imane relativamente elevato \\nrispetto alla media UE e il maggiore contributo \\nproviene dalla tassazione dei redditi da lavoro. \\nIl cuneo fiscale sul lavoro è diminuito \\nnotevolmente nel 2023 grazie alle misure \\nadottate. Nel 2024 il cuneo fiscale si è \\nulteriorm ente ridotto per gran parte dei livelli \\ndi reddito, mentre per i percettori di reddito in \\nfamiglie unipersonali a salario medio è \\naumentato notevolmente, in quanto il salario \\nmedio è salito al di sopra della soglia per \\nbeneficiare della riduzione dei contr ibuti \\nprevidenziali. Nel complesso, nonostante le \\nmisure adottate, il cuneo fiscale in Italia \\nrimane notevolmente al di sopra della media \\nUE. I regimi speciali e l'ampia serie di spese \\nfiscali, anche in materia di imposta sul valore \\naggiunto (IVA), rendono  il sistema tributario \\nestremamente complesso ed erodono la base \\nimponibile, con una conseguente notevole \\nperdita di gettito. Spostare l'elevato carico \\nfiscale che attualmente grava sul lavoro verso \\naltre fonti di entrate sottoutilizzate, che sono \\nmeno pen alizzanti per la crescita, \\ncontribuirebbe ad aumentare le possibilità di \\ncrescita. Inoltre le imposte sull'energia non\", '9e3f0a23-249b-48f1-b0f7-c85720ea0c35': '16 sono concepite in modo da incoraggiare la \\ntransizione verso tecnologie pulite. Infine, \\nl\\'evasione fiscale rimane elevata, anche se le \\nambiziose contromisure adottate negli ultimi \\nanni, anche nell\\'ambito del piano per la ripresa \\ne la resilienza, stanno dando i loro frutti (cfr. \\nallegato  1). Al contempo, le recenti misure \\nassimilabili a condoni fiscali rischiano di \\nessere controproducenti in termini di \\nadempimento degli obblighi fiscali, mentre il \\nsistema di concordato preventivo tra \\nl\\'amministrazione e le piccole imprese in \\nmerito ai loro debiti fiscali (\"concordato \\npreventivo biennale\") necessita di un attento \\nmonitoraggio. I valori catastal i non sono \\nancora in linea con gli attuali valori di mercato, \\nin quanto devono ancora essere aggiornati in \\nmodo organico e completo.  \\nNel suo piano strutturale di bilancio di \\nmedio termine l\\'Italia si è impegnata a \\nfavore di nuove misure in materia di \\nfisca lità. Tali misure comprendono una \\nriduzione permanente del cuneo fiscale, \\nobiettivi supplementari per l\\'amministrazione \\nfiscale, un riordino delle spese fiscali e \\nl\\'aggiornamento dei valori catastali per \\ndeterminate proprietà, il che risponderebbe in \\nparte  alle precedenti raccomandazioni \\nspecifiche per paese. Sono tuttavia necessari \\nmaggiori sforzi per affrontare appieno le sfide \\ncui è esposto il sistema fiscale. Alcuni impegni \\nprevisti dal piano strutturale di bilancio di \\nmedio termine sono già stati attua ti con il \\nbilancio 2025, tra cui il taglio permanente del \\ncuneo fiscale e una prima riduzione delle \\nspese fiscali.', 'd9110261-9b06-446e-99a0-f147730e2971': \"DECARBONIZZAZIONE, ACCESSIBILITÀ ECONOMICA \\nDELL'ENERGIA E SOSTENIBILITÀ  \\n17 Il primato nelle tecnologie pulite e \\nla sfida delle materie prime in \\nItalia  \\nL'Italia è uno dei leader europei nel \\nsettore delle tecnologie pulite, essendo \\ndotata di un numero significativo di \\nimpianti di produzione di energia solare \\nfotovoltaica ed eolica.  L'Italia rappres enta \\nil 14 % della capacit à di produzione dell'UE per \\nil solare fotovoltaico, il 4  % per l'energia eolica \\ne una quota trascurabile per le batterie e le \\ntecnologie di stoccaggio. L'Italia conta inoltre \\nalmeno 50 fabbriche specializzate nella \\nproduzione di p ompe di calore, il che \\ndiversifica ulteriormente il suo portafoglio \\nmanifatturiero. È anche leader a livello \\nmondiale e dell'UE nella produzione di cavi e \\nsistemi per la trasmissione e la distribuzione di \\nenergia elettrica.  \\nIl settore manifatturiero italia no dipende \\nfortemente dalle importazioni delle \\nmaterie prime critiche e dei \\nsemiconduttori necessari per le \\ntransizioni verde e digitale , come \\nmicrochip, litio, cobalto e terre rare, che sono \\nessenziali per la realizzazione di prodotti ad \\nalta tecnologia, tra cui veicoli elettrici, turbine \\neoliche ed elettronica. Tale dipendenza \\ncomporta sfide significative in termini di \\nsostenibilità e resilienza, come ad esempio \\nrischi per la catena di approvvigionamento, \\ndegrado ambientale e criticità sociali. \\nNel 2022 è  stato importato il 48  % dei \\nmateriali impiegati nel settore manifatturiero \\n(media UE: 22  %), aspetto che rende l'Italia \\nparticolarmente vulnerabile alle perturbazioni \\ndella catena di approvvigionamento.  \\nL'Italia è in testa alla classifica \\nnell'economia ci rcolare, anche in termini di materie prime critiche, attenuando in \\nparte il rischio di perturbazioni delle \\ncatene di approvvigionamento. Nel 2023 il \\ntasso di utilizzo circolare dei materiali era \\ndel 20,8  % (media UE: 11,8  %), il che fa \\ndell'Italia uno dei primi paesi dell'UE sotto \\nquesto punto di vista. Il tasso di riciclaggio dei \\nrifiuti elettronici, che rappresentano una fonte \\nfondamentale di materie prime critiche, è \\nsuperiore alla media UE, essendosi attestato \\nall'88,9  % nel 2021.  \\nDiversi investimenti e politiche sono in \\natto per rafforzare l'autonomia \\nstrategica dell'Italia. Nell'ambito del piano \\nper la ripresa e la resilienza, l'Italia partecipa a \\ndiversi importanti progetti di comune interesse \\neuropeo (IPCEI) nei settori delle batt erie, della \\nmicroelettronica e dell'idrogeno. Altri \\ninvestimenti industriali fondamentali per \\naumentare la capacità dell'Italia di fabbricare \\nprodotti strategici, come pannelli solari e \\nsemiconduttori, hanno ricevuto sovvenzioni a \\ntitolo del dispositivo pe r la ripresa e la \\nresilienza. Infine, il piano per la ripresa e la \\nresilienza investe anche nel recupero e nel \\nriciclaggio dei rifiuti di apparecchiature \\nelettriche ed elettroniche (RAEE) e delle \\nmaterie prime critiche, finanziando il \\nmiglioramento degli i mpianti esistenti, la \\ncostruzione di nuovi impianti RAEE, l'estrazione \\nmineraria urbana e la progettazione \\necocompatibile.\", '7cf10014-7e77-4af7-80c0-3f2ee5e4e50e': \"Altri \\ninvestimenti industriali fondamentali per \\naumentare la capacità dell'Italia di fabbricare \\nprodotti strategici, come pannelli solari e \\nsemiconduttori, hanno ricevuto sovvenzioni a \\ntitolo del dispositivo pe r la ripresa e la \\nresilienza. Infine, il piano per la ripresa e la \\nresilienza investe anche nel recupero e nel \\nriciclaggio dei rifiuti di apparecchiature \\nelettriche ed elettroniche (RAEE) e delle \\nmaterie prime critiche, finanziando il \\nmiglioramento degli i mpianti esistenti, la \\ncostruzione di nuovi impianti RAEE, l'estrazione \\nmineraria urbana e la progettazione \\necocompatibile.  \\nPromuovere la decarbonizzazione \\ndell'industria italiana  \\nIl settore manifatturiero italiano \\npresenta un'intensità di emissioni di gas \\na effetto serra simile a quella dell'UE nel \\nsuo complesso, ma la sua quota di \\nemissioni legate all'energia è\", '1c56c4c4-0f9a-4a0a-9c78-ca342556c46d': \"18 notevolmente più elevata.  Circa il 22  % \\ndelle emissioni totali di gas a effetto serra \\ndell'Italia proviene dal settore manifatturi ero, \\ncome avviene nell'UE nel suo complesso (cfr. \\nallegato 7). Dal 2017 l'intensità di gas a \\neffetto serra dell'industria manifatturiera \\nitaliana è diminuita di appena il 4  %, ben al di \\nsotto della media UE (20  %). La quota italiana \\ndi emissioni di gas a e ffetto serra legate \\nall'energia prodotte dall'industria (rispetto alle \\nemissioni legate ai processi industriali e all'uso \\ndei prodotti), pari a due terzi nel 2023, è la più \\nelevata dell'UE, dove tale quota si attesta \\ncomplessivamente al 57  %. \\nRispetto all' UE nel suo complesso, il \\nsettore manifatturiero italiano presenta \\nuna minore intensità in termini di \\nemissioni prodotte dai processi e dall'uso \\ndei prodotti.  Tra il 2017 e il 2022 l'intensità \\ndelle emissioni di gas a effetto serra legate \\nall'energia prodot te dal settore manifatturiero \\nin Italia è diminuita del 13  %, un valore \\nanalogo alla media UE. Nello stesso periodo \\nl'intensità delle emissioni legate ai processi e \\nall'uso dei prodotti è diminuita del 23  % (come \\nnell'UE nel suo complesso), pari ad appena \\nil 62 % del totale dell'UE. La quota di energia \\nelettrica e di energie rinnovabili sul consumo \\nfinale di energia nel settore manifatturiero \\nnello stesso periodo è rimasta \\nsostanzialmente stabile, attestandosi intorno \\nal 41  %. Ci ò vale anche per l'intensità  \\nenergetica del settore manifatturiero italiana, \\nche è diminuita di circa il 5  %. \\nAbbassare i prezzi dell'energia \\nelettrica e ridurre la volatilità per \\nla competitività industriale  \\nI prezzi elevati dell'energia elettrica \\nsoffocano la competitività industri ale. \\nNel 2024 i prezzi all'ingrosso dell'energia \\nelettrica in Italia hanno superato quelli della \\nGermania (del 60  %), della Spagna (del 99  %) \\ne della Francia (del 116  %). Tale divario è \\ndovuto a due fattori principali: il mix di energia \\nelettrica e la comp osizione dei prezzi finali. In \\nprimo luogo, la costosa produzione di energia \\nelettrica a partire dal gas rappresenta il 41  % del mix di energia elettrica (la seconda quota \\nin ordine di grandezza nell'UE) e determina il \\nprezzo di mercato dell'energia elettr ica \\nnel  60 % circa dei casi. In secondo luogo, i \\nprezzi finali dell'energia elettrica sono gonfiati \\nda ingenti imposte e prelievi, il che \\nrappresenta una particolare sfida per le \\nindustrie ad alta intensità energetica (cfr. \\nallegato 8). Per questi utenti, le imposte non \\nrecuperabili rappresentano il 19  % del prezzo \\nfinale dell'energia elettrica (rispetto alla media \\nUE del 12  %), mentre il gas è quasi esente da \\nimposte (circa il 2  % rispetto alla media UE \\ndel 9 %), il che rappresenta un disincentivo \\nall'elettrificazione.  \\nL'energia elettrica da fonti rinnovabili \\ndeve essere diffusa più rapidamente al \\nfine di aumentarne la relativa quota \\nall'interno del mix energetico e ridurre i \\nprezzi.\", 'ff62c998-4cdd-4bdb-8868-f849e093bbaf': 'allegato 8). Per questi utenti, le imposte non \\nrecuperabili rappresentano il 19  % del prezzo \\nfinale dell\\'energia elettrica (rispetto alla media \\nUE del 12  %), mentre il gas è quasi esente da \\nimposte (circa il 2  % rispetto alla media UE \\ndel 9 %), il che rappresenta un disincentivo \\nall\\'elettrificazione.  \\nL\\'energia elettrica da fonti rinnovabili \\ndeve essere diffusa più rapidamente al \\nfine di aumentarne la relativa quota \\nall\\'interno del mix energetico e ridurre i \\nprezzi.  Un quadro legislativo più trasparente e \\naccessibile per il rilasci o delle autorizzazioni \\npotrebbe accelerare la diffusione. A tale \\nriguardo, la raccolta, il raggruppamento e il \\nconsolidamento delle norme vigenti in materia \\ndi autorizzazioni nell\\'ambito del capitolo del \\npiano per la ripresa e la resilienza dedicato a \\nREPo werEU saranno fondamentali. Gli \\ninvestimenti nei meccanismi di stoccaggio e \\ngestione della domanda sono essenziali per \\naumentare la flessibilità del sistema, affinché \\npossa far fronte alla natura intermittente delle \\nfonti energetiche rinnovabili (cfr. alle gato  8). \\nCiò consentirebbe alle energie rinnovabili di \\nsoddisfare la domanda in modo più coerente, \\naumentando la probabilità per queste fonti di \\nenergia elettrica più economiche di \\ndeterminare il prezzo marginale, in particolare \\ndurante i periodi di punta.  La riforma relativa \\nalla \"semplificazione delle procedure di \\nautorizzazione per gli impianti rinnovabili\" \\nnell\\'ambito del piano per la ripresa e la \\nresilienza agevola tali investimenti. Nel \\nfrattempo, i meccanismi di stabilizzazione dei \\nprezzi a lungo ter mine, come i contratti per \\ndifferenza e gli accordi di compravendita di \\nenergia elettrica, possono proteggere sia i \\nproduttori di energia rinnovabile che i \\nconsumatori industriali dalla volatilità dei \\nprezzi determinata dal gas, a condizione che \\nnon compro mettano la liquidità del mercato \\ndell\\'energia elettrica. Una riforma nell\\'ambito \\ndel capitolo del piano per la ripresa e la', '2f56925e-d9e1-4a8a-8e9e-271796eddf7f': \"19 resilienza dedicato a REPowerEU istituisce un \\nregime di garanzia per attenuare il rischio \\nassociato agli accordi di compravendita di  \\nenergia elettrica da fonti rinnovabili e \\npromuovere il ricorso a tali accordi. Una più \\nrapida diffusione delle energie rinnovabili nel \\nmix energetico contribuirebbe inoltre a \\nconseguire l'obiettivo previsto dal regolamento \\nsulla condivisione degli sforzi.  \\nAffrontare i rischi climatici  \\nL'Italia è uno degli Stati membri dell'UE \\nmaggiormente esposti ai rischi climatici, \\nil che incide sui suoi risultati economici . \\nTra il 1980 e il 2023 l'Italia ha registrato \\n21 822 decessi e quasi 134 miliardi di EUR di \\nperdit e economiche a causa di eventi \\nmeteorologici e climatici estremi(18). Si stima \\nche nel 2030 i costi annuali dei cambiamenti \\nclimatici per le infrastrutture in Italia \\nammonteranno a circa 2 miliardi di EUR(19). Le \\nproiezioni indicano un impatto negativo \\ncumulativo sul PIL pro capite pari al 3,7  % \\nnel 2050 e all'8,5  % nel 2080(20). Le PMI sono \\nparticolarmente vulnerabili e gli eventi legati \\nal clima hanno un impatto significativo sulla \\nloro produttività e competitività. Uno studio \\ndella Banca d'Italia ha rile vato che le PMI \\nitaliane colpite da eventi estremi sono esposte \\na un rischio di fallimento superiore del 4,8  % \\nrispetto ad altre imprese e che le imprese che \\nsopravvivono registrano un calo del fatturato e \\ndell'occupazione rispettivamente del 4,2  % e \\ndell'1,9 % nei tre anni successivi(21). Un \\nmaggiore ricorso a strategie basate sulla \\nnatura contribuirebbe ad attenuare \\ninondazioni, ondate di calore, siccità e incendi \\nboschivi (cfr. allegato 9).  \\n \\n(18) Agenzia europea dell'ambiente (AEA), 2024, European \\nClimate Risk Assessment . \\n(19) MIMS 2022, Cambiamenti climatici, infrastrutture e \\nmobilità , Link. \\n(20) Ronchi, E. 2019, Relazione sullo stato della green \\neconomy , Link. \\n(21) Banca d'Italia, 2022, Gli effetti del cambiamento \\nclimatico sull'e conomia italiana. Un progetto di ricerca \\ndella Banca d'Italia , Occasional Paper n.  728, pag.  50, \\nQEF_728_22.pdf . La vulnerabilità idrogeologica dell'Italia \\naggrava tali rischi, per cui l'adattamento \\nai cambiamenti climatici rappresenta una \\npriorità urgente, come anche l'aumento \\ndell'efficienza, della conservazione e \\ndella resilienza delle risorse idriche.  \\nSecondo l'Alleanza italiana per lo sviluppo \\nsostenibile (ASviS), la spesa a nnuale dell'Italia \\nper i danni causati da rischi idrogeologici è \\ntriplicata attestandosi a 3,3 miliardi di EUR tra \\nil 2010 e il 2023(22). Vi è ampio margine per \\nmigliorare l'efficacia delle politiche di \\nadattamento ai cambiamenti climatici e della \\ngestione delle risorse idriche, al di là delle \\nazioni incluse nel piano per la ripresa e la \\nresilienza e di quelle finanziate nell'ambito \\ndella politica di coesione.\", 'e7e26785-9f03-42e1-b16c-60e491ed1a97': \"Secondo l'Alleanza italiana per lo sviluppo \\nsostenibile (ASviS), la spesa a nnuale dell'Italia \\nper i danni causati da rischi idrogeologici è \\ntriplicata attestandosi a 3,3 miliardi di EUR tra \\nil 2010 e il 2023(22). Vi è ampio margine per \\nmigliorare l'efficacia delle politiche di \\nadattamento ai cambiamenti climatici e della \\ngestione delle risorse idriche, al di là delle \\nazioni incluse nel piano per la ripresa e la \\nresilienza e di quelle finanziate nell'ambito \\ndella politica di coesione. Ridurre la \\nframmentazione tra le diverse autorità e i \\ndiversi organismi, sia a livello naz ionale che \\nlocale, migliorerebbe l'analisi, la pianificazione \\ne l'attuazione delle misure di mitigazione, \\nnonché la gestione degli eventi critici. In linea \\ndi principio, tutte queste azioni rientrerebbero \\nnell'ambito di competenza dell'osservatorio \\nsull'ad attamento ai cambiamenti climatici, \\nprevisto dal piano nazionale di adattamento \\n(PNACC), approvato nel 2023, che tuttavia non \\nè ancora operativo. La gestione sostenibile \\ndelle risorse idriche continua a rappresentare \\nun importante problema ambientale, in \\nparticolare in termini di governance, ripristino \\ndei corpi idrici superficiali ed efficienza idrica.  \\nLa perdita, il degrado e \\nl'impermeabilizzazione del suolo \\ncontinuano a peggiorare, il che accresce \\nla necessità di azioni volte a migliorare la \\nresilienza d el suolo. Ciò contribuirebbe a \\nridurre il rischio idrogeologico e a mantenere \\nla produttività. Dalle statistiche nazionali è \\nemerso che nel 2023 20 ettari di suolo al \\ngiorno sono stati convertiti in copertura \\nartificiale del suolo (consumo di suolo). Tra \\nil 2006 e il 2023 le perdite economiche annue \\nstimate dovute alla diminuzione dei servizi \\necosistemici a causa del consumo di suolo \\n \\n(22) Alleanza Italiana per lo Sviluppo Sostenibile (ASviS), \\n2023, Rischio idrogeologico in Italia, senza prevenzione \\ncosti triplicati in 13 anni .\", '56711f78-5068-4c5b-aa14-24c8e74d867c': \"20 variano da 8,22 a 10,06 miliardi di EUR(23). \\nInoltre, a livello dell'UE, l'Italia risente di una \\ndelle quote più elevate di p erdita di \\nproduttività agricola a causa dell'erosione del \\nsuolo, con una perdita di produttività delle \\ncolture stimata a 619 milioni di EUR \\nall'anno(24). \\nL'elevata esposizione dell'Italia al rischio \\nclimatico non è compensata da una \\ncopertura assicurativa sufficiente.  Solo \\nil 4 % delle perdite dovute a eventi \\nmeteorologici e climatici verificatisi tra il 1980 \\ne il 2023 è stato coperto da un'assicurazione. \\nSi tratta di un dato nettamente inferiore alla \\nmedia UE (18,9  %)(25). Tenendo conto \\ndell'elevata percen tuale di imprese e famiglie \\nesposte al rischio climatico e del fatto che si \\nprevede un aumento degli eventi estremi in \\nfuturo, l'ampio deficit di protezione \\nassicurativa comporta implicazioni economiche \\nsignificative per gli individui, le imprese e le \\nfinanze pubbliche nel riprendersi dagli effetti \\ndelle catastrofi legate al clima. L'effettiva \\nattuazione delle disposizioni recentemente \\nadottate per l'assicurazione obbligatoria delle \\nimprese contro eventi estremi e catastrofi \\nnaturali costituirebbe un primo passo per \\ncolmare tale deficit. La normativa vigente non \\nprevede un regime di assicurazione \\nobbligatoria o semi -volontaria per l'edilizia \\nabitativa.  \\n \\n \\n(23) ISPRA, 2024, Consumo di suolo, dinamiche territoriali e \\nservizi ecosistemici.  Edizione 2024 – SNPA – Sistema \\nnazionale protezione ambiente , pagg.  199-200 e \\npag. 343. \\n(24) Panagos P. et al., 2018, Cost of agricultural productivity \\nloss due to soil erosion in the European Union , tabella 6 \\nLand Degradation & Development  | Environmental & \\nSoil Science Journal |  Wiley Online Journal . \\n(25) AEA, 2024, Economic losses from weather - and \\nclimate -related extremes in Europe .\", '52fdad19-a116-423b-b731-27aa7d2ef513': 'COMPETENZE, POSTI DI LAVORO DI QUALITÀ ED \\nEQUITÀ SOCIALE  \\n21 Nonostante l\\'aumento dei tassi di \\noccupazione, il mercato del lavoro \\nitaliano deve far fronte a una crescita \\nstagnante della produttività e a notevoli \\nsquilibri tra domanda e offerta di \\ncompetenze, il che ostacola la \\ncompetitività.  In un contesto caratterizzato \\nda una debole dinamica della produttività, la \\nvigorosa crescita dell\\'occupazione degli ultimi \\nanni non è stata accompagnata da un \\naumento del PIL reale. L\\'incapacità dell\\'Italia di \\naumentare la crescita della pro duttività deriva \\nda vari fattori strutturali che si rafforzano a \\nvicenda. Nonostante alcuni progressi \\nconseguiti attraverso le recenti misure del \\npiano per la ripresa e la resilienza, la \\ndebolezza strutturale del sistema di istruzione \\ne formazione ostacola  lo sviluppo dei talenti, \\nlascia insoddisfatta la domanda di \\nmanodopera qualificata e scoraggia gli \\ninvestimenti in iniziative imprenditoriali \\ninnovative. A sua volta, in Italia la \\npredominanza di posti di lavoro a basso \\ncontenuto tecnologico e la scarsa q ualità del \\nlavoro non riescono a garantire un rendimento \\nadeguato dell\\'istruzione, riducendo la \\npartecipazione alla forza lavoro e spingendo i \\ngiovani di talento a emigrare. Per soddisfare le \\nesigenze attuali e future del mercato del \\nlavoro e migliorare la  produttività, è opportuno \\nmigliorare i livelli di competenze lungo tutto \\nl\\'arco della vita, innalzando nel contempo la \\nqualità del lavoro.  \\nLo sviluppo delle competenze \\nlungo tutto l\\'arco della vita è \\nfondamentale per la competitività \\ndell\\'Italia  \\nIl calo dei risultati dell\\'Italia nello \\nsviluppo delle competenze di base in \\nscienze e matematica rende necessario un rafforzamento del sistema di \\nistruzione.  L\\'indagine PISA 2022 dell\\'OCSE \\nsulle competenze di base ha evidenziato la \\npersistente  tendenza al ribasso dei risultati in \\ntermini di competenze di base, in particolare in \\nmatematica e scienze, collocando l\\'Italia al di \\nsotto della media UE. Inoltre i risultati \\ndell\\'indagine PISA evidenziano la persistenza \\ndi risultati insoddisfacenti tra gli alunni \\nprovenienti da contesti socioeconomici \\nsvantaggiati e tra quelli iscritti a percorsi di \\nistruzione professionale. Nonostante gli sforzi \\ndi riforma promossi attraverso il dispositivo \\nper la ripresa e la resilienza, il paese deve \\nancora far fronte  alla carenza strutturale di \\ndocenti in determinati settori e regioni. \\nAffinché il maggior numero possibile di giovani \\npossa disporre di competenze di base \\nadeguate, a partire dalle quali poter sviluppare \\ncompetenze più avanzate e/o orientate al \\nlavoro, le  scuole con le prestazioni peggiori e \\ngli studenti con i risultati inferiori necessitano \\ndi un sostegno mirato. Offrire a docenti esperti \\nincentivi finanziari affinché si trasferiscano \\nnelle scuole più svantaggiate potrebbe \\nmigliorare il rendimento degli a lunni di tali \\nscuole. L\\'allungamento dell\\'orario scolastico \\n(tempo pieno) nelle scuole che attualmente \\nnon lo prevedono potrebbe essere utile, così \\ncome una diffusione generale dell\\'iniziativa \\nscolastica estiva \"Piano Estate\".', '1de83105-8f80-410b-af6c-1626e3f0501a': 'Offrire a docenti esperti \\nincentivi finanziari affinché si trasferiscano \\nnelle scuole più svantaggiate potrebbe \\nmigliorare il rendimento degli a lunni di tali \\nscuole. L\\'allungamento dell\\'orario scolastico \\n(tempo pieno) nelle scuole che attualmente \\nnon lo prevedono potrebbe essere utile, così \\ncome una diffusione generale dell\\'iniziativa \\nscolastica estiva \"Piano Estate\". È stato inoltre \\nintrodotto un  sistema migliorato di formazione \\ncontinua per gli insegnanti, valutarne l\\'impatto \\ne innovare strutturalmente i metodi di \\ninsegnamento, dedicando particolare \\nattenzione alle discipline STEM, potrebbe \\ncontribuire a migliorare i risultati in termini di \\nsviluppo delle competenze di base.  \\nLa domanda di competenze a breve \\ntermine rende necessario rafforzare il \\nsistema di istruzione e formazione \\nprofessionale (IFP) e aumentare l\\'offerta \\ndi apprendimento basato sul lavoro.  \\nL\\'Italia deve far fronte a un significat ivo', 'af0a3897-22cd-484b-95b2-b2dd335d0205': '22 squilibrio strutturale tra domanda e offerta di \\ncompetenze. Nel 2024 ha registrato il secondo \\nlivello più elevato di squilibrio \\nmacroeconomico tra domanda e offerta di \\ncompetenze nell\\'UE e il 40  % dei lavoratori era \\noccupato in posti di lavoro non corr ispondenti \\nal proprio ambito di studio. Sebbene l\\'attuale \\ntasso di posti di lavoro vacanti, pari al 2,1  %, \\nnon rispecchi una diffusa carenza di \\nmanodopera, in settori quali l\\'edilizia, \\nl\\'assistenza sanitaria e le TIC sono presenti \\ndifficoltà a reclutare pe rsonale. Ciò lascia \\nintendere che, sebbene persista una più ampia \\nproblematica di fondo relativa allo squilibrio \\ntra domanda e offerta di competenze, le \\nattuali carenze di manodopera sono \\nrelativamente ridotte e limitate a professioni \\nspecifiche che richie dono qualifiche di livello \\nmedio, per cui sono necessarie soluzioni \\nmirate a breve termine. Dedicare ulteriore \\nattenzione all\\'IFP, compresi investimenti \\ncontinui nelle iniziative di successo del \\ndispositivo per la ripresa e la resilienza come \\ngli istituti tecnologici superiori (ITS Academy), \\ne garantire l\\'allineamento dei programmi di \\nstudio alle competenze tecniche e trasversali \\nrichieste dal mercato del lavoro potrebbe \\ncontribuire a rispondere alle carenze di \\nmanodopera, in particolare nelle professioni \\ncaratterizzate da un\\'elevata domanda e nei \\nsettori ad alta crescita, in tutte le funzioni \\ndella catena di approvvigionamento, compresi i \\nlavoratori edili altamente specializzati. Al di là \\ndelle iniziative nazionali di successo come il \\n\"Fondo Nuove Competenz e\", in futuro un \\naccesso continuo e prevedibile agli \\ninvestimenti nell\\'apprendimento degli adulti \\nrisulta fondamentale. Nello specifico, dato che \\nla formazione sul luogo di lavoro risulta molto \\nefficace, gli incentivi per i datori di lavoro che \\noffrono opp ortunità di apprendimento basato \\nsul lavoro, con particolare attenzione alla \\nformazione a breve termine e alle \\nmicrocredenziali, possono contribuire a \\ncolmare le lacune in termini di competenze.  \\nFormare e attrarre talenti altamente \\nqualificati è fondamenta le per stimolare \\nla competitività economica.  L\\'Italia registra \\nla seconda percentuale più bassa di giovani \\nlaureati nell\\'UE e si trova ad affrontare una \\npersistente fuga di cervelli netta (cfr. \\nallegato  12). Sebbene le attuali carenze di manodopera si conc entrino nelle professioni \\nnon terziarie, a medio e lungo termine è \\nessenziale dedicare attenzione ai lavoratori \\naltamente qualificati, in quanto stimolano la \\nproduttività e l\\'innovazione. Un\\'economia \\ncompetitiva richiede una forza lavoro \\naltamente qualific ata, dotata di competenze \\ntrasversali e di competenze cognitive di ordine \\nsuperiore, tra cui il pensiero critico e \\nl\\'apprendimento continuo, competenze che \\nvengono notevolmente rafforzate a livello di \\nistruzione terziaria. Per affrontare questa sfida \\nsono necessari miglioramenti strutturali della \\nqualità e dell\\'accessibilità dell\\'istruzione \\nsuperiore. Al di là degli investimenti del piano \\nper la ripresa e la resilienza in borse di studio \\nper l\\'istruzione terziaria, l\\'Italia potrebbe \\nampliare sia la disponib ilità che il livello di \\nsostegno finanziario, al fine di allinearsi a \\npaesi comparabili come la Francia e la Spagna.', 'd55108df-fd5b-47a3-94d1-30ee318fc561': \"Per affrontare questa sfida \\nsono necessari miglioramenti strutturali della \\nqualità e dell'accessibilità dell'istruzione \\nsuperiore. Al di là degli investimenti del piano \\nper la ripresa e la resilienza in borse di studio \\nper l'istruzione terziaria, l'Italia potrebbe \\nampliare sia la disponib ilità che il livello di \\nsostegno finanziario, al fine di allinearsi a \\npaesi comparabili come la Francia e la Spagna. \\nÈ altresì fondamentale promuovere i \\nprogrammi STEM/TIC, ammodernare i \\nprogrammi di studio dell'istruzione terziaria \\ncon un approccio lungim irante allo sviluppo \\ndelle competenze e integrare l'attuale modello \\naccademico teorico con competenze \\ntrasversali e conoscenze orientate al lavoro. \\nInoltre la persistente fuga di cervelli netta \\ndall'Italia riduce ulteriormente la riserva di \\nlavoratori alta mente qualificati. L'ampliamento \\ndelle quote di immigrazione previste dal \\nDecreto flussi per gli imprenditori, i lavoratori \\nall'interno di start -up e i lavoratori altamente \\nqualificati in settori strategici potrebbe \\ncontribuire a colmare tali carenze. Sfru ttare la \\nCarta blu UE e semplificare il riconoscimento \\ndelle qualifiche per i cittadini di paesi terzi \\nsosterrebbe ulteriormente gli sforzi volti ad \\nattrarre persone altamente qualificate.  \\nL'integrazione delle strategie di \\napprendimento degli adulti nella politica \\nindustriale è essenziale per l'innovazione \\ne la crescita in Italia. Il rapido \\ninvecchiamento della forza lavoro italiana, \\ncaratterizzata da minori competenze digitali e \\nlivelli di adattabilità, ostacola la crescita della \\nproduttività. Nel 2024 l'a pprendimento degli \\nadulti era tra i più bassi dell'UE e in ulteriore \\ncalo. In tale contesto, è fondamentale \\nrafforzare il sistema di apprendimento degli \\nadulti e allinearlo alla strategia industriale \\nmediante un approccio lungimirante alla\", '868df7ff-a6af-4a97-8efd-9ae669336776': '23 formazione. Pren dere le mosse dal portale \\nnazionale di recente istituzione per l\\'incontro \\ntra domanda e offerta di lavoro (SIISL) e \\nproseguire le iniziative di successo nell\\'ambito \\ndel dispositivo per la ripresa e la resilienza, \\nquali il sistema duale, la garanzia di \\noccupabilità dei lavoratori (GOL) e i conti \\nindividuali di apprendimento, sfruttando gli \\ninsegnamenti tratti, potrebbe contribuire a \\ncontrastare tali tendenze dopo il 2026. La \\ncombinazione di incentivi per gli investimenti \\nin ricerca e sviluppo con politiche d i \\nformazione si è dimostrata più efficace nel \\nmassimizzare il potenziale di innovazione. \\nCollegare gli incentivi fiscali per le assunzioni \\nquali \"Bonus Giovani\", \"Bonus ZES\" e \"Bonus \\nDonna\" alla formazione obbligatoria sul luogo \\ndi lavoro e rivolgersi a im prese in settori a \\nforte crescita (ad esempio Transizione 4.0 \\ne 5.0) potrebbe stimolare l\\'occupazione e la \\nproduttività, massimizzando l\\'effetto \\nmoltiplicatore della spesa pubblica. Il \\nrafforzamento della collaborazione tra gli \\norganismi governativi respon sabili delle \\npolitiche attive del mercato del lavoro (PAML) \\ne quelli responsabili dello sviluppo industriale e \\nl\\'allineamento dei piani regionali per le \\ncompetenze nell\\'ambito del dispositivo per la \\nripresa e la resilienza alle strategie industriali \\nnazion ali (ad esempio Libro bianco) potrebbero \\nsostenere ulteriormente tale sforzo.  \\nAffrontare le sfide relative alla \\nsegmentazione del mercato del \\nlavoro, alla qualità del lavoro e \\nall\\'assistenza  \\nLa segmentazione del mercato del lavoro \\ne la qualità del lavoro rimangono fattori \\nchiave per trattenere i talenti in Italia, \\nmentre l\\'espansione dei servizi di \\nassistenza contribuirebbe a stimolare \\nl\\'offerta di manodopera in un contesto di \\nsfide demografic he. Contratti stabili, \\nunitamente a salari adeguati, migliorano la \\nqualità del lavoro e sono fondamentali per \\nattrarre e trattenere i lavoratori nonché per \\nmigliorare l\\'attrattiva dei settori e delle \\nprofessioni che soffrono di carenze di \\nmanodopera. Ciò è  particolarmente importante alla luce della sfida demografica e \\ndell\\'intensificarsi della fuga di talenti, in \\nquanto molti giovani laureati emigrano \\nall\\'estero alla ricerca di migliori prospettive in \\ntermini di carriera e retribuzione. Nel \\nfrattempo, ammor tizzatori sociali adeguati \\nsono fondamentali per ridurre la povertà e \\npreservare il capitale umano durante le \\ntransizioni professionali. Infine, per ridurre \\nl\\'impatto del calo della forza lavoro, è \\nindispensabile sfruttare appieno il potenziale \\ndella parte cipazione delle donne al mercato \\ndel lavoro, attualmente limitato \\ndall\\'insufficienza di servizi di assistenza per \\nbambini e anziani.  \\nNonostante i miglioramenti registrati, \\ncompreso l\\'aumento dei contratti a tempo \\nindeterminato, i contratti atipici \\nrimangon o diffusi, riducendo la sicurezza \\ndel posto di lavoro e l\\'intensità di lavoro. \\nIl ricorso a contratti di lavoro stabili e a tempo \\npieno contribuisce a ridurre l\\'instabilità \\nretributiva, aumenta l\\'intensità di lavoro e \\nincentiva le imprese a investire nelle  \\ncompetenze dei lavoratori.', 'b86dc084-cc55-4cb6-89f2-ca431f1ec3f7': \"Nonostante i miglioramenti registrati, \\ncompreso l'aumento dei contratti a tempo \\nindeterminato, i contratti atipici \\nrimangon o diffusi, riducendo la sicurezza \\ndel posto di lavoro e l'intensità di lavoro. \\nIl ricorso a contratti di lavoro stabili e a tempo \\npieno contribuisce a ridurre l'instabilità \\nretributiva, aumenta l'intensità di lavoro e \\nincentiva le imprese a investire nelle  \\ncompetenze dei lavoratori. La percentuale di \\ndipendenti a tempo determinato è scesa \\ndal 16,0  % nel 2023 al 14,7  % nel 2024, pur \\nrimanendo tra le pi ù elevate dell'UE. Il lavoro a \\ntempo determinato è più diffuso tra le donne, i \\ngiovani e tra coloro che prov engono da un \\ncontesto migratorio. Sebbene le transizioni da \\nposti di lavoro a tempo determinato a posti di \\nlavoro a tempo indeterminato siano state \\nmaggiormente in linea con la media UE \\ndurante la ripresa dalla COVID -19, negli ultimi \\nanni si sono attestate  a livelli notevolmente \\ninferiori e ben al di sotto delle medie dell'UE \\n(18,2  % nel 2024). Oltre il 50  % dei contratti a \\ntempo parziale e il 10  % dei contratti a tempo \\ndeterminato erano involontari, il che evidenzia \\nla possibilit à di aumentare l'offerta di  \\nmanodopera attraverso contratti stabili. \\nNonostante il lento calo registrato nell'ultimo \\ndecennio, la percentuale di lavoratori autonomi \\nrimane elevata rispetto al resto dell'UE e, in \\nalcuni casi, sono presenti elementi di \\nsubordinazione che celano rappor ti di lavoro \\ndipendente(26). Insieme all'elevata percentuale \\n \\n(26) Il 6 % dei lavoratori autonomi presentava almeno un \\nelemento di controllo esterno sulle proprie attività e\", '2ff463a5-d8fa-49fd-a958-5599f38280c4': '24 di lavoratori autonomi e informali, queste \\nforme di lavoro atipiche diffuse contribuiscono \\nalla disuguaglianza e all\\'instabilità delle \\nretribuzioni, riducendo nel contempo il numero \\nmedio di ore lavorate. Oltre ad avere un \\nimpatto negativo sullo sviluppo del capitale \\numano specifico dell\\'impresa e a ridurre la \\nsicurezza del lavoro, ciò riduce l\\'attrattiva e la \\nqualità dei posti di lavoro in un contesto di \\ncambiamento demografico.  \\nLa stagnazion e della crescita delle \\nretribuzioni, associata a una bassa \\nintensità di lavoro, contribuisce a \\ngenerare elevati rischi di povertà \\nlavorativa e incide sulla qualità del \\nlavoro. La crescita strutturalmente bassa \\ndella produttività del lavoro in Italia limita  la \\ncrescita delle retribuzioni. Insieme alla bassa \\nintensità di lavoro, salari inadeguati \\ncontribuiscono a elevati rischi di povertà \\nlavorativa e riducono l\\'attrattiva di \\ndeterminate professioni. In tale contesto, e \\ndopo aver registrato una diminuzione ne ll\\'anno \\nprecedente, i rischi di povertà lavorativa sono \\nnuovamente aumentati nel 2024, attestandosi \\nal 10,2  %. Sono risultati particolarmente \\nelevati tra i lavoratori a tempo parziale e a \\ntempo determinato. Pi ù di una persona su tre \\n(36,3  %) tra coloro che  nell\\'anno precedente \\navevano lavorato per il 20 -45 % del proprio \\npotenziale a tempo pieno viveva in condizioni \\ndi povert à. Il rafforzamento della \\ncontrattazione collettiva, compresi i contratti \\ncollettivi di secondo livello, e il rafforzamento \\ndella rappr esentativit à dei sindacati \\npotrebbero contribuire a migliorare le \\ncondizioni retributive.  \\nL\\'occupazione atipica contribuisce di \\nfatto alle lacune nella protezione sociale, \\nmentre il nuovo regime di reddito minimo \\nha un minore effetto di riduzione della \\npovertà.  Tra i lavoratori a tempo parziale e a \\ntempo determinato, la minore tutela è dovuta \\nal fatto che le prestazioni sono direttamente \\nlegate alla retribuzione e alla durata \\ndell\\'attività lavorativa. Inoltre i lavoratori \\nautonomi sono coperti da sistemi di stinti da \\n \\nil 6,5 % ha anche dichiarato di dipendere da un unico \\ncliente.  quelli dei lavoratori dipendenti, che spesso non \\noffrono una protezione equivalente, in \\nparticolare in caso di disoccupazione e \\nmalattia. Nel 2023 solo l\\'11,7  % dei lavoratori \\nautonomi ha ricevuto prestazioni sociali, \\nrispetto al 45,4  % dei lavor atori dipendenti in \\ngenerale, e nel 2022 la maggior parte dei \\n(quasi) 5 milioni di lavoratori autonomi non \\ngodeva di copertura per disoccupazione (79  %) \\no malattia (69  %), in quanto tali prestazioni \\ncoprono solo i lavoratori autonomi \\neconomicamente dipende nti, ossia i lavoratori \\npara-subordinati(27). Allo stesso tempo, \\nrivolgendosi a specifici gruppi demografici, il \\nnuovo regime di reddito minimo \"Assegno di \\nInclusione\" (AdI) ha consentito notevoli \\nrisparmi sui costi. Tuttavia la copertura è \\ndiminuita di ci rca il 40  % e l\\'effetto di \\nriduzione della povertà dell\\'AdI è notevolmente \\ninferiore rispetto a quello del sistema \\nprecedente (cfr. allegato 11).', '4dcc3ed1-63d6-4c37-beff-634373ec3eb2': 'Allo stesso tempo, \\nrivolgendosi a specifici gruppi demografici, il \\nnuovo regime di reddito minimo \"Assegno di \\nInclusione\" (AdI) ha consentito notevoli \\nrisparmi sui costi. Tuttavia la copertura è \\ndiminuita di ci rca il 40  % e l\\'effetto di \\nriduzione della povertà dell\\'AdI è notevolmente \\ninferiore rispetto a quello del sistema \\nprecedente (cfr. allegato 11). Sia il minore \\neffetto di riduzione della povertà della riforma \\nche il suo effetto di incentivazione della \\npartecipazione al mercato del lavoro dovranno \\nessere attentamente monitorati. Nel frattempo \\nle disuguaglianze sono nuovamente \\naumentate e il rapporto tra quintili di reddito è \\nsalito da 5,3 nel 2023 a 5,5 nel 2024. \\nL\\'adozione di politiche volte a fornire un \\nreddito sostitutivo adeguato e a migliorare \\nl\\'accesso alla protezione sociale aumenta la \\nsicurezza finanziaria e migliora la qualità del \\nlavoro.  \\nL\\'ulteriore espansione dei servizi di \\nassistenza all\\'infanzia e di assistenza a \\nlungo termine potrebbe aumentare la \\npartecipazione delle donne al mercato del \\nlavoro. La partecipazione delle donne al \\nmercato del lavoro rimane bassa, in \\nparticolare al Sud, dove il divario in termini di \\noccupazione femminile rispetto a quella \\nmaschile è quasi doppio rispetto alla media \\nnazionale. Il divario occupazionale riflette \\nanche importanti carenze nell\\'educazione e \\ncura della prima infanzia, nonché nei servizi di \\nassistenza a lungo termine, che costituiscono \\ncollettivamente un ostacolo significativo alla \\n \\n(27) Cfr. Commissione europea e comitato per la protezione \\nsociale, Access to socia l protection for workers and the \\nself-employed , 2024.', '7e353c90-e63f-4769-8894-e23c65f74987': \"25 partecipazione delle donne  al mercato del \\nlavoro. L'espansione dell'assistenza a lungo \\ntermine è fondamentale per stimolare la \\npartecipazione delle donne e soddisfare le \\ncrescenti esigenze di assistenza in un contesto \\ndi cambiamenti demografici. L'Italia spende \\nmeno per l'assistenz a a lungo termine rispetto \\nalla media UE e la maggior parte dei fondi è \\ndestinata a trasferimenti finanziari piuttosto \\nche a servizi di assistenza diretta. La carenza \\ndi manodopera nel settore dell'assistenza \\nsanitaria ostacola l'espansione dei servizi e \\npuò peggiorare dato che molti lavoratori sono \\nprossimi al pensionamento (cfr. allegato 14). \\nNell'ambito del dispositivo per la ripresa e la \\nresilienza, l'Italia sta realizzando importanti \\ninvestimenti nell'educazione e cura della prima \\ninfanzia e in una rif orma dei servizi per gli \\nanziani non autosufficienti. Tuttavia, date le \\npersistenti disparità regionali, gli sforzi per \\naccrescere l'educazione e cura della prima \\ninfanzia e l'assistenza a lungo termine \\ndovrebbero essere maggiormente rivolti alle \\nregioni c on un basso livello di copertura. \\nInoltre la promozione delle politiche in materia \\ndi invecchiamento attivo e di equilibrio tra vita \\nprofessionale e vita privata, unitamente al \\nfinanziamento della legge 33/2023 \\nsull'invecchiamento attivo, potrebbe \\ncontribu ire a sostenere il sistema di assistenza \\na lungo termine.  \\nAffrontare queste sfide aiuterà l'Italia a \\npromuovere la convergenza sociale verso \\nl'alto.  In linea con il quadro di convergenza \\nsociale, dall'analisi di seconda fase emergono \\nsfide per l'Italia che  possono avere \\nripercussioni sulla convergenza sociale in \\nrelazione al mercato del lavoro, all'istruzione e \\nalle competenze, nonché alla situazione \\nsociale(28). \\n \\n(28) Commissione europea, SWD(2025)  95. L'analisi si basa \\nsu tutti i dati quantitativi e qualitativi di sponibili e sulla \\nrisposta politica adottata e pianificata.  Affrontare le disuguaglianze \\nregionali  \\nLe persistenti disuguaglianze regionali \\nrichiedono un'at tenzione politica.  Sebbene \\nnegli ultimi anni il piano per la ripresa e la \\nresilienza, insieme ai fondi di coesione, abbia \\nsostenuto le regioni meridionali e la crescita \\neconomica dell'intero paese in generale, la \\ncapacità dei comuni di finanziare la spesa \\ncorrente, anche per quanto riguarda la \\ngestione di nuove infrastrutture, limita gli \\ninvestimenti di capitale, in particolare al Sud. \\nCiò spiega in parte le disparità regionali nella \\nfornitura di servizi di educazione e cura della \\nprima infanzia, che è gest ita a livello \\ncomunale. Al Sud, ad esempio, la copertura dei \\nservizi di educazione e cura della prima \\ninfanzia è solo del 16,5  %, rispetto a oltre \\nil 30 % al Centro -Nord, il che evidenzia ampi \\ndivari tra i comuni in termini di livelli essenziali \\ndelle prestazioni.\", '9fed7024-78ff-4122-b12c-e44c6b9e5135': \"Ciò spiega in parte le disparità regionali nella \\nfornitura di servizi di educazione e cura della \\nprima infanzia, che è gest ita a livello \\ncomunale. Al Sud, ad esempio, la copertura dei \\nservizi di educazione e cura della prima \\ninfanzia è solo del 16,5  %, rispetto a oltre \\nil 30 % al Centro -Nord, il che evidenzia ampi \\ndivari tra i comuni in termini di livelli essenziali \\ndelle prestazioni. La maggior parte delle \\nregioni meridionali registra inoltre risultati \\ndecisamente insoddisfacenti nell'attuazione \\ndei livelli essenziali di assistenza nel settore \\ndell'assistenza sanitaria, che sono volti a \\ngarantire una serie di servizi sanit ari a tutti i \\ncittadini nell'intero territorio (Svimez, 2023) \\n(cfr. allegato 14). Per quanto riguarda i servizi \\ndi assistenza a lungo termine, l'offerta \\nmaggiore è presente nel Nord -Est, con 10  posti \\nletto ogni 1  000 residenti, rispetto a tre posti \\nletto a l Sud. Il Sud ha inoltre registrato una \\ndiminuzione pi ù pronunciata del numero di \\ndipendenti presso i comuni, rispetto al Centro -\\nNord (Svimez, 2024).  \\nL'attuazione della riforma sull'autonomia \\ndifferenziata è in attesa di essere \\nulteriormente chiarita.  Nel dicembre 2024 \\nla Corte costituzionale ha stabilito che diversi \\naspetti della legge quadro che attua la riforma \\nerano incostituzionali e ci si sta adoperando \\nper rispondere ai rilievi della Corte. \\nL'attuazione della riforma sull'autonomia \\ndifferenziata potr ebbe incidere sulla capacità \\ndel governo di orientare le politiche \\neconomiche e di bilancio, mentre l'eventuale \\nframmentazione dei quadri legislativi a livello \\nregionale potrebbe creare nuove strozzature \\nper gli investimenti pubblici e privati.\", '647a4da9-8e97-4a68-908b-e2f2200ba617': \"26 Ripensare g li alloggi a prezzi \\naccessibili  \\nAnche se l'edilizia abitativa non sembra \\nrappresentare una problematica \\nimportante a livello macro, alcuni aspetti \\nsociali e occupazionali meritano maggiore \\nattenzione. In media, tra le diverse tipologie \\ndi godimento di un i mmobile, il tasso di \\nonerosità eccessiva dei costi abitativi è \\ninferiore alla media UE, tuttavia è leggermente \\npiù elevato per gli affittuari nel libero mercato \\n(21,9  % rispetto al 20,3  % nell'UE nel 2023). \\nRispetto ad altri Stati membri, per una quota \\nconsiderevole delle famiglie italiane i costi \\nabitativi sono ripartiti tra un maggior numero \\ndi persone, come dimostra anche l'indicatore di \\nsovraffollamento abitativo relativamente \\nelevato (cfr. allegato 11). Inoltre il tasso di \\ndisagio abitativo grave è sup eriore alla media \\nUE, in particolare per i locatari a prezzi di \\nmercato (11,5  % rispetto al 6,5  % nel 2023). \\nAnche la deprivazione abitativa continua a \\nrappresentare un problema (cfr. allegato 11). Il \\nbasso tasso di onerosit à eccessiva degli \\nalloggi potreb be essere visto come una \\nconseguenza del ritardo nella formazione delle \\nfamiglie, a causa di prospettive di reddito pi ù \\ndeboli e instabili per i giovani e di maggiori \\ndifficoltà di accesso ai mutui ipotecari (la \\npercentuale della popolazione che ha contrat to \\nun mutuo ipotecario è del 13,7  % rispetto alla \\nmedia UE del 24,9  %). \\nAnche questioni legate all'accessibilità \\ndegli alloggi, compresa la loro \\naccessibilità economica, limitano la \\nmobilità dei lavoratori in alcune città.  \\nSecondo Confindustria, in aree pi ù produttive \\ncome i grandi centri urbani le dinamiche della \\nproduttività del lavoro non hanno tenuto il \\npasso con l'aumento dei prezzi degli alloggi e \\npertanto la retribuzione media non è \\nproporzionata al costo medio delle abitazioni \\n(Istat 2022). Le grand i città come Milano e più \\nin generale il Centro -Nord, dove la domanda di \\nmanodopera è più elevata, faticano ad attrarre \\nlavoratori qualificati anche a causa dei costi \\ndegli alloggi. Anche la percentuale \\nrelativamente elevata di proprietari di \\nabitazioni no n gravate da ipoteca (75,2  % rispetto alla media UE del 62,9  %) pu ò \\ncostituire un potenziale ostacolo alla mobilit à \\ndei lavoratori. Ciò contribuisce a una \\nripartizione inefficiente della forza lavoro. \\nAnche gli studenti che si trasferiscono in città \\npiù gr andi per frequentare corsi di istruzione \\nsuperiore risentono negativamente della \\nsituazione.  \\nVi è margine per ripensare le politiche in \\nmateria di alloggi e di benessere là dove \\nsono più necessarie, anche per quanto \\nriguarda il sostegno alla mobilità dei \\nlavoratori.  La spesa pubblica per l'edilizia \\nabitativa nel decennio 2010 -2020 è stata in \\nlinea con la media UE (tra lo 0,4  % e lo 0,6  % \\ndel PIL)(29). Tuttavia nel 2023 ha raggiunto il \\nvalore più elevato nell'UE (4,3  % del PIL) a \\ncausa del credito d'imposta a sostegno della \\nristrutturazione energetica degli edifici \\nresidenziali (Superbonus).\", '64fff9d1-fa30-47fa-8f9f-c9f4bf8b1a43': 'Vi è margine per ripensare le politiche in \\nmateria di alloggi e di benessere là dove \\nsono più necessarie, anche per quanto \\nriguarda il sostegno alla mobilità dei \\nlavoratori.  La spesa pubblica per l\\'edilizia \\nabitativa nel decennio 2010 -2020 è stata in \\nlinea con la media UE (tra lo 0,4  % e lo 0,6  % \\ndel PIL)(29). Tuttavia nel 2023 ha raggiunto il \\nvalore più elevato nell\\'UE (4,3  % del PIL) a \\ncausa del credito d\\'imposta a sostegno della \\nristrutturazione energetica degli edifici \\nresidenziali (Superbonus). In Italia le \\nsovvenzioni a favore della locazione di \\nimmobili sono limitate. La locazione a canone \\nconcordato svolge solo un ruolo marginale. I \\ndati mostrano in fatti che la quota di persone \\nche prendono in locazione immobili a prezzi \\ncalmierati in Italia è inferiore alla media UE \\n(8,1 % rispetto al 10,2  % nel 2023), anche tra \\ni più poveri (14,0  % rispetto al 22,6  %). Inoltre \\nla quota degli alloggi di edilizia res idenziale \\npubblica è scesa al 2,4  % nel 2022 (rispetto \\nal 4,2 % del 2010), a causa dei vincoli di \\nbilancio cui devono far fronte le \\namministrazioni locali e della vendita di \\nimmobili residenziali di propriet à di enti di \\nsicurezza sociale. Per contro, un\\'am pia \\npercentuale di proprietari di abitazioni \\nbeneficia di un\\'imposizione fiscale modesta \\nsugli immobili, in quanto le abitazioni principali \\nne sono esentate e i valori catastali non sono \\nallineati ai valori di mercato. L\\'offerta di unità \\nabitative disponib ili per la locazione a lungo \\ntermine risente negativamente dell\\'elevato \\nnumero di locazioni a breve termine, in \\nparticolare nelle destinazioni turistiche. Sono \\nnecessari ulteriori sforzi in materia di \\nregolamentazione settoriale per riequilibrare \\ntale ripa rtizione e ridurre la pressione sui \\nprezzi per i residenti. Nelle città e nei comuni \\ndensamente popolati, circa 1,8 milioni di \\n \\n(29) Categoria \"Abitazioni e assetto territoriale\" della COFOG.', 'c9b2cc8d-fcf0-4cb0-80f9-f2f212dcdf60': '27 abitazioni non sono occupate. Il nuovo piano \\nitaliano per l\\'edilizia residenziale fa fronte al \\ndisagio abitativo e sostiene l\\'edi lizia pubblica e \\nsociale, anche sfruttando gli edifici inutilizzati \\ne risanando quelli in stato di degrado. Tuttavia \\nil piano non è ancora operativo. Come misura \\ncomplementare, l\\'Italia ha recentemente \\nadottato un decreto (noto come \"decreto \\nCaivano\") per far fronte al disagio di alcune \\nperiferie urbane, in particolare laddove vi è \\nun\\'elevata presenza di alloggi di edilizia \\nresidenziale pubblica. Anche soggetti privati \\ncontribuiscono alla disponibilità di alloggi a \\nprezzi accessibili attraverso cooperative \\nedilizie (87  000 nuove abitazioni costruite tra \\nil 2015 e il 2024) (Confcooperative Habitat \\n2024) e fondi privati come il FIA (Fondo \\nInvestimenti per l\\'Abitare), con l\\'obiettivo di \\nattrarre finanziamenti pubblici e privati per la \\ncreazione di 19  000 allogg i di edilizia \\nresidenziale sociale a prezzi accessibili \\n(11 633 gi à costruiti) (Cassa depositi e \\nprestiti).', '6ca0fbf9-6c27-4f2f-bc81-52db5110e3b5': \"RISULTATI PRINCIPALI  \\n28 Per stimolare la competitività, la sostenibilità e \\nl'equità sociale, l'Italia trarrebbe vantaggio \\ndagli elementi seguenti:  \\n• l'accelerazione dell'attuazione del \\npiano per la ripresa e la resilienza , \\ncompreso il capitolo dedicato al piano \\nREPowerEU; la rapida attuazione \\ndella politica di coesione , \\nsfruttando le opportunità offerte dal \\nriesame intermedio; e l'impiego \\nottimale degli strumenti dell'UE , \\ncompresi il programma InvestEU e la \\nSTEP, per migliorare la competitività;  \\n• la semplificazione del contesto \\nimprenditoriale  attraverso una \\nmaggiore efficienza della pubblica \\namministrazione, l'ulteriore sostegno a \\nuna gestione strategica delle risorse \\numane, l'aumento dell'efficienza del \\nsistema giudiziario a fronte di un \\nulteriore smaltimento dell'arretrato e \\ndi un'ulteriore rid uzione dei tempi di \\ndefinizione dei procedimenti, il \\nrafforzamento della concorrenza e il \\nsostegno alla digitalizzazione, anche \\nmediante una più rapida diffusione \\ndelle reti digitali ad altissima capacità;  \\n• l'adozione di azioni mirate a \\nsostegno delle imprese innovative \\na forte crescita, degli investimenti \\nnelle attività di ricerca e sviluppo \\ne dell'accesso al capitale. La \\nproduttività e il dinamismo \\nimprenditoriale verrebbero stimolati \\ndalla promozione dell' aggregazione \\ndelle imprese, in particolare delle PMI, \\nincentrando gli incentivi \\nsull'accelerazione della spesa delle \\nimprese per la ricerca e lo sviluppo, \\npromuovendo gli appalti per \\nl'innovazione e ampliando l'accesso ai \\nfinanziamenti non bancari, anche \\nattirando investitori istituzionali;  • il miglioramento dell'efficienza e \\ndell'attrattiva del sistema \\nuniversitario al fine di stimolarne \\nil potenziale innovativo. \\nFinanziamenti nazionali regolari e \\nprevedibili per la ricerca competitiva, \\nmaggiori incentivi  alla \\ncommercializzazione della ricerca e \\nuffici più efficaci per il trasferimento \\ndi tecnologie potenzierebbero il \\ncontributo della ricerca accademica \\nall'innovazione;  \\n• l'attuazione di una politica \\nindustriale orientata \\nall'innovazione. Per quanto riguar da \\nil piano strategico della zona \\neconomica speciale, ciò comprende \\nuna migliore individuazione dei settori \\nstrategici, tenendo conto delle nuove \\ntendenze e tecnologie industriali, al \\nfine di promuovere un migliore \\norientamento delle misure strategiche \\ne la loro integrazione con gli \\ninvestimenti infrastrutturali. Per \\nquanto riguarda la nuova strategia \\nindustriale nazionale, una governance \\nchiara ed efficiente sarà fondamentale \\nper garantirne la corretta attuazione. \\nInoltre la strategia industriale \\nnazionale  dovrebbe essere coordinata \\ncon il piano strategico della zona \\neconomica speciale e dovrebbe \\nindividuare settori strategici e \\nstrumenti efficaci per promuoverli;  \\n• il superamento delle restanti \\ndebolezze del sistema fiscale  \\nattraverso lo spostamento dell'e levata \\npressione fiscale che attualmente \\ngrava sul lavoro verso altre fonti di \\nentrate sottoutilizzate, l'orientamento \\ndella tassazione dell'energia verso la \\ntransizione verde e l'ulteriore contrasto \\ndell'evasione fiscale;\", '541c4c0a-0efe-4d6b-a380-4292dd8eccf4': \"ANDAMENTO DELL'ECONOMIA E PRINCIPALI SFIDE \\nPOLITICHE  \\n2 Crescita e inflazione toccano i \\nlivelli minimi, le prospettive sono \\ninfluenzate dall'incertezza degli \\nsviluppi mondiali  \\nLa crescita economica rimane moderata \\nnel contesto dell'attuale incertezza \\nmondiale e il piano per la ripresa e la \\nresilienza (PRR) sostiene gli investimenti.  \\nNel 2024 la crescita del PIL reale si è \\nstabilizzata allo 0,7  %, in quanto il desiderio \\ndelle famigl ie di ricostituire i propri risparmi ha \\nfrenato i consumi privati, nonostante le \\ndinamiche occupazionali e salariali favorevoli. \\nDopo tre anni di rapida espansione alimentata \\nda incentivi per la ristrutturazione degli alloggi, \\ngli investimenti sono leggerm ente aumentati, \\nprincipalmente in ragione dell'attività di \\nedilizia non residenziale finanziata dal piano \\nper la ripresa e la resilienza. Le esportazioni di \\nbeni sono diminuite, mentre il turismo ha \\nstimolato una forte crescita delle esportazioni \\ndi serviz i. Poiché le importazioni di beni hanno \\nsubito una contrazione ancora più marcata \\nrispetto alle esportazioni, la domanda esterna \\nnetta ha fornito un contributo positivo alla \\ncrescita del PIL. Secondo le previsioni, nel \\nperiodo 2025 -2026 l'attività economic a \\ncontinuerà a crescere lentamente, trainata \\ndall'aumento dei consumi delle famiglie e \\ndagli investimenti delle imprese, anche in \\nattrezzature, sostenuti dai finanziamenti del \\npiano per la ripresa e la resilienza e da tassi di \\ninteresse più bassi. Tuttavia  gli sviluppi della \\npolitica commerciale e l'incertezza che li \\ncaratterizza potrebbero frenare la crescita \\neconomica, in quanto gli Stati Uniti \\nrappresentano, direttamente e indirettamente, \\nuna quota significativa delle esportazioni \\nitaliane di beni.  Si pr evede che l'inflazione si stabilizzerà \\nall'incirca al livello di riferimento della \\nBCE. Durante lo scorso anno la diminuzione \\ndei prezzi dei prodotti energetici a livello \\nmondiale iniziata nel 2023 si è trasferita sui \\nmercati nazionali, determinando un net to calo \\ndell'inflazione complessiva. Escludendo la \\nvolatilità dei prezzi dell'energia e dei prodotti \\nalimentari, l'inflazione di fondo è scesa al  \\n2,2 % nel 2024, laddove i beni industriali sono \\nstati caratterizzati da dinamiche di prezzo pi ù \\ndeboli rispett o ai servizi. Mentre si prevede che \\nquest'anno la componente dell'inflazione \\ncomplessiva relativa all'energia riprenderà a \\nsalire, seguendo le recenti dinamiche \\ninternazionali dei prezzi, le altre componenti \\nprincipali dovrebbero rimanere contenute, \\nanche grazie alla prevista moderata crescita \\ndelle retribuzioni. Di conseguenza, secondo le \\nprevisioni, sia l'inflazione complessiva che \\nquella di fondo si attesteranno intorno al 2  % \\nnel periodo 2025 -2026.  \\nL'elevato debito pubblico e la debole \\ncrescita della pr oduttività continuano a \\nessere fonte di vulnerabilità.\", '919c5850-e573-4db2-8cab-1edfcde7fd52': \"Mentre si prevede che \\nquest'anno la componente dell'inflazione \\ncomplessiva relativa all'energia riprenderà a \\nsalire, seguendo le recenti dinamiche \\ninternazionali dei prezzi, le altre componenti \\nprincipali dovrebbero rimanere contenute, \\nanche grazie alla prevista moderata crescita \\ndelle retribuzioni. Di conseguenza, secondo le \\nprevisioni, sia l'inflazione complessiva che \\nquella di fondo si attesteranno intorno al 2  % \\nnel periodo 2025 -2026.  \\nL'elevato debito pubblico e la debole \\ncrescita della pr oduttività continuano a \\nessere fonte di vulnerabilità.  Dall'esame \\napprofondito effettuato nell'ambito della \\nprocedura per gli squilibri macroeconomici \\nall'inizio di quest'anno è emerso che l'Italia si \\ntrova ancora ad affrontare vulnerabilità \\nconnesse all'e levato debito pubblico e alla \\ndebole crescita della produttività(1). Gli ingenti \\ncosti del servizio del debito dovuti all'elevato \\nrapporto debito pubblico/PIL e l'aumento dei \\ncosti pensionistici a medio termine a causa \\ndelle tendenze demografiche limitera nno la \\ncapacità del governo di adottare politiche di \\nbilancio a sostegno della crescita. La debole \\ncrescita della produttività persiste, in gran \\nparte a causa di investimenti insufficienti in \\nricerca, sviluppo e innovazione, di un tasso di \\ncompletamento de ll'istruzione terziaria \\n \\n(1) SWD(2025) 122 final.\", 'e199e9e1-866d-4eb5-8030-ad112dc37758': \"29 • l'attenuazione degli effetti su lla \\ncrescita potenziale e sulla \\nsostenibilità di bilancio.  Ciò \\ncomprende politiche volte a migliorare \\nl'efficienza e l'efficacia della spesa \\npubblica, limitando il ricorso a regimi \\ndi prepensionamento, nonché politiche \\nvolte ad affrontare le sfide \\ndemograf iche, tra cui l'attrazione e il \\nmantenimento di una forza lavoro \\nproduttiva;  \\n• l'aumento della quota di energie \\nrinnovabili nella produzione di \\nenergia elettrica  attraverso una \\nlegislazione semplice e consolidata \\nsulle autorizzazioni, investimenti nella \\nrete elettrica (in particolare nello \\nstoccaggio e nell'interconnettività) e \\nmeccanismi di gestione della domanda \\nvolti a promuovere le fonti di \\ncombustibili non fossili, anche con \\nl'obiettivo di mitigare i prezzi \\ndell'energia e conseguire l'obiettivo del \\nregolamento sulla condivisione degli \\nsforzi;  \\n• la mitigazione dei rischi climatici e \\ndel loro impatto economico , anche \\nattraverso: un migliore coordinamento \\ntra le diverse autorità e i diversi \\norganismi, in particolare nella gestione \\ndelle risorse idrogeologi che e idriche; \\nun uso più ampio di soluzioni basate \\nsulla natura, il ripristino degli habitat e \\nuna gestione sostenibile del suolo per \\nprevenirne la perdita e il degrado; \\nmisure volte a colmare il deficit in \\ntermini di copertura assicurativa \\ncontro i risch i climatici;  \\n• il sostegno alla convergenza \\nsociale verso l'alto, promuovendo \\nla partecipazione al mercato del \\nlavoro , in particolare da parte delle \\ndonne, attraverso l'ulteriore \\nampliamento dell'offerta di servizi di \\nassistenza all'infanzia e di assistenz a \\na lungo termine, in particolare al Sud;  • la riduzione della segmentazione \\ndel mercato del lavoro e il \\nmiglioramento della qualità del \\nlavoro  e della stabilità dei contratti di \\nimpiego;  \\n• la risposta alla domanda di \\ncompetenze a breve termine, \\nanche attraverso il rafforzamento \\ndell'istruzione e formazione \\nprofessionale e della formazione \\nsul posto di lavoro , ampliando in \\nparticolare il sistema di istruzione \\ntecnologica superiore (ITS Academy) e \\npromuovendo l'apprendimento basato \\nsul lavoro, con partic olare attenzione \\nalle competenze tecniche e trasversali \\nattualmente richieste;  \\n• l'aumento della produttività del \\nlavoro e dell'innovazione \\nattraverso la creazione, \\nl'attrazione e il mantenimento di \\nuna forza lavoro altamente \\nqualificata , allineando tra l' altro il \\nsistema di istruzione e formazione agli \\ninvestimenti nei settori a forte crescita, \\ncon particolare attenzione al \\nrafforzamento delle competenze \\ntrasversali, comprese le pertinenti \\ncompetenze digitali e verdi, e delle \\nconoscenze orientate al lavoro  \\nnell'istruzione superiore e al \\nmiglioramento delle competenze di \\nbase e trasversali durante l'intero ciclo \\ndi istruzione.\", 'e8810b27-1790-4183-b022-55140d13e6f4': '', 'ebc28fe6-18cb-4571-bccb-236161af0f3e': 'ALLEGATI', '3f179f33-1201-4b90-8fa3-3afb10155eec': '', 'af069a23-9ca6-40aa-a075-3c5bdde475d1': \"ELENCO DEGLI ALLEGATI  \\n33 Bilancio  36 \\nA1. Sorveglianza di bilancio e sostenibilità del debito  36 \\nA2. Tassazione  46 \\nProduttività  50 \\nA3. Innovazione per le imprese  50 \\nA4. Agevolare le attività economiche  56 \\nA5. Mercati dei capitali, stabilità finanziaria e accesso ai finanziamenti  62 \\nA6. Quadro istituzionale efficace  72 \\nSostenibilità  77 \\nA7. Industria pulita e mitigazione dei cambiamenti climatici  77 \\nA8. Transizione energetica a prezzi accessibili  85 \\nA9. Adattamento ai cambiamenti climatici, preparazione e ambiente  93 \\nEquità  100 \\nA10. Mercato del lavoro  100 \\nA11. Politiche sociali  106 \\nA12. Istruzione e competenze  111 \\nA13. Quadro di valutazione della situazione sociale  116 \\nA14. Salute e sistemi sanitari  117 \\nAspetti orizzontali  120 \\nA15. Obiettivi di sviluppo sostenibile  120 \\nA16. Progressi relativi alle raccomandazioni specifiche per paese e attuazione dei fondi dell'UE  124 \\nA17. Regioni competitive  132 \\n \\nELENCO DELLE TABELLE  \\nA1.1. Saldo e debito delle amministrazioni pubbliche  37 \\nA1.2. Crescita della spesa netta  38 \\nA1.3. Spesa netta (dati di consuntivo e previsioni), deviazioni annuali e cumulate rispetto alla raccomandazione  38 \\nA1.4. Spesa per la difesa  38 \\nA1.5. Sviluppi e previsioni a livello macroeconomico  39 \\nA1.6. Situazione di bilancio delle amministrazioni pubbliche  39 \\nA1.7. Evoluzione del debito  40 \\nA1.8. Sovvenzioni del dispositivo per la ripresa e la resilienza  40 \\nA1.9. Prestiti del dispositivo per la ripresa e la resilienza  41\", 'ac0ef166-bd5a-4a2f-9c8a-d15d3505a5a9': \"34 A1.10.  Attuazione delle riforme e degli investimenti che giustificano la proroga  43 \\nA1.11.  Varia zione prevista della spesa connessa all'invecchiamento della popolazione nel periodo 2024 -2040 e  \\nnel periodo 2024 -2070  44 \\nA1.12.  Indicatori della banca dati sulla governance di bilancio  45 \\nA2.1. Indicatori relativi alla t assazione  47 \\nA3.1. Indicatori chiave dell'innovazione  55 \\nA4.1. Agevolare le attività economiche - indicatori  61 \\nA5.1. Indicatori finanziari  71 \\nA6.1. Italia. Indicatori sulla riduzione degli oneri amministrativi e sulla semplificazione delle procedure amministrative  73 \\nA6.2. Principali obiettivi del decennio digitale monitorati attraverso l'indice di digitalizzazione dell'economia e della società  74 \\nA7.1. Principali indicatori dell'industria pulita e dell a mitigazione dei cambiamenti climatici: Italia  84 \\nA8.1. Indicatori energetici chiave  92 \\nA9.1. Indicatori chiave per monitorare i progressi in materia di adattamento ai cambiamenti climatici, resilienza e ambiente  99 \\nA13.1.  Quadro di valutazione della situazione sociale per l'Italia  116 \\nA14.1.  Indicatori sanitari principali  118 \\nA16.1.  Fondi UE selezionati con dotazioni adottate — dati di sintesi (in milioni di EUR)  128 \\nA16.2.  Tabella di sintesi delle raccomandazioni specifiche per paese nel periodo 2019 -2024  129 \\nA17.1.  Selezione di indicatori a livello regionale in Italia  134 \\n \\nELENCO DEI GRAFICI  \\nA2.1. Quote del gettito fiscale nel 2023  46 \\nA2.2. Cuneo fiscale per i percettori di reddito in famiglie unipersonali e per i percettori della seconda fonte di reddito  \\nin % del costo totale del lavoro, 2024  48 \\nA3.1. Intensità della spesa pubblica a sostegno di ricerca e sviluppo 2014 -2023  51 \\nA3.2. Primi 3 se ttori per investimenti in R&S delle imprese italiane che si collocano tra le prime 2 000 imprese a livello mondiale \\nche investono in R&S nel 2023 (quota percentuale, Italia rispetto a tutto il mondo)  52 \\nA4.1. Agevolare le attività economiche - Indicatori selezionati  57 \\nA5.1. Saldo risparmi netti/investimenti  62 \\nA5.2. Posizione patrimoniale sull'estero dell'Italia  63 \\nA5.3. Mercati dei capitali e intermediari finanziari  64 \\nA5.4. Composizione dei finanziamenti delle SNF in % del PIL  66 \\nA5.5. Composizione delle attività finanziarie delle famiglie pro capite e in % del PIL  67 \\nA6.1. Fiducia nella giustizia, negli enti regionali/locali e nella pubblica amministrazione  72 \\nA6.2. Indicatori relativi alla politica e governance di regolamentazione  72 \\nA7.1. Intensità delle emissioni di gas a effetto serra nel settore manifatturiero e in quelli ad alta intensità energetica, 2022  80 \\nA7.2. Produzione dell'industria manifatturiera: totale e per settore, indice (2021 = 100), 2017 -2023  80 \\nA7.3.\", '937769ea-0c3a-4ff5-8eb4-1da404cd4e2f': \"Composizione delle attività finanziarie delle famiglie pro capite e in % del PIL  67 \\nA6.1. Fiducia nella giustizia, negli enti regionali/locali e nella pubblica amministrazione  72 \\nA6.2. Indicatori relativi alla politica e governance di regolamentazione  72 \\nA7.1. Intensità delle emissioni di gas a effetto serra nel settore manifatturiero e in quelli ad alta intensità energetica, 2022  80 \\nA7.2. Produzione dell'industria manifatturiera: totale e per settore, indice (2021 = 100), 2017 -2023  80 \\nA7.3. Emissioni di gas a effetto serra provenienti dai settori della condivisione degli sforzi, 2005 e 2023  81 \\nA8.1. Componenti dei prezzi dell'energia al dettaglio per i consumatori domestici e non domestici, 2024  85 \\nA8.2. Prezzi medi mensili all'ingrosso dell'energia elettrica a un giorno e prezzi di riferimento europei del gas naturale  \\n(TTF dei Paesi Bassi)  85 \\nA8.3. Capacità installata in termini di energie rinnovabili (a sinistra) e mix di produzione di energia elettrica (a destra) dell'I talia 89 \\nA9.1. Dipendenza diretta (1) dai servizi ecosistemici (2) del valore aggiunto lordo generato per settore economico nel 2022  97 \\nA9.2. Fabbisogno e carenze di investimenti in milioni di EUR, a prezzi costanti 2022  97 \\nA10.1.  Indicatori chiave del mercato del lavoro  100 \\nA10.2.  Risultati dei giovani sul mercato del l avoro  102 \\nA10.3.  Occupazione per tipo (variazione su base annua)  105 \\nA11.1.  AROPE e sue componenti  106 \\nA11.2.  Tassi di rischio di povertà lavorativa  107 \\nA12.1.  Competenze di base degli adulti in Italia  114 \\nA14.1.  Speranza di vita alla nascita, anni  117 \\nA14.2.  Mortalità imputabile a malattie curabili  117 \\nA15.1.  Progressi rispetto agli OSS in Italia  120 \\nA16.1.  Distribuzione dei finanziamenti del disposi tivo per la ripresa e la resilienza in Italia per settore di intervento  125 \\nA16.2.  Distribuzione dei finanziamenti della politica di coesione tra gli obiettivi strategici in Italia  125 \\nA17.1.  Dinamica della popolazione  133 \\nA17.2.  Migrazione dei giovani dal Mezzogiorno al Centro -Nord 135 \\nA17.3.  Spesa in conto capitale nel Centro -Nord e nel Mezzogiorno  137 \\nA17.4.  Entrate del settore pubblico regionale e locale  137\", 'b52f13d7-9887-4594-822d-28cc617fe820': '35  \\nELENCO DELLE CARTINE  \\nA17.1.  Crescita del PIL reale pro capite (2019 -2023)  132 \\nA17.2.  Indici di accessibilità basati sui tempi di connessione  135 \\nA17.3.  Qualità tecnica dei servizi idrici, 2023  136 \\nA17.4.  Costi della vulnerabilità climatica  137', '8c7e0958-22e5-490d-95b5-7b7abab127ed': \"BILANCIO  \\n ALLEGATO 1: SORVEGLIANZA DI BILANCIO E SOSTENIBILITÀ DEL DEBITO  \\n36 L'allegato contiene una serie di tabelle pertinenti per la valutazione della situazione di bilancio in Italia, \\nanche per quanto riguarda le modalità con cui l'Italia risponde alle raccomandazioni del Consiglio \\nformulate nell'ambito del quadro di governance economica riformato.  \\nIl quadro riformato, entrato in vigore il 30 aprile 2024(30), mira a rafforzare la sostenibilità del debito e a \\npromuovere una crescita sostenibile e inclusiva attraverso riforme a favore della crescita e investimenti \\nprioritari. I piani strutturali di bilancio di medio termine costituiscono la pietra angolare del  quadro, \\nstabilendo l'impegno di bilancio degli Stati membri nel medio termine. Quest'ultimo è definito in termini di \\ncrescita della spesa netta, che è l'indicatore operativo unico per la sorveglianza di bilancio.  \\nL'Italia ha presentato il proprio piano s trutturale di bilancio di medio termine il 15 ottobre 2024. Il piano \\nriguarda il periodo fino al 2029 e presenta un aggiustamento di bilancio prorogato a sette anni, sostenuto \\nda una serie di riforme e di investimenti che l'Italia si è impegnata a realizza re nell'ottica di migliorare la \\ncrescita potenziale e la sostenibilità di bilancio. Il 21  gennaio  2025 il Consiglio ha adottato la \\nraccomandazione che approva il piano dell'Italia(31). Lo stesso giorno il Consiglio ha adottato anche una \\nraccomandazione a n orma dell'articolo  126, paragrafo  7, TFUE per correggere il disavanzo eccessivo in \\nItalia(32). Il percorso correttivo della spesa netta raccomandato dal Consiglio nell'ambito della procedura \\nper i disavanzi eccessivi è coerente con il percorso indicato nel  piano.  \\nLa valutazione dell'attuazione della raccomandazione del Consiglio intesa a correggere il disavanzo \\neccessivo e della raccomandazione del Consiglio che approva il piano nazionale strutturale di bilancio di \\nmedio termine dell'Italia viene effettuat a sulla base dei dati di consuntivo forniti da Eurostat e delle \\nprevisioni di primavera 2025 della Commissione, tenuto conto della relazione annuale sui progressi \\ncompiuti presentata dall'Italia il 30  aprile  2025. Inoltre, nel contesto della comunicazione della \\nCommissione del 19  marzo  2025(33) sull'aumento della spesa per la difesa nel rispetto del patto di \\nstabilità e crescita, l'allegato riporta l'aumento previsto della spesa per la difesa sulla base delle previsioni \\ndi primavera 2025 della Commissione.  \\nL'allegato è organizzato come descrit to di seguito. In primo luogo vengono presentante le evoluzioni del \\ndisavanzo pubblico  e del debito pubblico  sulla base dei dati riportati nella tabella A1.1. Segue quindi la \\nvalutazione dell' attuazione della raccomandazione del Consiglio intesa a correggere il disavanzo \\neccessivo e  della raccomandazi one del Consiglio che approva il piano nazionale strutturale di \\nbilancio di medio termine , sulla base dei dati pertinenti presentati nelle tabelle da A1.2 a A1.9, \\ncompresi i dati sulla spesa per la difesa.\", 'ffce7eed-1f43-4229-b694-1f291c277166': \"L'allegato è organizzato come descrit to di seguito. In primo luogo vengono presentante le evoluzioni del \\ndisavanzo pubblico  e del debito pubblico  sulla base dei dati riportati nella tabella A1.1. Segue quindi la \\nvalutazione dell' attuazione della raccomandazione del Consiglio intesa a correggere il disavanzo \\neccessivo e  della raccomandazi one del Consiglio che approva il piano nazionale strutturale di \\nbilancio di medio termine , sulla base dei dati pertinenti presentati nelle tabelle da A1.2 a A1.9, \\ncompresi i dati sulla spesa per la difesa. Vengono inoltre valutati i progressi compiuti nell' attuazione \\ndella serie di riforme e di investimenti  che giustificano la proroga del periodo di aggiustamento di \\nbilancio(34), ten endo conto delle informazioni presentate nella tabella A1.10 . \\n \\n(30) Unitamente al regolamento modificato (CE) n.  1467/97, relativo all'attuazione della procedura per i disavanzi eccessivi, e alla \\ndirettiva modificata 2011/85/UE del Consiglio, relativa ai quadri di bilancio degli Stati membri, il regolamento (UE) 2024/126 3 del \\nParlamento europeo e del Consiglio relativo al coordinamento efficace delle politiche economiche e alla sorveglianza di bilan cio \\nmultilaterale costituisce l'elemento centrale del quadro riformato di governance economica dell'UE.  \\n(31) GU C, C/2025/651, 10.2.2025, ELI: EUR-Lex - 32025H00651 - IT - EUR-Lex.  \\n(32) Raccomandazione  del Consiglio intesa a far cessare la situazione di disavanzo eccessivo in Italia (C/2025/5035).  \\n(33) Comunicazione della Commissione del 19 marzo 2025 sull'aumento della spesa per la difesa nel rispetto del patto di stabilità e \\ncrescita, C(2025) 2000 fin al. \\n(34) A norma del regolamento, l'aggiustamento di bilancio richiesto (in particolare per collocare o mantenere il rapporto debito \\npubblico/PIL su un percorso di riduzione plausibile entro la fine del periodo di aggiustamento o per mantenerlo a livelli pr udenti al di \\nsotto del 60  % del PIL, e per portare o mantenere il disavanzo al di sotto del 3  % del PIL nel medio termine) dovrebbe essere \\ncompletato in quattro anni, ma può essere prorogato fino a sette anni se lo Stato membro si impegna a realizzare una serie \\npertinente di riforme e di investimenti. Il periodo di aggiustamento dell'Italia è stato prorogato a sette anni sulla base de lla serie di \\nriforme e di investimenti di cui all'allegato II della raccomandazione del Consiglio che approva il piano nazion ale strutturale di \\nbilancio di medio termine dell'Italia.\", 'ea08fee7-d89f-4ae6-8547-828173112f50': '37 L\\'allegato fornisce inoltre informazioni sui costi legati all\\'invecchiamento della popolazione  e sul \\nquadro nazionale di bilancio . I rischi per la sostenibilità di bilancio vengono discussi nel Debt \\nSustainability Monitor 2024(35). \\nEvoluzioni del disavanzo pubblico e del debito pubblico  \\nIl disavanzo pubblico dell\\'Italia è stato pari al 3,4  % del PIL nel 2024, con un netto calo rispetto al 7,2  % \\ndel 2023, dovuto all\\'eliminazione graduale dei cons istenti crediti d\\'imposta per le ristrutturazioni edilizie e \\ndelle misure di sostegno connesse alla crisi energetica, unitamente al cospicuo gettito fiscale realizzato, \\nmentre la spesa per interessi è aumentata. Secondo le previsioni di primavera 2025 dell a Commissione, a \\npolitiche invariate il disavanzo pubblico scenderà lievemente fino a raggiungere il 3,3  % del PIL nel 2025 e \\nil 2,9  % del PIL nel 2026. Il rapporto debito pubblico/PIL era pari al 135,3  % alla fine del 2024 (poco prima \\ndella pandemia si at testava al 134  % circa) e, secondo le previsioni della Commissione, salirà al  136,7  % \\nalla fine del 2025. Tale aumento del debito, nel contesto del ritorno a un avanzo primario, è dovuto al \\nnotevole fabbisogno di prestiti connesso all\\'effetto ritardato ese rcitato sulla cassa dai crediti d\\'imposta \\nper le ristrutturazioni edilizie che hanno inciso sui disavanzi degli anni precedenti, mentre il differenziale \\ntra interessi e crescita è meno favorevole rispetto al periodo successivo alla pandemia e attualmente \\ngrava sull\\'evoluzione del debito (effetto \"valanga\" nella tabella A1.7).  \\n \\nTabella A1.1 - Saldo e debito delle amministrazioni pubbliche  \\n \\nFonte:  previsioni di primavera 2025 della Commissione, relazione annuale sui progressi compiuti.  \\n \\nEvoluzione della spesa netta  \\nSecondo le previsioni della Commissione(36), la crescita della spesa netta(37) dell\\'Italia nel 2025 sarà \\ninferiore al massimo raccomandato. Considerando congiuntamente il 2024 e il 2025, si prevede che \\nanche il tasso di crescita cumulativo della spesa netta sarà inferiore al tasso massimo raccomandato.  \\n \\n(35) Commissione europea (2025), \"Debt Sustainability Monitor 2024\", European Economy -Institutional Paper 306 . \\n(36) Previsioni di primavera 2025 della Commissione, European Economy -Institutional Paper 318 , maggio 2025.  \\n(37) La spesa netta è definita all\\'articolo 2, punto 2), del regolamento (UE) 2024/1263 come la spesa pubblica al netto i) della s pesa \\nper interessi, ii) delle misure discrezionali sul lato delle entrate, iii) della spesa per i programmi dell\\'Unione interamente finanziata \\ndai fondi dell\\'Unione, iv) della spesa nazionale per il cofinanziamento di programmi finanziati dall\\'Unione, v) della compone nte \\nciclica della spesa per i sussidi di disoccupazione, vi) delle misure una tantum e di altre misure temporanee.  \\n2024\\nOutturn APR COM APR COM\\n1 General government balance % GDP -3.4 -3.3 -3.3 -2.8 -2.9\\n2 General government gross debt % GDP 135.3 136.6 136.7 137.6 138.2Variables2025 2026', 'c9c7efe7-df50-450b-b05d-a0a808df8c0f': \"38  \\nTabella A1.2 - Crescita della spesa netta  \\n \\n* I tassi di crescita cumulativi sono calcolati in riferimento all'anno base 2023.  \\nFonte:  raccomandazione del Consiglio intesa a correggere il disavanzo eccessivo in Italia, relazione annuale sui progressi compiuti \\ne calcoli della Commissione basati sulle previsioni di primavera 2025 della Commissione.  \\n \\n \\nLa spesa pubblica per la difesa in Italia è stata pari all'1,4  % del PIL nel 2021 e all'1,2  % del PIL sia \\nnel 2022 che nel 2023(38). Secondo le previsioni di primavera 2025 della Commissione, la spesa per la \\ndifesa si attesterà all'1,3  % del PIL nel 2024 e nel 2025.  \\n \\nTabella A1.3 - Spesa netta (dati di consuntivo e previsioni), deviazioni annuali e cumulate rispetto alla \\nraccomandazione  \\n \\n  \\n* Il tasso di crescita per il 2024 non è una raccomandazione, ma serve a individuare la base di riferimento, in quanto l'ultimo anno \\nper il quale sono disponibili dati di consuntivo al momento della definizione del percorso della spesa netta è il 2023.  \\nFonte:  previsioni di primavera 2025 della Commissione e calcoli della Commissione.  \\n \\n \\n \\nTabella A1.4 - Spesa per la difesa  \\n \\nFonte:  Eurostat (COFOG), previsioni di primavera 2025 della Commissione.  \\n \\n \\n \\n(38) Eurostat, spesa pubblica per classificazione delle funzioni di governo (COFOG).  \\nREC APR COM REC APR COM\\n2024 n.a. -2.1% -2.2% n.a. n.a. n.a.\\n2025 1.3% 1.3% 1.2% -0.7% -0.9% -1.0%\\n2026 1.6% n.a. 1.5% 0.9% n.a. 0.5%Annual Cumulative*\\nGrowth rates\\n2023 2024 2025 2026\\nOutturn Outturn COM COM\\n1 Total expenditure bn NAC 1150.0 1108.4 1149.7 1175.6\\n2 Interest expenditure bn NAC 77.8 85.2 87.9 92.2\\n3 Cyclical unemployment expenditure bn NAC -2.3 -4.5 -5.9 -5.9\\n4 Expenditure funded by transfers from the EU bn NAC 24.6 7.7 18.2 24.2\\n5 National co-financing of EU programmes bn NAC 3.1 3.0 5.8 7.7\\n6 One-off expenditure (levels, excl. EU funded) bn NAC 0.7 0.7 0.3 0.3\\n7=1-2-3-4-5-6Net nationally financed primary expenditure (before \\ndiscretionary revenue measures, DRM)bn NAC 1046.1 1016.4 1043.4 1057.2\\n8 Change in net nationally financed primary expenditure (before DRM) bn NAC -29.7 27.1 13.8\\n9 DRM (excl.\", 'bdf4efe3-df2a-401b-8dd5-7a6ad9371928': 'EU funded) bn NAC 0.7 0.7 0.3 0.3\\n7=1-2-3-4-5-6Net nationally financed primary expenditure (before \\ndiscretionary revenue measures, DRM)bn NAC 1046.1 1016.4 1043.4 1057.2\\n8 Change in net nationally financed primary expenditure (before DRM) bn NAC -29.7 27.1 13.8\\n9 DRM (excl. one-off revenue, incremental impact) bn NAC -6.7 14.6 -2.0\\n10=8-9Change in net nationally financed primary expenditure \\n(after DRM) bn NAC -23.0 12.4 15.9\\n11 Outturn / forecast net expenditure growth % change -2.20% 1.2% 1.5%\\n12 Recommended net expenditure growth* % change -1.9% 1.3% 1.6%\\n13=(11-12) x 7 Annual deviation bn NAC -3.1 -0.8 -0.8\\n14 (cumulated from 13) Cumulated deviation bn NAC -3.1 -3.9 -4.8\\n15=13/17 Annual balance % GDP -0.1 0.0 0.0\\n16=14/17 Cumulated balance % GDP -0.1 -0.2 -0.2\\n17 p.m. Nominal GDP  bn NAC 2131.4 2192.2 2256.1 2316.2Variables\\n2021 2022 2023 2024 2025 2026\\n1 Total defence expenditure % GDP 1.4 1.2 1.2 1.3 1.3 1.3\\n2 of which: gross fixed capital formation % GDP 0.4 0.3 0.3 0.4 0.4 0.4', '5ecd8aae-666b-412f-afe8-c21b8ece2255': \"3 relativamente basso, seppure in crescita, e del \\nfinanziamento con venture capital ancora poco \\nsviluppato, nonostante i recenti miglioramenti, \\nil che ostacola l'adozione di nuove tecnologie, \\nin particolare da parte delle imprese più \\npiccole. Sebbene le condizioni del mercato del \\nlavoro siano ulteriormente migliorate, i tassi di \\npartecipazione rimangono bassi, in particolare \\ntra le donne e i giovani. Benché la qualità e la \\nredditività degli attivi delle banche italiane \\nsiano notevolmen te aumentate, le \\nvulnerabilità nel settore bancario permangono, \\nseppur in calo, a causa della continua \\nesposizione al debito sovrano e di un \\nconsistente stock di prestiti garantiti dallo \\nStato. Nonostante alcune politiche precedenti, \\ncomprese azioni nell'a mbito del piano per la \\nripresa e la resilienza, abbiano già affrontato \\ntali vulnerabilità, continua a essere \\nfondamentale proseguire l'attuazione efficace \\ndelle riforme e degli investimenti unitamente a \\nun orientamento prudente della politica di \\nbilancio.  \\nMiglioramenti del saldo di bilancio \\nprimario, ma il rapporto debito \\npubblico/PIL registra una tendenza \\nal rialzo, con politiche invariate  \\nIl saldo di bilancio primario dell'Italia è \\ndiventato positivo, mentre nei prossimi \\nanni non si prevede alcuna riduzione del \\ndebito pubblico.  Il disavanzo pubblico \\ndell'Italia è sceso al 3,4  % del PIL nel 2024, \\nrispetto al 7,2  % dell'anno precedente, \\ndeterminando un avanzo primario dello 0,4  % \\ndel PIL per la prima volta dal 2019. Tale \\nmiglioramento è stato consegui to \\nprincipalmente attraverso la riduzione dei \\ncrediti d'imposta per la ristrutturazione degli \\nalloggi (circa il 3,5  % del PIL), la graduale \\neliminazione delle ingenti misure di \\nmitigazione dei prezzi dell'energia (1  % del \\nPIL) e un cospicuo gettito derivan te \\ndall'imposta sul reddito delle persone fisiche. \\nNell'ipotesi di politiche invariate, si prevede \\nche il disavanzo pubblico scenderà \\nulteriormente al 3,3  % del PIL nel 2025 e \\nal 2,9 % del PIL nel 2026. Allo stesso tempo, la \\ntendenza al ribasso del rapport o debito pubblico/PIL fino al 2023 si è invertita nel \\n2024 e si prevede che aumenti ulteriormente \\nnel corso del 2026. Tale aumento è dovuto al \\nnotevole fabbisogno di prestiti connesso \\nall'impatto ritardato sul bilancio dei precedenti \\ncrediti d'imposta per le ristrutturazioni edilizie.  \\nLa cresc ita della spesa netta dovrebbe \\nessere leggermente inferiore al tasso \\nmassimo di crescita raccomandato.  \\nNel 2024 la spesa netta(2) in Italia è diminuita \\ndel 2,2  % (cfr. allegato 1). Tale diminuzione è \\ndovuta principalmente all'eliminazione \\ngraduale dei con siderevoli crediti d'imposta \\nper le ristrutturazioni edilizie e delle misure di \\nsostegno connesse alla crisi energetica. Al \\ncontempo, l'impatto delle misure discrezionali \\ndi diminuzione delle entrate, tra cui i tagli al \\ncuneo fiscale sul lavoro, è dedotto dalla spesa \\nnetta, compensando così in parte la \\ndiminuzione della spesa primaria.\", '62e1f87f-7b12-4440-8843-bdcc89f02016': \"La cresc ita della spesa netta dovrebbe \\nessere leggermente inferiore al tasso \\nmassimo di crescita raccomandato.  \\nNel 2024 la spesa netta(2) in Italia è diminuita \\ndel 2,2  % (cfr. allegato 1). Tale diminuzione è \\ndovuta principalmente all'eliminazione \\ngraduale dei con siderevoli crediti d'imposta \\nper le ristrutturazioni edilizie e delle misure di \\nsostegno connesse alla crisi energetica. Al \\ncontempo, l'impatto delle misure discrezionali \\ndi diminuzione delle entrate, tra cui i tagli al \\ncuneo fiscale sul lavoro, è dedotto dalla spesa \\nnetta, compensando così in parte la \\ndiminuzione della spesa primaria. Secondo le \\nprevisioni della Commissione, nel 2025 la \\nspesa netta crescerà dell'1,2  %, ossia al di \\nsotto del tasso massimo di crescita \\nraccomandato dal Consiglio(3). Il tasso  di \\ncrescita cumulato della spesa netta nel 2024 e \\nnel 2025 considerati nel loro insieme è \\nstimato a -1,0 %, ossia al di sotto del tasso \\nmassimo raccomandato dal Consiglio. Tenendo \\nconto delle informazioni fornite dall'Italia nella \\nsua relazione annuale su i progressi compiuti, \\ntutte le riforme e gli investimenti che \\ngiustificano una proroga del periodo di \\naggiustamento di bilancio a sette anni(4), che \\n \\n(2) La spesa netta è definita all'articolo  2, punto  2), del \\nregolamento (UE) 2024/1263 come la spesa pubblica \\nal netto i) della spesa per interessi, ii) delle misure \\ndiscrezionali sul lato delle entrate, iii) della spesa per i \\nprogrammi dell'Unione interamente finanziata dai fondi \\ndell'Unione, iv) della spe sa nazionale per il \\ncofinanziamento di programmi finanziati dall'Unione, v) \\ndella componente ciclica della spesa per i sussidi di \\ndisoccupazione, vi) delle misure una tantum e di altre \\nmisure temporanee.  \\n(3) Raccomandazione del Consiglio intesa a far cessa re la \\nsituazione di disavanzo eccessivo in Italia \\n(C/2025/5035) e raccomandazione del Consiglio \\ndel 21 gennaio 2025 che approva il piano nazionale \\nstrutturale di bilancio di medio termine dell'Italia \\n(GU C, C/2025/651, 10.2.2025, ELI:   \\nhttp://data.europa.e u/eli/C/2025/651/oj).  \\n(4) Secondo il regolamento, l'aggiustamento di bilancio \\nnecessario (in particolare, per portare o mantenere il \\nrapporto debito pubblico/PIL su un percorso di riduzione \\nplausibile entro la fine del periodo di aggiustamento o\", '2c7ccc88-d154-4b2b-b3db-71f939bba93d': '39  \\nTabella A1.5 - Sviluppi e previsioni a livello macroeconomico  \\n \\nFonte:  previsioni di primavera 2025 della Commissione, relazione annuale sui progressi compiuti.  \\n \\n \\n \\nTabella A1.6 - Situazione di bilancio delle amministrazioni pubbliche  \\n \\nFonte:  previsioni di primavera 2025 della Commissione, relazione annuale sui progressi compiuti.  \\n \\n \\n \\n2024\\nOutturn APR COM APR COM\\n1=7+8+9 Real GDP % change 0.7 0.6 0.7 0.8 0.9\\n2 Private consumption % change 0.4 1.0 1.2 1.0 1.1\\n3 Government consumption expenditure % change 1.1 1.5 0.9 0.5 0.9\\n4 Gross fixed capital formation % change 0.5 0.6 0.8 1.5 1.5\\n5 Exports of goods and services % change 0.4 0.1 0.9 2.0 1.7\\n6 Imports of goods and services % change -0.7 1.2 1.7 2.9 2.4\\nContributions to real GDP growth \\n7 - Final domestic demand pps 0.5 0.9 1.0 1.0 1.1\\n8 - Change in inventories pps -0.2 0.0 -0.1 0.1 0.0\\n9 - Net exports pps 0.4 -0.3 -0.2 -0.2 -0.2\\n10 Output gap % pot GDP 1.0 0.7 0.6 0.6 0.7\\n11 Employment % change 1.6 0.6 0.9 0.7 0.3\\n12 Unemployment rate % 6.5 6.1 5.9 5.9 5.9\\n13 Labour productivity % change -0.9 0.0 -0.3 0.1 0.6\\n14 HICP % change 1.1 2.1 1.8 1.9 1.5\\n15 GDP deflator % change 2.1 2.3 2.2 2.2 1.7\\n16 Compensation of employees per head % change 3.4 2.5 3.4 2.9 2.5\\n17Net lending/borrowing vis-à-vis the rest of the \\nworld% GDP 0.9 n.a. 1.6 n.a. 2.02025 2026\\nVariables\\n2024\\nOutturn APR COM APR COM\\n1=2+3+4+5 Revenue 47.1 47.5 47.7 n.a. 47.9\\nof which:\\n2 - Taxes on production and imports 14.1 14.0 14.0 n.a. 13.9\\n3 - Current taxes on income, wealth, etc. 15.7 15.2 15.2 n.a. 15.1\\n4 - Social contributions 12.8 13.4 13.5 n.a. 13.5\\n5 - Other (residual) 4.6 4.9 5.0 n.a. 5.3\\n8=9+16 Expenditure 50.6 50.8 51.0 n.a. 50.8\\nof which:\\n9 - Primary expenditure 46.7 46.9 47.1 n.a. 46.8\\nof which:\\n10 - Compensation of employees 9.0 8.9 8.9 n.a. 8.7\\n11 - Intermediate consumption 5.8 5.9 5.9 n.a. 6.0\\n12 - Social payments 22.7 22.8 22.8 n.a. 22.7\\n13 - Subsidies 1.7 1.5 1.3 n.a. 1.4\\n14 - Gross fixed capital formation 3.5 3.6 3.8 n.a. 3.9\\n15 - Other 4.0 4.2 4.4 n.a.', '00582542-628b-4818-beae-24e4234a1cdc': '50.8\\nof which:\\n9 - Primary expenditure 46.7 46.9 47.1 n.a. 46.8\\nof which:\\n10 - Compensation of employees 9.0 8.9 8.9 n.a. 8.7\\n11 - Intermediate consumption 5.8 5.9 5.9 n.a. 6.0\\n12 - Social payments 22.7 22.8 22.8 n.a. 22.7\\n13 - Subsidies 1.7 1.5 1.3 n.a. 1.4\\n14 - Gross fixed capital formation 3.5 3.6 3.8 n.a. 3.9\\n15 - Other 4.0 4.2 4.4 n.a. 4.0\\n16 - Interest expenditure 3.9 3.9 3.9 n.a. 4.0\\n18=1-8 General government balance -3.4 -3.3 -3.3 -2.8 -2.9\\n19=1-9 Primary balance 0.4 0.7 0.6 n.a. 1.1\\n20 Cyclically adjusted balance -4.0 n.a. -3.6 n.a. -3.2\\n21 One-offs 0.2 0.1 0.1 n.a. 0.1\\n22=20-21 Structural balance -4.1 -3.8 -3.7 n.a. -3.4\\n23=22+16 Structural primary balance -0.3 0.2 0.2 n.a. 0.6Variables (% GDP)2025 2026', '1677eefa-74eb-43fc-8f3b-49cddb6b472d': '40  \\nTabella A1.7 - Evoluzione del debito  \\n \\n  \\n* Fine del periodo. ** L\\'effetto \"valanga\" riflette l\\'impatto della spesa per interessi sul debito pubblico accumulato, nonché \\nl\\'impatto della crescita del PIL reale e dell\\'inflazione sul rapporto debito pubblico/PIL (attraverso il denominatore). \\nL\\'aggiustamento stock/flussi comprende le differenze nella co ntabilità per cassa e per competenza (compresi gli anticipi e i ritardi \\nnell\\'erogazione delle sovvenzioni del dispositivo per la ripresa e la resilienza), l\\'accumulo di attività finanziarie, la val utazione e \\naltri effetti residui.  \\nFonte:  previsioni di primavera 2025 della Commissione e calcoli della Commissione, relazione annuale sui progressi compiuti.  \\n \\n \\n \\nTabella A1.8 - Sovvenzioni del dispositivo per la ripresa e la resilienza  \\n \\n  \\nFonte:  relazione annuale sui progressi compiuti.  \\n \\n \\n2024\\nOutturn APR COM APR COM\\n1 Gross debt ratio * (% of GDP) 135.3 136.6 136.7 137.6 138.2\\n2=3+4+8 Change in the ratio (pps. of GDP) 0.7 1.3 1.3 n.a. 1.5\\nContributions**\\n3 Primary balance -0.4 -0.7 -0.6 n.a. -1.1\\n4≈5+6+7 \\'Snow-ball\\' effect 0.2 0.1 0.1 n.a. 0.4\\nof which:\\n5 - Interest expenditure 3.9 3.9 3.9 n.a. 4.0\\n6 - Real growth effect -1.0 -0.8 -0.9 n.a. -1.3\\n7 - Inflation effect -2.8 -3.0 -3.0 n.a. -2.3\\n8 \\'Stock-flow\\' adjustment 1.0 1.8 1.9 n.a. 2.22025 2026Variables\\nRevenue from RRF grants (% of GDP)\\n2020 2021 2022 2023 2024 2025 2026\\n1 RRF grants as included in the revenue projections n.a. 0.2 0.6 0.8 0.2 0.5 0.9\\n2 Cash disbursements of RRF grants from EU n.a. 0.5 1.0 0.6 0.2 0.3 0.8\\n2020 2021 2022 2023 2024 2025 2026\\n3 Total current expenditure 0.0 0.0 0.0 0.1 0.1 0.2 0.3\\n4 Gross fixed capital formation n.a. 0.0 0.0 0.1 0.1 0.2 0.4\\n5 Capital transfers n.a. 0.1 0.6 0.6 0.0 0.1 0.1\\n6=4+5 Total capital expenditure n.a. 0.2 0.6 0.7 0.1 0.3 0.6\\n2020 2021 2022 2023 2024 2025 2026\\n7 Reduction in tax revenue n.a. n.a. n.a. n.a. n.a. n.a. n.a.\\n8 Other costs with impac t on revenue n.a. n.a. n.a. n.a. n.a. n.a. n.a.\\n9 Financial transactions n.a. n.a. n.a. n.a. n.a. n.a. n.a.Expenditure financed by RRF grants (% of GDP)\\nOther costs financed by RRF grants (% of GDP)', '0ddb84a7-fb5d-452d-b2f9-4cd3a412fda2': \"41  \\nTabella A1.9 - Prestiti del dispositivo per la ripresa e la resilienza  \\n \\n  \\nFonte:  relazione annuale sui progressi compiuti.  \\n \\nAttuazione della serie di riforme e di investimenti che giustificano la proroga \\ndel periodo di aggiustamento  \\nNella tabella A1.10  figurano informazioni sui progressi compiuti verso l'attuazione della serie di riforme e \\ndi investimenti che giustificano la pror oga del periodo di aggiustamento e che l'Italia si è impegnata a \\nrealizzare nel suo piano strutturale di bilancio di medio termine approvato dal Consiglio.  \\nTenendo conto delle informazioni fornite dall'Italia nella sua relazione annuale sui progressi compiuti, la \\nCommissione ritiene che le riforme e gli investimenti alla base della proroga che dovevano essere \\nrealizzati entro il 30 aprile siano stati attuati o siano attualmente oggetto di valutazione nell'ambito di \\nuna richiesta di pagamento a titolo del dispositivo per la ripresa e la resilienza (per maggiori dettagli cfr. \\ntabella A1.10 ).  \\nLa serie di riforme e di investimenti che giustificano la proroga del peri odo di aggiustamento consta di \\nvari impegni del piano per la ripresa e la resilienza e di alcune riforme e alcuni investimenti nuovi. Oltre a \\nquelli inclusi nel piano per la ripresa e la resilienza, le riforme e gli investimenti che giustificano la proroga  \\ndel periodo di aggiustamento comprendono riforme volte a garantire l'attuazione della riforma delle \\nprocedure di insolvenza e a migliorare l'efficienza del sistema giudiziario nel suo complesso. Ci si attende \\nun miglioramento del contesto imprenditoriale grazie a misure volte ad aumentare la spesa per la ricerca \\ne lo sviluppo, razionalizzare gli incentivi per le imprese, adottare leggi annuali sulla concorrenza e \\nrafforzare il quadro giuridico per le PMI. Si prevede che un rafforzamento del quadro di contr ollo della \\nspesa pubblica delle amministrazioni pubbliche centrali determinerà un aumento della qualità della spesa \\npubblica. Si prospetta che il miglioramento della gestione del capitale umano, la semplificazione delle \\nprocedure amministrative e la digita lizzazione dei servizi pubblici comporteranno un miglioramento \\ndell'efficacia della pubblica amministrazione sia a livello centrale che a livello locale. Nel settore \\ndell'assistenza all'infanzia, gli impegni sono volti ad aumentare la spesa pubblica annua per coprire i costi \\noperativi, migliorando la disponibilità di posti nelle strutture di assistenza all'infanzia e la loro accessibilità \\neconomica. Nel settore della fiscalità, le misure puntano ad allineare il sistema fiscale agli obiettivi di \\nsostenere i carichi familiari, la crescita economica e la transizione ecologica in un'ottica pluriennale e di \\nridurre la pressione fiscale a carico delle famiglie con redditi medio -bassi e favorire l'occupazione. Per \\nquanto riguarda l'adempimento degli obblighi fiscal i, gli impegni sono volti ad aumentare le entrate \\nderivanti dalle attività di prevenzione e controllo.  \\nCash flow from RRF loans projected in the Plan (% of GDP)\\n2020 2021 2022 2023 2024 2025 2026\\n1 Disbursements of RRF loans from EU n.a. 0.1 0.2 0.4 0.6 1.3 2.4\\n2 Repayments of RRF loans to EU n.a.\", '3659a995-e3fd-4caf-abcb-e03036c29a34': \"Per \\nquanto riguarda l'adempimento degli obblighi fiscal i, gli impegni sono volti ad aumentare le entrate \\nderivanti dalle attività di prevenzione e controllo.  \\nCash flow from RRF loans projected in the Plan (% of GDP)\\n2020 2021 2022 2023 2024 2025 2026\\n1 Disbursements of RRF loans from EU n.a. 0.1 0.2 0.4 0.6 1.3 2.4\\n2 Repayments of RRF loans to EU n.a. 0.9 1.1 1.1 0.7 1.0 1.0\\n2020 2021 2022 2023 2024 2025 2026\\n3 Total current expenditure 0.0 0.0 0.0 0.0 0.1 0.1 0.2\\n4 Gross fixed capital formation 0.0 0.1 0.1 0.2 0.4 0.7 1.6\\n5 Capital transfers 0.0 0.0 0.0 0.1 0.2 0.5 0.5\\n6=4+5 Total capital expenditure 0.0 0.1 0.1 0.3 0.6 1.1 2.1\\n2020 2021 2022 2023 2024 2025 2026\\n7 Reduction in tax revenue n.a. n.a. n.a. n.a. n.a. n.a. n.a.\\n8 Other costs with im pact on revenue n.a. n.a. n.a. n.a. n.a. n.a. n.a.\\n9 Financial transactions n.a. n.a. 0.0 0.0 0.0 0.0 0.1Expenditure financed by RRF loans (% of GDP)\\nOther costs financed by RRF loans (% of GDP)\", '89e248bf-a77d-434f-8cb2-c8179fff3516': \"42 Tutti i traguardi e gli obiettivi inclusi nel piano per la ripresa e la resilienza che dovevano essere conseguiti \\nentro il 30 aprile sono stati raggiunti . Nello specifico, è entrata in vigore una normativa che ha rafforzato \\ngli uffici per il processo, anche attraverso incentivi volti ad attrarre e mantenere il personale assunto, ad \\naiutare i tribunali meno efficienti a smaltire i procedimenti civili arretr ati e a premiare gli uffici giudiziari \\nche conseguono gli obiettivi annuali specifici di riduzione del numero di cause pendenti nel sistema della \\ngiustizia civile. Alla fine del 2023 il governo ha adottato la legge annuale sulla concorrenza che liberalizza  \\nulteriormente diversi settori, tra cui quelli dell'energia elettrica, dell'antitrust (controllo delle \\nconcentrazioni), delle attività di vendita al dettaglio e dei prodotti farmaceutici. L'Italia ha istituito e sta \\nattuando uno strumento per l'individuazi one e il monitoraggio delle carenze di capacità amministrative a \\ntutti i livelli della pubblica amministrazione, ha creato una piattaforma per la riqualificazione dei \\nfunzionari pubblici in servizio e ha razionalizzato il processo di assunzione di nuovi fu nzionari attraverso \\nprofili professionali standardizzati e una piattaforma unica per le assunzioni. Il quadro di revisione della \\nspesa è stato rivisto e la revisione della spesa per il 2023 è stata completata. Sono state introdotte \\ndiverse disposizioni vol te a incoraggiare l'adempimento degli obblighi fiscali e a migliorare gli audit e i \\ncontrolli fiscali, il numero delle lettere di conformità e le entrate generate corrispondenti sono aumentati, \\nmentre il numero delle lettere di conformità che rappresentano  falsi positivi è diminuito e la capacità \\noperativa dell'amministrazione fiscale è migliorata. Le riforme e gli investimenti in settori nuovi rispetto al \\npiano per la ripresa e la resilienza stanno procedendo correttamente. Nel settore della fiscalità, il bilancio \\n2025 ha già introdotto alcune disposizioni con largo anticipo rispetto alla prima scadenza del quarto \\ntrimestre del 2026. In particolare, il bilancio 2025 ha reso permanente il taglio del cuneo fiscale introdotto \\nnel 2024. Per quanto riguarda la r evisione della portata delle spese fiscali, alcune deduzioni dalla base \\nimponibile per l'imposta sul reddito delle persone fisiche sono state riviste in modo selettivo, limitandole \\nper i lavoratori con redditi elevati, e i crediti d'imposta per gli investi menti delle imprese sono stati \\nmodificati. Infine, il governo sta lavorando all'aggiornamento del sistema catastale attraverso il nuovo \\nSistema Integrato Territorio (SIT) e ha avviato l'individuazione e la registrazione di edifici \\nprecedentemente non accat astati, con l'obiettivo di completare tali attività entro il 2027. Si sta inoltre \\npreparando ad adeguare i valori catastali degli immobili cui sono state apportate migliorie, in particolare \\nse sovvenzionate con fondi pubblici. Nel settore dell'adempimento degli obblighi fiscali, il bilancio 2025 ha \\ngià introdotto alcune disposizioni con largo anticipo rispetto alla scadenza del quarto trimestre del 2026.\", '622ce1bb-9d10-4a8c-b222-ccb1d09d7b4e': \"Infine, il governo sta lavorando all'aggiornamento del sistema catastale attraverso il nuovo \\nSistema Integrato Territorio (SIT) e ha avviato l'individuazione e la registrazione di edifici \\nprecedentemente non accat astati, con l'obiettivo di completare tali attività entro il 2027. Si sta inoltre \\npreparando ad adeguare i valori catastali degli immobili cui sono state apportate migliorie, in particolare \\nse sovvenzionate con fondi pubblici. Nel settore dell'adempimento degli obblighi fiscali, il bilancio 2025 ha \\ngià introdotto alcune disposizioni con largo anticipo rispetto alla scadenza del quarto trimestre del 2026. \\nIn particolare, tali disposizioni riguardano l'attribuzione obbligatoria di codici identificativi agli i mmobili \\ndestinati alle locazioni turistiche, l'integrazione obbligatoria tra i sistemi di pagamento elettronico e i \\nregistratori di cassa telematici e l'obbligo di effettuare pagamenti tracciabili per poter fruire di \\ndeterminate deduzioni fiscali.\", 'ccc7d81a-c16c-4afa-926c-1981763abdd7': '43  \\nTabell a A1.10 - Attuazione delle riforme e degli investimenti che giustificano la proroga  \\n  \\nRRP milestones and targets related to M1C1.R1.4 - Reform of civil justice*Q4-2021;                   \\nQ1-2024;                   \\nQ4-2024;                      \\nQ2-2026Reported as completed – under \\nassessment**\\nTake actions to ensure and strengthen the implementation of the insolvency reform Q2 2027\\nCarry out an impact assessment and adopt corrective actions where needed Q4 2027\\nReduction of backlog cases for the Civil Ordinary Courts (first instance) Q4 2028\\nReduction of backlog cases for the Civil Court of Appeal (second instance) Q4 2028\\nReduction in the length of civil proceedings Q4 2028\\nEnsure adequate personnel for the office of trial and the technical administrative personnel Q4-2026;                   \\nQ4-2027;                   \\nQ4-2028;                      \\nQ4-2029\\nRRP milestones and targets related to M1C1.R1.12 - Reform of the tax* administrationQ4-2021;                     \\nQ2-2022;                    \\nQ4-2022;                       \\nQ2-2023;                        \\nQ4-2023;                      \\nQ2-2024;                      \\nQ4-2025;                    \\nQ2-2026Completed\\nAchievement of annual performance targets that progressively ensures a reduction in VAT repayment times Q4-2025;                     \\nQ4-2027;                \\nQ4-2029\\nAchievement of annual performance targets that progressively ensures higher revenues from prevention and enforcement \\nactivities Q4-2027;                \\nQ4-2029.\\nStrengthen the fight against tax evasion resulting from omitted declarations, by (i) in the event of detected tax evasion, \\nremoving tax advantages (“compensazione orizzontale”, “rimborsi di imposte”, “regimi premiali”) and, where relevant, \\nsuspending the exercise of the public concessions; (ii) integrating national short-term rental codes into the databases for \\ntax risk analyses conducted by the Revenue Agency; (iii) introducing compulsory connections between automatic cash \\nregisters and electronic payments for all businesses; (iv) requiring traceable means of payments for the tax deductibility of \\nexpenses related to transport, food and accommodation Q4 2026\\nRRP milestones and targets related to M1C2.R2 - Annual Competition Laws*Q4 2022;                      \\nQ4 2023;                       \\nQ4 2024;                        \\nQ4 2025Reported as completed – under \\nassessment**\\nIncrease public R&D spendingQ4 2025;                      \\nQ4 2026;                       \\nQ4 2027;                        \\nQ4 2028;                         \\nQ4 2029\\nRationalization and simplification of incentives for firms, following up on reform M1C2-R3 in the RRP Q2 2028\\nAdoption of Annual Competition Laws Q4 2026;                       \\nQ4 2027;                              \\nQ4 2028;                            \\nQ4 2029\\nAdoption of a framework law on SMEs on annual basis, based on an impact assessment, and entry into force of the \\nimplementing instrumentsQ4 2026;                         \\nQ4 2027;                        \\nQ4 2028\\nRRP milestones and targets related to M1C1.R1.9 - Reform of the public administration*Q2-2021;                    \\nQ4-2021;                      \\nQ2-2022;                      \\nQ4-2022;                     \\nQ2-2023;                      \\nQ4-2023;                      \\nQ2-2024;                      \\nQ4-2024;                    \\nQ2-2025;                \\nQ2-2026Reported as completed – under \\nassessment**\\nImplementation of vertical mobility Q4 2026\\nImplementation of horizontal mobility Q4 2026\\nValorization of performance-based framework Q4 2026\\nEnsure adequate financial coverage for operating available childcare facilities Q4 2027\\nEnsure adequate supply of childcare services in line with the Barcelona Target and the national target for 2027, taking into \\naccount regional disparitiesQ4 2027\\nIncrease the affordability of childcare Q4 2027\\nRRP milestones and targets related to M1C1.R1.13 - Reform of the spending review framework*Q4 2021;                         \\nQ2 2022;                        \\nQ4 2022;                       \\nQ4 2023;                                \\nQ2 2024;                         \\nQ2 2025;', 'bfea1fc8-bdb1-40e9-ad18-3b3609704d2b': \"Q4-2023;                      \\nQ2-2024;                      \\nQ4-2024;                    \\nQ2-2025;                \\nQ2-2026Reported as completed – under \\nassessment**\\nImplementation of vertical mobility Q4 2026\\nImplementation of horizontal mobility Q4 2026\\nValorization of performance-based framework Q4 2026\\nEnsure adequate financial coverage for operating available childcare facilities Q4 2027\\nEnsure adequate supply of childcare services in line with the Barcelona Target and the national target for 2027, taking into \\naccount regional disparitiesQ4 2027\\nIncrease the affordability of childcare Q4 2027\\nRRP milestones and targets related to M1C1.R1.13 - Reform of the spending review framework*Q4 2021;                         \\nQ2 2022;                        \\nQ4 2022;                       \\nQ4 2023;                                \\nQ2 2024;                         \\nQ2 2025;                        \\nQ2 2026Completed\\nImplementation of yearly spending reviews based on the national legal frameworkQ2 2027;                         \\nQ2 2028;                        \\nQ2 2029\\nStrengthened competence of the Ministry of Economy and Finance to conduct inspections on public spending management \\nof all entities receiving public support, including subnational authorities and state-owned enterprisesQ1 2028\\nReform of the framework for the control of public expenditure for central public administrations, providing for enhanced \\nfinancial responsibility of administrations for the management of resources as well as strengthened programming and \\nenhanced monitoring and evaluation of policy outputs and impactsQ1 2026;                         \\nQ1 2028\\nSimplify the tax system through the review of the scope of tax expenditures Q4 2028\\nReduction of the labour tax wedge Q4 2026\\n(a) Mapping properties that are not included in cadastral register; (b) Updating cadastral values for property taxes for \\nbuildings that have undergone energy efficiency and/or structural improvement interventions, financed in whole or in part \\nby public funds, since 2019.Q2 2027;                         \\nQ2 2028\\nReforms and investment in the area of rationalization \\nof state-owned enterprisesTake actions to ensure and strengthen the implementation of the legal framework on State Owned Enterprises Q4 2027Measure Key stepsRecommended \\nimplementation \\ndateStatus\\n(COM's assessment)\\nReforms and investment in the area of justice\\nAdding to RRP milestones and targets related to \\nM1C1.R1.4 - Reform of civil justice\\nReforms and investment in the area of tax \\nadministration\\nAdding to RRP milestones and targets related to \\nM1C1.R1.12 - Reform of the tax administration\\nReforms and investment in the area of business \\nenvironment\\nAdding to RRP milestones and targets related to \\nM1C2.R2 - Annual Competition Laws\\nReforms and investment in the area of public \\nadministration and childcare\\nAdding to RRP milestones and targets related to \\nM1C1.R1.9 - Reform of the public administration\\nReforms and investment in the area of public \\nexpenditure\\nAdding to RRP milestones and targets related to \\nM1C1.R1.13 - Reform of the spending review \\nframework\\nReforms and investment in the area of taxation\", 'e81fb935-4ea8-4a80-867d-ed15f40d0a0c': '44 Lo stato di avanzamento di ciascuna tappa fondamentale passata (ossia il cui raggiungimento era previsto entro il 30 aprile) può \\nessere classificato come \"completato\" o \"non completato\". Lo stato delle tappe principali future può essere classificato come \\n\"completato\", \"sulla buona strada\" o \"in ritardo\".  \\n* Tali misure sono incluse nel piano per la ripresa e la resilienza dell\\'Italia.  \\n** Queste tappe fondamentali corrispondono a traguardi e obiettivi del piano per la ripresa e la resilienza dell\\'Italia. Per quan to \\nriguarda i traguardi e gli obiettivi che dovevano essere raggiunti entro il quarto trimestre del 2025, è ancora in corso la \\nvalutazione nell\\'ambito della settima richiesta di pagamento a titolo del dispositivo per la ripresa e la resilienza e la tabella  non \\nne pregiudica la valutazione.  \\nFonte:  relazione annuale dell\\'Italia sui progressi compiuti e valutazione della Commissione.  \\n \\nCosti legati all\\'invecchiamento della popolazione  \\nSecondo le proiezioni, la spesa totale connessa all\\'invecchiamento della popolazione in Italia \\naumenterà da circa il 27  % del PIL nel 2024 a circa il 28  % nel 2040, ma scender à a circa \\nil 25 % entro il 2070 (cfr. tabella A1.11 ). Il calo complessivo entro il 2070 è trainato dalla spesa per le \\npensioni e dalla spesa per l\\'istruzione, che insieme compensano abbondantemente l\\'aumento previsto \\ndella spesa per l\\'assistenza sanitaria e per l\\'assistenza a lungo termine. Di conseguenza la spesa totale \\nconnessa all\\'invecchiamento della popo lazione, che nel 2024 superava la media UE di circa 3 punti \\npercentuali del PIL, dovrebbe essere simile alla media UE nel 2070.  \\nSecondo le proiezioni, la spesa pubblica per le pensioni aumenterà nel medio termine, per poi \\niniziare a diminuire costantement e. Nel 2024 l\\'Italia presentava il rapporto spesa pensionistica/PIL più \\nelevato nell\\'UE e tale rapporto dovrebbe aumentare di un ulteriore punto percentuale entro il 2040. \\nTuttavia nel più lungo termine la spesa dovrebbe scendere al di sotto del livello at tuale, con un calo \\nprevisto di 2,4 punti percentuali rispetto al livello del 2024 entro il 2070.  \\nSecondo le proiezioni, la spesa sanitaria pubblica(39) si attesterà al 5,8  % del PIL nel 2024 \\n(al di sotto della media UE del 6,6  %) e si prevede che aumenter à di 0,5 punti percentuali entro \\nil 2040 e di altri 0,1 punti percentuali entro il 2070.  L\\'aumento complessivo è dovuto \\nall\\'invecchiamento della popolazione, ma è notevolmente limitato da un percorso di crescita nominale \\ncostante della spesa sanitaria pubbl ica stabilito per legge fino al 2026.  \\nSecondo le proiezioni, la spesa pubblica(40) per l\\'assistenza a lungo termine si attesterà \\nall\\'1,5  % del PIL nel 2024 (leggermente al di sotto della media UE dell\\'1,7  %) e si prevede che \\naumenterà di 0,3 punti percent uali del PIL entro il 2040 e di altri 0,3 punti percentuali del PIL \\nentro il 2070.  L\\'aumento previsto è dovuto all\\'invecchiamento della popolazione e alle misure di \\ncontenimento dei costi di bilancio incluse nelle proiezioni fino al 2026.', '643f737b-cf3a-4b11-89e9-33c00f261506': 'Secondo le proiezioni, la spesa pubblica(40) per l\\'assistenza a lungo termine si attesterà \\nall\\'1,5  % del PIL nel 2024 (leggermente al di sotto della media UE dell\\'1,7  %) e si prevede che \\naumenterà di 0,3 punti percent uali del PIL entro il 2040 e di altri 0,3 punti percentuali del PIL \\nentro il 2070.  L\\'aumento previsto è dovuto all\\'invecchiamento della popolazione e alle misure di \\ncontenimento dei costi di bilancio incluse nelle proiezioni fino al 2026.  \\n \\nTabella A1.11 - Variazione prevista della spesa connessa all\\'invecchiamento della popolazione nel \\nperiodo 2024 -2040 e nel periodo 2024 -2070  \\n  \\nFonte : 2024 Ageing Report (CE/CPE).  \\n \\n \\n(39) Le principali caratteristiche di prestazione, le riforme e gli investimenti recenti sono discussi nell\\'allegato 11 \"Salute e sistemi \\nsanitari\".  \\n(40) La qualità e l\\'accessibilità del sistema italiano di assistenza a lungo termine sono trattate nell\\'allegato 9 \"Politiche soci ali\". \\nIT 27.1 1.0 0.5 0.3 -0.6 1.1 28.3 IT\\nEU 24.3 0.5 0.3 0.4 -0.3 0.9 25.2 EU\\nIT 27.1 -2.4 0.6 0.6 -0.7 -1.9 25.3 IT\\nEU 24.3 0.2 0.6 0.8 -0.4 1.3 25.6 EUage-related \\nexpenditure \\n2024 (% GDP)change in 2024- 2040  (pps GDP) due to:age-related \\nexpenditure \\n2040 (%GDP)pensions healthcare long-term care education total\\nage-related \\nexpenditure \\n2024 (% GDP)change in 2024- 2070  (pps GDP) due to:age-related \\nexpenditure \\n2070 (%GDP)pensions healthcare long-term care education total', '1f461819-49dd-4f13-b3bb-4308d86b3df6': \"45 Quadro nazionale di bilancio  \\nL'Ufficio parlamentare di bilancio (UPB) dell'Italia è un'istituzione di bilancio indipendente \\ndotata di risorse relativamente adeguate e di un ampio mandato.  L'UPB valida le previsioni \\nmacroeconomiche del governo e il governo deve giustificare pubblicamente eventuali scostamenti dalle \\nprevisioni dell'istituzione di bilancio. L'UPB valuta inoltre le previsioni di bilancio prima dell'adozione dei \\ndocumen ti di programmazione di bilancio in Parlamento. Tuttavia, nonostante una serie di memorandum \\nd'intesa, l'UPB segnala ancora problemi di accesso alle informazioni. A differenza della partecipazione \\ndell'UPB alle audizioni parlamentari, che tende ad attirare  l'attenzione dei mezzi di informazione, il dialogo \\nstrategico con il governo si svolge spesso in modo informale, senza generare particolare risonanza nei \\nmedia. La direzione dell'UPB rilascia periodicamente interviste e dal 2016 ha un portavoce, che funge  da \\naddetto stampa. Dispone inoltre di un sito web ben organizzato con alcune infografiche.  \\n \\nTabella A1.12 - Indicatori della banca dati sulla governance di bilancio  \\n \\nL'indice della forza delle regole di bilancio per paese ( Country Fiscal Rule Strength Index , C-FRSI) descrive la forza delle regole di \\nbilancio nazionali aggregata a livello dei singoli paesi in funzione i) della base giuridica, ii) di quanto è vincolante la r egola, iii) \\ndegli organismi di monitoraggio, iv) dei meccanismi di correz ione e v) della resilienza agli shock. L'indice dei quadri di bilancio di \\nmedio termine ( Medium -Term Budgetary Framework Index , MTBFI) descrive la forza dei quadri nazionali di bilancio di medio \\ntermine sulla base i) della copertura degli obiettivi/dei mas simali inclusi nei piani nazionali di bilancio di medio termine, ii) del \\ncollegamento tra tali obiettivi/massimali e i bilanci annui, iii) del coinvolgimento del parlamento nazionale nella preparazi one dei \\npiani, iv) del coinvolgimento di istituzioni di bi lancio indipendenti nella loro preparazione e v) del loro livello di dettaglio. Più è alto \\nil punteggio, maggiore è la forza delle regole di bilancio e del quadro di bilancio di medio termine.  \\nFonte:  banca dati sulla governance di bilancio . \\n \\n \\n \\n2023 Italy EU Average\\nCountry Fiscal Rule Strength Index (C-FRSI) 19.41 14.52\\nMedium-Term Budgetary Framework Index (MTBFI) 0.78 0.73\", 'aa3a0981-b8be-4576-b64b-9d0145acb1ce': 'ALLEGATO 2: TASSAZIONE  \\n46 Il presente allegato fornisce una panoramica \\ndel sistema fiscale italiano basata su \\nindicatori. Contiene informazioni riguardanti: i) la \\nstruttura dell\\'imposizione fiscale; ii) aspetti relativi \\nalla competitività e all\\'equità del sistema fiscale; e \\niii) la  riscossione e l\\'adempimento degli obblighi \\nfiscali.  \\nIl gettito fiscale dell\\'Italia è relativamente \\nelevato rispetto al PIL e il contributo \\nmaggiore proviene dalla tassazione dei \\nredditi da lavoro. Dalla tabella A2.1 si evince che \\nnel 2023 il rapporto gettito fiscale/PIL dell\\'Italia è \\nstato superiore alla media dell\\'UE ed è rimasto \\nstabile negli ul timi anni. Anche le imposte sul \\nlavoro espresse in percentuale del PIL sono state \\nleggermente superiori alla media UE. Tuttavia \\nnel 2023 le entrate derivanti dalle imposte sui \\nconsumi, come percentuale del PIL, sono state \\nprossime all\\'aggregato dell\\'UE, no nostante il \\ngettito dell\\'IVA sia relativamente basso in Italia in \\nragione dell\\'ampio ricorso a esenzioni e ad \\naliquote IVA ridotte. Espresso in percentuale del \\nPIL, il gettito delle imposte ricorrenti sugli \\nimmobili, che sono tra le imposte meno dannose \\nper la crescita, in Italia è stato superiore \\nall\\'aggregato dell\\'UE. Tuttavia le prime abitazioni \\nsono esenti da quasi tutte le imposte sugli \\nimmobili e i valori utilizzati per la tassazione degli \\nimmobili non sono stati sistematicamente \\naggiornati per avvici narli ai valori di mercato. Tra \\nil 2022 e il 2023 il gettito fiscale derivante da \\nimposte ambientali ha registrato un lieve aumento \\n(passando dal 2,3  % al 2,5  % del PIL). Inoltre, \\nsebbene siano fondamentali per l\\'applicazione del \\nprincipio \"chi inquina pag a\", nel 2023 le imposte in \\nmateria di inquinamento e risorse hanno \\nrappresentato soltanto l\\'1,1  % delle imposte \\nambientali. L\\'Italia sta dando attuazione alle \\nimposte ambientali e ha già applicato imposte \\nsulle emissioni di NOx e SO2, sulle emissioni \\nsonor e degli aeromobili, sullo smaltimento in \\ndiscarica e sull\\'incenerimento dei rifiuti. Anziché \\nimposte ambientali in senso stretto, l\\'Italia applica \\ntariffe per la sicurezza degli alimenti, le acque \\nreflue e l\\'estrazione dell\\'acqua. L\\'imposta sulla \\nplastica monouso è stata rinviata al luglio 2026. Vi \\nsono ancora margini per attuare le imposte sui \\nfertilizzanti e sui pesticidi. Il governo italiano stima \\nche il livello di sovvenzioni dannose per l\\'ambiente \\nin Italia abbia raggiunto i 24,2 miliardi di EUR \\nnel 2022, di cui 17,1 miliardi di EUR costituiti da sovvenzioni ai combustibili fossili(41). La riduzione \\ndi tali sovvenzioni è una delle riforme del piano \\nper la ripresa e la resilienza dell\\'Italia, che mira a \\nridurne il valore di almeno 2 miliardi di EUR \\nnel 2026 e di altri 3,5 miliardi di EUR almeno entro \\nil 2030. La legge di bilancio 2025 riguarda due \\nsovvenzioni dannose per l\\'ambiente: l\\'aliquota IVA \\nridotta sullo smaltimento dei rifiuti e la tassazione \\ndei benefici aggiuntivi ( fringe benefit ) sotto forma \\ndi auto aziendali.', 'e9370f14-f42b-4812-ab5d-18877af9d174': \"La riduzione \\ndi tali sovvenzioni è una delle riforme del piano \\nper la ripresa e la resilienza dell'Italia, che mira a \\nridurne il valore di almeno 2 miliardi di EUR \\nnel 2026 e di altri 3,5 miliardi di EUR almeno entro \\nil 2030. La legge di bilancio 2025 riguarda due \\nsovvenzioni dannose per l'ambiente: l'aliquota IVA \\nridotta sullo smaltimento dei rifiuti e la tassazione \\ndei benefici aggiuntivi ( fringe benefit ) sotto forma \\ndi auto aziendali. Il valore economico totale di \\nqueste sovvenzioni eliminate è stimato pari \\na 1,34  miliardi di EUR. La legge di bilancio 2025 \\nprevede la graduale eliminazione del trattamento \\nfiscale differenziato tra gasolio e benzina, che \\ndovrebbe essere posto in essere con decreto \\nattuativo.  \\nGrafico  A2.1 - Quote del gettito fiscale nel 2023  \\n  \\nFonte:  Dati sulle tendenze fiscali, DG TAXUD.  \\nNegli ultimi 20 anni il gettito dell'imposta \\nsulle società in percentuale del PIL è \\naumentato, nonostante la riduzione \\ndell'aliquota d'imposta sulle società \\nregistrata in questo periodo.  In Italia l'aliquota \\nmassima legale dell'imposta sui redditi delle \\nsocietà (IRES), pari al 24  % (+  3,9 % di IRAP)(42), è \\ntra le più elevate dell'UE (dove l'aliquota media è \\npari a circa il 21  %). Anche l'aliquota fiscale media \\nprospettica (23,9  %) è superiore alla media UE pari \\n \\n(41) Ministero dell'Ambiente e della sicurezza energetica (MASE),  \\nRelazione alle Camere e al CITE - Esiti dell'aggiornamento \\ndel Catalogo e le proposte per la progressiva eliminazione \\ndei sussidi ambientalmente dannosi e per la promozione dei \\nsussidi ambientalmente favor evoli, 2024  \\nhttps://www.mase.gov.it/sites/default/files/archivio/allegati/sv\\niluppo_sostenibile/CSA6_Relazione.pdf ), pag. 22.  \\n(42) Le societ à italiane sono soggette a un'imposta sui redditi \\ndelle società (24  %) e a un'imposta regionale sulle attività \\nproduttive o IRAP (3,9  %); la cui aliquota può essere \\naumentata fino a un massimo del 0,92  % dalle regioni, che \\npossono anche differenziarla per settori di attività o per \\ncategorie di contribuenti.  \\n51.2\\n26.921.9\\n48.8\\n26.025.2Tax revenue shares in 2023, Italy (out er ring ) and EU \\n(inner ring )\\nTaxes on labour Taxes on consumption Taxes on capital\", 'cc3fd76d-75eb-4b56-a9a7-427f22113efd': '47 a circa il 19  %. Un beneficio fiscale introdotto in \\nmisura temporanea per il 2 024 nel dicembre 2023 \\nè stato ora prorogato per il periodo 2025 -2027 \\ncon la legge di bilancio 2025. Il beneficio prevede \\nuna maxi -deduzione fiscale per il costo dei \\nlavoratori \"dipendenti\", compresa tra il 120  % e \\nil 130 % a seconda della categoria dei lav oratori \\nneoassunti (ad esempio donne, giovani lavoratori, \\nex beneficiari del reddito di cittadinanza). I \\ncontribuenti soggetti all\\'imposta sui redditi delle \\nsocietà possono inoltre beneficiare di una \\nriduzione dell\\'aliquota dell\\'imposta dal 24  % \\nal 20 %, p urché soddisfino due condizioni \\nspecifiche. La prima condizione è che almeno \\nl\\'80 % degli utili registrati per il 2024 sia \\naccantonato nell\\'impresa come riserva. La seconda \\ncondizione è che almeno il 30  % di tali utili \\naccantonati e almeno il 24  % degli utili registrati \\nnel 2023 siano utilizzati per finanziare nuovi \\ninvestimenti in beni strumentali destinati a \\nstrutture produttive ubicate in Italia. Tali beni \\ndevono rientrare nelle categorie \"Transizione 4.0\" o \\n\"Transizione 5.0\", e l\\'investimento minimo deve \\nessere di 20  000 EUR. Il rapporto tra investimenti in ricerca e \\nsviluppo e PIL dell\\'Italia è molto inferiore \\nalla media europea e il divario è aumentato \\nnel tempo.  Nel 2023 la spesa italiana per la \\nricerca e lo sviluppo in percentuale del PIL si è \\nattestata all\\'1,31  %, rispetto a una media UE \\ndel 2,22  %(43). In Italia i fondi pubblici sostengono \\ngli investimenti delle imprese in ricerca e sviluppo \\nprincipalmente att raverso crediti d\\'imposta e \\nagevolando l\\'accesso al credito per le \\nmicroimprese e le piccole e medie imprese. Questi \\ntipi di politiche, in vigore da molto tempo, \\nsembrano però aver avuto un effetto limitato sulla \\ncrescita e sull\\'innovazione, fornendo alcun e \\nindicazioni sull\\'efficacia delle misure pubbliche.   \\nL\\'Italia offre diversi crediti d\\'imposta a \\nsostegno della transizione verde e digitale. \\nNel 2022 l\\'Italia ha introdotto una nuova \\nagevolazione \" patent box \", che consente la \\n \\n(43) https://ec.europa.eu/eurostat/statistics -\\nexplained/index.php?title=R%26D_expenditure . \\n  \\nTabella  A2.1 - Indicatori relativi alla tassazione  \\n  \\n(1) Aliquota fiscale effettiva prospettica (KPMG).  \\n(2) Un valore più elevato indica un maggiore impatto ridistributivo della tassazione.  \\n(*) Media semplice UE -27. \\n(**) Valore previsto per il 2023. Per maggiori dettagli sul divario dell\\'IVA, cfr. Commissione europea, direzione generale de lla \\nFiscalità e dell\\'unione doganale, VAT gap in the EU - 2024 R eport, 2024, https://data.europa.eu/doi/10.2778/2476549.  \\nLe previsioni relative al divario dell\\'IVA richiedono un\\'attenta analisi. In Italia, i calcoli della Commissione nazionale in dipendente \\nsull\\'evasione fiscale saranno riesaminati a seguito di recenti modifiche dei conti nazionali da parte dell\\'Istituto nazionale di \\nstatistica.  \\nPer maggiori dati sul gettito fiscale e sulla metodologia applicata, cfr.', 'cd7d65b0-8249-485e-ad95-e248e591b1d0': '(*) Media semplice UE -27. \\n(**) Valore previsto per il 2023. Per maggiori dettagli sul divario dell\\'IVA, cfr. Commissione europea, direzione generale de lla \\nFiscalità e dell\\'unione doganale, VAT gap in the EU - 2024 R eport, 2024, https://data.europa.eu/doi/10.2778/2476549.  \\nLe previsioni relative al divario dell\\'IVA richiedono un\\'attenta analisi. In Italia, i calcoli della Commissione nazionale in dipendente \\nsull\\'evasione fiscale saranno riesaminati a seguito di recenti modifiche dei conti nazionali da parte dell\\'Istituto nazionale di \\nstatistica.  \\nPer maggiori dati sul gettito fiscale e sulla metodologia applicata, cfr. pagina web \"Dati sulle tendenze fiscali\", https://t axation -\\ncustoms.ec.europa.eu/taxation/economic -analys is-taxation/data -taxation -trends_en?prefLang=it&etrans=it.  \\nFonte:  Commissione europea, OCSE.', '994262f2-b9fc-467a-985b-12827fe81e94': 'Le previsioni relative al divario dell\\'IVA richiedono un\\'attenta analisi. In Italia, i calcoli della Commissione nazionale in dipendente \\nsull\\'evasione fiscale saranno riesaminati a seguito di recenti modifiche dei conti nazionali da parte dell\\'Istituto nazionale di \\nstatistica.  \\nPer maggiori dati sul gettito fiscale e sulla metodologia applicata, cfr. pagina web \"Dati sulle tendenze fiscali\", https://t axation -\\ncustoms.ec.europa.eu/taxation/economic -analys is-taxation/data -taxation -trends_en?prefLang=it&etrans=it.  \\nFonte:  Commissione europea, OCSE.  \\n \\nIT\\nMedian (EU-27) 2010 2021 2022 2023 2024 2010 2021 2022 2023 2024\\nTax structureTotal taxes (including compulsory actual social contributions) (% of \\nGDP)41,2 42,2 41,7 41,4 37,8 40,2 39,7 39,0\\nTaxes on labour (% of GDP) 21,4 21,3 20,3 20,2 19,8 20,5 20,1 20,0\\nof which, social security contributions (SSC, % of GDP) 12,9 13,1 12,8 12,4 12,9 13,0 12,7 12,7\\nTaxes on consumption (% of GDP) 10,7 11,2 11,0 10,8 10,9 11,2 10,9 10,5\\nof which, value added taxes (VAT, % of GDP) 6,0 6,6 6,9 6,6 6,8 7,3 7,4 7,1\\nTaxes on capital (% of GDP) 9,2 9,7 10,4 10,4 7,1 8,5 8,7 8,5\\nPersonal income taxes (PIT, % of GDP) 11,2 12,1 11,3 11,8 8,6 9,6 9,4 9,3\\nCorporate income taxes (CIT, % of GDP) 2,3 1,9 2,7 2,7 2,2 2,9 3,2 3,2\\nTotal property taxes (% of GDP) 1,8 2,4 2,3 2,1 1,9 2,2 2,1 1,9\\nRecurrent taxes on immovable property (% of GDP) 0,6 1,4 1,3 1,2 1,1 1,1 1,0 0,9\\nEnvironmental taxes (% of GDP) 2,9 3,0 2,3 2,5 2,5 2,4 2,1 2,0\\nEffective carbon rate in EUR per tonne of CO 2 equivalents NA 102,8 NA 100,1 NA 86,0 NA 84,8\\nTax wedge at 50% of average wage (single person) (*) 40,7 36,2 34,4 33,1 33,0 33,9 31,8 31,5 31,5 31,8\\nTax wedge at 100% of average wage (single person) (*) 47,2 46,0 45,6 45,5 47,1 40,9 39,9 39,9 40,2 40,3\\nCorporate income tax - effective average tax rates (1) (*) 27,8 23,9 23,9 23,9 21,3 19,3 19,1 18,9\\nDifference in Gini coefficient before and after taxes and cash social \\ntransfers (pensions excluded from social transfers) (2) (*)5,9 8,0 7,9 7,6 8,6 8,2 7,9 7,7\\nOutstanding tax arrears: total year-end tax debt (including debt \\nconsidered not collectable) / total revenue (in %) (*)199,9 181,0 35,5 32,6\\nVAT gap (% of VAT total tax liability, VTTL) (**) 10,9 10,6 14,7 6,6 7,0Italy EU-27\\nProgressivity & \\nfairness\\nTax administration & \\ncomplianceBy tax base\\nSome tax types', '1c2428b4-ed78-4c2c-b3cb-c5be09af7614': \"48 deduzione dei costi di ricerca e sviluppo, \\nmaggiorati del 110  %, sostenuti per la creazione e \\nlo sviluppo di software, brevetti e disegni e \\nmodelli.  \\nPer quanto riguarda i finanziamenti tramite \\nventure capital, i risultati dell'Italia (in \\npercentuale del PIL) sono inferiori risp etto \\nalla media UE, sebbene dal 2013 abbiano \\nregistrato una forte crescita, soprattutto \\nrispetto ad altre grandi economie dell'UE e \\nagli Stati Uniti. Nel 2023 i finanziamenti tramite \\nventure capital in Italia hanno rappresentato \\nlo 0,026  % del PIL, mentre nel 2022 sono stati pari \\nallo 0,035  % del PIL.  \\n \\nGrafico  A2.2 - Cuneo fiscale per i percettori di \\nreddito in famiglie unipersonali e per i percettori \\ndella seconda fonte di reddito in % del costo \\ntotale del lavoro, 2024  \\n  \\nIl cuneo fiscale per i percettori della seconda fonte di reddito \\npresuppone che il primo percettore di reddito guadagni \\nil 100 % dello stipendio medio e che non siano presenti figli. \\nPer la metodologia completa, cfr. OCSE, Taxing Wages \\n2014 -2015 , 2016.  \\nFonte:  Commissione europea.  \\nIl carico fiscale che grava sul  lavoro in Italia \\nrimane elevato nonostante le riforme \\nrecenti.  Nel 2025 è stata resa permanente la \\nriduzione da quattro a tre degli scaglioni \\ndell'imposta sui redditi delle persone fisiche \\nintrodotta nel 2024 (23  % per la fascia di reddito \\ninferiore, 35  % per la fascia di reddito medio \\ne 43 % per la fascia di reddito pi ù alto) e la soglia \\ndi esenzione fiscale per i lavoratori dipendenti è \\nstata portata a 8  500 EUR. Dal grafico 13.2 si \\nevince che nel 2024 il cuneo fiscale sul lavoro(44) \\n \\n(44) Il cune o fiscale è definito come la somma delle imposte sul \\nreddito delle persone fisiche e dei contributi sociali a carico \\n in Italia è stato superiore alla media UE per le \\npersone sole, in relazione a diversi livelli di \\nremunerazione (50  %, 67  %, 100  % e 167  % dello \\nstipendio medio). I percettori della seconda fonte \\ndi reddito con un livello di remunerazione pari \\nal 67 % della remu nerazione media, i cui coniugi \\npercepiscono lo stipendio medio, sono stati \\nanch'essi soggetti a un cuneo fiscale più elevato \\nrispetto alla media UE. Il cuneo fiscale per i \\npercettori della seconda fonte di reddito è stato \\nsuperiore a quello applicato alle persone sole allo \\nstesso livello, anche se la differenza è stata meno \\nmarcata rispetto alla media UE. Secondo le stime \\ndell'Osservatorio sui Conti Pubblici italiani (OCPI) \\ndell'Università Cattolica di Milano(45), nel 2022 il \\ndrenaggio fiscale (ossia il fen omeno che si verifica \\nquando i contribuenti passano a scaglioni fiscali \\npiù elevati, in quanto le soglie per tali scaglioni \\nnon sono state adeguate al rialzo per tenere conto \\ndell'inflazione) ha rappresentato lo 0,6  % del \\ngettito totale delle imposte sul r eddito delle \\npersone fisiche (ossia 360 milioni di EUR). Per il \\n2023, si stima che il drenaggio fiscale ammonti a \\n450 milioni di EUR. Nel complesso, il carico fiscale \\nsul lavoro in Italia è relativamente progressivo.\", '749572d9-7b81-437a-bb3f-41cd36eee9ef': \"Per il \\n2023, si stima che il drenaggio fiscale ammonti a \\n450 milioni di EUR. Nel complesso, il carico fiscale \\nsul lavoro in Italia è relativamente progressivo. La \\nriduzione delle disparità di reddito  attraverso il \\nregime fiscale e previdenziale (misurata dalla \\ncorrispondente variazione del coefficiente di Gini) è \\nstata pari alla media UE nel 2023.  \\nSebbene negli ultimi anni sia diminuita grazie \\nalle numerose misure adottate dal governo, \\nl'evasione fis cale in Italia rimane elevata.  \\nNel 2022, nell'ambito del piano per la ripresa e la \\nresilienza, sono state adottate diverse misure volte \\nincentivare l'adempimento degli obblighi fiscali, tra \\ncui l'estensione della fatturazione elettronica, \\nl'obbligo di acce ttare pagamenti elettronici e \\nl'interconnessione di serie di dati per controlli \\nmirati. Con la legge di bilancio 2025 sono state \\navviate ulteriori misure in linea con il piano \\nstrutturale di bilancio di medio termine dell'Italia, \\nquali: i) il collegamento obbligatorio tra registratori \\nautomatici di cassa e pagamenti elettronici per \\ntutte le imprese; e ii) l'uso di mezzi di pagamento \\ntracciabili per la deducibilità fiscale delle spese \\nrelative a trasporti, vitto e alloggio.  \\n \\ndei lavoratori dipendenti e dei datori di lavoro al netto degli \\nassegni familiari, espressa in percentuale rispetto al costo \\ntotale del lav oro (la somma della retribuzione lorda e dei \\ncontributi sociali versati dal datore di lavoro).  \\n(45) Osservatorio sui Conti Pubblici italiani, Gli effetti del Fiscal \\nDrag nell'ultimo biennio , 2023.  \\n33.038.147.154.0\\n40.4\\n202530354045505560\\n50 100 150Tax wedge, % of total labour costsEarnings as % of the average wage\\nSingle earner - IT Single earner - EU average\\nSecond earner -  IT Second earner -  EU average\", '41326a54-64dc-4812-a1df-a5fd9b06e415': \"4 erano previsti entro il 30 aprile, sono stati \\nattuati o sono attualmente in fase di \\nvalutazione nel contes to di una richiesta di \\npagamento nell'ambito del dispositivo per la \\nripresa e la resilienza.  \\nLe finanze pubbliche sono gravate da \\nforti pressioni di bilancio.  Negli ultimi anni \\nil gettito fiscale è stato spinto al rialzo da una \\nforte inflazione e dall'and amento favorevole \\ndell'economia, sostenuto da miglioramenti in \\ntermini di adempimento degli obblighi fiscali. \\nTuttavia negli anni a venire non è certo che \\nl'elevato gettito fiscale possa essere \\nsostenuto, dato che si prevede una crescita \\nnominale moderata.  Nel frattempo \\npermangono ingenti pressioni di bilancio, tra \\ncui l'aumento dei costi legati \\nall'invecchiamento della popolazione. In \\nparticolare, la spesa pubblica in Italia è \\nsbilanciata verso la protezione sociale \\n(nel 2024 20,3  % del PIL e 43,6  % della spesa \\nprimaria), difficile da contenere a fronte delle \\npressioni demografiche. Inoltre la spesa \\npensionistica italiana è tra le pi ù elevate \\ndell'UE (16,1  % del PIL nel 2024 rispetto alla \\nmedia UE dell'11,6  %, cfr. allegato 1), il che \\nrende pi ù difficile co ntenere la spesa pubblica. \\nSebbene la piena attuazione della riforma \\npensionistica del 2011 ridurr à gradualmente \\ntale onere, si prevede che continuer à ad \\naumentare nel medio termine a causa delle \\ntendenze demografiche e dell'effetto dei \\nrecenti regimi di p repensionamento. Di \\nconseguenza, secondo le previsioni i rischi per \\nla sostenibilità di bilancio saranno elevati nel \\nmedio periodo e medi nel lungo periodo. È \\nnecessario uno sforzo concertato per \\nmigliorare l'efficienza e l'efficacia della spesa \\npubblica, sulla base delle misure previste \\ndall'Italia nel suo piano strutturale di bilancio a \\nmedio termine.  \\n \\nper manten erlo a livelli prudenti al di sotto del 60  % del \\nPIL e per portare o mantenere il disavanzo al di sotto \\ndel 3  % del PIL nel medio termine) dovrebbe essere \\ncompletato in quattro anni, ma può essere prorogato \\nper un periodo fino a sette anni se lo Stato memb ro si \\nimpegna a realizzare una serie pertinente di riforme e \\ninvestimenti.  Crescita sostenuta dei posti di \\nlavoro a tempo indeterminato, ma \\nla scarsa partecipazione e gli \\nsquilibri tra domanda e offerta di \\ncompetenze persistono  \\nLa crescita dell'occupazione rafforza \\nl'attivazione del mercato del lavoro.  \\nL'occupazione ha continuato a crescere \\nvigorosamente nel 2024, superando la crescita \\ndel PIL reale, sebbene abbia subito un \\nnotevole rallentamento verso la fine dell'anno. \\nUn increme nto del numero di ore autorizzate \\nper il regime di integrazione salariale, pari \\na 290 000 posti di lavoro a tempo pieno \\n(50 000 in pi ù rispetto al 2023), riflette il fatto \\nche le imprese di specifici settori \\nmanifatturieri prevedono il verificarsi di \\ncondizioni economiche temporaneamente \\ndifficili. Nel complesso, il numero di dipendenti \\ncon contratti a tempo indeterminato è \\naumentato ult eriormente, cos ì come il numero \\ndi lavoratori autonomi, mentre il ricorso ai \\ncontratti a tempo determinato è diminuito.\", '42c55ddd-4ade-4a2f-9b0a-078e4d58843c': \"Un increme nto del numero di ore autorizzate \\nper il regime di integrazione salariale, pari \\na 290 000 posti di lavoro a tempo pieno \\n(50 000 in pi ù rispetto al 2023), riflette il fatto \\nche le imprese di specifici settori \\nmanifatturieri prevedono il verificarsi di \\ncondizioni economiche temporaneamente \\ndifficili. Nel complesso, il numero di dipendenti \\ncon contratti a tempo indeterminato è \\naumentato ult eriormente, cos ì come il numero \\ndi lavoratori autonomi, mentre il ricorso ai \\ncontratti a tempo determinato è diminuito. Il \\nprolungato aumento dei posti di lavoro dopo la \\npandemia di Covid -19 ha fatto registrare livelli \\nrecord dei tassi di occupazione sia p er gli \\nuomini che per le donne, anche se ancora \\nmolto al di sotto della media UE. Poiché la \\npartecipazione alla forza lavoro non è \\naumentata in linea con l'occupazione, il tasso \\ndi disoccupazione è sceso a una media \\ndel 6,5 % nel 2024, attestandosi addirit tura al \\ndi sotto del 6  % al volgere dell'anno. I tassi di \\noccupazione e di partecipazione variano \\nnotevolmente tra le regioni settentrionali e \\nmeridionali e sono strutturalmente più bassi \\nper i giovani e le donne. Tendono inoltre a \\nriflettere le maggiori d ifficoltà incontrate dai \\nlavoratori scarsamente qualificati, in \\nparticolare dalle generazioni più giovani, e \\ndalle persone provenienti da un contesto \\nmigratorio (cfr. sezione 4). Secondo le \\nprevisioni l'occupazione aumenterà \\nulteriormente nel periodo 2025 -2026, anche \\nse alla fine scenderà al di sotto della crescita \\ndel PIL. È probabile che il conseguente \\naumento della produttività rimanga modesto, \\nin linea con i lenti progressi registrati negli \\nultimi decenni (cfr. sezione 2).\", 'b386e704-15d8-41be-a55e-16fcb2441f57': '49 Un nuovo regime che consente ai p iccoli \\ncontribuenti di concordare anticipatamente \\nle imposte dovute meriterà un attento \\nmonitoraggio.  Nel 2024 l\\'Italia ha introdotto un \\nregime innovativo (il Concordato Preventivo \\nBiennale, CPB)(46) che consente ai piccoli \\ncontribuenti (persone fisiche e società di persone) \\ndi concordare con l\\'amministrazione fiscale le \\nimposte dovute per i due anni successivi. Per \\nciascun contribuente, la pertinente imposta dovuta \\nè proposta dall\\'autorità fiscale sulla base di una \\nserie di parametri, tra cui l\\'analisi set toriale e le \\nprevisioni economiche, mentre i contribuenti \\nammissibili devono rispettare diversi requisiti. Nel \\ncomplesso, il ricorso al regime appare finora \\npiuttosto modesto. Sebbene il regime miri a \\nmigliorare la certezza in merito agli obblighi fiscali,  \\nincentivare gli investimenti e aumentare nel tempo \\nil reddito dichiarato, il suo impatto effettivo \\nsull\\'evasione fiscale dovrà essere oggetto di un \\nattento monitoraggio(47). Per promuovere \\nl\\'adempimento degli obblighi fiscali tra i \\ncontribuenti medio -grandi (quelli con un fatturato \\nsuperiore a 750 milioni di EUR nel 2024), il \\ngoverno ha inoltre introdotto un nuovo regime di \\nadempimento collaborativo basato su un quadro di \\ncontrollo del rischio fiscale ( Tax Control \\nFramework ) certific ato, che offre vantaggi \\nmaggiori rispetto al regime precedente. La \\npercezione della regolamentazione e della \\ntassazione delle imprese, pari al 34,1  %, come un \\nostacolo agli investimenti è tra le pi ù elevate \\ndell\\'UE.  \\nUn altro indicatore dell\\'efficacia \\ndell\\'amministrazione fiscale italiana è il \\nmodo in cui è gestita la risoluzione delle \\ncontroversie.  Le amministrazioni fiscali \\npartecipano spesso a procedure amichevoli per la \\nrisoluzione delle controversie. Il numero di \\nprocedure amichevoli che si svolgono in un \\n \\n(46) Il \"Concordato Preventivo Biennale\" è un sistema di calcolo \\ndella base imponibile che interessa non solo i singoli \\ncontribuenti e le società di persone, ma anche le società a \\nresponsabilità limitata. Possono aderirvi le società a \\nresponsabilità limitata con ricavi totali fino \\na 5 164 569,00  EUR.  \\n(47) Il termine ultimo per l\\'adesione al Concordato Preventivo \\nBiennale era il 12 dicembre 2024. Secondo i dati preliminari, \\ndei 4,5 milioni di contr ibuenti che hanno manifestato \\ninteresse per il regime, solo 585  000 (ossia quelli aderenti al \\nregime fiscale proporzionale e quelli ammissibili sulla base \\ndell\\'indice sintetico di affidabilità (ISA)) hanno accettato la \\nproposta dell\\'amministrazione fiscale . determinato Stato membro è generalmente legato \\nalle dimensioni e alla struttura dell\\'economia, ma \\npuò anche essere un indicatore dell\\'efficacia della \\ngestione del sistema fiscale del paese. Nel 2023 \\nl\\'Italia ha registrato il numero più elevato nell\\'UE \\ndi procedure amichevoli pendenti (436 casi, un \\nnumero notevolmente superiore alla media UE). \\nSebbene il parametro di riferimento raccomandato \\nper la chiusura di questi casi sia di 24 mesi, il \\ntempo medio impiegato in Italia è di 53 mesi, il più \\nlungo dell\\'U E.', '41dde87e-2a97-4af5-9050-123c5b596333': 'PRODUTTIVITÀ  \\n ALLEGATO 3: INNOVAZIONE PER LE IMPRESE  \\n50 Nonostante alcuni miglioramenti registrati \\nnegli ultimi anni, il potenziale di ricerca e \\ninnovazione (R&I) dell\\'Italia non è ancora \\nsfruttato appieno.  Secondo il quadro europeo di \\nvalutazione dell\\'innovazione (European Innovation \\nScoreboard, - EIS) 2024, l\\'Italia continua a essere \\nun \"innovatore moderato\", con risultati che si \\nattestano all\\'89,6  % della media UE(48). L\\'intensità \\ndella spesa a sostegno della ricerca e dello \\nsviluppo del paese(49) è in calo e nel 2023 è stata \\npari all\\'1,31  %, un dato ben al di sotto dei livelli \\ndell\\'UE (2,24  %). L\\'Italia si è recentemente \\nimpegnata ad aumentare l\\'intensità della spesa \\npubblica a sostegno della ricerca e dello sviluppo \\nentro il 2029(50). Sebbene la maggior parte delle \\npiccole e medie imprese (PMI) disponga almeno di \\nun livello di base di intensità digitale51 e una \\nbuona parte  delle imprese utilizzi tecnologie chiave \\ncome i servizi cloud, contribuendo agli obiettivi del \\ndecennio digitale del paese, permangono divari \\nnell\\'adozione dell\\'intelligenza artificiale (IA)(52). In \\nItalia, la cui struttura economica è basata su \\npiccole i mprese e su settori tradizionali, \\npermangono difficoltà ad attrarre investimenti per \\nl\\'innovazione delle imprese, in particolare nei \\nsegmenti ad alta tecnologia, ed è necessario \\nrafforzare il bacino di talenti per colmare il divario \\nin materia di innovazio ne. \\n \\n(48) 2024 European Innovation Scoreboard, country profile:  Italy \\nec.europa.eu . Il quadro fornisce un\\'analisi comparativa dei \\nrisultati in termini di innovazione nei paesi dell\\'UE, compresi i \\npunti di forza e le debolezze relativi dei sistemi di \\ninnovazione nazionali (anche rispetto alla media UE).  \\n(49) Definita come spesa pubblica interna lorda in ricerca e \\nsviluppo espressa come percentuale del PIL.  \\n(50) \"Italia 2025 -2029 — Piano strutturale di bilancio di medio \\ntermine\", approvato nel settembre 2024.  \\n(51) L\\'indice di intensità digitale ( Digital Intensity Index ) è un \\nindicatore composito, derivato dall\\'indagine dell\\'UE \\nsull\\'utilizzo delle TIC e del commer cio elettronico nelle \\nimprese. L\\'indice è calcolato sulla base di 12 indicatori.  \\n(52) Il programma strategico per il decennio digitale definisce un \\npercorso per realizzare la trasformazione digitale dell\\'UE, che \\ncomprende impegni concreti da parte degli Sta ti membri per \\nconseguire congiuntamente finalità generali (ad esempio \\ncompetitività, resilienza, sovranità) e obiettivi digitali entro \\nil 2030.  Scienza ed ecosistema \\ndell\\'innovazione  \\nNonostante i buoni risultati scientifici, gli \\nscarsi investimenti pubblici in ricerca e \\nsviluppo (R&S) e carriere nel settore della \\nricerca non sufficientemente attraenti \\nostacolano il potenziale scientifico dell\\'Italia. \\nLa quota di pubblicazioni scientifi che del paese, \\nche si attesta tra il 10  % delle opere pi ù citate a \\nlivello mondiale (un indicatore di eccellenza \\nscientifica), è superiore alla media UE (11,2  % del \\ntotale delle pubblicazioni del paese rispetto al \\n9,6 % nel 2021).', '36a7c02d-7b7b-4495-8850-128b78903df4': \"Scienza ed ecosistema \\ndell'innovazione  \\nNonostante i buoni risultati scientifici, gli \\nscarsi investimenti pubblici in ricerca e \\nsviluppo (R&S) e carriere nel settore della \\nricerca non sufficientemente attraenti \\nostacolano il potenziale scientifico dell'Italia. \\nLa quota di pubblicazioni scientifi che del paese, \\nche si attesta tra il 10  % delle opere pi ù citate a \\nlivello mondiale (un indicatore di eccellenza \\nscientifica), è superiore alla media UE (11,2  % del \\ntotale delle pubblicazioni del paese rispetto al \\n9,6 % nel 2021). Il potenziale scientifico  dell'Italia \\nnon è tuttavia sfruttato appieno per motivi diversi. \\nIn primo luogo, nell'ultimo decennio l'intensità \\ndella spesa pubblica a sostegno della ricerca e \\ndello sviluppo è rimasta stagnante, attestandosi \\nallo 0,52  % del PIL nel 2023, un dato che, c ome \\nmostra il grafico A3.1, è notevolmente inferiore \\nalla media UE (0,72  %)(53). Inoltre il numero pro -\\ncapite di ricercatori occupati nel settore pubblico è \\nancora basso (3,7 ricercatori ogni mille persone \\nattive contro una media UE di 4,2 nel 2023)(54). Le \\ncarriere della ricerca in Italia sono meno attraenti \\nrispetto ad altri paesi dell'UE, in quanto sono poco \\nretribuite(55 e storicamente caratterizzate da \\nun'elevata precarietà del lavoro(56, in particolare \\nnelle fasi iniziali della carriera. I dati più recenti \\nrelativi alle sovvenzioni di avviamento (Starting \\nGrant) concesse dal Consiglio europeo della ricerca \\nmostrano che, mentre i beneficiari italiani figurano \\nal secondo posto tra tutti i concorrenti, per quanto \\nriguarda gli istituti ospitanti dei rice rcatori \\nselezionati, l'Italia figura solo al quinto posto(57). Il \\n \\n(53) I dati includono il settore pubblico e dell'istruzione superiore.  \\n(54) Eurostat 2023. Ricercatori (equivalent i a tempo pieno) \\noccupati nel settore pubblico (amministrazione pubblica + \\nistituti di istruzione superiore) ogni mille persone attive.  \\n(55) Civera, A., Lehmann, E., Meoli, M. e Paleari, S. P. (2023), The \\nAttractiveness of European Higher Education Systems:  A \\nComparative Analysis of Faculty Remuneration and Career \\nPaths, https://escholarship.org/uc/item/08x00432 . \\n(56) Indagine conoscitiva sulla condizione studentesca nelle \\nuniversità e il precariato ne lla ricerca universitaria , \\n7a Commissione permanente, Senato della Repubblica (2021).  \\n(57) Consiglio europeo della ricerca, ERC Starting Grants 2024 \\nStatistics , https://erc.europa.eu/sites/default/files/2024 -\\n09/erc -2024 -stg-statistics.pdf , settembre 2024.\", 'f5dcc9c3-cbaf-4c13-9c8e-acade17d22ce': '51 piano per la ripresa e la resilienza del paese \\ncomprende una misura volta a riformare le \\ncarriere del settore della ricerca(58) e investimenti \\nvolti ad ampliare il bacino di risorse umane ne lla \\nscienza e nella tecnologia(59) e il suo piano \\nstrutturale di bilancio di medio termine contiene \\nl\\'impegno ad aumentare l\\'intensità della spesa \\npubblica in ricerca e sviluppo dell\\'Italia, portandola \\nallo 0,6  % del PIL entro il 2029. Per garantire la \\nsostenibilit à a lungo termine del sistema di R&I \\noltre la fine del sostegno del piano per la ripresa e \\nla resilienza nel 2026, sono importanti ulteriori \\ninterventi strategici sulle carriere nel settore della \\nricerca, come il miglioramento della sicurezza del \\nlavoro e la garanzia di risorse finanziarie adeguate \\nper la ricerca pubblica.  \\nGrafico  A3.1 - Intensità della spesa pubblica a \\nsostegno di ricerca e sviluppo 2014 -2023  \\n  \\nFonte:  DG Ricerca e innovazione, sulla base di dati Eurostat, \\n2014 -2023.  \\nInnovazione delle imprese  \\nGli scarsi investimenti privati in ricerca e \\nsviluppo, concentrati in settori più \\ntradizionali, dimostrano la mancanza di \\ndinamismo della struttura economica \\nitaliana. In Italia una quota significativa \\ndell\\'occupazione è rappresentata da microimprese \\n \\n(58) Riforma del piano per la ripresa e la resilienza \"Attuazione di \\nmisure di sostegno alla R&I per promuovere la \\nsemplificazione e la mobilità\".  \\n(59) Come gli investimenti del piano per la ripresa e la resilienza \\nper i giovani ricercatori.  a bas sa produttività(60), le cui dimensioni ridotte \\nsono spesso di ostacolo all\\'adozione di nuove \\ntecnologie(61). La limitata innovazione del sistema \\neconomico è accentuata anche dal divario nord -\\nsud62). Di conseguenza nel 2023 la spesa delle \\nimprese in ricerca  e sviluppo in percentuale del PIL \\nha raggiunto solo la metà della media UE \\n(0,76  % contro 1,49  %). Pur costituendo circa \\nil 12 % dell\\'economia dell\\'UE nel 2023(63), secondo \\nil quadro di valutazione dell\\'UE sugli investimenti \\nindustriali in ricerca e svilu ppo del 2024(64), le \\nimprese italiane hanno rappresentato solo il 2,3  % \\ndelle spese in ricerca e sviluppo sostenute \\ndalle  322 imprese europee che si collocano tra le \\nprime 2  000 imprese di investimento in ricerca e \\nsviluppo a livello mondiale e solo lo 0,4  % delle \\nspese in ricerca e sviluppo sostenute dai \\nprimi  2 000 investitori in ricerca e sviluppo messi \\ninsieme. Nell\\'ambito di questo gruppo, nessuna \\nimpresa italiana opera nel settore digitale, ad \\nesempio software e servizi informatici o \\napparecchiature e  attrezzature informatiche. \\nQuesti settori rappresentano circa il 35  % degli \\ninvestimenti in ricerca e sviluppo effettuati dai \\nprimi 2  000 investitori industriali a livello \\nmondiale. Come evidenziato nel grafico A3.2, i \\nprincipali investitori italiani in r icerca e sviluppo \\nsono principalmente orientati verso settori pi ù \\ntradizionali, come le telecomunicazioni su linea \\nfissa, il settore bancario e i prodotti farmaceutici/le \\nbiotecnologie (quest\\'ultimo presenta un elevato \\nvalore aggiunto)(65).', '404daceb-a400-4766-94b7-a8c0267e9551': 'Nell\\'ambito di questo gruppo, nessuna \\nimpresa italiana opera nel settore digitale, ad \\nesempio software e servizi informatici o \\napparecchiature e  attrezzature informatiche. \\nQuesti settori rappresentano circa il 35  % degli \\ninvestimenti in ricerca e sviluppo effettuati dai \\nprimi 2  000 investitori industriali a livello \\nmondiale. Come evidenziato nel grafico A3.2, i \\nprincipali investitori italiani in r icerca e sviluppo \\nsono principalmente orientati verso settori pi ù \\ntradizionali, come le telecomunicazioni su linea \\nfissa, il settore bancario e i prodotti farmaceutici/le \\nbiotecnologie (quest\\'ultimo presenta un elevato \\nvalore aggiunto)(65). Nel 2021 la spe sa delle \\nimprese italiane di ricerca e sviluppo nel settore \\ndelle TIC è stata pari al 15,7  % della spesa totale \\nper la ricerca e lo sviluppo(66). Nel 2022 le PMI \\nitaliane hanno investito meno in ricerca e sviluppo \\nrispetto ai loro omologhi dell\\'UE (lo 0,23  % del PIL \\n \\n(60) OCSE, Studi economici dell\\'OCSE : Italia 2024 , Pubblicazioni \\nOCSE, Parigi, 2024,   \\nhttps://www.oecd.org/it/publications/studi -economici -dell-\\nocse-italia -2024_68453d0b -it.html . \\n(61) \"Italia 2025 -2029 – Piano strutturale di bilancio di medio \\ntermine\", approvato nel settembre 2024.  \\n(62) Quadro di valutazione dell\\'innovazione  regionale 2023 – \\nProfili regionali – Italia.  \\n(63) La quota del PIL è un\\'elaborazione dei dati Eurostat sul PIL a \\nprezzi correnti, European Economic Forecast.  Autumn 2024 . \\n(64) Elaborazione basata sul quadro di valutazio ne dell\\'UE sugli \\ninvestimenti industriali in ricerca e sviluppo del 2024 (i dati si \\nriferiscono al 2023), Centro comune di ricerca, The 2024 EU \\nIndustrial R&D Investment Scor eboard . \\n(65) Ibidem.  \\n(66) Fonte: Eurostat.  \\n0.40%0.50%0.60%0.70%0.80%\\nIT EU', '1a85f16e-4512-4f18-a437-2f5da80899d6': \"52 rispetto alla media UE dello 0,40  %). Il sostegno \\ntotale del settore pubblico alla spesa delle imprese \\nin ricerca e sviluppo in percentuale del PIL è sceso \\nallo 0,11  % nel 2022, un dato che si colloca ben al \\ndi sotto della media UE (0,20  %) ed è molto \\nlontano dal picco del 0,26  % registrato nel 2018. \\nTale diminuzione è dovuta alla riduzione del \\nsostegno alla ricerca e allo sviluppo tramite \\nincentivi fiscali(67) che, dopo essere stati introdotti \\nnel 2015, hanno subito numerose modifiche \\nnormative(68). Le misure del piano per la ripresa e \\nla resilienza volte a razionalizzare gli incentivi alle \\nimprese potrebbero rappresentare un'opportunità \\nper aumentare l'efficienza e l'efficacia del \\nsostegno pubblico alle imprese che svolgono \\nattività di ricerca e  sviluppo. In totale i fondi della \\npolitica di coesione mobilitati, destinati alla \\ntrasformazione economica innovativa e \\nintelligente in Italia, ammontano a 17,3 miliardi \\ndi EUR. Di questi, 2,3 miliardi di EUR sono destinati \\nallo sviluppo o alla produzione  di tecnologie \\ncritiche attraverso la piattaforma per le tecnologie \\nstrategiche per l'Europa.  \\nGrafico  A3.2 - Primi 3 settori per investimenti in \\nR&S delle imprese italiane che si collocano tra le \\nprime 2  000 imprese a livello mondiale che \\ninvestono in R&S nel 2023 (quota percentuale, \\nItalia rispetto a tutto il mondo)  \\n  \\nFonte:  DG Ricerca e innovazione, sulla base dei dati 2024 del \\nquadro di valutazione degli investimenti in ricerca e sviluppo.  \\nLa mancanza di dinamismo delle imprese \\nnell'innovazione incide anche sul numero di \\nricercatori occupati nel settore privato. Il \\nnumero di ricercatori occupati nel settore privato è \\ndi gran lunga inferiore ai livelli dell'UE \\n(3,0 ricercatori ogni mille pers one attive, contro \\nuna media UE di 5,7 nel 2023) e rappresenta \\nmeno della metà dei ricercatori occupati in Francia \\n \\n(67) Rinuncia al gettito fiscale delle amministrazioni pubbliche in \\npercentuale del PIL.  \\n(68) ISTAT, Gli incentivi alle imprese per la ricerca e lo sviluppo , \\nsettembre 2023. Focus_incentivi_RS_DEFINITIVO.pdf . e Germania(69). Mentre nell'UE il numero di \\nricercatori occupati nelle imprese è in media \\nsuperiore a quello del settore pubblico, in Italia \\navviene il contrario. Il piano per la ripresa e la \\nresilienza dell'Italia prevede investimenti in \\ntecnologie abilitanti fondamentali e in dottorati \\ninnovativi per promuovere l'assunzione di \\nricercatori da parte delle imprese. Tale misura, se \\nresa più strut turale, potrebbe andare a vantaggio \\ndel sistema di R&I.  \\nL'adozione delle tecnologie tra le imprese \\nitaliane, comprese le PMI, è in linea con la \\nmedia UE, mentre l'uso dell'IA è ancora \\nlimitato. Le PMI con intensità digitale di base \\nsono leggermente al di s otto dei livelli dell'UE \\n(70,2  % contro 72,9  %)(70).\", 'a21c81df-1a61-4a18-ab10-232f759ef6d7': 'Il piano per la ripresa e la \\nresilienza dell\\'Italia prevede investimenti in \\ntecnologie abilitanti fondamentali e in dottorati \\ninnovativi per promuovere l\\'assunzione di \\nricercatori da parte delle imprese. Tale misura, se \\nresa più strut turale, potrebbe andare a vantaggio \\ndel sistema di R&I.  \\nL\\'adozione delle tecnologie tra le imprese \\nitaliane, comprese le PMI, è in linea con la \\nmedia UE, mentre l\\'uso dell\\'IA è ancora \\nlimitato. Le PMI con intensità digitale di base \\nsono leggermente al di s otto dei livelli dell\\'UE \\n(70,2  % contro 72,9  %)(70). Le imprese italiane \\nregistrano inoltre un ritardo rispetto agli omologhi \\ndell\\'UE nell\\'adozione dell\\'IA (8,2  % rispetto \\nal 13,5  %) e le grandi imprese investono in questa \\ntecnologia in misura proporzional mente maggiore \\nrispetto alle PMI(71). La percentuale di imprese che \\nhanno usufruito di servizi cloud è notevolmente \\nsuperiore alla media UE (55,1  % contro 38,9  %)(72). \\nAttraverso il piano di investimenti \"Transizione \\n4.0\", il piano per la ripresa e la resi lienza dell\\'Italia \\nha concesso crediti d\\'imposta alle imprese, \\nutilizzati prevalentemente per beni strumentali \\nmateriali tecnologicamente avanzati e, in misura \\nminore, per beni immateriali e attività di ricerca e \\ninnovazione(73). Inoltre la strategia nazio nale \\ndell\\'Italia per l\\'intelligenza artificiale 2024 -2026 \\ncomprende una serie di misure volte ad aiutare le \\nimprese ad adottare l\\'IA(74. Altre iniziative spaziano \\ndall\\'aumento dell\\'adozione di tecnologie digitali da \\nparte delle imprese, anche attraverso i poli europei \\ndell\\'innovazione digitale, allo sviluppo della \\ntecnologia e delle infrastrutture digitali, anche in \\nsettori strategici quali i semiconduttori e le \\ntecnologie quantistiche.  \\n \\n(69) Eurostat 2023, ricercatori (equivalenti a tempo pieno) \\nimpiegati dal settore delle imprese ogni mille persone attive.  \\n(70) Fonte: Eurostat 2024.  \\n(71) Ibidem.  \\n(72) Decennio digitale 2024:  Relazioni per paese |  Strategia \\ndigitale , Relazione per paese Italia.  \\n(73) Corte dei conti, Rapporto 2023 sul coordinamento della \\nfinanza pubblica , 2023, pagg.  356-359. \\n(74) Strategia_italiana_per_l_Intelligenza_artificiale_2024 -\\n2026.pdf . \\n0% 5% 10% 15% 20%Pharmaceuticals & biotechnologyBanksFixed line telecommunications\\nItaly Worldwide', 'f7dae520-36de-4cdd-9c7b-4d0ee56c6be6': '53 I collegamenti tra imprese e mondo \\nscientifico rimangono deboli e ostac olano la \\ncapacità di tradurre l\\'eccellenza scientifica in \\ninnovazione. Il numero di co -pubblicazioni \\nscientifiche tra settore pubblico e privato continua \\nad aumentare ed è superiore alla media UE. \\nTuttavia la spesa pubblica per ricerca e sviluppo \\nfinanziat a dal settore privato in percentuale del \\nPIL è ancora circa la metà della media UE (0,03  % \\ncontro lo 0,05  % nel 2022). Negli ultimi anni il \\nruolo svolto dagli uffici di trasferimento \\ntecnologico (TTO) nel consentire la valorizzazione \\ndelle conoscenze è migliorato. Nel 2019 il \\nministero delle Imprese e del Made in Italy (MIMIT) \\nha lanciato un programma di dimostrazione di \\nconcetti ( Proof -of-concept ). Questa iniziativa è \\nstata ulteriormente sostenuta dai finanziamenti \\ndel piano per la ripresa e la resilienza e ha \\ncontribuito a creare una serie di spin -off e, più in \\ngenerale, a migliorare i legami tra imprese e \\nmondo scientifico(75). Analogamente, nel 2015 il \\nMIMIT ha avviato anche un programma volto a \\nrafforzare lo sviluppo di capacità negli uffici di \\ntrasferi mento tecnologico. Nonostante tali \\nprogressi, vi sono ancora difficoltà a migliorare le \\nprestazioni degli uffici di trasferimento tecnologico \\ndi piccole e medie dimensioni, ad aumentare il loro \\norganico e a migliorare la formazione \\nprofessionale specifica degli esperti in \\ntrasferimento tecnologico(76). Nel 2024 uno studio \\ndell\\'OCSE ha presentato una serie di \\nraccomandazioni, quali il potenziamento della \\ngestione strategica dello scambio e della \\nvalorizzazione delle conoscenze nelle università \\nitaliane e la sua governance ai diversi livelli \\nistituzionali, rafforzando nel contempo i \\ncollegamenti tra uffici di trasferimento tecnologico \\ned ecosistemi locali dell\\'innovazione(77). \\nL\\'Italia ha adottato misure per ridurre gli \\nostacoli normativi che ost acolano \\nl\\'innovazione e utilizzare gli appalti pubblici \\nper stimolare l\\'innovazione. Con l\\'introduzione \\ndi \"Sperimentazione Italia\", uno spazio di \\n \\n(75) Netval, Rapporto di analisi di impatto sul bando Proof of \\nconcept - POC, 2023, Report -Poc.pdf . \\n(76) XIX rapporto Netval, Anco ra a due Velocità , 2024.  \\n(77) Commissione europea/ministero dell\\'Università e della \\nricerca/Progetto ITA.CON dello strumento di sostegno tecnico \\ndell\\'OCSE, Improving the system of Knowledge Exchange \\nand Collaboration between universities and society in Ital y, \\n2024, Scambio di conoscenze e collaborazione tra università \\ne società in Italia | OCSE . sperimentazione normativa, l\\'Italia mira ad \\nesentare le start -up dagli obblighi normativi in \\nmateria di speri mentazione di nuove tecnologie(78). \\nGli effetti di questa misura, unitamente a quelli \\ndella recente abolizione del \"privilegio dei \\nprofessori\", devono essere ulteriormente \\nmonitorati(79). Nonostante alcuni progressi \\ncompiuti negli appalti per soluzioni inn ovative, \\ncome il finanziamento del programma \"Smarter \\nItaly\", l\\'Italia potrebbe migliorare ulteriormente il \\nproprio quadro strategico per gli appalti per \\nsoluzioni innovative, anche attraverso politiche e \\nincentivi settoriali (cfr. allegato 4)(80).', 'fd26814e-d8dc-40f1-ae08-928d6235bbdf': 'sperimentazione normativa, l\\'Italia mira ad \\nesentare le start -up dagli obblighi normativi in \\nmateria di speri mentazione di nuove tecnologie(78). \\nGli effetti di questa misura, unitamente a quelli \\ndella recente abolizione del \"privilegio dei \\nprofessori\", devono essere ulteriormente \\nmonitorati(79). Nonostante alcuni progressi \\ncompiuti negli appalti per soluzioni inn ovative, \\ncome il finanziamento del programma \"Smarter \\nItaly\", l\\'Italia potrebbe migliorare ulteriormente il \\nproprio quadro strategico per gli appalti per \\nsoluzioni innovative, anche attraverso politiche e \\nincentivi settoriali (cfr. allegato 4)(80). \\nFinanzi amento dell\\'innovazione  \\nGli investimenti in venture capital in Italia \\nsono aumentati, ma restano ben al di sotto di \\naltri attori come gli Stati Uniti, la Germania e \\nla Francia. Il rapporto spesa in venture capital/PIL \\nè raddoppiata dal 2020, anche se nel 2 023 era \\nancora pari a circa un terzo della media UE. L\\'Italia \\nregistra inoltre un ritardo rispetto ad altre grandi \\neconomie dell\\'UE in termini di quota di venture \\ncapital investito in deep tech (15  % contro il 28  % \\nin Francia e il 20  % in Germania)(81). Il mercato del \\nventure capital è frammentato, con una \\nprevalenza di piccoli operatori e un\\'offerta che non \\ncopre pienamente le diverse fasi del ciclo di vita \\ndell\\'impresa. Ciò crea un deficit di finanziamento \\nper le start -up di successo che intendono \\nespande rsi. La debolezza del segmento del venture \\ncapital deriva dal basso livello di innovazione \\ndell\\'Italia e dalla limitata partecipazione degli \\ninvestitori istituzionali rispetto ad altri paesi \\ndell\\'UE(82). Il Fondo nazionale per l\\'innovazione \\n \\n(78) Relazione Annuale 2023 al Parlamento sullo stato di \\nattuazione delle policy in favore delle startup e PMI \\ninnovative, 2024.01.19_ -_Relazione_annuale_DEF_2.pdf . \\n(79) L\\'abolizione della norma che conferisce agli accademici, \\npiuttosto che alle università, la titolarità dei brevetti da essi \\ncreati è stata inserita nella riforma del codice della proprietà \\nindustriale del 2023.  \\n(80) Osservatorio dell\\'UE sugli appalti per soluzioni innovative, \\nBenchmarking of national policy frameworks for innovation \\nprocurement, Italy country profile, country -report -2024 -\\npolicy -benchm -italy.pdf . \\n(81) Dealroom, The European Deep Tech Report 2023 , The \\nEuropean Deep Tech Report 2023  | Dealroom.co . I dati si \\nriferiscono al periodo 2018 -2023.  \\n(82) Banca d\\'Italia, Relazione annuale 2023 , 2024.', 'ce4377e7-769b-47c9-b66b-1c0406a62259': '54 (CDP Venture Ca pital) è l\\'ente istituzionale \\nincaricato di incanalare le risorse pubbliche in \\nventure capital, che ha anche gestito gli \\ninvestimenti del piano per la ripresa e la resilienza \\ndell\\'Italia per finanziare le start -up. Il \\nrafforzamento della partecipazione dei  fondi \\npensione al segmento del venture capital e altre \\nmodifiche mirate a sostegno delle start -up, come \\nprevisto dalla legge sulla concorrenza approvata \\nnel dicembre 2024, rappresentano un passo avanti \\nper garantire maggiori finanziamenti alle start -up \\ninnovative italiane (cfr. allegato 5).  \\nTalento innovativo  \\nIl bacino di talenti dell\\'Italia nel campo delle \\nscienze e della tecnologia non è adeguato a \\nsostenere la capacità di innovazione del \\npaese.  L\\'Italia presenta uno dei livelli di istruzione \\nterziaria più bassi dell\\'UE(83). Mentre il numero di \\nnuovi laureati in scienze e ingegneria è aumentato \\ne si avvicina alla media UE(84), nel 2022 l\\'Italia si è \\nclassificata all\\'ultimo posto in termini di laureati \\nnel settore dell\\'informatica, pari a un terzo della \\nmedia UE(85). Inoltre, secondo la relazione sullo \\nstato del decennio digitale 2024, la percentuale di \\nspecialisti in TIC occupati rimane al di sotto della \\nmedia, sebbene la domanda di tali competenze sia \\nin aumento(86). In risposta, la strategia nazi onale \\nper l\\'intelligenza artificiale 2024 -2026 dell\\'Italia \\nprevede misure volte a rafforzare la formazione in \\nquesto settore. Tra le misure figura il \\nmiglioramento del programma nazionale di \\ndottorato in materia di intelligenza artificiale(87).  \\nL\\'educazio ne all\\'imprenditorialità in Italia \\npuò essere migliorata. Sebbene non esista una \\nstrategia nazionale specifica, le recenti politiche \\n \\n(83) Fonte: Eurostat 2024. Dati dell\\'Italia: il 31,6  % della \\npopolazione di età compresa tra i 25 e i 34 anni rispetto alla \\nmedia UE del 44,2  %. \\n(84) Fonte: Eurostat 2022. Dati dell\\'Italia: 16,5 per mille rispetto \\nalla media UE di 17,6 per mille della popolazione di età \\ncompresa tra i 25 e i 34 anni.  \\n(85) Fonte: Eurostat 2022. Dati dell\\'Italia: 1,2 per mille rispetto \\nalla media UE di 3,6 per mille della popolazione di età \\ncompresa tra i 25 e i 34 anni.  \\n(86) Relazione sullo stato del decennio digitale 2024  Strategia \\ndigitale , allegato 3, Italia, sintesi.  \\n(87) Strategia_italiana_per_l_Intelligenza_artificiale_2024 -\\n2026.pdf . mirano ad accrescere le competenze \\nimprenditoriali degli studenti. Lo sviluppo \\ndell\\'educazione all\\'imprenditorialità è ostacolato \\ndalla mancanza di coordinamento nazionale e di \\nuna strategia specifica, nonché dall\\'assenza di \\nagenzie pubbliche incaricate di sostenere \\nl\\'educazione all\\'imprenditorialità. Inoltre nella \\nconcezione dei programmi non è anc ora stata \\ndefinita la nozione di \"competenza \\nimprenditoriale\". Tuttavia gli orientamenti ufficiali \\npubblicati nel 2018 guidano le scuole secondarie \\nnello sviluppo delle capacità degli studenti nelle \\naree relative all\\'assunzione di rischi, alla \\ngenerazione di idee e alla pianificazione e gestione \\ndi progetti imprenditoriali(88).', '5a8a75b0-7288-4827-8215-6a3db89009d5': 'Lo sviluppo \\ndell\\'educazione all\\'imprenditorialità è ostacolato \\ndalla mancanza di coordinamento nazionale e di \\nuna strategia specifica, nonché dall\\'assenza di \\nagenzie pubbliche incaricate di sostenere \\nl\\'educazione all\\'imprenditorialità. Inoltre nella \\nconcezione dei programmi non è anc ora stata \\ndefinita la nozione di \"competenza \\nimprenditoriale\". Tuttavia gli orientamenti ufficiali \\npubblicati nel 2018 guidano le scuole secondarie \\nnello sviluppo delle capacità degli studenti nelle \\naree relative all\\'assunzione di rischi, alla \\ngenerazione di idee e alla pianificazione e gestione \\ndi progetti imprenditoriali(88). \\n \\n(88) GEM, L\\'attivazione imprenditoriale in Italia  - Rapporto GEM \\n2023 -2024 , serie FrancoAngeli, 2024.  \\nOCSE/Unione europea,  Supporting Entrepreneurship and \\nInnovation in Higher Education in Italy , OECD Skills Studies, \\nPubblicazioni OCSE, Parigi, \\n2019 ,https://doi.org/10.1787/43e88f48 -en.', '7adc124f-e96f-4fc8-86ab-625e0e7019d1': \"55  \\nTabella  A3.1 - Indicatori chiave dell'innovazione  \\n  \\n(1) Media UE per l'ultimo anno disponibile o per l'anno con il maggior numero di dati per paese.  \\nFonte:  Eurostat, DG JRC, OCSE, Science -Metrix (banca dati Scopus), Invest Europe, Quadro europeo di valutazione dell'innovazione.  \\n \\nR&D intensity (gross domestic expenditure on R&D as % of GDP) 1.26 1.36 1.50 1.41 1.37 1.31 : 2.24 3.45\\nPublic expenditure on R&D as % of GDP 0.54 0.49 0.55 0.54 0.53 0.52 : 0.72 0.64\\nScientific publications of the country within the top 10% most cited publications \\nworldwide as % of total publications of the country 10.1 10.3 11.2 11.2 : : : 9.6 12.3\\nResearchers (FTE) employed by public sector (Gov+HEI) per thousand active \\npopulation2.7 2.9 3.3 3.4 3.5 3.7 : 4.2 :\\nInternational co-publications as % of total number of publications 41.0 47.0 47.6 47.6 48.2 48.5 : 55.9 39.3\\nBusiness enterprise expenditure on R&D (BERD) as % of GDP 0.68 0.85 0.93 0.85 0.81 0.76 : 1.49 2.70\\nBusiness enterprise expenditure on R&D (BERD) performed by SMEs as % of GDP 0.16 0.31 0.29 0.25 0.23 : : 0.40 0.30\\nResearchers employed by business per thousand active population 1.6 2.5 3.1 3.0 3.1 3.0 : 5.7 :\\nPatent applications filed under the Patent Cooperation Treaty per billion GDP (in PPS \\n€)2.1 2.1 2.3 2.1 1.7 : : 2.8 :\\nEmployment share of high-growth enterprises measured in employment (%) 9.9 15.3 12.2 : : : : 12.5 :\\nSMEs with at least a basic level of digital intensity\\n% SMEs (EU Digital Decade target by 2030: 90%): : : : 69.9 : 70.2 72.9 :\\nData analytics adoption\\n% enterprises (EU Digital Decade target by 2030: 75%): : : : : 26.6 : 33.2 :\\nCloud adoption\\n% enterprises (EU Digital Decade target by 2030: 75%): : : 51.9 : 55.1 : 38.9 :\\nArtificial intelligence adoption\\n% enterprises (EU Digital Decade target by 2030: 75%): : : 6.2 : 5.1 8.2 13.5 :\\nPublic-private scientific co-publications as % of total number of publications 7.1 7.9 8.1 8.3 8.8 9.0 : 7.7 8.9\\nPublic expenditure on R&D financed by business enterprises (national) as % of GDP 0.014 0.027 0.028 0.029 0.029 : : 0.050 0.020\\nTotal public sector support for BERD as % of GDP 0.073 0.250 0.121 0.119 0.110 : : 0.204 0.251\\nR&D tax incentives: foregone revenues as % of GDP 0.011 0.182 0.057 0.067 0.060 : : 0.102 0.141\\nBERD financed by the public sector (national and abroad) as % of GDP 0.061 0.068 0.063 0.052 0.050 : : 0.100 0.110\\nVenture capital (market statistics) as % of GDP, total (calculated as a 3-year moving \\naverage)0.006 0.005 0.013 0.\", '7a887b4a-639f-4248-a407-0f647ddc5579': '014 0.027 0.028 0.029 0.029 : : 0.050 0.020\\nTotal public sector support for BERD as % of GDP 0.073 0.250 0.121 0.119 0.110 : : 0.204 0.251\\nR&D tax incentives: foregone revenues as % of GDP 0.011 0.182 0.057 0.067 0.060 : : 0.102 0.141\\nBERD financed by the public sector (national and abroad) as % of GDP 0.061 0.068 0.063 0.052 0.050 : : 0.100 0.110\\nVenture capital (market statistics) as % of GDP, total (calculated as a 3-year moving \\naverage)0.006 0.005 0.013 0.018 0.027 0.028 : 0.078 :\\nSeed stage funding share (% of total venture capital) 7.0 6.0 8.6 11.1 10.9 11.0 : 7.3 :\\nStart-up stage funding share (% of total venture capital) 71.3 80.5 39.5 45.3 47.4 53.5 : 44.0 :\\nLater stage funding share (% of total venture capital) 21.6 13.6 51.9 43.6 41.7 35.5 : 48.7 :\\nNew graduates in science and engineering per thousand population aged 25-34 11.8 13.1 15.1 16.4 16.5 : : 17.6 :\\nGraduates in the field of computing per thousand population aged 25-34 0.6 0.6 1.0 1.1 1.2 : : 3.6 :2022 2021 Italy 2012 2017 2020\\nHeadline indicator\\nScience and innovative ecosystems\\nR&D investment & researchers employed in businesses\\nPublic support for business innovationInnovation outputs\\nDigitalisation of businesses\\nAcademia-business collaboration\\nFinancing innovation\\nInnovative talent2023EU average \\n(1)USA 2024', '2a1bee82-9607-49a3-bf64-63c3e3b0ed78': 'ALLEGATO 4: AGEVOLARE LE ATTIVITÀ ECONOMICHE  \\n56 L\\'economia italiana è ostacolata dalla \\nstagnazione della produttività. La debolezza \\ndella crescita guidata dall\\'innovazione, \\nbarriere normative e burocrazia \\nrappresentano una sfida per la competitività \\ndelle imprese, in particolare per le piccole e \\nmedie i mprese. Il dinamismo delle imprese \\nitaliane è eterogeneo, ed evidenzia problemi legati \\nalla concorrenza in diversi settori. La mancanza di \\nefficienza nel settore giudiziario e la corruzione \\npercepita incidono sullo sviluppo delle imprese. \\nSono in corso sfo rzi per stimolare gli investimenti \\nesteri e l\\'Italia si sta adoperando per migliorare il \\nproprio sistema di appalti pubblici, con particolare \\nattenzione agli obiettivi verdi e a quelli legati \\nall\\'innovazione. La rapida attuazione delle riforme \\nincluse nel piano per la ripresa e la resilienza \\n(ritardi di pagamento, appalti pubblici, legge sulla \\nconcorrenza) dovrebbe aumentare la concorrenza \\ne la trasparenza, dando nel contempo corretta \\nattuazione ai regolamenti dell\\'UE.  \\nCondizioni del quadro economico  \\nL\\'economia italiana degli ultimi anni è stata \\ncaratterizzata dalla stagnazione della \\nproduttività e da tassi di crescita bassi.  La \\ndebolezza della crescita guidata dall\\'innovazione si \\nriflette in una quota di occupazione insolitamente \\nelevata in microimprese a bassa produttività, una \\nbassa spesa in ricerca e sviluppo e un livello di \\ndigitalizzazione inferiore alla media. Il divario di \\nproduttività tra le imprese italiane ed europee è \\nriconducibile in larga misura alla predominanza \\ndelle piccole im prese, che svolgono un ruolo \\nsignificativo nella struttura produttiva italiana. Nel \\nsegmento delle medie imprese (da 50 a \\n249 dipendenti) l\\'Italia presenta un livello di \\nproduttività più elevato rispetto alle principali \\neconomie dell\\'UE, mentre le cifre so no in linea con \\nle controparti tedesche o francesi per quanto \\nriguarda le piccole imprese (da 10 a 49  dipendenti) \\ne le grandi imprese (più di 250)(89). Nelle \\nmicroimprese (meno di 10 dipendenti) la \\nproduttività è però inferiore(90). \\n \\n(89) ISTAT, Rapporto annuale, 2024.  \\n(90) L\\'OCSE condivide la stessa analisi, stimando che, mentre le \\ngrandi imprese italiane sono mediamente più produttive \\nrispetto a quelle di altri paesi europei, le microimprese \\nitaliane sono meno produttive di circa il 30  % rispetto alle \\n Per ridurre il divario di produttività sarebbe \\nnecessario integrare le tecnologie digitali nei \\nprocessi di produzione, migliorare la \\nqualificazione della forza lavoro e \\naumentare gli investimenti in attività \\nimmateriali. Gli investimenti nella proprietà \\nintellettuale e nelle att rezzature TIC sono stati \\npotenziati attraverso il piano di investimenti \\n\"Transizione 4.0\", incluso nel piano per la ripresa e \\nla resilienza dell\\'Italia (cfr. allegato 3). Le piccole \\nimprese potrebbero essere aiutate a realizzare \\neconomie di scala anche att raverso iniziative volte \\na promuovere il raggruppamento e la \\ncollaborazione reciproca.', '0296848c-5079-4fa8-ad74-6d01e31aa7e4': 'Gli investimenti nella proprietà \\nintellettuale e nelle att rezzature TIC sono stati \\npotenziati attraverso il piano di investimenti \\n\"Transizione 4.0\", incluso nel piano per la ripresa e \\nla resilienza dell\\'Italia (cfr. allegato 3). Le piccole \\nimprese potrebbero essere aiutate a realizzare \\neconomie di scala anche att raverso iniziative volte \\na promuovere il raggruppamento e la \\ncollaborazione reciproca. La legge annuale sulle \\nPMI rappresenta un\\'importante opportunità per \\naumentare la produttività dell\\'ecosistema \\nimprenditoriale italiano, fornendo strumenti per la \\nsempli ficazione, l\\'aggregazione delle imprese e la \\ncreazione di sinergie.  \\nSecondo le previsioni, le condizioni per \\ninvestire rimarranno sfavorevoli , data la \\npersistente fiacchezza dell\\'attività economica in \\nItalia e nella maggior parte dell\\'area dell\\'euro, in \\nparticolare per quanto riguarda l\\'industria(91). Un \\nfattore determinante è rappresentato dalle \\nprospettive incerte per le esportazioni, dovute alla \\nbassa crescita registrata in mercati importanti \\ncome la Germania. I tre principali ostacoli agli \\ninvestimenti delle imprese italiane sono \\nl\\'incertezza sul futuro (79  %, di cui il 49  % lo \\nconsidera un ostacolo importante), gli elevati costi \\ndell\\'energia (70  %) e la regolamentazione del \\nmercato del lavoro (59  %)(92). Tali percentuali sono \\nin linea con le medie dell\\' UE. \\nLa percentuale di imprese che risentono della \\ncarenza di offerta di manodopera è tuttavia \\nin calo  (6,6 % nel 2024 rispetto al 9,1  % \\nnel 2023) e molto inferiore a quella dell\\'UE \\n(20,2  % nel 2024). Il tasso di posti vacanti è \\nleggermente inferiore alla media UE. \\nAnalogamente, con l\\'allentamento dei vincoli della \\ncatena di approvvigionamento, la percentuale di \\n \\nloro omologhe. Al contempo, la quota di occupazione delle \\nmicroimprese è superiore di circa 15 punti percentuali \\nrispetto ad altri paesi europei, mentre la quota di \\noccupazione delle grandi imprese altamente produttive è \\ninferiore di circa 20 punti percentual i. OCSE, Studi economici \\ndell\\'OCSE - Italia 2024 , 2024.  \\n(91) Bollettino economico n.  1 del 2025, Banca d\\'Italia, 2025.  \\n(92) Indagine della BEI sugli investimenti 2024 - Panoramica per \\npaese:  Italia , 2025.', '657c7244-2a72-4dc6-a179-657ac1d6c330': \"57 imprese che si trovano ad affrontare carenze di \\nmateriali è tornata ai livelli pre-pandemia (3,9  % \\nrispetto a una media UE del 10  %). \\nI ritardi di pagamento continuano a costituire \\nun problema per la competitività delle \\nimprese italiane.  Lo scostamento in termini di \\npagamento nelle transazioni tra amministrazioni \\npubbliche e imprese (ossia la differenza tra il \\ntermine di pagamento inizialmente concordato e il \\nmomento in cui l'impresa riceve di fatto il \\npagamento da una pubblica amministrazione \\ndebitrice) è ancora superiore alla media UE \\n(18 giorni nel 2024, rispetto a una media UE di \\n15 giorni), sebbene si sia registrato un \\nmiglioramento significativo rispetto al 2022 (cfr. \\ntabella A4.1). Tali risultati sono sostanzialmente \\ncorroborati dai dati raccolti dalle autorità italiane \\nnel contesto di una procedura di infrazione in \\ncorso, dai quali emergono tempi di pagamento \\nampiamente superiori ai limiti di legge in  diversi \\nsettori della pubblica amministrazione italiana, in \\nparticolare a livello centrale e locale. Per quanto \\nriguarda le transazioni tra imprese, il divario di \\npagamento è risultato di 17,3 giorni nel 2024, \\nconfermandosi superiore alla media di 15,5 gi orni \\ndell'UE (cfr. tabella A4.1). Il piano per la ripresa e \\nla resilienza dell'Italia prevede una riforma \\nambiziosa volta a rafforzare la capacità della \\npubblica amministrazione italiana di pagare entro i \\ntermini stabiliti dalla direttiva sui ritardi di \\npagamento(direttiva 2011/7/UE). La rapida \\nattuazione di questa riforma, acco mpagnata dal \\nmantenimento di solidi risultati in termini di \\npagamenti nel corso del tempo, è essenziale per \\ngarantire alle imprese, in particolare alle PMI, \\nflussi di cassa prevedibili e una gestione efficace \\ndella liquidità.  Grafico  A4.1 - Agevolare le attività economiche - \\nIndicatori selezionati  \\n  \\nPercentuale di (1) imprese, (2) esportazioni e importazioni \\nintra-UE medie sul PIL, (3) imprese, (4) PMI. \\nFonti:  (1) BEI IS, (2) Eurostat, (3) ECFIN BCS, (4) indagine \\nSAFE.  \\nPer quanto riguarda l'infrastruttura digitale, \\nl'Italia sta compiendo progressi nella \\ndiffusione delle reti di connettività.  Nel 2023 \\nla copertura della rete ad altissima capacità/fibra \\nfino ai locali si è attestata al 59,6  %, registrando \\nun aumento dell'11  % rispetto al 2022; un dato \\nche resta tuttavia al di sotto delle medie dell'UE \\n(78,8  % per la rete ad altissima capacit à e 64 % \\nper la fibra fino ai locali(93). Persiste tuttavia il \\ndivario tra le zone urbane e quelle rurali, dove la \\ncopertura scende al 37,7  % (la media UE è \\ndel 55,6  % per la rete ad altissima capacit à e \\ndel 52,7  % per la fibra fino ai locali). L'Italia ha \\nraggiunto la copertura 5G a livello nazionale \\nnel 2022 e ha registrato un valore del 99,5  % \\nnel 2023.\", '968f72ea-e750-4859-84f4-f9bb02cad275': \"Persiste tuttavia il \\ndivario tra le zone urbane e quelle rurali, dove la \\ncopertura scende al 37,7  % (la media UE è \\ndel 55,6  % per la rete ad altissima capacit à e \\ndel 52,7  % per la fibra fino ai locali). L'Italia ha \\nraggiunto la copertura 5G a livello nazionale \\nnel 2022 e ha registrato un valore del 99,5  % \\nnel 2023. Inoltre l'88,3  % delle famiglie italiane è \\ncoperto dalla banda a 3,4 -3,8 GHz (media UE \\ndel 50,6  %), il che consente applicazioni avanzate \\n \\n(93) Per rete ad altissima capacità ( very high-capacity network  - \\nVHCN) si intende la combinazione di fibra ottica fino ai locali \\n(fibre to the premises  - FTTP) e di tecnologia DOCSIS 3.1. In \\nassenza di reti DOCSIS 3.1 in Italia, l'indicatore sulla \\ncopertura VHCN e l'indicatore sulla copertura FTT P \\ncoincidono.  \\n45.113.13.917.816.8\\n47.916.61041.624.5\\n0 10 20 30 40 50 60from private entitiesfrom public entitiesMaterial shortages as a\\nfactor limiting productionEU Trade IntegrationRegulation as a major\\nobstacle to investment(4) Late payments (3) Shortages(2) Single\\nMarket(1) Regulatory\\nburden\\nShare (%)\\nEU27 IT\", '933349b5-57f0-4271-8a58-92b44695c164': '58 che richiedono un\\' ampia larghezza di banda dello \\nspettro. Il piano italiano per la ripresa e la \\nresilienza sostiene misure chiave per portare \\navanti la diffusione delle reti di connettività (in \\nparticolare \"Italia 1 Giga\" e \"Italia 5G\").  \\nLa sensibilizzazione in materia di \\ncibersicurezza nelle imprese rimane \\nsostanzialmente stabile.  La percentuale di \\nimprese che hanno subito incidenti relativi alla \\nsicurezza delle TIC con conseguente indisponibilità \\ndei servizi TIC a causa di attacchi esterni (ad \\nesempio attacchi ransomware, attacchi di \\nnegazione del servizio ( denial of service ) è rimasta \\nal 3,1  % nel 2022 e nel 2024, ancora al di sotto \\ndella media UE (3,4  % nel 2024). La maggior parte \\ndelle imprese (92,9  %) aveva predisposto alcune \\nmisure di sicurezza delle TIC (vicino alla media UE \\ndel 92,8  %) e il 62,7  % delle imprese aveva messo \\ni propri dipendenti a conoscenza dei propri obblighi \\nin materia di sicurezza delle TIC, dato che è \\nsuperiore alla media UE (60  %). \\nBarriere di carattere normativo e \\namministrativo  \\nSotto il profilo del dinamismo, le imprese \\nitaliane offrono un quadro ancora \\ncontrastante.  Sebbene il paese si sia rivelato \\nresiliente, come dimostra la presenza di una vivace \\nrete di imprese a conduzione familiare e di leader \\nin mercati di nicchia, il tasso di ricambio delle \\nimprese(94) è rimasto uno dei più bassi dell\\'UE, \\nattestandosi al 14,6  % nel 2022, rispetto a una \\nmedia UE del 19,2  %. Il dato, per quanto riguarda \\nsia la nascita che la cessazione delle imprese \\nnell\\'economia imprenditori ale, è inferiore ai livelli \\ndell\\'UE (7,9  % e 6,7  %, a fronte di valori dell\\'UE \\nrispettivamente del 10,5  % e dell\\'8,7  %)(95). Inoltre \\nle imprese a forte crescita (crescita \\ndell\\'occupazione superiore al 10  %) \\nrappresentavano il 7,4  % delle imprese e l\\'8,9  % \\n \\n(94) Secondo la definizione di Eurostat, il tasso di ricambio delle \\nimprese è la somma dei tassi di natalità e di mortalità delle \\nimprese.  \\n(95) Da recenti ricerche dell\\'FMI emerge che la quota di imprese \\nzombie in Italia rimane molto più elevat a rispetto al livello \\npre-crisi. Documento di lavoro dell\\'FMI 2023/125 The Rise of \\nthe Walking Dead:  Zombie Firms around the World . dei lavoratori dipendenti in Italia (al di sotto delle \\nmedie UE del 9,1  % e del 12,2  %). \\nLa concorrenza in Italia è frenata da ostacoli \\nall\\'apertura dei mercati e da restrizioni \\nall\\'esercizio dell\\'attività imprenditoriale, in \\nparticolare nel settore dei servizi(96), dove la \\ncrescita della produttività è stata particolarmente \\nbassa(97). Se, da un lato, tale situazione è in parte \\nlegata alla specializzazione settoriale che \\ncaratterizza i servizi, nonché alla rilevanza del \\nturismo nel settore, dall\\'altro rif lette anche i \\nrimanenti ostacoli alla concorrenza, in particolare \\nper quanto riguarda la gestione delle infrastrutture \\ne dei servizi pubblici locali.', 'df7c5d2d-513b-4add-84f6-5075ca387d65': \"La concorrenza in Italia è frenata da ostacoli \\nall'apertura dei mercati e da restrizioni \\nall'esercizio dell'attività imprenditoriale, in \\nparticolare nel settore dei servizi(96), dove la \\ncrescita della produttività è stata particolarmente \\nbassa(97). Se, da un lato, tale situazione è in parte \\nlegata alla specializzazione settoriale che \\ncaratterizza i servizi, nonché alla rilevanza del \\nturismo nel settore, dall'altro rif lette anche i \\nrimanenti ostacoli alla concorrenza, in particolare \\nper quanto riguarda la gestione delle infrastrutture \\ne dei servizi pubblici locali. In tal senso, \\nl'aggiudicazione di concessioni mediante procedure \\ndi finanziamento dei progetti (anche in \\nconsiderazione della riforma effettuata nel \\ndicembre 2024) e atti che prorogano concessioni \\nesistenti o contratti già conclusi, che precludono la \\npossibilità di concorrenza (ad esempio estendendo \\nla gamma dei casi in cui un appalto pubblico può \\nessere modif icato senza una nuova procedura di \\ngara al di là di quanto consentito dal diritto \\ndell'UE) potrebbero minare i principi di massima \\npartecipazione, parità di trattamento, trasparenza \\ne proporzionalità. La rapida applicazione delle \\nnorme in materia di concor renza, tra le misure \\nchiave del piano per la ripresa e la resilienza, è \\nessenziale per ridurre gli ostacoli all'ingresso nel \\nsettore dei servizi.  \\nNonostante i recenti miglioramenti, \\nl'efficacia della pubblica amministrazione (in \\nparticolare del sistema giu diziario) e la \\ncorruzione percepita rimangono tra gli \\nostacoli principali allo sviluppo delle imprese  \\n(cfr. allegato  6). L'efficienza giudiziaria è \\ngeneralmente percepita come relativamente \\nbassa, il che si riflette nel fatto che, nelle \\nvalutazioni inter p ares, l'Italia è considerata uno \\ndei paesi con i livelli più bassi di Stato di diritto, \\nprincipalmente a causa della durata relativamente \\nlunga dei processi(98). Sebbene le riforme passate \\nabbiano accorciato la durata prevista dei processi \\ne ridotto l'arre trato nelle cause giudiziarie, la \\ndurata prevista dei processi civili rimane la più \\n \\n(96) Autorità per le garanzie nelle comunicazioni (AGCM), \\nRelazione annuale 2024 sull'attività svolta , 2024.  \\n(97) OCSE, Studi  economici dell'OCSE - Italia 2024 , 2024.  \\n(98) Indice dello Stato di diritto, 2022. OCSE, Studi economici \\ndell'OCSE - Italia 2024 , 2024.\", '27a0ec20-b1d6-42af-a08f-3a5b2cd9ca90': \"5 Gli squilibri tra domanda e of ferta di \\ncompetenze limitano la crescita \\ndell'occupazione e della produttività.  Il \\ntasso di posti di lavoro vacanti si è stabilizzato \\nintorno al 2  %, un livello storicamente elevato, \\nsuffragando i risultati dell'indagine condotta \\npresso i datori di lavoro secondo cui è sempre \\npiù difficile trovare lavoratori adatti ai posti di \\nlavoro vacanti. I profili più ricercati richiedono \\ncompetenze scientifiche e tecniche, non solo a \\nlivello di istruzione terziaria, per le quali è \\ndisponibile un numero insufficiente d i \\nlavoratori. Oltre ad avere uno dei tassi di \\ncompletamento dell'istruzione terziaria più \\nbassi nell'UE, l'Italia non produce un numero \\nsufficiente di laureati con competenze \\nprofessionali e presenta una partecipazione \\nmolto bassa all'apprendimento degli a dulti, il \\nche limita le opportunità di miglioramento del \\nlivello delle competenze e di riqualificazione \\nsia per i potenziali lavoratori che per quelli \\nesistenti. Il rapido invecchiamento della \\npopolazione italiana ridurrà la futura offerta di \\nmanodopera, a  meno che gli sforzi politici in \\ncorso non riescano a integrare le persone \\ninattive all'interno della forza lavoro. In \\nparticolare nei settori dell'agricoltura e della \\nsanità, le carenze di manodopera appaiono più \\ngravi, dati i profili di competenze necess ari, e \\npotrebbero essere attenuate avvalendosi di \\nafflussi regolari di migranti, con il sostegno \\ndell'integrazione sociale e del riconoscimento o \\ndall'aggiornamento delle competenze. \\nL'ulteriore rafforzamento delle politiche attive \\ndel mercato del lavoro p otrebbe garantire che \\nle carenze di manodopera non si diffondano.  \\nLa moderazione salariale ha consentito \\nalle imprese italiane di rimanere \\ncompetitive, ma limita da tempo il potere \\nd'acquisto delle famiglie.  Nel 2024 la \\nretribuzione pro capite dei lavorato ri \\ndipendenti è aumentata del 3,4  %, 0,5 punti \\npercentuali in pi ù rispetto al 2023 e ben al di \\nsopra dell'inflazione dei prezzi al consumo, \\nconsentendo una ripresa dei salari reali. La \\nmoderazione salariale prevista durante il 2025 \\ne il 2026 (rispettivamen te 3,4  % e 2,5  %) \\nlascia presagire un ulteriore aumento \\nmarginale dei salari reali. Sebbene ci ò renda \\npossibile una crescita del costo del lavoro per \\nunità di prodotto tale da non ostacolare in \\nmodo sostanziale la competitivit à in termini di prezzi delle i mprese, la modesta ripresa del \\npotere d'acquisto delle famiglie compensa solo \\nin parte le perdite pregresse (cfr. allegato 10).  \\nPrincipali sfide macroeconomiche \\ne per la competitività future  \\nL'elevato debito pubblico costituisce un \\nfreno agli investimenti , in quanto riduce gli \\ninvestimenti privati (crowding -out) e limita il \\nmargine di manovra per gli investimenti \\npubblici. Tuttavia la sostenibilità della politica \\ndi bilancio sarebbe garantita dal rispetto delle \\nnorme dell'UE che consentono di estendere il \\nsostegno agli investimenti una volta giunti a \\nscadenza i finanziamenti del dispositivo per la \\nripresa e la resilienza.\", 'f20768aa-b0de-4f0f-ae6d-0f7d4f6259a5': \"allegato 10).  \\nPrincipali sfide macroeconomiche \\ne per la competitività future  \\nL'elevato debito pubblico costituisce un \\nfreno agli investimenti , in quanto riduce gli \\ninvestimenti privati (crowding -out) e limita il \\nmargine di manovra per gli investimenti \\npubblici. Tuttavia la sostenibilità della politica \\ndi bilancio sarebbe garantita dal rispetto delle \\nnorme dell'UE che consentono di estendere il \\nsostegno agli investimenti una volta giunti a \\nscadenza i finanziamenti del dispositivo per la \\nripresa e la resilienza.  \\nLa debole crescita della produttività è \\ndovuta principalmente alla ridotta \\ncapacità di innovazione, ai limitati \\ninvestimenti a sostegno di  ricerca e \\nsviluppo e alla scarsa offerta di \\ncompetenze di alto livello.  Il piano per la \\nripresa e la resilienza affronta alcune delle \\nstrozzature più urgenti nella governance della \\nR&S e nel sistema di istruzione. Appare \\nnecessario un maggiore coinvolgime nto delle \\nimprese nel finanziamento di ricerca e \\nsviluppo e degli investitori al dettaglio nel \\nfinanziamento delle nuove imprese e del \\ncapitale di rischio\", '560a6634-53b1-4b31-8487-ce71080c1dc7': '59 elevata dell\\'UE. Inoltre la trasparenza e la \\nresponsabilità per quanto concerne le attività di \\nlobbying possono essere ulteriormente migliorate. \\nSecondo l\\'indagine sugli in vestimenti della BEI, la \\npercentuale di imprese in cui oltre il 10  % del \\npersonale è dedicato ai requisiti normativi è \\nrisultata del 24  %, al di sopra della media UE \\ndel 17 %. La massima semplificazione e \\ndigitalizzazione possibili delle procedure \\namminist rative potrebbero contribuire a ridurre la \\nburocrazia e il margine di manovra discrezionale \\ningiustificato dei dipendenti pubblici.  \\nLe recenti iniziative del governo mirano a \\nstimolare gli investimenti esteri, in \\nparticolare nei settori ad alto valore \\naggiunto.  Questi sforzi sono coincisi con un \\nrallentamento degli afflussi netti di investimenti \\ndiretti esteri (IDE) registrato nel 2023, dopo il forte \\nrimbalzo post -pandemico del 2022 (analogamente \\na quanto accaduto in altre importanti economie \\neuropee). La l egge sugli investimenti strategici \\ndel 2023 mira ad attrarre investimenti esteri \\ndiretti semplificando il processo di autorizzazione \\ned esecuzione di grandi progetti. Quando un \\nprogetto è dichiarato di \"preminente interesse \\nstrategico\", beneficia di una se rie di scorciatoie \\nburocratiche e procedurali. La legge prevede che il \\nprogetto sia assegnato a un funzionario della \\npubblica amministrazione e che segua un \\nprocedimento di autorizzazione unica(99). \\nL\\'Italia dispone di uno dei quadri normativi \\npiù restritt ivi per il commercio al dettaglio \\ndell\\'UE ; si tratta di un dato, evidenziato \\ndall\\'indicatore OCSE della regolamentazione dei \\nmercati dei prodotti e dall\\'indicatore di restrittività \\nper il settore del commercio al dettaglio pubblicato \\ndalla Commissione, che  può ostacolare il \\nfunzionamento e lo sviluppo del settore. Inoltre \\nnegli ultimi anni i dati relativi al commercio online \\nnon sono migliorati. Nel 2024 il numero di \\nacquirenti online è stato uno dei più bassi dell\\'UE \\n(53,6  % rispetto a una media UE del 71, 8 %), \\nregistrando un leggero miglioramento rispetto \\n \\n(99) Il commissario speciale è una figura cui sono conferiti poteri \\nspecifici per accelerare tutte le fasi procedurali ne cessarie \\nper l\\'attuazione degli investimenti. L\\'autorizzazione unica è \\nun permesso speciale rilasciato dal commissario \\nstraordinario, che sostituisce il mosaico di autorizzazioni \\nnormalmente necessarie per avviare un progetto su larga \\nscala.  al 51,5  % del 2021(100). Le recenti modifiche \\nlegislative hanno introdotto alcune semplificazioni \\nper le attività commerciali, in particolare per \\nquanto riguarda le vendite di liquidazione, le \\npromozioni e  le vendite sottocosto. Tuttavia le \\nautorità regionali e locali hanno ancora la \\npossibilità di limitare l\\'esercizio di determinate \\nattività commerciali o di adottare misure per \\nproteggere determinati tipi di piccoli negozi e di \\nimprese artigianali. Il coin volgimento delle \\nassociazioni degli operatori in tali decisioni \\npotrebbe essere contrario alla garanzia di \\nprocedure obiettive e trasparenti e potrebbe \\nostacolare l\\'ingresso di nuovi operatori nel \\nmercato.  \\nIn Italia l\\'imprenditorialità ha un profilo \\npiutto sto basso.', '61644595-b71b-4cbf-8ce5-1a98acf62287': \"Tuttavia le \\nautorità regionali e locali hanno ancora la \\npossibilità di limitare l'esercizio di determinate \\nattività commerciali o di adottare misure per \\nproteggere determinati tipi di piccoli negozi e di \\nimprese artigianali. Il coin volgimento delle \\nassociazioni degli operatori in tali decisioni \\npotrebbe essere contrario alla garanzia di \\nprocedure obiettive e trasparenti e potrebbe \\nostacolare l'ingresso di nuovi operatori nel \\nmercato.  \\nIn Italia l'imprenditorialità ha un profilo \\npiutto sto basso.  Nel 2023 meno della metà della \\npopolazione adulta conosceva qualcuno che aveva \\ndi recente avviato un'attività e solo un terzo \\nriteneva che vi fossero buone opportunità di \\navviare un'impresa a livello locale, una delle cifre \\npiù basse di qualsias i paese avanzato(101). Inoltre \\ncirca la metà di coloro che vedeva buone \\nopportunità non avrebbe avviato un'impresa per \\ntimore di fallire, mentre tra coloro che non \\navevano già avviato o gestito un'impresa, solo \\nil 10 % prevedeva di avviarne una nei successi vi \\ntre anni, ponendo l'Italia in fondo alla lista delle \\ncompetenze imprenditoriali.  \\nMercato unico  \\nL'Italia è ben integrata nel mercato unico e \\nfigura tra i principali esportatori mondiali.  \\nL'Italia vanta un elevato livello di diversificazione \\ndei prodotti esportati, il che costituisce un altro \\nfattore chiave del suo successo. Tuttavia i risultati \\nnel settore dei servizi sono stati relativamente \\ndeboli, con uno scarso sviluppo di attività ad  alto \\ncontenuto tecnologico e ad alto valore aggiunto \\n(l'integrazione commerciale nel settore dei servizi \\nè tra le più basse dell'UE e ha rappresentato solo \\nil 2,2 % del PIL nel 2023, inferiore a paesi \\ncomparabili come la Germania o la Spagna). La \\nforza de lle esportazioni italiane risiede \\nprincipalmente in circa 9  000 imprese esportatrici \\n \\n(100) Serie Euro stat ISOC_EC_IB20, percentuale di individui che \\nhanno effettuato acquisti online negli ultimi 12 mesi.  \\n(101) Global Entrepreneurship Monitor 2023/2024 (2024).\", '49fbd612-9fd2-4daa-9244-1c004e7bd0d2': '60 di medie e grandi dimensioni, che rappresentano \\ntre quarti delle esportazioni manifatturiere del \\npaese. L\\'ampliamento della base esportatrice \\npotrebbe contribuire a manten ere la resilienza e la \\ncompetitività del commercio estero italiano.  \\nLa conformità dell\\'Italia alle norme del \\nmercato unico è in linea con le medie dell\\'UE.  \\nL\\'Italia ottiene risultati migliori rispetto alla media \\nUE per quanto riguarda il recepimento delle \\ndirettive, con un numero di direttive non recepite \\nche scende al di sotto sia della media UE sia \\ndell\\'obiettivo dell\\'1  % fissato dal Consiglio \\neuropeo. I risultati sono invece peggiori per quanto \\nriguarda il corretto recepimento delle direttive, \\nponendosi in linea con quanto avviene in paesi \\ncome la Francia e la Spagna. Il numero di \\ninfrazioni pendenti relative al mercato unico è tra i \\npiù elevati dell\\'UE (24o su 27 Stati membri), \\nsebbene dal 2020 si sia registrata una tendenza \\nalla diminuzione (22  %). Nell \\'ambito del sistema di \\nrisoluzione in materia di diritti SOLVIT, nel 2024 \\nl\\'Italia ha risolto l\\'84,3  % dei casi trattati come \\ncentro competente (media UE dell\\'84,9  %). \\nGli ostacoli all\\'ingresso rimangono \\nparticolarmente elevati per le professioni \\nregolamen tate.  Il livello di restrittività è \\ncomplessivamente elevato per diversi servizi \\nprofessionali (commercialisti, architetti, ingegneri \\ncivili e agenti immobiliari)102, sebbene l\\'Italia abbia \\nannunciato azioni che, se pienamente attuate, \\npotrebbero in parte m igliorare la situazione \\nattuale. Tuttavia la disciplina dell\\'\"equo compenso\" \\nper i servizi professionali rischia di essere \\npercepita come tariffe minime, danneggiando \\nl\\'ingresso sul mercato e la concorrenza sui prezzi. \\nL\\'eliminazione della disciplina dell\\' \"equo \\ncompenso\"(103) aprirebbe il mercato a imprese più \\nproduttive che potrebbero fissare tariffe più basse \\nper aumentare la loro quota di mercato.  \\nAppalti pubblici  \\nL\\'Italia sta compiendo sforzi significativi per \\nmigliorare l\\'efficienza del proprio sistema \\ndegli appalti pubblici. Oltre all\\'introduzione di un \\n \\n(102) Indicatori della regolamentazione dei mercati dei prodotti \\nOCSE, 2024.  \\n(103) OCSE, Studi economic i dell\\'OCSE , 2024.  nuovo codice dei contratti pubblici nel 2023, l\\'Italia \\nsta portando avanti l\\'ambiziosa riforma degli \\nappalti pu bblici prevista nel proprio piano per la \\nripresa e la resilienza(104). Tale riforma mira a \\nsemplificare le procedure, ad aumentare la \\ndigitalizzazione e a professionalizzare gli \\nacquirenti pubblici e, secondo le previsioni, \\nmigliorerà la rapidità, la compet itività e l\\'efficienza \\ncomplessiva del sistema italiano degli appalti \\npubblici.  \\nAlcuni ambiti degli appalti pubblici appaiono \\nancora problematici , come ad esempio nel caso \\ndelle procedure a offerta unica, che nel 2024 \\nhanno rappresentato ancora il 34  % del totale \\ndelle offerte (un dato ben al di sopra della media \\nUE pari al 32  %). La quota di aggiudicazioni dirette \\nè solo del 3  % circa, notevolmente al di sotto della \\nmedia UE (7  %).', '6a38b90d-d7a3-4c40-9878-b0530dd49598': 'Alcuni ambiti degli appalti pubblici appaiono \\nancora problematici , come ad esempio nel caso \\ndelle procedure a offerta unica, che nel 2024 \\nhanno rappresentato ancora il 34  % del totale \\ndelle offerte (un dato ben al di sopra della media \\nUE pari al 32  %). La quota di aggiudicazioni dirette \\nè solo del 3  % circa, notevolmente al di sotto della \\nmedia UE (7  %). Anche gli indicatori relativi alla \\npartecipazione delle PMI agli appalti  pubblici e alla \\ndurata della procedura sono inferiori alle medie \\ndell\\'UE(105). \\nL\\'Italia è tuttavia uno dei paesi più avanzati \\ndell\\'UE per quanto riguarda il ricorso agli \\nappalti pubblici ai fini del conseguimento \\ndegli obiettivi verdi , come dimostra, ad es empio, \\nl\\'introduzione di criteri ambientali minimi. Ha \\ninoltre compiuto alcuni progressi nell\\'utilizzo degli \\nappalti pubblici come leva per stimolare \\nl\\'innovazione, attraverso l\\'avvio del programma \\n\"Smarter Italy\", che mira a stimolare lo sviluppo di \\nsoluz ioni innovative da parte degli operatori del \\nmercato che partecipano alle gare d\\'appalto. \\nD\\'altro canto, di recente è aumentata anche \\nl\\'attenzione rivolta agli appalti pubblici \\nsocialmente responsabili, in particolare nei settori \\ndell\\'inclusività e della p arità di genere.  \\n \\n(104) Il codice è stato rivisto alla fine del 2024 dal decreto \\nlegislativo n.  209/2024 (Correttivo) al fine di dare maggiore \\nefficacia alle disposizioni in esso contenute.  \\n(105) Pur mantenendo l\\'attuale accento sull\\'accelerazione degli \\nappal ti pubblici nel contesto dell\\'attuazione tempestiva del \\npiano per la ripresa e la resilienza, si dovrebbe anche \\nconsiderare che le aste competitive tendono a portare a \\nribassi di prezzo del 2 -4 % rispetto agli appalti non \\ncompetitivi. Banca d\\'Italia, Relaz ione annuale , anno 2023.', 'f87cb75d-3752-4e65-8f0b-1d4839468911': \"61  \\nTabella  A4.1 - Agevolare le attività economiche - indicatori  \\n  \\n* Modifica metodologica nel 2024: segnalazione separata dei ritardi di pagamento da parte di soggetti pubblici e privati.  \\n* * i dati del 2024 sulle offerte uniche sono provvisori e soggetti a revisione. Si noti che attualmente manca circa il 46  % dei dati \\ntotali, il che pu ò incidere sull'accuratezza e sulla completezza delle informazioni. A causa della mancanza di dati, la media UE dei \\ndati sugli affidamenti diretti è calcolata senza la Romania.  \\nFonti:  (1) ECFIN BCS, (2) Eurostat, (3) EIB IS, (4) Decennio digitale - relazioni per paese, (5) relazione sui pagamenti di Itriuim, (6) \\nindagine SAFE, (7) OCSE, (8) fino al 2023: quadro di valutazione del mercato unico e della competitività 2024: spazio di dati  sugli \\nappalti pubblici.\", '752074a2-db1c-4bbf-9751-5f5f4c594be6': \"Si noti che attualmente manca circa il 46  % dei dati \\ntotali, il che pu ò incidere sull'accuratezza e sulla completezza delle informazioni. A causa della mancanza di dati, la media UE dei \\ndati sugli affidamenti diretti è calcolata senza la Romania.  \\nFonti:  (1) ECFIN BCS, (2) Eurostat, (3) EIB IS, (4) Decennio digitale - relazioni per paese, (5) relazione sui pagamenti di Itriuim, (6) \\nindagine SAFE, (7) OCSE, (8) fino al 2023: quadro di valutazione del mercato unico e della competitività 2024: spazio di dati  sugli \\nappalti pubblici.  \\n \\nPOLICY AREA 2020 2021 2022 2023 2024EU-27 \\naverage\\n1.0 10.3 18.0 17.1 3.9 10.0\\n1.2 3.0 6.3 9.1 6.6 20.2\\n0.9 1.8 2.3 2.3 2.1 2.3\\n33.8 30.6 30.7 21.7 18.3 13.4\\n- 44.2 53.7 59.3 - 78.8\\n- 44.2 53.7 59.3 - 64.0\\n- 99.7 99.7 99.5 - 89.3\\nRegulatory environment 34.9 34.3 34.1 23.6 16.8 24.5\\n1.6 10.9 16.2 16.3 17.3 15.6\\n10.4 11.2 21.8 17.6 17.8 15.1\\nfrom public or private \\nentities in the last 6 \\nmonths58.2 46.6 52.4 54.3 - -\\nfrom private entities \\nin the previous or \\ncurrent quarter- - - - 45.1 47.9\\nfrom public entities in \\nthe previous or \\ncurrent quarter- - - - 13.1 16.6\\n14.9 16.9 19.2 18.5 17.8 41.6\\n0.055 0.056 0.056 0.056 0.064 0.050\\n0.4 1.2 0.7 0.4 0.5 0.8\\n1.7 1.8 1.5 1.4 1.8 0.9\\n96.3 96.8 98.6 91.0 84.3 84.9\\n50.0 46.0 42.0 43.0 39.0 24.4\\n31 35 37 37 34 -\\n7 7 5 5 3 7.0Italy\\nINDICATOR NAME\\nInvestment climate\\nShortagesMaterial shortage, firms facing constraints, %1\\nLabour shortage, firms facing constraints, %1\\nVacancy rate, vacant posts as a % of all \\navailable ones (vacant + occupied)2\\nInfrastructureTransport infrastructure as an obstacle to \\ninvestment, % of firms reporting it as a major \\nobstacle3\\nVHCN coverage, %4\\nFTTP coverage, %4\\n5G coverage, %4\\nReduction of regulatory and administrative barriers\\nImpact of regulation on long-term investment, \\n% firms reporting business regulation as a \\nmajor obstacle3\\nLate paymentsPayment gap - corporates B2B, difference in \\ndays between offered and actual payment5\\nPayment gap - public sector, difference in days \\nbetween offered and actual payment5\\nShare of SMEs \\nexperiencing late \\npayments, %*6\\nSingle Market\\nIntegrationEU trade integration, % (Average intra-EU \\nimports + average intra EU exports)/GDP2\\nEEA Services Trade Restrictiveness Index7\\nComplianceTransposition deficit, % of all directives not \\ntransposed8\\nConformity deficit, % of all directives \\ntransposed incorrectly8\\nSOLVIT, % resolution rate per country8\\nNumber of pending infringement proceedings8\\nCompetition and \\ntransparency in public \\nprocurementSingle bids, % of total contractors**8\\nDirect awards, %**8Public procurement\", '4a1a09a5-efbb-44fe-9e3a-1144de4d61e9': \"ALLEGATO 5: MERCATI DEI CAPITALI, STABILITÀ FINANZIARIA E ACCESSO AI \\nFINANZIAMENTI  \\n62 In un contesto di risparmi privati netti \\nrelativamente bassi, che sono per lo più \\nassorbiti dal fabbisogno di finanziamento \\npubblico, i mercati dei capitali ita liani non \\nsono sufficientemente ricchi e diversificati.  \\nLe banche, che dominano il settore finanziario, \\nsono solide, sia in termini di capitale che di \\nliquidità, e sono ben preparate ad affrontare rischi \\nfuturi. Allo stesso tempo, vi è spazio per lo \\nsviluppo futuro di tutti gli intermediari finanziari \\nnon banc ari, che sono poco sviluppati rispetto ai \\nloro omologhi dell'UE. Le imprese italiane hanno \\naccesso solo parzialmente alla ricchezza, superiore \\nalla media, delle famiglie italiane, che preferiscono \\ninvestire in obbligazioni piuttosto che in azioni, e \\nper lo  più indirettamente. Al contempo, anche gli \\ninvestitori istituzionali nazionali orientano le \\nproprie strategie di investimento verso le \\nobbligazioni. Gli investimenti azionari, in \\nparticolare da parte di fondi di investimento, \\nriguardano principalmente azi oni estere e solo \\nmarginalmente strumenti di capitale non quotati. I \\nminori investimenti in strumenti di capitale non \\nquotati sono un fattore limitante per l'espansione \\ndi start -up innovative con redditività nulla o bassa. \\nIl mercato nazionale del venture capital e del \\ncapitale di crescita è ancora limitato e \\nframmentato. Inoltre i mercati dei capitali \\nrelativamente meno sviluppati riducono le opzioni \\ndi uscita per gli investitori in private equity e in \\nventure capital, aggravando ulteriormente la \\nmancanza di fonti di finanziamento per \\nl'innovazione, che rappresentano un elemento \\nfondamentale per il miglioramento della \\ncompetitività.  \\nDisponibilità e utilizzo del risparmio \\nnazionale  \\nIl settore privato italiano, nonostante \\ndal 2020 registri un'accelerazione, evidenzia \\nun risparmio relativamente modesto in \\ntermini netti, e non investe abbastanza \\nnell'economia nazionale. Nell'ultimo decennio \\nl'indice del risparmio privato, al netto degli \\nammortamenti, è stato pari in media al 5,5  % del \\nPIL, sebbene dal 2020, e in particolare nel periodo \\n2020 -2022, si sia registrato un netto \\nmiglioramento (cfr. grafico A5.1). Il rapporto \\ninvestimenti privati netti/PIL, che misura il \\ncontributo diretto netto del settore privato all'accumulazione di capitale nel paese, ha \\noscillato intorno allo zero, con un valore medio pari \\na - 1,2 % del PIL, contribuendo in tal modo a una \\ncontrazione della struttura del capitale \\ndell'economia. Allo stesso tempo, il debito pubblico \\npiuttosto consistente, che nell'ultimo decennio è \\nstato in  media del 4,8  % del PIL, ha assorbito \\nl'equivalente di quasi il 90  % del risparmio privato \\nnetto. Il saldo medio positivo dell'1,9  % del PIL si è \\nregolarmente tradotto in un accreditamento \\ninvestito all'estero, tranne nel 2022, quando \\nl'economia italiana ha registrato un indebitamento \\ndell'1,2  % del PIL con il resto del mondo.\", '6ace91bc-8916-4b98-b06c-192bec58014a': \"Allo stesso tempo, il debito pubblico \\npiuttosto consistente, che nell'ultimo decennio è \\nstato in  media del 4,8  % del PIL, ha assorbito \\nl'equivalente di quasi il 90  % del risparmio privato \\nnetto. Il saldo medio positivo dell'1,9  % del PIL si è \\nregolarmente tradotto in un accreditamento \\ninvestito all'estero, tranne nel 2022, quando \\nl'economia italiana ha registrato un indebitamento \\ndell'1,2  % del PIL con il resto del mondo. Pertanto, \\nnel complesso, nell'ultimo decennio i risparmi \\nprivati italiani netti, ossia dopo aver contabilizzato \\ngli investimenti necessari per mantenere l'attuale \\nstruttura del capit ale dell'economia, sono stati \\nindirizzati verso progetti pubblici ed esteri, anziché \\nverso investimenti privati nazionali.  \\nGrafico  A5.1 - Saldo risparmi netti/investimenti  \\n  \\nFonte:  AMECO.  \\nIn linea con i valori annuali positivi dei \\nprestiti concessi dall'Italia al resto del \\nmondo, la posizione patrimoniale netta \\nsull'estero (NIIP) del paese è in \\nmiglioramento. Nel terzo trimestre del 2024 le \\nattività totali sull'estero hanno raggiunto il 169  % \\ndel PIL, in aumento rispetto al 148  % della fine \\ndel 2017, mentre le passività sull'estero si sono \\nattestate al 157  % del PIL, il che si è tradotto in \\nuna posizione patrimoniale netta sull'estero (NIIP) \\npositiva pari al 12  % del PIL (cfr. grafico A5.2). Lo \\nstock netto di investimenti ester i diretti è rimasto \\nsostanzialmente stabile, scendendo dal 6  % del \\nPIL registrato alla fine del 2017 al 4,7  % nel terzo \\ntrimestre del 2024. Il miglioramento della \\nposizione patrimoniale netta è pertanto \\nprincipalmente attribuibile allo stock netto di \\ninves timenti di portafoglio, aumentato di 20 punti \\npercentuali del PIL, e allo stock di riserve ufficiali \\n-10-5051015202530\\n2017 2018 2019 2020 2021 2022 2023% of GDP\\nPrivate investment, net Lending to the government\\nPrivate savings, net Private saving, gross\\nBorrowing from the rest of the world\", '7a050eb0-53f5-43bc-a8e5-7cf88ac5b7f9': \"63 in valuta estera, che sono cresciute di 4,9 punti \\npercentuali del PIL. Le passivit à nette dell'Italia in \\ntermini di altri investimenti sono nel contempo \\naumentate di 4,8 punti percentuali del PIL. \\nL'economia italiana sembra pertanto essere ben \\nintegrata nei flussi internazionali di capitali e \\nrecentemente è riuscita a rafforzare \\nmarginalmente la propria posizione di beneficiario \\ndi capitale estero.  \\n \\nGrafico  A5.2 - Posizione patrimoniale sull'estero \\ndell'Italia  \\n  \\nFonte:  BCE. \\nStruttura dei mercati dei capitali e \\ndimensioni del settore finanziario  \\nI mercati dei capitali in Italia sono ancora \\npoco sviluppati e non sufficientemente \\nprofondi. La borsa valori italiana (Borsa Italiana) \\nfa parte di Euronext, un'infrastruttura di mercato \\npaneuropea. Rispetto agli standard dell'UE, la sua \\ncapitalizzazione d i mercato in percentuale del PIL \\nè modesta: pari al 28,5  % del PIL alla fine \\ndel 2023 rispetto a una media UE del 67  % \\n(cfr. grafico A5.3). Si tratta di un valore \\nnotevolmente inferiore, sia in termini assoluti che \\nin percentuale del PIL, rispetto  a quello delle borse \\ndi Parigi, Amsterdam e Francoforte. Le società non \\nfinanziarie rappresentavano circa due terzi di tale \\ncapitalizzazione. Negli ultimi anni le nuove \\nquotazioni sul mercato principale sono state \\nscarse, mentre l'attività è stata più viv ace nel \\nmercato di crescita per le PMI. Il volume in essere \\ndei titoli di debito ha raggiunto il 151  % del PIL \\nalla fine del 2023, dato che rappresenta uno dei \\npunteggi nazionali pi ù elevati nell'UE. I titoli di \\ndebito negoziabili emessi da società non \\nfinanziarie rappresentavano però meno del 6  % del totale. In effetti, il mercato obbligazionario \\nnazionale italiano è interamente dominato dai \\ntitoli di Stato, che alla fine del 2023 \\nrappresentavano quasi il 74  % del totale. Il \\nrestante 20  % dei titoli di debito era rappresentato \\nda istituti finanziari, bancari e non.   \\nEsiste già un programma di riforme dei \\nmercati dei capitali a livello nazionale. Sulla \\nbase dei progressi compiuti in pa ssato, nel 2020 \\nl'OCSE ha elaborato un'analisi del mercato dei \\ncapitali per l'Italia nell'ambito di un progetto di \\nsostegno tecnico finanziato dall'UE. A ciò ha fatto \\nseguito un Libro verde sulla competitività dei \\nmercati finanziari italiani a sostegno del la crescita, \\npubblicato dal ministero italiano dell'Economia e \\ndelle finanze nel marzo 2022. Tali iniziative hanno \\nportato all'adozione del disegno di legge sui \\nmercati dei capitali (decreto Capitali, \\nlegge  21/2024) nel febbraio 2024. La legge \\namplia la de finizione di PMI e mira a stimolare il \\nmercato italiano delle offerte pubbliche iniziali e a \\nincentivare gli investimenti in società quotate in \\nItalia, apportando nel contempo modifiche al \\nquadro in materia di governo societario e \\npromuovendo l'alfabetizza zione finanziaria.  \\nIl mercato finanziario italiano è dominato \\ndalle banche e vi è spazio per lo sviluppo \\nfuturo di tutti gli intermediari non bancari.\", '7d07744f-5668-4a09-aef1-18b2653d35d6': \"Tali iniziative hanno \\nportato all'adozione del disegno di legge sui \\nmercati dei capitali (decreto Capitali, \\nlegge  21/2024) nel febbraio 2024. La legge \\namplia la de finizione di PMI e mira a stimolare il \\nmercato italiano delle offerte pubbliche iniziali e a \\nincentivare gli investimenti in società quotate in \\nItalia, apportando nel contempo modifiche al \\nquadro in materia di governo societario e \\npromuovendo l'alfabetizza zione finanziaria.  \\nIl mercato finanziario italiano è dominato \\ndalle banche e vi è spazio per lo sviluppo \\nfuturo di tutti gli intermediari non bancari.  \\nDopo aver raggiunto il picco del 230  % del PIL \\nnel 2020, le dimensioni del settore bancario sono \\nscese a l 178  % del PIL nel 2023, rimanendo \\nnotevolmente al di sotto della media UE \\ndel 254 %. La presenza all'estero è limitata e \\nrappresenta circa il 9  % in termini di attivit à. La \\nconcentrazione bancaria sembra essere inferiore \\nalla media UE, con le prime cinqu e banche che \\ncontrollano meno del 50  % del settore (media UE \\ndel 54  %). Le compagnie di assicurazione, le cui \\nattivit à totali alla fine del 2023 erano pari al 49  % \\ndel PIL, sono gli intermediari finanziari non bancari \\npiù sviluppati in Italia, anche se le loro dimensioni \\nrimangono al di sotto della media UE del 55  %. \\nAlla fine del 2023 le attivit à totali dei fondi di \\ninvestimento equivalevano al 21  % del PIL, mentre \\ni fondi pensione rappresentavano solo l'8  % del \\nPIL. \\n-200-150-100-50050100150200\\n2017 2018 2019 2020 2021 2022 2023 2024-Q3% of GDP\\nForeign Direct Investment, Assets Portfolio Investment, Assets\\nOther investment, Assets Official reserve assets\\nForeign Direct Investment, Liabilities Portfolio Investment, Liabilities\\nOther investment, Liabilities NIIP\", '50c1c87c-2f52-43be-8e9c-fe51a202a87c': \"64 Grafico A5.3 - Mercati dei capitali e intermediari \\nfinanziari  \\n  \\nFonte:  BCE, EIOPA, AMECO  \\nResilienza del settore bancario  \\nNel 2024 la resilienza del settore bancario \\nitaliano è migliorata.  Il coefficiente di \\nadeguatezza patrimoniale per il settore bancario \\nitaliano si è attestato al 20  % nel terzo trimestre \\ndel 2024 (cfr. tabella , A5.1), dato che rappresenta \\nil livello più elevato ed è quasi in linea con la \\nmedia UE (20,1  %). Anche la qualit à del capitale è \\nmigliorata, con un coeffi ciente di capitale primario \\ndi classe 1 del 15,9  % rispetto al 15,5  % a fine \\n2023 e al 13,9  % a fine 2019. La crescente \\nredditivit à ha migliorato la generazione di capitale \\ninterno, in quanto il rendimento annualizzato del \\ncapitale proprio delle banche è stato pi ù elevato \\nnei primi nove mesi del 2024 rispetto alla fine \\ndel 2023 (14,1  % contro 12,7  %) e superiore alla \\nmedia UE del 10  %. Tale miglioramento è \\nriconducibile principalmente alla continua crescita \\ndei proventi netti da interessi, all'aumento delle  \\nentrate derivanti dalle commissioni e a un buon \\ncontrollo dei costi. Il piano del governo di \\naumentare le entrate di bilancio rinviando le \\ndetrazioni fiscali per le banche non dovrebbe \\nincidere in modo sostanziale sulla loro redditività.  \\nLe pressioni lega te alla qualità delle attività, \\nanche se destinate a persistere, rimangono \\nmodeste in termini storici.  L'incidenza lorda dei \\ncrediti deteriorati ha continuato a diminuire \\nnel 2023 e ha registrato solo un lieve aumento nel \\nsettembre 2024, attestandosi al 2, 8 % (media UE \\ndel 1,9  %), ed è stata superiore per quanto riguarda i prestiti alle imprese (4,4  %) rispetto alle \\nfamiglie (2,6  %). Inoltre la percentuale dei prestiti \\ndella fase 2 rispetto ai prestiti in bonis è scesa \\nal 9,2 % nel settembre 2024 rispetto all'11,5  % di \\nfine 2023. Anche i livelli di accantonamento \\nrimangono pi ù elevati rispetto a quelli delle \\nomologhe dell'UE, con u n tasso di copertura dei \\ncrediti deteriorati pari al 47,8  % nel terzo trimestre \\ndel 2024 (rispetto al 42,1  % per l'UE). Questi dati, \\nassociati alla solida posizione patrimoniale delle \\nbanche italiane e alla loro forte redditività, \\nimplicano l'assenza di re strizioni di rilievo \\nnell'offerta di credito per i mutuatari solvibili, \\nfornendo ulteriori segnali del fatto che la crescita \\ndel credito è attualmente trainata dalla domanda \\ndi credito (cfr. sezione sulle fonti di finanziamento \\ndelle imprese).  \\nLa posizione  di tesoreria delle banche rimane \\nsolida.  Pur essendo sceso al 170,7  % nel terzo \\ntrimestre del 2024 rispetto al 180,7  % di un anno \\nfa, il coefficiente di copertura della liquidit à degli \\nenti significativi rimane confortevole. Nello stesso \\nperiodo è stato s oddisfacente e piuttosto stabile \\nanche il coefficiente netto di finanziamento \\nstabile, che ha raggiunto il 132  % nel terzo \\ntrimestre del 2024.\", '96bf6764-9f7a-4e94-9b2e-4975240bf199': \"sezione sulle fonti di finanziamento \\ndelle imprese).  \\nLa posizione  di tesoreria delle banche rimane \\nsolida.  Pur essendo sceso al 170,7  % nel terzo \\ntrimestre del 2024 rispetto al 180,7  % di un anno \\nfa, il coefficiente di copertura della liquidit à degli \\nenti significativi rimane confortevole. Nello stesso \\nperiodo è stato s oddisfacente e piuttosto stabile \\nanche il coefficiente netto di finanziamento \\nstabile, che ha raggiunto il 132  % nel terzo \\ntrimestre del 2024. Ci ò nonostante il rimborso dei \\nfinanziamenti dell'Eurosistema provenienti dalle \\noperazioni mirate di rifinanziame nto a lungo \\ntermine (OMRLT III), che ha portato a una riduzione \\ndella liquidità della banca centrale all'1,5  % delle \\npassivit à totali delle banche ad agosto 2024, \\nrispetto al 4,8  % alla fine del 2023 e al 14  % al \\npicco della met à del 2021. Anche il costo \\nmarginale della raccolta bancaria è sceso all'1,9  % \\nnel settembre 2024, circa 20 punti base in meno \\nrispetto al marzo 2024. Si tratta tuttavia di un \\nlivello storicamente elevato(106). \\nSebbene le banche abbiano rafforzato la loro \\nposizione generale negli ulti mi anni, \\npermangono altri settori di vulnerabilità. Lo \\nstock di prestiti garantiti dallo Stato in percentuale \\ndel portafoglio prestiti si sta normalizzando, \\nmentre l'esposizione delle banche al debito \\nsovrano nazionale è scesa al 9,4  % delle attivit à \\ntotali nel dicembre 2024, un dato che, seppure \\ninferiore al picco del dicembre 2020 (10,9  %), è \\nancora elevato sia storicamente sia rispetto ad \\naltri omologhi della zona euro. Tali esposizioni \\nsono distribuite in modo disomogeneo e \\n \\n(106) Cfr. figura 2.9 del Rapporto sulla stabilità finanziaria della \\nBanca d'Italia , novembre 2024.  \\nNon-financial corporations\\nFinancial corporations\\nNon-financial corporations\\nMFIs\\nInsurance  and pension funds\\nOther financials\\nGovernment\\nMFIs\\nPension funds\\nInsurance corporations\\nInvestment funds\\n020406080100120140160180200\\nListed equity                     Bonds                              Assets by sector% of GDP\", 'e2c7a95a-fad9-4f65-9a3e-e6df18ae1509': \"65 riguardano in particolare le banche cooperative. Le \\nbanche le classifica come titoli detenuti al costo \\nammortizzato, al fine di limitare l'impatto dei \\nmovimenti di mercato a breve termine sui propri \\nbilanci(107). Tra gli enti creditizi più piccoli \\npermangono inoltre le sacche di vulner abilità, \\nnonostante i progressi compiuti con un'azione di \\nvigilanza più efficace. Rimane inoltre importante \\nl'efficacia dei meccanismi di rinegoziazione del \\ndebito e di cessione di attività rimane importante, \\ndato il debito ereditato dal passato, che è usc ito \\ndai bilanci delle banche ma continua a gravare \\nsull'economia.  \\nResilienza degli intermediari \\nfinanziari non bancari  \\nIl settore assicurativo rimane resiliente.  Il \\ncoefficiente di solvibilità degli assicuratori italiani \\nnel terzo trimestre del 2024 è stato del 260  %, \\nsostanzialmente in linea con la fine del 2023 e \\nleggermente superiore alla media dello Spazio \\neconomico europeo (SEE) (247  %). Il loro \\nportafoglio d i investimenti è stato fortemente \\norientato verso obbligazioni, in particolare titoli di \\nStato con una chiara preferenza per l'acquisto di \\nabitazioni. A ottobre 2024 le minusvalenze nette \\nnon realizzate sugli investimenti sono scese \\na 7 miliardi di EUR ris petto ai 13 miliardi di EUR \\ndel dicembre 2023. Conformemente a quanto \\nconsentito dalla normativa in situazioni di \\nturbolenza dei mercati, un numero limitato di \\nassicuratori italiani, che rappresentano circa il 5  % \\ndegli attivi del settore, ha deciso di sos pendere \\ntemporaneamente gli effetti sulla redditivit à delle \\nminusvalenze sugli investimenti per il primo \\nsemestre del 2024. L'Italia presenta uno dei \\nmaggiori divari in materia di protezione \\nassicurativa in Europa per i rischi naturali, in \\nparticolare i te rremoti. Ciò ha indotto le autorità \\nitaliane a adottare, nel dicembre 2023, l'obbligo \\nper le imprese di assicurarsi contro i rischi naturali, \\ncon riassicurazione parziale da parte di SACE, un \\nente statale (cfr. allegato 7).  \\n \\n(107) Si tratta di una protezione che non coprirebbe un'eventuale \\nvendita forzata di questi titoli; scenario che è tuttavia \\nimprobabile  data la solida posizione di liquidità delle banche \\nitaliane.  La redditività degli assicurator i è migliorata \\ngrazie alla ripresa della raccolta premi e al \\nrallentamento della crescita dei sinistri.  Nella \\nprima metà del 2024 il rendimento del capitale \\nproprio degli assicuratori vita, seppur in \\nmiglioramento rispetto all'anno precedente, è stato \\nancora negativo ( -9 %) a causa delle \\nminusvalenze, mentre il segmento non vita ha \\nregistrato un rendimento del capitale proprio \\ndell'8  %, confermando la tendenza positiva \\ndell'anno precedente(108). Tale miglioramento è \\ndovuto a una ripresa della raccolta premi,  \\nassociata a una crescita più moderata dei sinistri e \\ndelle altre spese rispetto al 2023. L'aumento dei \\npremi ha inoltre progressivamente ridotto il \\nrapporto tra riscatti e premi nel segmento delle \\nassicurazioni sulla vita, che è passato dal 94  % \\nnell'otto bre 2023 all'81  % nell'ottobre 2024.\", '20aef25a-33ac-4702-8cb4-911679e3a226': \"Tale miglioramento è \\ndovuto a una ripresa della raccolta premi,  \\nassociata a una crescita più moderata dei sinistri e \\ndelle altre spese rispetto al 2023. L'aumento dei \\npremi ha inoltre progressivamente ridotto il \\nrapporto tra riscatti e premi nel segmento delle \\nassicurazioni sulla vita, che è passato dal 94  % \\nnell'otto bre 2023 all'81  % nell'ottobre 2024. Allo \\nstesso tempo, l'indicatore del grado di liquidità \\ndegli attivi ( liquid asset ratio ) degli assicuratori \\nitaliani rimane elevato e a giugno del 2024 \\nrisultava sostanzialmente stabile rispetto a \\ndicembre del 2023 a un  valore mediano del 62  %. \\nDi conseguenza, i rischi di liquidit à sono stati \\nridotti, anche se continuano ad essere significativi \\nin quanto l'indice dei riscatti rimane elevato(109). \\nIl settore dei fondi pensione ha continuato a \\nconsolidarsi e si è ripreso da lle perdite subite \\nnel 2022.  Secondo l'autorità di vigilanza dei fondi \\npensione, il numero di fondi pensione alla fine \\ndel 2023 è sceso a 302, rispetto ai 332 del 2022 \\n(e ai 387 del 2020). Nel 2023 i rendimenti sono \\nstati positivi su tutti i tipi di linee di investimento, \\nin particolare laddove l'esposizione al capitale \\nproprio era maggiore e sono state recuperate le \\nperdite subite nel 2022. I contributi totali riscossi \\ndai fondi pensione italiani nel 2023 sono \\nammontati a 19,2 miliardi di EUR, mentre gli \\nimporti in uscita sono stati pari a 11,6 miliardi \\ndi EUR. \\nI rischi per la stabilità finanziaria dei fondi di \\ninvestimento italiani sono limitati e stabili.  \\nL'assunzione di prestiti da banche e altri \\nintermediari finanziari da parte di fondi di \\ninvestimento aperti italiani è moderata e le linee di \\ncredito disponibili sono stabili. Anche i margini \\n \\n(108) Cfr. Rapporto sulla stabilità finanziaria della Banca d'Italia , \\nnovembre 2024, pagg. 35 -36. \\n(109) Cfr. Rapporto sulla stabilità finanziaria della Banca d'Italia , \\nnovembre 2024, pag. 33.\", 'f77e8eec-a4d4-4702-8d6e-b15bd5e126b9': \"66 pagati per l'uso dei derivati sono bassi rispetto alla \\nliquidit à disponibile, mentre il rischio di liquidità \\nderivante da richieste di rimborso particolarmente \\nelevate è rimasto stabile tra gennaio e \\nagosto  2024 per i segmenti non azionari. I rischi \\nper la stabilità finanziaria derivanti dai fondi di \\ninvestimento alte rnativi (FIA) italiani, che al \\ngiugno  2024 rappresentavano quasi il 12  % delle \\nattivit à dei fondi di investimento italiani, sono \\nconsiderati bassi in ragione di una leva finanziaria \\nsostanzialmente stabile su un valore del 108  % \\n(ben al di sotto della medi a della zona euro \\ndel 122 %) e del fatto che in Italia i fondi che \\ninvestono pi ù del 20  % del loro portafoglio in \\nattivit à illiquide devono essere costituiti nella \\nforma di fondi chiusi, come i fondi immobiliari. Per \\nquanto riguarda i FIA di tipo aperto, l a liquidit à \\ndelle attivit à e il profilo di rimborso delle passivit à \\na breve termine sono allineati.  \\nFonti di finanziamento delle imprese \\ne ruolo delle banche  \\nRispetto alle altre aziende dell'UE, le imprese \\nitaliane fanno più affidamento sulla propria \\nreddi tività come fonte di finanziamento che \\nsui mercati dei capitali, e i prestiti bancari \\nrappresentano la loro altra principale risorsa \\nfinanziaria.  Come fonte di finanziamento per le \\nSNF italiane, alla fine del 2023 i prestiti \\nammontavano al 49  % del PIL, le ggermente al di \\nsotto della media UE del 51  % (cfr. grafico  A5.4). \\nTuttavia, espressi in percentuale del finanziamento \\ncomplessivo delle SNF, i prestiti rappresentavano \\nuna quota leggermente superiore a tutte le fonti di \\nfinanziamento (27,6  % rispetto al 27,2  % nell'UE). \\nAnalogamente, anche l'utilizzo da parte delle SNF \\nitaliane di azioni e obbligazioni quotate è stato \\ninferiore alla media UE, sia in percentuale del PIL \\n(23,9  % contro 54,8  %) che in percentuale del \\nfinanziamento complessivo del le SNF (13,3  % \\ncontro 23,8  %). Ci ò è dovuto in gran parte \\nall'esigua percentuale di azioni quotate nel mix di \\nfinanziamenti (l'8,6  % delle fonti di finanziamento \\nrispetto al 19,1  % dell'UE). Questi dati \\nsuggeriscono che la redditività delle imprese \\nitalian e svolge un ruolo piuttosto importante come \\nfonte di finanziamento rispetto a quanto accade \\nper le altre aziende dell'UE.  Grafico  A5.4 - Composizione dei finanziamenti \\ndelle SNF in % del PIL  \\n  \\n(1) Periodo di riferimento 2023  \\nFonte:  Eurostat.  \\nTuttavia il ruolo del finanziamento interno \\nnon è eccessivo e le imprese non sembrano \\nrisentire della generale mancanza di fondi.  \\nSecondo l'indagine del 2024 sugli investimenti \\ncondotta dalla BEI, il 62  % delle imprese italiane \\nha risposto che il loro fabbisogno di investimenti è \\ncoperto da finanziamenti interni, una percentuale \\nprossima alla media UE del 66  %.\", '8fdeb7d5-267c-44e3-8285-80fd51234606': \"Grafico  A5.4 - Composizione dei finanziamenti \\ndelle SNF in % del PIL  \\n  \\n(1) Periodo di riferimento 2023  \\nFonte:  Eurostat.  \\nTuttavia il ruolo del finanziamento interno \\nnon è eccessivo e le imprese non sembrano \\nrisentire della generale mancanza di fondi.  \\nSecondo l'indagine del 2024 sugli investimenti \\ncondotta dalla BEI, il 62  % delle imprese italiane \\nha risposto che il loro fabbisogno di investimenti è \\ncoperto da finanziamenti interni, una percentuale \\nprossima alla media UE del 66  %. Ino ltre il 92  % \\ndelle imprese italiane ritiene che le loro attivit à di \\ninvestimento negli ultimi tre anni siano state di un \\nimporto pi ù o meno adeguato, una percentuale \\nsuperiore alla media UE (80  %); ci ò indica che non \\nvi è alcun deficit di finanziamento significativo \\nrispetto alla domanda di investimenti. Tuttavia ciò \\npotrebbe non applicarsi alle imprese che non \\ndispongono di risorse di finanziamento interne o la \\ncui capacità di finanziamento interna è limitata, \\ncome nel ca so delle start -up innovative (cfr. infra). \\nNel complesso il settore imprenditoriale italiano \\ninveste meno in percentuale del PIL (11,4  %) \\nrispetto alla media UE (13  %). \\nSi è registrata una continua diminuzione dei \\nprestiti bancari alle famiglie e alle impr ese. \\nLa crescita del credito ha seguito un andamento \\ngenerale al ribasso dal settembre 2022 ed è \\ndiventata negativa all'inizio del 2023 per le \\nimprese e nel luglio 2023 per le famiglie, a causa \\ndel crollo della domanda di credito. Questa \\ntendenza è prosegu ita per tutto il 2024, con solo \\ntimidi segnali di ripresa (soprattutto per le \\nfamiglie), dato che il tasso di crescita del credito \\nsu base annua è leggermente migliorato, \\npassando da -1,4 % per le famiglie e da -3,9 % \\nper le SNF nel marzo 2024 a \\n050100150200250\\nIT EU% of GDP\\nLoans Trade credit and advances\\nBonds Listed shares\\nUnlisted shares Other equity\", '321f8eef-6af8-4483-8213-f2a7f9f28d81': \"67 rispettiva mente -0,4 % e a -2,4 % nel settembre \\n2024.  \\nLe prospettive sono migliori sulla scia \\ndell'allentamento della politica monetaria, in \\nparticolare per le famiglie.  Ciò è attestato \\nanche dall'indagine sul credito bancario condotta \\nnel gennaio 2025 dalla Banca d 'Italia, che ha \\nconfermato per il secondo trimestre consecutivo \\nun forte aumento della domanda di mutui \\nipotecari da parte delle famiglie, che riflette il calo \\ndel costo dei prestiti (110). Anche la domanda di \\nprestiti da parte delle imprese ha mostrato seg nali \\ndi ripresa, aumentando per la prima volta nel \\nquarto trimestre del 2024 dal terzo trimestre \\ndel 2022; ciò riflette il maggiore fabbisogno di \\nfinanziamenti per gli investimenti fissi, le scorte e \\nil capitale circolante, nonché il livello inferiore dei \\ntassi di interesse.  \\nInvestimenti al dettaglio nei mercati \\ndei capitali  \\nLe famiglie italiane tendono a investire il proprio \\npatrimonio, che risulta essere al di sopra della \\nmedia, in modo analogo alle altre famiglie dell'UE. \\nL'importo delle loro attività fi nanziarie risulta \\ninfatti superiore alla media UE sia in termini pro \\ncapite che in percentuale del PIL (cfr. grafico A5.5). \\nLa quota delle attività finanziarie delle famiglie \\ndetenute in fondi pensione e di investimento o \\ndirettamente in strumenti finanziari di \\ninvestimento è solo leggermente inferiore alla \\nmedia UE (pari al 43,4  % contro il 45,3  % alla fine \\ndel 2023).  \\n \\n(110) Secondo la Banca d'Italia, nei primi nove mesi del 2024 i \\ntassi di interesse sui nuovi mutui ipotecari a tasso fisso e a \\ntasso variabile sono diminuiti rispettivamente di circa \\n80 punti base (al 3,2  %) e di 50 punti base (al 4,5  %). Grafico  A5.5 - Composizione delle attività \\nfinanziarie delle famiglie pro capite e in % del PIL  \\n  \\n(1) Periodo di riferimento 2023  \\nFonte:  Eurostat.  \\nTuttavia, quando si tratta di esposizione \\ndiretta alle azioni, le famiglie italiane \\nsembrano riluttanti ad assumere rischi.  \\nRispetto alla media UE, le famiglie italiane \\ndetengono una quota maggiore di attività \\nfinanziarie investite in obbligazioni (il 7,9  % contro \\nil 2,7  %) e in fondi di investimento (il 13,3  % \\ncontro il 10  %) e una quota  inferiore di attivit à \\nfinanziarie investite in azioni quotate (il 2,9  % \\ncontro il 4,8  %) e in fondi pensione e assicurativi \\n(il 19,3  % contro il 27,8  %). In particolare il debito \\npubblico interno rappresenta una forma di \\ninvestimento popolare tra le famig lie italiane, che \\nnella prima metà del 2024 detenevano il 13  % del \\ndebito pubblico totale in essere dell'Italia.  \\nSono in corso di attuazione ulteriori misure \\nper promuovere la partecipazione degli \\ninvestitori al dettaglio ai mercati dei capitali.  \\nL'adozion e di iniziative passate volte a rafforzare il \\nlivello di partecipazione degli investitori al \\ndettaglio, come la creazione di piani individuali di \\nrisparmio (PIR), è diminuita dal 2019(111).\", '35ef0ad6-dc9c-4e3c-b6be-eae63e1b2a19': 'In particolare il debito \\npubblico interno rappresenta una forma di \\ninvestimento popolare tra le famig lie italiane, che \\nnella prima metà del 2024 detenevano il 13  % del \\ndebito pubblico totale in essere dell\\'Italia.  \\nSono in corso di attuazione ulteriori misure \\nper promuovere la partecipazione degli \\ninvestitori al dettaglio ai mercati dei capitali.  \\nL\\'adozion e di iniziative passate volte a rafforzare il \\nlivello di partecipazione degli investitori al \\ndettaglio, come la creazione di piani individuali di \\nrisparmio (PIR), è diminuita dal 2019(111). Tuttavia \\nuna riforma globale della legislazione finanziaria \\nprevista per il primo semestre del 2025 potrebbe \\nincludere: i) il ricorso all\\'opzione prevista dalla \\nlegislazione dell\\'UE (112) di un sistema di \\nregistrazione (invece dell\\'autorizzazione) dei fondi \\n \\n(111) I PIR offrono incen tivi fiscali per investire i propri risparmi in \\nsocietà italiane o del SEE con sede permanente in Italia. Alla \\nfine del 2023 solo l\\'1,6  % delle attività gestite da fondi \\naperti e chiusi in Italia era costituito da PIR ordinari e solo \\nlo 0,2 % da PIR altern ativi. Cfr. \"Osservatorio PIR\", \\nmaggio  2024, Assogestioni.  \\n(112) Direttiva 2011/61/UE (direttiva GEFIA).  \\n050100150200250300\\n020406080100\\nIT EU IT EU\\nper capita (000 EUR) (lhs) % of GDP GDP (rhs)\\nCurrency and deposits Insurance and pension funds\\nInvestment funds Bonds\\nListed shares Unlisted shares\\nOther equity HH Debt (liability)', '2a015035-a4b4-4be4-be61-1b7f0c00ba1e': \"68 di investimento alternativi e ii) la possibilit à per gli \\ninvestitori al dettaglio di investire in fondi \\nalternativi registrati, facilitando in tal modo gli \\ninvestimenti in fondi di private equity e di venture \\ncapital.  \\nIl ruolo degli investitori istituzionali \\nnazionali  \\nIl settore italiano della gestione patrimoniale \\nè piuttosto sviluppato e presenta un profilo \\ndi investimento bilanciato.  Nel terzo trimestre \\ndel 2024 le attività sotto la gestione dei fondi di \\ninvestimento gestiti da società o gruppi di gestione \\nitaliani erano pari a 629 miliardi d i EUR(113). \\nAggiungendo le attività dei fondi di investimento \\npresenti in Italia e gestiti da gruppi stranieri, il \\ntotale delle attività gestite ammontava \\na 1 322 miliardi di EUR, di cui 1  254 miliardi di  EUR \\n(95 %) in fondi aperti (114). Dei fondi aperti, i l \\n31,7  % era costituito da fondi azionari, il 35,1  % \\nda fondi obbligazionari, il 24,7  % da fondi \\nbilanciati o flessibili e l'8,5  % da altri tipi di fondi. \\nSecondo la European Fund and Asset Management \\nAssociation (EFAMA), i fondi di investimento gestiti \\nda gruppi italiani tendono a investire una quota \\nmolto pi ù elevata del loro portafoglio \\nobbligazionario in obbligazioni nazionali \\n(42 % nel 2023 rispetto a una media UE \\ndel 36,8  %) rispetto al loro portafoglio azionario \\n(10 % contro una media UE del 21,4  %)(115). \\nI fondi di investimento svolgono un ruolo \\nparticolarmente importante nel mercato \\nobbligazionario italiano, soprattutto per le \\nimprese.  Nella prima metà del 2024 l'esposizione \\ncomplessiva dei fondi italiani e della zona euro ai \\nmercati obbligazionari i taliani è aumentata. Gli \\ninvestimenti realizzati da questi fondi svolgono un \\nruolo importante, in particolare per le SNF. Tali \\nfondi detengono circa un terzo delle obbligazioni in \\nessere in questo segmento, mentre la quota \\n \\n(113) Cfr. Banca d'Italia, Rapporto sulla stabilità finanziaria, \\nnovembre 2024.  \\n(114) Cfr. Assogestioni, Mappa trimestrale del Risparmio Gestito, \\n3º trimestr e 2024.  \\n(115) Cfr. i grafici 4.4 e 4.5 della relazione dell' EFAMA - Asset \\nManagement in Europe, facts and figures  del dicembre \\n2024.  posseduta nel mercato dei titoli di Stato è pari a \\ncirca un decimo(116). \\nIl portafoglio di investimenti degli \\nassicuratori è fortemente orientato verso le \\nobbligazioni.  Nel terzo trimestre del 2024 il \\nportafoglio di investimenti delle compagnie di \\nassicurazione italiane ammontava a 1  029 m iliardi \\ndi EUR. Sono stati effettuati principalmente \\ninvestimenti in titoli di Stato (il 35,6  % rispetto a \\nuna media UE del 19,5  %), con una chiara \\npreferenza a livello nazionale(117), in obbligazioni \\nsocietarie (14,7  %), emesse soprattutto da societ à \\nnon f inanziarie estere, in azioni (11,1  %) e in fondi \\ndi investimento (33,2  %)(118), con un ulteriore \\n2,4 % detenuto in contanti e depositi.  \\nAnche i regimi pensionistici complementari \\nhanno un profilo di investimento prudente, \\ncon una modesta esposizione alle az ioni.\", '0a0f0dd6-6529-4192-98d7-4a7dd7765968': \"Sono stati effettuati principalmente \\ninvestimenti in titoli di Stato (il 35,6  % rispetto a \\nuna media UE del 19,5  %), con una chiara \\npreferenza a livello nazionale(117), in obbligazioni \\nsocietarie (14,7  %), emesse soprattutto da societ à \\nnon f inanziarie estere, in azioni (11,1  %) e in fondi \\ndi investimento (33,2  %)(118), con un ulteriore \\n2,4 % detenuto in contanti e depositi.  \\nAnche i regimi pensionistici complementari \\nhanno un profilo di investimento prudente, \\ncon una modesta esposizione alle az ioni. Alla \\nfine del 2023 le risorse accumulate dai regimi \\npensionistici complementari italiani ammontavano \\na 224,4 miliardi di EUR (ossia a circa il 10,8  % del \\nPIL)(119). I fondi negoziali detenevano il 30,2  % \\ndelle risorse totali, i fondi preesistenti il 2 9,9 %, i \\nfondi aperti il 14,5  % e i piani individuali \\npensionistici (PIP) il 25,3  %. Le attivit à dei fondi \\npensione sono state investite come segue: \\nil 14,1  % in titoli di Stato italiani, il 24,6  % in altri \\ntitoli di Stato, il 17,3  % in altri titoli di deb ito, \\nil 21,4  % in titoli azionari, il 15,8  % in fondi comuni \\ndi investimento, il 5  % in depositi e l'1,8  % in \\ninvestimenti immobiliari(120). Ciò suggerisce che vi \\nè un margine significativo di aumento degli \\n \\n(116) Cfr. Banca d'Italia, Rap porto sulla stabilità finanziaria, \\nnovembre 2024.  \\n(117) Secondo la Banca d'Italia (Rapporto sulla stabilità finanziaria, \\nnovembre 2024), sulla base dei dati del giugno 2024, due \\nterzi dell'esposizione ai titoli di Stato degli assicuratori \\nitaliani riguarda i  titoli di Stato nazionali.  \\n(118) Cfr. le statistiche dell'EIOPA sulle assicurazioni, terzo \\ntrimestre del 2024. La partecipazione dagli assicuratori \\nitaliani ai fondi di investimento è stata suddivisa \\nprincipalmente tra fondi azionari (34,2  %) e fondi \\nobblig azionari (34,1  %), ma solo l'1,7  % era costituito da \\nfondi di private equity.  \\n(119) Cfr. COVIP - Supplementary Pension Funds in Italy at the end \\nof 2023 – Main data . Questo dato differisce da quello \\nriportato nel por tale della BCE e incluso nella tabella A3.1, \\nche indica il perimetro più ampio dei fondi pensione inclusi.  \\n(120) Cfr. COVIP - Supplementary Pension Funds in Italy at the end \\nof 2023 – Main data . Anche i dati meno granulari segnalati \\nnel portale della BCE indicano una ripartizione analoga degli \\ninvestimenti.\", '765ddd97-8306-48c7-9c62-f29925081396': \"6 Il miglioramento della qualità dei posti di \\nlavoro  disponibili per i nuovi arrivati sul \\nmercato del lavoro contribuirebbe ad attrarre \\npersone altamente qualificate dall'estero e a \\ntrattenere i giovani di talento in Italia. A tal \\nfine è necessario intensificare i recenti sforzi \\nvolti a garantire un miglior e equilibrio tra vita \\nprofessionale e vita privata per le donne \\n(attraverso maggiori servizi di assistenza) e \\nopportunità più chiare per il passaggio dalla \\nscuola al lavoro e dai contratti a tempo \\ndeterminato a quelli a tempo indeterminato. \\nOccorre altresì  intensificare e ampliare gli \\nsforzi nell'ambito del piano per la ripresa e la \\nresilienza per quanto riguarda il miglioramento \\ndel livello delle competenze e la \\nriqualificazione degli adulti, apportando \\nulteriori miglioramenti alle politiche attive del \\nmercato del lavoro e promuovendo le attività \\ndi formazione delle imprese.  \\nPer rafforzare la competitività dell'Italia \\nè ancora necessario apportare ulteriori \\nmiglioramenti a livello di efficienza della \\npubblica amministrazione, sistema \\ngiudiziario, aumento de lla concorrenza, \\nsemplificazione, ammodernamento del \\nquadro in materia di appalti pubblici e \\ndigitalizzazione.  Negli ultimi anni l'Italia ha \\nadottato diverse misure in detti ambiti, in particolare mediante il piano per la ripresa e la \\nresilienza. Tali misu re includono la riforma \\nvolta a ridurre la durata dei procedimenti \\ngiudiziari, l'adozione di leggi annuali sulla \\nconcorrenza, le riforme del codice della \\nproprietà industriale, della pubblica \\namministrazione e degli appalti pubblici, la \\nsemplificazione di diverse procedure \\namministrative e una serie di investimenti per \\naumentare la digitalizzazione delle imprese \\nprivate e delle pubbliche amministrazioni. Si \\nattendono ulteriori sforzi per affrontare le \\nsfide rimanenti.  \\nLa promozione dell'innovazione e della  \\nricerca sosterrebbe la competitività. La \\nspesa pubblica e privata a favore di ricerca e \\nsviluppo, anche da parte delle università, è \\ninferiore alla media UE. Il numero ridotto di \\nimprese di grandi dimensioni limita i potenziali \\ninvestimenti privati in ric erca e sviluppo. Gli \\nincentivi fiscali dell'Italia a favore di ricerca e \\nsviluppo sono più limitati e meno generosi \\nrispetto a quelli di paesi comparabili dell'UE. \\nL'eccessiva dipendenza delle imprese italiane \\ndal credito bancario genera un particolare \\nvincolo per le imprese di minori dimensioni, più \\nnuove e innovative. Inoltre il rafforzamento \\ndelle recenti iniziative volte a ridurre \\nl'inefficienza del sistema universitario \\nconsentirebbe di aumentare gli attuali limitati Riquadro 1 - Obiettivi di sviluppo sostenibile (OSS) delle Nazioni Unite  \\nL'Italia sta compiendo progressi in relazione a tutti gli obiettivi di sviluppo sostenibile \\nconcernenti la competitività (OSS 4, 8 e 9) e la stabilità macroeconomica (OSS 8, 16 \\ne 17), sebbene i risultati complessivi continuino a essere inferiori alla media UE. In \\nparticolare, i risultati in termini di lavoro dignitoso e crescita economica (OSS 8) e di partenariati \\nglobali (OSS 17) tardano decisamente ad arrivare, principalmente a c ausa dei livelli di \\ninvestimento e del debito pubblico elevato.\", '601b09bc-7346-4e89-86ec-b2209e8ce154': \"In \\nparticolare, i risultati in termini di lavoro dignitoso e crescita economica (OSS 8) e di partenariati \\nglobali (OSS 17) tardano decisamente ad arrivare, principalmente a c ausa dei livelli di \\ninvestimento e del debito pubblico elevato. L'Italia presenta altresì risultati insufficienti in termini \\ndi innovazione, industria e infrastrutture resilienti (OSS 9), essendo caratterizzata da un minor \\nnumero di domande di brevetto, in frastrutture limitate per il trasporto merci e una percentuale \\ninferiore di famiglie che dispongono di internet ad alta velocità.  \\nL'Italia sta registrando miglioramenti per quanto riguarda la maggior parte degli OSS \\nrelativi alla sostenibilità (OSS 2, 7, 9 , 11, 12, 13, 14) e tutti quelli relativi all'equità \\nsociale (OSS 1, 3, 4, 5, 7, 8, 10), ma al contempo gli indicatori relativi all'acqua pulita \\ne ai servizi igienico -sanitari e alla vita sulla terra mostrano tendenze negative (OSS 6, \\n15). Il degrado dei s uoli sta peggiorando, l'impatto della siccità sugli ecosistemi sta aumentando \\ne le zone a rischio di grave erosione del suolo per azione dell'acqua si stanno espandendo \\n(OSS  15). Sebbene gli indicatori sanitari rimangano al di sopra della media UE e l'auto percezione \\ndello stato di salute sia leggermente migliorata, i tassi di obesità e l'uso di antibiotici sono in \\naumento (OSS 3) (cfr. allegato 15).\", '64d6c5ca-2e1c-4d8e-addf-d533099adeb2': \"69 investimenti azionari da parte del sistema \\npensionistico. Incoraggiare la creazione di regimi \\npensionistici complementari universali a \\ncapitalizzazione contribuirebbe positivamente a \\ngarantire: i) la sostenibilità e l'adeguatezza delle \\nprestazioni pensionistiche, ii) investimenti in azioni, \\niii) l'accesso ai finanziamenti, iv) la crescita e v) \\nl'innovazione.  \\nGli investitori istituzionali italiani possono \\nancora aumentare notevolmente il l oro \\ncontributo al finanziamento delle start -up. \\nUn documento del 2024 redatto dal Centro per gli \\nstudi politici europei ha dimostrato che, in media, i \\nfondi pensione italiani hanno contribuito per \\nil 10 % ai finanziamenti di private equity e di \\nventure cap ital raccolti annualmente tra il 2007 e \\nil 2023, una percentuale inferiore alla media UE e \\nnotevolmente al di sotto del 19  % registrato negli \\nStati baltici e della quota superiore al 20  % \\nattestata negli Stati membri del nord(121). Sebbene \\nnella prima metà del 2024 le risorse destinate ai \\nfondi di private equity provenissero principalmente \\nda assicuratori e fondi pensione italiani, solo \\nlo 0,5 % circa del portafoglio di investimenti \\ncomplessivo di tali assicuratori e fondi pensione è \\ninvestito in azioni non quotate.  \\nLa recente legge annuale in materia di \\nconcorrenza ha previsto nuovi incentivi per \\nalcuni tipi di fondi pensione affinché \\ninvestano in venture capital.  L'adozione della \\nlegge 16 dicembre 2024, n.  193 ha introdotto un \\nvincolo sugli investimenti in venture capital (122) \\nper i regimi pensionistici privati esistenti dei liberi \\nprofessionisti (casse di previdenza), al fine di \\nbeneficiare dell'esenzione fiscale prevista dalla \\nlegge 232/2016 sulle plusvalenze derivanti da \\ninvestimenti qualificati in azioni  e quote di \\norganismi di investimento collettivo. Si tratta di un \\nprimo passo per promuovere gli investimenti dei \\nfondi pensione in venture capital, ma sono \\nnecessarie ulteriori misure affinché gli assicuratori \\ne i fondi pensione possano familiarizzarsi \\nulteriormente con questa categoria di investimenti \\nattraverso strutture efficienti sotto il profilo dei \\n \\n(121) Cfr. Closing the gaping hole in the capital market for EU \\nstart-ups – the role of pension funds  – CEPS . \\n(122) Il regime pensionistico potrà beneficiare di sgravi fiscali se gli \\ninvestimenti in venture capital saranno almeno pari al 5  % \\ndal 2025 e al 10  % dal 2026 del paniere di investimenti \\nqualificati dell'anno precedente.  costi e soggette a controlli legati alla gestione dei \\nrischi.  \\nProfondità del capitale di rischio e del \\ncapitale di crescita  \\nL'ecosistema del venture capit al e del \\ncapitale di crescita è in espansione. Secondo \\nuna relazione sul mercato privato(123), dal 2013 \\nal 2023 i fondi di venture capital italiani hanno \\ndestinato 8 miliardi di EUR alle start -up, che sono \\ncresciute a un ritmo più rapido rispetto alla media  \\nUE. L'ecosistema italiano delle start -up è stimato a \\ncirca 67 miliardi di euro (valore d'impresa), \\nessendo cresciuto di venticinque volte negli ultimi \\n10 anni.\", '04419f83-3869-4c55-8930-318e563f389b': \"costi e soggette a controlli legati alla gestione dei \\nrischi.  \\nProfondità del capitale di rischio e del \\ncapitale di crescita  \\nL'ecosistema del venture capit al e del \\ncapitale di crescita è in espansione. Secondo \\nuna relazione sul mercato privato(123), dal 2013 \\nal 2023 i fondi di venture capital italiani hanno \\ndestinato 8 miliardi di EUR alle start -up, che sono \\ncresciute a un ritmo più rapido rispetto alla media  \\nUE. L'ecosistema italiano delle start -up è stimato a \\ncirca 67 miliardi di euro (valore d'impresa), \\nessendo cresciuto di venticinque volte negli ultimi \\n10 anni. A giugno 2024 le attività gestite dai fondi \\ndi investimento alternativi (FIA) non immobiliari \\nsuperavano i 50 miliardi di EUR, grazie alla \\ncrescita dei fondi di private equity, che \\nrappresentano quasi la metà delle attività.  \\nAllo stesso tempo, l'ecosistema del venture \\ncapital e del capitale di crescita è ancora \\nframmentato e non soddisfa pienamente le \\nesigenze di finanziamento delle start -up. Con \\nuna prevalenza di piccoli operatori, in Italia \\nl'offerta di venture capital non copre in misura \\nsufficiente tutte le fasi del ciclo di vita \\ndell'impresa, in particolare per quanto riguarda gli \\ninvestimenti i n fase avanzata. Ciò crea un deficit di \\nfinanziamento per le start -up di successo che \\ndesiderano espandersi. In Italia anche il quadro \\nrelativo all'azionariato dei dipendenti, un elemento \\nchiave per attrarre e trattenere i talenti, ottiene un \\npunteggio piu ttosto modesto rispetto a quello dei \\nquadri internazionali e di altri paesi dell'UE(124), il \\nche suggerisce la necessità di miglioramenti.  \\nDi recente sono state adottate modifiche \\nmirate al quadro giuridico a sostegno delle \\nstart -up. Come previsto dal piano per la ripresa e \\nla resilienza (PRR), l'ultima legge annuale in \\nmateria di concorrenza ha apportato modifiche \\nmirate al quadro legislativo globale in vigore \\n \\n(123) Cfr. State of Italian VC -relazione redatta da P101 in \\npartenariato con Dealroom - Scaleupitaly . \\n(124) Secondo le classifiche fornite dalla ca mpagna Not Optional , \\nin Italia il quadro relativo all'azionariato dei dipendenti \\nottiene punteggi inferiori rispetto a quelli dei quadri di paesi \\ncome gli Stati baltici, il Regno Unito e la Francia.\", '318f22f6-bb28-4d37-8c78-7c7ff19062a8': \"70 dal 2012 (legge sulle start -up), al fine di agevolare \\nla creazione e la crescita delle start -up. Tali \\nmodifiche includono: i) la revisione della \\ndefinizione di start -up e di incubatori, ii) la \\npossibilità di prorogare il periodo di validità di \\nalcuni benefici per le start -up, iii) un credito \\nd'imposta per incubatori e acceleratori registrati \\nsugli investimenti diretti o indiretti nel capitale \\ndelle start -up, iv) obblighi di visto agevolati per gli \\nstranieri che investono in start -up innovative o in \\nfondi di ven ture capital in Italia e v) l'estensione \\ndell'ambito di applicazione del fondo di garanzia \\nper le PMI al fine di fornire garanzie anche agli \\ninvestimenti in venture capital nelle start -up. \\nQueste azioni sono integrate da iniziative \\nguidate dallo Stato per fornire finanziamenti \\nalle start -up. La società CDP Venture Capital, di \\nproprietà statale, svolge un ruolo centrale nel \\nmercato italiano del venture capital, con  \\n3,35  miliardi di EUR di attività gestite e 13 fondi \\noperativi diretti o indiretti di venture c apital. \\nSecondo il suo piano aziendale 2024 -2028, \\nintende investire 2,2 miliardi di EUR in 50 -70 nuovi \\nfondi di venture capital. CDP Venture Capital \\ngestirà inoltre due fondi pubblici previsti \\nnell'ambito del piano per la ripresa e la resilienza, \\nossia il fondo per la transizione digitale \\n(400  milioni di EUR) e il fondo per la transizione \\nverde (250 milioni di EUR), che forniranno \\nsostegno azionario o quasi azionario alle start -up, \\ndirettamente o indirettamente.  \\nFinanziare la transizione verde  \\nLe obbligazioni verdi rappresentano una \\nquota crescente, sebbene ancora modesta, \\ndel totale delle obbligazioni in essere.  Il valore \\nnominale delle obbligazioni verdi, sociali e \\nsostenibili in essere in Italia alla fine d el 2023 \\nammontava a circa 90 miliardi di EUR. Si trattava \\nper la maggior parte di obbligazioni verdi e \\nsostenibili con un valore nominale di 80,7 miliardi \\ndi EUR, in netto aumento rispetto ai 54 miliardi \\ndi EUR dell'anno precedente, che tuttavia \\ncorrispond evano ancora solo al 2,5  % di tutte le \\nobbligazioni in essere, al di sotto della media della \\nzona euro del 4  %. Pi ù di recente, nel 2024 sono \\nstate emesse obbligazioni verdi per oltre \\n10,3  miliardi di EUR. Questa tendenza è proseguita \\nnei primi mesi del 20 25, con l'emissione di una \\nnuova obbligazione verde avente una scadenza di 20 anni e la riapertura mediante asta di \\nun'obbligazione già in essere (con scadenza 2031) \\nper un totale di quasi 7 miliardi di EUR. Le \\nobbligazioni emesse dallo Stato rappresentano  \\nil 45 % delle consistenze totali in essere; per \\nquanto riguarda le obbligazioni private, i maggiori \\nemittenti fanno parte del settore finanziario \\n(33 %) e di quello dei servizi pubblici (15  %). \\nAlfabetizzazione finanziaria  \\nLa recente introduzione dell'edu cazione \\nfinanziaria come materia scolastica potrebbe \\npromuovere ulteriormente l'alfabetizzazione \\nfinanziaria in Italia. L'alfabetizzazione \\nfinanziaria è fondamentale per promuovere la \\npartecipazione degli investitori al dettaglio ai \\nmercati dei capitali, m a anche per familiarizzare le \\nPMI con alternative al credito bancario.\", 'a6151d75-dba4-4404-8928-e1e007d5c184': \"Le \\nobbligazioni emesse dallo Stato rappresentano  \\nil 45 % delle consistenze totali in essere; per \\nquanto riguarda le obbligazioni private, i maggiori \\nemittenti fanno parte del settore finanziario \\n(33 %) e di quello dei servizi pubblici (15  %). \\nAlfabetizzazione finanziaria  \\nLa recente introduzione dell'edu cazione \\nfinanziaria come materia scolastica potrebbe \\npromuovere ulteriormente l'alfabetizzazione \\nfinanziaria in Italia. L'alfabetizzazione \\nfinanziaria è fondamentale per promuovere la \\npartecipazione degli investitori al dettaglio ai \\nmercati dei capitali, m a anche per familiarizzare le \\nPMI con alternative al credito bancario. La \\nstrategia nazionale per l'alfabetizzazione \\nfinanziaria è in atto dal 2017 e la legge sui \\nmercati dei capitali di recente adozione ha \\npermesso di introdurre l'educazione finanziaria n ei \\nprogrammi scolastici. La Banca d'Italia e la \\nCONSOB offrono nelle scuole attività \\nextracurricolari sull'alfabetizzazione finanziaria, \\ncompresa la formazione degli insegnanti. Il livello \\ndi alfabetizzazione finanziaria in Italia è in linea \\ncon la media U E. L'indagine Eurobarometro \\ndel 2023(125) mostra che il 18  % degli italiani ha \\nun elevato livello di alfabetizzazione finanziaria, \\nil 64 % un livello medio e il restante 19  % un \\nlivello basso, praticamente in linea con la \\nmedia  UE. \\n \\n(125) Fonte: Monitoring the level of financial literacy in the EU - \\nluglio 2023  - Indagine Eurobarometro .\", '6cc527cb-f08c-4910-867b-ec276bf7d779': \"71  \\nTabella  A5.1 - Indicatori finanziari  \\n  \\n(1) Dati su base annua  \\nI dati dell'UE sulla crescita del credito e sui fondi pensione si riferiscono alla media della zona euro.  \\nFonte:  BCE, ESTAT, EIOPA, quadro operativo dell'unione dei mercati dei capitali della DG FISMA , AMECO.  \\n \\n2017 2018 2019 2020 2021 2022 2023 2024-Q3 EU\\nTotal assets of MFIs (% of GDP) 213.0 206.4 206.3 230.4 216.2 198.7 178.4 177.2 248.4\\nCommon Equity Tier 1 ratio 13.4 12.9 13.9 15.5 15.1 15.2 15.5 15.9 16.6\\nTotal capital adequacy ratio 16.8 16.1 17.2 19.3 18.8 19.2 19.4 20.0 20.1\\nOverall NPL ratio (% of all loans) 11.2 8.4 6.7 4.5 3.5 2.9 2.7 2.8 1.9\\nNPL (% loans to NFC-Non financial corporations) 18.9 14.2 11.7 7.8 5.7 4.5 4.3 4.4 3.5\\nNPL (% loans to HH-Households) 9.2 6.5 5.1 4.0 3.6 2.8 2.6 2.6 2.2\\nNPL-Non performing loans coverage ratio 50.5 53.0 52.2 51.3 52.2 50.0 49.6 47.8 42.1\\nReturn on equity17.1 5.8 4.9 1.0 5.7 9.1 12.7 14.1 10.0\\nLoans to NFCs (% of GDP) 45.3 44.5 41.8 47.8 43.3 33.9 30.6 28.9 30.0\\nLoans to HHs (% of GDP) 37.7 37.6 37.7 41.4 38.7 34.6 32.1 31.2 44.5\\nNFC credit annual % growth 0.2 1.5 -1.8 8.5 1.7 -0.2 -3.7 -2.4 0.8\\nHH credit annual % growth 2.8 2.8 2.6 2.4 3.7 3.3 -1.3 -0.4 0.7\\nStock market capitalisation (% of GDP) 31.9 26.6 30.8 31.1 33.6 25.5 28.5 31.5 69.3\\nInitial public offerings (% of GDP) 0.12 0.13 0.17 0.05 0.30 0.20 0.23 - 0.05\\nMarket funding ratio 31.7 34.2 35.2 35.2 37.5 39.1 38.9 - 49.6\\nPrivate equity (% of GDP) 0.23 0.39 0.39 0.33 0.42 0.63 0.32 - 0.41\\nVenture capital (% of GDP) 0.01 0.01 0.01 0.02 0.02 0.04 0.03 - 0.05\\nFinancial literacy (composite) - - - - - - 43.5 - 45.5\\nBonds (as % of HH financial assets) 7.4 7.3 6.3 5.5 4.5 5.2 7.9 - 2.7\\nListed shares (as % of HH financial assets) 2.4 2.1 2.3 2.5 2.8 2.5 2.9 - 4.\", 'ca0853f2-67af-4c53-85d8-7de5310e7b07': '1 38.9 - 49.6\\nPrivate equity (% of GDP) 0.23 0.39 0.39 0.33 0.42 0.63 0.32 - 0.41\\nVenture capital (% of GDP) 0.01 0.01 0.01 0.02 0.02 0.04 0.03 - 0.05\\nFinancial literacy (composite) - - - - - - 43.5 - 45.5\\nBonds (as % of HH financial assets) 7.4 7.3 6.3 5.5 4.5 5.2 7.9 - 2.7\\nListed shares (as % of HH financial assets) 2.4 2.1 2.3 2.5 2.8 2.5 2.9 - 4.8\\nInvestment funds (as % of HH financial assets) 15.7 14.4 14.6 14.4 14.8 13.4 13.3 - 10.0\\nInsurance/pension funds (as % of HH financial assets) 21.9 22.9 23.4 23.6 22.0 19.8 19.3 - 27.8\\nTotal assets of all insurers (% of GDP) 52.8 51.3 56.5 65.2 60.9 48.7 49.4 49.8 54.8\\nPension funds assets (% of GDP) - - 8.4 9.7 9.3 8.2 8.3 8.9 23.4\\n1-3 4-10 11-17 18-24 25-27 Colours indicate performance ranking among 27 EU Member States.Banking sector Non-banks sector', '6d5ed219-cf32-4319-a4ff-e3fb76c048b0': \"ALLEGATO 6: QUADRO ISTITUZIONALE EFFICACE  \\n72 Il quadro istituzionale influenza la \\ncompetitività dell'Italia.  L'Italia si sta \\nadoperando per rendere più efficace il quadro \\nistituzionale e si sta concentrando fortemente sul \\nmiglioramento dei servizi pubblici digitali in linea \\ncon gli obiettivi del decennio digitale. La continua \\ndiffusione di tali servizi è fondame ntale. \\nNonostante i progressi compiuti, il sistema \\ngiudiziario deve ancora affrontare alcune sfide per \\nmigliorare la sua efficienza.  \\nPercezioni del pubblico  \\nGrafico  A6.1 - Fiducia nella giustizia, negli enti \\nregionali/locali e nella pubblica amministrazion e \\n  \\n(1) UE -27 dal 2019; in precedenza UE -28 \\nFonte:  indagini Eurobarometro standard  \\nLa fiducia dei cittadini nel governo è \\naumentata ed è in linea con la media UE  \\n(grafico A6.1). Tuttavia il governo è considerato \\nmeno affidabile del sistema giudiziario e degli enti \\nregionali e locali. Sebbene in tutto il paese vi sia \\nstato un miglioramento generale della qualità \\npercepita della pubblica amministrazione, \\npersistono disparità regionali(126). Alla domanda su \\ncome rafforzare la fiducia nella pubblica \\namministrazione italiana, il 61  % dei cittadini ha \\nsuggerito di ridurr e la burocrazia (media UE: 52  %) \\ne il 49  % ha chiesto funzionari pi ù qualificati e \\ndesidera semplificare le interazioni con \\n \\n(126) Inforegio - European Quality of Government Index . l'amministrazione (media UE: 30  %)(127). Il piano \\nnazionale per la ripresa e la resilienza (PNRR) ha \\ncontribuito a portare avanti le riforme \\namministrative. Molte misure hanno richiesto una \\nbuona cooperazione tra l'amministrazione centrale \\ne quella locale.  \\nQualità della legislazione e \\nsemplificazione normativa  \\nI risultati relativi all'elaborazione e alla \\nvalutazione della legislazione sono migliori \\nrispetto alla media UE.  Tuttavia tali risultati \\nsono leggermente peggiorati dal 2021. Nel \\ncomplesso è possibile rafforzare le norme che \\ndisciplinano la trasparenza delle valutazioni \\ndell'impatto normativo sia per il diritto prima rio \\nche per il diritto derivato (grafico A6.2). Vi è inoltre \\nun certo margine per potenziare ulteriormente i \\nmeccanismi di semplificazione normativa. Ad \\nesempio, nella valutazione del diritto primario non \\nè necessario confrontare l'impatto del \\nregolamento esistente con quello di opzioni \\nalternative ( tabella A6.1).  \\nGrafico  A6.2 - Indicatori relativi alla politica e \\ngovernance di regolamentazione  \\n  \\nFonte:  OCSE (2025), Regulatory Policy Outlook 2025  e Better \\nRegulation across the European Union 2025  (di prossima \\npubblicazione).  \\n \\n(127) Understanding Europeans' views on reform n eeds - aprile \\n2023 - indagine Eurobarometro , scheda informativa per \\npaese.\", 'e39997cc-59f0-4cc6-9d63-b320d5139edc': \"Vi è inoltre \\nun certo margine per potenziare ulteriormente i \\nmeccanismi di semplificazione normativa. Ad \\nesempio, nella valutazione del diritto primario non \\nè necessario confrontare l'impatto del \\nregolamento esistente con quello di opzioni \\nalternative ( tabella A6.1).  \\nGrafico  A6.2 - Indicatori relativi alla politica e \\ngovernance di regolamentazione  \\n  \\nFonte:  OCSE (2025), Regulatory Policy Outlook 2025  e Better \\nRegulation across the European Union 2025  (di prossima \\npubblicazione).  \\n \\n(127) Understanding Europeans' views on reform n eeds - aprile \\n2023 - indagine Eurobarometro , scheda informativa per \\npaese.  \\n00.10.20.30.40.50.60.7\\nAutumn\\nSpring\\nAutumn\\nSpring\\nAutumn\\nSpring\\nAutumn\\nSpring\\nAutumn\\nSpring\\nAutumn\\nSummer\\nWinter\\nSummer\\nWinter\\nSpring\\nAutumn\\nSpring\\nAutumn\\n2014 2015 2016 2017 2018 2019 2020 2022 2023 2024\\nJustice,  legal system EU27\\nJustice,  legal system IT\\nRegional or local public authorities EU27\\nRegional or local public authorities IT\\nGovernment  EU27\\nGovernment  IT\\n0,00,51,01,52,02,53,03,54,0\\nPrimary laws Subordinate\\nregulationsPrimary laws Subordinate\\nregulationsPrimary laws Subordinate\\nregulations\\nIT_Stakeholder\\nengagementIT_Regulatory Impact\\nAssessmentIT_Ex-post evaluation of\\nlegislation\\nMethodology Systematic adoption\\nTransparency Oversight and quality control\\n2021 EU-27\", '20274f42-e4bb-40d7-b757-08fd0f0b596d': \"73 Le riforme nell'ambito del piano per la \\nripresa e la resilienza mirano a semplificare \\nalmeno 600 procedure amministrative en tro \\ngiugno 2026 per quanto riguarda \\nl'interazione dei cittadini e delle imprese con \\nla pubblica amministrazione.  Le procedure \\nriguardano servizi in settori quali l'ambiente, \\nl'edilizia, la produzione, l'occupazione, il turismo, \\nl'agroalimentare, nonché set tori di interesse più \\ndiretto per i cittadini, quali i servizi di registrazione, \\nil sostegno alla disabilità e l'accesso ai servizi \\ndigitali.  \\nI decreti legge, che sono adottati dal governo \\ne che possono essere convertiti in legge dal \\nParlamento entro 60 giorni, rappresentano \\nancora oltre il 50  % della produzione \\nlegislativa italiana , il che riduce il ruolo \\nlegislativo del Parlamento. Ciò riflette la tendenza \\ndei governi, intensificatasi negli ultimi anni, a \\nricorrere ai decreti legge.  Dialogo sociale  \\nIn Italia, nonostante l'esistenza di \\nmeccanismi formali di consultazione, \\nl'influenza delle parti socia li \\nsull'elaborazione delle politiche rimane \\nlimitata. Le consultazioni avvengono attraverso \\ncolloqui informali prima dell'adozione degli atti \\nlegislativi e attraverso la partecipazione formale \\ndei cittadini alle audizioni delle commissioni \\nparlamentari. Le  parti sociali sono inoltre \\nrappresentate in seno al Consiglio nazionale \\ndell'economia e del lavoro (CNEL), un organo \\nconsultivo istituito dalla Costituzione. Nonostante \\nquesti meccanismi, il loro coinvolgimento resta \\nlimitato ed è ampiamente influenzato d al clima \\npolitico. Il dibattito pubblico e l'impatto legislativo \\ndel CNEL sono minimi. Il programma nazionale \\nGiovani, donne e lavoro 2021 -2027 sostiene il \\ndialogo sociale rafforzando la capacità delle parti \\nsociali e delle organizzazioni della società civ ile \\nattraverso una formazione specializzata. Sebbene i \\ndati ufficiali relativi alla densità possano essere \\nsovrastimati, i sindacati rappresentano una quota \\nsignificativa della forza lavoro. Tuttavia si sono  \\nTabella  A6.1 - Italia. Indicatori sulla riduzione degli oneri amministrativi e sulla semplificazione delle \\nprocedure amministrative  \\n  \\n(1) La tabella presenta un sottoinsieme di indicatori relativi alla politica e governance di regolamentazione incentrati sui costi \\nnormativi. Gli indicatori si riferiscono al diritto primario.  \\nFonte:  OCSE (2025), Regulatory Policy Outlook 2025  [https://doi.org/10.1787/56b60e39 -en] e Better regulation across the \\nEuropean Union 2025  (di prossima pubblicazione).  \\n \\nEx ante impact assessment of legislation Ex post evaluation of legislation\\nIdentify and assess the impacts of the baseline or \\n‘do nothing’ option.Is required to consider the consistency of regulations \\nand address areas of duplication.\\nIdentify and assess the impacts of alternative non-\\nregulatory options.Is required to contain an assessment of administrative \\nburdens.\\nQuantify administrative burdens of new \\nregulations.Is required to contain an assessment of substantive \\ncompliance costs.\\nQuantify substantial costs of compliance of new \\nregulations.Compares the impact of the existing regulation to \\nalternative options.\\nAssess macroeconomic costs of new regulations. Periodic ex post evaluation of existing regulations is \\nmandatory.\\nAssess the level of compliance.Government uses stock-flow linkage rules when \\nintroducing new regulations (e.g., one-in one-out).\\nIdentify and assess potential enforcement \\nmechanisms.A standing body has published an in-depth review of \\nspecific regulatory areas in the last 3 years.\", '450b562f-0a3f-403f-9851-522d24934fa9': 'Ex ante impact assessment of legislation Ex post evaluation of legislation\\nIdentify and assess the impacts of the baseline or \\n‘do nothing’ option.Is required to consider the consistency of regulations \\nand address areas of duplication.\\nIdentify and assess the impacts of alternative non-\\nregulatory options.Is required to contain an assessment of administrative \\nburdens.\\nQuantify administrative burdens of new \\nregulations.Is required to contain an assessment of substantive \\ncompliance costs.\\nQuantify substantial costs of compliance of new \\nregulations.Compares the impact of the existing regulation to \\nalternative options.\\nAssess macroeconomic costs of new regulations. Periodic ex post evaluation of existing regulations is \\nmandatory.\\nAssess the level of compliance.Government uses stock-flow linkage rules when \\nintroducing new regulations (e.g., one-in one-out).\\nIdentify and assess potential enforcement \\nmechanisms.A standing body has published an in-depth review of \\nspecific regulatory areas in the last 3 years.\\nIn the last 5 years, public stocktakes have invited \\nbusinesses and citizens to assess the effectiveness, \\nefficiency, and burdens of legislation.When developing new legislation, regulators are \\nrequired to …\\nY es /  For all primary laws For major primary laws For some primary laws No / Never', '496f7ae8-f4da-42f2-b4e5-3263aa1e988a': \"74 registrati ritardi nel rinnovo dei contratti \\ncollettivi(128). \\nEfficienza delle procedure \\namministrative selezionate  \\nIn Italia le procedure gestite dalla pubblica \\namministrazione richiedono spesso molto \\ntempo per essere completate.  Ad esempio, gli \\nindicatori dell'OCSE riguardanti la \\nregolamentazione dei  mercati dei prodotti \\nmostrano che in Italia il sistema di concessione \\ndelle licenze è in linea con la maggior parte delle \\nmigliori pratiche, ma non con tutte. Sebbene esista \\nun inventario online aggiornato dei permessi e \\ndelle licenze commerciali gestito dal governo, non \\nvi è alcun obbligo di riesaminarlo periodicamente \\nper determinare se i permessi e le licenze siano \\nancora necessari (cfr. allegato 4). Inoltre, secondo \\nuna relazione che monitora l'attuazione della \\nraccomandazione e degli orientamenti della \\nCommissione sull'accelerazione delle procedure \\nautorizzative per i progetti riguardanti le energie \\nrinnovabili e le relative infrastrutture(129), vi è un \\n \\n(128) Per un'analisi del coinvolgimento delle parti sociali a livello \\nnazionale nel semestre europeo e nel dispositivo per la \\nripresa e la resilienza, cfr. la relazione di Eurofound ( 2025), \\nNational -level social governance of the European Semester \\nand the Recovery and Resilience Facility . \\n(129) Commissione europea: Direzione generale dell'Energia, \\nMonitoring the implementation of the Commission \\nrecommendation and guidance on speeding up permit -\\ngranting procedures for renewable energy and related \\n certo margine per accelerare le procedure \\nnazionali destinate alla concessione di licenze per \\nprogetti in materia di energia rinnovabile. Inoltre, \\nper giungere a une decisione finale, in Italia \\nl'amministrazione aggiudicatrice necessita in \\nmedia di un periodo, che va dal termine ultimo per \\nla presentazione delle offerte fino alla data di \\naggiudicazione dell'appalto, pari a 176 giorni, \\nrispetto a una media UE di 99 giorni. Ciò genera \\nincertezza pe r le imprese. Accelerare le procedure \\ndi aggiudicazione degli appalti pubblici è uno degli \\nobiettivi della riforma degli appalti pubblici \\nprevista nel quadro del piano per la ripresa e la \\nresilienza.  \\nServizi pubblici digitali  \\nL'Italia sta compiendo passi avanti \\nnell'offrire la possibilità ai cittadini e alle \\nimprese di accedere online ai principali \\nservizi pubblici digitali, sebbene vi siano \\nancora margini di miglioramento  (tabella A4.2). \\nNel 2023 l'Italia ha ottenuto un punteggio pari \\na 68,3 relativamente alla disponibilità di servizi \\npubblici digitali per i cittadini, rispetto a una media \\nUE di 79,4. Per quanto riguarda la disponibilità di \\nservizi pubblici digitali per le imprese, sempre \\nnel 2023 ha ottenuto un punteggio pari a 76,3, \\nanch'esso inferiore alla media UE (85,4). Gl i sforzi \\nintrapresi attraverso il piano per la ripresa e la \\nresilienza dovrebbero migliorare nel complesso i \\n \\ninfrastructure projects – Final repor t, Ufficio delle \\npubblicazioni dell'Unione europea, 2025, link.\", '7c5e9b6f-d110-48ce-a2cd-64692f5c29ca': \"Nel 2023 l'Italia ha ottenuto un punteggio pari \\na 68,3 relativamente alla disponibilità di servizi \\npubblici digitali per i cittadini, rispetto a una media \\nUE di 79,4. Per quanto riguarda la disponibilità di \\nservizi pubblici digitali per le imprese, sempre \\nnel 2023 ha ottenuto un punteggio pari a 76,3, \\nanch'esso inferiore alla media UE (85,4). Gl i sforzi \\nintrapresi attraverso il piano per la ripresa e la \\nresilienza dovrebbero migliorare nel complesso i \\n \\ninfrastructure projects – Final repor t, Ufficio delle \\npubblicazioni dell'Unione europea, 2025, link.   \\n \\nTabella  A6.2 - Principali obiettivi del decennio digitale monitorati attraverso l'indice di digitalizzazione \\ndell'economia e della società  \\n  \\nFonte:  Relazione del 2024 sullo stato del decennio digitale  \\n \\nDigital Decade\\ntarget by 2030\\n2022 2023 2024 2024 EU-27\\nDigitalisation of public services\\n1 67 68 68 79 100\\nScore (0 to 100) 2021 2022 2023 2023 2030\\n2 79 75 76 85 100\\nScore (0 to 100) 2021 2022 2023 2023 2030\\n3 na 71 83 79 100\\nScore (0 to 100) 2021 2022 2023 2023 2030Digital public services for businesses\\nAccess to e-health recordsItaly EU-27\\nDigital public services for citizens\", 'a86f1908-6b69-4ebd-8149-3e9b1f430dcd': '75 risultati; al contempo l\\'accesso alle cartelle cliniche \\nelettroniche rappresenta un punto di forza per \\nl\\'Italia, che nel 2023 ha ottenuto un punteg gio \\ncomplessivo di 83 su 100 (mentre la media UE è \\npari a 79).  \\nIl ricorso all\\'identificazione elettronica è \\nrelativamente frequente in Italia.  In Italia \\nnel 2023 circa il 39  % delle persone ha riferito di \\naver utilizzato la propria identit à elettronica pe r \\naccedere ai servizi pubblici online, mentre il 47  % \\nl\\'ha utilizzata per accedere a servizi online a fini \\nprivati. Entrambi i dati sono superiori alla media \\nUE (rispettivamente il 36  % e il 41  %)(130). L\\'Italia \\ndispone di due sistemi di identificazione digitale \\ncertificata (lo SPID e la CIE) ampiamente utilizzati \\nnel paese e ha già iniziato a introdurre il \\nportafoglio informatico nazionale, facente parte \\ndel portafoglio di identità digitale dell\\'UE, che \\nconsentirà alle persone di richiede re, conservare e \\ncondividere in sicurezza documenti digitali \\nimportanti e di firmare o convalidare \\nelettronicamente i documenti(131). \\nL\\'Italia è ormai quasi pronta a scambiare in \\nmodo automatizzato e continuo documenti e \\ndati autentici in tutta l\\'UE: ha com pletato le \\nprime operazioni utilizzando il sistema tecnico una \\ntantum(132), facente parte dello sportello digitale \\nunico dell\\'UE, ed è pronta a fornire servizi per i \\ncittadini e le imprese. Tuttavia l\\'Italia non ha \\nancora istituito né notificato sistemi di \\nidentificazione elettronica per le persone giuridiche \\na norma del regolamento eIDAS(133). Ciò significa \\nche le imprese italiane non possono autenticarsi \\nper accedere ai servizi pubblici forniti da altri Stati \\nmembri, compresi quelli abilitati dal sistema \\ntecnico una tantum(134). \\nMigliorare ulteriormente i servizi digitali per \\ni cittadini è una priorità per l\\'Italia.  Le autorità \\nhanno avviato diverse iniziative per migliorare \\nl\\'esperienza digitale dei cittadini, tra cui il \\nperfezionamento del sistema pubblico di identità \\n \\n(130) Commissione europea. Decennio digitale 2024: Relazioni per \\npaese . \\n(131) Portafoglio di identità digitale dell\\'UE . \\n(132) Commissione europea, Once -Only Technical System \\nAcceleratormeter . \\n(133) Commissione europea, eIDAS Dashboard . \\n(134) Commissione europea, The Once Only Principle System:  A \\nbreakthrough for the EU\\'s Digital Single Market . digitale (SPID) e della carta d\\'identità elettronica \\n(CIE), nonché l\\'adozione di un portafoglio europeo \\ndi identità digitale, che sarà preceduto da una \\nversione italiana denominata \"IT -Wallet\". Inoltre \\nsono in fase di adozione sistemi di pagame nto \\ndigitali quali \"PagoPA\" e \"AppIO\", parallelamente \\nall\\'attuazione dell\\'\"Anagrafe nazionale della \\npopolazione residente\" (ANPR). Inoltre sono stati \\ncompiuti progressi significativi nello sviluppo di \\npiattaforme per la notifica digitale degli atti \\namminis trativi (SEND) e la digitalizzazione degli \\navvisi pubblici, e si è registrato un avanzamento \\ndell\\'innovazione tecnologica nel settore dei \\ntrasporti pubblici attraverso la creazione delle \\npiattaforme \"Mobility as a Service\" (MaaS).', '785a4037-757e-45c5-8c1d-f34cad0002ac': 'Inoltre \\nsono in fase di adozione sistemi di pagame nto \\ndigitali quali \"PagoPA\" e \"AppIO\", parallelamente \\nall\\'attuazione dell\\'\"Anagrafe nazionale della \\npopolazione residente\" (ANPR). Inoltre sono stati \\ncompiuti progressi significativi nello sviluppo di \\npiattaforme per la notifica digitale degli atti \\namminis trativi (SEND) e la digitalizzazione degli \\navvisi pubblici, e si è registrato un avanzamento \\ndell\\'innovazione tecnologica nel settore dei \\ntrasporti pubblici attraverso la creazione delle \\npiattaforme \"Mobility as a Service\" (MaaS). Tali \\nmisure permettono di  semplificare l\\'accesso ai \\nservizi e mirano a rendere più immediata e sicura \\nl\\'interazione con la pubblica amministrazione.  \\nFunzione pubblica  \\nIn Italia la forza lavoro della pubblica \\namministrazione è la più anziana dell\\'UE : \\ninfatti quasi il 53  % dei dipe ndenti pubblici ha \\nun\\'età superiore ai 49 anni(135). Ciò è stato in parte \\ncausato da un blocco decennale delle assunzioni, \\nche ha comportato anche una carenza di personale \\nnella pubblica amministrazione. La percentuale di \\ndonne che ricoprono posizioni dirig enziali nella \\nfunzione pubblica era del 38,8  %, ben al di sotto \\ndella media UE -27 del 46,5  %(136).  \\nAttualmente sono in corso iniziative volte a \\nfar fronte alle carenze di capacità.  Nel 2021, \\nnell\\'ambito del piano per la ripresa e la resilienza, \\nin Italia è  stato creato il portale del reclutamento \\ninPA al fine di semplificare il processo di \\nassunzione nel settore pubblico e di migliorarne la \\ntrasparenza. Queste iniziative hanno contribuito \\nanche a far ripartire le assunzioni nel settore \\npubblico, che nel 202 3 sono aumentate \\ndel 12,6  %, una crescita significativa rispetto \\nal 2022(137). L\\'Italia sta puntando a una maggiore \\nprofessionalità dei funzionari pubblici attraverso \\nuna combinazione di investimenti e riforme. Nel \\n \\n(135) Eurostat, 2025 , Indagine sulle forze di lavoro dell\\'Unione \\neuropea .  \\n(136) Istituto europeo per l\\'uguaglianza di genere (EIGE), link. \\n137)https://servizi2.inps.it/servizi/osservatoristatistici/api/getAllega\\nto/?idAllegato=1048 .', 'da95f951-fe1f-4a68-8ab2-b3ac9e92fea7': '76 gennaio 2025 il ministro per la Pubblica \\namministrazione ha adottato un decreto sulla \\nformazione e il potenziamento del capitale umano \\nal fine di sostenere lo sviluppo del personale del \\nsettore pubblico. Ciò permetterà di ampliare la \\ngamma di formazioni offerte dal dipartimento \\ndella fun zione pubblica, dalla Scuola nazionale \\ndell\\'amministrazione (SNA) e da Formez PA, come \\nla piattaforma di formazione \"Syllabus.gov.it\" \\ncreata nell\\'ambito del piano per la ripresa e la \\nresilienza. In quattro regioni italiane sono stati \\nistituiti quattro poli  di formazione dell\\'SNA, che \\nforniranno alle pubbliche amministrazioni locali \\nuna formazione avanzata su temi pertinenti e \\nstrategici. Circa 20 milioni di EUR sono stati \\nassegnati direttamente alle amministrazioni per \\nsostenere programmi di formazione prof essionale.  \\nIntegrità  \\nUna percentuale molto più elevata di imprese \\nrispetto alla media UE ritiene che la \\ncorruzione sia diffusa e che costituisca un \\nproblema per l\\'attività imprenditoriale. In \\nItalia l\\'83  % delle aziende reputa che la corruzione \\nsia diffusa  (media UE: 64  %), mentre il 50  % \\nritiene che sia un problema per l\\'attività \\nimprenditoriale (media UE: 36  %)(138). Tuttavia \\nil 32 % delle imprese ritiene che le persone e le \\naziende accusate di aver corrotto un alto \\nfunzionario siano adeguatamente punite, in linea \\ncon la media UE (31  %)(139). Inoltre quello degli \\nappalti pubblici continua a essere considerato da \\nmolti portatori di interessi un settore soggetto a \\nun alto rischio di corruzione(140). L\\'83  % delle \\nimprese (media UE: 27  %) ritiene che la corruzion e \\nabbia impedito loro di vincere un appalto pubblico \\no di aggiudicarsi un contratto negli ultimi tre \\nanni(141). La digitalizzazione, a partire \\ndal 1º gennaio 2024, dell\\'intero ciclo di vita di tutti \\ni contratti di appalto o di concessione ai sensi del \\nnuovo  codice degli appalti pubblici dovrebbe \\n \\n(138) Eurobarometro Flash 543 sull\\'atteggiamento delle imprese \\nnei confronti della corruzione nell\\'UE (2024).  \\n(139) Ibidem.  \\n(140) Relazione sullo Stato di diritto 2024 - Capitolo sulla \\nsituazione dello Stato di diritto in Italia, pag.  22. \\n(141) Eurobarometro Flash 5 43 sull\\'atteggiamento delle imprese \\nnei confronti della corruzione nell\\'UE (2024).  garantire una maggiore trasparenza degli \\nstessi(142). \\nNon esistono norme esaustive in materia di \\nlobbying per i parlamentari. Come per la \\nmaggior parte degli Stati membri, l\\'Italia ha \\nintrodotto norme in materia di lobbying. Tuttavia \\nnon esiste una definizione precisa di lobbista né vi \\nsono norme che disciplinino le relazioni e i contatti \\ntra parlamentari e lobbisti(143). Ciò potrebbe \\ncontribuire a garantire condizioni di parità per \\nl\\'accesso delle imprese ai responsabili politici. In \\nnessuna delle due camere i disegni di legge \\nriguardanti le attività di lobbying presentati sono \\nstati oggetto di discussione parlamentare. Inoltre il \\ndisegno di legge sui conflitti di interesse è in \\nattesa di adozione da parte del parlamento(144).', '0ea15410-d407-4bb3-aee9-10b7c56617c2': \"Come per la \\nmaggior parte degli Stati membri, l'Italia ha \\nintrodotto norme in materia di lobbying. Tuttavia \\nnon esiste una definizione precisa di lobbista né vi \\nsono norme che disciplinino le relazioni e i contatti \\ntra parlamentari e lobbisti(143). Ciò potrebbe \\ncontribuire a garantire condizioni di parità per \\nl'accesso delle imprese ai responsabili politici. In \\nnessuna delle due camere i disegni di legge \\nriguardanti le attività di lobbying presentati sono \\nstati oggetto di discussione parlamentare. Inoltre il \\ndisegno di legge sui conflitti di interesse è in \\nattesa di adozione da parte del parlamento(144).  \\nGiustizia  \\nNonostante i progressi conseguiti, \\nl'efficienza del sistema giudiziario continua a \\nessere messa a dura prova, in particolare per \\nla durata dei procedimenti giudiziari.  I tempi \\ndi trattazione delle cause civili e commerciali negli \\norgani giurisdizionali di primo grado sono \\nulteriormente diminuiti (da 540 giorni nel 2022 \\na 511 giorni nel 2023), sebbene siano ancora \\nmolto lunghi, mentre i tempi di trattazione delle \\ncause a mministrative in primo grado sono \\nleggermente aumentati (da 574 giorni nel 2022 \\na 595 giorni nel 2023), invertendo così la tendenza \\nal ribasso. La qualità del sistema giudiziario è \\nconsiderata complessivamente buona. Il livello di \\ndigitalizzazione è genera lmente avanzato, ma vi è \\nun certo margine di miglioramento per quanto \\nriguarda la digitalizzazione degli organi \\ngiurisdizionali penali e dei servizi delle procure. Per \\nquanto riguarda l'indipendenza della magistratura, \\nnon sono state segnalate carenze sist emiche(145). \\n \\n(142) Relazione sullo Stato di diritto 2024 - Capitolo sulla \\nsituazione dello Stato di diritto in Italia, pag.  22. \\n(143) Ibidem., pagg. 19 -20. \\n(144) Ibidem., pagg. 18 -20. \\n(145) Per un'analisi più dettagliata delle prestazioni del sistema \\ngiudiziario in Italia, cfr. il quadro di valutazione UE della \\ngiustizia 2025 di prossima pubblicazione e la relazione sullo \\nStato di diritto 2024.\", '80515a8a-a1fe-4e53-8027-8792e00f1bab': \"SOSTENIBILITÀ  \\n ALLEGATO 7: INDUSTRIA PULITA E MITIGAZIONE DEI CAMBIAMENTI CLIMATICI  \\n77 L'Italia si trova ad affrontare sfide \\nsignificative per quanto riguarda la \\ntransizione verso un'industria pulita e la \\nmitigazione dei cambiamenti climatici.  \\nSebbene l'Itali a sia leader nel settore delle \\ntecnologie pulite, la transizione verso i veicoli \\nelettrici è in ritardo rispetto alla media UE e \\ndipende fortemente dalle importazioni di materie \\nprime critiche, e ciò la rende vulnerabile alle \\nperturbazioni della catena di approvvigionamento. \\nNel settore manifatturiero le emissioni di gas a \\neffetto serra legate all'energia sono superiori alla \\nmedia UE, il che evidenzia la necessità di adottare \\nmisure di decarbonizzazione più efficaci. Sebbene \\nsi osservino progressi nelle pra tiche relative \\nall'economia circolare, persistono disparità \\nregionali nella gestione dei rifiuti e sono necessari \\nmaggiori investimenti per favorire la transizione \\ndell'Italia verso la circolarità. Il presente allegato \\nesamina i settori che meritano un'att enzione \\nimmediata nel quadro della transizione dell'Italia \\nverso l'industria pulita e della mitigazione dei \\ncambiamenti climatici, prendendo in \\nconsiderazione le diverse dimensioni.  \\nAutonomia strategica e tecnologie per \\nla transizione verde   \\nIndustria a ze ro emissioni nette  \\nL'Italia è uno dei paesi leader europei nel \\nsettore delle tecnologie pulite, essendo \\ndotata di un numero significativo di impianti \\ndi produzione di energia solare fotovoltaica \\ned eolica(146). Inoltre partecipa ampiamente agli \\nimportanti progetti di comune interesse europeo \\n(IPCEI) avviati per le batterie e l'idrogeno. La \\ncapacità produttiva dell'Italia è compresa tra i 2,7 \\ne i 2,8  GW/anno (14  % della capacit à dell'UE) per \\nl'energia solare fotovoltaica, con una capacità \\nequamente distribuita tra moduli (1,2 -1,3 GW) e \\ncelle (1,5  GW), e tra i 3,5 e i 3,8  GW/anno \\n(4 % della capacità dell'UE) per l'energia eolica. Ciò \\ncomprende una capacità di circa 1 -1,1 GW per le  \\ntorri e di 2,5 -2,7 GW per le pale, nonch é una \\n \\n(146) Commissione europea: Direzione generale dell'Energia, The \\nnet-zero manufacturing industry landscape across the \\nMember States , 2025, link. capacit à compresa tra i 310 e i 325  MW/anno \\n(5-6 % della capacit à dell'UE) per gli \\nelettrolizzatori e tra i 200 e 350  MWh/anno (una \\nquota trascurabile della capacit à totale dell'UE) \\nper le batterie e le tecnol ogie di stoccaggio. L'Italia \\nospita inoltre almeno 50 fabbriche specializzate \\nnella produzione di pompe di calore, diversificando \\nulteriormente il suo portafoglio manifatturiero. È \\nanche leader a livello mondiale e dell'UE nella \\nproduzione di cavi e sistem i per la trasmissione e \\nla distribuzione di energia elettrica, in gran parte \\ngrazie alla presenza del gruppo Prysmian nel \\npaese.  \\nL'Italia sta inoltre investendo nella \\nproduzione e nella diffusione sostenibili del \\ngas. Le linee guida preliminari per la stra tegia \\nnazionale sull'idrogeno sottolineano la necessità di \\naumentare la produzione di elettrolizzatori.\", 'd6f05a83-62a2-42e7-91e5-520f82f7dd8f': 'L\\'Italia \\nospita inoltre almeno 50 fabbriche specializzate \\nnella produzione di pompe di calore, diversificando \\nulteriormente il suo portafoglio manifatturiero. È \\nanche leader a livello mondiale e dell\\'UE nella \\nproduzione di cavi e sistem i per la trasmissione e \\nla distribuzione di energia elettrica, in gran parte \\ngrazie alla presenza del gruppo Prysmian nel \\npaese.  \\nL\\'Italia sta inoltre investendo nella \\nproduzione e nella diffusione sostenibili del \\ngas. Le linee guida preliminari per la stra tegia \\nnazionale sull\\'idrogeno sottolineano la necessità di \\naumentare la produzione di elettrolizzatori. Il piano \\nper la ripresa e la resilienza sostiene investimenti \\nsignificativi nella produzione di idrogeno in aree \\nindustriali dismesse (le cosiddette \"hy drogen \\nvalleys\").  \\nIl piano nazionale per la ripresa e la \\nresilienza sostiene lo sviluppo di tecnologie a \\nzero emissioni nette.  Ad esempio, ha stanziato \\n3,5 miliardi di EUR per sostenere gli investimenti \\nnecessari per promuovere la transizione verso \\nun\\'econ omia a zero emissioni nette, in particolare \\nle imprese che producono batterie, pannelli solari, \\nturbine eoliche, pompe di calore, elettrolizzatori, \\ndispositivi per la cattura e lo stoccaggio del \\ncarbonio, nonché componenti chiave progettati e \\nutilizzati pr incipalmente come fattori di produzione \\ndiretti. L\\'Italia ha inoltre introdotto un regime di \\naiuti di Stato a sostegno di investimenti nei sistemi \\ndi stoccaggio.  \\nL\\'Italia beneficia inoltre di un quadro \\nstrategico favorevole all\\'incremento della \\nproduzione  di tecnologie a zero emissioni \\nnette.  È stato istituito uno sportello unico a livello \\ncomunale specializzato nella concessione di \\nautorizzazioni industriali. Infine il \"Fondo nuove \\ncompetenze\" prevede il miglioramento del livello \\ndelle competenze e la riq ualificazione nelle \\ntecnologie a zero emissioni nette. Un regime di \\nfondi più limitato mira altresì a favorire la \\nproduzione di elettrolizzatori e gli investimenti \\nsostenibili nelle PMI. Inoltre alcune misure \\nlegislative sostengono la produzione di biogas e di', '0080ba30-5dd5-4dc7-96e5-19a1c1af060a': \"78 biometano e disciplinano lo stoccaggio geologico \\npermanente di CO 2.  \\nTrasformare l'industria automobilistica  \\nNonostante la sua notevole importanza \\neconomica, l'industria automobilistica \\nitaliana ha dovuto far fronte a un calo dei \\nvolumi di produzione . In Italia l'industria \\nautomobilistica rappresenta il 4,3  % dei posti di \\nlavoro nel settore manifatturiero (al di sotto della \\nmedia UE dell'8,1  % nel 2022), impiegando \\ndirettamente circa 165  000 persone. Nel 2023 in \\nItalia sono stati prodotti circa 871  000 veicoli (di \\ncui circa i due terzi erano autovetture) \\nin 24 impianti diversi (otto dei quali specializzati in \\nveicoli elettrici a batteria)(147), ben al di sotto del \\nvalore del 2018, quando le unità prodotte hanno \\nsuperato il milione.  \\nIl settore sta attualmente affrontando \\ntrasformazioni significative, in particolare la \\ntransizione verso i veicoli elettrici.  Il 40  % \\ndelle oltre 2  000 imprese del settore è \\nspecializzato principalmente nella produzione di \\nparti per motori a combustione interna(148). Inol tre \\ni fornitori italiani sono in media di piccole \\ndimensioni (impiegando in media 46 dipendenti, \\nrispetto agli oltre 100 delle imprese ceche, \\npolacche e tedesche) e incontrano maggiori \\ndifficoltà nel realizzare gli ingenti investimenti \\nnecessari per garant ire l'innovazione dei prodotti o \\nla riconversione industriale(149). Infine il sistema \\nautomobilistico italiano è esposto alle scelte di \\nalcune grandi imprese(150) nelle vendite ai \\nproduttori tedeschi e, in misura minore, francesi, in \\nun contesto europeo in c ui si assiste alla \\ncontrazione della produzione e delle vendite e \\nall'aumento dei prezzi dell'energia elettrica.  \\nLa transizione dell'Italia verso i veicoli \\nelettrici è in ritardo rispetto alla media UE.  Il \\ntasso di motorizzazione dell'Italia (numero di \\nautovetture per mille abitanti) è pari a 694, il più \\n \\n(147) Associazione dei costruttori europei di automobili (ACEA), \\n2024, The Automobile Industry Pocket Guide 2024/2025 . \\n(148) Associazione Nazionale Filiera Industria Automobilistica \\n(ANFIA), Osservatorio sulla componentistica, 2023, link. \\n(149) Eurostat, statistiche strutturali sulle imprese, con riferimento \\nal 2022.  \\n(150) Ad esempio, gli ordini di Stella ntis, l'unico produttore \\noperante in Italia, che rappresentano oltre il 50  % del \\nfatturato di un terzo dei fornitori.  elevato dell'UE nel 2023 (la media UE è pari \\na 570). Tuttavia la percentuale di autovetture \\nnuove a emissioni zero vendute nel 2023 è ancora \\ndel 4,2  %, ben al di sotto della media UE \\ndel 14,5  % nel 2023.  \\nMaterie prime critiche   \\nIl settore minerario italiano ha registrato un \\ncalo significativo (151), il che ha aumentato la \\ndipendenza del paese dai minerali provenienti da \\naltre parti del mondo, in particolare da Cina, Africa, \\nIndia e Sud America. Tuttavia le fon ti dell'Italia \\nsono ben diversificate, come misurato dall'indice \\ndelle dipendenze strategiche dalle materie prime \\nnel 2023, uno dei livelli più bassi dell'UE(152).\", 'be6aaad3-ad7d-4ea1-9d32-3b2c1e16eb3e': \"Tuttavia la percentuale di autovetture \\nnuove a emissioni zero vendute nel 2023 è ancora \\ndel 4,2  %, ben al di sotto della media UE \\ndel 14,5  % nel 2023.  \\nMaterie prime critiche   \\nIl settore minerario italiano ha registrato un \\ncalo significativo (151), il che ha aumentato la \\ndipendenza del paese dai minerali provenienti da \\naltre parti del mondo, in particolare da Cina, Africa, \\nIndia e Sud America. Tuttavia le fon ti dell'Italia \\nsono ben diversificate, come misurato dall'indice \\ndelle dipendenze strategiche dalle materie prime \\nnel 2023, uno dei livelli più bassi dell'UE(152). \\nIl settore manifatturiero italiano dipende \\nfortemente dalle importazioni delle materie \\nprime critiche necessarie per le transizioni \\nverde e digitale , come il litio, il cobalto e le terre \\nrare, essenziali per la realizzazione di prodotti ad \\nalta tecnologia, tra cui veicoli elettrici, turbine \\neoliche e dispositivi elettronici. Tale fattore genera \\nsfide significative in termini di sostenibilità e \\nresilienza, come rischi per la catena di \\napprovvigionamento, degrado ambientale e \\npreoccupazioni sociali. Dato che nel 2022 è stato \\nimportato il 48  % dei materiali impiegati come \\nfattori produttivi d al settore manifatturiero (media \\nUE: 22  %), l'Italia è particolarmente vulnerabile \\nalle perturbazioni della catena di \\napprovvigionamento(153).  \\nLe autorità italiane stanno compiendo passi \\navanti verso una maggiore autonomia \\nstrategica.  Nel giugno 2024 il go verno italiano ha \\napprovato un decreto volto a garantire la sicurezza \\ndell'approvvigionamento di materie prime critiche, \\nin linea con la normativa dell'UE sulle materie \\n \\n(151) La produzione italiana di minerali è stata pari a 12,9 milioni \\ndi tonnellate nel 2022, ossia il 5,6  % in più rispetto al 2021, \\nma meno  della metà del massimo storico di 26 milioni di \\ntonnellate raggiunto nel 2009 (fonte: World Mining Data, \\n2024).  \\n(152) Quadro di valutazione del mercato unico 2024. La \\nconcentrazione significativa misura quanto un paese dipende \\nda un numero limitato di font i per un paniere di materie \\nprime critiche.  \\n(153) Circular Economy Network, 2025, 7º rapporto sull'economia \\ncircolare in Italia, link, pag.  20.\", 'f01729c5-7dad-4abb-aa18-3c3259bc51c2': \"7 incentivi alla commercializzazione della ricerca \\ne di accrescerne il potenziale innovativo. \\nSarebbe altresì fondamentale promuovere gli \\ninvestimenti nelle tecnologie innovative e nel \\ntrasferimento di tecnologie, in particolare per \\nle PMI, razionalizzare gli incentivi alle imprese \\na favore d i ricerca, sviluppo e innovazione, \\nnonché investire in tecnologie critiche \\nattraverso la piattaforma per le tecnologie \\nstrategiche per l'Europa (STEP). Infine, \\ndovrebbe essere ulteriormente migliorato il \\nruolo degli uffici di trasferimento tecnologico \\nnel consentire la valorizzazione delle \\nconoscenze e quello degli appalti pubblici nello \\nstimolare l'innovazione.  \\nIn tutto il paese persiste un forte divario \\nin termini di produttività, anche a causa \\ndella minore specializzazione del Sud in \\nsettori innovativi.  La convergenza della \\ncrescita post -Covid del Sud Italia è attribuibile \\nprincipalmente ai settori edile e dei servizi, \\nmentre permangono notevoli divari \\nnell'industria. Quest'ultima risente anche del \\ndeclino dei settori automobilistico e delle \\nraffinerie d i petrolio. Manca una definizione \\nchiara e strategica della politica industriale, sia \\nal Sud che a livello nazionale.  \\nL'evasione fiscale rimane elevata, così \\ncome il carico fiscale sul lavoro. Nel 2024 \\nil cuneo fiscale sul lavoro continua a essere \\nnotevol mente al di sopra della media UE. \\nL'evasione fiscale rimane elevata, nonostante \\nle ambiziose contromisure adottate negli \\nultimi anni. Permangono altre inefficienze nel \\nsistema fiscale, ad esempio a livello di spesa \\nfiscale.  \\nIl settore manifatturiero italia no dipende \\nfortemente dalle importazioni di materie \\nprime critiche. L'Italia è inoltre fortemente \\ndipendente dall'importazione di \\nsemiconduttori, necessari per le transizioni \\nverde e digitale. Dato che un'elevata \\npercentuale dei materiali impiegati nel set tore \\nmanifatturiero è importata, l'Italia è \\nparticolarmente vulnerabile alle perturbazioni \\ndella catena di approvvigionamento.  \\nI prezzi elevati dell'energia elettrica \\nindeboliscono la competitività industriale.  \\nI prezzi all'ingrosso dell'energia elettrica in Italia sono notevolmente più elevati rispetto ai \\npaesi ad essa comparabili. Ciò è dovuto \\nprincipalmente al mix dell'energia elettrica e \\nalla composizione dei prezzi finali.  \\nL'Italia è uno degli Stati membri dell'UE \\nmaggiormente esposti ai rischi climati ci. I \\ncosti annuali dei cambiamenti climatici per le \\ninfrastrutture in Italia sono elevati. Le PMI \\nsono particolarmente vulnerabili e gli eventi \\nlegati al clima hanno un impatto significativo \\nsulla loro produttività e competitività.  \\nNonostante le misure at tuate negli ultimi \\nanni, l'Italia deve far fronte a un \\nsignificativo squilibrio strutturale tra \\ndomanda e offerta di competenze.  \\nSebbene le azioni sostenute mediante il \\ndispositivo per la ripresa e la resilienza \\nabbiano ampliato l'offerta di competenze ver di \\ne digitali, l'Italia presenta uno dei livelli più \\nelevati di squilibrio tra domanda e offerta di \\ncompetenze nell'UE. Settori quali l'edilizia, \\nl'assistenza sanitaria e le TIC si trovano ad \\naffrontare problematiche relative alle \\nassunzioni, anche se il t asso di posti di lavoro \\nvacanti non riflette una diffusa carenza di \\nmanodopera.\", 'd86b7319-286f-44d2-be07-f2e1dfc4c5d1': \"Nonostante le misure at tuate negli ultimi \\nanni, l'Italia deve far fronte a un \\nsignificativo squilibrio strutturale tra \\ndomanda e offerta di competenze.  \\nSebbene le azioni sostenute mediante il \\ndispositivo per la ripresa e la resilienza \\nabbiano ampliato l'offerta di competenze ver di \\ne digitali, l'Italia presenta uno dei livelli più \\nelevati di squilibrio tra domanda e offerta di \\ncompetenze nell'UE. Settori quali l'edilizia, \\nl'assistenza sanitaria e le TIC si trovano ad \\naffrontare problematiche relative alle \\nassunzioni, anche se il t asso di posti di lavoro \\nvacanti non riflette una diffusa carenza di \\nmanodopera.  \\nI contratti atipici continuano a essere \\ndiffusi in Italia, unitamente alla \\nstagnazione della crescita delle \\nretribuzioni associata a una bassa \\nintensità di lavoro. Sebbene sia \\nrecentemente diminuita, la percentuale di \\nlavoratori a tempo determinato in Italia \\nrimane tra le più elevate dell'UE. Il lavoro a \\ntempo determinato è più diffuso tra i gruppi \\nvulnerabili. Gran parte del lavoro a tempo \\nparziale è di natura involontaria. La crescita \\nstrutturalmente bassa della produttività del \\nlavoro in Italia limita la crescita delle \\nretribuzioni. Per questi motivi, i rischi di \\npovertà lavorativa sono aumentati e sono \\nparticolarmente elevati tra i lavoratori a tempo \\nparziale e a tempo determ inato.\", '4af28b73-6098-4fa0-a6cb-0f2f88a26fe7': '79 prime critiche. La nuova normativa prevede \\nprocedure di autorizzazione più semplici per  il \\nrilascio delle concessioni minerarie e mira ad \\nattrarre investimenti privati nel settore(154). \\nL\\'Italia sta attuando politiche volte a \\nrafforzare le catene di approvvigionamento e \\nfavorire l\\'adozione di soluzioni circolari per \\nle materie prime critiche.  A seguito \\ndell\\'adozione della normativa dell\\'UE sulle materie \\nprime critiche, il principale quadro normativo \\nitaliano relativo alle materie prime critiche è il \\ndecreto legislativo 84/2024, che disciplina \\nl\\'approvvigionamento sicuro e sostenibile di \\nmateri e prime strategiche. Inoltre la legge \\n27 dicembre  2023, n.  206 istituisce un \"Fondo \\nnazionale per il Made in Italy\" per investire nelle \\ncatene di approvvigionamento strategiche \\nnazionali, comprese quelle relative \\nall\\'approvvigionamento, al riciclaggio e al  riutilizzo \\ndelle materie prime strategiche. Il Fondo disponeva \\ndi una dotazione iniziale di 700 milioni di EUR per \\nil 2023 e della stessa dotazione per il 2024. Infine \\nil piano per la ripresa e la resilienza sostiene il \\nprogetto URBES ( URBan mining and Ex tractive \\nWaste Information System ), che mira alla \\nrilevazione e alla caratterizzazione di tutte le \\npotenziali fonti secondarie in termini di materie \\nprime critiche, a partire dai rifiuti di estrazione \\nabbandonati.  \\nIl tasso di riciclaggio dei rifiuti elettronici, \\nche rappresentano una fonte fondamentale \\ndi materie prime critiche, è superiore alla \\nmedia UE , essendosi attestato all\\'88,9  % \\nnel 2021. Il tasso di riutilizzo e riciclaggio dei \\nveicoli fuori uso è leggermente inferiore alla media \\nUE (pari all\\' 86 % contro l\\'89  % nel 2022). Ci ò \\nevidenzia la necessit à di evitare la perdita di \\nmaterie prime critiche, in particolare con il \\npassaggio dell\\'industria automobilistica ai veicoli \\nelettrici a batteria.  \\n \\n(154) Per i nuovi progetti minerari che comportano la \\ntrasformazione di materie prime critiche, i titolari di \\nconcessioni minerarie dovranno pagare allo Stato una royalty \\nper i prodotti compresa tra il 5  % e il 7  %. Tali fondi saranno \\nassegnati  al Fondo nazionale per il Made in Italy per \\nsostenere gli investimenti nella catena di \\napprovvigionamento delle materie prime critiche.  Mitigazione dei cambiamenti \\nclimatici   \\nDecarbonizzazione dell\\'industria  \\nIl settore manifatturiero italiano presenta un \\nlivello di intensità delle emissioni di gas a \\neffetto serra analogo a quello dell\\'UE nel suo \\ncomplesso, ma la sua quota di emissioni \\nlegate all\\'energia è notevolmente più \\neleva ta. Circa il 22  % delle emissioni totali di gas \\na effetto serra dell\\'Italia proviene dal settore \\nmanifatturiero, come avviene nel complesso \\ndell\\'UE(155). Nel 2022 la produzione industriale in \\nItalia ha causato l\\'emissione di 270  g di CO2eq di \\ngas a effetto serra per euro di valore aggiunto \\nlordo (VAL), in linea con la media UE. Dal 2017 \\nl\\'intensità delle emissioni di gas a effetto serra \\ndell\\'industria manifatturiera italiana è diminuita \\nsolo del 4  %, ben al di sotto della media UE \\n(20 %).', 'c3beb6ea-6bfc-4bbd-a6ad-4944bf5d4295': 'Circa il 22  % delle emissioni totali di gas \\na effetto serra dell\\'Italia proviene dal settore \\nmanifatturiero, come avviene nel complesso \\ndell\\'UE(155). Nel 2022 la produzione industriale in \\nItalia ha causato l\\'emissione di 270  g di CO2eq di \\ngas a effetto serra per euro di valore aggiunto \\nlordo (VAL), in linea con la media UE. Dal 2017 \\nl\\'intensità delle emissioni di gas a effetto serra \\ndell\\'industria manifatturiera italiana è diminuita \\nsolo del 4  %, ben al di sotto della media UE \\n(20 %). La quota italiana d i emissioni di gas a \\neffetto serra legate all\\'energia prodotte \\ndall\\'industria (rispetto alle emissioni legate ai \\nprocessi industriali e all\\'uso dei prodotti), pari a \\noltre i due terzi nel 2023, è la più elevata dell\\'UE, \\ndove tale quota si attesta complessi vamente \\nal 57 %.  \\nIl settore manifatturiero italiano presenta \\nuna minore intensità di emissioni legate ai \\nprocessi e all\\'uso dei prodotti rispetto all\\'UE \\nnel suo complesso(156). Tra il 2017 e il 2022 \\n \\n(155) Nel 2023. Il settore manifatturiero comprende tutte le \\ndivisioni della sezione \"C\" della classificazione statistica  delle \\nattività economiche NACE Rev. 2. Nel resto della presente \\nsezione, salvo indicazione contraria, i dati relativi all\\'industria \\nmanifatturiera si riferiscono alle divisioni della sezione C \\ndella NACE esclusa la divisione C19 (Fabbricazione di coke e \\nprodotti derivanti dalla raffinazione del petrolio) e \\nall\\'anno  2022. Eurostat è la fonte da cui sono tratti tutti i \\ndati presenti in questa sezione; i dati che seguono il quadro \\ncomune in materia di comunicazione ( Common Reporting \\nFramework  (CRF)) dell\\'UNFC CC provengono dall\\'Agenzia \\neuropea dell\\'ambiente (AEA) e sono stati ripubblicati da \\nEurostat.  \\n(156) Per quanto riguarda l\\'intensità delle emissioni di gas a \\neffetto serra del VAL legate rispettivamente all\\'uso di \\nenergia, ai processi industriali e all\\'uso de i prodotti, le \\nemissioni di gas a effetto serra derivano dai dati di \\ninventario in linea con il quadro comune in materia di \\ncomunicazione (CRF) dell\\'UNFCCC, in particolare per quanto \\nriguarda i settori cui appartengono le fonti CRF.1.A.2 – \\ncombustione di c ombustibili nel settore manifatturiero e \\nnell\\'edilizia e CRF.2 – processi industriali e uso dei prodotti. I \\ndati CRF.1.A.2 corrispondono sostanzialmente ai settori C ed', '495ccc7c-32ab-4bc6-8784-8bd94a315af8': '80 l\\'intensità delle emissioni di gas a effetto serra \\nlegate  all\\'energia prodotte dall\\'industria \\nmanifatturiera italiana è diminuita del 13  %, \\nattestandosi a 135  g di CO2eq per euro di VAL, un \\nvalore simile alla media UE. Nello stesso periodo \\nl\\'intensità delle emissioni legate ai processi e \\nall\\'uso dei prodotti è d iminuita del 23  % (come \\nnell\\'UE nel suo complesso), fino a raggiungere \\ni 62 g per euro di VAL, pari ad appena il 62  % del \\ntotale dell\\'UE. In tale periodo, la quota di energia \\nelettrica e di energie rinnovabili sul consumo finale \\ndi energia nel settore mani fatturiero è rimasta \\nsostanzialmente stabile, attestandosi intorno \\nal 41 %. Ci ò vale anche per l\\'intensità energetica \\ndel settore manifatturiero italiano, che è diminuita \\ndi circa il 5  % fino a raggiungere 1  GWh per euro \\ndi valore aggiunto lordo.  \\nGrafico  A7.1 - Intensità delle emissioni di gas a \\neffetto serra nel settore manifatturiero e in \\nquelli ad alta intensità energetica, 2022  \\n  \\nFonte:  Eurostat.  \\nSebbene si trovino a dover far fronte a \\ndiverse difficoltà, le industrie italiane ad alta \\nintensità energetica hanno mantenuto una \\nproduzione stabile. Nel 2022 le industrie ad alta \\nintensità energetica(157) rappresentavano il 12  % \\ndel valore aggiunto lordo del settore \\n \\nE della NACE, esclusa la divisione C19. I dati relativi al VAL \\n(inseriti al denominator e per entrambe le intensità) sono in \\nlinea con i settori contemplati. Pertanto non sono \\npienamente coerenti con i dati cui si fa riferimento in altre \\nparti della presente sezione.  \\n(157) In particolare, la fabbricazione di carta e prodotti di carta \\n(divisione  C17 della NACE), di prodotti chimici (C20), di \"altri\" \\nprodotti della lavorazione di minerali non metalliferi (C23; \\nquesta divisione include le attività relative alla lavorazione di \\nsostanze singole di origine minerale, come il vetro, i prodotti \\nceramici,  le piastrelle, il cemento e il gesso), e le attività \\nmetallurgiche (C24). Ad oggi, queste industrie sono ad alta \\nintensità energetica, ossia consumano molta energia in loco \\ne/o sotto forma di energia elettrica acquistata, e ad alta \\nintensità di emissioni di gas a effetto serra, in varie \\ncombinazioni.  manifatturiero italiano. Ad eccezione della \\nfabbricazione della carta e dei prodotti di carta, \\nl\\'intensità delle emissioni di gas a effetto serra in \\nquesti settori è moderata rispetto agli standard \\ndell\\'UE. Queste industrie sono particolarmente  \\nesposte ai prezzi dell\\'energia e in Italia, negli ultimi \\nanni, i prezzi dell\\'energia elettrica per l\\'industria \\nsono aumentati in modo significativo(158). Per \\nquanto riguarda gli stabilimenti meno innovativi, \\ncome l\\'ILVA di Taranto, l\\'ex acciaieria ormai \\nobsoleta, e gli impianti di lavorazione dei metalli \\nnon ferrosi e altri impianti in Sardegna (zone che \\nhanno beneficiato del Fondo per una transizione \\ngiusta), l\\'insufficiente impiego di tecnologie \\ninnovative (riduzione diretta dei minerali di ferro \\nnell\\'ex sito dell\\'ILVA) e di fonti energetiche \\nrinnovabili rende i siti di produzione insostenibili \\ndal punto di vista economico.', 'f0b40119-c975-4f57-ad75-ea87daafa985': \"Per \\nquanto riguarda gli stabilimenti meno innovativi, \\ncome l'ILVA di Taranto, l'ex acciaieria ormai \\nobsoleta, e gli impianti di lavorazione dei metalli \\nnon ferrosi e altri impianti in Sardegna (zone che \\nhanno beneficiato del Fondo per una transizione \\ngiusta), l'insufficiente impiego di tecnologie \\ninnovative (riduzione diretta dei minerali di ferro \\nnell'ex sito dell'ILVA) e di fonti energetiche \\nrinnovabili rende i siti di produzione insostenibili \\ndal punto di vista economico. Tuttavia, nel loro \\ncomplesso, i settori ad alta intensità energetica \\nhanno mantenuto una produzione stabile nel corso \\ndell'ultimo anno . \\nGrafico  A7.2 - Produzione dell'industria \\nmanifatturiera: totale e per settore, indice (2021 \\n= 100), 2017 -2023  \\n  \\nFonte:  Eurostat.  \\nL'Italia ha iniziato a integrare gli incentivi \\nall'efficienza energetica con il sostegno alla \\ndecarbonizzazione dell'industria, ma sono \\nnecessari ulteriori aiuti.  L'Italia ha istituito \\nalcuni regimi per accordi di compravendita di \\nenergia elettrica, includendo grandi impianti \\nagrisolari come fornitori di energia elettrica \\nrinnovabile. Alcuni proget ti interessanti sullo \\nstoccaggio dell'energia a medio e lungo termine, \\n \\n(158) Per un'analisi dettagliata dei prezzi dell'energia, cfr. allegato \\n8 sulla transizione energetica a prezzi accessibili.  \\n00.511.522.533.54\\nC-C19 C17 C20 C23 C24K G CO2eq / €\\nItaly E U-27\\n707580859095100105\\n2017 2018 2019 2020 2021 2022 2023\\nManufacturing\\nManufacture of paper and paper products\\nManufacture of chemicals and chemical products\\nManufacture of other non-metallic mineral products\\nManufacture of basic metals\", '60737231-42df-4bbf-aeaf-e16b47ef0380': '81 compreso il calore, possono contribuire in modo \\nsignificativo a ridurre i costi della \\ndecarbonizzazione industriale, riducendo le tariffe \\ndell\\'energia elettrica nelle ore di punta. Sono  \\ntuttavia necessari ulteriori sforzi per far fronte al \\ncosto elevato dell\\'energia elettrica e promuovere \\nl\\'elettrificazione dell\\'industria. Ad esempio, \\nsarebbe utile un quadro di incentivi per \\nl\\'autoproduzione e lo stoccaggio di energie \\nrinnovabili.  \\nRiduzi one delle emissioni nei settori della \\ncondivisione degli sforzi  \\nPer raggiungere il suo obiettivo di \\ncondivisione degli sforzi per il 2030, l\\'Italia \\ndeve definire e attuare rapidamente ulteriori \\npolitiche in materia di mitigazione dei \\ncambiamenti climatici(159). Nel 2023, secondo \\nle previsioni, le emissioni di gas a effetto serra \\ndell\\'Italia provenienti dai settori della condivisione \\ndegli sforzi avrebbero dovuto essere inferiori \\ndel 22,3  % rispetto ai livelli del 2005. Entro il  2030 \\nle politiche attuali dovrebbero ridurle del 29,3  % \\nrispetto ai livelli del 2005. Secondo le proiezioni, le \\naltre politiche prese in considerazione nel PNEC \\ndefinitivo aggiornato dell\\'Italia comporteranno \\nriduzioni di ulteriori 11,3 punti percentuali. Ne \\nconsegue un def icit di 3,1 punti percentuali \\nrispetto all\\'obiettivo di condivisione degli sforzi \\ndell\\'Italia pari a -43,7  %(160). Data l\\'ampia distanza \\ntra le misure attuali e quelle supplementari, sarà \\nfondamentale un\\'adozione rapida e costante per \\nattuare l\\'intera serie  di misure. Sebbene l\\'Italia \\npossa ricorrere ai meccanismi di flessibilità \\nnazionali previsti nel quadro del regolamento sulla \\ncondivisione degli sforzi, ciò non sarebbe \\nsufficiente a colmare il divario rispetto \\nall\\'obiettivo.  \\n \\n(159) L\\'obiettivo nazionale di riduzione delle emissioni di gas a \\neffetto serra è stabilito nel regolamento (UE) 2023/857 \\n(regolamento sulla condivisione degli sforzi). Si applica \\ncongiuntamente agli edifici (riscaldamento e \\nraffrescamento), al trasporto su stra da, all\\'agricoltura, ai \\nrifiuti e alla piccola industria (noti come settori della \\ncondivisione degli sforzi).  \\n(160) Le emissioni oggetto di condivisione degli sforzi per il 2023 \\nsi basano su dati di inventario approssimativi. I dati definitivi \\nsaranno stabi liti nel 2027 in seguito a un riesame completo. \\nProiezioni sull\\'impatto delle politiche attuali (\"con misure \\nesistenti\", CME) e delle politiche aggiuntive (\"con misure \\naggiuntive\", CMA) come da versione definitiva del PNEC \\naggiornato dell\\'Italia.  Grafico  A7.3 - Emissioni di g as a effetto serra \\nprovenienti dai  settori della condivisione degli \\nsforzi, 2005 e  2023  \\n  \\nFonte:  Agenzia europea dell\\'ambiente  \\nIndustria sostenibile  \\nLa transizione verso un\\'economia circolare  \\nL\\'Italia è ancora sulla buona strada per \\nconseguire gli obiettivi del piano d\\'azione \\ndell\\'UE per l\\'economia circolare, grazie a \\nelevati tassi di riciclaggio e riutilizzo dei \\nmateriali.', '35cb6069-e572-4445-80d5-e169031a3547': \"Grafico  A7.3 - Emissioni di g as a effetto serra \\nprovenienti dai  settori della condivisione degli \\nsforzi, 2005 e  2023  \\n  \\nFonte:  Agenzia europea dell'ambiente  \\nIndustria sostenibile  \\nLa transizione verso un'economia circolare  \\nL'Italia è ancora sulla buona strada per \\nconseguire gli obiettivi del piano d'azione \\ndell'UE per l'economia circolare, grazie a \\nelevati tassi di riciclaggio e riutilizzo dei \\nmateriali.  Nel 2023 il tasso di utilizzo circolare \\ndei materiali era del 20,8  % (media UE: 11 ,8 %), \\ndato che colloca l'Italia tra i primi paesi dell'UE. \\nDopo l'aumento costante registrato dal 2013, il \\ntasso però è rimasto stabile dal 2020 in poi. Con \\n4,18  EUR generati per chilogrammo di materiale \\nconsumato nel 2023, la produttivit à delle risorse i n \\nItalia è ben al di sopra della media UE (2,74  EUR \\nper kg), ed è una delle pi ù elevate dell'Unione. \\nQuesto risultato contribuisce a ridurre al minimo \\ngli impatti negativi sull'ambiente nonché la \\ndipendenza dalla volatilità dei mercati delle \\nmaterie prime.  Inoltre l'impronta dei materiali, che \\nnel 2023 si è attestata a 10,5 tonnellate pro \\ncapite, è inferiore alla media dell'UE -27. \\nLa strategia nazionale per l'economia \\ncircolare 2022(161) contiene una tabella di \\nmarcia  e definisce i nuovi strumenti \\namministra tivi e fiscali per potenziare il mercato \\ndelle materie prime secondarie. Lo scopo della \\n \\n(161) Minis tero dell'Ambiente e della sicurezza energetica (MASE), \\n2022, Strategia nazionale per l'economia circolare , Link. \\n050100150200250300350400\\n2005 2023MtCO2e\\nDomestic transport (excl. aviation) Buildings (under ESR)\\nAgriculture Small industry\\nWaste\", '64e17612-a638-4b87-afda-9d17db9297de': \"82 strategia è quello di contribuire ai progressi verso \\nil raggiungimento degli obiettivi di neutralità \\nclimatica e di attuare una tabella di marcia di \\nazioni e traguardi misurabili da qui al 2035(162). \\nMolte delle azioni figurano nel piano nazionale di \\nripresa e resilienza (PNRR)(163). Il 2 marzo 2024 il \\ngoverno ha presentato un decreto -legge sugli \\nincentivi finanziari per le imprese che investono \\nnella sostenibilità, compre sa l'economia \\ncircolare(164). Nonostante i passi in avanti compiuti \\na livello nazionale, secondo il sesto rapporto della \\nrete nazionale per l'economia circolare nelle \\nregioni settentrionali e centrali si registra un livello \\npiù elevato di buone pratiche in materia di \\neconomia circolare, rispetto alle regioni \\nmeridionali(165). Un altro rapporto nazionale del \\n2024 indica che il 42  % delle imprese italiane ha \\nadottato almeno una pratica di economia circolare, \\nnella maggior parte dei casi il riciclaggio(166). \\nL'Italia ha registrato un notevole \\nmiglioramento nella gestione dei rifiuti.  Il \\ntasso di collocamento in discarica si è ridotto \\ndal 46 % del 2010 al 18  % del 2022. Il tasso di \\nincenerimento è rimasto relativamente stabile, e \\nnel 2022 si è attestato al 19  %. La politica del \\ngoverno italiano in materia di rifiuti intende \\naumentare la capacit à di riciclaggio, che a sua \\nvolta dovrebbe ridurre la domanda di nuovi \\nimpianti di incenerimento. L'Italia  ha introdotto \\nuna tassa sull'incenerimento dei rifiuti solidi urbani \\nsenza recupero di energia pari a 5,16 EUR/t, che è \\nla più bassa tra i 10 paesi dell'UE che applicano \\ntasse sull'incenerimento dei rifiuti(167). \\nL'Italia è in linea con tutti gli obiettivi  di \\nriciclaggio dell'UE per il 2025, ad eccezione di \\nquello per i rifiuti di apparecchiature \\nelettriche ed elettroniche.  Nel 2022 il tasso di \\nriciclaggio dei rifiuti urbani si è attestato al  53,3  %, \\ncon un aumento costante dal 2017. L'Italia è sulla \\nbuona strada anche per conseguire l'obiettivo \\n \\n(162) Il relativo cronoprogramma contiene gl i obiettivi da \\nraggiungere entro il 2027.  \\n(163) Piano nazionale di ripresa e resilienza, 2021 Link. \\n(164) Ministero delle Imprese e del Made in Italy Link. \\n(165) Rete nazionale per l'economia circolare, 2024, Sesto \\nrapporto sull'economia circolare in Italia, Link, pag. 91.  \\n(166) Politecnico di Milano, Circular Economy Report 2024, Link. \\n(167) EEA, Early warning assessment related to the 2025 targets  \\nfor municipal waste and packaging waste – country profile \\nItaly Link. dell'UE di collocare in discarica al massimo il 10  % \\ndei rifiuti entro il 2035. D'altro canto tra il 2018 e \\nil 2022 la produzione totale di rifiuti è aumentata \\n(da 2,9  kg pro capite a 3,2  kg pro capite) (cfr. \\nallegat o 15, OSS 12). Si registrano ancora notevoli \\ndifferenze regionali nelle prestazioni in materia di \\ngestione dei rifiuti e di infrastrutture per i rifiuti: il \\nNord è in genere pi ù avanzato del Centro -Sud.\", '52b32527-4c17-46a8-b15b-5ea8a1c2c75c': \"(167) EEA, Early warning assessment related to the 2025 targets  \\nfor municipal waste and packaging waste – country profile \\nItaly Link. dell'UE di collocare in discarica al massimo il 10  % \\ndei rifiuti entro il 2035. D'altro canto tra il 2018 e \\nil 2022 la produzione totale di rifiuti è aumentata \\n(da 2,9  kg pro capite a 3,2  kg pro capite) (cfr. \\nallegat o 15, OSS 12). Si registrano ancora notevoli \\ndifferenze regionali nelle prestazioni in materia di \\ngestione dei rifiuti e di infrastrutture per i rifiuti: il \\nNord è in genere pi ù avanzato del Centro -Sud. Nel \\n2023 i tassi di raccolta differenziata dei rifiut i \\nurbani andavano dal 77,7  % del Veneto al 54,8  % \\ndella Calabria(168). Il ricorso a prezzi fissati in base \\nalla quantità si sta diffondendo, soprattutto nelle \\nregioni settentrionali(169), ma è vistosamente \\ncarente nel Centro -Sud. L'Italia continua a pagare \\nsanzioni pecuniarie a seguito di sentenze della \\nCorte di giustizia dell'Unione europea sulle \\ndiscariche abusive e la gestione dei rifiuti in \\nCampania. Un'imposta sui prodotti di plastica \\nmonouso, che sarebbe dovuta entrare in vigore \\nnel 2021, è stata rinvia ta almeno fino al 2026.  \\nOccorre incrementare gli attuali investimenti \\nnella transizione verso la circolarità.  Si stima \\nche l'Italia necessiti di investimenti aggiuntivi totali \\nper un valore di almeno 3,3 miliardi di EUR \\nall'anno per la transizione verso l 'economia \\ncircolare, compresa la gestione dei rifiuti, pari \\nallo 0,15  % del PIL. Nell'ambito di questa carenza, \\n745 milioni di EUR riguardano iniziative recenti, \\nquali la progettazione ecocompatibile di prodotti \\nsostenibili, gli imballaggi e i rifiuti di i mballaggio, \\nl'etichettatura e gli strumenti digitali, il riciclaggio \\ndelle materie prime critiche e le misure proposte \\nnell'ambito della modifica della direttiva quadro \\nsui rifiuti. 2,1 miliardi di EUR rappresentano gli \\nulteriori investimenti necessari per  liberare il \\npotenziale dell'economia circolare dell'Italia(170).  \\nIndustria a inquinamento zero  \\nL'Italia ha compiuto notevoli progressi nella \\nriduzione dell'inquinamento atmosferico , che \\nè ora disaccoppiato dalla crescita del PIL. \\nNell'ambito del programma nazionale di controllo \\ndell'inquinamento atmosferico (NAPCP) l'Italia ha \\ncompiuto progressi sostanziali: infatti gli ultimi \\ndati comunicati mostrano che gli impegni di \\n \\n(168) Istituto Superiore per la Protezione e la Ricerca Ambientale(ISPRA), \\nRapporto rifiuti urbani edizione 2024 , Link, pag . 49. \\n(169) Ispra, ibid., pagg.  262-263. \\n(170) Commissione europea, DG Ambiente, Environmental \\ninvestment needs & gaps assessment programme , \\naggiornamento 2025. Espressi in base ai prezzi del 2022.\", 'a70cdd32-e846-4073-bf95-d3bb683930a5': '83 riduzione delle emissioni per il periodo 2020 -2029 \\nsono stati rispettati e che  gli impegni di riduzione \\ndelle emissioni a partire dal 2030 saranno \\nprevedibilmente raggiunti. I benefici per la salute \\nderivanti dall\\'attuazione del NAPCP sono stimati \\na 29,7 miliardi di EUR entro il 2030 (utilizzando \\nuno scenario di riferimento del 2010 ), pari \\nall\\'1,84  % del PIL del 2010, un dato che raggiunge \\nil 3,4  % del PIL regionale in Lombardia nel bacino \\nidrografico del Po(171). Nel 2023 sono stati \\nregistrati superamenti dei valori limite fissati dalla \\ndirettiva sulla qualità dell\\'aria ambiente per l\\'NO 2 \\nin 10 zone di qualità dell\\'aria; per il PM 10 in \\n19 zone di qualità dell\\'aria e per il PM 2,5 in una \\nzona di qualità dell\\'aria. In effetti la Corte europea \\nha pronunciato due sentenze che hanno \\nconfermato la non conformità alla direttiva \\n2008/50/CE, nel 2020 per il superamento dei \\nvalori limite di PM 10 (C-644/18) e nel 2022 per il \\nsuperamento dei valori limite di NO 2 (C-573/19). \\nL\\'obiettivo è far sì che vengano messe in atto \\nmisure appropriate per assicurare la conformità di \\ntutte le zone d i qualità dell\\'aria.  \\nL\\'industria italiana sta ancora rilasciando \\ngrandi quantità di inquinanti atmosferici e \\nidrici.  Sebbene registri il quarto valore più elevato \\nnell\\'UE in termini di danni, l\\'Italia si colloca al \\ndiciannovesimo posto per l\\'intensità dell e \\nemissioni, al di sotto della media UE pari \\na 27,5  EUR/mille EUR di VAL. I principali \\nresponsabili delle emissioni nell\\'atmosfera sono \\nl\\'industria energetica e mineraria per le emissioni \\ndi NO X e SO 2, il settore dei metalli e la gestione dei \\nrifiuti per l e emissioni di polveri e metalli pesanti. \\nL\\'Italia presenta la quantità più elevata di \\nemissioni di metalli pesanti nell\\'acqua (ponderata \\nin base al fattore di tossicità umana) nell\\'UE e si \\ncolloca al terzo posto per l\\'intensità delle emissioni \\n(ben al di sopra dell\\'intensità media UE \\ndi 0,864  kg/miliardo di EUR di VAL). In Italia i \\nprincipali fattori che contribuiscono alle emissioni \\nnell\\'acqua sono le \"altre attività manifatturiere\" \\n(principalmente il trattamento superficiale di \\nmetalli e plastica) per i metalli pesanti, l\\'industria \\nchimica e la gestione dei rifiuti per l\\'azoto, il \\nfosforo e il carbonio organico totale.  \\n \\n(171) Piersanti A, D\\'Elia I, Gualtieri M, Briganti G, Cappellett i A, Zanini G and \\nCiancarella.L., The Italian NAPCP: Air Quality, Health Impact and Cost \\nAssessment , Atmosphere 2021, 12, 196, tabella 11, Link. I costi dell\\'inquinamento rimangono molto \\npiù elevati degli investimenti nella \\nprevenzione e nella riduzione \\ndell\\'inquinamento. Nel 2022 i n Italia circa \\n994 anni di vita persi ogni 100  000 abitanti sono \\nstati attribuiti all\\'inquinamento da particolato fine \\n(PM 2,5). Si tratta di un dato ben superiore a quello \\ndella Francia, che registra 500 anni di vita persi; \\nbenché il livello sia relativame nte elevato, dal \\n2005 in Italia si è registrato un netto \\nmiglioramento(172).', '45d1f8d3-ce39-4e05-9362-cdd81ff26b02': \"I costi dell'inquinamento rimangono molto \\npiù elevati degli investimenti nella \\nprevenzione e nella riduzione \\ndell'inquinamento. Nel 2022 i n Italia circa \\n994 anni di vita persi ogni 100  000 abitanti sono \\nstati attribuiti all'inquinamento da particolato fine \\n(PM 2,5). Si tratta di un dato ben superiore a quello \\ndella Francia, che registra 500 anni di vita persi; \\nbenché il livello sia relativame nte elevato, dal \\n2005 in Italia si è registrato un netto \\nmiglioramento(172). Per conseguire i propri obiettivi \\nin materia di prevenzione e riduzione \\ndell'inquinamento e affrontare i costi sanitari ed \\neconomici dell'inquinamento, l'Italia necessita di \\nulteri ori 1,8 miliardi di EUR all'anno (meno \\ndello  0,1 % del PIL), principalmente per quanto \\nriguarda l'inquinamento atmosferico e \\nacustico(173). \\n \\n(172) AEA, 2024, Harm to human health from air pollution in \\nEurope: burden of disease status, 2024 , Link. \\n(173) Commissione europea, DG Ambiente, Environmental \\ninvestment needs & gaps assessment programme , \\naggiornamento 2025. Espressi in base ai prezzi del 2022.\", 'f1b6e8e5-b2eb-4b9f-8ca9-4479ee256852': '84   \\nTabella  A7.1 - Principali indicatori dell\\'industria pulita e della mitigazione dei cambiamenti climatici: \\nItalia  \\n  \\nFonte:  Industria a zero emissioni nette: Commissione europea: The net -zero manufacturing industry landscape across \\nMember States:  final report , 2025. Trasformazione dell\\'industria automobilistica: Eurostat. Materie prime critiche:  \\nEurostat. Mitigazione dei cambiamenti climatici: cfr. note a piè di pagina nella sezione \"Mitigazione dei cambiamenti climati ci\"; \\nriduzione delle emissioni oggetto di condivisione degli sforzi: EEA greenhouse gases data viewer ; Commissione europea, \\nRelazione  2024 sui progressi dell\\'azione dell\\'UE per il clima . Industria sostenibile: anni di vita persi a causa del PM 2,5: Eurostat \\ne AEA, Harm to human health from air pollution in Europe:  burden of disease status , 2024. Danni causati dall\\'inquinamento \\natmosferico: AEA, EU large industry air pollution damage costs intensity , 2024. Emissioni c ontemplate: As, benzene, Cd, Cr, Hg, \\nNH3, Ni, COVNM, NOx, Pb, diossine, PM10, IPA, SOx. Intensità dell\\'inquinamento idrico: AEA, EU large industry water pollution \\nintensi ty, 2024. Riguarda gli scarichi di cadmio, piombo, mercurio e nichel nell\\'acqua. Altri indicatori: Eurostat.  \\n \\nStrategic autonomy and technology for the green transition\\nNet zero industry\\nOperational manufacturing capacity 2023\\n- Solar PV (c: cell, w: wafer, m: module), MW 1200-1300 (c), 1500 (m) - Electrolyzer, MW 310-325\\n- Wind (b: blade, t: turbine, n: nacelle), MW 2500-2700 (b), 1000-1100 (t) - battery, MWh 200-350\\nAutomotive industry transformation 2017 2018 2019 2020 2021 2022 2023 2018 2021\\nMotorisation rate (passenger cars per 1000 inhabitants), % 643 652 663 671 675 682 694 539 561\\nNew zero-emission vehicles, electricity motor, % 0.11 0.27 0.54 2.15 4.55 3.67 4.16 1.03 8.96\\nCritical raw materials 2017 2018 2019 2020 2021 2022 2023 2018 2021\\nMaterial import dependency, % 50.6 48.9 46.5 47.3 49.0 48.0 24.2 22.6\\nClimate mitigation Trend\\nIndustry decarbonisation 2017 2018 2019 2020 2021 2022 2023 2017 2022\\nGHG emissions intensity of manufacturing production, kg/€ 0.28 0.28 0.27 0.28 0.28 0.27 \\xa0 0.34 0.27\\nShare of energy-related emissions in industrial GHG emissions 34.4 34.5 34.5 35.4 34.6 31.4 31.5 44.8 42.5\\nEnergy-related GHG emissions intensity of manufacturing 154.2 155.8 142.6 149.0 153.7 134.7 - 158.4 132.9\\nand construction, kg/€\\nShare of electricity and renewables in final energy consumption 41.6 42.2 43.0 44.1 40.5 41.3 41.8 43.3 44.2\\nin manufacturing, %\\nEnergy intensity of manufacturing, GWh/€ 1.03 1.01 1.01 1.12 1.07 0.98 0.93 1.29 1.09\\nShare of energy-intensive industries in manufacturing production 11.9 7.3\\nGHG emissions intensity of production in sector [...],', '5e12cdef-5e3b-463e-8c04-9663c0331f03': '5 35.4 34.6 31.4 31.5 44.8 42.5\\nEnergy-related GHG emissions intensity of manufacturing 154.2 155.8 142.6 149.0 153.7 134.7 - 158.4 132.9\\nand construction, kg/€\\nShare of electricity and renewables in final energy consumption 41.6 42.2 43.0 44.1 40.5 41.3 41.8 43.3 44.2\\nin manufacturing, %\\nEnergy intensity of manufacturing, GWh/€ 1.03 1.01 1.01 1.12 1.07 0.98 0.93 1.29 1.09\\nShare of energy-intensive industries in manufacturing production 11.9 7.3\\nGHG emissions intensity of production in sector [...], kg/€\\n- paper and paper products (NACE C-17) 0.85 0.85 0.80 0.84 0.87 0.87 - - 0.73 0.68\\n- chemicals and chemical products (NACE C20) 1.24 1.27 1.07 1.09 1.12 1.49 - - 1.25 1.26\\n- other non-metallic mineral products (NACE C23) 2.29 2.23 2.16 2.28 1.85 1.80 - - 2.53 2.24\\n- basic metals (NACE C24) 1.37 1.73 1.68 1.55 2.20 2.02 - - 2.79 3.49\\nReduction of effort sharing emissions 2018 2019 2020 2021 2022 2023 2018 2023\\nGHG emission reductions relative to base year, % -18.4 -20.9 -22.3\\n- domestic road transport -18.1 -17.2 -32.0 -19.6 -14.8 -15.7 1.4 5.2\\n- buildings -13.7 -16.2 -17.8 -13.5 -23.4 -29.2 21.4 32.9\\n2005 2021 2022 2023 Target WEM WAM\\nEffort sharing: GHG emissions, Mt; target, gap, % 343.1 279.9 271.5 266.6 -43.7 -14.4 -3.1\\nSustainable industry Trend\\nCircular economy transition 2018 2019 2020 2021 2022 2023 2018 2021\\nMaterial footprint, tonnes per person 10.3 10.2 9.4 10.8 10.7 10.5 14.7 15.0\\nCircular material use rate, % 18.8      18.8      20.6      19.7      20.6      20.8      11.6 11.1\\nResource productivity, €/kg 3.6        3.6        3.6        3.6        3.8        4.2        2.1 2.3\\nZero pollution industry\\nYears of life lost due to PM2.5, per 100,000 inhabitants 778      695      764      703      994      - 702 571\\nAir pollution damage cost intensity, per thousand € of GVA    17.9          27.5      \\nWater pollution intensity, kg weighted by human factors per bn € GVA     1.9    0.9Italy EU-27\\nItaly EU-27\\nItaly EU-27', 'debd9ee5-6a7f-4597-b07c-07dfd48a5c03': \"ALLEGATO 8: TRANSIZIONE ENERGETICA A PREZZI ACCESSIBILI  \\n85 Il presente allegato illustra i progressi \\ncompiuti e le sfide che si devono affrontare \\noggi per migliorare la competitività e \\nl'accessibilità economica de ll'energia, \\nportando avanti nel contempo la transizione \\nverso l'azzeramento delle emissioni nette.  \\nL'allegato esamina le misure e gli obiettivi proposti \\nnelle versioni definitive dei piani nazionali per \\nl'energia e il clima (PNEC) per il 2030.  \\nL'Italia si è adoperata molto per modificare il \\nproprio sistema energetico, accelerare la \\ndiffusione delle energie rinnovabili, \\npotenziare la rete elettrica e promuovere le \\ninterconnessioni transfrontaliere, oltre che \\nper incoraggiare comportamenti efficienti \\nsotto il  profilo energetico.  Rimangono margini \\ndi miglioramento se si considera la controtendenza \\nall'aumento delle importazioni di combustibili \\nfossili registrata nell'ultimo anno.  \\nPrezzi e costi dell'energia  \\nGrafico  A8.1 - Componenti dei prezzi dell'energia \\nal dettaglio per i consumatori domestici e non \\ndomestici, 2024  \\n \\ni) Per i consumatori domestici, la fascia di consumo è DC per \\nl'energia elettrica e D2 per il gas. Sono indicati le imposte e i \\nprelievi compresa l'IVA.  \\nii) Per i consumatori non domestici, la fascia di consumo è ID \\nper l'energia elettrica e I4 per il gas. Le imposte e i prelievi \\nsono indicati al net to dell'IVA e degli oneri recuperabili, che \\nsono generalmente recuperati dalle imprese.  \\nFonte:  Eurostat  \\nNel 2024 i prezzi al dettaglio dell'energia \\nelettrica in Italia sono diminuiti sia per i \\nconsumatori domestici che per quelli non \\ndomestici, ma sono rimasti al di sopra della \\nmedia UE, collocandosi rispettivamente al settimo e all'ottavo posto tra quelli più \\ncostosi.  Per le famiglie i prezzi al dettaglio del \\ngas hanno registrato un aumento del 17  % circa, \\nraggiungendo livelli superiori alla media UE, \\nmentre per i consumatori non domestici i prezzi \\nsono rimasti al di sotto della media UE per il \\nsecondo anno consecutivo. La quota delle varie \\ncomponenti dei prezzi dell'energia al dettaglio \\nsegue sostanzialmente le tendenze dell'UE, ad \\neccezione dei mi nori costi di rete e dell'aumento \\ndelle imposte e dei prelievi sull'energia elettrica sia \\nper i consumatori domestici che per quelli non \\ndomestici. Per quanto riguarda i prezzi del gas per \\ni consumatori non domestici, la componente dei \\ncosti di rete è supe riore alla media UE, ma le \\nimposte e i prelievi sono circa cinque volte inferiori \\nalla media UE.  \\n \\nGrafico  A8.2 - Prezzi medi mensili all'ingrosso \\ndell'energia elettrica a un giorno e prezzi di \\nriferimento europei del gas naturale (TTF dei \\nPaesi Bassi)  \\n \\ni) Il Title Transfer Facility (TTF) è un punto di scambio virtuale \\ndi gas naturale nei Paesi Bassi. Funge da parametro principale \\nper i prezzi del gas naturale in Europa.  \\nii) Il CWE indica i prezzi medi sul mercato dell'Europa centro -\\noccidentale (Belgio, Francia, Germania, Lussemburgo, Paesi \\nBassi e Austria).\", '645c1e67-651f-4bf1-8fd3-fea1e3307295': \"Grafico  A8.2 - Prezzi medi mensili all'ingrosso \\ndell'energia elettrica a un giorno e prezzi di \\nriferimento europei del gas naturale (TTF dei \\nPaesi Bassi)  \\n \\ni) Il Title Transfer Facility (TTF) è un punto di scambio virtuale \\ndi gas naturale nei Paesi Bassi. Funge da parametro principale \\nper i prezzi del gas naturale in Europa.  \\nii) Il CWE indica i prezzi medi sul mercato dell'Europa centro -\\noccidentale (Belgio, Francia, Germania, Lussemburgo, Paesi \\nBassi e Austria).  \\nFonte:  S&P Platts e ENTSO -E \\nCon una media di 108  EUR/MWh nel 2024 (174) \\n(media UE: 84,7 EUR/MWh), l'Italia ha \\nregistrato il secondo più alto prezzo \\nall'ingrosso dell'energia elettrica nell'UE; \\nsebbene all'inizio dell'anno si siano ridotti, \\n \\n(174) Fraunhofer (dati ENTSO -E).\", 'abf4b055-0149-4c52-be4d-b8bd6f4f7a87': \"86 così come sono diminuiti i prezzi del gas \\nnaturale, in primavera/estate i prezzi sono \\naumentati per registrare poi un'impennata in \\nautunno (175), con una marcata differenza \\nrispetto al complesso della regione Core(176). \\nQuesti picchi di prezzo si devono principalmente \\nall'eccessiva dipendenza per la produzione di \\nenergia elettrica dal costoso g as naturale (la quota \\ndell'Italia era la terza per dimensioni nell'UE) che \\nnel 2024 rappresentava il 44  % del mix di energia \\nelettrica del paese. Ondate di calore prolungate e \\npiù intense, seguite da un autunno pi ù freddo, \\nhanno determinato un aumento del consumo da \\naprile a dicembre (+  1 % rispetto allo stesso \\nperiodo del 2023), mentre una minore produzione \\ndi carbone ( -60 %), una minore produzione di \\nenergia eolica ( -13 %) a causa delle condizioni \\nmeteorologiche, una difficile posizione netta di \\nimportazi one(177), e una limitata flessibilità non \\nfossile hanno sottoposto a ulteriori tensioni \\nl'equilibrio tra domanda e offerta. Sebbene il \\ndivario sia stato parzialmente colmato \\ndall'aumento della produzione idroelettrica \\n(+ 21 %)(178) e dalla crescita dell'ener gia solare \\n(+ 19 %), la produzione di energia elettrica \\nalimentata a gas naturale è stata aumentata per \\ncoprire il fabbisogno residuo in misura ancora \\nmaggiore rispetto all'anno precedente (+  1 %), in \\nparticolare durante le ore di picco della domanda. \\nDi conseguenza, ancor pi ù che nel 2023, queste \\ncondizioni hanno determinato picchi di prezzo \\nconcentrati nelle ore serali (dalle 18 alle 21), \\nquando la produzione solare diminuiva ma la \\ndomanda rimaneva elevata, soprattutto durante \\nl'estate. Nonostante queste tendenze, in Italia il \\nprezzo medio dell'energia elettrica nel corso \\ndell'anno è ancora diminuito rispetto al 2023 \\n(127  EUR/MWh) e i livelli di povertà energetica \\nsono modesti (cfr. allegato 11).  \\n \\n(175) Un'analoga impennata dei prezzi è stata osservata nello \\nstesso periodo del 2023.  \\n(176)CORE è la regione di calcolo della capacità che comprende i \\npaesi dell'Europa centrale, vale a dire Austria, Belgio, Cechia, \\nCroazia, Germania, Francia, Italia, Paesi Bassi, Polonia, Romania, \\nSlovacchia, Slovenia , Ungheria e, una volta collegata, Irlanda.  \\n(177) Gli scambi transfrontalieri netti di energia elettrica sono \\ndiminuiti del - 4 %. \\n(178) ENTSO -E. Flessibilità e reti elettriche  \\nSono in corso progetti per aumentare la \\ncapacità di interconnessione dell'Italia.  La \\nrete di trasmissione dell'energia elettrica dell'Italia \\nè interconnessa con altri paesi attraverso 26 linee. \\nNel 2022 sono stati importati in Italia oltre 53  Ghz \\ned esportati circa 28  Ghz. L'Italia fa parte delle \\nregioni di calcolo della capacità (CCR) Italia \\nNord(179), CORE e Grecia -Italia. Gli Stati membri \\ndovrebbero garantire che almeno il 70  % della \\ncapacit à tecnica transfrontaliera sia disponibile per \\ngli scambi. Il ricorso a vincoli  di allocazione limita \\nle possibilit à di importazione nella regione Italia \\nNord dai paesi vicini.\", '4fdc3ce5-2f01-4c35-8337-ad31f9e6004c': \"La \\nrete di trasmissione dell'energia elettrica dell'Italia \\nè interconnessa con altri paesi attraverso 26 linee. \\nNel 2022 sono stati importati in Italia oltre 53  Ghz \\ned esportati circa 28  Ghz. L'Italia fa parte delle \\nregioni di calcolo della capacità (CCR) Italia \\nNord(179), CORE e Grecia -Italia. Gli Stati membri \\ndovrebbero garantire che almeno il 70  % della \\ncapacit à tecnica transfrontaliera sia disponibile per \\ngli scambi. Il ricorso a vincoli  di allocazione limita \\nle possibilit à di importazione nella regione Italia \\nNord dai paesi vicini. Per motivi di sicurezza \\noperativa è stata concessa al gestore del sistema \\ndi trasmissione italiano, Terna, una deroga che \\nconsente un livello inferiore di sca mbi per un \\nperiodo di tempo limitato, se necessario. Per \\nquanto riguarda la CCR Grecia -Italia, l'impatto \\ndegli scambi con i paesi terzi è limitato, come lo è \\nquello degli scambi transfrontalieri all'interno della \\nregione.  \\nLa forte crescita della capacità d i \\ngenerazione installata(180) dovuta alla nuova \\nenergia solare ed eolica prevista per \\nil 2030(181) rende ancora più difficile per \\nl'Italia raggiungere l'obiettivo di \\ninterconnessione del 15  % entro il 2030.  Il \\npiano di sviluppo di Terna per il 2023 mantiene il \\nrafforzamento della rete di trasmissione per \\nsviluppare la capacità di interconnessione con i \\nsistemi elettrici dei paesi vicini. Ciò al fine di \\ngarantire una maggiore sicurezza attraverso la \\npossibilità di assistenza reciproca tra sistemi \\ninterconnessi . Il piano di sviluppo mira ad ampliare \\nla capacità di interconnessione dell'Italia con \\nAustria, Corsica, Grecia, Malta, Slovenia, Svizzera e \\nTunisia. L'interconnessione Italia -Tunisia \\ncontribuirà ad aumentare i benefici per l'intero \\nsistema europeo, in pa rticolare in termini di \\nsostenibilità, integrazione dei mercati e \\ndiversificazione dell'offerta di risorse(182). Il piano \\n \\n(179)Austria, Francia, Italia e Slovenia fanno parte della CCR Italia \\nNord. Una CCR è un gruppo di paesi che calcola no insieme i flussi \\ntransfrontalieri di energia elettrica.  \\n(180)Raddoppiamento dell'attuale capacità di scambio tra le aree \\ndi mercato dai circa 16  GW attuali a oltre 30  GW. \\n(181)+74  GW nello scenario strategico, mantenimento della \\ncapacità fossile con una fun zione di integrazione, flessibilità e \\nriserva.  \\n(182) PNEC, pagg. 159 -160.\", 'ed16dd7c-83ea-4ebf-bafa-9c9f942a5de3': '87 d\\'azione in materia di energia elettrica ed energie \\nrinnovabili per l\\'interconnessione energetica \\nnell\\'Europa centrale e sud orientale (CESEC)(183) \\nsottolinea ulteriormente l\\'importanza \\ndell\\'interconnettore tra la regione Lienz (AT) – \\nVeneto (IT) e le linee GRITA2 HVDC Galatina (IT) – \\nTesprozia (EL). Il piano d\\'azione include anche il \\nparco eolico offshore da 300  MW nel Mare \\nAdriatico sett entrionale nel primo elenco prioritario \\nCESEC di progetti di energia rinnovabile con \\nimpatto regionale. Il piano d\\'azione CESEC per i \\ngas include la dorsale italiana dell\\'idrogeno tra i \\nprogetti infrastrutturali prioritari per l\\'idrogeno e \\ntre progetti inf rastrutturali per il gas naturale che \\ncontribuiranno al conseguimento degli obiettivi di \\nREPowerEU(184). \\nGli obiettivi di decarbonizzazione pongono \\nnuove sfide per lo sviluppo e il \\nfunzionamento della rete.  Le richieste di \\nconnessione alla rete di trasmissi one nazionale \\n(RTN) dell\\'energia elettrica indicano che i \\npartecipanti al mercato stanno concentrando lo \\nsviluppo di nuove fonti energetiche rinnovabili \\nprincipalmente nel sud e nelle isole. Per consentire \\nuna crescita ambiziosa delle fonti energetiche \\nrinnovabili, sarà fondamentale sviluppare nuove \\ninfrastrutture efficienti in grado di collegare le \\nzone con una maggiore produzione di energie \\nrinnovabili con i centri di consumo situati \\nprincipalmente nel nord del paese. Il piano italiano \\nper la ripresa e la  resilienza prevede investimenti \\nsignificativi nella rete, come il \"Tyrrhenian Link\" e il \\nSA.CO.I.3, entrambi volti ad ampliare \\nl\\'infrastruttura di trasmissione dell\\'energia \\nelettrica, nonché progetti transfrontalieri di \\ninterconnessione elettrica tra l\\'It alia e i paesi vicini, \\nin particolare Austria e Slovenia.  \\nL\\'Italia ha adottato misure per sostenere la \\nflessibilità non fossile.  L\\'attuale capacità \\noperativa italiana di stoccaggio di energia è di \\ncirca 8  806 MW (principalmente energia \\nidroelettrica ad acc umulo tramite pompaggio) e il \\nprincipale ostacolo individuato è la mancanza di \\ninformazioni sui servizi ausiliari per l\\'elaborazione \\ndi un piano aziendale di stoccaggio che non sia \\n \\n(183) Approvato in occasione della riunione ministeriale CESEC \\ndel 29 ottobre 2024.  \\n(184)Il potenziamento dei gasdotti interni Adriatica e Matagiola -\\nMassafra, l\\'ampliamento del gasdotto transadriatico, \\nl\\'ammodernamento della stazione di compressione di Poggio \\nRenatico e il flusso inverso nella stazione di compressione di \\nMalborghetto.  basato unicamente sul mercato dell\\'energia. \\nL\\'Italia pianifica politiche e misure che migliorano \\nla flessibilità, tra cui l\\'introduzione di un \\nmeccanismo di approvvigionamento di capacità di \\nstoccaggio elettrico (MACSE), che mira a sostenere \\nl\\'installazione della capacità di stoccaggio di \\nenergia necessaria per conseguire l\\'obiet tivo del \\npaese in materia di energie rinnovabili entro \\nil 2030. Il PNEC italiano menziona inoltre l\\'entrata \\nin vigore del nuovo quadro normativo sul \\ndispacciamento a partire dal 2025, comprese \\nnuove norme per la partecipazione della gestione \\ndella domanda alla fornitura di servizi ausiliari.', '86700f0a-db7e-4ea4-a0d5-ec3fb8c650d3': \"basato unicamente sul mercato dell'energia. \\nL'Italia pianifica politiche e misure che migliorano \\nla flessibilità, tra cui l'introduzione di un \\nmeccanismo di approvvigionamento di capacità di \\nstoccaggio elettrico (MACSE), che mira a sostenere \\nl'installazione della capacità di stoccaggio di \\nenergia necessaria per conseguire l'obiet tivo del \\npaese in materia di energie rinnovabili entro \\nil 2030. Il PNEC italiano menziona inoltre l'entrata \\nin vigore del nuovo quadro normativo sul \\ndispacciamento a partire dal 2025, comprese \\nnuove norme per la partecipazione della gestione \\ndella domanda alla fornitura di servizi ausiliari. Gli \\naggregatori non possono partecipare ai mercati e \\nai servizi di bilanciamento. La partecipazione delle \\nrisorse energetiche distribuite al MACSE italiano, \\npur rimanendo limitata, è in costante aumento nel \\ntempo.  \\nIl ruolo del consumatore sta passando da \\npassivo ad attivo. Lo sviluppo di \\nun'autoproduzione diffusa può esprimersi \\nattraverso varie configurazioni individuali e \\ncollettive, industriali/commerciali o sotto forma di \\niniziative dei cittadini, anche a fini sociali  e \\nambientali. L'adozione dell'autoconsumo, anche \\nattraverso politiche pubbliche di fissazione dei \\nprezzi dell'energia nell'ambito delle varie \\nconfigurazioni possibili di autoconsumo, comprese \\nle comunità energetiche rinnovabili(185), sarà \\novviamente favori ta dagli sviluppi tecnologici(186). \\nDa un lato l'Italia vanta una diffusione pari \\nal 100 % dei contatori intelligenti e i consumatori \\nhanno accesso sia a contratti a prezzo fisso che a \\ncontratti dinamici. La percentuale di cambio di \\nfornitore è relativamente elevata (15,7  %) (la \\nmedia UE è dell'8,7  %). Inoltre l'Italia è uno dei \\npochi Stati me mbri a disporre di uno strumento di \\nconfronto dei prezzi di proprietà pubblica (gestito \\nda ARERA) che comprende offerte combinate \\n(energia elettrica e gas) presso un unico fornitore. \\nDall'altro lato uno strumento di questo tipo \\nconsente di confrontare i co ntratti dinamici. I \\n \\n(185)Il decreto -legge 30 dicembre 2019 n.  162 (articolo 42 bis) e i \\nrelativi provvedimenti attuati vi, quali la delibera 318/2020/R/eel \\ndell'ARERA e il decreto ministeriale 16 settembre 2020 del \\nministero dello Sviluppo economico (MiSE), stabiliscono le \\nmodalità e le condizioni per l'attivazione dell'autoconsumo da \\nfonti rinnovabili e la creazione di co munità energetiche \\nrinnovabili.  \\n(186)Come il potenziale dei nuovi contatori intelligenti in termini di \\nfunzioni a disposizione dei consumatori, la diffusione delle \\ntecnologie digitali insieme all'internet delle cose e la maggiore \\naccessibilità dei sistemi di  produzione e stoccaggio di piccole e \\nmedie dimensioni, con costi inferiori per gli utenti.\", 'ec3446ba-1dac-4b24-ab1d-ac660be5ff0c': \"88 progressi nel prosumerismo sono lenti: finora \\nil 4,5 % delle famiglie produce energia elettrica. \\nInoltre le tariffe di disconnessione (per le fatture \\nnon pagate) dell'energia elettrica in Italia nel 2023 \\nerano tra le più elevate (2,5  %) registrate.  \\nIl settore dell'energia elettrica svolgerà un \\nruolo fondamentale nel conseguimento degli \\nobiettivi di neutralità climatica per il 2050 , in \\nquanto l'elettrificazione del consumo finale e la \\nproduzione di idrogeno e di elettrocarburanti nei \\nsettori in cui le emissioni sono difficili da abbattere \\nrichiederanno grandi quantità di energia elettrica. \\nIl piano nazionale aggiornato per l'energia e il \\nclima ha innalzato al 39,4  % (+  9,4 punti) gli \\nobiettivi per il 2030 per le energie rinnovabili nel \\nconsumo finale, media questa ottenuta \\ncombinando il 63  % per l'energia elettrica, il 36  % \\nper il riscaldamento e il raffrescamento e il 34  % \\nper i trasporti. Fissa inoltre l'obiettivo che \\nl'idrogeno rinnovabile rappresenti dal 42  % \\nal 54 % del consumo totale di idrogeno \\nnell'industria entro il 2030.  \\nNel 2023 l'energia elettrica rappresentava \\nil 22,1  % del consumo di energia finale \\ndell'Italia(187), leggermente al di sotto della \\nmedia UE del 22,9  %, e tale quota è rimasta \\nin gran parte invariata nell'ultimo dece nnio, \\nin parte a causa di un rapporto sfavorevole \\ntra i prezzi dell'energia elettrica e quelli del \\ngas che disincentiva l'elettrificazione e la \\ndecarbonizzazione efficace sotto il profilo dei \\ncosti.  Per quanto riguarda le famiglie, l'energia \\nelettrica rapp resenta il 19,8  % del consumo di \\nenergia finale, mentre nell'industria rappresenta \\nil 39,2  % (cfr.  allegato  7). Per il settore dei \\ntrasporti, questa quota rimane trascurabile, \\nattestandosi al 2  %. Nel secondo semestre \\ndel 2024 i prezzi al dettaglio dell'energia elettrica \\nnel settore delle famiglie sono stati tra i più \\nelevati dell'UE (collocandosi al settimo posto). \\nMentre il rapporto tra i prezzi dell'energia elettrica \\ne quelli del gas per le famiglie era inferiore a 2:1 e \\nrimaneva invaria to al netto di imposte e prelievi, \\nl'energia elettrica per le industrie ad alta intensità \\nenergetica aveva un costo unitario di 4,2 volte \\nsuperiore rispetto al gas, che scendeva a 3,4 prima \\ndi imposte e prelievi non recuperabili. Per questo \\nsegmento, le im poste e i prelievi non recuperabili \\n \\n(187)CAGR (tasso di crescita annuo composto) dello 0,2  % tra \\nil 2013 e il 2023 e quota minima/massima rispettivamente \\ndel 21,7 % e del 23  %.  costituivano una parte significativa del prezzo \\nfinale dell'energia elettrica (24,6  % rispetto alla \\nmedia UE del 15,4  %), mentre il gas era quasi \\nesente da imposte (2,5  % rispetto alla media UE \\ndell'11,5  %)(188).\", 'd2657657-51cd-4cf4-9b76-ea7c5ab8c0ea': \"Per questo \\nsegmento, le im poste e i prelievi non recuperabili \\n \\n(187)CAGR (tasso di crescita annuo composto) dello 0,2  % tra \\nil 2013 e il 2023 e quota minima/massima rispettivamente \\ndel 21,7 % e del 23  %.  costituivano una parte significativa del prezzo \\nfinale dell'energia elettrica (24,6  % rispetto alla \\nmedia UE del 15,4  %), mentre il gas era quasi \\nesente da imposte (2,5  % rispetto alla media UE \\ndell'11,5  %)(188). \\nEnergie rinnovabili e contratti a lungo \\ntermine  \\nNel 2024 le fonti energetiche rinnovabili in \\nItalia rappresentavano il 50  % della \\nproduzione di energia elettrica , un dato \\nleggermente superiore alla quota complessiva \\ndell'UE, pari al 47  %(189). In tale anno la capac ità \\ninstallata di fonti rinnovabili è aumentata \\ndell'11,33  % e la capacit à totale di energia da \\nfonti rinnovabili in Italia si è attestata \\na 72 115 MW. Per quanto riguarda l'accelerazione \\ndella diffusione dell'energia solare, nel 2024 la \\ncapacità installat a totale era pari a 36  013 MW, \\ncon un aumento di quasi il 22,7  % rispetto \\nal 2023. La capacità eolica è aumentata del 5,6  %. \\nIl piano nazionale aggiornato per l'energia e il \\nclima prevede 131  GW di capacit à da fonti \\nrinnovabili nel 2030 (compresi 28  GW di energia \\neolica e 79  GW di energia solare fotovoltaica), con \\nuna produzione di 228  TWh, di cui 98  TWh \\ndall'energia solare (43  %) e 65  TWh dall'energia \\neolica (28  %). Terna stima inoltre che, per \\nconseguire i  suoi obiettivi di decarbonizzazione \\nentro il 2030, l'Italia dovrebbe installare 8,9  GW \\n(71 Ghz) di stoccaggio di energia (compresa \\nl'energia idroelettrica ad accumulo tramite \\npompaggio).  \\n \\n(188)Analisi basata sui da ti Eurostat per il secondo semestre \\ndel 2024. Per i consumatori domestici, le fasce di consumo sono \\nDC per l'energia elettrica e D2 per il gas; queste si riferiscono a \\nconsumatori di medie dimensioni e forniscono una panoramica \\ndell'accessibilità economica . Per i consumatori non domestici, le \\nfasce di consumo sono ID per l'energia elettrica e I4 per il gas; \\nqueste si riferiscono a consumatori di grandi dimensioni e \\nforniscono una panoramica della competitività internazionale (il \\nprezzo utilizzato per il cal colo esclude l'IVA e altre \\nimposte/prelievi/commissioni recuperabili, in quanto i \\nconsumatori non domestici sono solitamente in grado di \\nrecuperare l'IVA e alcune altre imposte).  \\n(189) Dati annuali sull'energia elettrica, Ember.\", 'efd674cc-5850-4394-a76c-bee2bd7bce63': \"8  \\n(5) EIB Investment Survey 2024 Country Overview:  Italy. Riquadro 2 - Ostacoli agli investimenti pubblici e privati  \\nNonostante il sostegno del dispositivo per la ripresa e la resilienza, le prospettive di \\ninvestimento sono state frenate dall'elevata incertezza mondiale. A più lungo termine, \\nle opportunità di espandere gli investimenti delle imprese sono limitate dalle restanti \\ndebolezze strutturali.  Le prospettive incerte relative alle esportazioni a causa delle rinnovate \\ntensioni commerciali mondiali e della ridotta crescita in mercati importanti, come la Germania, \\nfanno sì che le imprese si trattengano nell'adottare decisioni di investimento. Secon do \\nl'indagine  2024 della BEI, i tre principali fattori che ostacolano le aziende italiane nell'effettuare \\ninvestimenti riguardano l'incertezza in merito al futuro (79  %, di cui il 49  % che lo reputa un \\nostacolo rilevante), gli elevati costi dell'energia (7 0 %) e le normative del mercato del lavoro \\n(59 %)(5). Inoltre un'ampia percentuale di imprese italiane ritiene che la corruzione costituisca un \\nostacolo all'attività imprenditoriale (il 50  % rispetto al 36  % dell'UE).  \\nNegli ultimi anni l'Italia ha compiu to progressi in una serie di settori strategici problematici, in \\nparticolare attraverso riforme e investimenti nell'ambito del piano per la ripresa e la resilienza. \\nTra questi figurano:  \\n• nel settore della giustizia , assunzione di personale al fine di ridurre la durata dei \\nprocedimenti giudiziari;  \\n• miglioramento dell'efficacia della pubblica amministrazione , anche attraverso la \\ngestione strategica delle risorse umane;  \\n• riduzione dei ritardi di pagamento  da parte delle pubbliche amministrazioni, laddov e \\nsono state intraprese azioni volte a migliorare l'esecuzione dei pagamenti delle \\namministrazioni centrali e locali, anche migliorando il monitoraggio e la trasparenza;  \\n• aumento della concorrenza  in una serie di settori chiave (tra cui l'energia elettric a, il \\ngas, i trasporti e i servizi pubblici locali);  \\n• riforma del codice della proprietà industriale ; \\n• ammodernamento del quadro in materia di appalti pubblici , anche semplificando le \\nprocedure, aumentando la qualificazione/professionalizzazione delle am ministrazioni \\naggiudicatrici e introducendo misure volte a ridurre i tempi di aggiudicazione degli \\nappalti.  \\nNonostante si siano registrati sviluppi positivi, detti settori trarrebbero giovamento da ulteriori \\nsforzi. Inoltre i seguenti fattori contribuisco no a frenare la crescita degli investimenti e \\ndella produttività:  \\n• la disponibilità di personale adeguato, anche in termini di competenze, per le \\npubbliche amministrazioni locali  continua a rappresentare una sfida per l'attuazione \\ndegli investimenti nazionali e finanziati dall'UE.\", 'd7071166-d7fd-4672-a039-1d1dbd9bce24': \"Nonostante si siano registrati sviluppi positivi, detti settori trarrebbero giovamento da ulteriori \\nsforzi. Inoltre i seguenti fattori contribuisco no a frenare la crescita degli investimenti e \\ndella produttività:  \\n• la disponibilità di personale adeguato, anche in termini di competenze, per le \\npubbliche amministrazioni locali  continua a rappresentare una sfida per l'attuazione \\ndegli investimenti nazionali e finanziati dall'UE. Occorre trarre insegnamenti dalle \\nesperienze precedenti, anche nell'ambito del piano per la ripresa e la resilienza e per \\nquanto riguarda la messa in co mune delle risorse;  \\n• l'attuale spesa pubblica corrente per ricerca e sviluppo e per le università  non \\nè sufficiente a promuovere sinergie tra gli investimenti pubblici e privati \\nnell'innovazione;  \\n• la mancanza di una chiara strategia industriale , volta an che a stimolare \\nl'economia delle regioni in ritardo di sviluppo, che tenga conto delle nuove tendenze del \\nmercato, delle nuove tecnologie e della decarbonizzazione. Sarebbe altresì auspicabile \\nun approccio globale che integri le esigenze industriali con la  pianificazione \\ninfrastrutturale e le politiche del mercato del lavoro;  \\n• la scarsa offerta di competenze di alto livello . L'Italia è scarsamente dotata di \\npersonale altamente qualificato, in particolare nei settori scientifici e delle TIC, che sono \\nquelli che maggiormente favoriscono l'avvio di imprese innovative o l'adozione di nuove \\ntecnologie da parte delle imprese esistenti;\", '0e1bbe6d-a38e-409e-ad9f-26eddf18211e': '89 Grafico  A8.3 - Capacità installata in termini di \\nenergie rinnovabili (a sinistra) e mix di produzione \\ndi energia elettrica (a destra) dell\\'Italia  \\n \\nNella voce \"Altro\" rientrano i rifiuti urbani rinnovabili, i \\nbiocarburanti solidi, i biocarburanti liquidi e il biogas.  \\nFonte:  IRENA, Ember.  \\nIl capitolo del piano per la ripresa e la \\nresilienza dedicato a REPowerEU comprende \\nla riforma del Testo Unico , volta a raccogliere, \\ncompilare e consolidare la legislazione e le \\ndisposizioni vigenti che disciplinano la diffusione \\ndelle fonti energetiche rinnovabili e sostituiscono \\ntutta la precedente legislazione in materia. Il \\ndecreto ministeriale del giugno  2024(190) concede \\nalle regioni italiane sei mesi per la creazione di \\naree idonee alle fonti energetiche rinnovabili. \\nTuttavia l\\'individuazione delle aree idonee sta \\nsubendo ritardi, in parte a causa di alcune \\ncontroversie giuridiche con le regioni(191). Vi è \\npertanto margine per ulteriori miglioramenti al fine \\ndi abbreviare la procedura di rilascio delle \\nautorizzazioni per le fonti energetiche rinnovabili, \\nin particolare tenendo conto degli orientamenti \\nsull\\'accelerazione di tali procedure.  \\nIl piano nazional e aggiornato per l\\'energia e \\nil clima incoraggia iniziative  volte a \\npromuovere nuovi investimenti nelle capacità di \\nproduzione di energia rinnovabile, a dissociare il \\nprezzo dell\\'energia elettrica dai prezzi del gas e a \\ncontribuire alla decarbonizzazione d el consumo \\nenergetico dei grandi consumatori industriali. Tali \\niniziative comprendono gli accordi di \\ncompravendita di energia elettrica e i contratti per \\ndifferenza. Il capitolo del piano per la ripresa e la \\n \\n(190)Il decreto ministeriale 21 giugno 2024  attua le disposizioni \\ndel decreto legislativo 8 novemb re 2021 n.  199. \\n(191)Dinanzi al Tribunale amministrativo di primo grado è stata \\npresentata una controversia con la Regione Sardegna e la \\nsentenza dovrebbe essere emessa entro il 5 febbraio 2025.  \\nLegge regionale sarda n.  5 del 3 luglio 2024 : la Sardegna aveva \\ndapprima emanato una legge regionale che istituiva una \\nmoratoria per le fonti energetiche rinnovabili fino all\\'adozione \\ndella legge regionale con aree idonee o non idonee.  resilienza dedicato a REPowerEU comprende una \\nriforma volta ad attenuare il rischio di controparte \\nper facilitare l\\'accesso agli accordi di \\ncompravendita di energia elettrica. La riforma \\nintroduce un sistema di garanzia centralizzato e \\ndesigna un\\'entità come gestore di ultima istanza. \\nNel 2023 sono stat i appaltati 1,06  GW tramite \\naccordi di compravendita di energia elettrica, il che \\nha consentito all\\'Italia di passare dal nono al terzo \\nposto tra gli Stati membri dell\\'UE. Tuttavia il \\nvolume totale è ancora molto inferiore a quello \\ndegli Stati membri dell\\' UE in cima alla graduatoria \\n(Spagna e Germania, con rispettivamente 4,67  GW \\ne 3,73  GW). Nel 2023 sono stati firmati circa \\n24 accordi di compravendita di energia elettrica, il \\nche rappresenta un forte aumento rispetto ai 10 \\ndel 2022.', '5b5a14bc-eb3a-4417-bf7a-536e76e5d3ef': \"Nel 2023 sono stat i appaltati 1,06  GW tramite \\naccordi di compravendita di energia elettrica, il che \\nha consentito all'Italia di passare dal nono al terzo \\nposto tra gli Stati membri dell'UE. Tuttavia il \\nvolume totale è ancora molto inferiore a quello \\ndegli Stati membri dell' UE in cima alla graduatoria \\n(Spagna e Germania, con rispettivamente 4,67  GW \\ne 3,73  GW). Nel 2023 sono stati firmati circa \\n24 accordi di compravendita di energia elettrica, il \\nche rappresenta un forte aumento rispetto ai 10 \\ndel 2022.  \\nEfficienza energetica  \\nLe misure di efficienza energetica dell'Italia \\ncontinuano a produrre risparmi energetici in \\nparticolare nei settori residenziale e \\nindustriale, ma permane un potenziale di \\nrisparmio non sfruttato in settori chiave. \\nNel 2023 il consumo di energia  primaria è \\ndiminuito del 3,5  %, attestandosi a 134,8 Mtep \\nrispetto al 2022. Il consumo di energia finale è \\ndiminuito del 2,0  %, portandosi a 108,6 Mtep. \\nRispetto al 2022, il consumo di energia finale è \\naumentato rispettivamente del 3,4  % e del 3,0  % \\nnei s ettori dei trasporti e dei servizi, mentre è \\ndiminuito rispettivamente del 5,0  % e dell'8,6  % \\nnei settori industriale e residenziale. Ci ò ha \\nrispecchiato l'impatto degli sforzi e delle misure in \\nmateria di efficienza energetica, in particolare nel \\nsettore residenziale. Secondo la rifusione della \\ndirettiva sull'efficienza energetica (direttiva (UE) \\n2023/1791), entro il 2030 l'Italia dovrebbe \\nraggiungere un consumo di energia primaria \\ndi 112,2 Mtep e un consumo di energia finale \\ndi 93,05, come proposto nel pi ano nazionale \\ndefinitivo aggiornato per l'energia e il clima.  \\nL'Italia ha un potenziale sottoutilizzato per \\nl'ulteriore sviluppo di una rete efficiente di \\nteleriscaldamento e teleraffrescamento e \\nper l'ammodernamento della rete di \\nteleriscaldamento e teler affrescamento\", 'd3d0a4e8-202d-4de5-aad0-06110ffd0588': '90 esistente. Il Gestore Servizi Energetici  (GSE)(192) \\nha stimato a circa 20,9  TWh il potenziale \\neconomicamente sostenibile per aumentare \\nl\\'energia erogata annualmente dal \\nteleriscaldamento, a fronte di un\\'estensione della \\nrete di teleriscaldamento e teleraffrescamento a \\nlivello nazionale di circa 3  700 km. L\\'Italia non ha \\nnotificato alla Commissione la sua valutazione \\nglobale del riscaldamento e raffreddamento che \\nindividua il potenziale di applicazione della \\ncogenerazione ad alto rendimento e del \\nteleriscaldamento e teleraffrescamento efficienti \\nin linea con l\\'articolo  25, paragrafo  1, della \\ndirettiva sull\\'efficienza energetica. Non sono \\ndisponibili stime su quando ciò avverrà.  \\nPer quanto riguarda il consumo energetico \\nnegli edific i, l\\'Italia ha ridotto il consumo di \\nenergia finale (corretto per le variazioni \\nclimatiche) del settore residenziale del 5,5  % \\ntra il 2018 e il 2022.  Tale dato è in linea con la \\nstrategia nazionale di ristrutturazione a lungo \\ntermine, che prevede una riduz ione del 12  % del \\nconsumo di energia degli edifici entro il 2030 \\nrispetto al 2020.  \\nNel 2022 il riscaldamento e il \\nraffreddamento rappresentavano l\\'80  % del \\nconsumo di energia finale residenziale del \\npaese.  Nel 2023 sono state vendute circa \\n378 000 pompe di  calore, un dato che registra un \\ncalo del 26  % rispetto all\\'anno precedente. In tale \\nanno, in Italia, l\\'energia elettrica era 3,4 volte più \\ncostosa del gas, il che significa che gli utenti finali \\nrisparmiano energia ma pagano di più se scelgono \\nuna pompa d i calore per il riscaldamento. Dal \\ngennaio 2025 l\\'Italia ha gradualmente eliminato \\ngli incentivi finanziari relativi all\\'installazione di \\ncaldaie a combustibile fossile.  \\nL\\'Italia continua ad applicare un quadro di \\nfinanziamento nazionale per l\\'efficienza \\nenergetica basato principalmente su \\nsovvenzioni tramite crediti d\\'imposta, mentre \\nil ricorso agli strumenti finanziari rimane \\npoco sviluppato. Nel corso del 2024 l\\'Italia ha \\ncontinuato ad applicare crediti d\\'imposta per \\nristrutturazioni edilizie e sostituzi oni degli impianti \\ndi riscaldamento, i cosiddetti \"Superbonus\" e \\n \\n(192)L\\'impresa individuata dallo Stato per perseguire e \\nraggiungere la sostenibilità ambientale attraverso i due pilastri \\ndelle fonti rinnovabili e dell\\'efficienza energetica.  \"Conto termico 2.0\". Mentre il sostegno finanziario \\ndel \"Superbonus\" è stato ridotto al 70  %, non sono \\nstati sviluppati strumenti finanziari paralleli o \\nstrumenti di finanziamento innovativi per \\nmobilitare ulteriori capitali privati negli \\ninvestimenti nell\\'efficienza energetica. Gli \\nstrumenti finanziari per attivare gli investimenti \\nnell\\'efficienza energetica nell\\'edilizia, nell\\'industria \\ne nei servizi continuano a essere sottoutilizzati in \\nItalia, ostacolando lo sviluppo di un mercato \\nfiorente per gli investimenti nell\\'efficienza \\nenergetica e le imprese di servizi energetici e \\nl\\'ulteriore mobilitazione di capitali privati.', '8bd126ac-0f28-4aae-94da-0407d37c33ab': '\"Conto termico 2.0\". Mentre il sostegno finanziario \\ndel \"Superbonus\" è stato ridotto al 70  %, non sono \\nstati sviluppati strumenti finanziari paralleli o \\nstrumenti di finanziamento innovativi per \\nmobilitare ulteriori capitali privati negli \\ninvestimenti nell\\'efficienza energetica. Gli \\nstrumenti finanziari per attivare gli investimenti \\nnell\\'efficienza energetica nell\\'edilizia, nell\\'industria \\ne nei servizi continuano a essere sottoutilizzati in \\nItalia, ostacolando lo sviluppo di un mercato \\nfiorente per gli investimenti nell\\'efficienza \\nenergetica e le imprese di servizi energetici e \\nl\\'ulteriore mobilitazione di capitali privati. L\\'attuale \\nFondo di Kyoto e il Fondo nazionale per l\\'efficienza \\nenergeti ca soffrono di una cronica \\nsottoutilizzazione e il loro sviluppo futuro non è \\nchiaro. L\\'Italia deve ancora attuare una revisione \\nannunciata ma rinviata del quadro di \\nfinanziamento nazionale per l\\'efficienza \\nenergetica.  \\nSicurezza dell\\'approvvigionamento e \\ndiversificazione  \\nLa dipendenza dell\\'Italia dal gas russo è \\ndiminuita notevolmente nel 2023, ma le \\nimportazioni hanno registrato un nuovo lieve \\naumento nel 2024.  Una componente \\nfondamentale di questa strategia è la prevista \\neliminazione graduale del gas russ o entro il 2025, \\nche sarà conseguita attraverso un aumento delle \\nimportazioni da altri paesi, quali Algeria, \\nAzerbaigian e Qatar, nonché un incremento della \\nproduzione interna, che dovrebbe aumentare \\ndi 1,4 miliardi di m3 l\\'anno entro il 2025. Al fine di \\nsostenere questa diversificazione, l\\'Italia ha \\ncommissionato due nuove unità galleggianti di \\nstoccaggio e di rigassificazione, una a Piombino, \\ngià operativa, e una Ravenna, che entrerà in \\nfunzione nell\\'aprile 2025 con una capacità \\ncombinata di 10 miliardi d i m3 l\\'anno. Il paese ha \\ngestito con successo la fine del transito del gas \\nrusso attraverso l\\'Ucraina, cessato il 1º gennaio \\n2025. Inoltre l\\'Italia ha ridotto la domanda di gas \\ndel 17  % tra agosto 2022 e novembre 2024.  \\n \\nNel 2023 i combustibili fossili \\nrappresentavano quasi l\\'80  % \\ndell\\'approvvigionamento energetico totale in \\nItalia.  Tra i combustibili fossili, il gas naturale e il', '5ae137cd-df5a-4b17-920a-7e18015af80b': \"91 petrolio rappresentavano entrambi circa il 38  % \\ndel mix energetico. Per contro, le energie \\nrinnovabili rappresentavan o meno del 20  % del \\nmix energetico totale dell'Italia.  \\nSussidi ai combustibili fossili  \\nNel 2023 i sussidi ai combustibili fossili dannosi \\nper l'ambiente(193) senza una prevista eliminazione \\ngraduale prima del 2030 rappresentavano \\nlo 0,17  %(194) del PIL(195) dell'Italia, al di sotto della \\nmedia ponderata dell'UE dello 0,49  %. Le misure \\nfiscali rappresentavano il 94,3  % di tale volume, \\nmentre la quota restante era costituita da misure \\ndi sostegno al reddito/ai prezzi. Inoltre il prezzo \\neffettivo del carbonio(196) in Italia nel 2023 è stato \\nin media di 100,05 EUR per tonnellata di CO2, al di \\nsopra della media ponderata dell'UE \\ndi 84,80  EUR(197). \\n \\n(193) Sussidi diretti ai combustibili fossili che incentivano il \\nmantenimento o l'aum ento della disponibilità e/o dell'uso di \\ncombustibili fossili.  \\n(194) Il numeratore si basa sui volumi sottoposti a controllo \\nincrociato con le autorità italiane attraverso la relazione \\nintermedia nazionale integrata sull'energia e il clima \\ndel 2025. Per tutt i gli Stati membri, questa include le spese \\npubbliche di R&S per i combustibili fossili, come indicato \\ndall'AIE (Energy Technology RD&D Budgets), ed esclude, per \\ncoerenza metodologica, l'esenzione dalle accise sul \\ncherosene consumato nel traffico aereo all 'interno \\ndell'UE -27. \\n(195) Prodotto interno lordo ai prezzi di mercato nel 2023, \\nEurostat.  \\n(196) Il prezzo effettivo del carbonio è la somma delle imposte sul \\ncarbonio, dei prezzi delle autorizzazioni ETS e delle accise sui \\ncarburanti, che rappresentano il prezzo effettivo aggregato \\ndel carbonio pagato sulle emissioni.  \\n(197) OCSE (2024), Pricing Greenhouse Gas Emissions 2024.\", '90cea18e-77bb-4257-8bb3-aee1705d2402': '92  \\nTabella  A8.1 - Indicatori energetici chiave  \\n  \\nFonte:  Indicatori energetici chiave.  \\n \\n2021 2022 2023 2024 2021 2022 2023 2024\\nHousehold consumer - Electricity retail price (EUR/KWh) 0,2307           0,3371               0,3571               0,3193           0,2314              0,2649           0,2877           0,2879           \\nEnergy & supply [%] 48,9% 68,1% 66,1% 56,4% 36,6% 54,3% 55,6% 47,8%\\nNetwork costs 20,0% 17,1% 13,8% 15,0% 26,7% 25,3% 24,8% 27,2%\\nTaxes and levies including VAT 31,2% 14,8% 20,2% 28,6% 36,7% 20,3% 19,6% 25,0%\\nVAT 9,1% 8,6% 8,7% 9,3% 14,5% 13,4% 13,8% 14,6%\\nHousehold consumer - Gas retail price 0,0774           0,1040               0,1053               0,1230           0,0684              0,0948           0,1121           0,1128           \\nEnergy & supply 43,0% 67,4% 78,7% 52,8% 43,7% 61,0% 64,5% 53,9%\\nNetwork costs 20,2% 17,5% 22,4% 21,3% 22,5% 17,3% 17,1% 18,3%\\nTaxes and levies including VAT 36,8% 15,1% -1,1% 25,9% 33,8% 21,7% 18,4% 27,8%\\nVAT 13,3% 4,8% 4,7% 11,9% 15,5% 11,6% 10,2% 13,6%\\nNon-household consumer - Electricity retail price 0,1478           0,2760               0,2238               0,1928           0,1242              0,1895           0,1971           0,1661           \\nEnergy & supply 55,5% 77,4% 66,4% 58,3% 43,0% 66,5% 63,0% 55,8%\\nNetwork costs 10,1% 7,0% 6,8% 8,6% 15,8% 10,7% 11,9% 15,5%\\nTaxes and levies excluding VAT 26,5% 5,0% 18,2% 24,6% 30,4% 9,9% 11,2% 15,4%\\nNon-household consumer - Gas retail price 0,0303           0,0865               0,0669               0,0478           0,0328              0,0722           0,0672           0,0517           \\nEnergy & supply 79,9% 89,6% 84,9% 78,1% 66,2% 77,3% 77,3% 68,7%\\nNetwork costs 6,4% 3,5% 9,7% 12,9% 7,7% 3,8% 5,3% 7,1%\\nTaxes and levies excluding VAT 6,3% 2,1% 1,0% 2,5% 12,5% 6,1% 7,3% 11,6%\\nWholesale electrity price (EUR/MWh) 125,5 304,0 127,2 108,5 111,0 233,2 99,1 84,7\\nDutch TTF (EUR/MWh) n/a n/a n/a n/a 46,9 123,1 40,5 34,', 'bf48b639-3831-41bd-b7a2-e5fdce68d4c8': '6% 84,9% 78,1% 66,2% 77,3% 77,3% 68,7%\\nNetwork costs 6,4% 3,5% 9,7% 12,9% 7,7% 3,8% 5,3% 7,1%\\nTaxes and levies excluding VAT 6,3% 2,1% 1,0% 2,5% 12,5% 6,1% 7,3% 11,6%\\nWholesale electrity price (EUR/MWh) 125,5 304,0 127,2 108,5 111,0 233,2 99,1 84,7\\nDutch TTF (EUR/MWh) n/a n/a n/a n/a 46,9 123,1 40,5 34,4\\n2017 2018 2019 2020 2021 2022 2023 2024\\nGross Electricity Production (GWh) 295.830         289.708             293.853             280.531         289.070            283.961         264.716         -\\nCombustible Fuels 208.824     192.129         195.084         180.805     189.132        198.515     161.974     -\\nNuclear -               -                  -                  -               -                  -               -               -\\nHydro 38.025       50.503            48.154            49.495       47.478           30.291       42.068       -\\nWind 17.742       17.716            20.202            18.762       20.927           20.494       23.640       -\\nSolar 24.378       22.654            23.689            24.942       25.039           28.121       30.711       -\\nGeothermal 6.201          6.105              6.075              6.026          5.914             5.837          5.692          -\\nOther Sources 661              601                 650                 501              579                 703              630              \\nGross Electricity Production [%]\\nCombustible Fuels 70,6% 66,3% 66,4% 64,5% 65,4% 69,9% 61,2% -\\nNuclear 0,0% 0,0% 0,0% 0,0% 0,0% 0,0% 0,0% -\\nHydro 12,9% 17,4% 16,4% 17,6% 16,4% 10,7% 15,9% -\\nWind 6,0% 6,1% 6,9% 6,7% 7,2% 7,2% 8,9% -\\nSolar 8,2% 7,8% 8,1% 8,9% 8,7% 9,9% 11,6% -\\nGeothermal 2,1% 2,1% 2,1% 2,1% 2,0% 2,1% 2,2% -\\nOther Sources 0,2% 0,2% 0,2% 0,2% 0,2% 0,2% 0,2% -\\nNet Imports of Electricity (GWh) 37.761 43.899 38.141 32.200 42.790 42.987 51.252 -\\nAs a % of electricity available for final consumption 12,5% 14,5% 12,6% 11,3% 14,2% 14,5% 17,8% -\\nElectricity Interconnection [%] 8,2% #REF!', 'af178d08-3c4a-4235-8ab8-602732bb0fd4': '1% 8,9% 8,7% 9,9% 11,6% -\\nGeothermal 2,1% 2,1% 2,1% 2,1% 2,0% 2,1% 2,2% -\\nOther Sources 0,2% 0,2% 0,2% 0,2% 0,2% 0,2% 0,2% -\\nNet Imports of Electricity (GWh) 37.761 43.899 38.141 32.200 42.790 42.987 51.252 -\\nAs a % of electricity available for final consumption 12,5% 14,5% 12,6% 11,3% 14,2% 14,5% 17,8% -\\nElectricity Interconnection [%] 8,2% #REF! 8,7% 8,8% 3,8% 4,0% 4,6% 5,0%\\nShare of renewable energy consumption - by sector [%]\\nElectricity 34,1% 33,9% 35,0% 38,1% 36,0% 37,1% 38,1% -\\nHeating and cooling 20,1% 19,3% 19,7% 19,9% 19,3% 20,6% 21,7% -\\nTransport 6,5% 7,7% 9,0% 10,7% 9,9% 10,0% 10,3% -\\nOverall 18,3% 17,8% 18,2% 20,4% 18,9% 19,1% 19,6% -\\n2020 2021 2022 2023 2020 2021 2022 2023\\nImport Dependency [%] 73,5% 73,3% 79,2% 74,8% 57,5% 55,5% 62,5% 58,3%\\nof Solid fossil fuels 93,0% 97,0% 102,4% 96,4% 35,8% 37,2% 45,9% 40,8%\\nof Oil and petroleum products 88,7% 84,3% 92,9% 89,1% 96,8% 91,7% 97,8% 94,5%\\nof Natural Gas 92,8% 93,7% 99,2% 96,3% 83,6% 83,6% 97,6% 90,0%\\nDependency from Russian Fossil Fuels [%]\\nof Natural Gas 43,3% 40,0% 19,3% 4,7% 41,0% 40,9% 20,7% 9,3%\\nof Crude Oil 11,1% 10,1% 19,3% 0,0% 25,7% 25,2% 18,4% 3,0%\\nof Hard Coal 55,8% 62,1% 33,2% 0,1% 49,1% 47,4% 21,5% 1,0%\\n2017 2018 2019 2020 2021 2022 2023\\nGas Consumption (in bcm) 75,2                72,7                   74,5                   71,3                76,4                   68,7                61,7                \\nGas Consumption year-on-year change [%] 6,0% -3,3% 2,4% -4,3% 7,2% -10,0% -10,2%\\nGas Imports - by type (in bcm) 69,7                67,9                   71,1                   66,4                73,0                   72,6                61,8                \\nGas imports - pipeline 61,8                59,1                   57,3                   54,0                63,1                   58,2                45,3                \\nGas imports - LNG 7,9 8,7 13,8 12,3 9,9 14,4 16,6\\nGas Imports - by main source supplier [%]\\nAlgeria 28,0% 26,5% 18,8% 22,8% 30,8% 35,8% 41,6%\\nAzerbaijan 0,0% 0,0% 0,0% 0,0% 9,9% 14,2% 16,2%\\nQatar 9,7% 9,6% 9,2% 10,5% 9,4% 10,0% 11,1%\\nRussia 47,5% 48,4% 47,1% 43,3% 40,0% 19,3% 4,7%Italy EU', '298a5831-06d3-4680-8f84-956e9184373d': \"ALLEGATO 9: ADATTAMENTO AI CAMBIAMENTI CLIMATICI, PREPARAZIONE E \\nAMBIENTE  \\n93 L'Italia è uno degli Stati membri dell'UE più \\nesposti ai rischi climatici e pertanto merita \\nun'azione urgente per rafforzare la \\nresilienza. La gestione sostenibile d elle risorse \\nidriche rimane un importante problema \\nambientale, in particolare in termini di governance, \\nripristino dei corpi idrici superficiali ed efficienza \\nidrica. Lo stato degli ecosistemi e dei suoli \\ncontinua a deteriorarsi, creando rischi significati vi \\nper l'economia e la competitività del paese. L'Italia \\ndispone di consistenti pratiche agricole sostenibili, \\nma il suo sistema agroalimentare continua a \\nesercitare una notevole pressione, il che giustifica \\nmisure aggiuntive.  \\nAdattamento ai cambiamenti \\nclimatici e preparazione  \\nL'Italia è fortemente esposta a eventi \\nestremi. Il paese è altamente vulnerabile dal \\npunto di vista idrogeologico e la maggior \\nparte delle zone è a rischio di alluvioni, \\nsiccità e ondate di calore. L'Italia si trova in due \\ndelle tre macroregioni individuate come punti \\ncritici per i rischi climatici in quanto maggiormente \\ncolpite dai cambiamenti climatici: l'Europa \\nmeridionale e le regioni costiere a bassa \\naltitudine(198). Nel 2023 circa il 4,1  % della \\npopolazione viveva i n zone ad alto rischio di \\nalluvioni e il 2,2  % in zone a rischio di frane(199). Gli \\nimpatti specifici a livello regionale sono illustrati \\nnell'allegato 17. Tra il 1980 e il 2023 l'Italia ha \\nregistrato 21  822 decessi e quasi 134  miliardi di \\nEUR di perdite ec onomiche a causa di eventi \\nmeteorologici e climatici estremi (cfr.  allegato 15, \\nOSS 13). Tuttavia solo il 4  % dei danni economici \\nin tale periodo era assicurato, rispetto al 62  % in \\nDanimarca(200). Si stima che nel  2030 i costi \\nannuali dei cambiamenti clima tici per le \\ninfrastrutture in Italia ammonteranno a circa \\n2 miliardi di EUR(201). Le proiezioni indicano un \\nimpatto negativo cumulativo sul PIL pro capite pari \\n \\n(198) AEA, 2024, European Climate Risk Assessment , link. \\n(199) ISPRA, link (alluvioni), link (frane).  \\n(200) AEA, 2024, Economic losses from weather - and climate \\nextremes in Europe , link. \\n(201) Mims 2022, Cambiamenti climatici, infrastrutture e mobilità , \\npag. 17, link. al 3,7  % nel 2050 e all'8,5  % nel 2080(202). Le \\ndisposizioni introdotte nella legge di bilancio 20 24 \\nsull'assicurazione obbligatoria delle imprese per gli \\neventi estremi e le calamità naturali non sono \\nancora entrate pienamente in vigore(203). Le \\nattività agricole sono coperte dal 2022(204), ma \\nl'assicurazione sull'abitazione non è obbligatoria. \\nNel 2023  solo il 3,4  % delle microimprese e \\nil 28,2  % delle piccole imprese disponeva di \\nun'assicurazione contro le alluvioni, rispetto ai due \\nterzi delle medie imprese e alla copertura quasi \\ntotale per le grandi imprese(205).\", 'b9e94441-d97f-44b9-9586-e782adb29f9e': \"Le \\ndisposizioni introdotte nella legge di bilancio 20 24 \\nsull'assicurazione obbligatoria delle imprese per gli \\neventi estremi e le calamità naturali non sono \\nancora entrate pienamente in vigore(203). Le \\nattività agricole sono coperte dal 2022(204), ma \\nl'assicurazione sull'abitazione non è obbligatoria. \\nNel 2023  solo il 3,4  % delle microimprese e \\nil 28,2  % delle piccole imprese disponeva di \\nun'assicurazione contro le alluvioni, rispetto ai due \\nterzi delle medie imprese e alla copertura quasi \\ntotale per le grandi imprese(205). Questa mancanza \\ndi copertura non solo espone le microimprese e le \\nPMI a considerevoli rischi finanziari in caso di \\ncalamità, ma riflette anche una diffusa sottostima \\ndel rischio e una scarsa propensione a \\nsottoscrivere un'assicurazione.  \\nI cambiamenti climatici stanno avendo un \\nimpatto sos tanziale sugli alloggi e \\nsull'industria manifatturiera.  Il valore degli \\nalloggi potenzialmente esposti alle alluvioni si \\naggira attorno a 1000 miliardi di EUR, pari a circa \\nun quarto del parco immobiliare totale, e la perdita \\nannua prevista è stimata appro ssimativamente a  3 \\nmiliardi di EUR. La zona a maggior rischio è la \\nPianura Padana e le maggiori perdite sono attese \\nin Emilia -Romagna(206). Circa il 35  % delle imprese \\nmanifatturiere è potenzialmente esposto ad \\nalluvioni o frane. Il rischio pi ù significativ o è \\nrappresentato dalle alluvioni, alle quali è esposto \\nil 29 % degli addetti del settore manifatturiero, \\ncon il rischio pi ù elevato in Emilia -Romagna e \\nToscana(207). Non sono disponibili studi che \\nmostrino i divari in materia di assicurazione contro \\ni rischi climatici per regione.  \\n \\n(202) Ronchi, E. 2019, cur., Relazione sullo stato della green \\neconomy , pag.  30, link. \\n(203) Governo italiano, legge di bilancio 2024, articoli 101 -111, \\nlink; decreto -legge 31 marzo 2025 n.  39, link, obbligatorio \\nper le grandi imprese a partire dall'1.4.2025, per le medie \\nimprese dall'1.10.2025, per le piccole imprese e le \\nmicroimprese dall'1.1.2026.  \\n(204) Fondo mutualistico nazionale per la copertura dei danni \\ncatastrofali meteoclimatici alle produzioni agricole connesse \\nda alluvione, gelo -brina e siccità  (legge di bilancio 2022).  \\n(205) Associazione Nazionale fra le Imprese Assicuratrici , link. \\n(206) Banca d'Italia, 2023, L'impatto del rischio di alluvion e sulla \\nricchezza immobiliare in Italia , Occasional Paper n.  768, \\npagg.  18 e  20, link. \\n(207) Banca d'Italia, 2024, The exposure of Italian manufacturing \\nfirms to hydrogeol ogical risk , Occasional Paper n.  899, \\npag. 16, link.\", '249f5ff4-9e23-47de-947b-2d795593bdd8': \"94 I cambiamenti climatici stanno avendo un \\nimpatto sostanziale sull'agricoltura.  Nel 2023 \\nil valore aggiunto agricolo era prossimo a 37,5 \\nmiliardi di EUR, con un aumento in termini correnti \\n(+ 7,9 %), ma un calo del volume ( -2,5 %) rispetto \\nal 2022(208). In effetti il 2023 è stato \\ncaratterizzato da condizioni meteorologiche \\navverse ed eventi meteorologici estremi, che \\nhanno causato ingenti danni alle colture e al \\nbestiame. Negli ultimi tre anni, in media, i danni \\nsubiti dalle aziende agricole a causa di eventi \\nmeteorologici eccezionali hanno superato gli \\n1,5 miliardi di EUR all'anno. Nel primo anno di \\nattuazione del piano strategico della politica \\nagricola comune (PAC), il livello più elevato di \\nspesa è stato destinato a strumenti di g estione del \\nrischio per gestire le perdite in caso di condizioni \\nmeteorologiche avverse e calamità naturali. A \\nlivello regionale, la spesa per l'agricoltura illustra \\nanche l'accento posto sui cambiamenti climatici: la \\nspesa per calamità naturali è salita d al 4  % nel \\n2019 al 9  % nel 2022(209). Si stima che nel 2024 \\nsi siano verificati oltre 300 eventi meteorologici \\nestremi per il terzo anno consecutivo, rispetto \\nai 60 del 2015(210). Negli ultimi 18 mesi nella \\nPianura Padana si sono verificate quattro alluvioni  \\nestreme. Nel 2022 questa zona è stata anche \\nfortemente colpita da una siccità prolungata, che \\nha influito sull'energia idroelettrica e sulla \\nproduzione agricola. Nel 2024 la Sicilia ha subito \\nuna siccità estrema. Dal 2010 al 2023 la spesa \\nper danni causat i da eventi idrogeologici in Italia è \\ntriplicata a 3,3 miliardi di EUR l'anno(211). Le PMI \\nitaliane colpite da eventi estremi sono esposte a \\nun rischio di fallimento superiore del 4,8  % \\nrispetto a quello delle altre imprese, e nei tre anni \\nsuccessivi tutte le imprese registrano un calo dei \\nricavi e degli addetti rispettivamente del 4,2  % e \\ndell'1,9  %(212). \\nLe statistiche nazionali mostrano che, \\nnel 2023, 20 ettari al giorno di suolo sono \\nstati convertiti in copertura artificiale \\n \\n(208) CREA, 2023, Annuario 2023 , link. \\n(209) CREA, 2023, Annuario 2023 , pag.  12, link. \\n(210) Legambiente, Bilancio 2024: Italia sotto scacco della crisi \\nclimatica , link. Nella metodologia, un evento meteorologico \\nestremo è conteggiato come danno causato in un luogo \\nspecifico.  \\n(211) Alleanza Italiana per lo Sviluppo Sostenibile (ASviS), 2023, \\nRischio idrogeologico in Italia, senza prevenzione costi \\ntriplicati in 13 anni , link. \\n(212) Banca d'Italia, 2022, Gli effetti del cambiamento climatico \\nsull'economia italiana. Un progetto di ricerca della Banca \\nd'Italia , Occasional Paper n.  728, pag.  50, link. (consumo di suolo).\", 'b4b510a8-750c-4400-8b41-eac75fb45b36': '12, link. \\n(210) Legambiente, Bilancio 2024: Italia sotto scacco della crisi \\nclimatica , link. Nella metodologia, un evento meteorologico \\nestremo è conteggiato come danno causato in un luogo \\nspecifico.  \\n(211) Alleanza Italiana per lo Sviluppo Sostenibile (ASviS), 2023, \\nRischio idrogeologico in Italia, senza prevenzione costi \\ntriplicati in 13 anni , link. \\n(212) Banca d\\'Italia, 2022, Gli effetti del cambiamento climatico \\nsull\\'economia italiana. Un progetto di ricerca della Banca \\nd\\'Italia , Occasional Paper n.  728, pag.  50, link. (consumo di suolo). La stima dei costi totali della \\nperdita del flusso annuale di servizi ecosistemici a \\ncausa del consumo di suolo varia da 8,22 a \\n10,06  miliardi di EUR tra il 2006 e il 2023. Il \\nvalore più alto di perdita è associato al \"servizio di \\nregolazione del regime idrol ogico\", ovvero \\nall\\'aumento del deflusso superficiale prodotto dal \\nconsumo di suolo  e a cui sono associati \\nvalori di perdita del flusso annuale tra il 2006 e \\nil 2023 compresi tra 7,6  miliardi di EUR e \\n8,9 miliardi di EUR(213). Nonostante le enormi \\nperdite do vute all\\'impermeabilizzazione del suolo, \\ndal 2012 il parlamento deve ancora pronunciarsi \\nsu un progetto di legge sul monitoraggio del \\nconsumo di suolo(214). L\\'Italia trarrebbe vantaggio \\ndall\\'adozione di adeguate misure correttive e dal \\nrecepimento della fut ura direttiva sul \\nmonitoraggio del suolo e la resilienza. Inoltre il \\nregolamento dell\\'UE sul ripristino della natura \\nfissa per il 2031 l\\'obiettivo di non registrare \\nalcuna perdita netta della superficie nazionale \\ntotale degli spazi verdi urbani e di copert ura della \\nvolta arborea urbana nelle zone di ecosistemi \\nurbani rispetto al 2024(215). Un passo positivo è il \\ndecreto che stanzia 160 milioni di EUR per la \\ngestione del degrado del suolo in ambito urbano e \\nperiurbano(216). \\nL\\'Italia presenta uno dei tassi più elevati di \\nerosione del suolo dovuta all\\'acqua \\nnell\\'UE(217) e una delle percentuali più basse \\ndi pratiche di lavorazione conservativa nelle \\nzone coltivabili(218). L\\'erosione del suolo riduce \\nla produttività agricola, aumenta il rischio di \\nsiccità, degrad a le funzioni ecosistemiche, \\namplifica i rischi idrogeologici come frane o \\nalluvioni e causa danni alle \\ninfrastrutture(219)(220)(221). Nell\\'UE, l\\'Italia subisce il \\nlivello più elevato di perdita di produttività agricola \\ndovuta all\\'erosione del suolo, con una perdita di \\nproduttività delle colture stimata a 619 milioni di \\n \\n(213) ISPRA, 2024, Consumo di suolo, dinamiche territoriali e \\nservizi ecosistemici . Edizione 2024, pagg.199 -200 e  343, \\nlink. \\n(214) Camera dei deputati italiana, 2023, link. \\n(215) Regolamento sul ripristino della natura, articolo 8, link. \\n(216) Ministero dell\\'Ambiente e della sicurezza energetica (MASE), \\nprogetto di decreto sul  suolo , link. \\n(217) Eurostat, Indicatore agroambientale — erosione del suolo , \\nlink, cfr.', '730202dc-b88d-474c-8095-ad658246d7f8': \"Edizione 2024, pagg.199 -200 e  343, \\nlink. \\n(214) Camera dei deputati italiana, 2023, link. \\n(215) Regolamento sul ripristino della natura, articolo 8, link. \\n(216) Ministero dell'Ambiente e della sicurezza energetica (MASE), \\nprogetto di decreto sul  suolo , link. \\n(217) Eurostat, Indicatore agroambientale — erosione del suolo , \\nlink, cfr. allegato 15, OSS 15.  \\n(218) Eurost at, Indicatore agroambientale — pratiche di \\nlavorazione del terreno , link. \\n(219) FAO, Global Symposium on Soil Erosion. link. \\n(220) Accademia dei Georgofili, Siccità, alluvioni ed erosione del \\nsuolo , link. \\n(221) FAO, Soils store and filter water, link.\", '054787bf-6ea2-45cb-b63c-afc92f2130e7': '95 EUR nel 2010(222). Le principali priorità di \\ninvestimento per l\\'Italia sono le seguenti: i) la \\nrigenerazione del suolo, per aumentare il basso \\nlivello di carbonio organico e l\\'effetto spugna del  \\nsuolo; ii) il ripristino dei corpi idrici, compresa la \\ndeimpermeabilizzazione del suolo nei loro bacini; \\niii) il rimboschimento e l\\'inverdimento in ambito \\nurbano e periurbano; iv) l\\'intensificazione \\ndell\\'adozione di pratiche agricole che aumentano \\nla resi lienza del suolo, riducono i rischi \\nidrogeologici e mantengono la produttività.  \\nLe misure politiche nazionali relative \\nall\\'adattamento e alla preparazione sono \\nmigliorate negli ultimi anni, ma sono ancora \\nnecessari ulteriori sforzi. L\\'Italia ha adottato la  \\nstrategia nazionale di adattamento ai \\ncambiamenti climatici (SNAC)(223) nel 2015 e \\nsuccessivamente, nel 2023, il piano nazionale di \\nadattamento (PNACC)(224). La strategia nazionale \\ndi adattamento ai cambiamenti climatici non è \\nstata rivista dopo la sua adoz ione. L\\'Italia \\nevidenzia sfide specifiche nel piano nazionale di \\nadattamento, tra cui l\\'insufficiente coordinamento, \\nle disparità nella pianificazione dell\\'adattamento a \\nlivello subnazionale e i ritardi nel processo di \\npianificazione.  \\nL\\'Osservatorio per l \\'adattamento ai \\ncambiamenti climatici previsto nel piano \\nnazionale di adattamento non è mai stato \\nistituito.  L\\'Osservatorio dovrebbe stabilire le \\npriorità, individuare le parti interessate e le fonti di \\nfinanziamento, nonché le misure per rimuovere gli \\nostacoli all\\'adattamento(225).  \\nL\\'Italia dispone di diverse strategie regionali \\ndi adattamento  (Emilia -Romagna, Liguria, \\nLombardia, Molise, Sardegna e Valle d\\'Aosta) e di \\ndue piani regionali di adattamento (Lombardia e \\nMarche). Lo strumento di sostegno tecnico  è stato \\nutilizzato dalla città di Roma per elaborare un \\npiano d\\'azione per affrontare l\\'effetto \"isola di \\ncalore\" e dalla Cassa Depositi e Prestiti per fornire \\nun progetto di strategia e piano d\\'azione per uno \\nstrumento di adattamento ai cambiamenti \\n \\n(222) Panagos P. et al. Cost of agricultural productivity loss due to \\nsoil erosion in the European Union , 2018, tabella 6, link. \\n(223) MASE, Strategia nazionale di adattamento ai cambiamenti \\nclimatici , link. \\n(224) Il piano nazionale di adattamento  è stato adottato \\nil 21 dicembre 2023 con decreto ministeriale, link. \\n(225) Le autorità italiane indicano che le attività amministrative \\nper l\\'istituzione dell\\'Osservatorio sono in corso (aprile 2025).  clima tici. Nel 2023 il 78  % della popolazione \\nrientrava nel Patto dei sindaci per il clima e \\nl\\'energia, ben al di sopra della media UE \\n(44 % nel 2021).  \\nResilienza idrica  \\nVaste aree dell\\'Italia sono soggette a stress \\nidrico, in particolare a causa della domanda \\ndi acqua proveniente dall\\'agricoltura, \\ndall\\'industria manifatturiera e dal \\nraffreddamento elettrico.  Questi settori \\ndipendono fortemente dall\\'approvvigionamento \\nidrico e l\\'irrigazione è fondamentale in molte zone \\nrurali.', '76404184-b979-4e78-981b-f46d4856659a': \"clima tici. Nel 2023 il 78  % della popolazione \\nrientrava nel Patto dei sindaci per il clima e \\nl'energia, ben al di sopra della media UE \\n(44 % nel 2021).  \\nResilienza idrica  \\nVaste aree dell'Italia sono soggette a stress \\nidrico, in particolare a causa della domanda \\ndi acqua proveniente dall'agricoltura, \\ndall'industria manifatturiera e dal \\nraffreddamento elettrico.  Questi settori \\ndipendono fortemente dall'approvvigionamento \\nidrico e l'irrigazione è fondamentale in molte zone \\nrurali. L'indice di sfruttamento id rico Plus è \\narrivato a 15,6 nel 2022, con un valore \\ndi 30,9  nell'estate del 2022 (media UE \\ndi 4,6 nel 2021)(226). La produttività idrica dell'Italia \\nè notevolmente inferiore a quella di altri Stati \\nmembri dell'UE, attestandosi a 40 EUR per m³ di \\nacqua estra tta nel 2022 e con una tendenza al \\nribasso negli ultimi cinque anni. Circa il 20  % del \\nPIL italiano dipende dalle risorse idriche(227). \\nI dati stagionali mostrano che nei mesi estivi \\nil consumo totale di acqua del paese supera \\nle sue risorse rinnovabili di acqua dolce.  \\nL'agricoltura è il principale consumatore di acqua, \\ncon un utilizzo costante di 10  929 milioni di m ³, \\npari al 57  % del consumo totale nel 2022, il che \\nmette a dura prova le risorse idriche del paese(228). \\nIl governo ha attuato misure per ridurr e il consumo \\nidrico in agricoltura, ad esempio migliorando \\nl'efficienza dell'irrigazione e promuovendo l'uso di \\ncolture resistenti alla siccità nell'ambito del piano \\nper la ripresa e la resilienza e del programma di \\nsviluppo rurale nazionale. Le sfide rima ngono \\nsignificative, in particolare nelle regioni con livelli \\nelevati di stress idrico.  \\nLe perdite di acqua rimangono un problema \\nsignificativo.  Nel 2022 sono stati effettuati \\nprelievi per circa 9,1 miliardi di m³ e l'81  % di tale \\nvolume è stato misurato. Tuttavia ogni anno \\nvengono immessi nella rete solo 8 miliardi di m ³ di \\nacqua, di cui solo 4,6 miliardi di m ³ all'anno sono \\n \\n(226) AEA, 2025, link. \\n(227) Ambrosetti House, Libro Bianco 2025, pag. 6, link. \\n(228) MASE, missione nell'ambito del semestre europeo, 5 febbraio \\n2025. Circa l'80  % di questo volume è misurato, il resto è \\nstimato.\", 'c0f65694-d0fd-42d7-8445-ec6af48c6ca5': \"96 distribuiti agli utenti autorizzati(229). Le perdite \\nidriche sono maggiori nelle regioni centrali e \\nmeridionali (cfr. allegato 17). La Campania e la \\nPuglia sono quelle che importano il volume di \\nacqua più elevato dalle altre regioni(230). Oltre agli \\ninvestimenti nell'ambito del piano per la ripresa e \\nla resilienza, il piano nazionale di interventi \\ninfrastrutturali e per la sicurezza del settore idrico \\n(PNIISSI)(231) può contribuire ad alleviare il \\nproblema, così come le soluzioni basate sulla \\nnatura(232). Nelle proprie tariffe, ARERA ha tenuto \\nconto dei costi delle risorse ambientali e dei \\ncambiamenti climatici(233). \\nPermangono  preoccupazioni in merito alla \\nqualità delle acque superficiali.  Il terzo piano \\ndi gestione dei bacini idrografici dell'Italia \\n(2022 -2027) ai sensi della direttiva quadro sulle \\nacque mostra che lo stato e il potenziale ecologico \\ndei corpi idrici superficia li sono migliorati solo \\nleggermente rispetto al secondo piano. Poco più \\ndel 44  % dei corpi idrici superficiali risulta avere \\nun buono stato/potenziale ecologico. \\nL'inquinamento da nutrienti derivante da fonti \\npuntuali di acque reflue agricole e urbane e le  \\nalterazioni idromorfologiche sono i principali motivi \\ndel deterioramento dello stato ecologico. Anche \\nl'estrazione di acqua costituisce un problema. Lo \\nstato chimico rimane stabile, in quanto il 75  % dei \\ncorpi idrici superficiali è classificato come avent e \\nun buono stato chimico. Lo stato quantitativo dei \\ncorpi idrici sotterranei è notevolmente migliorato \\nrispetto al secondo piano e il 79  % risulta essere in \\nbuono stato quantitativo. Anche lo stato chimico di \\ntali corpi idrici è migliorato e almeno il 70  % \\nrisulta avere un buono stato chimico.  \\nIl trattamento delle acque reflue continua a \\ndestare preoccupazione.  In Italia il tasso \\ncomplessivo di conformità alla direttiva sul \\ntrattamento delle acque reflue urbane era solo \\ndel 56 % nel 2020(234). Sono attualmen te in corso \\nquattro procedure di infrazione per mancato \\nrispetto delle prescrizioni di cui alla direttiva UE, \\nche interessano attualmente oltre \\n \\n(229) MASE, missione ne ll'ambito del semestre europeo, 5 febbraio \\n2025.  \\n(230) Confindustria, 2024, Dall'emergenza all'efficienza idrica , \\npagg.  19-20, link. \\n(231) Ministero d elle Infrastrutture e dei trasporti, PNIISSI , link; la \\nlegge di bilancio 2025 aumenta le risorse PNIISSI, link, \\npag. 197. \\n(232) Ad esempio, il progetto Oristano di Orizzonte 2020, link. \\n(233) Autorità di Regolazione per Energia Reti e Ambiente , link. \\n(234)Commissione europea , link. 850 agglomerati, la maggior parte dei quali si \\ntrova in Sicilia, Calabria, Campania e Lombardia. \\nDue infrazioni hanno portato a sentenze e \\nammende della Corte di giustizia dell'UE \\n(C-251/17 e C -515/23).  \\nIl fabbisogno di investimenti a sostegno della \\nprotezione e della gestione delle risorse \\nidriche è considerevole , con una carenza \\ndi 2,2 miliardi di EUR all'anno ent ro il 2027 \\n(grafico A9.2)(235).\", 'e3739cd7-9497-4a02-879a-8d4dca5e17d3': \"(232) Ad esempio, il progetto Oristano di Orizzonte 2020, link. \\n(233) Autorità di Regolazione per Energia Reti e Ambiente , link. \\n(234)Commissione europea , link. 850 agglomerati, la maggior parte dei quali si \\ntrova in Sicilia, Calabria, Campania e Lombardia. \\nDue infrazioni hanno portato a sentenze e \\nammende della Corte di giustizia dell'UE \\n(C-251/17 e C -515/23).  \\nIl fabbisogno di investimenti a sostegno della \\nprotezione e della gestione delle risorse \\nidriche è considerevole , con una carenza \\ndi 2,2 miliardi di EUR all'anno ent ro il 2027 \\n(grafico A9.2)(235). Circa il 35  % della carenza pu ò \\nessere attribuita al fabbisogno di finanziamento \\ninsoddisfatto nella gestione delle acque reflue. Per \\nconformarsi alla direttiva, rafforzata nel 2024(236), \\nsarà necessario incrementare gli investimenti. Del \\nfinanziamento totale, il 4  % proviene dal quadro \\nfinanziario pluriennale dell'UE (principalmente \\ndalla politica di coesione), mentre un ulteriore \\n14,6  % proviene dal dispositivo per la ripresa e la \\nresilienza, per un totale del 18,6  %. Il \\nfinanziamento della Banca europea per gli \\ninvestimenti è pari a ci rca il 4,9  % del totale, \\nmentre il resto proviene da fonti nazionali \\n(76,6  %). \\nBiodiversità ed ecosistemi  \\nLo stato della natura e degli ecosistemi \\ncontinua a degradarsi, con conseguente \\nriduzione della resilienza dell'Italia ai \\ncambiamenti climatici. L'Italia ospita 132 tipi di \\nhabitat e 340 specie contemplate dalla direttiva \\nHabitat(237). Secondo gli ultimi dati disponibili, solo \\nil 9,9  % degli habitat del paese è classificato come \\nin buono stato (media UE: 14,7  %). \\nIl degrado della natura determina rischi \\nsignificativi per l'economia e la competitività \\ndel paese. La catena di approvvigionamento \\ndell'Italia è fortemente dipendente dai servizi \\necosistemici, con una quota del 21  % del valore \\naggiunto lordo (media UE: 22  %). \\nComplessivamente, il 41  % dell'economia italiana \\ndipende fortemente dai servizi ecosistemici per la \\n \\n(235) N.B. Uno studio del 2025 del Servizio studi della Camera dei \\ndeputati rivela una carenza fino a 2 miliardi di EUR/anno, \\npag. 56, link. \\n(236) Direttiva 2024/3019 del 27  novembre  2024. Il termine \\nultimo per il recepimento è il 31  luglio 2027, link. \\n(237) AEA, 2019, Number of habitats and species per Member \\nState, link.\", '49633b5f-3c9e-40bd-a7e0-19c25ac4e69d': \"97 produzione del suo valore aggiunto lordo (media \\nUE: 44  %). In diversi settori, come l'agricoltura, la \\nsilvicoltura e la sanità (grafico A9.1), il 100  % del \\nvalore aggiunto lordo dipende direttamente dai \\nservizi ecosistemici.  \\nGrafico  A9.1 - Dipendenza diretta (1) dai servizi \\necosistemici (2) del valore aggiunto lordo \\ngenerato per settore economico nel 2022  \\n  \\n(1) Dipendenza basata sulle operazioni del settore, escluse le \\noperazioni della catena del valore all'inter no dei paesi e nelle \\ncatene del valore internazionali. Una dipendenza elevata \\nindica un rischio elevato di esposizione agli shock legati alla \\nnatura o alle tendenze al deterioramento, il che significa che \\nl'interruzione di un servizio ecosistemico potrebbe  causare \\nun'interruzione della produzione e gravi perdite finanziarie.  \\n(2) I servizi ecosistemici sono i contributi degli ecosistemi ai \\nbenefici sfruttati nelle attività economiche e in altre attività \\numane, compresi i servizi di approvvigionamento (ad ese mpio \\nl'approvvigionamento di biomassa o l'approvvigionamento \\nidrico), i servizi di regolazione e mantenimento (ad esempio la \\nregolazione della qualità del suolo o l'impollinazione) e i \\nservizi culturali (ad esempio le attività ricreative).  \\nFonte:  Hirschbue hl et al, 2025, The EU economy's \\ndependency on nature , link. \\nPer raggiungere gli obiettivi di ripristino \\ndella natura dell'Italia è necessario \\nintervenire sulla protezione e sul ripristino \\ndella natura.  Considerando tanto i siti \\nNatura  2000 quanto le altre zone protette \\ndesignate a livello nazionale, in Italia godono di \\nprotezione giuridica il 21,4  % della superficie \\nterrestre (media UE: 26  %) e circa il 9,7  % del le \\naree marine (media UE: 12,1  %). L'Italia deve \\nripristinare ancora fino a 67  333 km2 degli habitat \\nterrestri figuranti nell'allegato I della direttiva \\nHabitat, pari a una quota fino al 22,3  % della superficie terrestre(238). La carenza di investimenti \\nper preservare la biodiversità è di circa 0,9 miliardi \\ndi EUR all'anno (cfr. grafico A9.2).  \\nGrafico  A9.2 - Fabbisogno e carenze di \\ninvestimenti in milioni di EUR, a prezzi costanti \\n2022  \\n  \\nFonte:  Commissione europea, DG Ambiente, Programma di \\nvalutazione del fabbisogno e delle carenze di investimenti \\nambientali, aggiornamento 2025.  \\nAgricoltura sostenibile e uso del suolo  \\nGli assorbimenti di carbonio dell'Italia non \\nraggiungono l'obiettivo del 2030 per il \\nsettore dell'uso del suolo, del cambiamento \\ndi uso del suolo e della silvicoltura ( land use, \\nland-use change and forestry  - LULUCF).  \\nL'Italia si trova ad affrontare sfide significative nel \\nrafforzare la capacità di assorbimento del \\ncarbonio nel settore dell'uso del suolo, in quanto \\nnegli ultimi anni gli assorbimenti di carbonio sono \\ndiminuiti a una velocità preoccupante. Per  \\nraggiungere l'obiettivo LULUCF per il 2030 sono \\nnecessari ulteriori assorbimenti di carbonio pari \\na -3,2 milioni di tonnellate di CO 2 equivalente \\n(CO 2eq)(239).\", 'c3eb51b9-9c82-46bc-b00e-eb0cdd88b9c3': \"L'Italia si trova ad affrontare sfide significative nel \\nrafforzare la capacità di assorbimento del \\ncarbonio nel settore dell'uso del suolo, in quanto \\nnegli ultimi anni gli assorbimenti di carbonio sono \\ndiminuiti a una velocità preoccupante. Per  \\nraggiungere l'obiettivo LULUCF per il 2030 sono \\nnecessari ulteriori assorbimenti di carbonio pari \\na -3,2 milioni di tonnellate di CO 2 equivalente \\n(CO 2eq)(239). Le proiezioni presentate nel PNEC \\nindicano un divario significativo rispetto \\n \\n(238) Commissione europea, 2022, Impact assessment \\naccompanying the proposal for a Regulation on nature \\nrestoration, link. \\n(239) Obiettivi LULUCF nazionali degli Stati membri in linea con il \\nregolamento (UE) 2023/839, link. \\n0% 20% 40% 60% 80% 100%\\nAgriculture\\nForestry\\nFishery and acquaculture\\nMining and metals\\nConstruction\\nWater utilities\\nHealthcare delivery\\nAviation travel and tourism\\nFood beverages and tobacco\\nSupply chain and transport\\nPublic services and others\\nElectricity\\nChemical and materials industry\\nElectronics\\nOil and gas\\nReal estate\\nHeat utilities\\nAutomotive\\nRetail consumer goods and…\\nInformation technology\\nBanking and capital markets\\nInsurance and asset…\\nDigital communications\\nHigh Medium Low\\n - 1.000 2.000 3.000 4.000 5.000 6.000 7.000 8.000 9.000\\nBiodiversity Water\\nBaseline Gap\", 'b6416b83-c994-461b-9a70-d1edfa85fb3e': \"98 all'obiettivo per i l 2030(240); sono pertanto \\nnecessarie misure supplementari per raggiungere \\nl'obiettivo per il 2030.  \\nL'agricoltura italiana è una delle principali \\nfonti di emissioni di gas serra e continua ad \\navere impatti significativi su aria, acqua e \\nsuolo.  Nel 2022 l'ag ricoltura ha generato \\n30,8  milioni di tonnellate di CO 2eq, pari a circa \\nil 7,5 % delle emissioni totali del paese (escluse le \\nattivit à LULUCF). Tale dato comprende 21 milioni \\ndi tonnellate di CO 2eq provenienti dal bestiame. La \\nsuperficie agricola utilizzata (SAU) in Italia è \\npassata da 12,909 milioni di ettari nel 2018 \\na 13,078 milioni di ettari nel 2023. Si è registrato \\nun certo miglioramento del bilancio complessivo \\ndell'azoto, con un calo da 58,2  kg di azoto per \\nettaro di SAU nel 2018 a 56,2  kg nel 2021. \\nRimane comunque aperta una violazione della \\ndirettiva nitrati, poich é la situazione in diverse \\nregioni italiane non sta migliorando a sufficienza. \\nNel 2020 l'indice di densità del bestiame in Italia \\nera pari a 0,81, al di sopra della media UE di 0,75. \\nLe emissioni di ammoniaca sono diminuite \\ndel 13 % tra il 2018 e il 2022, pur rimanendo al di \\nsopra della media UE (cfr. allegato 15, OSS 2). \\nTuttavia nel 2021 il livello di pesticidi nelle acque \\nsuperficiali era del 34  %, superiore alla media UE \\n(29 %).  \\nL'Italia sta passando a un sistema \\nalimentare sostenibile attuando politiche \\nvolte a ridurre l'impatto ambientale \\ndell'agricoltura.  Nel 2022 l'8  % dei terreni \\nagricoli presentava elementi caratteristici del \\npaesaggio quali boschi e prati non produttiv i, al di \\nsopra della media UE del 5,6  %(241). L'agricoltura \\nbiologica, che riduce l'uso di fertilizzanti e pesticidi \\nsintetici, rappresentava il 18,1  % dei terreni \\nagricoli italiani, al di sopra della media UE. \\nNell'ambito del piano strategico della PAC, l' Italia \\nassegna circa 2 miliardi di EUR all'agricoltura \\nbiologica e mira ad aumentare la superficie \\ndestinata all'agricoltura biologica fino a \\nraggiungere il 25  % di SAU entro il 2027. Per \\nattenuare l'impatto ambientale dell'agricoltura, il \\n \\n(240) Commissione europea, Relazione 2024 sui progressi dell'azione \\ndell'UE per il clima , COM/202 4/498, link. Le proiezioni \\naggiornate che tengono conto degli adeguamenti metodologici \\nsono state presentate dall'Italia nella sua ultima relazione \\nPNEC nel marzo 2025.  \\n(241) Commissione europea, indagine LUCAS, link; Elementi \\ncaratteristici del paesaggio nei terreni agricoli: qual è \\nl'estensione? , pag.  34, figura 14 (mappa), link. governo ha attua to misure volte a ridurre \\nl'inquinamento, ad esempio promuovendo sistemi \\nagricoli integrati su quasi 500  000 ettari e \\nmigliorando i metodi di distribuzione dei \\nfertilizzanti e del letame al suolo.\", 'c50d973a-035f-4b79-93ec-cd955b2f99c4': \"Le proiezioni \\naggiornate che tengono conto degli adeguamenti metodologici \\nsono state presentate dall'Italia nella sua ultima relazione \\nPNEC nel marzo 2025.  \\n(241) Commissione europea, indagine LUCAS, link; Elementi \\ncaratteristici del paesaggio nei terreni agricoli: qual è \\nl'estensione? , pag.  34, figura 14 (mappa), link. governo ha attua to misure volte a ridurre \\nl'inquinamento, ad esempio promuovendo sistemi \\nagricoli integrati su quasi 500  000 ettari e \\nmigliorando i metodi di distribuzione dei \\nfertilizzanti e del letame al suolo. Oltre 10 miliardi \\ndi EUR del bilancio del piano sono destin ati a \\nmisure a favore del clima e dell'ambiente. A tal \\nfine l'Italia ha concepito 34 regimi volontari che \\ncompensano gli agricoltori per i costi aggiuntivi e \\nla perdita di reddito derivanti dall'adozione di \\npratiche più rispettose dell'ambiente e del clima , \\ntra cui una riduzione dell'uso di concimi e pesticidi, \\ntecniche agricole che proteggono la biodiversità e \\npratiche di conservazione del suolo. Nel 2021 la \\nbioeconomia ha contribuito al PIL del paese con un \\nvalore aggiunto di 98,2 miliardi di EUR.  Il pian o \\nd'azione nazionale sulla bioeconomia è stato \\naggiornato nel dicembre 2024(242). \\n \\n(242) MASE, piano d'azione per la bioeconomia aggiornato, link.\"}, relevant_docs={'6c67a361-1d84-4876-8ed5-72e11dd2f21e': ['80b9998c-32d4-42f7-94a7-1a36155b382b'], '5377179f-f310-4498-9a81-4a644d21eef6': ['93b772d4-52a6-44a6-a331-0eae1fdf33a5'], 'a980095d-5cd4-4112-9b80-d3d1e7023f44': ['f612986a-0b1a-4c12-bdf1-2c2107733db7'], '364684a1-eafa-4081-ba35-bb669d1657b7': ['b87e8ec1-9380-48ad-9428-47c47ede0e76'], '2356fbfa-7df2-467d-ac72-ef26ed474fff': ['4a5026bd-2856-497f-8276-9de39b7562e6'], '4076be16-ad8b-404a-be85-d9625d6e0d4a': ['bcf8b10e-62bd-4070-8e2a-39059f1d4d83'], '1eff24e6-64f6-430a-aa78-781f43daed24': ['b7e7a0b8-26e7-4fbc-9bb2-39219c920f16'], 'a1ee36fd-ef3b-415e-9e21-f4f404b2af75': ['783f02eb-ad81-490c-88b4-3cacc3b8f1d0'], '56ede19f-d398-4df5-b05d-0e14db76ca30': ['13afc537-7d95-4e7d-9034-bde7cf52b09b'], 'b67ffe94-6114-4601-9ade-3092b865094f': ['9f9cbc6d-2913-4243-8363-6d7b5e278bbf'], 'cd4d7365-4554-4a3b-b120-f365741dd060': ['aad76448-29c4-4472-8438-4dfcf4f8fd4e'], 'e8b6e339-d287-42c4-97b0-4796ea779f2f': ['ccd3a1e6-e44b-4008-9cdb-f3164494e1b9'], '5b5ce122-7db0-4810-9369-1ef4ba8b44f3': ['39deeafc-9912-4139-8ffb-cd5ef2b246a0'], '8f8be51b-117a-4f4e-b2b2-b10fd9ecb136': ['1d6ffd1b-189c-4cbb-9d41-7ad4dd1ca50c'], '79820b18-503f-4dfd-96d2-929bf1178f8c': ['8a8bc762-6066-40c7-b658-2e2efa39a87a'], '14c2e202-884e-47e7-9b7a-1e0b735529c6': ['6bcc78bc-3a1b-4354-8bb0-f244cafc9eb2'], '58cdb3d5-24b4-4e78-9890-2e04620ad9a8': ['b69e2c9c-7ceb-48ca-bbe5-eebf67ff2e49'], 'fe9c81f0-b8b7-4461-8f2f-f6502cf96912': ['c00cc63a-082b-4b41-8c8d-ff960a6a6eb5'], '677159c2-b660-4c3a-a5e2-072261bd66b7': ['f94ecd00-b14a-49ea-a792-bc16d6e275dc'], 'f89b3e5b-f8a5-49ed-97f6-c8c038d90826': ['8c8d3cdb-8fad-4ae6-bf35-2f2c02e0fa34'], '65dc4543-ef26-4ef2-885d-b9fe8df97e50': ['6b08dcea-f67e-47ae-9dbd-51fcc2fa52eb'], '406a7492-72d2-4033-a87d-0f1adac17331': ['0ca80e86-5b73-4984-9230-1266930b22fc'], '1ee31264-1e32-4d7f-a960-c405db37bb43': ['f23cfbf4-224a-4460-881b-8e18cfff1f82'], '42683fff-7c72-4f42-bf24-8085f0f9323c': ['5209231e-0fe3-44ad-bce9-ef01b219f24e'], 'eb55bf0c-02a8-4053-a566-cfe9214270cf': ['e360aa6e-6c97-4d1c-ab1e-3d7de02cff75'], 'd291a84a-8f90-4d87-875f-26b58aaba4ec': ['e9f2329b-9ed7-4bf0-b1e3-86c5244d61ba'], 'db70b5ca-6b6a-4512-9642-71f34836a469': ['348011f5-69ac-45ff-b4af-bca6dbb92669'], 'cb872ee3-0247-42ef-9ada-6074f5f1805f': ['03a0719f-b9a8-4e4f-9d3d-3b5156c3f4d7'], 'f0309b01-f32b-44d5-aa70-8a4d57d586e2': ['cb2a2d49-196e-45a1-abce-a4db08cda1a1'], '1de6c5a0-6793-4c6e-9735-5244ff538e4e': ['60e1caef-cb0f-465b-bc16-cb80012c7a82'], '369e14f5-d5a5-47de-b5ba-a0eb3d93283b': ['276cb80b-5191-4cd6-af47-ce6551981c8a'], '38edbeb6-a3ae-4e47-abfc-28077b54197c': ['072c5a3a-2e6d-4a35-9502-5f79e7b27d13'], 'f481ad52-021f-4793-8f39-7466108f0187': ['0b8e8676-ba3a-463c-8922-96afa94d66c6'], '1465f5a0-9b90-48ee-8cb0-c9d0331924df': ['9f3d44dd-45a9-44ba-9207-9f26b223dea6'], 'f56aa5bd-b0bd-4ec4-bb25-dc7160b05edd': ['b2212e96-f95a-403a-961e-b800cad2723f'], '607b68c9-4dd1-4cbc-be24-74b7582db6cb': ['b5350b05-95d6-4bcd-918d-facec1f3ec27'], '42882ca2-c8a5-432e-813b-67280615aa0c': ['5146df55-8752-429f-bacb-d87218ec0d6c'], '2c724343-7689-4178-b1ca-6ec783f01b82': ['ca82b433-2650-44ca-9764-6f627f7e1a3e'], '6cab01a6-b6c1-4e81-8118-ed318b6941b8': ['e3337ab7-ccd1-4170-b2c5-fe43be368b07'], '1c3a4565-a2b1-41fd-a9f7-0c9d68615d81': ['6ec444fe-2b4f-4fa5-b3a2-d7eaf1481962'], '3b17e5ad-fed2-41b3-9c60-c63ebe380b43': ['1975e3fd-8b08-419d-9ee3-e72d81fb72bd'], 'd2e7b1da-a9db-41ae-b785-c35de248a379': ['f54436b9-8eb2-4bd7-b32f-8555a379b7f6'], 'ccb6c601-463b-441a-ad27-bb338e1d497e': ['ebd83e36-3e16-4147-bc7b-5ca18836d59f'], 'c7cf7013-9e1d-400c-911f-8fd948877939': ['4a89ec47-3e95-4311-8d5d-aaf66464a68f'], 'ca65d52f-2947-4bfc-a6e0-8b7f4bd032c5': ['5c93691b-6e3a-4596-87cd-363732c2a85d'], '156c6021-6934-4c1e-abad-53842711b2c6': ['c515195d-ed70-4608-ad87-ae6e949dec3f'], 'eb2392b9-c9d4-4247-8d7c-25119d9034e5': ['94aba995-5200-43d4-b2f5-185ba6e8f6a3'], '72c11315-9c1c-408b-9c7f-8b2c6bc204d3': ['f225b188-4d8a-43c4-9b36-bc8981e7ec7d'], '6dac069e-ce75-4f25-8702-fe8f18930870': ['b50d55e4-0ac5-47fc-b9f5-f4a90c0d170b'], 'a9daa803-ef8d-437b-9465-45df880ae8da': ['2566718f-7a6e-4c94-ac61-e01296d05b5a'], '55dd682c-20c7-44bc-ad09-06b72d77c2b6': ['0b15e548-abb3-41fb-832f-cf0acb871757'], '821f5a1f-95c4-4858-a96f-b238b591577c': ['e45b347e-e862-442c-8297-952b0cf0f77a'], '2b5b2e17-f239-4879-a303-e17c8b03da70': ['4d876127-f83e-4000-bea8-0f05f3e78a47'], '80cfc8a5-25d9-4e06-af97-59b616337142': ['56e1d56b-ac68-4e3b-91ad-e0dfc82d6939'], '918043b7-b4be-4ddb-92f7-a7d9e41bf822': ['b67520ad-a52f-45af-a7b0-4185527a699c'], '1c2f50ca-4007-4a93-a7f6-d3ea47ef55de': ['f763d1e5-d858-4abb-aac8-56b086600d7d'], 'a39ac41b-5274-4f14-a25f-e91c8c8a53b9': ['e96386a3-3796-457d-875e-2d6c7bdab02f'], '6f3c45e3-7a7a-4d20-b91f-d3e1f5d46472': ['79daf5a6-6f43-47c6-9190-903df5ce8e83'], '9da167e8-c0e6-4ac4-8d99-4ab91ac312b1': ['62c2ff52-d1e6-499e-9a8c-257969eac596'], 'd0aea7cd-347a-4f7c-827b-8a856d4bf798': ['88f2b957-e3d8-4407-a98e-e60e984af1df'], 'e4594251-3c10-4936-a2c6-f0d2e685e1dc': ['b44505b8-3576-40dd-8433-faa72c2a6abc'], 'a60cec72-29c1-42aa-a032-4c57e4473ed4': ['49114196-e87e-445f-93d3-4f01e02a3498'], 'c2bddc81-1253-4ec3-82ca-edf28dde43bd': ['3bc27a57-eec9-4337-b14c-e65e6dba605a'], '8905d0c1-6e18-40e9-aadf-09a1b5d9815c': ['af101dd0-e61f-4379-a400-1d912ea60c2e'], 'c709aac8-ba27-4eb7-adf0-7a601243798b': ['14f340fd-2464-4f00-8b9a-b858bc86a5d7'], '7cf34185-59bc-4f1e-ae3b-95927483fbcd': ['220c35d6-67ce-4e2a-ab53-0641b7285238'], '557a47f3-6c9c-431f-8de2-71880113970c': ['8a0b064f-8ade-49d8-b571-65c66acfb7d8'], '3bf480ad-aa30-4257-934a-1868bb86009d': ['7d1088ba-b329-4ff5-8553-4b401e546d9e'], 'd0419b19-c286-456e-9219-c8165fa74ae5': ['e33d8312-9b8a-4127-a297-f65dd013b3f0'], 'c6867403-0e1e-472e-ab71-16dffd6e1c4d': ['6c6e8887-36c9-43e4-ae13-dc36b2213441'], '09e672d9-054c-4a33-841e-bb5f5af32ad1': ['8cfec052-c1a5-4f14-b22a-7b80b7fd9670'], '84e056fe-207b-4e82-8c2c-1bfab008215f': ['92fb9430-8831-4916-99f7-d7942d83a93c'], 'a4ff7ba5-010c-4586-873b-5c147978494d': ['49973546-af55-40f4-9d5e-55b7fca6b5f4'], '59d22925-5280-4807-9ba9-7e3752d0c9f9': ['d170637f-f803-4002-a757-5debacc513ba'], 'c819b634-f2ae-4e0c-bdcf-87a761f2f360': ['05137cea-4f7b-473b-90f6-1ebe497f9a9f'], '824d6aad-9f98-4056-9382-37395f30b570': ['c6f3fedf-2406-44a5-9a8f-ce551099c092'], 'cb613224-ab3c-4ea8-853b-fd756eff6789': ['9bc84581-8926-4c6e-af26-130cd50d2518'], '09cf0aa9-2199-4a73-b438-6b000c3e18a5': ['3fa5ab68-0d39-4726-9b56-cec39e496698'], '38cb66fb-3e80-41a2-a417-b82d811a4d24': ['d3005f27-aa1a-496a-965d-9b1c9811c894'], 'f6362df2-cd58-476d-ba3d-a3efc00f02b7': ['013f2c2b-8f90-43ee-831b-8e61d666af06'], 'd0d45b09-6eae-4eae-b669-b463c460248a': ['667eab0f-7c6d-488d-a3b9-3d6b7d1d9480'], '254fd73a-f733-4b7e-bc4e-2c8380b59332': ['d745cdad-ac1e-49e2-9dea-b4b515785f10'], 'f64b3530-1241-419c-a54e-521a465925ee': ['04ca17b7-ff53-47f7-a402-cdf0f974a483'], 'c39307f5-dcb6-4d68-9b5c-d52d17baafed': ['94dae60e-114f-449c-937c-4d7fa72bb704'], '4b9a98ed-ccf5-4db1-af60-eb08db6765dc': ['8c5862ef-19ee-4155-a0a6-048b8256a822'], '9c32b8ae-4b5e-40af-bb6f-1ba2af5d4ef7': ['9edddc04-171e-4e7b-80a0-6d341f46400c'], '77624822-ad93-46c9-bfb3-8c0de7a61b01': ['920117b7-865f-4ce7-bbe7-b0cd24dbde3c'], '702deeb3-5cd8-4e80-9000-cd68d207b674': ['fc510667-702e-44c2-99fc-2ab2d5484541'], '17c21e25-529e-492f-a24b-7399b0d6936f': ['92a777ed-da2f-46c0-99dc-eac29d57f28a'], '62bdf067-02d6-47cd-955a-95b1c9b0db11': ['cbf79a20-f147-464d-878b-ff7cc793083f'], '8f3e475d-e62b-4eed-8788-9021b3bbb0dd': ['ee8509bd-e4aa-4522-8e29-ff4833965dae'], 'bc3b7c7f-0754-44da-a165-d3f49a5ef532': ['12e6beff-4b08-4d3e-8e8b-b6fa710a4b9b'], '14ecfb79-a6e4-4b3c-be7d-1d595ddd1e45': ['9e3f0a23-249b-48f1-b0f7-c85720ea0c35'], 'a87deb49-8cd0-4b58-b550-2f1452316de3': ['d9110261-9b06-446e-99a0-f147730e2971'], '2260c43e-fa98-4464-875e-4bc0f298807f': ['7cf10014-7e77-4af7-80c0-3f2ee5e4e50e'], '4e79630f-6539-4384-b2ac-2ab147e327e7': ['1c56c4c4-0f9a-4a0a-9c78-ca342556c46d'], '138b3ad4-f896-4385-bc9e-e5cb1c095745': ['ff62c998-4cdd-4bdb-8868-f849e093bbaf'], '33de7334-b09c-4367-8be4-cf0938a03933': ['2f56925e-d9e1-4a8a-8e9e-271796eddf7f'], 'cd103051-3ddf-47be-92ee-8e1a3088751d': ['e7e26785-9f03-42e1-b16c-60e491ed1a97'], '781780d6-32af-4e60-9952-581ea0588bc3': ['56711f78-5068-4c5b-aa14-24c8e74d867c'], 'd0736282-09c1-4702-b715-c81c8f9c2ff6': ['52fdad19-a116-423b-b731-27aa7d2ef513'], '5f7d9a8a-2b44-4675-ad32-f8dfd83777ad': ['1de83105-8f80-410b-af6c-1626e3f0501a'], 'da508b31-b444-42be-9873-105cf5dd7e86': ['af0a3897-22cd-484b-95b2-b2dd335d0205'], '0a311b20-d4de-4088-a41a-3a2b3b19f66a': ['d55108df-fd5b-47a3-94d1-30ee318fc561'], '5667cbc1-0e5c-4efb-b6a7-28870ebba2a7': ['868df7ff-a6af-4a97-8efd-9ae669336776'], '4a682704-8465-45a3-baba-e9f48abcd534': ['b86dc084-cc55-4cb6-89f2-ca431f1ec3f7'], '6c8424f1-6612-49ba-9740-f056199c05ce': ['2ff463a5-d8fa-49fd-a958-5599f38280c4'], '5b7b05cf-56ae-43a1-839b-da9c099ae749': ['4dcc3ed1-63d6-4c37-beff-634373ec3eb2'], '61900949-c343-4c62-a493-3a74f29446f1': ['7e353c90-e63f-4769-8894-e23c65f74987'], '53967852-4bee-45b3-95f7-eb3c46849bc4': ['9fed7024-78ff-4122-b12c-e44c6b9e5135'], '243bf257-195e-4cd4-9127-ea5b6dd5c085': ['647a4da9-8e97-4a68-908b-e2f2200ba617'], 'de38ad88-87a6-4d51-a038-d29e2e122df7': ['64fff9d1-fa30-47fa-8f9f-c9f4bf8b1a43'], '15a7d9bd-dc98-433e-8c38-4593fd8e8ddb': ['c9b2cc8d-fcf0-4cb0-80f9-f2f212dcdf60'], 'cf1f59b4-fac2-40bc-bddc-eacb5dc0ee2b': ['6ca0fbf9-6c27-4f2f-bc81-52db5110e3b5'], '319e556c-604a-44f0-9b7b-5ef24385aec9': ['541c4c0a-0efe-4d6b-a380-4292dd8eccf4'], 'cb09f8d1-8c7e-48b9-a6a6-7617669c9488': ['919c5850-e573-4db2-8cab-1edfcde7fd52'], '9f8d8c39-bab4-4990-aa4b-f7f82e59809f': ['e199e9e1-866d-4eb5-8030-ad112dc37758'], 'c3c29822-3749-4fcd-a822-d3f92b235971': ['e8810b27-1790-4183-b022-55140d13e6f4'], '805f2d98-493d-426c-8e73-a9a43f8aaf59': ['ebc28fe6-18cb-4571-bccb-236161af0f3e'], 'cce1ed27-bf9a-41cb-9a28-f33714bc09d6': ['3f179f33-1201-4b90-8fa3-3afb10155eec'], '1f575426-8740-47bd-be4f-5b9127df6128': ['af069a23-9ca6-40aa-a075-3c5bdde475d1'], '86217d5b-27df-49d3-9f20-110ab474a9c2': ['ac0ef166-bd5a-4a2f-9c8a-d15d3505a5a9'], '13764cbc-384e-46f3-ae51-00fdbe64d682': ['937769ea-0c3a-4ff5-8eb4-1da404cd4e2f'], '08266214-a90a-4290-9029-49589b8dda70': ['b52f13d7-9887-4594-822d-28cc617fe820'], '34ef8148-6cf2-41bb-aa6e-a16d628ca6b7': ['8c7e0958-22e5-490d-95b5-7b7abab127ed'], '2f5d80b1-ef77-4023-825d-05e7658cd2eb': ['ffce7eed-1f43-4229-b694-1f291c277166'], 'c88ea696-a6df-4b54-b94e-dd76cfa84252': ['ea08fee7-d89f-4ae6-8547-828173112f50'], '625c18f5-457f-4119-a73b-eabfd7e327fa': ['c9c7efe7-df50-450b-b05d-a0a808df8c0f'], 'f779a1ce-a107-470e-902f-6fad6572daab': ['bdf4efe3-df2a-401b-8dd5-7a6ad9371928'], 'e87874a8-62bb-4c2b-bbd7-2694dd587b10': ['5ecd8aae-666b-412f-afe8-c21b8ece2255'], 'ade4c463-2602-45f2-9040-a3e7c16c6b41': ['62e1f87f-7b12-4440-8843-bdcc89f02016'], '74ffa3dd-31b3-45f9-a6b4-3c8cec0caa64': ['2c7ccc88-d154-4b2b-b3db-71f939bba93d'], 'dea8bc07-adb6-4890-bd25-257c3a7a3552': ['00582542-628b-4818-beae-24e4234a1cdc'], '6166f0cd-f34d-4443-b7ed-add27c0033ae': ['1677eefa-74eb-43fc-8f3b-49cddb6b472d'], '73d368a3-cbd1-4e11-bee2-93890ea29144': ['0ddb84a7-fb5d-452d-b2f9-4cd3a412fda2'], '6111569d-9d08-4e39-a3e9-e84f4050aa65': ['3659a995-e3fd-4caf-abcb-e03036c29a34'], '7a59936c-d322-4ab1-9ee9-c05f6236b5e5': ['89e248bf-a77d-434f-8cb2-c8179fff3516'], '0e9da373-7152-43ff-9597-5448cb890c5a': ['622ce1bb-9d10-4a8c-b222-ccb1d09d7b4e'], 'abdeff9e-5552-4b6a-831a-6a8f33d73362': ['ccc7d81a-c16c-4afa-926c-1981763abdd7'], '2eae94b2-71cb-452d-b5d5-60acf302eb58': ['bfea1fc8-bdb1-40e9-ad18-3b3609704d2b'], '7e3c35a5-ea3f-4793-92bb-162ed9e218ed': ['e81fb935-4ea8-4a80-867d-ed15f40d0a0c'], 'f0bb80ea-4a49-4565-a73d-13461a0e0d93': ['643f737b-cf3a-4b11-89e9-33c00f261506'], 'a581dd4b-b115-42d0-b4cd-104ae3f6bd40': ['1f461819-49dd-4f13-b3bb-4308d86b3df6'], '1358ceb8-6384-4016-a52c-181faab7d430': ['aa3a0981-b8be-4576-b64b-9d0145acb1ce'], '596bbd2d-1370-4185-b27c-d8409029dbac': ['e9370f14-f42b-4812-ab5d-18877af9d174'], '17c5662b-d69d-4625-bf80-7fb5ecaf253a': ['cc3fd76d-75eb-4b56-a9a7-427f22113efd'], 'fd723876-f369-4fa1-beac-903cf8998c40': ['cd7d65b0-8249-485e-ad95-e248e591b1d0'], '9b7905c0-0190-4221-8181-22dd9b841e9e': ['994262f2-b9fc-467a-985b-12827fe81e94'], 'e8f34c96-15ff-466c-b16b-dacfb2e6d542': ['1c2428b4-ed78-4c2c-b3cb-c5be09af7614'], 'e48169e4-840b-448f-9cff-1db5609178d2': ['749572d9-7b81-437a-bb3f-41cd36eee9ef'], 'ff550ecd-6163-46b4-8386-1052ad1a0ada': ['41326a54-64dc-4812-a1df-a5fd9b06e415'], '1e21bc56-3757-47f2-b9c1-954d8f756f97': ['42c55ddd-4ade-4a2f-9b0a-078e4d58843c'], 'c1f2c624-fac8-4359-86b7-72e48bab5146': ['b386e704-15d8-41be-a55e-16fcb2441f57'], '56a5a578-fa2c-45fc-a42d-0c349700c1ea': ['41dde87e-2a97-4af5-9050-123c5b596333'], '5b160ae2-ee0f-4040-9997-dd4fc01c7085': ['36a7c02d-7b7b-4495-8850-128b78903df4'], '617cc5e6-55c2-4411-a1d3-34e0549fd64b': ['f5dcc9c3-cbaf-4c13-9c8e-acade17d22ce'], 'ff6de80c-1faf-483a-baab-e72f73dbb146': ['404daceb-a400-4766-94b7-a8c0267e9551'], '8e9e430c-1d21-46cf-9dcb-6b466bf1fcd6': ['1a85f16e-4512-4f18-a437-2f5da80899d6'], '612905d4-fb70-4645-a110-4923fdc544c4': ['a21c81df-1a61-4a18-ab10-232f759ef6d7'], 'bec324f9-ac5a-4b53-bc5c-9ab66bf58ac1': ['f7dae520-36de-4cdd-9c7b-4d0ee56c6be6'], '32dd12fb-860e-4ca0-8ce0-1fb7dd300056': ['fd26814e-d8dc-40f1-ae08-928d6235bbdf'], 'fc664cc8-d24d-431e-a509-4e00b4aea031': ['ce4377e7-769b-47c9-b66b-1c0406a62259'], '88e69e64-c5a9-489a-a882-eb7f1bd6282a': ['5a8a75b0-7288-4827-8215-6a3db89009d5'], '2c513594-f671-453f-a3b3-7193f91b1446': ['7adc124f-e96f-4fc8-86ab-625e0e7019d1'], '3a65c24f-3d63-4732-aecb-058a41817ab9': ['7a887b4a-639f-4248-a407-0f647ddc5579'], 'd51a938f-10f1-4d1f-923b-6af50547c420': ['2a1bee82-9607-49a3-bf64-63c3e3b0ed78'], '8e5bceb0-cb2e-4b58-af07-135a9c5261ee': ['0296848c-5079-4fa8-ad74-6d01e31aa7e4'], 'b3ecde4b-ee65-4a86-b1aa-a660791cfd09': ['657c7244-2a72-4dc6-a179-657ac1d6c330'], '43960b02-b8f0-4be7-b891-d0e8d5fcfc6e': ['968f72ea-e750-4859-84f4-f9bb02cad275'], '89455260-a3dd-4988-9233-035f7d1c06ac': ['933349b5-57f0-4271-8a58-92b44695c164'], 'ecdf96fc-7c65-4a10-b072-ed01892fa1c1': ['df7c5d2d-513b-4add-84f6-5075ca387d65'], 'f8d15b1f-4d9c-445c-a67e-4fa51e09862e': ['27a0ec20-b1d6-42af-a08f-3a5b2cd9ca90'], '2cabd483-1a75-4fb3-a133-be1bd1bc18cc': ['f20768aa-b0de-4f0f-ae6d-0f7d4f6259a5'], '1b9b5bad-3d22-4f0b-8de8-1b481afd811d': ['560a6634-53b1-4b31-8487-ce71080c1dc7'], '25fe166c-b528-4b1c-a3ab-c6332928328a': ['61644595-b71b-4cbf-8ce5-1a98acf62287'], 'c77c3aaa-56a0-43c9-9bf1-1b17d5aefa5d': ['49fbd612-9fd2-4daa-9244-1c004e7bd0d2'], 'ed3dbaf3-4dd0-44bf-b3ce-0f021b6ba2a2': ['6a38b90d-d7a3-4c40-9878-b0530dd49598'], '8dafa60a-13bd-4a18-8dcc-b4b1f68bcd7f': ['f87cb75d-3752-4e65-8f0b-1d4839468911'], '1466d5cf-ee7a-422a-ba20-636a29d28d6f': ['752074a2-db1c-4bbf-9751-5f5f4c594be6'], 'f37792cc-4428-4b31-bddc-59653f9ed631': ['4a1a09a5-efbb-44fe-9e3a-1144de4d61e9'], 'ecce9112-6d6f-4428-96f4-d3ea9646782e': ['6ace91bc-8916-4b98-b06c-192bec58014a'], 'bfe0b03e-7c85-4b60-b26f-cd669603e427': ['7a050eb0-53f5-43bc-a8e5-7cf88ac5b7f9'], 'd1a88a54-999f-4224-ba1b-92a50c2757a9': ['7d07744f-5668-4a09-aef1-18b2653d35d6'], '1e1d3c95-a0ad-4117-b016-aacea787333f': ['50c1c87c-2f52-43be-8e9c-fe51a202a87c'], '4aca3fd2-45d4-43b9-8280-f37f979f6ac9': ['96bf6764-9f7a-4e94-9b2e-4975240bf199'], 'c5cdc172-8a3a-4b4c-89d1-84e7f4cd663a': ['e2c7a95a-fad9-4f65-9a3e-e6df18ae1509'], '6636f1b0-c7e2-462a-82b0-cbb9c4a92552': ['20aef25a-33ac-4702-8cb4-911679e3a226'], '46b2571b-bede-4888-bb66-c70b79df5017': ['f77e8eec-a4d4-4702-8d6e-b15bd5e126b9'], '16bc33f4-ee76-4e52-a412-d2c76a965a26': ['8fdeb7d5-267c-44e3-8285-80fd51234606'], '084a0066-c655-4608-a6f4-b7e907fbe96f': ['321f8eef-6af8-4483-8213-f2a7f9f28d81'], '06ba6dbe-fbc3-4f8a-b12f-9e4dafcd674b': ['35ef0ad6-dc9c-4e3c-b6be-eae63e1b2a19'], '9450faf9-cc97-41ba-a956-bdd7d4b237f1': ['2a015035-a4b4-4be4-be61-1b7f0c00ba1e'], '87d26aad-bf77-4cbf-a4b0-ef8b5060ee1b': ['0a0f0dd6-6529-4192-98d7-4a7dd7765968'], '45b0e990-80ff-431e-b933-feb697661cd9': ['765ddd97-8306-48c7-9c62-f29925081396'], 'e1cfb936-18f4-4df2-9968-88a6df56e5e0': ['601b09bc-7346-4e89-86ec-b2209e8ce154'], '0471f428-9980-4e31-bd28-90f15b1f6e7c': ['64d6c5ca-2e1c-4d8e-addf-d533099adeb2'], 'c3f23e61-6b55-4598-a17f-94fcc20647f8': ['04419f83-3869-4c55-8930-318e563f389b'], '3e6a8c93-dd7e-4047-868f-b30036f60cd3': ['318f22f6-bb28-4d37-8c78-7c7ff19062a8'], 'c9e43ad7-1f96-4f42-bd57-9201ccd1c9e9': ['a6151d75-dba4-4404-8928-e1e007d5c184'], '6274cdd0-f885-44bb-9841-0be292665bb6': ['6cc527cb-f08c-4910-867b-ec276bf7d779'], '2e63763b-4098-4ca5-bb60-b0b3c73c3f38': ['ca0853f2-67af-4c53-85d8-7de5310e7b07'], '34a0c5a2-8d78-415c-9196-1028fd7fc8df': ['6d5ed219-cf32-4319-a4ff-e3fb76c048b0'], 'ebb10f10-a2c2-45c8-a28f-bd9ccca3af42': ['e39997cc-59f0-4cc6-9d63-b320d5139edc'], 'b049abbf-9968-4dd6-ba5e-583ecbc6559a': ['20274f42-e4bb-40d7-b757-08fd0f0b596d'], '3ac450b4-fcdf-4010-a4c9-1b9be0dd8e32': ['450b562f-0a3f-403f-9851-522d24934fa9'], '99d6543c-893d-4bc7-9d83-5fb585ac66e6': ['496f7ae8-f4da-42f2-b4e5-3263aa1e988a'], '53824f7c-ad45-4401-802b-bef17ad51361': ['7c5e9b6f-d110-48ce-a2cd-64692f5c29ca'], 'd770f89c-4839-4ed7-9250-a1a47691796c': ['a86f1908-6b69-4ebd-8149-3e9b1f430dcd'], '0224d52e-ca92-47e9-bb86-f9a95bf00a7c': ['785a4037-757e-45c5-8c1d-f34cad0002ac'], 'a8fb6cf4-98fe-4a2c-9cc2-9ba88aa5b2e1': ['da95f951-fe1f-4a68-8ab2-b3ac9e92fea7'], 'a04cf159-5f1f-4094-a5c1-9efad7196b7e': ['0ea15410-d407-4bb3-aee9-10b7c56617c2'], '5ef87b28-98f7-4a40-9541-65eb1b42dac4': ['80515a8a-a1fe-4e53-8027-8792e00f1bab'], 'f3c44008-aa6e-4287-b03a-b011189b5fad': ['d6f05a83-62a2-42e7-91e5-520f82f7dd8f'], 'b671cfd7-6e46-4ee2-b1c3-ddae38513eac': ['0080ba30-5dd5-4dc7-96e5-19a1c1af060a'], 'd60af6c5-a1e4-464c-aed2-733db5a9272a': ['be6aaad3-ad7d-4ea1-9d32-3b2c1e16eb3e'], 'd3e9704a-6d7f-43cf-9250-59513f932012': ['f01729c5-7dad-4abb-aa18-3c3259bc51c2'], '0ae0b3f8-f6d9-470d-8ba5-0a2a5d7d7798': ['d86b7319-286f-44d2-be07-f2e1dfc4c5d1'], '96b454fc-7286-4af3-afb0-ebbca595bb21': ['4af28b73-6098-4fa0-a6cb-0f2f88a26fe7'], '52f914e5-e75d-41f0-96ec-bc71d0b19e9c': ['c3beb6ea-6bfc-4bbd-a6ad-4944bf5d4295'], '7e3a4ca5-79f1-4c9b-bab4-98e29a0b5676': ['495ccc7c-32ab-4bc6-8784-8bd94a315af8'], 'd32ec103-c8c1-4cb0-b502-c6c39d4ba0d0': ['f0b40119-c975-4f57-ad75-ea87daafa985'], 'a2f42308-56c1-4d34-944b-de037de2d9a7': ['60737231-42df-4bbf-aeaf-e16b47ef0380'], '41105601-bd90-460b-85c0-287b6273b526': ['35cb6069-e572-4445-80d5-e169031a3547'], 'cf325713-769e-4a31-8ea3-a18b8fecf21e': ['64e17612-a638-4b87-afda-9d17db9297de'], '0fb8774f-2baa-4f2b-965c-b8d89bc99566': ['52b32527-4c17-46a8-b15b-5ea8a1c2c75c'], 'f5797d59-3594-4258-b7c2-f6770dce38b5': ['a70cdd32-e846-4073-bf95-d3bb683930a5'], 'dbc38f0c-976e-42e7-8c78-b29d33cbe7e0': ['45d1f8d3-ce39-4e05-9362-cdd81ff26b02'], 'ae49d13f-434a-4e97-94b8-d40553067ba0': ['f1b6e8e5-b2eb-4b9f-8ca9-4479ee256852'], 'dc4aae6d-11ba-4917-a567-10b16f505689': ['5e12cdef-5e3b-463e-8c04-9663c0331f03'], '66c1af4b-0000-4a0f-9fba-33551bec1ad1': ['debd9ee5-6a7f-4597-b07c-07dfd48a5c03'], '8802208f-3e5c-4685-9b63-6b95c5423681': ['645c1e67-651f-4bf1-8fd3-fea1e3307295'], 'eda59383-b87d-42e4-9485-2858c3bb5b57': ['abf4b055-0149-4c52-be4d-b8bd6f4f7a87'], '85af40bb-bd18-4102-9f14-5930d5adb0ff': ['4fdc3ce5-2f01-4c35-8337-ad31f9e6004c'], '51c7d44b-7761-4130-b5fe-4697e90f66fd': ['ed16dd7c-83ea-4ebf-bafa-9c9f942a5de3'], 'c46e4e0a-970d-4c62-9f3e-db3dd992b316': ['86700f0a-db7e-4ea4-a0d5-ec3fb8c650d3'], 'f3aaab17-010e-4071-a470-d4e6ac89190d': ['ec3446ba-1dac-4b24-ab1d-ac660be5ff0c'], '1b01a5cb-a334-44bf-934f-9b7d67959772': ['d2657657-51cd-4cf4-9b76-ea7c5ab8c0ea'], 'eaf06db7-5d22-4bec-91c7-bb7cd36fd507': ['efd674cc-5850-4394-a76c-bee2bd7bce63'], 'c61a2da8-30b3-4755-aec3-3b6cc0e24b44': ['d7071166-d7fd-4672-a039-1d1dbd9bce24'], '39eecf61-b65e-4363-b299-45dac55115d4': ['0e1bbe6d-a38e-409e-ad9f-26eddf18211e'], 'd188b600-5e01-4d3e-8840-f310670ac98f': ['5b5a14bc-eb3a-4417-bf7a-536e76e5d3ef'], '5859df84-859b-41e5-a365-e38964e52c09': ['d3d0a4e8-202d-4de5-aad0-06110ffd0588'], 'dc393883-132c-4d3b-b18f-a9895bdb741d': ['8bd126ac-0f28-4aae-94da-0407d37c33ab'], '82f5481a-4c6a-419e-82f7-bb9077f47187': ['5ae137cd-df5a-4b17-920a-7e18015af80b'], 'b7e16391-1e55-433e-97f0-8bf628a6f0ca': ['90cea18e-77bb-4257-8bb3-aee1705d2402'], 'fdf51ef9-2993-4a22-98fc-dd287ea67f4e': ['bf48b639-3831-41bd-b7a2-e5fdce68d4c8'], '05f9345e-4fa5-4457-84c8-e8d6b68a1938': ['af178d08-3c4a-4235-8ab8-602732bb0fd4'], '34108ae6-af1a-4539-b8e0-4e0bce303e3e': ['298a5831-06d3-4680-8f84-956e9184373d'], '1344a1ef-a86f-47d8-ba38-0622ac530b44': ['b9e94441-d97f-44b9-9586-e782adb29f9e'], '67429d2f-3a74-4b71-860f-7b677b2d7b4a': ['249f5ff4-9e23-47de-947b-2d795593bdd8'], '97bdf203-6778-49ec-ad65-7314d7bec4dd': ['b4b510a8-750c-4400-8b41-eac75fb45b36'], '83b823e8-a411-4fb9-a059-ce95b4565248': ['730202dc-b88d-474c-8095-ad658246d7f8'], 'de8a901b-0676-4da0-8621-c67b6da619b2': ['054787bf-6ea2-45cb-b63c-afc92f2130e7'], '1655df78-4a12-42df-86d3-63aa95cbd8cc': ['76404184-b979-4e78-981b-f46d4856659a'], '9d17b425-7c88-474e-8218-549b8d9c21b4': ['c0f65694-d0fd-42d7-8445-ec6af48c6ca5'], '6ea83306-88c1-46f1-a35d-a0a96638d819': ['e3739cd7-9497-4a02-879a-8d4dca5e17d3'], 'a15bb0f4-098c-4cff-90f5-2d46c838316b': ['49633b5f-3c9e-40bd-a7e0-19c25ac4e69d'], '1c0518f1-5267-4da5-9e09-ddb2736c2cc7': ['c3eb51b9-9c82-46bc-b00e-eb0cdd88b9c3'], '172eb881-cbf3-44b6-92ed-442b9e7b34de': ['b6416b83-c994-461b-9a70-d1edfa85fb3e'], '38fdf813-8188-4e4d-bd44-4ca848a577fa': ['c50d973a-035f-4b79-93ec-cd955b2f99c4']}, mode='text')"
      ]
     },
     "execution_count": 73,
     "metadata": {},
     "output_type": "execute_result"
    }
   ],
   "source": [
    "\n",
    "generate_qa_embedding_pairs(llm=set_llm(llm_params),\n",
    "                            nodes=nodes_train,\n",
    "                            qa_generate_prompt_tmpl=prompt_it,\n",
    "                            num_questions_per_chunk=qa_params.num_questions_per_chunk,\n",
    "                            output_path= \"QA/\" + llm_params.model_name + \"_\" + qa_params.output_path,\n",
    "                                                )"
   ]
  }
 ],
 "metadata": {
  "kernelspec": {
   "display_name": "agent",
   "language": "python",
   "name": "python3"
  },
  "language_info": {
   "codemirror_mode": {
    "name": "ipython",
    "version": 3
   },
   "file_extension": ".py",
   "mimetype": "text/x-python",
   "name": "python",
   "nbconvert_exporter": "python",
   "pygments_lexer": "ipython3",
   "version": "3.11.13"
  }
 },
 "nbformat": 4,
 "nbformat_minor": 5
}
