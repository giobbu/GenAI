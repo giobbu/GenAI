{
 "cells": [
  {
   "cell_type": "markdown",
   "id": "4cdb709e",
   "metadata": {},
   "source": [
    "## **InformationRetrievalEvaluator** from sentence_transformers\n",
    "This provides a more comprehensive suite of metrics, but we can only run it against the sentencetransformers compatible models (open source and our finetuned model, not the OpenAI embedding model)."
   ]
  },
  {
   "cell_type": "code",
   "execution_count": 1,
   "id": "920c4cc5",
   "metadata": {},
   "outputs": [],
   "source": [
    "dataset_name = \"QA/gpt-35-turbo_dataset.json\""
   ]
  },
  {
   "cell_type": "code",
   "execution_count": 2,
   "id": "3d3acd05",
   "metadata": {},
   "outputs": [
    {
     "name": "stdout",
     "output_type": "stream",
     "text": [
      "INFO:numexpr.utils:NumExpr defaulting to 10 threads.\n",
      "NumExpr defaulting to 10 threads.\n"
     ]
    },
    {
     "name": "stderr",
     "output_type": "stream",
     "text": [
      "\u001b[32m2025-07-16 21:45:52.957\u001b[0m | \u001b[1mINFO    \u001b[0m | \u001b[36mutils.utils_embedding\u001b[0m:\u001b[36mload_qa_dataset\u001b[0m:\u001b[36m15\u001b[0m - \u001b[1mLoading dataset from QA/gpt-35-turbo_dataset.json\u001b[0m\n"
     ]
    }
   ],
   "source": [
    "from utils.utils_embedding import load_qa_dataset\n",
    "\n",
    "dataset = load_qa_dataset(dataset_name)"
   ]
  },
  {
   "cell_type": "code",
   "execution_count": 3,
   "id": "a6dd67a2",
   "metadata": {},
   "outputs": [
    {
     "name": "stderr",
     "output_type": "stream",
     "text": [
      "/opt/homebrew/Caskroom/miniconda/base/envs/agent/lib/python3.11/site-packages/tqdm/auto.py:21: TqdmWarning: IProgress not found. Please update jupyter and ipywidgets. See https://ipywidgets.readthedocs.io/en/stable/user_install.html\n",
      "  from .autonotebook import tqdm as notebook_tqdm\n"
     ]
    }
   ],
   "source": [
    "from sentence_transformers.evaluation import InformationRetrievalEvaluator\n",
    "from sentence_transformers import SentenceTransformer\n",
    "from pathlib import Path\n",
    "\n",
    "def evaluate_sentence_transformer(dataset, model_id, name):\n",
    "    corpus = dataset.corpus\n",
    "    queries = dataset.queries\n",
    "    relevant_docs = dataset.relevant_docs\n",
    "    evaluator = InformationRetrievalEvaluator(queries, corpus, relevant_docs, name=name)\n",
    "    model = SentenceTransformer(model_id)\n",
    "    output_path = \"results/\"\n",
    "    Path(output_path).mkdir(exist_ok=True, parents=True)\n",
    "    return evaluator(model, output_path=output_path)"
   ]
  },
  {
   "cell_type": "code",
   "execution_count": 4,
   "id": "e9658e99",
   "metadata": {},
   "outputs": [
    {
     "name": "stdout",
     "output_type": "stream",
     "text": [
      "INFO:sentence_transformers.SentenceTransformer:Use pytorch device_name: mps\n",
      "Use pytorch device_name: mps\n",
      "INFO:sentence_transformers.SentenceTransformer:Load pretrained SentenceTransformer: finetuned-sentence-transformers/finetuned-paraphrase-multilingual-MiniLM-L12-v2\n",
      "Load pretrained SentenceTransformer: finetuned-sentence-transformers/finetuned-paraphrase-multilingual-MiniLM-L12-v2\n"
     ]
    },
    {
     "name": "stdout",
     "output_type": "stream",
     "text": [
      "INFO:sentence_transformers.evaluation.InformationRetrievalEvaluator:Information Retrieval Evaluation of the model on the finetuned-paraphrase-multilingual-MiniLM-L12-v2 dataset:\n",
      "Information Retrieval Evaluation of the model on the finetuned-paraphrase-multilingual-MiniLM-L12-v2 dataset:\n",
      "INFO:sentence_transformers.evaluation.InformationRetrievalEvaluator:Queries: 260\n",
      "Queries: 260\n",
      "INFO:sentence_transformers.evaluation.InformationRetrievalEvaluator:Corpus: 260\n",
      "\n",
      "Corpus: 260\n",
      "\n",
      "INFO:sentence_transformers.evaluation.InformationRetrievalEvaluator:Score-Function: cosine\n",
      "Score-Function: cosine\n",
      "INFO:sentence_transformers.evaluation.InformationRetrievalEvaluator:Accuracy@1: 61.15%\n",
      "Accuracy@1: 61.15%\n",
      "INFO:sentence_transformers.evaluation.InformationRetrievalEvaluator:Accuracy@3: 76.92%\n",
      "Accuracy@3: 76.92%\n",
      "INFO:sentence_transformers.evaluation.InformationRetrievalEvaluator:Accuracy@5: 82.31%\n",
      "Accuracy@5: 82.31%\n",
      "INFO:sentence_transformers.evaluation.InformationRetrievalEvaluator:Accuracy@10: 85.00%\n",
      "Accuracy@10: 85.00%\n",
      "INFO:sentence_transformers.evaluation.InformationRetrievalEvaluator:Precision@1: 61.15%\n",
      "Precision@1: 61.15%\n",
      "INFO:sentence_transformers.evaluation.InformationRetrievalEvaluator:Precision@3: 25.64%\n",
      "Precision@3: 25.64%\n",
      "INFO:sentence_transformers.evaluation.InformationRetrievalEvaluator:Precision@5: 16.46%\n",
      "Precision@5: 16.46%\n",
      "INFO:sentence_transformers.evaluation.InformationRetrievalEvaluator:Precision@10: 8.50%\n",
      "Precision@10: 8.50%\n",
      "INFO:sentence_transformers.evaluation.InformationRetrievalEvaluator:Recall@1: 61.15%\n",
      "Recall@1: 61.15%\n",
      "INFO:sentence_transformers.evaluation.InformationRetrievalEvaluator:Recall@3: 76.92%\n",
      "Recall@3: 76.92%\n",
      "INFO:sentence_transformers.evaluation.InformationRetrievalEvaluator:Recall@5: 82.31%\n",
      "Recall@5: 82.31%\n",
      "INFO:sentence_transformers.evaluation.InformationRetrievalEvaluator:Recall@10: 85.00%\n",
      "Recall@10: 85.00%\n",
      "INFO:sentence_transformers.evaluation.InformationRetrievalEvaluator:MRR@10: 0.6977\n",
      "MRR@10: 0.6977\n",
      "INFO:sentence_transformers.evaluation.InformationRetrievalEvaluator:NDCG@10: 0.7352\n",
      "NDCG@10: 0.7352\n",
      "INFO:sentence_transformers.evaluation.InformationRetrievalEvaluator:MAP@100: 0.7022\n",
      "MAP@100: 0.7022\n"
     ]
    }
   ],
   "source": [
    "# Finetuned embedding model\n",
    "model_id = \"finetuned-sentence-transformers/finetuned-paraphrase-multilingual-MiniLM-L12-v2\"\n",
    "dict_results = evaluate_sentence_transformer(dataset, model_id=model_id, name=\"finetuned-paraphrase-multilingual-MiniLM-L12-v2\")"
   ]
  },
  {
   "cell_type": "code",
   "execution_count": 5,
   "id": "006bada5",
   "metadata": {},
   "outputs": [
    {
     "name": "stdout",
     "output_type": "stream",
     "text": [
      "INFO:sentence_transformers.SentenceTransformer:Use pytorch device_name: mps\n",
      "Use pytorch device_name: mps\n",
      "INFO:sentence_transformers.SentenceTransformer:Load pretrained SentenceTransformer: paraphrase-multilingual-MiniLM-L12-v2\n",
      "Load pretrained SentenceTransformer: paraphrase-multilingual-MiniLM-L12-v2\n",
      "INFO:sentence_transformers.evaluation.InformationRetrievalEvaluator:Information Retrieval Evaluation of the model on the paraphrase-multilingual-MiniLM-L12-v2 dataset:\n",
      "Information Retrieval Evaluation of the model on the paraphrase-multilingual-MiniLM-L12-v2 dataset:\n",
      "INFO:sentence_transformers.evaluation.InformationRetrievalEvaluator:Queries: 260\n",
      "Queries: 260\n",
      "INFO:sentence_transformers.evaluation.InformationRetrievalEvaluator:Corpus: 260\n",
      "\n",
      "Corpus: 260\n",
      "\n",
      "INFO:sentence_transformers.evaluation.InformationRetrievalEvaluator:Score-Function: cosine\n",
      "Score-Function: cosine\n",
      "INFO:sentence_transformers.evaluation.InformationRetrievalEvaluator:Accuracy@1: 45.38%\n",
      "Accuracy@1: 45.38%\n",
      "INFO:sentence_transformers.evaluation.InformationRetrievalEvaluator:Accuracy@3: 60.77%\n",
      "Accuracy@3: 60.77%\n",
      "INFO:sentence_transformers.evaluation.InformationRetrievalEvaluator:Accuracy@5: 65.38%\n",
      "Accuracy@5: 65.38%\n",
      "INFO:sentence_transformers.evaluation.InformationRetrievalEvaluator:Accuracy@10: 70.77%\n",
      "Accuracy@10: 70.77%\n",
      "INFO:sentence_transformers.evaluation.InformationRetrievalEvaluator:Precision@1: 45.38%\n",
      "Precision@1: 45.38%\n",
      "INFO:sentence_transformers.evaluation.InformationRetrievalEvaluator:Precision@3: 20.26%\n",
      "Precision@3: 20.26%\n",
      "INFO:sentence_transformers.evaluation.InformationRetrievalEvaluator:Precision@5: 13.08%\n",
      "Precision@5: 13.08%\n",
      "INFO:sentence_transformers.evaluation.InformationRetrievalEvaluator:Precision@10: 7.08%\n",
      "Precision@10: 7.08%\n",
      "INFO:sentence_transformers.evaluation.InformationRetrievalEvaluator:Recall@1: 45.38%\n",
      "Recall@1: 45.38%\n",
      "INFO:sentence_transformers.evaluation.InformationRetrievalEvaluator:Recall@3: 60.77%\n",
      "Recall@3: 60.77%\n",
      "INFO:sentence_transformers.evaluation.InformationRetrievalEvaluator:Recall@5: 65.38%\n",
      "Recall@5: 65.38%\n",
      "INFO:sentence_transformers.evaluation.InformationRetrievalEvaluator:Recall@10: 70.77%\n",
      "Recall@10: 70.77%\n",
      "INFO:sentence_transformers.evaluation.InformationRetrievalEvaluator:MRR@10: 0.5380\n",
      "MRR@10: 0.5380\n",
      "INFO:sentence_transformers.evaluation.InformationRetrievalEvaluator:NDCG@10: 0.5791\n",
      "NDCG@10: 0.5791\n",
      "INFO:sentence_transformers.evaluation.InformationRetrievalEvaluator:MAP@100: 0.5446\n",
      "MAP@100: 0.5446\n"
     ]
    }
   ],
   "source": [
    "# Baseline embedding model\n",
    "model_id = \"paraphrase-multilingual-MiniLM-L12-v2\"\n",
    "dict_results = evaluate_sentence_transformer(dataset, model_id=model_id, name=\"paraphrase-multilingual-MiniLM-L12-v2\")"
   ]
  },
  {
   "cell_type": "code",
   "execution_count": 6,
   "id": "fa2cfb5b",
   "metadata": {},
   "outputs": [
    {
     "data": {
      "text/html": [
       "<div>\n",
       "<style scoped>\n",
       "    .dataframe tbody tr th:only-of-type {\n",
       "        vertical-align: middle;\n",
       "    }\n",
       "\n",
       "    .dataframe tbody tr th {\n",
       "        vertical-align: top;\n",
       "    }\n",
       "\n",
       "    .dataframe thead th {\n",
       "        text-align: right;\n",
       "    }\n",
       "</style>\n",
       "<table border=\"1\" class=\"dataframe\">\n",
       "  <thead>\n",
       "    <tr style=\"text-align: right;\">\n",
       "      <th></th>\n",
       "      <th>epoch</th>\n",
       "      <th>steps</th>\n",
       "      <th>cosine-Accuracy@1</th>\n",
       "      <th>cosine-Accuracy@3</th>\n",
       "      <th>cosine-Accuracy@5</th>\n",
       "      <th>cosine-Accuracy@10</th>\n",
       "      <th>cosine-Precision@1</th>\n",
       "      <th>cosine-Recall@1</th>\n",
       "      <th>cosine-Precision@3</th>\n",
       "      <th>cosine-Recall@3</th>\n",
       "      <th>cosine-Precision@5</th>\n",
       "      <th>cosine-Recall@5</th>\n",
       "      <th>cosine-Precision@10</th>\n",
       "      <th>cosine-Recall@10</th>\n",
       "      <th>cosine-MRR@10</th>\n",
       "      <th>cosine-NDCG@10</th>\n",
       "      <th>cosine-MAP@100</th>\n",
       "    </tr>\n",
       "  </thead>\n",
       "  <tbody>\n",
       "    <tr>\n",
       "      <th>0</th>\n",
       "      <td>-1</td>\n",
       "      <td>-1</td>\n",
       "      <td>0.611538</td>\n",
       "      <td>0.769231</td>\n",
       "      <td>0.823077</td>\n",
       "      <td>0.85</td>\n",
       "      <td>0.611538</td>\n",
       "      <td>0.611538</td>\n",
       "      <td>0.25641</td>\n",
       "      <td>0.769231</td>\n",
       "      <td>0.164615</td>\n",
       "      <td>0.823077</td>\n",
       "      <td>0.085</td>\n",
       "      <td>0.85</td>\n",
       "      <td>0.697718</td>\n",
       "      <td>0.735158</td>\n",
       "      <td>0.702163</td>\n",
       "    </tr>\n",
       "  </tbody>\n",
       "</table>\n",
       "</div>"
      ],
      "text/plain": [
       "   epoch  steps  cosine-Accuracy@1  cosine-Accuracy@3  cosine-Accuracy@5  \\\n",
       "0     -1     -1           0.611538           0.769231           0.823077   \n",
       "\n",
       "   cosine-Accuracy@10  cosine-Precision@1  cosine-Recall@1  \\\n",
       "0                0.85            0.611538         0.611538   \n",
       "\n",
       "   cosine-Precision@3  cosine-Recall@3  cosine-Precision@5  cosine-Recall@5  \\\n",
       "0             0.25641         0.769231            0.164615         0.823077   \n",
       "\n",
       "   cosine-Precision@10  cosine-Recall@10  cosine-MRR@10  cosine-NDCG@10  \\\n",
       "0                0.085              0.85       0.697718        0.735158   \n",
       "\n",
       "   cosine-MAP@100  \n",
       "0        0.702163  "
      ]
     },
     "execution_count": 6,
     "metadata": {},
     "output_type": "execute_result"
    }
   ],
   "source": [
    "import pandas as pd\n",
    "\n",
    "df_finetuned = pd.read_csv(\"results/Information-Retrieval_evaluation_finetuned-paraphrase-multilingual-MiniLM-L12-v2_results.csv\")\n",
    "df_finetuned"
   ]
  },
  {
   "cell_type": "code",
   "execution_count": 7,
   "id": "8387ae6d",
   "metadata": {},
   "outputs": [
    {
     "data": {
      "text/html": [
       "<div>\n",
       "<style scoped>\n",
       "    .dataframe tbody tr th:only-of-type {\n",
       "        vertical-align: middle;\n",
       "    }\n",
       "\n",
       "    .dataframe tbody tr th {\n",
       "        vertical-align: top;\n",
       "    }\n",
       "\n",
       "    .dataframe thead th {\n",
       "        text-align: right;\n",
       "    }\n",
       "</style>\n",
       "<table border=\"1\" class=\"dataframe\">\n",
       "  <thead>\n",
       "    <tr style=\"text-align: right;\">\n",
       "      <th></th>\n",
       "      <th>epoch</th>\n",
       "      <th>steps</th>\n",
       "      <th>cosine-Accuracy@1</th>\n",
       "      <th>cosine-Accuracy@3</th>\n",
       "      <th>cosine-Accuracy@5</th>\n",
       "      <th>cosine-Accuracy@10</th>\n",
       "      <th>cosine-Precision@1</th>\n",
       "      <th>cosine-Recall@1</th>\n",
       "      <th>cosine-Precision@3</th>\n",
       "      <th>cosine-Recall@3</th>\n",
       "      <th>cosine-Precision@5</th>\n",
       "      <th>cosine-Recall@5</th>\n",
       "      <th>cosine-Precision@10</th>\n",
       "      <th>cosine-Recall@10</th>\n",
       "      <th>cosine-MRR@10</th>\n",
       "      <th>cosine-NDCG@10</th>\n",
       "      <th>cosine-MAP@100</th>\n",
       "    </tr>\n",
       "  </thead>\n",
       "  <tbody>\n",
       "    <tr>\n",
       "      <th>0</th>\n",
       "      <td>-1</td>\n",
       "      <td>-1</td>\n",
       "      <td>0.453846</td>\n",
       "      <td>0.607692</td>\n",
       "      <td>0.653846</td>\n",
       "      <td>0.707692</td>\n",
       "      <td>0.453846</td>\n",
       "      <td>0.453846</td>\n",
       "      <td>0.202564</td>\n",
       "      <td>0.607692</td>\n",
       "      <td>0.130769</td>\n",
       "      <td>0.653846</td>\n",
       "      <td>0.070769</td>\n",
       "      <td>0.707692</td>\n",
       "      <td>0.537966</td>\n",
       "      <td>0.57911</td>\n",
       "      <td>0.544551</td>\n",
       "    </tr>\n",
       "  </tbody>\n",
       "</table>\n",
       "</div>"
      ],
      "text/plain": [
       "   epoch  steps  cosine-Accuracy@1  cosine-Accuracy@3  cosine-Accuracy@5  \\\n",
       "0     -1     -1           0.453846           0.607692           0.653846   \n",
       "\n",
       "   cosine-Accuracy@10  cosine-Precision@1  cosine-Recall@1  \\\n",
       "0            0.707692            0.453846         0.453846   \n",
       "\n",
       "   cosine-Precision@3  cosine-Recall@3  cosine-Precision@5  cosine-Recall@5  \\\n",
       "0            0.202564         0.607692            0.130769         0.653846   \n",
       "\n",
       "   cosine-Precision@10  cosine-Recall@10  cosine-MRR@10  cosine-NDCG@10  \\\n",
       "0             0.070769          0.707692       0.537966         0.57911   \n",
       "\n",
       "   cosine-MAP@100  \n",
       "0        0.544551  "
      ]
     },
     "execution_count": 7,
     "metadata": {},
     "output_type": "execute_result"
    }
   ],
   "source": [
    "df_no_finetuned = pd.read_csv(\"results/Information-Retrieval_evaluation_paraphrase-multilingual-MiniLM-L12-v2_results.csv\")\n",
    "df_no_finetuned"
   ]
  },
  {
   "cell_type": "code",
   "execution_count": 8,
   "id": "b539bcef",
   "metadata": {},
   "outputs": [
    {
     "data": {
      "text/html": [
       "<div>\n",
       "<style scoped>\n",
       "    .dataframe tbody tr th:only-of-type {\n",
       "        vertical-align: middle;\n",
       "    }\n",
       "\n",
       "    .dataframe tbody tr th {\n",
       "        vertical-align: top;\n",
       "    }\n",
       "\n",
       "    .dataframe thead th {\n",
       "        text-align: right;\n",
       "    }\n",
       "</style>\n",
       "<table border=\"1\" class=\"dataframe\">\n",
       "  <thead>\n",
       "    <tr style=\"text-align: right;\">\n",
       "      <th></th>\n",
       "      <th>cosine-Accuracy@1</th>\n",
       "      <th>cosine-Accuracy@3</th>\n",
       "      <th>cosine-Accuracy@5</th>\n",
       "      <th>cosine-Accuracy@10</th>\n",
       "      <th>cosine-Precision@1</th>\n",
       "      <th>cosine-Recall@1</th>\n",
       "      <th>cosine-Precision@3</th>\n",
       "      <th>cosine-Recall@3</th>\n",
       "      <th>cosine-Precision@5</th>\n",
       "      <th>cosine-Recall@5</th>\n",
       "      <th>cosine-Precision@10</th>\n",
       "      <th>cosine-Recall@10</th>\n",
       "      <th>cosine-MRR@10</th>\n",
       "      <th>cosine-NDCG@10</th>\n",
       "      <th>cosine-MAP@100</th>\n",
       "    </tr>\n",
       "  </thead>\n",
       "  <tbody>\n",
       "    <tr>\n",
       "      <th>0</th>\n",
       "      <td>34.745763</td>\n",
       "      <td>26.582278</td>\n",
       "      <td>25.882353</td>\n",
       "      <td>20.108696</td>\n",
       "      <td>34.745763</td>\n",
       "      <td>34.745763</td>\n",
       "      <td>26.582278</td>\n",
       "      <td>26.582278</td>\n",
       "      <td>25.882353</td>\n",
       "      <td>25.882353</td>\n",
       "      <td>20.108696</td>\n",
       "      <td>20.108696</td>\n",
       "      <td>29.695723</td>\n",
       "      <td>26.946271</td>\n",
       "      <td>28.943414</td>\n",
       "    </tr>\n",
       "  </tbody>\n",
       "</table>\n",
       "</div>"
      ],
      "text/plain": [
       "   cosine-Accuracy@1  cosine-Accuracy@3  cosine-Accuracy@5  \\\n",
       "0          34.745763          26.582278          25.882353   \n",
       "\n",
       "   cosine-Accuracy@10  cosine-Precision@1  cosine-Recall@1  \\\n",
       "0           20.108696           34.745763        34.745763   \n",
       "\n",
       "   cosine-Precision@3  cosine-Recall@3  cosine-Precision@5  cosine-Recall@5  \\\n",
       "0           26.582278        26.582278           25.882353        25.882353   \n",
       "\n",
       "   cosine-Precision@10  cosine-Recall@10  cosine-MRR@10  cosine-NDCG@10  \\\n",
       "0            20.108696         20.108696      29.695723       26.946271   \n",
       "\n",
       "   cosine-MAP@100  \n",
       "0       28.943414  "
      ]
     },
     "execution_count": 8,
     "metadata": {},
     "output_type": "execute_result"
    }
   ],
   "source": [
    "df_improvement_perc = (df_finetuned - df_no_finetuned)/ df_no_finetuned * 100\n",
    "# drop columns epoch and steps\n",
    "df_improvement_perc = df_improvement_perc.drop(columns=[\"epoch\", \"steps\"])\n",
    "df_improvement_perc.to_csv(\"results/Information-Retrieval_evaluation_improvement_perc.csv\")\n",
    "df_improvement_perc"
   ]
  },
  {
   "cell_type": "code",
   "execution_count": 11,
   "id": "ce3890b2",
   "metadata": {},
   "outputs": [
    {
     "data": {
      "image/png": "[encoded data removed]",
      "text/plain": [
       "<Figure size 1000x600 with 1 Axes>"
      ]
     },
     "metadata": {},
     "output_type": "display_data"
    }
   ],
   "source": [
    "# plot histogram with percentage at the top of each bar\n",
    "import matplotlib.pyplot as plt\n",
    "import numpy as np\n",
    "plt.figure(figsize=(10, 6))\n",
    "plt.bar(df_improvement_perc.columns, df_improvement_perc.iloc[0], color='skyblue')\n",
    "plt.xlabel('Metrics')\n",
    "plt.ylabel('Improvement Percentage (%)')\n",
    "plt.title('Improvement Percentage of Finetuned Model over Baseline')\n",
    "for i, v in enumerate(df_improvement_perc.iloc[0]):\n",
    "    plt.text(i, v, f\"{v:.1f}%\", ha='center', va='bottom')\n",
    "plt.xticks(rotation=45)\n",
    "plt.tight_layout()\n",
    "plt.show()\n"
   ]
  }
 ],
 "metadata": {
  "kernelspec": {
   "display_name": "agent",
   "language": "python",
   "name": "python3"
  },
  "language_info": {
   "codemirror_mode": {
    "name": "ipython",
    "version": 3
   },
   "file_extension": ".py",
   "mimetype": "text/x-python",
   "name": "python",
   "nbconvert_exporter": "python",
   "pygments_lexer": "ipython3",
   "version": "3.11.13"
  }
 },
 "nbformat": 4,
 "nbformat_minor": 5
}
