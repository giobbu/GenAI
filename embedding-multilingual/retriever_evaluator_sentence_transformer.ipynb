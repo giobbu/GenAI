{
 "cells": [
  {
   "cell_type": "markdown",
   "id": "4cdb709e",
   "metadata": {},
   "source": [
    "## **InformationRetrievalEvaluator** from sentence_transformers\n",
    "This provides a more comprehensive suite of metrics, but we can only run it against the sentencetransformers compatible models (open source and our finetuned model, not the OpenAI embedding model)."
   ]
  },
  {
   "cell_type": "code",
   "execution_count": 28,
   "id": "920c4cc5",
   "metadata": {},
   "outputs": [],
   "source": [
    "dataset_name = \"QA/gpt-35-turbo_dataset.json\"\n",
    "model_id = \"finetuned-sentence-transformers/finetuned-paraphrase-multilingual-MiniLM-L12-v2\""
   ]
  },
  {
   "cell_type": "code",
   "execution_count": 29,
   "id": "3d3acd05",
   "metadata": {},
   "outputs": [
    {
     "name": "stderr",
     "output_type": "stream",
     "text": [
      "\u001b[32m2025-07-16 16:11:01.398\u001b[0m | \u001b[1mINFO    \u001b[0m | \u001b[36mutils.utils_embedding\u001b[0m:\u001b[36mload_qa_dataset\u001b[0m:\u001b[36m15\u001b[0m - \u001b[1mLoading dataset from QA/gpt-35-turbo_dataset.json\u001b[0m\n"
     ]
    }
   ],
   "source": [
    "from utils.utils_embedding import load_qa_dataset\n",
    "\n",
    "dataset = load_qa_dataset(dataset_name)"
   ]
  },
  {
   "cell_type": "code",
   "execution_count": null,
   "id": "a6dd67a2",
   "metadata": {},
   "outputs": [],
   "source": [
    "from sentence_transformers.evaluation import InformationRetrievalEvaluator\n",
    "from sentence_transformers import SentenceTransformer\n",
    "from pathlib import Path\n",
    "\n",
    "def evaluate_sentence_transformer(dataset, model_id, name):\n",
    "    \n",
    "    corpus = dataset.corpus\n",
    "    queries = dataset.queries\n",
    "    relevant_docs = dataset.relevant_docs\n",
    "\n",
    "    evaluator = InformationRetrievalEvaluator(queries, corpus, relevant_docs, name=name)\n",
    "    \n",
    "    model = SentenceTransformer(model_id)\n",
    "    \n",
    "    output_path = \"results/\"\n",
    "    Path(output_path).mkdir(exist_ok=True, parents=True)\n",
    "    return evaluator(model, output_path=output_path)"
   ]
  },
  {
   "cell_type": "code",
   "execution_count": null,
   "id": "e9658e99",
   "metadata": {},
   "outputs": [],
   "source": [
    "evaluate_sentence_transformer(dataset, model_id=model_id, name=\"finetuned-paraphrase-multilingual-MiniLM-L12-v2\")"
   ]
  }
 ],
 "metadata": {
  "kernelspec": {
   "display_name": "agent",
   "language": "python",
   "name": "python3"
  },
  "language_info": {
   "codemirror_mode": {
    "name": "ipython",
    "version": 3
   },
   "file_extension": ".py",
   "mimetype": "text/x-python",
   "name": "python",
   "nbconvert_exporter": "python",
   "pygments_lexer": "ipython3",
   "version": "3.11.13"
  }
 },
 "nbformat": 4,
 "nbformat_minor": 5
}
