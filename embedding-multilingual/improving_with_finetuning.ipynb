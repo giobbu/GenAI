{
 "cells": [
  {
   "cell_type": "code",
   "execution_count": 4,
   "id": "aefc3967",
   "metadata": {},
   "outputs": [
    {
     "name": "stderr",
     "output_type": "stream",
     "text": [
      "/opt/homebrew/Caskroom/miniconda/base/envs/agent/lib/python3.11/site-packages/tqdm/auto.py:21: TqdmWarning: IProgress not found. Please update jupyter and ipywidgets. See https://ipywidgets.readthedocs.io/en/stable/user_install.html\n",
      "  from .autonotebook import tqdm as notebook_tqdm\n"
     ]
    }
   ],
   "source": [
    "\n",
    "from llama_index.embeddings.huggingface import HuggingFaceEmbedding\n",
    "from utils.utils_embedding import evaluate_embedding, dataframe_results, load_qa_dataset, plot_topk_results, evaluate_different_top_k\n",
    "%matplotlib inline\n",
    "import matplotlib.pyplot as plt\n",
    "import seaborn as sns; sns.set()"
   ]
  },
  {
   "cell_type": "markdown",
   "id": "175180dd",
   "metadata": {},
   "source": [
    "# Settings"
   ]
  },
  {
   "cell_type": "code",
   "execution_count": 5,
   "id": "34b8876a",
   "metadata": {},
   "outputs": [],
   "source": [
    "# load dataset QA\n",
    "dataset_name = \"QA/gpt-35-turbo_dataset.json\"\n",
    "# results top-k\n",
    "top_k = 5\n",
    "model_name = \"sentence-transformers/paraphrase-multilingual-MiniLM-L12-v2\"\n",
    "list_top_k = [1, 3, 5, 10, 20]"
   ]
  },
  {
   "cell_type": "markdown",
   "id": "2e1a3715",
   "metadata": {},
   "source": [
    "# Load QA synthetic dataset"
   ]
  },
  {
   "cell_type": "code",
   "execution_count": 6,
   "id": "43bbbe00",
   "metadata": {},
   "outputs": [
    {
     "name": "stderr",
     "output_type": "stream",
     "text": [
      "\u001b[32m2025-07-23 10:34:28.469\u001b[0m | \u001b[1mINFO    \u001b[0m | \u001b[36mutils.utils_embedding\u001b[0m:\u001b[36mload_qa_dataset\u001b[0m:\u001b[36m16\u001b[0m - \u001b[1mLoading dataset from QA/gpt-35-turbo_dataset.json\u001b[0m\n"
     ]
    }
   ],
   "source": [
    "it_dataset = load_qa_dataset(dataset_name)"
   ]
  },
  {
   "cell_type": "markdown",
   "id": "e51100ab",
   "metadata": {},
   "source": [
    "# View QA dataset sample"
   ]
  },
  {
   "cell_type": "code",
   "execution_count": 7,
   "id": "9a0ddd0b",
   "metadata": {},
   "outputs": [
    {
     "name": "stdout",
     "output_type": "stream",
     "text": [
      "Qual è la data del documento di lavoro dei servizi della Commissione Europea sulla relazione per paese 2025 dell'Italia?\n",
      "['80b9998c-32d4-42f7-94a7-1a36155b382b']\n",
      "IT   IT \n",
      " \n",
      " \n",
      " COMMISSIONE  \n",
      "EUROPEA   \n",
      "Bruxelles, 4.6.2025  \n",
      "SWD(2025) 212 final  \n",
      " \n",
      "DOCUMENTO DI LAVORO DEI SERVIZI DELLA COMMISSIONE  \n",
      "Relazione per paese 2025 - Italia  \n",
      "che accompagna il documento  \n",
      "Raccomandazione di RACCOMANDAZIONE DEL CONSIGLIO  \n",
      "sulle politiche economiche, sociali, occupazionali, strutturali e di bilancio dell'Italia  \n",
      "{COM(2025)  212 final}\n"
     ]
    }
   ],
   "source": [
    "print(it_dataset.queries[\"6c67a361-1d84-4876-8ed5-72e11dd2f21e\"])\n",
    "print(it_dataset.relevant_docs[\"6c67a361-1d84-4876-8ed5-72e11dd2f21e\"])\n",
    "print(it_dataset.corpus[\"80b9998c-32d4-42f7-94a7-1a36155b382b\"])"
   ]
  },
  {
   "cell_type": "markdown",
   "id": "cfa47eff",
   "metadata": {},
   "source": [
    "# HuggingFace: paraphrase-multilingual-MiniLM-L12-v2"
   ]
  },
  {
   "cell_type": "code",
   "execution_count": 8,
   "id": "4837f59e",
   "metadata": {},
   "outputs": [
    {
     "name": "stdout",
     "output_type": "stream",
     "text": [
      "INFO:sentence_transformers.SentenceTransformer:Load pretrained SentenceTransformer: sentence-transformers/paraphrase-multilingual-MiniLM-L12-v2\n",
      "Load pretrained SentenceTransformer: sentence-transformers/paraphrase-multilingual-MiniLM-L12-v2\n"
     ]
    }
   ],
   "source": [
    "embed_model_paraphrase_l12 = HuggingFaceEmbedding(model_name=model_name)"
   ]
  },
  {
   "cell_type": "markdown",
   "id": "a22336be",
   "metadata": {},
   "source": [
    "# Evaluate with is_hit and mrr\n"
   ]
  },
  {
   "cell_type": "code",
   "execution_count": 9,
   "id": "a70cd92a",
   "metadata": {},
   "outputs": [
    {
     "name": "stdout",
     "output_type": "stream",
     "text": [
      "Some nodes are missing content, skipping them...\n"
     ]
    },
    {
     "name": "stderr",
     "output_type": "stream",
     "text": [
      "Generating embeddings: 100%|██████████| 258/258 [00:01<00:00, 205.61it/s]\n",
      "100%|██████████| 260/260 [00:04<00:00, 62.59it/s]"
     ]
    },
    {
     "name": "stdout",
     "output_type": "stream",
     "text": [
      "260\n"
     ]
    },
    {
     "name": "stderr",
     "output_type": "stream",
     "text": [
      "\n"
     ]
    },
    {
     "data": {
      "text/html": [
       "<div>\n",
       "<style scoped>\n",
       "    .dataframe tbody tr th:only-of-type {\n",
       "        vertical-align: middle;\n",
       "    }\n",
       "\n",
       "    .dataframe tbody tr th {\n",
       "        vertical-align: top;\n",
       "    }\n",
       "\n",
       "    .dataframe thead th {\n",
       "        text-align: right;\n",
       "    }\n",
       "</style>\n",
       "<table border=\"1\" class=\"dataframe\">\n",
       "  <thead>\n",
       "    <tr style=\"text-align: right;\">\n",
       "      <th></th>\n",
       "      <th>is_hit</th>\n",
       "      <th>mrr</th>\n",
       "      <th>retrieved</th>\n",
       "      <th>expected</th>\n",
       "      <th>query</th>\n",
       "    </tr>\n",
       "  </thead>\n",
       "  <tbody>\n",
       "    <tr>\n",
       "      <th>0</th>\n",
       "      <td>True</td>\n",
       "      <td>1.0</td>\n",
       "      <td>[80b9998c-32d4-42f7-94a7-1a36155b382b, ca82b43...</td>\n",
       "      <td>80b9998c-32d4-42f7-94a7-1a36155b382b</td>\n",
       "      <td>6c67a361-1d84-4876-8ed5-72e11dd2f21e</td>\n",
       "    </tr>\n",
       "    <tr>\n",
       "      <th>1</th>\n",
       "      <td>False</td>\n",
       "      <td>0.0</td>\n",
       "      <td>[e81fb935-4ea8-4a80-867d-ed15f40d0a0c, 0ddb84a...</td>\n",
       "      <td>93b772d4-52a6-44a6-a331-0eae1fdf33a5</td>\n",
       "      <td>5377179f-f310-4498-9a81-4a644d21eef6</td>\n",
       "    </tr>\n",
       "    <tr>\n",
       "      <th>2</th>\n",
       "      <td>True</td>\n",
       "      <td>1.0</td>\n",
       "      <td>[f612986a-0b1a-4c12-bdf1-2c2107733db7, f1b6e8e...</td>\n",
       "      <td>f612986a-0b1a-4c12-bdf1-2c2107733db7</td>\n",
       "      <td>a980095d-5cd4-4112-9b80-d3d1e7023f44</td>\n",
       "    </tr>\n",
       "    <tr>\n",
       "      <th>3</th>\n",
       "      <td>True</td>\n",
       "      <td>1.0</td>\n",
       "      <td>[b87e8ec1-9380-48ad-9428-47c47ede0e76, c0f6569...</td>\n",
       "      <td>b87e8ec1-9380-48ad-9428-47c47ede0e76</td>\n",
       "      <td>364684a1-eafa-4081-ba35-bb669d1657b7</td>\n",
       "    </tr>\n",
       "    <tr>\n",
       "      <th>4</th>\n",
       "      <td>True</td>\n",
       "      <td>0.5</td>\n",
       "      <td>[e96386a3-3796-457d-875e-2d6c7bdab02f, 4a5026b...</td>\n",
       "      <td>4a5026bd-2856-497f-8276-9de39b7562e6</td>\n",
       "      <td>2356fbfa-7df2-467d-ac72-ef26ed474fff</td>\n",
       "    </tr>\n",
       "  </tbody>\n",
       "</table>\n",
       "</div>"
      ],
      "text/plain": [
       "   is_hit  mrr                                          retrieved  \\\n",
       "0    True  1.0  [80b9998c-32d4-42f7-94a7-1a36155b382b, ca82b43...   \n",
       "1   False  0.0  [e81fb935-4ea8-4a80-867d-ed15f40d0a0c, 0ddb84a...   \n",
       "2    True  1.0  [f612986a-0b1a-4c12-bdf1-2c2107733db7, f1b6e8e...   \n",
       "3    True  1.0  [b87e8ec1-9380-48ad-9428-47c47ede0e76, c0f6569...   \n",
       "4    True  0.5  [e96386a3-3796-457d-875e-2d6c7bdab02f, 4a5026b...   \n",
       "\n",
       "                               expected                                 query  \n",
       "0  80b9998c-32d4-42f7-94a7-1a36155b382b  6c67a361-1d84-4876-8ed5-72e11dd2f21e  \n",
       "1  93b772d4-52a6-44a6-a331-0eae1fdf33a5  5377179f-f310-4498-9a81-4a644d21eef6  \n",
       "2  f612986a-0b1a-4c12-bdf1-2c2107733db7  a980095d-5cd4-4112-9b80-d3d1e7023f44  \n",
       "3  b87e8ec1-9380-48ad-9428-47c47ede0e76  364684a1-eafa-4081-ba35-bb669d1657b7  \n",
       "4  4a5026bd-2856-497f-8276-9de39b7562e6  2356fbfa-7df2-467d-ac72-ef26ed474fff  "
      ]
     },
     "execution_count": 9,
     "metadata": {},
     "output_type": "execute_result"
    }
   ],
   "source": [
    "df_paraphrase_l12_results_it = evaluate_embedding(dataset=it_dataset, \n",
    "                                        embed_model=embed_model_paraphrase_l12, \n",
    "                                        top_k=top_k, \n",
    "                                        verbose=True)\n",
    "print(len(df_paraphrase_l12_results_it))\n",
    "df_paraphrase_l12_results_it.head()"
   ]
  },
  {
   "cell_type": "code",
   "execution_count": 10,
   "id": "7d7a39a1",
   "metadata": {},
   "outputs": [
    {
     "data": {
      "text/html": [
       "<div>\n",
       "<style scoped>\n",
       "    .dataframe tbody tr th:only-of-type {\n",
       "        vertical-align: middle;\n",
       "    }\n",
       "\n",
       "    .dataframe tbody tr th {\n",
       "        vertical-align: top;\n",
       "    }\n",
       "\n",
       "    .dataframe thead th {\n",
       "        text-align: right;\n",
       "    }\n",
       "</style>\n",
       "<table border=\"1\" class=\"dataframe\">\n",
       "  <thead>\n",
       "    <tr style=\"text-align: right;\">\n",
       "      <th></th>\n",
       "      <th>model</th>\n",
       "      <th>finetuned</th>\n",
       "      <th>top_k</th>\n",
       "      <th>mrr</th>\n",
       "      <th>is_hit</th>\n",
       "    </tr>\n",
       "  </thead>\n",
       "  <tbody>\n",
       "    <tr>\n",
       "      <th>0</th>\n",
       "      <td>paraphrase-multilingual-MiniLM-L12-v2</td>\n",
       "      <td>False</td>\n",
       "      <td>5</td>\n",
       "      <td>0.530641</td>\n",
       "      <td>0.653846</td>\n",
       "    </tr>\n",
       "  </tbody>\n",
       "</table>\n",
       "</div>"
      ],
      "text/plain": [
       "                                   model  finetuned  top_k       mrr    is_hit\n",
       "0  paraphrase-multilingual-MiniLM-L12-v2      False      5  0.530641  0.653846"
      ]
     },
     "execution_count": 10,
     "metadata": {},
     "output_type": "execute_result"
    }
   ],
   "source": [
    "df_results_no_finetuning_topk = dataframe_results(top_k, df_paraphrase_l12_results_it, finetuned=False)\n",
    "df_results_no_finetuning_topk"
   ]
  },
  {
   "cell_type": "markdown",
   "id": "0f840114",
   "metadata": {},
   "source": [
    "# evaluate for different top-k"
   ]
  },
  {
   "cell_type": "code",
   "execution_count": 11,
   "id": "d1c5737a",
   "metadata": {},
   "outputs": [
    {
     "name": "stderr",
     "output_type": "stream",
     "text": [
      "\u001b[32m2025-07-23 10:34:45.509\u001b[0m | \u001b[1mINFO    \u001b[0m | \u001b[36mutils.utils_embedding\u001b[0m:\u001b[36mevaluate_different_top_k\u001b[0m:\u001b[36m160\u001b[0m - \u001b[1mEvaluating for top_k=1\u001b[0m\n"
     ]
    },
    {
     "name": "stdout",
     "output_type": "stream",
     "text": [
      "Some nodes are missing content, skipping them...\n"
     ]
    },
    {
     "name": "stderr",
     "output_type": "stream",
     "text": [
      "Generating embeddings: 100%|██████████| 258/258 [00:01<00:00, 226.10it/s]\n",
      "100%|██████████| 260/260 [00:03<00:00, 79.18it/s]\n",
      "\u001b[32m2025-07-23 10:34:49.954\u001b[0m | \u001b[1mINFO    \u001b[0m | \u001b[36mutils.utils_embedding\u001b[0m:\u001b[36mevaluate_different_top_k\u001b[0m:\u001b[36m160\u001b[0m - \u001b[1mEvaluating for top_k=3\u001b[0m\n"
     ]
    },
    {
     "name": "stdout",
     "output_type": "stream",
     "text": [
      "Some nodes are missing content, skipping them...\n"
     ]
    },
    {
     "name": "stderr",
     "output_type": "stream",
     "text": [
      "Generating embeddings: 100%|██████████| 258/258 [00:01<00:00, 234.56it/s]\n",
      "100%|██████████| 260/260 [00:03<00:00, 79.85it/s]\n",
      "\u001b[32m2025-07-23 10:34:54.324\u001b[0m | \u001b[1mINFO    \u001b[0m | \u001b[36mutils.utils_embedding\u001b[0m:\u001b[36mevaluate_different_top_k\u001b[0m:\u001b[36m160\u001b[0m - \u001b[1mEvaluating for top_k=5\u001b[0m\n"
     ]
    },
    {
     "name": "stdout",
     "output_type": "stream",
     "text": [
      "Some nodes are missing content, skipping them...\n"
     ]
    },
    {
     "name": "stderr",
     "output_type": "stream",
     "text": [
      "Generating embeddings: 100%|██████████| 258/258 [00:01<00:00, 233.53it/s]\n",
      "100%|██████████| 260/260 [00:03<00:00, 79.76it/s]\n",
      "\u001b[32m2025-07-23 10:34:58.703\u001b[0m | \u001b[1mINFO    \u001b[0m | \u001b[36mutils.utils_embedding\u001b[0m:\u001b[36mevaluate_different_top_k\u001b[0m:\u001b[36m160\u001b[0m - \u001b[1mEvaluating for top_k=10\u001b[0m\n"
     ]
    },
    {
     "name": "stdout",
     "output_type": "stream",
     "text": [
      "Some nodes are missing content, skipping them...\n"
     ]
    },
    {
     "name": "stderr",
     "output_type": "stream",
     "text": [
      "Generating embeddings: 100%|██████████| 258/258 [00:01<00:00, 231.26it/s]\n",
      "100%|██████████| 260/260 [00:03<00:00, 78.61it/s]\n",
      "\u001b[32m2025-07-23 10:35:03.142\u001b[0m | \u001b[1mINFO    \u001b[0m | \u001b[36mutils.utils_embedding\u001b[0m:\u001b[36mevaluate_different_top_k\u001b[0m:\u001b[36m160\u001b[0m - \u001b[1mEvaluating for top_k=20\u001b[0m\n"
     ]
    },
    {
     "name": "stdout",
     "output_type": "stream",
     "text": [
      "Some nodes are missing content, skipping them...\n"
     ]
    },
    {
     "name": "stderr",
     "output_type": "stream",
     "text": [
      "Generating embeddings: 100%|██████████| 258/258 [00:01<00:00, 228.66it/s]\n",
      "100%|██████████| 260/260 [00:03<00:00, 77.60it/s]\n"
     ]
    },
    {
     "data": {
      "text/html": [
       "<div>\n",
       "<style scoped>\n",
       "    .dataframe tbody tr th:only-of-type {\n",
       "        vertical-align: middle;\n",
       "    }\n",
       "\n",
       "    .dataframe tbody tr th {\n",
       "        vertical-align: top;\n",
       "    }\n",
       "\n",
       "    .dataframe thead th {\n",
       "        text-align: right;\n",
       "    }\n",
       "</style>\n",
       "<table border=\"1\" class=\"dataframe\">\n",
       "  <thead>\n",
       "    <tr style=\"text-align: right;\">\n",
       "      <th></th>\n",
       "      <th>model</th>\n",
       "      <th>finetuned</th>\n",
       "      <th>top_k</th>\n",
       "      <th>mrr</th>\n",
       "      <th>is_hit</th>\n",
       "    </tr>\n",
       "  </thead>\n",
       "  <tbody>\n",
       "    <tr>\n",
       "      <th>0</th>\n",
       "      <td>paraphrase-multilingual-MiniLM-L12-v2</td>\n",
       "      <td>False</td>\n",
       "      <td>1</td>\n",
       "      <td>0.453846</td>\n",
       "      <td>0.453846</td>\n",
       "    </tr>\n",
       "    <tr>\n",
       "      <th>1</th>\n",
       "      <td>paraphrase-multilingual-MiniLM-L12-v2</td>\n",
       "      <td>False</td>\n",
       "      <td>3</td>\n",
       "      <td>0.519872</td>\n",
       "      <td>0.607692</td>\n",
       "    </tr>\n",
       "    <tr>\n",
       "      <th>2</th>\n",
       "      <td>paraphrase-multilingual-MiniLM-L12-v2</td>\n",
       "      <td>False</td>\n",
       "      <td>5</td>\n",
       "      <td>0.530641</td>\n",
       "      <td>0.653846</td>\n",
       "    </tr>\n",
       "    <tr>\n",
       "      <th>3</th>\n",
       "      <td>paraphrase-multilingual-MiniLM-L12-v2</td>\n",
       "      <td>False</td>\n",
       "      <td>10</td>\n",
       "      <td>0.537966</td>\n",
       "      <td>0.707692</td>\n",
       "    </tr>\n",
       "    <tr>\n",
       "      <th>4</th>\n",
       "      <td>paraphrase-multilingual-MiniLM-L12-v2</td>\n",
       "      <td>False</td>\n",
       "      <td>20</td>\n",
       "      <td>0.542058</td>\n",
       "      <td>0.765385</td>\n",
       "    </tr>\n",
       "  </tbody>\n",
       "</table>\n",
       "</div>"
      ],
      "text/plain": [
       "                                   model  finetuned  top_k       mrr    is_hit\n",
       "0  paraphrase-multilingual-MiniLM-L12-v2      False      1  0.453846  0.453846\n",
       "1  paraphrase-multilingual-MiniLM-L12-v2      False      3  0.519872  0.607692\n",
       "2  paraphrase-multilingual-MiniLM-L12-v2      False      5  0.530641  0.653846\n",
       "3  paraphrase-multilingual-MiniLM-L12-v2      False     10  0.537966  0.707692\n",
       "4  paraphrase-multilingual-MiniLM-L12-v2      False     20  0.542058  0.765385"
      ]
     },
     "execution_count": 11,
     "metadata": {},
     "output_type": "execute_result"
    }
   ],
   "source": [
    "df_results_no_finetuning = evaluate_different_top_k(it_dataset, embed_model_paraphrase_l12, list_top_k)\n",
    "df_results_no_finetuning"
   ]
  },
  {
   "cell_type": "markdown",
   "id": "8f633c05",
   "metadata": {},
   "source": [
    "# plot results for different top-k"
   ]
  },
  {
   "cell_type": "markdown",
   "id": "48c0af3d",
   "metadata": {},
   "source": [
    "remind: i am using only training set"
   ]
  },
  {
   "cell_type": "code",
   "execution_count": 12,
   "id": "3b28e8c3",
   "metadata": {},
   "outputs": [
    {
     "data": {
      "image/png": "[encoded data removed]",
      "text/plain": [
       "<Figure size 1000x600 with 1 Axes>"
      ]
     },
     "metadata": {},
     "output_type": "display_data"
    }
   ],
   "source": [
    "plot_topk_results(df_results_no_finetuning, \"Top-k Results for Paraphrase-MiniLM-L12-v2 without Fine-tuning\")"
   ]
  },
  {
   "cell_type": "markdown",
   "id": "5e7dff38",
   "metadata": {},
   "source": [
    "# Embedding finetunig"
   ]
  },
  {
   "cell_type": "code",
   "execution_count": 15,
   "id": "c1f4f77f",
   "metadata": {},
   "outputs": [
    {
     "name": "stderr",
     "output_type": "stream",
     "text": [
      "\u001b[32m2025-07-23 10:37:29.532\u001b[0m | \u001b[1mINFO    \u001b[0m | \u001b[36mutils.utils_embedding\u001b[0m:\u001b[36mload_qa_dataset\u001b[0m:\u001b[36m16\u001b[0m - \u001b[1mLoading dataset from QA/gpt-35-turbo_temperature_07_dataset.json\u001b[0m\n"
     ]
    },
    {
     "name": "stdout",
     "output_type": "stream",
     "text": [
      "INFO:sentence_transformers.SentenceTransformer:Use pytorch device_name: mps\n",
      "Use pytorch device_name: mps\n",
      "INFO:sentence_transformers.SentenceTransformer:Load pretrained SentenceTransformer: sentence-transformers/paraphrase-multilingual-MiniLM-L12-v2\n",
      "Load pretrained SentenceTransformer: sentence-transformers/paraphrase-multilingual-MiniLM-L12-v2\n"
     ]
    },
    {
     "name": "stderr",
     "output_type": "stream",
     "text": [
      "                                                                     \r"
     ]
    },
    {
     "data": {
      "text/html": [
       "\n",
       "    <div>\n",
       "      \n",
       "      <progress value='46' max='46' style='width:300px; height:20px; vertical-align: middle;'></progress>\n",
       "      [46/46 00:26, Epoch 2/2]\n",
       "    </div>\n",
       "    <table border=\"1\" class=\"dataframe\">\n",
       "  <thead>\n",
       " <tr style=\"text-align: left;\">\n",
       "      <th>Step</th>\n",
       "      <th>Training Loss</th>\n",
       "      <th>Validation Loss</th>\n",
       "      <th>Cosine Accuracy@1</th>\n",
       "      <th>Cosine Accuracy@3</th>\n",
       "      <th>Cosine Accuracy@5</th>\n",
       "      <th>Cosine Accuracy@10</th>\n",
       "      <th>Cosine Precision@1</th>\n",
       "      <th>Cosine Precision@3</th>\n",
       "      <th>Cosine Precision@5</th>\n",
       "      <th>Cosine Precision@10</th>\n",
       "      <th>Cosine Recall@1</th>\n",
       "      <th>Cosine Recall@3</th>\n",
       "      <th>Cosine Recall@5</th>\n",
       "      <th>Cosine Recall@10</th>\n",
       "      <th>Cosine Ndcg@10</th>\n",
       "      <th>Cosine Mrr@10</th>\n",
       "      <th>Cosine Map@100</th>\n",
       "    </tr>\n",
       "  </thead>\n",
       "  <tbody>\n",
       "    <tr>\n",
       "      <td>23</td>\n",
       "      <td>No log</td>\n",
       "      <td>No log</td>\n",
       "      <td>0.549550</td>\n",
       "      <td>0.680180</td>\n",
       "      <td>0.725225</td>\n",
       "      <td>0.779279</td>\n",
       "      <td>0.549550</td>\n",
       "      <td>0.226727</td>\n",
       "      <td>0.145045</td>\n",
       "      <td>0.077928</td>\n",
       "      <td>0.549550</td>\n",
       "      <td>0.680180</td>\n",
       "      <td>0.725225</td>\n",
       "      <td>0.779279</td>\n",
       "      <td>0.661852</td>\n",
       "      <td>0.624337</td>\n",
       "      <td>0.632687</td>\n",
       "    </tr>\n",
       "    <tr>\n",
       "      <td>46</td>\n",
       "      <td>No log</td>\n",
       "      <td>No log</td>\n",
       "      <td>0.558559</td>\n",
       "      <td>0.711712</td>\n",
       "      <td>0.756757</td>\n",
       "      <td>0.819820</td>\n",
       "      <td>0.558559</td>\n",
       "      <td>0.237237</td>\n",
       "      <td>0.151351</td>\n",
       "      <td>0.081982</td>\n",
       "      <td>0.558559</td>\n",
       "      <td>0.711712</td>\n",
       "      <td>0.756757</td>\n",
       "      <td>0.819820</td>\n",
       "      <td>0.687219</td>\n",
       "      <td>0.644986</td>\n",
       "      <td>0.651630</td>\n",
       "    </tr>\n",
       "  </tbody>\n",
       "</table><p>"
      ],
      "text/plain": [
       "<IPython.core.display.HTML object>"
      ]
     },
     "metadata": {},
     "output_type": "display_data"
    },
    {
     "name": "stdout",
     "output_type": "stream",
     "text": [
      "INFO:sentence_transformers.evaluation.InformationRetrievalEvaluator:Information Retrieval Evaluation of the model on the  dataset in epoch 1.0 after 23 steps:\n",
      "Information Retrieval Evaluation of the model on the  dataset in epoch 1.0 after 23 steps:\n",
      "INFO:sentence_transformers.evaluation.InformationRetrievalEvaluator:Queries: 222\n",
      "Queries: 222\n",
      "INFO:sentence_transformers.evaluation.InformationRetrievalEvaluator:Corpus: 222\n",
      "\n",
      "Corpus: 222\n",
      "\n",
      "INFO:sentence_transformers.evaluation.InformationRetrievalEvaluator:Score-Function: cosine\n",
      "Score-Function: cosine\n",
      "INFO:sentence_transformers.evaluation.InformationRetrievalEvaluator:Accuracy@1: 54.95%\n",
      "Accuracy@1: 54.95%\n",
      "INFO:sentence_transformers.evaluation.InformationRetrievalEvaluator:Accuracy@3: 68.02%\n",
      "Accuracy@3: 68.02%\n",
      "INFO:sentence_transformers.evaluation.InformationRetrievalEvaluator:Accuracy@5: 72.52%\n",
      "Accuracy@5: 72.52%\n",
      "INFO:sentence_transformers.evaluation.InformationRetrievalEvaluator:Accuracy@10: 77.93%\n",
      "Accuracy@10: 77.93%\n",
      "INFO:sentence_transformers.evaluation.InformationRetrievalEvaluator:Precision@1: 54.95%\n",
      "Precision@1: 54.95%\n",
      "INFO:sentence_transformers.evaluation.InformationRetrievalEvaluator:Precision@3: 22.67%\n",
      "Precision@3: 22.67%\n",
      "INFO:sentence_transformers.evaluation.InformationRetrievalEvaluator:Precision@5: 14.50%\n",
      "Precision@5: 14.50%\n",
      "INFO:sentence_transformers.evaluation.InformationRetrievalEvaluator:Precision@10: 7.79%\n",
      "Precision@10: 7.79%\n",
      "INFO:sentence_transformers.evaluation.InformationRetrievalEvaluator:Recall@1: 54.95%\n",
      "Recall@1: 54.95%\n",
      "INFO:sentence_transformers.evaluation.InformationRetrievalEvaluator:Recall@3: 68.02%\n",
      "Recall@3: 68.02%\n",
      "INFO:sentence_transformers.evaluation.InformationRetrievalEvaluator:Recall@5: 72.52%\n",
      "Recall@5: 72.52%\n",
      "INFO:sentence_transformers.evaluation.InformationRetrievalEvaluator:Recall@10: 77.93%\n",
      "Recall@10: 77.93%\n",
      "INFO:sentence_transformers.evaluation.InformationRetrievalEvaluator:MRR@10: 0.6243\n",
      "MRR@10: 0.6243\n",
      "INFO:sentence_transformers.evaluation.InformationRetrievalEvaluator:NDCG@10: 0.6619\n",
      "NDCG@10: 0.6619\n",
      "INFO:sentence_transformers.evaluation.InformationRetrievalEvaluator:MAP@100: 0.6327\n",
      "MAP@100: 0.6327\n",
      "INFO:sentence_transformers.SentenceTransformer:Save model to finetuned-sentence-transformers/finetuned-paraphrase-multilingual-MiniLM-L12-v2_gpt-35-turbo_temperature_07_dataset\n",
      "Save model to finetuned-sentence-transformers/finetuned-paraphrase-multilingual-MiniLM-L12-v2_gpt-35-turbo_temperature_07_dataset\n",
      "INFO:sentence_transformers.evaluation.InformationRetrievalEvaluator:Information Retrieval Evaluation of the model on the  dataset in epoch 2.0 after 46 steps:\n",
      "Information Retrieval Evaluation of the model on the  dataset in epoch 2.0 after 46 steps:\n",
      "INFO:sentence_transformers.evaluation.InformationRetrievalEvaluator:Queries: 222\n",
      "Queries: 222\n",
      "INFO:sentence_transformers.evaluation.InformationRetrievalEvaluator:Corpus: 222\n",
      "\n",
      "Corpus: 222\n",
      "\n",
      "INFO:sentence_transformers.evaluation.InformationRetrievalEvaluator:Score-Function: cosine\n",
      "Score-Function: cosine\n",
      "INFO:sentence_transformers.evaluation.InformationRetrievalEvaluator:Accuracy@1: 55.86%\n",
      "Accuracy@1: 55.86%\n",
      "INFO:sentence_transformers.evaluation.InformationRetrievalEvaluator:Accuracy@3: 71.17%\n",
      "Accuracy@3: 71.17%\n",
      "INFO:sentence_transformers.evaluation.InformationRetrievalEvaluator:Accuracy@5: 75.68%\n",
      "Accuracy@5: 75.68%\n",
      "INFO:sentence_transformers.evaluation.InformationRetrievalEvaluator:Accuracy@10: 81.98%\n",
      "Accuracy@10: 81.98%\n",
      "INFO:sentence_transformers.evaluation.InformationRetrievalEvaluator:Precision@1: 55.86%\n",
      "Precision@1: 55.86%\n",
      "INFO:sentence_transformers.evaluation.InformationRetrievalEvaluator:Precision@3: 23.72%\n",
      "Precision@3: 23.72%\n",
      "INFO:sentence_transformers.evaluation.InformationRetrievalEvaluator:Precision@5: 15.14%\n",
      "Precision@5: 15.14%\n",
      "INFO:sentence_transformers.evaluation.InformationRetrievalEvaluator:Precision@10: 8.20%\n",
      "Precision@10: 8.20%\n",
      "INFO:sentence_transformers.evaluation.InformationRetrievalEvaluator:Recall@1: 55.86%\n",
      "Recall@1: 55.86%\n",
      "INFO:sentence_transformers.evaluation.InformationRetrievalEvaluator:Recall@3: 71.17%\n",
      "Recall@3: 71.17%\n",
      "INFO:sentence_transformers.evaluation.InformationRetrievalEvaluator:Recall@5: 75.68%\n",
      "Recall@5: 75.68%\n",
      "INFO:sentence_transformers.evaluation.InformationRetrievalEvaluator:Recall@10: 81.98%\n",
      "Recall@10: 81.98%\n",
      "INFO:sentence_transformers.evaluation.InformationRetrievalEvaluator:MRR@10: 0.6450\n",
      "MRR@10: 0.6450\n",
      "INFO:sentence_transformers.evaluation.InformationRetrievalEvaluator:NDCG@10: 0.6872\n",
      "NDCG@10: 0.6872\n",
      "INFO:sentence_transformers.evaluation.InformationRetrievalEvaluator:MAP@100: 0.6516\n",
      "MAP@100: 0.6516\n",
      "INFO:sentence_transformers.SentenceTransformer:Save model to finetuned-sentence-transformers/finetuned-paraphrase-multilingual-MiniLM-L12-v2_gpt-35-turbo_temperature_07_dataset\n",
      "Save model to finetuned-sentence-transformers/finetuned-paraphrase-multilingual-MiniLM-L12-v2_gpt-35-turbo_temperature_07_dataset\n",
      "INFO:sentence_transformers.SentenceTransformer:Load pretrained SentenceTransformer: finetuned-sentence-transformers/finetuned-paraphrase-multilingual-MiniLM-L12-v2_gpt-35-turbo_temperature_07_dataset\n",
      "Load pretrained SentenceTransformer: finetuned-sentence-transformers/finetuned-paraphrase-multilingual-MiniLM-L12-v2_gpt-35-turbo_temperature_07_dataset\n"
     ]
    },
    {
     "data": {
      "text/plain": [
       "HuggingFaceEmbedding(model_name='finetuned-sentence-transformers/finetuned-paraphrase-multilingual-MiniLM-L12-v2_gpt-35-turbo_temperature_07_dataset', embed_batch_size=10, callback_manager=<llama_index.core.callbacks.base.CallbackManager object at 0x326a9a1d0>, num_workers=None, embeddings_cache=None, max_length=128, normalize=True, query_instruction=None, text_instruction=None, cache_folder=None, show_progress_bar=False)"
      ]
     },
     "execution_count": 15,
     "metadata": {},
     "output_type": "execute_result"
    }
   ],
   "source": [
    "from llama_index.finetuning import SentenceTransformersFinetuneEngine\n",
    "from utils.utils_embedding import load_qa_dataset\n",
    "\n",
    "dataset_name = \"QA/gpt-35-turbo_temperature_07_dataset.json\"\n",
    "model_name = \"sentence-transformers/paraphrase-multilingual-MiniLM-L12-v2\"\n",
    "model_output_path_name = f\"finetuned-sentence-transformers/finetuned-paraphrase-multilingual-MiniLM-L12-v2_{dataset_name.split('/')[-1].split('.')[0]}\"\n",
    "\n",
    "def run_finetuning(dataset_name, model_name, model_output_path_name):\n",
    "    \"\"\" \n",
    "    Finetune the Sentence Transformers model on the specified dataset.\n",
    "    \"\"\"\n",
    "    qa_dataset = load_qa_dataset(dataset_name)\n",
    "    finetune_engine = SentenceTransformersFinetuneEngine(\n",
    "                                                        qa_dataset,\n",
    "                                                        model_id=model_name,\n",
    "                                                        model_output_path=model_output_path_name,\n",
    "                                                        val_dataset=qa_dataset,\n",
    "                                                        )\n",
    "    finetune_engine.finetune()\n",
    "    finetuned_embed_model = finetune_engine.get_finetuned_model()\n",
    "    return finetuned_embed_model\n",
    "\n",
    "finetuned_embed_model = run_finetuning(dataset_name, model_name, model_output_path_name)\n",
    "finetuned_embed_model"
   ]
  },
  {
   "cell_type": "code",
   "execution_count": 12,
   "id": "a0447f82",
   "metadata": {},
   "outputs": [
    {
     "name": "stderr",
     "output_type": "stream",
     "text": [
      "\u001b[32m2025-07-22 16:08:38.776\u001b[0m | \u001b[1mINFO    \u001b[0m | \u001b[36mutils.utils_embedding\u001b[0m:\u001b[36mevaluate_different_top_k\u001b[0m:\u001b[36m160\u001b[0m - \u001b[1mEvaluating for top_k=1\u001b[0m\n"
     ]
    },
    {
     "name": "stdout",
     "output_type": "stream",
     "text": [
      "Some nodes are missing content, skipping them...\n"
     ]
    },
    {
     "name": "stderr",
     "output_type": "stream",
     "text": [
      "Generating embeddings: 100%|██████████| 258/258 [00:01<00:00, 221.74it/s]\n",
      "100%|██████████| 260/260 [00:03<00:00, 77.42it/s]\n",
      "\u001b[32m2025-07-22 16:08:43.324\u001b[0m | \u001b[1mINFO    \u001b[0m | \u001b[36mutils.utils_embedding\u001b[0m:\u001b[36mevaluate_different_top_k\u001b[0m:\u001b[36m160\u001b[0m - \u001b[1mEvaluating for top_k=3\u001b[0m\n"
     ]
    },
    {
     "name": "stdout",
     "output_type": "stream",
     "text": [
      "Some nodes are missing content, skipping them...\n"
     ]
    },
    {
     "name": "stderr",
     "output_type": "stream",
     "text": [
      "Generating embeddings: 100%|██████████| 258/258 [00:01<00:00, 224.89it/s]\n",
      "100%|██████████| 260/260 [00:03<00:00, 76.13it/s]\n",
      "\u001b[32m2025-07-22 16:08:47.902\u001b[0m | \u001b[1mINFO    \u001b[0m | \u001b[36mutils.utils_embedding\u001b[0m:\u001b[36mevaluate_different_top_k\u001b[0m:\u001b[36m160\u001b[0m - \u001b[1mEvaluating for top_k=5\u001b[0m\n"
     ]
    },
    {
     "name": "stdout",
     "output_type": "stream",
     "text": [
      "Some nodes are missing content, skipping them...\n"
     ]
    },
    {
     "name": "stderr",
     "output_type": "stream",
     "text": [
      "Generating embeddings: 100%|██████████| 258/258 [00:01<00:00, 228.66it/s]\n",
      "100%|██████████| 260/260 [00:03<00:00, 78.36it/s]\n",
      "\u001b[32m2025-07-22 16:08:52.365\u001b[0m | \u001b[1mINFO    \u001b[0m | \u001b[36mutils.utils_embedding\u001b[0m:\u001b[36mevaluate_different_top_k\u001b[0m:\u001b[36m160\u001b[0m - \u001b[1mEvaluating for top_k=10\u001b[0m\n"
     ]
    },
    {
     "name": "stdout",
     "output_type": "stream",
     "text": [
      "Some nodes are missing content, skipping them...\n"
     ]
    },
    {
     "name": "stderr",
     "output_type": "stream",
     "text": [
      "Generating embeddings: 100%|██████████| 258/258 [00:01<00:00, 218.44it/s]\n",
      "100%|██████████| 260/260 [00:03<00:00, 78.45it/s]\n",
      "\u001b[32m2025-07-22 16:08:56.875\u001b[0m | \u001b[1mINFO    \u001b[0m | \u001b[36mutils.utils_embedding\u001b[0m:\u001b[36mevaluate_different_top_k\u001b[0m:\u001b[36m160\u001b[0m - \u001b[1mEvaluating for top_k=20\u001b[0m\n"
     ]
    },
    {
     "name": "stdout",
     "output_type": "stream",
     "text": [
      "Some nodes are missing content, skipping them...\n"
     ]
    },
    {
     "name": "stderr",
     "output_type": "stream",
     "text": [
      "Generating embeddings: 100%|██████████| 258/258 [00:01<00:00, 228.33it/s]\n",
      "100%|██████████| 260/260 [00:03<00:00, 76.99it/s]\n"
     ]
    }
   ],
   "source": [
    "df_results_finetuning = evaluate_different_top_k(it_dataset, finetuned_embed_model, list_top_k)"
   ]
  },
  {
   "cell_type": "code",
   "execution_count": 29,
   "id": "fa00b956",
   "metadata": {},
   "outputs": [
    {
     "data": {
      "image/png": "[encoded data removed]",
      "text/plain": [
       "<Figure size 640x480 with 1 Axes>"
      ]
     },
     "metadata": {},
     "output_type": "display_data"
    }
   ],
   "source": [
    "sns.lineplot(data=df_results_no_finetuning, x=\"top_k\", y=\"is_hit\", color=\"gray\", linestyle='--')\n",
    "sns.lineplot(data=df_results_no_finetuning, x=\"top_k\", y=\"mrr\", color=\"gray\", linestyle='--')\n",
    "sns.scatterplot(data=df_results_no_finetuning, x=\"top_k\", y=\"is_hit\", color=\"gray\", s=100, label=f\"Hit Rate Scores (No Fine-tuning)\", marker='o')\n",
    "sns.scatterplot(data=df_results_no_finetuning, x=\"top_k\", y=\"mrr\", color=\"gray\", s=100, label=f\"MRR Scores (No Fine-tuning)\", marker='o')\n",
    "\n",
    "sns.lineplot(data=df_results_finetuning, x=\"top_k\", y=\"is_hit\", color=\"blue\", linestyle='--')\n",
    "sns.lineplot(data=df_results_finetuning, x=\"top_k\", y=\"mrr\", color=\"blue\", linestyle='--')\n",
    "sns.scatterplot(data=df_results_finetuning, x=\"top_k\", y=\"is_hit\", color=\"blue\", s=100, label=f\"Hit Rate Scores (Fine-tuning)\", marker='o')\n",
    "sns.scatterplot(data=df_results_finetuning, x=\"top_k\", y=\"mrr\", color=\"blue\", s=100, label=f\"MRR Scores (Fine-tuning)\", marker='o')\n",
    "\n",
    "plt.title(\"Results for different top-k: comparing no fine-tuning vs fine-tuning\")\n",
    "plt.xlabel(\"Top-k\")\n",
    "plt.ylabel(\"Metric of Interest\")\n",
    "plt.xticks(ticks=df_results_no_finetuning[\"top_k\"].unique())\n",
    "plt.grid(True)\n",
    "plt.tight_layout()\n",
    "plt.show()"
   ]
  }
 ],
 "metadata": {
  "kernelspec": {
   "display_name": "agent",
   "language": "python",
   "name": "python3"
  },
  "language_info": {
   "codemirror_mode": {
    "name": "ipython",
    "version": 3
   },
   "file_extension": ".py",
   "mimetype": "text/x-python",
   "name": "python",
   "nbconvert_exporter": "python",
   "pygments_lexer": "ipython3",
   "version": "3.11.13"
  }
 },
 "nbformat": 4,
 "nbformat_minor": 5
}
