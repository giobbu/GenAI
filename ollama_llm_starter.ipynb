{
 "cells": [
  {
   "cell_type": "markdown",
   "id": "a265689a",
   "metadata": {},
   "source": [
    "# Ollama Finetuning\n",
    "* transformers fix: pip install transformers==2.4.1"
   ]
  },
  {
   "cell_type": "code",
   "execution_count": 84,
   "id": "55002a4b",
   "metadata": {},
   "outputs": [],
   "source": [
    "from llama_index.llms.ollama import Ollama\n",
    "from llama_index.core.bridge.pydantic import BaseModel\n",
    "from loguru import logger"
   ]
  },
  {
   "cell_type": "markdown",
   "id": "2adceffd",
   "metadata": {},
   "source": [
    "## config"
   ]
  },
  {
   "cell_type": "code",
   "execution_count": 85,
   "id": "507132d6",
   "metadata": {},
   "outputs": [],
   "source": [
    "class configLLM:\n",
    "    model_name = \"llama3.1:latest\"\n",
    "    request_timeout = 240.0\n",
    "    json_mode= True\n",
    "    context_window = 8000"
   ]
  },
  {
   "cell_type": "markdown",
   "id": "3b73e6de",
   "metadata": {},
   "source": [
    "## set LLM"
   ]
  },
  {
   "cell_type": "code",
   "execution_count": 86,
   "id": "c4889082",
   "metadata": {},
   "outputs": [],
   "source": [
    "params = configLLM()\n",
    "\n",
    "llm = Ollama(\n",
    "    model=params.model_name,\n",
    "    request_timeout=params.request_timeout,\n",
    "    context_window=params.context_window,\n",
    "    json_mode=params.json_mode\n",
    ")"
   ]
  },
  {
   "cell_type": "markdown",
   "id": "10a642dd",
   "metadata": {},
   "source": [
    "## structured output"
   ]
  },
  {
   "cell_type": "code",
   "execution_count": 87,
   "id": "f1c1af40",
   "metadata": {},
   "outputs": [],
   "source": [
    "from pydantic import BaseModel, Field\n",
    "\n",
    "class StructuredOutput(BaseModel):\n",
    "    \"\"\"\n",
    "    Example of structured output\n",
    "    \"\"\"\n",
    "    answer: str = Field(..., \n",
    "                        description=\"The answer to the question.\")\n",
    "    confidence: float = Field(...,\n",
    "                            description=\"Confidence value between 0-1 of the correctness of the result.\",\n",
    "    )\n",
    "    confidence_explanation: str = Field(\n",
    "        ..., description=\"Explanation for the confidence score\"\n",
    "    )\n",
    "    sources: str = Field(\n",
    "        ..., description=\"Sources used to generate the answer, if any.\"\n",
    "    )\n",
    "    model_name: str = Field(\n",
    "        ..., description=\"Name of the model used to generate the answer.\"\n",
    "    )\n",
    "\n",
    "structured_llm = llm.as_structured_llm(StructuredOutput)"
   ]
  },
  {
   "cell_type": "code",
   "execution_count": 88,
   "id": "e64c18b8",
   "metadata": {},
   "outputs": [],
   "source": [
    "resp = structured_llm.complete(\"What is Apple?\")"
   ]
  },
  {
   "cell_type": "code",
   "execution_count": 89,
   "id": "c27c78cb",
   "metadata": {},
   "outputs": [],
   "source": [
    "import json\n",
    "\n",
    "str_resp = resp.model_dump_json()"
   ]
  },
  {
   "cell_type": "code",
   "execution_count": 90,
   "id": "e0992377",
   "metadata": {},
   "outputs": [
    {
     "name": "stderr",
     "output_type": "stream",
     "text": [
      "\u001b[32m2025-07-14 17:17:24.967\u001b[0m | \u001b[1mINFO    \u001b[0m | \u001b[36m__main__\u001b[0m:\u001b[36m<module>\u001b[0m:\u001b[36m6\u001b[0m - \u001b[1mResponse: {'text': '{\"answer\":\"Apple can refer to different things, but here are some of the most common interpretations: } * The fruit: An apple is a sweet and juicy type of fruit that grows on trees ( genus Malus). * Apple Inc.: A multinational technology company that designs, manufactures, and markets consumer electronics, computer software, and online services. Apple is known for its iconic products such as iPhones, iPads, Macs, iPods, iTunes, Safari, iCloud, and more. The company was founded on April 1, 1976, by Steve Jobs, Steve Wozniak, and Ronald Wayne in Cupertino, California. * Apple Records: A British record label that was founded in 1968 by the Beatles and their manager Brian Epstein. The label released music from various artists, including the Beatles themselves, John Lennon, Paul McCartney, George Harrison, and Ringo Starr. * Apple Corps: A multimedia company created in 2007 by Apple Inc. to manage the Beatles\\' music catalog and other related intellectual property.\",\"confidence\":0.8,\"confidence_explanation\":\"The answer is a bit ambiguous as \\'Apple\\' can refer to different things depending on the context.\",\"sources\":\":[\",\"model_name\":\"wiki_data_source\"}', 'additional_kwargs': {}, 'raw': {'answer': \"Apple can refer to different things, but here are some of the most common interpretations: } * The fruit: An apple is a sweet and juicy type of fruit that grows on trees ( genus Malus). * Apple Inc.: A multinational technology company that designs, manufactures, and markets consumer electronics, computer software, and online services. Apple is known for its iconic products such as iPhones, iPads, Macs, iPods, iTunes, Safari, iCloud, and more. The company was founded on April 1, 1976, by Steve Jobs, Steve Wozniak, and Ronald Wayne in Cupertino, California. * Apple Records: A British record label that was founded in 1968 by the Beatles and their manager Brian Epstein. The label released music from various artists, including the Beatles themselves, John Lennon, Paul McCartney, George Harrison, and Ringo Starr. * Apple Corps: A multimedia company created in 2007 by Apple Inc. to manage the Beatles' music catalog and other related intellectual property.\", 'confidence': 0.8, 'confidence_explanation': \"The answer is a bit ambiguous as 'Apple' can refer to different things depending on the context.\", 'sources': ':[', 'model_name': 'wiki_data_source'}, 'logprobs': None, 'delta': None}\u001b[0m\n"
     ]
    }
   ],
   "source": [
    "from docx import Document\n",
    "from docx.shared import Pt\n",
    "\n",
    "# convert to dict\n",
    "dict_resp = json.loads(str_resp)\n",
    "logger.info(f\"Response: {dict_resp}\")"
   ]
  },
  {
   "cell_type": "code",
   "execution_count": 91,
   "id": "57754ab9",
   "metadata": {},
   "outputs": [],
   "source": [
    "text = dict_resp[\"text\"]\n",
    "# fom string to dict\n",
    "text_dict = json.loads(text)"
   ]
  },
  {
   "cell_type": "code",
   "execution_count": null,
   "id": "d659196c",
   "metadata": {},
   "outputs": [
    {
     "ename": "TypeError",
     "evalue": "Document.add_heading() got an unexpected keyword argument 'center'",
     "output_type": "error",
     "traceback": [
      "\u001b[31m---------------------------------------------------------------------------\u001b[39m",
      "\u001b[31mTypeError\u001b[39m                                 Traceback (most recent call last)",
      "\u001b[36mCell\u001b[39m\u001b[36m \u001b[39m\u001b[32mIn[92]\u001b[39m\u001b[32m, line 45\u001b[39m\n\u001b[32m     42\u001b[39m     \u001b[38;5;66;03m# save the document overwrite\u001b[39;00m\n\u001b[32m     43\u001b[39m     doc.save(filename)\n\u001b[32m---> \u001b[39m\u001b[32m45\u001b[39m create_document(text_dict)\n",
      "\u001b[36mCell\u001b[39m\u001b[36m \u001b[39m\u001b[32mIn[92]\u001b[39m\u001b[32m, line 28\u001b[39m, in \u001b[36mcreate_document\u001b[39m\u001b[34m(text_dict, filename)\u001b[39m\n\u001b[32m     25\u001b[39m doc.add_heading(\u001b[33m'\u001b[39m\u001b[33mLLM Model Name\u001b[39m\u001b[33m'\u001b[39m, level=\u001b[32m2\u001b[39m)\n\u001b[32m     26\u001b[39m doc.add_paragraph(\u001b[33mf\u001b[39m\u001b[33m\"\u001b[39m\u001b[38;5;132;01m{\u001b[39;00mtext_dict[\u001b[33m'\u001b[39m\u001b[33mmodel_name\u001b[39m\u001b[33m'\u001b[39m]\u001b[38;5;132;01m}\u001b[39;00m\u001b[33m\"\u001b[39m)\n\u001b[32m---> \u001b[39m\u001b[32m28\u001b[39m doc.add_heading(\u001b[33m'\u001b[39m\u001b[33mLevel of Satisfaction with the Answer\u001b[39m\u001b[33m'\u001b[39m, level=\u001b[32m2\u001b[39m, center=\u001b[38;5;28;01mTrue\u001b[39;00m)\n\u001b[32m     29\u001b[39m table = doc.add_table(rows=\u001b[32m1\u001b[39m, cols=\u001b[32m5\u001b[39m)\n\u001b[32m     30\u001b[39m table.style = \u001b[33m'\u001b[39m\u001b[33mTable Grid\u001b[39m\u001b[33m'\u001b[39m\n",
      "\u001b[31mTypeError\u001b[39m: Document.add_heading() got an unexpected keyword argument 'center'"
     ]
    }
   ],
   "source": [
    "def create_document(text_dict, filename='llm_response.docx'):\n",
    "    \"\"\"\n",
    "    Create a Word document with the structured response from the LLM.\n",
    "    \"\"\"\n",
    "\n",
    "    doc = Document()\n",
    "\n",
    "    doc.add_heading('LLM structured Response', level=1)\n",
    "\n",
    "    doc.add_heading('Answer', level=2)\n",
    "    doc.add_paragraph(f\"{text_dict['answer']}\")\n",
    "\n",
    "    doc.add_heading('LLM Confidence Score', level=2)\n",
    "    doc.add_paragraph(f\"{text_dict['confidence']}\")\n",
    "\n",
    "    doc.add_heading('LLM Confidence Explanation', level=2)\n",
    "    doc.add_paragraph(f\"{text_dict['confidence_explanation']}\")\n",
    "\n",
    "    doc.add_heading('LLM Sources', level=2)\n",
    "    if text_dict.get('sources'):\n",
    "        doc.add_paragraph(f\"{text_dict['sources']}\")\n",
    "    else:\n",
    "        doc.add_paragraph(\"No sources provided.\")\n",
    "\n",
    "    doc.add_heading('LLM Model Name', level=2)\n",
    "    doc.add_paragraph(f\"{text_dict['model_name']}\")\n",
    "\n",
    "    doc.add_heading('Level of Satisfaction with the Answer', level=2)\n",
    "    table = doc.add_table(rows=1, cols=5)\n",
    "    table.style = 'Table Grid'\n",
    "    table.autofit = False\n",
    "    table.allow_autofit = False\n",
    "    for row in table.rows:\n",
    "        for cell in row.cells:\n",
    "            cell.width = Pt(100)\n",
    "    table.cell(0, 0).text = '0%'\n",
    "    table.cell(0, 1).text = '25%'\n",
    "    table.cell(0, 2).text = '50%'\n",
    "    table.cell(0, 3).text = '75%'\n",
    "    table.cell(0, 4).text = '100%'\n",
    "\n",
    "    # save the document overwrite\n",
    "    doc.save(filename)\n",
    "\n",
    "create_document(text_dict)"
   ]
  }
 ],
 "metadata": {
  "kernelspec": {
   "display_name": "agent",
   "language": "python",
   "name": "python3"
  },
  "language_info": {
   "codemirror_mode": {
    "name": "ipython",
    "version": 3
   },
   "file_extension": ".py",
   "mimetype": "text/x-python",
   "name": "python",
   "nbconvert_exporter": "python",
   "pygments_lexer": "ipython3",
   "version": "3.11.13"
  }
 },
 "nbformat": 4,
 "nbformat_minor": 5
}
