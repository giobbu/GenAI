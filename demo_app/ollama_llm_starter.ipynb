{
 "cells": [
  {
   "cell_type": "markdown",
   "id": "a265689a",
   "metadata": {},
   "source": [
    "# Ollama Finetuning\n",
    "* transformers fix: pip install transformers==2.4.1"
   ]
  },
  {
   "cell_type": "code",
   "execution_count": 6,
   "id": "55002a4b",
   "metadata": {},
   "outputs": [],
   "source": [
    "from llama_index.llms.ollama import Ollama"
   ]
  },
  {
   "cell_type": "markdown",
   "id": "2adceffd",
   "metadata": {},
   "source": [
    "## config"
   ]
  },
  {
   "cell_type": "code",
   "execution_count": null,
   "id": "507132d6",
   "metadata": {},
   "outputs": [],
   "source": [
    "from setting import configLLM\n",
    "\n",
    "params = configLLM()"
   ]
  },
  {
   "cell_type": "markdown",
   "id": "3b73e6de",
   "metadata": {},
   "source": [
    "## set llm model"
   ]
  },
  {
   "cell_type": "code",
   "execution_count": 8,
   "id": "c4889082",
   "metadata": {},
   "outputs": [],
   "source": [
    "llm = Ollama(model=params.model_name, \n",
    "             request_timeout=params.request_timeout, \n",
    "             context_window=params.context_window, \n",
    "             json_mode=params.json_mode)"
   ]
  },
  {
   "cell_type": "markdown",
   "id": "10a642dd",
   "metadata": {},
   "source": [
    "## structured output"
   ]
  },
  {
   "cell_type": "code",
   "execution_count": 9,
   "id": "f1c1af40",
   "metadata": {},
   "outputs": [],
   "source": [
    "from utils import StructuredOutput\n",
    "\n",
    "structured_llm = llm.as_structured_llm(StructuredOutput)"
   ]
  },
  {
   "cell_type": "markdown",
   "id": "a62b5426",
   "metadata": {},
   "source": [
    "## generate docx"
   ]
  },
  {
   "cell_type": "code",
   "execution_count": null,
   "id": "d2630832",
   "metadata": {},
   "outputs": [
    {
     "data": {
      "text/plain": [
       "{'answer': 'Apple Inc. is a multinational technology company that designs, manufactures, and markets consumer electronics, software, and online services.',\n",
       " 'confidence': 1.0,\n",
       " 'confidence_explanation': 'This answer seems accurate and clear based on the available information.',\n",
       " 'sources': 'https://en.wikipedia.org/wiki/Apple_Inc., https://www.apple.com/',\n",
       " 'model_name': 'answer'}"
      ]
     },
     "execution_count": 10,
     "metadata": {},
     "output_type": "execute_result"
    }
   ],
   "source": [
    "from utils import generate_response\n",
    "\n",
    "text_dict =  generate_response(query=\"What is Apple?\",\n",
    "                               llm=structured_llm)\n",
    "text_dict"
   ]
  }
 ],
 "metadata": {
  "kernelspec": {
   "display_name": "agent",
   "language": "python",
   "name": "python3"
  },
  "language_info": {
   "codemirror_mode": {
    "name": "ipython",
    "version": 3
   },
   "file_extension": ".py",
   "mimetype": "text/x-python",
   "name": "python",
   "nbconvert_exporter": "python",
   "pygments_lexer": "ipython3",
   "version": "3.11.13"
  }
 },
 "nbformat": 4,
 "nbformat_minor": 5
}
